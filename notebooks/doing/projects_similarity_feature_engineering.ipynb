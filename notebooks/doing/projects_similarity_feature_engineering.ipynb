{
 "cells": [
  {
   "cell_type": "markdown",
   "metadata": {},
   "source": [
    "# Similaridade de projetos - engenharia de features\n",
    "\n",
    "Issue: [#244](https://github.com/lappis-unb/salic-ml/issues/244)\n",
    "\n",
    "## Objetivos\n",
    "\n",
    "Documentar a Engenharia de Features para Similaridade de projetos. A similaridade aqui é em termos de estrutura: quais itens, segmentos e áreas."
   ]
  },
  {
   "cell_type": "markdown",
   "metadata": {},
   "source": [
    "### Features\n",
    "\n",
    "- Segmento\n",
    "- Area\n",
    "- Produtos culturais. Considerar apenas idProduto != 0, pois idProduto são itens de \"administração de projeto\" como: refeição, hospedagem, passagem aérea, postagem, contador, combustível, salário\n",
    "\n",
    "pronac = '143251'\n",
    "\n",
    "**Considerando os produtos**\n",
    "\n",
    "1 - produtos\n",
    "\n",
    "2 - produtos, segmento\n",
    "\n",
    "3 - produtos, area, segmento\n",
    "\n",
    "É importante considerar que se os segmentos são iguais, a probabilidade das áreas serem iguais é quase 1 (`(s - 1) / s`, onde `s = numero_de_segmentos`)\n",
    "\n",
    "**Considerando os itens**\n",
    "\n",
    "1 - conjunto de itens (id de itens)\n",
    "\n",
    "2 - conjunto de itens, segmento\n",
    "\n",
    "3 - conjunto de itens, área, segmento\n"
   ]
  },
  {
   "cell_type": "markdown",
   "metadata": {},
   "source": [
    "### Algoritmos\n",
    "\n",
    "1 - [Jaccard index](https://en.wikipedia.org/wiki/Jaccard_index)\n",
    "\n",
    "2 - Jaccard index com pesos\n",
    "\n",
    "3 - [tf-idf](https://en.wikipedia.org/wiki/Tf%E2%80%93idf)"
   ]
  },
  {
   "cell_type": "markdown",
   "metadata": {},
   "source": [
    "---\n",
    "## Preparação\n",
    "\n",
    "**Dataset sql**\n",
    "\n",
    "`projects_similarity.sql`\n",
    "\n",
    "Breve descrição de quais dados serão lidos e utilizados. A partir daqui, todas as seções devem ser iniciadas por uma barra horizontal (3 hífens, conforme a linha 1 desta célula), seguido de um header 2 (##) com o nome da seção e então a descrição da seção. As demais subseções devem ser declaradas com um header 4 (####) seguido de uma descrição, que é opcional.\n",
    "\n",
    "Abaixo é mostrado um exemplo de utilização da seção de preparação."
   ]
  },
  {
   "cell_type": "markdown",
   "metadata": {},
   "source": [
    "#### Importando módulos e definindo constantes"
   ]
  },
  {
   "cell_type": "code",
   "execution_count": 1,
   "metadata": {},
   "outputs": [
    {
     "name": "stdout",
     "output_type": "stream",
     "text": [
      "Populating the interactive namespace from numpy and matplotlib\n"
     ]
    }
   ],
   "source": [
    "%pylab inline\n",
    "import scipy\n",
    "import pandas as pd\n",
    "import numpy as np\n",
    "import matplotlib.pyplot as plt \n",
    "\n",
    "from core.utils.read_csv import read_csv"
   ]
  },
  {
   "cell_type": "markdown",
   "metadata": {},
   "source": [
    "#### Carregando e mostrando dataset a ser utilizado ao longo do estudo"
   ]
  },
  {
   "cell_type": "code",
   "execution_count": 2,
   "metadata": {
    "scrolled": true
   },
   "outputs": [
    {
     "data": {
      "text/plain": [
       "idPronac                int64\n",
       "PRONAC                  int64\n",
       "idPlanilhaAprovacao     int64\n",
       "Item                   object\n",
       "idPlanilhaItens         int64\n",
       "idArea                  int64\n",
       "Area                   object\n",
       "idSegmento             object\n",
       "Segmento               object\n",
       "idProduto               int64\n",
       "Produto                object\n",
       "DataProjeto            object\n",
       "dtype: object"
      ]
     },
     "metadata": {},
     "output_type": "display_data"
    },
    {
     "data": {
      "text/html": [
       "<div>\n",
       "<style scoped>\n",
       "    .dataframe tbody tr th:only-of-type {\n",
       "        vertical-align: middle;\n",
       "    }\n",
       "\n",
       "    .dataframe tbody tr th {\n",
       "        vertical-align: top;\n",
       "    }\n",
       "\n",
       "    .dataframe thead th {\n",
       "        text-align: right;\n",
       "    }\n",
       "</style>\n",
       "<table border=\"1\" class=\"dataframe\">\n",
       "  <thead>\n",
       "    <tr style=\"text-align: right;\">\n",
       "      <th></th>\n",
       "      <th>idPronac</th>\n",
       "      <th>PRONAC</th>\n",
       "      <th>idPlanilhaAprovacao</th>\n",
       "      <th>Item</th>\n",
       "      <th>idPlanilhaItens</th>\n",
       "      <th>idArea</th>\n",
       "      <th>Area</th>\n",
       "      <th>idSegmento</th>\n",
       "      <th>Segmento</th>\n",
       "      <th>idProduto</th>\n",
       "      <th>Produto</th>\n",
       "      <th>DataProjeto</th>\n",
       "    </tr>\n",
       "  </thead>\n",
       "  <tbody>\n",
       "    <tr>\n",
       "      <th>0</th>\n",
       "      <td>114409</td>\n",
       "      <td>93242</td>\n",
       "      <td>37560</td>\n",
       "      <td>Remuneração para captação de recursos</td>\n",
       "      <td>5249</td>\n",
       "      <td>5</td>\n",
       "      <td>Patrimônio Cultural</td>\n",
       "      <td>51</td>\n",
       "      <td>História</td>\n",
       "      <td>0</td>\n",
       "      <td>Administracao do Projeto</td>\n",
       "      <td>2009-07-03 09:06:13</td>\n",
       "    </tr>\n",
       "    <tr>\n",
       "      <th>1</th>\n",
       "      <td>133865</td>\n",
       "      <td>110662</td>\n",
       "      <td>170118</td>\n",
       "      <td>Seguro (pessoas, obras e equipamentos - especi...</td>\n",
       "      <td>201</td>\n",
       "      <td>3</td>\n",
       "      <td>Música</td>\n",
       "      <td>34</td>\n",
       "      <td>Áreas Integradas</td>\n",
       "      <td>0</td>\n",
       "      <td>Administracao do Projeto</td>\n",
       "      <td>2011-01-25 08:47:38</td>\n",
       "    </tr>\n",
       "    <tr>\n",
       "      <th>2</th>\n",
       "      <td>118623</td>\n",
       "      <td>97348</td>\n",
       "      <td>296587</td>\n",
       "      <td>Seguro (pessoas, obras e equipamentos - especi...</td>\n",
       "      <td>201</td>\n",
       "      <td>5</td>\n",
       "      <td>Patrimônio Cultural</td>\n",
       "      <td>59</td>\n",
       "      <td>Artesanato/Folclore</td>\n",
       "      <td>0</td>\n",
       "      <td>Administracao do Projeto</td>\n",
       "      <td>2009-11-11 09:44:14</td>\n",
       "    </tr>\n",
       "    <tr>\n",
       "      <th>3</th>\n",
       "      <td>139598</td>\n",
       "      <td>116152</td>\n",
       "      <td>297365</td>\n",
       "      <td>Coordenação geral</td>\n",
       "      <td>3677</td>\n",
       "      <td>1</td>\n",
       "      <td>Artes Cênicas</td>\n",
       "      <td>11</td>\n",
       "      <td>Teatro</td>\n",
       "      <td>0</td>\n",
       "      <td>Administracao do Projeto</td>\n",
       "      <td>2011-07-11 10:57:08</td>\n",
       "    </tr>\n",
       "    <tr>\n",
       "      <th>4</th>\n",
       "      <td>171367</td>\n",
       "      <td>1311323</td>\n",
       "      <td>1125134</td>\n",
       "      <td>Remuneração para captação de recursos</td>\n",
       "      <td>5249</td>\n",
       "      <td>6</td>\n",
       "      <td>Humanidades</td>\n",
       "      <td>6C</td>\n",
       "      <td>Livros  ou obras de referência - valor Artístico</td>\n",
       "      <td>0</td>\n",
       "      <td>Administracao do Projeto</td>\n",
       "      <td>2013-12-05 10:57:54</td>\n",
       "    </tr>\n",
       "  </tbody>\n",
       "</table>\n",
       "</div>"
      ],
      "text/plain": [
       "   idPronac   PRONAC  idPlanilhaAprovacao  \\\n",
       "0    114409    93242                37560   \n",
       "1    133865   110662               170118   \n",
       "2    118623    97348               296587   \n",
       "3    139598   116152               297365   \n",
       "4    171367  1311323              1125134   \n",
       "\n",
       "                                                Item  idPlanilhaItens  idArea  \\\n",
       "0              Remuneração para captação de recursos             5249       5   \n",
       "1  Seguro (pessoas, obras e equipamentos - especi...              201       3   \n",
       "2  Seguro (pessoas, obras e equipamentos - especi...              201       5   \n",
       "3                                  Coordenação geral             3677       1   \n",
       "4              Remuneração para captação de recursos             5249       6   \n",
       "\n",
       "                  Area idSegmento  \\\n",
       "0  Patrimônio Cultural         51   \n",
       "1               Música         34   \n",
       "2  Patrimônio Cultural         59   \n",
       "3        Artes Cênicas         11   \n",
       "4          Humanidades         6C   \n",
       "\n",
       "                                           Segmento  idProduto  \\\n",
       "0                                          História          0   \n",
       "1                                  Áreas Integradas          0   \n",
       "2                               Artesanato/Folclore          0   \n",
       "3                                            Teatro          0   \n",
       "4  Livros  ou obras de referência - valor Artístico          0   \n",
       "\n",
       "                    Produto          DataProjeto  \n",
       "0  Administracao do Projeto  2009-07-03 09:06:13  \n",
       "1  Administracao do Projeto  2011-01-25 08:47:38  \n",
       "2  Administracao do Projeto  2009-11-11 09:44:14  \n",
       "3  Administracao do Projeto  2011-07-11 10:57:08  \n",
       "4  Administracao do Projeto  2013-12-05 10:57:54  "
      ]
     },
     "execution_count": 2,
     "metadata": {},
     "output_type": "execute_result"
    }
   ],
   "source": [
    "planilha_name = 'planilha_orcamentaria_similaridade.csv'\n",
    "df = read_csv(planilha_name)\n",
    "display(df.dtypes)\n",
    "df.head()"
   ]
  },
  {
   "cell_type": "markdown",
   "metadata": {},
   "source": [
    "### Extraindo features de produto\n",
    "\n",
    "**Features**:\n",
    "\n",
    "- idSegmento\n",
    "\n",
    "- idArea\n",
    "\n",
    "- produtos"
   ]
  },
  {
   "cell_type": "code",
   "execution_count": 3,
   "metadata": {
    "scrolled": true
   },
   "outputs": [
    {
     "data": {
      "text/html": [
       "<div>\n",
       "<style scoped>\n",
       "    .dataframe tbody tr th:only-of-type {\n",
       "        vertical-align: middle;\n",
       "    }\n",
       "\n",
       "    .dataframe tbody tr th {\n",
       "        vertical-align: top;\n",
       "    }\n",
       "\n",
       "    .dataframe thead th {\n",
       "        text-align: right;\n",
       "    }\n",
       "</style>\n",
       "<table border=\"1\" class=\"dataframe\">\n",
       "  <thead>\n",
       "    <tr style=\"text-align: right;\">\n",
       "      <th></th>\n",
       "      <th>PRONAC</th>\n",
       "      <th>idPronac</th>\n",
       "      <th>idSegmento</th>\n",
       "      <th>idArea</th>\n",
       "      <th>idProduto</th>\n",
       "      <th>idPlanilhaItens</th>\n",
       "    </tr>\n",
       "  </thead>\n",
       "  <tbody>\n",
       "    <tr>\n",
       "      <th>5</th>\n",
       "      <td>110667</td>\n",
       "      <td>133870</td>\n",
       "      <td>11</td>\n",
       "      <td>1</td>\n",
       "      <td>132</td>\n",
       "      <td>2743</td>\n",
       "    </tr>\n",
       "    <tr>\n",
       "      <th>6</th>\n",
       "      <td>110667</td>\n",
       "      <td>133870</td>\n",
       "      <td>11</td>\n",
       "      <td>1</td>\n",
       "      <td>132</td>\n",
       "      <td>178</td>\n",
       "    </tr>\n",
       "    <tr>\n",
       "      <th>15</th>\n",
       "      <td>110667</td>\n",
       "      <td>133870</td>\n",
       "      <td>11</td>\n",
       "      <td>1</td>\n",
       "      <td>132</td>\n",
       "      <td>201</td>\n",
       "    </tr>\n",
       "    <tr>\n",
       "      <th>19</th>\n",
       "      <td>112030</td>\n",
       "      <td>135253</td>\n",
       "      <td>41</td>\n",
       "      <td>4</td>\n",
       "      <td>100</td>\n",
       "      <td>3677</td>\n",
       "    </tr>\n",
       "    <tr>\n",
       "      <th>24</th>\n",
       "      <td>91102</td>\n",
       "      <td>112234</td>\n",
       "      <td>71</td>\n",
       "      <td>7</td>\n",
       "      <td>113</td>\n",
       "      <td>176</td>\n",
       "    </tr>\n",
       "  </tbody>\n",
       "</table>\n",
       "</div>"
      ],
      "text/plain": [
       "    PRONAC  idPronac idSegmento  idArea  idProduto  idPlanilhaItens\n",
       "5   110667    133870         11       1        132             2743\n",
       "6   110667    133870         11       1        132              178\n",
       "15  110667    133870         11       1        132              201\n",
       "19  112030    135253         41       4        100             3677\n",
       "24   91102    112234         71       7        113              176"
      ]
     },
     "metadata": {},
     "output_type": "display_data"
    }
   ],
   "source": [
    "PRODUCT_COLUMNS = ['PRONAC', 'idPronac', 'idSegmento', 'idArea', 'idProduto', 'idPlanilhaItens']\n",
    "df_products = df[df['idProduto'] != 0]\n",
    "df_products = df_products[PRODUCT_COLUMNS]\n",
    "\n",
    "display(df_products.head())"
   ]
  },
  {
   "cell_type": "code",
   "execution_count": 4,
   "metadata": {},
   "outputs": [
    {
     "name": "stdout",
     "output_type": "stream",
     "text": [
      "PRONAC = 90105\n",
      "idPronac = 111218\n",
      "id_segmento = 11\n",
      "id_area = 1\n",
      "products_unique = [19]\n",
      "products = [19 19 19 19 19 19 19 19 19 19 19 19 19 19 19 19 19 19 19 19 19 19 19 19\n",
      " 19 19 19 19 19 19 19 19 19 19 19 19 19 19 19 19 19 19 19 19 19 19 19 19\n",
      " 19 19 19 19 19 19 19]\n"
     ]
    }
   ],
   "source": [
    "products_group = df_products.groupby(['PRONAC'])\n",
    "\n",
    "for pronac, group in products_group:\n",
    "    id_segmento = group.iloc[0]['idSegmento']\n",
    "    id_area = group.iloc[0]['idArea']\n",
    "    id_pronac = group.iloc[0]['idPronac']\n",
    "    products_unique = group.idProduto.unique()\n",
    "    products = group.idProduto.values\n",
    "    \n",
    "    print('PRONAC = {}'.format(pronac))\n",
    "    print('idPronac = {}'.format(id_pronac))\n",
    "    print('id_segmento = {}'.format(id_segmento))\n",
    "    print('id_area = {}'.format(id_area))\n",
    "    print('products_unique = {}'.format(products_unique))\n",
    "    print('products = {}'.format(products))\n",
    "\n",
    "    \n",
    "    break"
   ]
  },
  {
   "cell_type": "markdown",
   "metadata": {},
   "source": [
    "### Segmentos mais comuns"
   ]
  },
  {
   "cell_type": "code",
   "execution_count": 5,
   "metadata": {
    "scrolled": true
   },
   "outputs": [
    {
     "data": {
      "text/html": [
       "<div>\n",
       "<style scoped>\n",
       "    .dataframe tbody tr th:only-of-type {\n",
       "        vertical-align: middle;\n",
       "    }\n",
       "\n",
       "    .dataframe tbody tr th {\n",
       "        vertical-align: top;\n",
       "    }\n",
       "\n",
       "    .dataframe thead th {\n",
       "        text-align: right;\n",
       "    }\n",
       "</style>\n",
       "<table border=\"1\" class=\"dataframe\">\n",
       "  <thead>\n",
       "    <tr style=\"text-align: right;\">\n",
       "      <th></th>\n",
       "      <th>idArea</th>\n",
       "    </tr>\n",
       "    <tr>\n",
       "      <th>idSegmento</th>\n",
       "      <th></th>\n",
       "    </tr>\n",
       "  </thead>\n",
       "  <tbody>\n",
       "    <tr>\n",
       "      <th>11</th>\n",
       "      <td>9793</td>\n",
       "    </tr>\n",
       "    <tr>\n",
       "      <th>31</th>\n",
       "      <td>4551</td>\n",
       "    </tr>\n",
       "    <tr>\n",
       "      <th>33</th>\n",
       "      <td>4338</td>\n",
       "    </tr>\n",
       "    <tr>\n",
       "      <th>4B</th>\n",
       "      <td>2659</td>\n",
       "    </tr>\n",
       "    <tr>\n",
       "      <th>12</th>\n",
       "      <td>2415</td>\n",
       "    </tr>\n",
       "  </tbody>\n",
       "</table>\n",
       "</div>"
      ],
      "text/plain": [
       "            idArea\n",
       "idSegmento        \n",
       "11            9793\n",
       "31            4551\n",
       "33            4338\n",
       "4B            2659\n",
       "12            2415"
      ]
     },
     "metadata": {},
     "output_type": "display_data"
    }
   ],
   "source": [
    "popular_segments = df[['PRONAC', 'idSegmento', 'idArea']].groupby(['PRONAC', 'idSegmento']).count()\n",
    "popular_segments = popular_segments.groupby('idSegmento').count().sort_values(by='idArea', ascending=False)\n",
    "display(popular_segments.head())"
   ]
  },
  {
   "cell_type": "markdown",
   "metadata": {},
   "source": [
    "# Distribuição do número de produtos por projeto\n",
    "\n",
    "A média do número de produtos culturais é de 2.5, portanto utilizar a similaridade de Jaccard apenas nestas features enviesa os resultados: muitos projetos serão muito parecidos."
   ]
  },
  {
   "cell_type": "code",
   "execution_count": 6,
   "metadata": {},
   "outputs": [
    {
     "data": {
      "text/plain": [
       "count    41616.000000\n",
       "mean         2.548227\n",
       "std          0.957027\n",
       "min          1.000000\n",
       "25%          2.000000\n",
       "50%          2.000000\n",
       "75%          3.000000\n",
       "max         16.000000\n",
       "Name: idProduto, dtype: float64"
      ]
     },
     "metadata": {},
     "output_type": "display_data"
    },
    {
     "data": {
      "text/plain": [
       "(array([2.7116e+04, 9.3010e+03, 4.4870e+03, 3.7800e+02, 2.6700e+02,\n",
       "        3.5000e+01, 2.6000e+01, 2.0000e+00, 3.0000e+00, 1.0000e+00]),\n",
       " array([ 1. ,  2.5,  4. ,  5.5,  7. ,  8.5, 10. , 11.5, 13. , 14.5, 16. ]),\n",
       " <a list of 10 Patch objects>)"
      ]
     },
     "execution_count": 6,
     "metadata": {},
     "output_type": "execute_result"
    },
    {
     "data": {
      "image/png": "[encoded data removed]",
      "text/plain": [
       "<Figure size 432x288 with 1 Axes>"
      ]
     },
     "metadata": {
      "needs_background": "light"
     },
     "output_type": "display_data"
    }
   ],
   "source": [
    "nunique_products = df[['PRONAC', 'idProduto']].groupby('PRONAC').nunique()\n",
    "display(nunique_products['idProduto'].describe())\n",
    "plt.hist(nunique_products.idProduto.values)"
   ]
  },
  {
   "cell_type": "markdown",
   "metadata": {},
   "source": [
    "# Features: (idSegmento, idArea, [produtos])"
   ]
  },
  {
   "cell_type": "code",
   "execution_count": 7,
   "metadata": {},
   "outputs": [
    {
     "data": {
      "text/plain": [
       "0.6"
      ]
     },
     "metadata": {},
     "output_type": "display_data"
    },
    {
     "data": {
      "text/plain": [
       "0.6666666666666666"
      ]
     },
     "metadata": {},
     "output_type": "display_data"
    },
    {
     "data": {
      "text/plain": [
       "1"
      ]
     },
     "metadata": {},
     "output_type": "display_data"
    }
   ],
   "source": [
    "def jaccard_collections_similarity(a, b):\n",
    "    '''Assumes that all sets in a are disjoint, as well as all sets in b'''\n",
    "    assert isinstance(a, list)\n",
    "    assert isinstance(b, list)\n",
    "    assert len(a) == len(b)\n",
    "\n",
    "    intersects = [np.intersect1d(a[i], b[i]).size for i in range(len(a))]\n",
    "    unions = [np.union1d(a[i], b[i]).size for i in range(len(a))]\n",
    "    return sum(intersects) / sum(unions)\n",
    "\n",
    "def jaccard_similarity(a, b):\n",
    "    intesect_size = np.intersect1d(a, b).size\n",
    "    union_size = np.union1d(a, b).size\n",
    "    return intesect_size / union_size\n",
    "\n",
    "def simple_similarity(a, b):\n",
    "    return 1 if a == b else 0\n",
    "\n",
    "display(jaccard_collections_similarity([[1, 2], [3, 5, 7]], [[2], [5, 7]]))\n",
    "display(jaccard_similarity([1, 2, 5], [5, 2]))\n",
    "display(simple_similarity(5, 5))"
   ]
  },
  {
   "cell_type": "code",
   "execution_count": 8,
   "metadata": {},
   "outputs": [
    {
     "data": {
      "text/plain": [
       "{'id_segmento': '11', 'id_area': 1, 'products': array([132])}"
      ]
     },
     "metadata": {},
     "output_type": "display_data"
    }
   ],
   "source": [
    "def get_products_features(pronac):\n",
    "    group = products_group.get_group(pronac)\n",
    "    id_segmento = group.iloc[0]['idSegmento']\n",
    "    id_area = group.iloc[0]['idArea']\n",
    "    products = group.idProduto.unique()\n",
    "    features = {\n",
    "        'id_segmento': id_segmento,\n",
    "        'id_area': id_area,\n",
    "        'products': products,\n",
    "    }\n",
    "    return features\n",
    "\n",
    "display(get_products_features(110667))"
   ]
  },
  {
   "cell_type": "code",
   "execution_count": 9,
   "metadata": {},
   "outputs": [
    {
     "data": {
      "text/plain": [
       "{'id_segmento': ['11'],\n",
       " 'id_area': [1],\n",
       " 'product': array([132]),\n",
       " 'items': array([2743,  178,  201, 4882, 3235,  134, 2574, 3546, 3677,  144, 3745,\n",
       "        2611, 3650,   88,  150, 3097, 2726, 1129,  129,  179,   53, 2357,\n",
       "        3740, 1119])}"
      ]
     },
     "metadata": {},
     "output_type": "display_data"
    }
   ],
   "source": [
    "def get_products_items_features(pronac):\n",
    "    group = products_group.get_group(pronac)\n",
    "    id_segmento = group.iloc[0]['idSegmento']\n",
    "    id_area = group.iloc[0]['idArea']\n",
    "    products = group.idProduto.unique()\n",
    "    \n",
    "    features = {\n",
    "        'id_segmento': [id_segmento],\n",
    "        'id_area': [id_area],\n",
    "        'product': products,\n",
    "        'items': group.idPlanilhaItens.unique()\n",
    "    }\n",
    "    \n",
    "    #group_product = group.groupby(['idProduto'])\n",
    "    #for id_produto, rows in group_product:\n",
    "        #id_items = rows['idPlanilhaItens'].unique()\n",
    "        #features['product'][id_produto] = id_items\n",
    "    return features\n",
    "\n",
    "display(get_products_items_features(110667))"
   ]
  },
  {
   "cell_type": "code",
   "execution_count": 10,
   "metadata": {},
   "outputs": [
    {
     "data": {
      "text/plain": [
       "array([116152, 110667, 143348, ..., 163585, 163598, 163609])"
      ]
     },
     "metadata": {},
     "output_type": "display_data"
    },
    {
     "name": "stdout",
     "output_type": "stream",
     "text": [
      "features1 = {'id_segmento': '11', 'id_area': 1, 'products': array([19])}\n",
      "features2 = {'id_segmento': '11', 'id_area': 1, 'products': array([132])}\n",
      "sim(pronac1, pronac2) = 0.5\n"
     ]
    }
   ],
   "source": [
    "def pronacs_similarity(pronac1, pronac2):\n",
    "    features = [get_products_features(pronac) for pronac in [pronac1, pronac2]]\n",
    "    sim = jaccard_collections_similarity(list(features[0].values()), \n",
    "                             list(features[1].values()))\n",
    "    return sim\n",
    "\n",
    "def debug_similarity(pronac1, pronac2):\n",
    "    sim = pronacs_similarity(pronac1, pronac2)\n",
    "    print('features1 = {}'.format(get_products_features(pronac1)))\n",
    "    print('features2 = {}'.format(get_products_features(pronac2)))\n",
    "    print('sim(pronac1, pronac2) = {}'.format(sim))\n",
    "    \n",
    "pronacs = df[df['idSegmento'] == '11']['PRONAC'].unique()\n",
    "display(pronacs)\n",
    "\n",
    "pronac1, pronac2 = pronacs[0], pronacs[1]\n",
    "debug_similarity(pronac1, pronac2)"
   ]
  },
  {
   "cell_type": "code",
   "execution_count": 11,
   "metadata": {},
   "outputs": [
    {
     "name": "stdout",
     "output_type": "stream",
     "text": [
      "pronacs_products_similarity(1, 2) = 0.07409694350108058\n"
     ]
    }
   ],
   "source": [
    "def pronacs_products_similarity(pronac1, pronac2):\n",
    "    features = [get_products_items_features(pronac) for pronac in [pronac1, pronac2]]\n",
    "    #for i in range(2):\n",
    "        #print('features[{}] = {}\\n'.format(i, features[i]))\n",
    "        \n",
    "    similarity = 0.0\n",
    "    items_1 = features[0]['items']\n",
    "    items_2 = features[1]['items']\n",
    "    \n",
    "    items_union_size = np.union1d(items_1, items_2).size\n",
    "    items_intersection_size = np.intersect1d(items_1, items_2).size\n",
    "    items_symmetric_difference = items_union_size - items_intersection_size\n",
    "    \n",
    "    for key, values in features[0].items():\n",
    "        weight = 1\n",
    "        if key in ['id_segmento', 'id_area']:\n",
    "            weight = 1.0 / (1 + items_symmetric_difference)\n",
    "            \n",
    "        sim = jaccard_similarity(values, features[1][key])   \n",
    "        similarity += (sim * weight)\n",
    "    return similarity\n",
    "        \n",
    "\n",
    "pronac1, pronac2 = pronacs[0], pronacs[1]\n",
    "sim = pronacs_products_similarity(pronac1, pronac2)\n",
    "print('pronacs_products_similarity(1, 2) = {}'.format(sim))"
   ]
  },
  {
   "cell_type": "code",
   "execution_count": 29,
   "metadata": {},
   "outputs": [
    {
     "name": "stdout",
     "output_type": "stream",
     "text": [
      "pronac_sample = [131246 159308 127946 ... 178773 171419 164187]\n",
      "features(pronac=138478) = {'id_segmento': ['4B'], 'id_area': [4], 'product': array([121,  62,  50,   2,  16, 115,  81,  11,  27,   3,  67,  38,   8]), 'items': array([ 130, 2621, 1044,   60, 3293, 5108, 3740, 2440, 3662, 1219,  114,\n",
      "       3553, 1106,   95, 1036, 3624, 3539, 3743, 2622, 1133, 1159,  150,\n",
      "       3678, 2740, 2699, 2764,  131, 4813,   92, 2759, 3567, 3537,   57,\n",
      "       3751, 4019,  143, 3566, 3544, 3584, 2813, 3631, 2755, 1119, 2438,\n",
      "       3546,  134, 1006, 2692, 1129, 3504, 2694, 2645, 1145, 3570, 1164,\n",
      "        179, 1072,  109, 1013, 3578, 3840,   14, 4111, 2756, 4612, 1019,\n",
      "       3592, 1043, 1161,   58, 1111, 3591, 2719, 2766, 3736, 3538, 1162,\n",
      "       3531, 2781, 2713,  142, 4418, 1120,   40, 1093, 3715, 3684, 3532,\n",
      "       2439, 4811,   20,   13, 3598, 4398,   91,   43,  118, 1008, 1037,\n",
      "         76,   41, 2601, 1048, 3745,  201, 3947, 2584, 2711, 2726, 3530,\n",
      "        103, 4557, 3124, 3671, 2138, 1169,  148, 3739, 3561, 3563,  135,\n",
      "       4556,  144, 1065,  104, 4814, 3565,   75, 3603, 2743, 2750, 5256,\n",
      "        107, 3902, 3052, 3547, 3871,   46, 2641, 3204,  152,   64])}\n",
      "top5(pronac=138478) = [(0.6933427488004953, 127960), (0.6845793448846884, 137748), (0.681236022473136, 151899), (0.6729670461456754, 137465), (0.6444158047211482, 158886)]\n"
     ]
    }
   ],
   "source": [
    "def find_top5(pronac, pronac_sample): \n",
    "    similarities = []\n",
    "    \n",
    "    for i, pronac2 in enumerate(pronac_sample):\n",
    "        if pronac2 != pronac:\n",
    "            sim = pronacs_products_similarity(pronac, pronac2)\n",
    "            similarities.append((sim, pronac2))\n",
    "    return sorted(similarities, reverse=True)[:5]\n",
    "\n",
    "pronac = 138478\n",
    "pronac_sample = df[df['idSegmento'] == '4B'].PRONAC.unique()\n",
    "print('pronac_sample = {}'.format(pronac_sample))\n",
    "print('features(pronac={}) = {}'.format(pronac, get_products_items_features(pronac)))\n",
    "print('top5(pronac={}) = {}'.format(pronac, find_top5(pronac, pronac_sample)))"
   ]
  },
  {
   "cell_type": "code",
   "execution_count": null,
   "metadata": {},
   "outputs": [],
   "source": [
    "df.groupby(['PRONAC', 'idProduto']).count().groupby(['PRONAC']).count().sort_values('idPronac', ascending=False)"
   ]
  },
  {
   "cell_type": "markdown",
   "metadata": {},
   "source": [
    "---\n",
    "## Desenvolvimento"
   ]
  },
  {
   "cell_type": "markdown",
   "metadata": {},
   "source": [
    "Explicação de o que será explorado. Se necessário, quebrar o desenvolvimento em tópicos."
   ]
  },
  {
   "cell_type": "code",
   "execution_count": null,
   "metadata": {},
   "outputs": [],
   "source": []
  },
  {
   "cell_type": "code",
   "execution_count": null,
   "metadata": {},
   "outputs": [],
   "source": []
  },
  {
   "cell_type": "code",
   "execution_count": null,
   "metadata": {},
   "outputs": [],
   "source": []
  },
  {
   "cell_type": "markdown",
   "metadata": {},
   "source": [
    "---\n",
    "## Resultados e Conclusões\n",
    "\n",
    "Apresentação dos resultados de desempenho, precisão, acurácia, análise dos gráficos e algoritmos.\n",
    "\n",
    "Por fim, discussão do que foi implementado e apresentação das melhores alternativas de algoritmos e tecnologias, além de um possível levantamento de trabalhos futuros."
   ]
  }
 ],
 "metadata": {
  "kernelspec": {
   "display_name": "Python 3",
   "language": "python",
   "name": "python3"
  },
  "language_info": {
   "codemirror_mode": {
    "name": "ipython",
    "version": 3
   },
   "file_extension": ".py",
   "mimetype": "text/x-python",
   "name": "python",
   "nbconvert_exporter": "python",
   "pygments_lexer": "ipython3",
   "version": "3.6.4"
  }
 },
 "nbformat": 4,
 "nbformat_minor": 2
}
