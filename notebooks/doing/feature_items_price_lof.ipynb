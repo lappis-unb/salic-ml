{
 "cells": [
  {
   "cell_type": "markdown",
   "metadata": {},
   "source": [
    "### Utilizando LOF para detectar projetos outliers nas porcentagens de itens com preços outliers"
   ]
  },
  {
   "cell_type": "markdown",
   "metadata": {},
   "source": [
    "**Issue**: [#174](https://github.com/lappis-unb/salic-ml/issues/174)"
   ]
  },
  {
   "cell_type": "markdown",
   "metadata": {},
   "source": [
    "#### Recarregar automaticamente os módulos"
   ]
  },
  {
   "cell_type": "code",
   "execution_count": 1,
   "metadata": {},
   "outputs": [],
   "source": [
    "%load_ext autoreload\n",
    "%autoreload 2"
   ]
  },
  {
   "cell_type": "markdown",
   "metadata": {},
   "source": [
    "### Importing data"
   ]
  },
  {
   "cell_type": "code",
   "execution_count": 2,
   "metadata": {
    "scrolled": true
   },
   "outputs": [
    {
     "name": "stdout",
     "output_type": "stream",
     "text": [
      "PROJECT_ROOT_ABS = /home/mandala/repos/minc/salic-ml/core/utils/../..\n",
      "DATa_FOLDER = /home/mandala/repos/minc/salic-ml/core/utils/../../data/raw\n"
     ]
    }
   ],
   "source": [
    "import os\n",
    "import sys\n",
    "import time\n",
    "from datetime import datetime\n",
    "\n",
    "import numpy as np\n",
    "import pandas as pd\n",
    "import matplotlib.pyplot as plt\n",
    "from scipy import stats\n",
    "\n",
    "\n",
    "from salicml.utils.dates import Dates\n",
    "\n",
    "from core.utils.read_csv import read_csv\n",
    "from salicml.utils.utils import debug\n",
    "from salicml.outliers import gaussian_outlier\n",
    "\n",
    "PROJECT_ROOT = os.path.abspath(os.path.join(os.pardir, os.pardir))\n",
    "DATA_FOLDER = os.path.join(PROJECT_ROOT, 'data', 'raw')"
   ]
  },
  {
   "cell_type": "code",
   "execution_count": 3,
   "metadata": {},
   "outputs": [],
   "source": [
    "from core.utils.read_csv import read_csv_with_different_type"
   ]
  },
  {
   "cell_type": "markdown",
   "metadata": {},
   "source": [
    "### Dataset de comprovação"
   ]
  },
  {
   "cell_type": "code",
   "execution_count": 4,
   "metadata": {
    "scrolled": false
   },
   "outputs": [
    {
     "data": {
      "text/plain": [
       "PRONAC                  object\n",
       "idPlanilhaAprovacao      int64\n",
       "Item                    object\n",
       "idPlanilhaItens          int64\n",
       "VlUnitarioAprovado     float64\n",
       "idSegmento              object\n",
       "DataProjeto             object\n",
       "dtype: object"
      ]
     },
     "metadata": {},
     "output_type": "display_data"
    },
    {
     "data": {
      "text/html": [
       "<div>\n",
       "<style scoped>\n",
       "    .dataframe tbody tr th:only-of-type {\n",
       "        vertical-align: middle;\n",
       "    }\n",
       "\n",
       "    .dataframe tbody tr th {\n",
       "        vertical-align: top;\n",
       "    }\n",
       "\n",
       "    .dataframe thead th {\n",
       "        text-align: right;\n",
       "    }\n",
       "</style>\n",
       "<table border=\"1\" class=\"dataframe\">\n",
       "  <thead>\n",
       "    <tr style=\"text-align: right;\">\n",
       "      <th></th>\n",
       "      <th>PRONAC</th>\n",
       "      <th>idPlanilhaAprovacao</th>\n",
       "      <th>Item</th>\n",
       "      <th>idPlanilhaItens</th>\n",
       "      <th>VlUnitarioAprovado</th>\n",
       "      <th>idSegmento</th>\n",
       "      <th>DataProjeto</th>\n",
       "    </tr>\n",
       "  </thead>\n",
       "  <tbody>\n",
       "    <tr>\n",
       "      <th>0</th>\n",
       "      <td>090226</td>\n",
       "      <td>136145</td>\n",
       "      <td>Combustível</td>\n",
       "      <td>1019</td>\n",
       "      <td>0.00</td>\n",
       "      <td>71</td>\n",
       "      <td>2009-03-13 11:25:24.430</td>\n",
       "    </tr>\n",
       "    <tr>\n",
       "      <th>1</th>\n",
       "      <td>090226</td>\n",
       "      <td>136156</td>\n",
       "      <td>Assessor de imprensa</td>\n",
       "      <td>142</td>\n",
       "      <td>3000.00</td>\n",
       "      <td>71</td>\n",
       "      <td>2009-03-13 11:25:24.430</td>\n",
       "    </tr>\n",
       "    <tr>\n",
       "      <th>2</th>\n",
       "      <td>100406</td>\n",
       "      <td>186201</td>\n",
       "      <td>Projeto de iluminação</td>\n",
       "      <td>13</td>\n",
       "      <td>25459.54</td>\n",
       "      <td>52</td>\n",
       "      <td>2010-01-26 17:46:51.453</td>\n",
       "    </tr>\n",
       "    <tr>\n",
       "      <th>3</th>\n",
       "      <td>100406</td>\n",
       "      <td>186222</td>\n",
       "      <td>Forros e Cimalhas - Acabamentos</td>\n",
       "      <td>2117</td>\n",
       "      <td>56560.62</td>\n",
       "      <td>52</td>\n",
       "      <td>2010-01-26 17:46:51.453</td>\n",
       "    </tr>\n",
       "    <tr>\n",
       "      <th>4</th>\n",
       "      <td>110895</td>\n",
       "      <td>124738</td>\n",
       "      <td>Edição de efeitos sonoros</td>\n",
       "      <td>1191</td>\n",
       "      <td>4500.00</td>\n",
       "      <td>85</td>\n",
       "      <td>2011-02-04 16:04:01.130</td>\n",
       "    </tr>\n",
       "  </tbody>\n",
       "</table>\n",
       "</div>"
      ],
      "text/plain": [
       "   PRONAC  idPlanilhaAprovacao                             Item  \\\n",
       "0  090226               136145                      Combustível   \n",
       "1  090226               136156             Assessor de imprensa   \n",
       "2  100406               186201            Projeto de iluminação   \n",
       "3  100406               186222  Forros e Cimalhas - Acabamentos   \n",
       "4  110895               124738        Edição de efeitos sonoros   \n",
       "\n",
       "   idPlanilhaItens  VlUnitarioAprovado idSegmento              DataProjeto  \n",
       "0             1019                0.00         71  2009-03-13 11:25:24.430  \n",
       "1              142             3000.00         71  2009-03-13 11:25:24.430  \n",
       "2               13            25459.54         52  2010-01-26 17:46:51.453  \n",
       "3             2117            56560.62         52  2010-01-26 17:46:51.453  \n",
       "4             1191             4500.00         85  2011-02-04 16:04:01.130  "
      ]
     },
     "execution_count": 4,
     "metadata": {},
     "output_type": "execute_result"
    }
   ],
   "source": [
    "dt_orcamentaria_name = 'planilha_orcamentaria.csv'\n",
    "\n",
    "usecols = ['PRONAC', 'idPlanilhaAprovacao', 'Item', 'idPlanilhaItens', 'VlUnitarioAprovado', 'idSegmento', 'DataProjeto']\n",
    "dtype = {\n",
    "    'PRONAC': str,\n",
    "}\n",
    "\n",
    "dt_orcamentaria = read_csv_with_different_type(dt_orcamentaria_name, dtype, usecols=usecols)\n",
    "\n",
    "display(dt_orcamentaria.dtypes)\n",
    "dt_orcamentaria.head()"
   ]
  },
  {
   "cell_type": "markdown",
   "metadata": {},
   "source": [
    "# Treino"
   ]
  },
  {
   "cell_type": "code",
   "execution_count": 5,
   "metadata": {
    "scrolled": false
   },
   "outputs": [
    {
     "data": {
      "text/plain": [
       "PRONAC                         object\n",
       "idPlanilhaAprovacao             int64\n",
       "Item                           object\n",
       "idPlanilhaItens                 int64\n",
       "VlUnitarioAprovado            float64\n",
       "idSegmento                     object\n",
       "DataProjeto            datetime64[ns]\n",
       "dtype: object"
      ]
     },
     "metadata": {},
     "output_type": "display_data"
    },
    {
     "data": {
      "text/html": [
       "<div>\n",
       "<style scoped>\n",
       "    .dataframe tbody tr th:only-of-type {\n",
       "        vertical-align: middle;\n",
       "    }\n",
       "\n",
       "    .dataframe tbody tr th {\n",
       "        vertical-align: top;\n",
       "    }\n",
       "\n",
       "    .dataframe thead th {\n",
       "        text-align: right;\n",
       "    }\n",
       "</style>\n",
       "<table border=\"1\" class=\"dataframe\">\n",
       "  <thead>\n",
       "    <tr style=\"text-align: right;\">\n",
       "      <th></th>\n",
       "      <th>PRONAC</th>\n",
       "      <th>idPlanilhaAprovacao</th>\n",
       "      <th>Item</th>\n",
       "      <th>idPlanilhaItens</th>\n",
       "      <th>VlUnitarioAprovado</th>\n",
       "      <th>idSegmento</th>\n",
       "      <th>DataProjeto</th>\n",
       "    </tr>\n",
       "  </thead>\n",
       "  <tbody>\n",
       "    <tr>\n",
       "      <th>154</th>\n",
       "      <td>146032</td>\n",
       "      <td>1224594</td>\n",
       "      <td>Locação de equipamentos</td>\n",
       "      <td>3684</td>\n",
       "      <td>4000.0</td>\n",
       "      <td>12</td>\n",
       "      <td>2014-04-11 18:50:56.473</td>\n",
       "    </tr>\n",
       "    <tr>\n",
       "      <th>155</th>\n",
       "      <td>146032</td>\n",
       "      <td>1224601</td>\n",
       "      <td>Hospedagem sem alimentação</td>\n",
       "      <td>130</td>\n",
       "      <td>180.0</td>\n",
       "      <td>12</td>\n",
       "      <td>2014-04-11 18:50:56.473</td>\n",
       "    </tr>\n",
       "    <tr>\n",
       "      <th>181</th>\n",
       "      <td>146032</td>\n",
       "      <td>1224599</td>\n",
       "      <td>Produtor local</td>\n",
       "      <td>4548</td>\n",
       "      <td>1500.0</td>\n",
       "      <td>12</td>\n",
       "      <td>2014-04-11 18:50:56.473</td>\n",
       "    </tr>\n",
       "    <tr>\n",
       "      <th>266</th>\n",
       "      <td>146032</td>\n",
       "      <td>1224604</td>\n",
       "      <td>Produtor local</td>\n",
       "      <td>4548</td>\n",
       "      <td>1500.0</td>\n",
       "      <td>12</td>\n",
       "      <td>2014-04-11 18:50:56.473</td>\n",
       "    </tr>\n",
       "    <tr>\n",
       "      <th>679</th>\n",
       "      <td>160506</td>\n",
       "      <td>1794621</td>\n",
       "      <td>Elaboração e Agenciamento</td>\n",
       "      <td>206</td>\n",
       "      <td>10052.0</td>\n",
       "      <td>6F</td>\n",
       "      <td>2016-02-25 17:57:15.010</td>\n",
       "    </tr>\n",
       "  </tbody>\n",
       "</table>\n",
       "</div>"
      ],
      "text/plain": [
       "     PRONAC  idPlanilhaAprovacao                        Item  idPlanilhaItens  \\\n",
       "154  146032              1224594     Locação de equipamentos             3684   \n",
       "155  146032              1224601  Hospedagem sem alimentação              130   \n",
       "181  146032              1224599              Produtor local             4548   \n",
       "266  146032              1224604              Produtor local             4548   \n",
       "679  160506              1794621   Elaboração e Agenciamento              206   \n",
       "\n",
       "     VlUnitarioAprovado idSegmento             DataProjeto  \n",
       "154              4000.0         12 2014-04-11 18:50:56.473  \n",
       "155               180.0         12 2014-04-11 18:50:56.473  \n",
       "181              1500.0         12 2014-04-11 18:50:56.473  \n",
       "266              1500.0         12 2014-04-11 18:50:56.473  \n",
       "679             10052.0         6F 2016-02-25 17:57:15.010  "
      ]
     },
     "metadata": {},
     "output_type": "display_data"
    }
   ],
   "source": [
    "dt_train = dt_orcamentaria.copy()\n",
    "\n",
    "START_DATE = datetime(2013, 1, 1)\n",
    "\n",
    "dt_train['DataProjeto'] = pd.to_datetime(dt_train['DataProjeto'])\n",
    "dt_train = dt_train[dt_train.DataProjeto >= START_DATE]\n",
    "dt_train = dt_train[dt_train.VlUnitarioAprovado > 0.0]\n",
    "\n",
    "display(dt_train.dtypes)\n",
    "display(dt_train.head())"
   ]
  },
  {
   "cell_type": "markdown",
   "metadata": {},
   "source": [
    "# Treino1: Preço de item por segmento"
   ]
  },
  {
   "cell_type": "code",
   "execution_count": 6,
   "metadata": {
    "scrolled": true
   },
   "outputs": [
    {
     "data": {
      "text/html": [
       "<div>\n",
       "<style scoped>\n",
       "    .dataframe tbody tr th:only-of-type {\n",
       "        vertical-align: middle;\n",
       "    }\n",
       "\n",
       "    .dataframe tbody tr th {\n",
       "        vertical-align: top;\n",
       "    }\n",
       "\n",
       "    .dataframe thead th {\n",
       "        text-align: right;\n",
       "    }\n",
       "</style>\n",
       "<table border=\"1\" class=\"dataframe\">\n",
       "  <thead>\n",
       "    <tr style=\"text-align: right;\">\n",
       "      <th></th>\n",
       "      <th></th>\n",
       "      <th>mean</th>\n",
       "      <th>std</th>\n",
       "    </tr>\n",
       "    <tr>\n",
       "      <th>idSegmento</th>\n",
       "      <th>idPlanilhaItens</th>\n",
       "      <th></th>\n",
       "      <th></th>\n",
       "    </tr>\n",
       "  </thead>\n",
       "  <tbody>\n",
       "    <tr>\n",
       "      <th rowspan=\"5\" valign=\"top\">11</th>\n",
       "      <th>10</th>\n",
       "      <td>8120.219844</td>\n",
       "      <td>9506.785625</td>\n",
       "    </tr>\n",
       "    <tr>\n",
       "      <th>12</th>\n",
       "      <td>10641.954062</td>\n",
       "      <td>11203.905159</td>\n",
       "    </tr>\n",
       "    <tr>\n",
       "      <th>13</th>\n",
       "      <td>11306.180020</td>\n",
       "      <td>39124.075003</td>\n",
       "    </tr>\n",
       "    <tr>\n",
       "      <th>14</th>\n",
       "      <td>24016.666667</td>\n",
       "      <td>31566.882259</td>\n",
       "    </tr>\n",
       "    <tr>\n",
       "      <th>15</th>\n",
       "      <td>5993.625418</td>\n",
       "      <td>10189.216850</td>\n",
       "    </tr>\n",
       "  </tbody>\n",
       "</table>\n",
       "</div>"
      ],
      "text/plain": [
       "                                    mean           std\n",
       "idSegmento idPlanilhaItens                            \n",
       "11         10                8120.219844   9506.785625\n",
       "           12               10641.954062  11203.905159\n",
       "           13               11306.180020  39124.075003\n",
       "           14               24016.666667  31566.882259\n",
       "           15                5993.625418  10189.216850"
      ]
     },
     "execution_count": 6,
     "metadata": {},
     "output_type": "execute_result"
    }
   ],
   "source": [
    "PRICE_COLUMNS = ['idSegmento', 'idPlanilhaItens', 'VlUnitarioAprovado']\n",
    "dt_train_agg = dt_train[PRICE_COLUMNS].groupby(by=['idSegmento', 'idPlanilhaItens']).agg([np.mean, lambda x: np.std(x, ddof=0)])\n",
    "dt_train_agg.columns = dt_train_agg.columns.droplevel(0)\n",
    "dt_train_agg.rename(columns={'<lambda>': 'std'}, inplace=True)\n",
    "dt_train_agg.sort_index(inplace=True)\n",
    "dt_train_agg.head()"
   ]
  },
  {
   "cell_type": "code",
   "execution_count": 7,
   "metadata": {},
   "outputs": [],
   "source": [
    "train_agg_dict = dt_train_agg.to_dict(orient='dict')"
   ]
  },
  {
   "cell_type": "code",
   "execution_count": 8,
   "metadata": {},
   "outputs": [
    {
     "data": {
      "text/plain": [
       "True"
      ]
     },
     "execution_count": 8,
     "metadata": {},
     "output_type": "execute_result"
    }
   ],
   "source": [
    "def is_item_outlier(id_planilha_item, id_segmento, price):\n",
    "    item_key = (id_segmento, id_planilha_item)\n",
    "    if item_key not in train_agg_dict['mean']:\n",
    "        return False\n",
    "    \n",
    "    mean = train_agg_dict['mean'][item_key]\n",
    "    std = train_agg_dict['std'][item_key]\n",
    "    outlier = gaussian_outlier.is_outlier(x=price, mean=mean, standard_deviation=std)\n",
    "    maximum_expected = gaussian_outlier.maximum_expected_value(mean=mean, standard_deviation=std)\n",
    "    return outlier\n",
    "\n",
    "is_item_outlier(1129, '32', 12312123213131.0)"
   ]
  },
  {
   "cell_type": "code",
   "execution_count": 9,
   "metadata": {},
   "outputs": [
    {
     "name": "stdout",
     "output_type": "stream",
     "text": [
      "pronac = 165017\n",
      "percentage(165017) = 0.03389830508474576\n"
     ]
    }
   ],
   "source": [
    "pronacs_grp = dt_train.groupby(by=['PRONAC'])\n",
    "\n",
    "def get_outliers_percentage(pronac):\n",
    "    items = pronacs_grp.get_group(pronac)\n",
    "    \n",
    "    outliers = 0\n",
    "    for row in items.itertuples():\n",
    "        item_id = getattr(row, 'idPlanilhaItens')\n",
    "        unit_value = getattr(row, 'VlUnitarioAprovado')\n",
    "        segment_id = getattr(row, 'idSegmento')\n",
    "        \n",
    "        outliers += 1 if is_item_outlier(id_planilha_item=item_id, id_segmento=segment_id, price=unit_value) else 0\n",
    "    \n",
    "    outliers_percentage = outliers / items.shape[0]\n",
    "    return outliers_percentage\n",
    "\n",
    "\n",
    "pronac = np.random.choice(dt_train.PRONAC.values)\n",
    "print('pronac = {}'.format(pronac))\n",
    "percentage = get_outliers_percentage(pronac)\n",
    "print('percentage({}) = {}'.format(pronac, percentage))"
   ]
  },
  {
   "cell_type": "code",
   "execution_count": 10,
   "metadata": {
    "scrolled": false
   },
   "outputs": [
    {
     "name": "stdout",
     "output_type": "stream",
     "text": [
      "(1191816, 7)\n",
      "oi\n"
     ]
    }
   ],
   "source": [
    "pronac_cache = {}\n",
    "\n",
    "print(dt_train.shape)\n",
    "for row in dt_train.itertuples():\n",
    "    pronac = getattr(row, 'PRONAC')\n",
    "    item_id = getattr(row, 'idPlanilhaItens')\n",
    "    unit_value = getattr(row, 'VlUnitarioAprovado')\n",
    "    segment_id = getattr(row, 'idSegmento')\n",
    "    \n",
    "    #a = 1 if is_item_outlier(id_planilha_item=item_id, id_segmento=segment_id, price=unit_value) else 0\n",
    "    pronac_cache.setdefault(pronac, {})\n",
    "    pronac_cache[pronac].setdefault('outlier_items', 0)\n",
    "    pronac_cache[pronac].setdefault('total_items', 0)\n",
    "    \n",
    "    pronac_cache[pronac]['outlier_items'] += 1 if is_item_outlier(id_planilha_item=item_id, id_segmento=segment_id, price=unit_value) else 0\n",
    "    pronac_cache[pronac]['total_items'] += 1\n",
    "    \n",
    "print('oi')"
   ]
  },
  {
   "cell_type": "code",
   "execution_count": 11,
   "metadata": {},
   "outputs": [
    {
     "name": "stdout",
     "output_type": "stream",
     "text": [
      "True\n",
      "True\n"
     ]
    }
   ],
   "source": [
    "print('133818' in dt_train.PRONAC.values)\n",
    "print('133818' in pronac_cache)"
   ]
  },
  {
   "cell_type": "markdown",
   "metadata": {},
   "source": [
    "# Treino2: porcentagem de itens outliers por projeto por segmento"
   ]
  },
  {
   "cell_type": "code",
   "execution_count": 15,
   "metadata": {
    "scrolled": true
   },
   "outputs": [
    {
     "name": "stdout",
     "output_type": "stream",
     "text": [
      "{'11': {'mean': 0.03113127756274827, 'std': 0.06365542641981929}, '12': {'mean': 0.046672607561816105, 'std': 0.07851753409136121}, '13': {'mean': 0.060509843157215776, 'std': 0.08285944864994721}, '14': {'mean': 0.06770677213817795, 'std': 0.08717838667672347}, '15': {'mean': 0.0563973063973064, 'std': 0.019360269360269362}, '17': {'mean': 0.06496349331536863, 'std': 0.09098546506593996}, '18': {'mean': 0.11181870545447882, 'std': 0.1157466442412089}, '1A': {'mean': 0.05092106837965677, 'std': 0.04537019042787697}, '1B': {'mean': 0.06951324103026889, 'std': 0.0776678061647367}, '1D': {'mean': 0.04794364861329147, 'std': 0.07524248947980539}, '1H': {'mean': 0.0, 'std': 0.0}, '1I': {'mean': 0.08024050828664261, 'std': 0.09916943716168863}, '21': {'mean': 0.08269401277758177, 'std': 0.06781630213306031}, '23': {'mean': 0.07712256509206636, 'std': 0.08485646284359348}, '26': {'mean': 0.0836461047539608, 'std': 0.1188426672071037}, '28': {'mean': 0.07224516564815209, 'std': 0.10287078769142373}, '29': {'mean': 0.012503956948401392, 'std': 0.02485316419929157}, '2A': {'mean': 0.06146828187434782, 'std': 0.050476643870653495}, '2B': {'mean': 0.10346530555942553, 'std': 0.10180380076281255}, '2C': {'mean': 0.09018120375304278, 'std': 0.1399820722060906}, '2D': {'mean': 0.0, 'std': 0.0}, '2E': {'mean': 0.0, 'std': 0.0}, '2F': {'mean': 0.012422360248447204, 'std': 0.018471807886704317}, '2G': {'mean': 0.0, 'std': 0.0}, '2J': {'mean': 0.04425995314071202, 'std': 0.06902907479302868}, '2K': {'mean': 0.07591712181454434, 'std': 0.07838776045744343}, '2L': {'mean': 0.06981246221750777, 'std': 0.06249575721542656}, '2O': {'mean': 0.06898761283112434, 'std': 0.08709943409320624}, '2P': {'mean': 0.07241880765790207, 'std': 0.08848019521109973}, '2R': {'mean': 0.0630474149388623, 'std': 0.05589693346174328}, '2S': {'mean': 0.06298030357935519, 'std': 0.06571644991728942}, '2T': {'mean': 0.06204208459182949, 'std': 0.06414101144424236}, '31': {'mean': 0.043376696159436026, 'std': 0.0763809279696491}, '32': {'mean': 0.03435829405997956, 'std': 0.06031985240303381}, '33': {'mean': 0.039832665725368276, 'std': 0.06852172565333914}, '36': {'mean': 0.0, 'std': 0.0}, '37': {'mean': 0.05908510825558881, 'std': 0.09063774623821705}, '38': {'mean': 0.016762452107279693, 'std': 0.012380800843755754}, '46': {'mean': 0.07544014471453993, 'std': 0.07148574241338619}, '48': {'mean': 0.05580334276680624, 'std': 0.05196165646797357}, '49': {'mean': 0.056723013691822484, 'std': 0.0919810904939298}, '4A': {'mean': 0.0, 'std': 0.0}, '4B': {'mean': 0.03273048283232542, 'std': 0.06013347603759419}, '4C': {'mean': 0.04667844131758201, 'std': 0.051901771140530704}, '4D': {'mean': 0.02127659574468085, 'std': 0.02127659574468085}, '4E': {'mean': 0.08969587111485311, 'std': 0.1081420033708199}, '4F': {'mean': 0.06958862180409651, 'std': 0.07947237420494664}, '4G': {'mean': 0.07599675795001243, 'std': 0.07494203701145377}, '5A': {'mean': 0.06526310177968074, 'std': 0.06790459017204711}, '5B': {'mean': 0.020463709677419353, 'std': 0.02552354857004998}, '5C': {'mean': 0.09214374212735675, 'std': 0.10905523324153901}, '5E': {'mean': 0.07740009131701223, 'std': 0.08733251925803924}, '5F': {'mean': 0.10227921165846986, 'std': 0.10188717927857188}, '5G': {'mean': 0.07103410116333846, 'std': 0.10629423172260147}, '5H': {'mean': 0.0, 'std': 0.0}, '5I': {'mean': 0.08429163440869546, 'std': 0.07844123139137042}, '5J': {'mean': 0.05663661882291844, 'std': 0.023419179467356326}, '5K': {'mean': 0.053411222195418426, 'std': 0.07899495313496138}, '5L': {'mean': 0.0, 'std': 0.0}, '5N': {'mean': 0.048521149190360664, 'std': 0.0561218757455325}, '5O': {'mean': 0.049019607843137254, 'std': 0.06897670235034455}, '5P': {'mean': 0.02369281045751634, 'std': 0.03424557502472988}, '5Q': {'mean': 0.09377927597594407, 'std': 0.09426019691580402}, '5R': {'mean': 0.03489907788591916, 'std': 0.022744100911397155}, '5S': {'mean': 0.0, 'std': 0.0}, '5U': {'mean': 0.0, 'std': 0.0}, '5W': {'mean': 0.07534738039559377, 'std': 0.0677200995237449}, '5X': {'mean': 0.08487224249619138, 'std': 0.06988810840143934}, '5Z': {'mean': 0.0, 'std': 0.0}, '62': {'mean': 0.09189115370429128, 'std': 0.0968334671436801}, '65': {'mean': 0.06705066528369646, 'std': 0.0689681804102558}, '68': {'mean': 0.04717784429553176, 'std': 0.08661014338700798}, '6A': {'mean': 0.0787651710504194, 'std': 0.09326272337384703}, '6B': {'mean': 0.07548562344509437, 'std': 0.07794359755429493}, '6C': {'mean': 0.06639016940092825, 'std': 0.0825142101889872}, '6D': {'mean': 0.06468152669811543, 'std': 0.09143019232432871}, '6E': {'mean': 0.06373802363550445, 'std': 0.09031560322380026}, '6F': {'mean': 0.07100299904433761, 'std': 0.09888981633139213}, '6G': {'mean': 0.04795956059113954, 'std': 0.020147262139304165}, '6H': {'mean': 0.06039098345815462, 'std': 0.04811948496619627}, '6I': {'mean': 0.03050904816576458, 'std': 0.01748376876516804}, '6J': {'mean': 0.0, 'std': 0.0}, '6M': {'mean': 0.03639846743295019, 'std': 0.045374403380563255}, '6S': {'mean': 0.0, 'std': 0.0}, '6T': {'mean': 0.0, 'std': 0.0}, '82': {'mean': 0.06664901054697894, 'std': 0.07246974065230756}, '84': {'mean': 0.05788406997155128, 'std': 0.049618089041667465}, '85': {'mean': 0.06822344322344322, 'std': 0.09004085662340593}, '88': {'mean': 0.05782413016117759, 'std': 0.06692198814366473}, '9C': {'mean': 0.0, 'std': 0.0}, '9I': {'mean': 0.06154970760233919, 'std': 0.06260316919059127}, '9J': {'mean': 0.0, 'std': 0.0}, '9O': {'mean': 0.0, 'std': 0.0}, '9P': {'mean': 0.0, 'std': 0.0}}\n"
     ]
    }
   ],
   "source": [
    "segments_grp = dt_train[['PRONAC', 'idSegmento']].groupby(['idSegmento'])\n",
    "\n",
    "\n",
    "def train_segment_percentages():\n",
    "    percentages_train = {}\n",
    "    for segment_id, group in segments_grp:\n",
    "        pronacs = group.PRONAC.unique()\n",
    "        percentages = []\n",
    "        for pronac in pronacs:\n",
    "            cache = pronac_cache[pronac]\n",
    "            outliers = cache['outlier_items']\n",
    "            total = cache['total_items']\n",
    "            percentage = outliers / total\n",
    "\n",
    "            percentages.append(percentage)\n",
    "\n",
    "            mean = np.mean(percentages)\n",
    "            std = np.std(percentages)\n",
    "\n",
    "            percentages_train[segment_id] = {}\n",
    "            percentages_train[segment_id]['mean'] = mean\n",
    "            percentages_train[segment_id]['std'] = std\n",
    "    return percentages_train\n",
    "\n",
    "percentages_train = train_segment_percentages()\n",
    "print(percentages_train)"
   ]
  },
  {
   "cell_type": "markdown",
   "metadata": {},
   "source": [
    "# Teste"
   ]
  },
  {
   "cell_type": "code",
   "execution_count": 28,
   "metadata": {},
   "outputs": [
    {
     "name": "stdout",
     "output_type": "stream",
     "text": [
      "is_outlier = False\n"
     ]
    }
   ],
   "source": [
    "def is_project_outlier(pronac):\n",
    "    cache = pronac_cache[pronac]\n",
    "    outliers = cache['outlier_items']\n",
    "    total = cache['total_items']\n",
    "    percentage = outliers / total\n",
    "\n",
    "    items = pronacs_grp.get_group(pronac)\n",
    "    segment_id = items.iloc[0]['idSegmento']\n",
    "    \n",
    "    mean = percentages_train[segment_id]['mean']\n",
    "    std = percentages_train[segment_id]['std']\n",
    "    is_outlier = gaussian_outlier.is_outlier(x=percentage, mean=mean, standard_deviation=std)\n",
    "    maximum_expected = gaussian_outlier.maximum_expected_value(mean=mean, standard_deviation=std)\n",
    "    return is_outlier\n",
    "\n",
    "pronac = np.random.choice(dt_train.PRONAC.values)\n",
    "is_outlier = is_project_outlier(pronac)\n",
    "print('is_outlier = {}'.format(is_outlier))"
   ]
  }
 ],
 "metadata": {
  "kernelspec": {
   "display_name": "Python 3",
   "language": "python",
   "name": "python3"
  },
  "language_info": {
   "codemirror_mode": {
    "name": "ipython",
    "version": 3
   },
   "file_extension": ".py",
   "mimetype": "text/x-python",
   "name": "python",
   "nbconvert_exporter": "python",
   "pygments_lexer": "ipython3",
   "version": "3.6.4"
  }
 },
 "nbformat": 4,
 "nbformat_minor": 2
}
