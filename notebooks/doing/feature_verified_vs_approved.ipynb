{
 "cells": [
  {
   "cell_type": "markdown",
   "metadata": {},
   "source": [
    "# Métrica de valor comprovado versus valor aprovado\n",
    "\n",
    "Issue: [#251](https://github.com/lappis-unb/salic-ml/issues/251)\n",
    "\n",
    "## Objetivos\n",
    "\n",
    "As INs (Intrução Normativa) podem estabelecer que o valor total comprovado (gasto) em um item não pode exceder em 50% o valor aprovado para aquele item.\n",
    "\n",
    "Este notebook procura portanto listar todos os itens nesta situaçao de um dado projeto (PRONAC). Além disso, busca também analisar se o número de vezes que esta situação ocorreu no projeto dado é um outlier dentro do segmento do mesmo."
   ]
  },
  {
   "cell_type": "markdown",
   "metadata": {},
   "source": [
    "## Introdução\n",
    "\n",
    "É conhecido que quanto maior o número de itens que ultrapassaram seu valor aprovado em 50%, maior o trabalho que um técnico terá ao realizar a análise financeira deste item. Como o objetivo final é estimar a complexidade de analisar um dado projeto em relação aos demais, a complexidade será construida utilizando o valor absoluto que a situação descrita ocorreu. Ou seja, se um projeto tem 100 itens, e 13 deles ultrapassaram em 50% o valor aprovado, será considerado o valor 13, e não o valor (13/100), ou o valor 13%. "
   ]
  },
  {
   "cell_type": "markdown",
   "metadata": {},
   "source": [
    "---\n",
    "## Preparação\n",
    "\n",
    "O dataset foi obtido a partir de uma query `.sql`, que está disponível na pasta `/data/scripts/` do projeto.\n",
    "\n",
    "Nome do arquivo: `planilha_comprovacao.sql`"
   ]
  },
  {
   "cell_type": "markdown",
   "metadata": {},
   "source": [
    "#### Importando módulos e definindo constantes"
   ]
  },
  {
   "cell_type": "code",
   "execution_count": 1,
   "metadata": {},
   "outputs": [
    {
     "name": "stdout",
     "output_type": "stream",
     "text": [
      "Populating the interactive namespace from numpy and matplotlib\n"
     ]
    }
   ],
   "source": [
    "%pylab inline\n",
    "%load_ext autoreload\n",
    "%autoreload 2\n",
    "\n",
    "import scipy\n",
    "import pandas as pd\n",
    "import numpy as np\n",
    "import matplotlib.pyplot as plt \n",
    "\n",
    "from core.utils.read_csv import read_csv"
   ]
  },
  {
   "cell_type": "markdown",
   "metadata": {},
   "source": [
    "#### Carregando e mostrando dataset a ser utilizado ao longo do estudo"
   ]
  },
  {
   "cell_type": "code",
   "execution_count": 2,
   "metadata": {},
   "outputs": [
    {
     "data": {
      "text/plain": [
       "IdPRONAC                    int64\n",
       "PRONAC                      int64\n",
       "DataProjeto                object\n",
       "idPlanilhaAprovacao         int64\n",
       "idPlanilhaItem              int64\n",
       "Item                       object\n",
       "idSegmento                 object\n",
       "vlComprovacao             float64\n",
       "vlAprovado                float64\n",
       "idComprovantePagamento      int64\n",
       "nrCNPJCPF                   int64\n",
       "nmFornecedor               object\n",
       "UF                          int64\n",
       "cdProduto                   int64\n",
       "cdCidade                    int64\n",
       "cdEtapa                     int64\n",
       "proponenteCgcCpf            int64\n",
       "dtype: object"
      ]
     },
     "metadata": {},
     "output_type": "display_data"
    },
    {
     "data": {
      "text/html": [
       "<div>\n",
       "<style scoped>\n",
       "    .dataframe tbody tr th:only-of-type {\n",
       "        vertical-align: middle;\n",
       "    }\n",
       "\n",
       "    .dataframe tbody tr th {\n",
       "        vertical-align: top;\n",
       "    }\n",
       "\n",
       "    .dataframe thead th {\n",
       "        text-align: right;\n",
       "    }\n",
       "</style>\n",
       "<table border=\"1\" class=\"dataframe\">\n",
       "  <thead>\n",
       "    <tr style=\"text-align: right;\">\n",
       "      <th></th>\n",
       "      <th>IdPRONAC</th>\n",
       "      <th>PRONAC</th>\n",
       "      <th>DataProjeto</th>\n",
       "      <th>idPlanilhaAprovacao</th>\n",
       "      <th>idPlanilhaItem</th>\n",
       "      <th>Item</th>\n",
       "      <th>idSegmento</th>\n",
       "      <th>vlComprovacao</th>\n",
       "      <th>vlAprovado</th>\n",
       "      <th>idComprovantePagamento</th>\n",
       "      <th>nrCNPJCPF</th>\n",
       "      <th>nmFornecedor</th>\n",
       "      <th>UF</th>\n",
       "      <th>cdProduto</th>\n",
       "      <th>cdCidade</th>\n",
       "      <th>cdEtapa</th>\n",
       "      <th>proponenteCgcCpf</th>\n",
       "    </tr>\n",
       "  </thead>\n",
       "  <tbody>\n",
       "    <tr>\n",
       "      <th>0</th>\n",
       "      <td>206555</td>\n",
       "      <td>163776</td>\n",
       "      <td>2016-10-06 18:14:06.297</td>\n",
       "      <td>1994185</td>\n",
       "      <td>3742</td>\n",
       "      <td>Manutenção do Sistema de Ar Condicionado</td>\n",
       "      <td>4B</td>\n",
       "      <td>2200.00</td>\n",
       "      <td>54000.0</td>\n",
       "      <td>363094</td>\n",
       "      <td>3488724000114</td>\n",
       "      <td>SUPRE-AR ARCONDICIONADO LTDA - ME</td>\n",
       "      <td>35</td>\n",
       "      <td>0</td>\n",
       "      <td>355030</td>\n",
       "      <td>4</td>\n",
       "      <td>51582658000190</td>\n",
       "    </tr>\n",
       "    <tr>\n",
       "      <th>1</th>\n",
       "      <td>206555</td>\n",
       "      <td>163776</td>\n",
       "      <td>2016-10-06 18:14:06.297</td>\n",
       "      <td>1994185</td>\n",
       "      <td>3742</td>\n",
       "      <td>Manutenção do Sistema de Ar Condicionado</td>\n",
       "      <td>4B</td>\n",
       "      <td>2200.00</td>\n",
       "      <td>54000.0</td>\n",
       "      <td>363111</td>\n",
       "      <td>3488724000114</td>\n",
       "      <td>SUPRE-AR ARCONDICIONADO LTDA - ME</td>\n",
       "      <td>35</td>\n",
       "      <td>0</td>\n",
       "      <td>355030</td>\n",
       "      <td>4</td>\n",
       "      <td>51582658000190</td>\n",
       "    </tr>\n",
       "    <tr>\n",
       "      <th>2</th>\n",
       "      <td>206555</td>\n",
       "      <td>163776</td>\n",
       "      <td>2016-10-06 18:14:06.297</td>\n",
       "      <td>1994185</td>\n",
       "      <td>3742</td>\n",
       "      <td>Manutenção do Sistema de Ar Condicionado</td>\n",
       "      <td>4B</td>\n",
       "      <td>18.44</td>\n",
       "      <td>54000.0</td>\n",
       "      <td>362427</td>\n",
       "      <td>58543315000165</td>\n",
       "      <td>METALCLEAN PRODUTOS QUIMICOS LTDA - EPP</td>\n",
       "      <td>35</td>\n",
       "      <td>0</td>\n",
       "      <td>355030</td>\n",
       "      <td>4</td>\n",
       "      <td>51582658000190</td>\n",
       "    </tr>\n",
       "    <tr>\n",
       "      <th>3</th>\n",
       "      <td>206555</td>\n",
       "      <td>163776</td>\n",
       "      <td>2016-10-06 18:14:06.297</td>\n",
       "      <td>1994185</td>\n",
       "      <td>3742</td>\n",
       "      <td>Manutenção do Sistema de Ar Condicionado</td>\n",
       "      <td>4B</td>\n",
       "      <td>2900.00</td>\n",
       "      <td>54000.0</td>\n",
       "      <td>363074</td>\n",
       "      <td>3488724000114</td>\n",
       "      <td>SUPRE-AR ARCONDICIONADO LTDA - ME</td>\n",
       "      <td>35</td>\n",
       "      <td>0</td>\n",
       "      <td>355030</td>\n",
       "      <td>4</td>\n",
       "      <td>51582658000190</td>\n",
       "    </tr>\n",
       "    <tr>\n",
       "      <th>4</th>\n",
       "      <td>206555</td>\n",
       "      <td>163776</td>\n",
       "      <td>2016-10-06 18:14:06.297</td>\n",
       "      <td>1994185</td>\n",
       "      <td>3742</td>\n",
       "      <td>Manutenção do Sistema de Ar Condicionado</td>\n",
       "      <td>4B</td>\n",
       "      <td>2200.00</td>\n",
       "      <td>54000.0</td>\n",
       "      <td>363097</td>\n",
       "      <td>3488724000114</td>\n",
       "      <td>SUPRE-AR ARCONDICIONADO LTDA - ME</td>\n",
       "      <td>35</td>\n",
       "      <td>0</td>\n",
       "      <td>355030</td>\n",
       "      <td>4</td>\n",
       "      <td>51582658000190</td>\n",
       "    </tr>\n",
       "  </tbody>\n",
       "</table>\n",
       "</div>"
      ],
      "text/plain": [
       "   IdPRONAC  PRONAC              DataProjeto  idPlanilhaAprovacao  \\\n",
       "0    206555  163776  2016-10-06 18:14:06.297              1994185   \n",
       "1    206555  163776  2016-10-06 18:14:06.297              1994185   \n",
       "2    206555  163776  2016-10-06 18:14:06.297              1994185   \n",
       "3    206555  163776  2016-10-06 18:14:06.297              1994185   \n",
       "4    206555  163776  2016-10-06 18:14:06.297              1994185   \n",
       "\n",
       "   idPlanilhaItem                                      Item idSegmento  \\\n",
       "0            3742  Manutenção do Sistema de Ar Condicionado         4B   \n",
       "1            3742  Manutenção do Sistema de Ar Condicionado         4B   \n",
       "2            3742  Manutenção do Sistema de Ar Condicionado         4B   \n",
       "3            3742  Manutenção do Sistema de Ar Condicionado         4B   \n",
       "4            3742  Manutenção do Sistema de Ar Condicionado         4B   \n",
       "\n",
       "   vlComprovacao  vlAprovado  idComprovantePagamento       nrCNPJCPF  \\\n",
       "0        2200.00     54000.0                  363094   3488724000114   \n",
       "1        2200.00     54000.0                  363111   3488724000114   \n",
       "2          18.44     54000.0                  362427  58543315000165   \n",
       "3        2900.00     54000.0                  363074   3488724000114   \n",
       "4        2200.00     54000.0                  363097   3488724000114   \n",
       "\n",
       "                              nmFornecedor  UF  cdProduto  cdCidade  cdEtapa  \\\n",
       "0        SUPRE-AR ARCONDICIONADO LTDA - ME  35          0    355030        4   \n",
       "1        SUPRE-AR ARCONDICIONADO LTDA - ME  35          0    355030        4   \n",
       "2  METALCLEAN PRODUTOS QUIMICOS LTDA - EPP  35          0    355030        4   \n",
       "3        SUPRE-AR ARCONDICIONADO LTDA - ME  35          0    355030        4   \n",
       "4        SUPRE-AR ARCONDICIONADO LTDA - ME  35          0    355030        4   \n",
       "\n",
       "   proponenteCgcCpf  \n",
       "0    51582658000190  \n",
       "1    51582658000190  \n",
       "2    51582658000190  \n",
       "3    51582658000190  \n",
       "4    51582658000190  "
      ]
     },
     "metadata": {},
     "output_type": "display_data"
    }
   ],
   "source": [
    "planilha_name = 'planilha_aprovacao_comprovacao.csv'\n",
    "planilha_comprovacao = read_csv(planilha_name)\n",
    "display(planilha_comprovacao.dtypes)\n",
    "display(planilha_comprovacao.head())"
   ]
  },
  {
   "cell_type": "markdown",
   "metadata": {},
   "source": [
    "### Extraindo apenas colunas necessárias do dataset"
   ]
  },
  {
   "cell_type": "code",
   "execution_count": 3,
   "metadata": {
    "scrolled": false
   },
   "outputs": [
    {
     "data": {
      "text/plain": [
       "IdPRONAC                 int64\n",
       "PRONAC                   int64\n",
       "idPlanilhaAprovacao      int64\n",
       "Item                    object\n",
       "idSegmento              object\n",
       "vlAprovado             float64\n",
       "vlComprovacao          float64\n",
       "dtype: object"
      ]
     },
     "metadata": {},
     "output_type": "display_data"
    },
    {
     "data": {
      "text/html": [
       "<div>\n",
       "<style scoped>\n",
       "    .dataframe tbody tr th:only-of-type {\n",
       "        vertical-align: middle;\n",
       "    }\n",
       "\n",
       "    .dataframe tbody tr th {\n",
       "        vertical-align: top;\n",
       "    }\n",
       "\n",
       "    .dataframe thead th {\n",
       "        text-align: right;\n",
       "    }\n",
       "</style>\n",
       "<table border=\"1\" class=\"dataframe\">\n",
       "  <thead>\n",
       "    <tr style=\"text-align: right;\">\n",
       "      <th></th>\n",
       "      <th>IdPRONAC</th>\n",
       "      <th>PRONAC</th>\n",
       "      <th>idPlanilhaAprovacao</th>\n",
       "      <th>Item</th>\n",
       "      <th>idSegmento</th>\n",
       "      <th>vlAprovado</th>\n",
       "      <th>vlComprovacao</th>\n",
       "    </tr>\n",
       "  </thead>\n",
       "  <tbody>\n",
       "    <tr>\n",
       "      <th>0</th>\n",
       "      <td>206555</td>\n",
       "      <td>163776</td>\n",
       "      <td>1994185</td>\n",
       "      <td>Manutenção do Sistema de Ar Condicionado</td>\n",
       "      <td>4B</td>\n",
       "      <td>54000.0</td>\n",
       "      <td>2200.00</td>\n",
       "    </tr>\n",
       "    <tr>\n",
       "      <th>1</th>\n",
       "      <td>206555</td>\n",
       "      <td>163776</td>\n",
       "      <td>1994185</td>\n",
       "      <td>Manutenção do Sistema de Ar Condicionado</td>\n",
       "      <td>4B</td>\n",
       "      <td>54000.0</td>\n",
       "      <td>2200.00</td>\n",
       "    </tr>\n",
       "    <tr>\n",
       "      <th>2</th>\n",
       "      <td>206555</td>\n",
       "      <td>163776</td>\n",
       "      <td>1994185</td>\n",
       "      <td>Manutenção do Sistema de Ar Condicionado</td>\n",
       "      <td>4B</td>\n",
       "      <td>54000.0</td>\n",
       "      <td>18.44</td>\n",
       "    </tr>\n",
       "    <tr>\n",
       "      <th>3</th>\n",
       "      <td>206555</td>\n",
       "      <td>163776</td>\n",
       "      <td>1994185</td>\n",
       "      <td>Manutenção do Sistema de Ar Condicionado</td>\n",
       "      <td>4B</td>\n",
       "      <td>54000.0</td>\n",
       "      <td>2900.00</td>\n",
       "    </tr>\n",
       "    <tr>\n",
       "      <th>4</th>\n",
       "      <td>206555</td>\n",
       "      <td>163776</td>\n",
       "      <td>1994185</td>\n",
       "      <td>Manutenção do Sistema de Ar Condicionado</td>\n",
       "      <td>4B</td>\n",
       "      <td>54000.0</td>\n",
       "      <td>2200.00</td>\n",
       "    </tr>\n",
       "  </tbody>\n",
       "</table>\n",
       "</div>"
      ],
      "text/plain": [
       "   IdPRONAC  PRONAC  idPlanilhaAprovacao  \\\n",
       "0    206555  163776              1994185   \n",
       "1    206555  163776              1994185   \n",
       "2    206555  163776              1994185   \n",
       "3    206555  163776              1994185   \n",
       "4    206555  163776              1994185   \n",
       "\n",
       "                                       Item idSegmento  vlAprovado  \\\n",
       "0  Manutenção do Sistema de Ar Condicionado         4B     54000.0   \n",
       "1  Manutenção do Sistema de Ar Condicionado         4B     54000.0   \n",
       "2  Manutenção do Sistema de Ar Condicionado         4B     54000.0   \n",
       "3  Manutenção do Sistema de Ar Condicionado         4B     54000.0   \n",
       "4  Manutenção do Sistema de Ar Condicionado         4B     54000.0   \n",
       "\n",
       "   vlComprovacao  \n",
       "0        2200.00  \n",
       "1        2200.00  \n",
       "2          18.44  \n",
       "3        2900.00  \n",
       "4        2200.00  "
      ]
     },
     "metadata": {},
     "output_type": "display_data"
    }
   ],
   "source": [
    "FEATURE_COLUMNS = ['IdPRONAC', 'PRONAC', 'idPlanilhaAprovacao', 'Item', 'idSegmento', 'vlAprovado', 'vlComprovacao']\n",
    "planilha_comprovacao = planilha_comprovacao[FEATURE_COLUMNS]\n",
    "display(planilha_comprovacao.dtypes)\n",
    "display(planilha_comprovacao.head())"
   ]
  },
  {
   "cell_type": "markdown",
   "metadata": {},
   "source": [
    "# Extraindo features do dataset\n",
    "\n",
    "**Features**:\n",
    "\n",
    "- PRONAC\n",
    "- Segmento\n",
    "- Itens: apenas itens que o valor comprovado ultrapassou em 50% o valor aprovado"
   ]
  },
  {
   "cell_type": "code",
   "execution_count": 4,
   "metadata": {},
   "outputs": [
    {
     "data": {
      "text/plain": [
       "(139, 7)"
      ]
     },
     "metadata": {},
     "output_type": "display_data"
    },
    {
     "data": {
      "text/html": [
       "<div>\n",
       "<style scoped>\n",
       "    .dataframe tbody tr th:only-of-type {\n",
       "        vertical-align: middle;\n",
       "    }\n",
       "\n",
       "    .dataframe tbody tr th {\n",
       "        vertical-align: top;\n",
       "    }\n",
       "\n",
       "    .dataframe thead th {\n",
       "        text-align: right;\n",
       "    }\n",
       "</style>\n",
       "<table border=\"1\" class=\"dataframe\">\n",
       "  <thead>\n",
       "    <tr style=\"text-align: right;\">\n",
       "      <th></th>\n",
       "      <th>IdPRONAC</th>\n",
       "      <th>PRONAC</th>\n",
       "      <th>idPlanilhaAprovacao</th>\n",
       "      <th>Item</th>\n",
       "      <th>idSegmento</th>\n",
       "      <th>vlAprovado</th>\n",
       "      <th>vlComprovacao</th>\n",
       "    </tr>\n",
       "  </thead>\n",
       "  <tbody>\n",
       "    <tr>\n",
       "      <th>4334</th>\n",
       "      <td>206466</td>\n",
       "      <td>163688</td>\n",
       "      <td>2070953</td>\n",
       "      <td>Contador</td>\n",
       "      <td>12</td>\n",
       "      <td>1000.0</td>\n",
       "      <td>1893.74</td>\n",
       "    </tr>\n",
       "    <tr>\n",
       "      <th>8702</th>\n",
       "      <td>173043</td>\n",
       "      <td>140416</td>\n",
       "      <td>1133539</td>\n",
       "      <td>Contador</td>\n",
       "      <td>6C</td>\n",
       "      <td>2000.0</td>\n",
       "      <td>3210.12</td>\n",
       "    </tr>\n",
       "    <tr>\n",
       "      <th>13306</th>\n",
       "      <td>183854</td>\n",
       "      <td>148907</td>\n",
       "      <td>2065086</td>\n",
       "      <td>Impressão</td>\n",
       "      <td>6E</td>\n",
       "      <td>23085.0</td>\n",
       "      <td>36630.00</td>\n",
       "    </tr>\n",
       "    <tr>\n",
       "      <th>16109</th>\n",
       "      <td>206902</td>\n",
       "      <td>164102</td>\n",
       "      <td>2184248</td>\n",
       "      <td>Telefone</td>\n",
       "      <td>11</td>\n",
       "      <td>110.0</td>\n",
       "      <td>585.74</td>\n",
       "    </tr>\n",
       "    <tr>\n",
       "      <th>22987</th>\n",
       "      <td>200798</td>\n",
       "      <td>1510549</td>\n",
       "      <td>1756672</td>\n",
       "      <td>Seguro (pessoas, obras e equipamentos - especi...</td>\n",
       "      <td>26</td>\n",
       "      <td>503.8</td>\n",
       "      <td>1512.21</td>\n",
       "    </tr>\n",
       "  </tbody>\n",
       "</table>\n",
       "</div>"
      ],
      "text/plain": [
       "       IdPRONAC   PRONAC  idPlanilhaAprovacao  \\\n",
       "4334     206466   163688              2070953   \n",
       "8702     173043   140416              1133539   \n",
       "13306    183854   148907              2065086   \n",
       "16109    206902   164102              2184248   \n",
       "22987    200798  1510549              1756672   \n",
       "\n",
       "                                                    Item idSegmento  \\\n",
       "4334                                            Contador         12   \n",
       "8702                                            Contador         6C   \n",
       "13306                                          Impressão         6E   \n",
       "16109                                           Telefone         11   \n",
       "22987  Seguro (pessoas, obras e equipamentos - especi...         26   \n",
       "\n",
       "       vlAprovado  vlComprovacao  \n",
       "4334       1000.0        1893.74  \n",
       "8702       2000.0        3210.12  \n",
       "13306     23085.0       36630.00  \n",
       "16109       110.0         585.74  \n",
       "22987       503.8        1512.21  "
      ]
     },
     "metadata": {},
     "output_type": "display_data"
    }
   ],
   "source": [
    "COMPROVADO = 'vlComprovacao'\n",
    "APROVADO = 'vlAprovado'\n",
    "\n",
    "verified_bigger_approved = planilha_comprovacao[COMPROVADO] > (planilha_comprovacao[APROVADO] * 1.5)\n",
    "df_verified_bigger = planilha_comprovacao[verified_bigger_approved]\n",
    "display(df_verified_bigger.shape)\n",
    "display(df_verified_bigger.head())"
   ]
  },
  {
   "cell_type": "markdown",
   "metadata": {},
   "source": [
    "## Poucos dados\n",
    "\n",
    "Em toda a base de dados, há apenas 139 itens orçamentários tal que o valor comprovado ultrapassou em 50% o valor aprovado. "
   ]
  },
  {
   "cell_type": "markdown",
   "metadata": {},
   "source": [
    "## Treino\n",
    "\n",
    "### Divisão de 80% para treino e 20% para teste"
   ]
  },
  {
   "cell_type": "code",
   "execution_count": 5,
   "metadata": {},
   "outputs": [
    {
     "name": "stdout",
     "output_type": "stream",
     "text": [
      "df_train.size = 174193\n",
      "df_test.size = 43664\n"
     ]
    }
   ],
   "source": [
    "from sklearn.model_selection import train_test_split\n",
    "\n",
    "TEST_SIZE = .2\n",
    "\n",
    "all_pronacs = planilha_comprovacao.PRONAC.unique()\n",
    "pronacs_train, pronacs_test = train_test_split(all_pronacs, test_size=TEST_SIZE)\n",
    "\n",
    "df_train = planilha_comprovacao[planilha_comprovacao['PRONAC'].isin(pronacs_train)]\n",
    "df_test = planilha_comprovacao[planilha_comprovacao['PRONAC'].isin(pronacs_test)]\n",
    "\n",
    "print('df_train.size = {}'.format(df_train.shape[0]))\n",
    "print('df_test.size = {}'.format(df_test.shape[0]))"
   ]
  },
  {
   "cell_type": "code",
   "execution_count": 6,
   "metadata": {},
   "outputs": [],
   "source": [
    "df_segment_group = df_train.groupby('idSegmento')\n",
    "segment_train = {}\n",
    "THRESHOLD = 1.5\n",
    "\n",
    "for segment, df_group in df_segment_group:\n",
    "    pronacs_count_bigger = np.zeros(df_group.PRONAC.unique().size)\n",
    "    segment_train[segment] = {}\n",
    "    for i, pronac_df_pronac in enumerate(df_group.groupby('PRONAC')):\n",
    "        pronac, df_pronac = pronac_df_pronac\n",
    "        bigger_than_approved = df_pronac[COMPROVADO] > (df_pronac[APROVADO] * THRESHOLD)\n",
    "        count = np.sum(bigger_than_approved)\n",
    "        pronacs_count_bigger[i] = count\n",
    "    segment_train[segment]['mean'] = np.mean(pronacs_count_bigger)\n",
    "    segment_train[segment]['std'] = np.std(pronacs_count_bigger)"
   ]
  },
  {
   "cell_type": "markdown",
   "metadata": {},
   "source": [
    "### Histograma das médias de valores comprovados maiores em 50% que o aprovado"
   ]
  },
  {
   "cell_type": "code",
   "execution_count": 7,
   "metadata": {
    "scrolled": true
   },
   "outputs": [
    {
     "data": {
      "image/png": "[encoded data removed]",
      "text/plain": [
       "<Figure size 432x288 with 1 Axes>"
      ]
     },
     "metadata": {
      "needs_background": "light"
     },
     "output_type": "display_data"
    }
   ],
   "source": [
    "all_means = [value['mean'] for value in segment_train.values()]\n",
    "plt.hist(all_means)\n",
    "plt.title('Médias de valores comprovados maiores em 50% que o aprovado em todos os segmentos')\n",
    "plt.xlabel('Média')\n",
    "plt.ylabel('Ocorrência')\n",
    "plt.show()"
   ]
  },
  {
   "cell_type": "markdown",
   "metadata": {},
   "source": [
    "### Histograma dos desvios padrões de valores comprovados maiores em 50% que o aprovado"
   ]
  },
  {
   "cell_type": "code",
   "execution_count": 8,
   "metadata": {
    "scrolled": true
   },
   "outputs": [
    {
     "data": {
      "image/png": "[encoded data removed]",
      "text/plain": [
       "<Figure size 432x288 with 1 Axes>"
      ]
     },
     "metadata": {
      "needs_background": "light"
     },
     "output_type": "display_data"
    }
   ],
   "source": [
    "all_std = [value['std'] for value in segment_train.values()]\n",
    "plt.hist(all_std)\n",
    "plt.title('Desvio padrões de valores comprovados maiores em 50% que o aprovado em todos os segmentos')\n",
    "plt.xlabel('Desvio padrão')\n",
    "plt.ylabel('Ocorrência')\n",
    "plt.show()"
   ]
  },
  {
   "cell_type": "markdown",
   "metadata": {},
   "source": [
    "# Teste"
   ]
  },
  {
   "cell_type": "code",
   "execution_count": 14,
   "metadata": {},
   "outputs": [
    {
     "name": "stdout",
     "output_type": "stream",
     "text": [
      "is_pronac(161118) outlier?\n",
      "{'is_outlier': True, 'outlier_items': 52611                                     Direitos autorais\n",
      "74920                                          Contra-regra\n",
      "80901                                           Cenotécnico\n",
      "83458                                       Operador de luz\n",
      "85841                                           Cenotécnico\n",
      "86394                                          Contra-regra\n",
      "89369                                          Contra-regra\n",
      "95131                                                Cartaz\n",
      "96632                                                Cartaz\n",
      "99465                                            Carregador\n",
      "101251                                    Diretor artístico\n",
      "103428                                  Material de consumo\n",
      "107165                                      Operador de luz\n",
      "107172                                          Eletricista\n",
      "107173                                      Operador de luz\n",
      "117308                                  Diretor de produção\n",
      "121682                                  Diretor de produção\n",
      "148970    Locação de equipamentos de luz (torres, mesas,...\n",
      "150139    Transporte Local / Locação de Automóvel / Comb...\n",
      "151208                                     Elenco Principal\n",
      "Name: Item, dtype: object}\n"
     ]
    }
   ],
   "source": [
    "from salicml.outliers import gaussian_outlier\n",
    "\n",
    "\n",
    "df_test_pronac_group = df_test.groupby('PRONAC')\n",
    "\n",
    "def is_pronac_outlier(pronac):\n",
    "    response = {\n",
    "        'is_outlier': False\n",
    "    }\n",
    "    \n",
    "    items = df_test_pronac_group.get_group(pronac)\n",
    "    segment = items.iloc[0]['idSegmento']\n",
    "    if segment not in segment_train:\n",
    "        return response\n",
    "    \n",
    "    bigger_than_approved = items[COMPROVADO] > (items[APROVADO] * THRESHOLD)\n",
    "    mean_std = segment_train[segment]\n",
    "    \n",
    "    count = np.sum(bigger_than_approved)\n",
    "    is_outlier = gaussian_outlier.is_outlier(count, mean_std['mean'], mean_std['std'])\n",
    "    response['is_outlier'] = is_outlier\n",
    "    outlier_items = items[bigger_than_approved].Item\n",
    "    response['outlier_items'] = outlier_items\n",
    "    return response\n",
    "\n",
    "for pronac in df_test.PRONAC.unique():\n",
    "    response = is_pronac_outlier(pronac)\n",
    "    is_outlier = response['is_outlier']\n",
    "    if is_outlier:\n",
    "        print('is_pronac({}) outlier?\\n{}'.format(pronac, is_pronac_outlier(pronac)))\n",
    "        break"
   ]
  },
  {
   "cell_type": "markdown",
   "metadata": {},
   "source": [
    "---\n",
    "## Resultados e Conclusões\n"
   ]
  }
 ],
 "metadata": {
  "kernelspec": {
   "display_name": "Python 3",
   "language": "python",
   "name": "python3"
  },
  "language_info": {
   "codemirror_mode": {
    "name": "ipython",
    "version": 3
   },
   "file_extension": ".py",
   "mimetype": "text/x-python",
   "name": "python",
   "nbconvert_exporter": "python",
   "pygments_lexer": "ipython3",
   "version": "3.6.4"
  }
 },
 "nbformat": 4,
 "nbformat_minor": 2
}
