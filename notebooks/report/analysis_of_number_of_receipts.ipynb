{
 "cells": [
  {
   "cell_type": "markdown",
   "metadata": {},
   "source": [
    "# Análise da métrica \"número de comprovantes\" de projetos culturais\n",
    "---\n",
    "\n",
    "Issue: [#170](https://github.com/lappis-unb/salic-ml/issues/170): Número total de comprovantes - Evoluir notebook comparando Gaussiana com LOF\n",
    "\n",
    "## Objetivos\n",
    "\n",
    "Realizar uma análise comparativa do número de comprovantes entre todos os projetos de um mesmo **produto cultural**. Nesta análise, será investigado se o número de comprovantes de um projeto cultural específico é anormal com relação aos demais projetos do mesmo produto cultural.\n",
    "\n",
    "A metodolgia e modelos aplicados neste notebook para identificar projetos considerados anômalos com relação à métrica \"número de comprovantes\" é a mesma aplicada no notebook `notebooks/report/analysis_of_approved_funds.ipynb`, relativo à métrica \"valor total aprovado para um projeto\"."
   ]
  },
  {
   "cell_type": "markdown",
   "metadata": {},
   "source": [
    "---\n",
    "## Preparação\n",
    "\n",
    "#### Importando módulos necessários"
   ]
  },
  {
   "cell_type": "code",
   "execution_count": 1,
   "metadata": {},
   "outputs": [
    {
     "name": "stdout",
     "output_type": "stream",
     "text": [
      "Populating the interactive namespace from numpy and matplotlib\n"
     ]
    }
   ],
   "source": [
    "%pylab inline\n",
    "import scipy\n",
    "import pandas as pd\n",
    "import seaborn as sns"
   ]
  },
  {
   "cell_type": "markdown",
   "metadata": {},
   "source": [
    "#### 1. Carregando dataset que relaciona projetos com suas respectivas categorias de \"produto cultural\""
   ]
  },
  {
   "cell_type": "code",
   "execution_count": 2,
   "metadata": {},
   "outputs": [
    {
     "name": "stdout",
     "output_type": "stream",
     "text": [
      "Index(['idPronac', 'PRONAC', 'idPlanilhaAprovacao', 'Item', 'idPlanilhaItens',\n",
      "       'Unidade', 'QtDias', 'QtItem', 'nrOcorrencia', 'VlUnitarioSolicitado',\n",
      "       'VlTotalSolicitado', 'VlUnitarioAprovado', 'VlTotalAprovado', 'UfItem',\n",
      "       'MunicipioItem', 'Etapa', 'idArea', 'Area', 'idSegmento', 'Segmento',\n",
      "       'idProduto', 'Produto', 'DataProjeto', 'cdCidade', 'cdEtapa'],\n",
      "      dtype='object')\n"
     ]
    },
    {
     "data": {
      "text/html": [
       "<div>\n",
       "<style scoped>\n",
       "    .dataframe tbody tr th:only-of-type {\n",
       "        vertical-align: middle;\n",
       "    }\n",
       "\n",
       "    .dataframe tbody tr th {\n",
       "        vertical-align: top;\n",
       "    }\n",
       "\n",
       "    .dataframe thead th {\n",
       "        text-align: right;\n",
       "    }\n",
       "</style>\n",
       "<table border=\"1\" class=\"dataframe\">\n",
       "  <thead>\n",
       "    <tr style=\"text-align: right;\">\n",
       "      <th></th>\n",
       "      <th>idPronac</th>\n",
       "      <th>PRONAC</th>\n",
       "      <th>idPlanilhaAprovacao</th>\n",
       "      <th>Item</th>\n",
       "      <th>idPlanilhaItens</th>\n",
       "      <th>Unidade</th>\n",
       "      <th>QtDias</th>\n",
       "      <th>QtItem</th>\n",
       "      <th>nrOcorrencia</th>\n",
       "      <th>VlUnitarioSolicitado</th>\n",
       "      <th>...</th>\n",
       "      <th>Etapa</th>\n",
       "      <th>idArea</th>\n",
       "      <th>Area</th>\n",
       "      <th>idSegmento</th>\n",
       "      <th>Segmento</th>\n",
       "      <th>idProduto</th>\n",
       "      <th>Produto</th>\n",
       "      <th>DataProjeto</th>\n",
       "      <th>cdCidade</th>\n",
       "      <th>cdEtapa</th>\n",
       "    </tr>\n",
       "  </thead>\n",
       "  <tbody>\n",
       "    <tr>\n",
       "      <th>0</th>\n",
       "      <td>121051</td>\n",
       "      <td>100855</td>\n",
       "      <td>792860</td>\n",
       "      <td>Passagens Aéreas (Descrever os trechos na tela...</td>\n",
       "      <td>131</td>\n",
       "      <td>Unidade</td>\n",
       "      <td>150</td>\n",
       "      <td>40.0</td>\n",
       "      <td>1.0</td>\n",
       "      <td>150.0</td>\n",
       "      <td>...</td>\n",
       "      <td>2 - Produção / Execução</td>\n",
       "      <td>1</td>\n",
       "      <td>Artes Cênicas</td>\n",
       "      <td>11</td>\n",
       "      <td>Teatro</td>\n",
       "      <td>19</td>\n",
       "      <td>Espetáculo de Artes Cênicas</td>\n",
       "      <td>2010-02-19 11:53:49.387</td>\n",
       "      <td>330455</td>\n",
       "      <td>2</td>\n",
       "    </tr>\n",
       "    <tr>\n",
       "      <th>1</th>\n",
       "      <td>121051</td>\n",
       "      <td>100855</td>\n",
       "      <td>792883</td>\n",
       "      <td>Bonecos – Criação</td>\n",
       "      <td>3599</td>\n",
       "      <td>Verba</td>\n",
       "      <td>90</td>\n",
       "      <td>1.0</td>\n",
       "      <td>1.0</td>\n",
       "      <td>4000.0</td>\n",
       "      <td>...</td>\n",
       "      <td>2 - Produção / Execução</td>\n",
       "      <td>1</td>\n",
       "      <td>Artes Cênicas</td>\n",
       "      <td>11</td>\n",
       "      <td>Teatro</td>\n",
       "      <td>19</td>\n",
       "      <td>Espetáculo de Artes Cênicas</td>\n",
       "      <td>2010-02-19 11:53:49.387</td>\n",
       "      <td>330455</td>\n",
       "      <td>2</td>\n",
       "    </tr>\n",
       "    <tr>\n",
       "      <th>2</th>\n",
       "      <td>121051</td>\n",
       "      <td>100855</td>\n",
       "      <td>792903</td>\n",
       "      <td>Produtor executivo</td>\n",
       "      <td>53</td>\n",
       "      <td>Verba</td>\n",
       "      <td>90</td>\n",
       "      <td>3.0</td>\n",
       "      <td>1.0</td>\n",
       "      <td>3000.0</td>\n",
       "      <td>...</td>\n",
       "      <td>2 - Produção / Execução</td>\n",
       "      <td>1</td>\n",
       "      <td>Artes Cênicas</td>\n",
       "      <td>11</td>\n",
       "      <td>Teatro</td>\n",
       "      <td>19</td>\n",
       "      <td>Espetáculo de Artes Cênicas</td>\n",
       "      <td>2010-02-19 11:53:49.387</td>\n",
       "      <td>355030</td>\n",
       "      <td>2</td>\n",
       "    </tr>\n",
       "    <tr>\n",
       "      <th>3</th>\n",
       "      <td>119968</td>\n",
       "      <td>98671</td>\n",
       "      <td>109095</td>\n",
       "      <td>Assistente de produção</td>\n",
       "      <td>1037</td>\n",
       "      <td>Verba</td>\n",
       "      <td>30</td>\n",
       "      <td>1.0</td>\n",
       "      <td>1.0</td>\n",
       "      <td>1000.0</td>\n",
       "      <td>...</td>\n",
       "      <td>1 - Pré-Produção / Preparação</td>\n",
       "      <td>3</td>\n",
       "      <td>Música</td>\n",
       "      <td>31</td>\n",
       "      <td>Música Popular Cantada</td>\n",
       "      <td>51</td>\n",
       "      <td>Apresentação Musical</td>\n",
       "      <td>2009-12-28 11:37:57.830</td>\n",
       "      <td>330455</td>\n",
       "      <td>1</td>\n",
       "    </tr>\n",
       "    <tr>\n",
       "      <th>4</th>\n",
       "      <td>112836</td>\n",
       "      <td>91695</td>\n",
       "      <td>116511</td>\n",
       "      <td>Designer</td>\n",
       "      <td>103</td>\n",
       "      <td>Mês</td>\n",
       "      <td>378</td>\n",
       "      <td>1.0</td>\n",
       "      <td>18.0</td>\n",
       "      <td>2000.0</td>\n",
       "      <td>...</td>\n",
       "      <td>2 - Produção / Execução</td>\n",
       "      <td>7</td>\n",
       "      <td>Artes Integradas</td>\n",
       "      <td>71</td>\n",
       "      <td>Artes Integradas</td>\n",
       "      <td>17</td>\n",
       "      <td>Pesquisa</td>\n",
       "      <td>2009-05-21 10:48:48.790</td>\n",
       "      <td>431490</td>\n",
       "      <td>2</td>\n",
       "    </tr>\n",
       "  </tbody>\n",
       "</table>\n",
       "<p>5 rows × 25 columns</p>\n",
       "</div>"
      ],
      "text/plain": [
       "   idPronac  PRONAC  idPlanilhaAprovacao  \\\n",
       "0    121051  100855               792860   \n",
       "1    121051  100855               792883   \n",
       "2    121051  100855               792903   \n",
       "3    119968   98671               109095   \n",
       "4    112836   91695               116511   \n",
       "\n",
       "                                                Item  idPlanilhaItens  \\\n",
       "0  Passagens Aéreas (Descrever os trechos na tela...              131   \n",
       "1                                  Bonecos – Criação             3599   \n",
       "2                                 Produtor executivo               53   \n",
       "3                             Assistente de produção             1037   \n",
       "4                                           Designer              103   \n",
       "\n",
       "   Unidade  QtDias  QtItem  nrOcorrencia  VlUnitarioSolicitado   ...    \\\n",
       "0  Unidade     150    40.0           1.0                 150.0   ...     \n",
       "1    Verba      90     1.0           1.0                4000.0   ...     \n",
       "2    Verba      90     3.0           1.0                3000.0   ...     \n",
       "3    Verba      30     1.0           1.0                1000.0   ...     \n",
       "4      Mês     378     1.0          18.0                2000.0   ...     \n",
       "\n",
       "                           Etapa  idArea              Area idSegmento  \\\n",
       "0        2 - Produção / Execução       1     Artes Cênicas         11   \n",
       "1        2 - Produção / Execução       1     Artes Cênicas         11   \n",
       "2        2 - Produção / Execução       1     Artes Cênicas         11   \n",
       "3  1 - Pré-Produção / Preparação       3            Música         31   \n",
       "4        2 - Produção / Execução       7  Artes Integradas         71   \n",
       "\n",
       "                 Segmento idProduto                      Produto  \\\n",
       "0                  Teatro        19  Espetáculo de Artes Cênicas   \n",
       "1                  Teatro        19  Espetáculo de Artes Cênicas   \n",
       "2                  Teatro        19  Espetáculo de Artes Cênicas   \n",
       "3  Música Popular Cantada        51         Apresentação Musical   \n",
       "4        Artes Integradas        17                     Pesquisa   \n",
       "\n",
       "               DataProjeto cdCidade cdEtapa  \n",
       "0  2010-02-19 11:53:49.387   330455       2  \n",
       "1  2010-02-19 11:53:49.387   330455       2  \n",
       "2  2010-02-19 11:53:49.387   355030       2  \n",
       "3  2009-12-28 11:37:57.830   330455       1  \n",
       "4  2009-05-21 10:48:48.790   431490       2  \n",
       "\n",
       "[5 rows x 25 columns]"
      ]
     },
     "execution_count": 2,
     "metadata": {},
     "output_type": "execute_result"
    }
   ],
   "source": [
    "df_budget = pd.read_csv('../../data/raw/planilha_orcamentaria.csv')\n",
    "print(df_budget.columns)\n",
    "df_budget.head()"
   ]
  },
  {
   "cell_type": "markdown",
   "metadata": {},
   "source": [
    "#### Visualizando amostra de produtos culturais"
   ]
  },
  {
   "cell_type": "code",
   "execution_count": 3,
   "metadata": {},
   "outputs": [
    {
     "name": "stdout",
     "output_type": "stream",
     "text": [
      "(75, 1)\n"
     ]
    },
    {
     "data": {
      "text/html": [
       "<div>\n",
       "<style scoped>\n",
       "    .dataframe tbody tr th:only-of-type {\n",
       "        vertical-align: middle;\n",
       "    }\n",
       "\n",
       "    .dataframe tbody tr th {\n",
       "        vertical-align: top;\n",
       "    }\n",
       "\n",
       "    .dataframe thead th {\n",
       "        text-align: right;\n",
       "    }\n",
       "</style>\n",
       "<table border=\"1\" class=\"dataframe\">\n",
       "  <thead>\n",
       "    <tr style=\"text-align: right;\">\n",
       "      <th></th>\n",
       "      <th></th>\n",
       "      <th>numOccurrences</th>\n",
       "    </tr>\n",
       "    <tr>\n",
       "      <th>idProduto</th>\n",
       "      <th>Produto</th>\n",
       "      <th></th>\n",
       "    </tr>\n",
       "  </thead>\n",
       "  <tbody>\n",
       "    <tr>\n",
       "      <th>0</th>\n",
       "      <th>Administracao do Projeto</th>\n",
       "      <td>41568</td>\n",
       "    </tr>\n",
       "    <tr>\n",
       "      <th>19</th>\n",
       "      <th>Espetáculo de Artes Cênicas</th>\n",
       "      <td>10360</td>\n",
       "    </tr>\n",
       "    <tr>\n",
       "      <th>51</th>\n",
       "      <th>Apresentação Musical</th>\n",
       "      <td>8338</td>\n",
       "    </tr>\n",
       "    <tr>\n",
       "      <th>1</th>\n",
       "      <th>Livro</th>\n",
       "      <td>6476</td>\n",
       "    </tr>\n",
       "    <tr>\n",
       "      <th>18</th>\n",
       "      <th>Festival/Mostra</th>\n",
       "      <td>4944</td>\n",
       "    </tr>\n",
       "  </tbody>\n",
       "</table>\n",
       "</div>"
      ],
      "text/plain": [
       "                                       numOccurrences\n",
       "idProduto Produto                                    \n",
       "0         Administracao do Projeto              41568\n",
       "19        Espetáculo de Artes Cênicas           10360\n",
       "51        Apresentação Musical                   8338\n",
       "1         Livro                                  6476\n",
       "18        Festival/Mostra                        4944"
      ]
     },
     "execution_count": 3,
     "metadata": {},
     "output_type": "execute_result"
    }
   ],
   "source": [
    "products = df_budget[['idProduto', 'Produto', 'PRONAC']].drop_duplicates()\n",
    "products = products.groupby(['idProduto', 'Produto']).count()\n",
    "products = products.rename(columns={'PRONAC' : 'numOccurrences'})\n",
    "products = products.sort_values(by='numOccurrences', ascending=False)\n",
    "print(products.shape)\n",
    "products.head()"
   ]
  },
  {
   "cell_type": "markdown",
   "metadata": {},
   "source": [
    "#### Extraindo a relação de itens de projetos e seus \"produtos culturais\""
   ]
  },
  {
   "cell_type": "code",
   "execution_count": 4,
   "metadata": {},
   "outputs": [
    {
     "name": "stdout",
     "output_type": "stream",
     "text": [
      "(1673527, 1)\n"
     ]
    },
    {
     "data": {
      "text/html": [
       "<div>\n",
       "<style scoped>\n",
       "    .dataframe tbody tr th:only-of-type {\n",
       "        vertical-align: middle;\n",
       "    }\n",
       "\n",
       "    .dataframe tbody tr th {\n",
       "        vertical-align: top;\n",
       "    }\n",
       "\n",
       "    .dataframe thead th {\n",
       "        text-align: right;\n",
       "    }\n",
       "</style>\n",
       "<table border=\"1\" class=\"dataframe\">\n",
       "  <thead>\n",
       "    <tr style=\"text-align: right;\">\n",
       "      <th></th>\n",
       "      <th></th>\n",
       "      <th>idProduto</th>\n",
       "    </tr>\n",
       "    <tr>\n",
       "      <th>PRONAC</th>\n",
       "      <th>idPlanilhaItens</th>\n",
       "      <th></th>\n",
       "    </tr>\n",
       "  </thead>\n",
       "  <tbody>\n",
       "    <tr>\n",
       "      <th rowspan=\"3\" valign=\"top\">100855</th>\n",
       "      <th>131</th>\n",
       "      <td>19</td>\n",
       "    </tr>\n",
       "    <tr>\n",
       "      <th>3599</th>\n",
       "      <td>19</td>\n",
       "    </tr>\n",
       "    <tr>\n",
       "      <th>53</th>\n",
       "      <td>19</td>\n",
       "    </tr>\n",
       "    <tr>\n",
       "      <th>98671</th>\n",
       "      <th>1037</th>\n",
       "      <td>51</td>\n",
       "    </tr>\n",
       "    <tr>\n",
       "      <th>91695</th>\n",
       "      <th>103</th>\n",
       "      <td>17</td>\n",
       "    </tr>\n",
       "  </tbody>\n",
       "</table>\n",
       "</div>"
      ],
      "text/plain": [
       "                        idProduto\n",
       "PRONAC idPlanilhaItens           \n",
       "100855 131                     19\n",
       "       3599                    19\n",
       "       53                      19\n",
       "98671  1037                    51\n",
       "91695  103                     17"
      ]
     },
     "execution_count": 4,
     "metadata": {},
     "output_type": "execute_result"
    }
   ],
   "source": [
    "projects = df_budget[['idProduto', 'idPlanilhaItens', 'PRONAC']].drop_duplicates()\n",
    "projects = projects.set_index(['PRONAC', 'idPlanilhaItens'])\n",
    "print(projects.shape)\n",
    "projects.head()"
   ]
  },
  {
   "cell_type": "markdown",
   "metadata": {},
   "source": [
    "#### 2. Carregando dataset que relaciona itens de projetos com seus respetivos comprovantes"
   ]
  },
  {
   "cell_type": "code",
   "execution_count": 5,
   "metadata": {},
   "outputs": [
    {
     "name": "stdout",
     "output_type": "stream",
     "text": [
      "Index(['PRONAC', 'idPlanilhaAprovacao', 'idComprovantePagamento', 'IdPRONAC',\n",
      "       'idSegmento', 'cdProduto', 'cdEtapa', 'cdUF', 'UF', 'cdCidade',\n",
      "       'idPlanilhaItem', 'Item', 'DataProjeto', 'nrComprovante', 'nrSerie',\n",
      "       'nrCNPJCPF', 'nmFornecedor', 'proponenteCgcCpf', 'tpDocumento',\n",
      "       'dtPagamento', 'dtEmissao', 'tpFormaDePagamento',\n",
      "       'nrDocumentoDePagamento', 'idArquivo', 'dsJustificativaProponente',\n",
      "       'dsOcorrenciaDoTecnico', 'stItemAvaliado', 'stAvaliacao',\n",
      "       'vlComprovacao'],\n",
      "      dtype='object')\n"
     ]
    },
    {
     "data": {
      "text/html": [
       "<div>\n",
       "<style scoped>\n",
       "    .dataframe tbody tr th:only-of-type {\n",
       "        vertical-align: middle;\n",
       "    }\n",
       "\n",
       "    .dataframe tbody tr th {\n",
       "        vertical-align: top;\n",
       "    }\n",
       "\n",
       "    .dataframe thead th {\n",
       "        text-align: right;\n",
       "    }\n",
       "</style>\n",
       "<table border=\"1\" class=\"dataframe\">\n",
       "  <thead>\n",
       "    <tr style=\"text-align: right;\">\n",
       "      <th></th>\n",
       "      <th>PRONAC</th>\n",
       "      <th>idPlanilhaAprovacao</th>\n",
       "      <th>idComprovantePagamento</th>\n",
       "      <th>IdPRONAC</th>\n",
       "      <th>idSegmento</th>\n",
       "      <th>cdProduto</th>\n",
       "      <th>cdEtapa</th>\n",
       "      <th>cdUF</th>\n",
       "      <th>UF</th>\n",
       "      <th>cdCidade</th>\n",
       "      <th>...</th>\n",
       "      <th>dtPagamento</th>\n",
       "      <th>dtEmissao</th>\n",
       "      <th>tpFormaDePagamento</th>\n",
       "      <th>nrDocumentoDePagamento</th>\n",
       "      <th>idArquivo</th>\n",
       "      <th>dsJustificativaProponente</th>\n",
       "      <th>dsOcorrenciaDoTecnico</th>\n",
       "      <th>stItemAvaliado</th>\n",
       "      <th>stAvaliacao</th>\n",
       "      <th>vlComprovacao</th>\n",
       "    </tr>\n",
       "  </thead>\n",
       "  <tbody>\n",
       "    <tr>\n",
       "      <th>0</th>\n",
       "      <td>1012121</td>\n",
       "      <td>18552</td>\n",
       "      <td>4326</td>\n",
       "      <td>132451</td>\n",
       "      <td>71</td>\n",
       "      <td>1</td>\n",
       "      <td>1</td>\n",
       "      <td>35</td>\n",
       "      <td>SP</td>\n",
       "      <td>355030</td>\n",
       "      <td>...</td>\n",
       "      <td>2014-01-16 00:00:00</td>\n",
       "      <td>2013-03-27 00:00:00</td>\n",
       "      <td>Transferencia Bancaria</td>\n",
       "      <td>42501</td>\n",
       "      <td>410880</td>\n",
       "      <td>Elaboração de projeto gráfico do livro.</td>\n",
       "      <td>NaN</td>\n",
       "      <td>4</td>\n",
       "      <td>Aguardando analise</td>\n",
       "      <td>12000.0</td>\n",
       "    </tr>\n",
       "    <tr>\n",
       "      <th>1</th>\n",
       "      <td>1012121</td>\n",
       "      <td>18553</td>\n",
       "      <td>4332</td>\n",
       "      <td>132451</td>\n",
       "      <td>71</td>\n",
       "      <td>1</td>\n",
       "      <td>2</td>\n",
       "      <td>35</td>\n",
       "      <td>SP</td>\n",
       "      <td>355030</td>\n",
       "      <td>...</td>\n",
       "      <td>2014-01-16 00:00:00</td>\n",
       "      <td>2012-04-30 00:00:00</td>\n",
       "      <td>Transferencia Bancaria</td>\n",
       "      <td>2945</td>\n",
       "      <td>410935</td>\n",
       "      <td>Reportagem e produção de textos para livro.</td>\n",
       "      <td>NaN</td>\n",
       "      <td>4</td>\n",
       "      <td>Aguardando analise</td>\n",
       "      <td>6000.0</td>\n",
       "    </tr>\n",
       "    <tr>\n",
       "      <th>2</th>\n",
       "      <td>1012121</td>\n",
       "      <td>18554</td>\n",
       "      <td>4755</td>\n",
       "      <td>132451</td>\n",
       "      <td>71</td>\n",
       "      <td>1</td>\n",
       "      <td>2</td>\n",
       "      <td>35</td>\n",
       "      <td>SP</td>\n",
       "      <td>355030</td>\n",
       "      <td>...</td>\n",
       "      <td>2014-01-28 00:00:00</td>\n",
       "      <td>2012-03-16 00:00:00</td>\n",
       "      <td>Transferencia Bancaria</td>\n",
       "      <td>31601</td>\n",
       "      <td>420731</td>\n",
       "      <td>Fotografia artística para o livro.</td>\n",
       "      <td>NaN</td>\n",
       "      <td>4</td>\n",
       "      <td>Aguardando analise</td>\n",
       "      <td>12000.0</td>\n",
       "    </tr>\n",
       "    <tr>\n",
       "      <th>3</th>\n",
       "      <td>1012121</td>\n",
       "      <td>18555</td>\n",
       "      <td>4334</td>\n",
       "      <td>132451</td>\n",
       "      <td>71</td>\n",
       "      <td>1</td>\n",
       "      <td>2</td>\n",
       "      <td>35</td>\n",
       "      <td>SP</td>\n",
       "      <td>355030</td>\n",
       "      <td>...</td>\n",
       "      <td>2014-01-16 00:00:00</td>\n",
       "      <td>2013-08-27 00:00:00</td>\n",
       "      <td>Transferencia Bancaria</td>\n",
       "      <td>90201</td>\n",
       "      <td>410939</td>\n",
       "      <td>Tratamento de imagens para o livro.</td>\n",
       "      <td>NaN</td>\n",
       "      <td>4</td>\n",
       "      <td>Aguardando analise</td>\n",
       "      <td>6000.0</td>\n",
       "    </tr>\n",
       "    <tr>\n",
       "      <th>4</th>\n",
       "      <td>1012121</td>\n",
       "      <td>18556</td>\n",
       "      <td>4327</td>\n",
       "      <td>132451</td>\n",
       "      <td>71</td>\n",
       "      <td>1</td>\n",
       "      <td>2</td>\n",
       "      <td>35</td>\n",
       "      <td>SP</td>\n",
       "      <td>355030</td>\n",
       "      <td>...</td>\n",
       "      <td>2014-01-16 00:00:00</td>\n",
       "      <td>2012-05-04 00:00:00</td>\n",
       "      <td>Transferencia Bancaria</td>\n",
       "      <td>2945</td>\n",
       "      <td>410917</td>\n",
       "      <td>Edição dos textos do livro.</td>\n",
       "      <td>NaN</td>\n",
       "      <td>4</td>\n",
       "      <td>Aguardando analise</td>\n",
       "      <td>8000.0</td>\n",
       "    </tr>\n",
       "  </tbody>\n",
       "</table>\n",
       "<p>5 rows × 29 columns</p>\n",
       "</div>"
      ],
      "text/plain": [
       "    PRONAC  idPlanilhaAprovacao  idComprovantePagamento  IdPRONAC idSegmento  \\\n",
       "0  1012121                18552                    4326    132451         71   \n",
       "1  1012121                18553                    4332    132451         71   \n",
       "2  1012121                18554                    4755    132451         71   \n",
       "3  1012121                18555                    4334    132451         71   \n",
       "4  1012121                18556                    4327    132451         71   \n",
       "\n",
       "   cdProduto  cdEtapa  cdUF  UF  cdCidade      ...               dtPagamento  \\\n",
       "0          1        1    35  SP    355030      ...       2014-01-16 00:00:00   \n",
       "1          1        2    35  SP    355030      ...       2014-01-16 00:00:00   \n",
       "2          1        2    35  SP    355030      ...       2014-01-28 00:00:00   \n",
       "3          1        2    35  SP    355030      ...       2014-01-16 00:00:00   \n",
       "4          1        2    35  SP    355030      ...       2014-01-16 00:00:00   \n",
       "\n",
       "             dtEmissao      tpFormaDePagamento nrDocumentoDePagamento  \\\n",
       "0  2013-03-27 00:00:00  Transferencia Bancaria                  42501   \n",
       "1  2012-04-30 00:00:00  Transferencia Bancaria                   2945   \n",
       "2  2012-03-16 00:00:00  Transferencia Bancaria                  31601   \n",
       "3  2013-08-27 00:00:00  Transferencia Bancaria                  90201   \n",
       "4  2012-05-04 00:00:00  Transferencia Bancaria                   2945   \n",
       "\n",
       "  idArquivo                    dsJustificativaProponente  \\\n",
       "0    410880      Elaboração de projeto gráfico do livro.   \n",
       "1    410935  Reportagem e produção de textos para livro.   \n",
       "2    420731           Fotografia artística para o livro.   \n",
       "3    410939          Tratamento de imagens para o livro.   \n",
       "4    410917                  Edição dos textos do livro.   \n",
       "\n",
       "  dsOcorrenciaDoTecnico  stItemAvaliado         stAvaliacao vlComprovacao  \n",
       "0                   NaN               4  Aguardando analise       12000.0  \n",
       "1                   NaN               4  Aguardando analise        6000.0  \n",
       "2                   NaN               4  Aguardando analise       12000.0  \n",
       "3                   NaN               4  Aguardando analise        6000.0  \n",
       "4                   NaN               4  Aguardando analise        8000.0  \n",
       "\n",
       "[5 rows x 29 columns]"
      ]
     },
     "execution_count": 5,
     "metadata": {},
     "output_type": "execute_result"
    }
   ],
   "source": [
    "df_receipts = pd.read_csv('../../data/raw/planilha_comprovacao.csv', low_memory=False)\n",
    "print(df_receipts.columns)\n",
    "df_receipts.head()"
   ]
  },
  {
   "cell_type": "markdown",
   "metadata": {},
   "source": [
    "#### Extraindo os comprovantes identificados por item e projeto"
   ]
  },
  {
   "cell_type": "code",
   "execution_count": 6,
   "metadata": {},
   "outputs": [
    {
     "name": "stdout",
     "output_type": "stream",
     "text": [
      "(355659, 1)\n"
     ]
    },
    {
     "data": {
      "text/html": [
       "<div>\n",
       "<style scoped>\n",
       "    .dataframe tbody tr th:only-of-type {\n",
       "        vertical-align: middle;\n",
       "    }\n",
       "\n",
       "    .dataframe tbody tr th {\n",
       "        vertical-align: top;\n",
       "    }\n",
       "\n",
       "    .dataframe thead th {\n",
       "        text-align: right;\n",
       "    }\n",
       "</style>\n",
       "<table border=\"1\" class=\"dataframe\">\n",
       "  <thead>\n",
       "    <tr style=\"text-align: right;\">\n",
       "      <th></th>\n",
       "      <th></th>\n",
       "      <th>idComprovantePagamento</th>\n",
       "    </tr>\n",
       "    <tr>\n",
       "      <th>PRONAC</th>\n",
       "      <th>idPlanilhaItens</th>\n",
       "      <th></th>\n",
       "    </tr>\n",
       "  </thead>\n",
       "  <tbody>\n",
       "    <tr>\n",
       "      <th rowspan=\"5\" valign=\"top\">1012121</th>\n",
       "      <th>43</th>\n",
       "      <td>4326</td>\n",
       "    </tr>\n",
       "    <tr>\n",
       "      <th>91</th>\n",
       "      <td>4332</td>\n",
       "    </tr>\n",
       "    <tr>\n",
       "      <th>143</th>\n",
       "      <td>4755</td>\n",
       "    </tr>\n",
       "    <tr>\n",
       "      <th>3204</th>\n",
       "      <td>4334</td>\n",
       "    </tr>\n",
       "    <tr>\n",
       "      <th>97</th>\n",
       "      <td>4327</td>\n",
       "    </tr>\n",
       "  </tbody>\n",
       "</table>\n",
       "</div>"
      ],
      "text/plain": [
       "                         idComprovantePagamento\n",
       "PRONAC  idPlanilhaItens                        \n",
       "1012121 43                                 4326\n",
       "        91                                 4332\n",
       "        143                                4755\n",
       "        3204                               4334\n",
       "        97                                 4327"
      ]
     },
     "execution_count": 6,
     "metadata": {},
     "output_type": "execute_result"
    }
   ],
   "source": [
    "receipts = df_receipts[['PRONAC', 'idComprovantePagamento', 'idPlanilhaItem']].drop_duplicates()\n",
    "receipts = receipts.rename(columns={'idPlanilhaItem': 'idPlanilhaItens'})\n",
    "receipts = receipts.set_index(['PRONAC', 'idPlanilhaItens'])\n",
    "print(receipts.shape)\n",
    "receipts.head()"
   ]
  },
  {
   "cell_type": "markdown",
   "metadata": {},
   "source": [
    "#### 3. Gerando dataset contendo os dados do produto cultural, identificador do projeto e seu número de comprovantes"
   ]
  },
  {
   "cell_type": "code",
   "execution_count": 7,
   "metadata": {},
   "outputs": [
    {
     "name": "stdout",
     "output_type": "stream",
     "text": [
      "(6766, 1)\n"
     ]
    },
    {
     "data": {
      "text/html": [
       "<div>\n",
       "<style scoped>\n",
       "    .dataframe tbody tr th:only-of-type {\n",
       "        vertical-align: middle;\n",
       "    }\n",
       "\n",
       "    .dataframe tbody tr th {\n",
       "        vertical-align: top;\n",
       "    }\n",
       "\n",
       "    .dataframe thead th {\n",
       "        text-align: right;\n",
       "    }\n",
       "</style>\n",
       "<table border=\"1\" class=\"dataframe\">\n",
       "  <thead>\n",
       "    <tr style=\"text-align: right;\">\n",
       "      <th></th>\n",
       "      <th></th>\n",
       "      <th>numReceipts</th>\n",
       "    </tr>\n",
       "    <tr>\n",
       "      <th>idProduto</th>\n",
       "      <th>PRONAC</th>\n",
       "      <th></th>\n",
       "    </tr>\n",
       "  </thead>\n",
       "  <tbody>\n",
       "    <tr>\n",
       "      <th rowspan=\"5\" valign=\"top\">0.0</th>\n",
       "      <th>110107</th>\n",
       "      <td>4</td>\n",
       "    </tr>\n",
       "    <tr>\n",
       "      <th>110131</th>\n",
       "      <td>5</td>\n",
       "    </tr>\n",
       "    <tr>\n",
       "      <th>110152</th>\n",
       "      <td>1</td>\n",
       "    </tr>\n",
       "    <tr>\n",
       "      <th>110170</th>\n",
       "      <td>3</td>\n",
       "    </tr>\n",
       "    <tr>\n",
       "      <th>110283</th>\n",
       "      <td>9</td>\n",
       "    </tr>\n",
       "  </tbody>\n",
       "</table>\n",
       "</div>"
      ],
      "text/plain": [
       "                  numReceipts\n",
       "idProduto PRONAC             \n",
       "0.0       110107            4\n",
       "          110131            5\n",
       "          110152            1\n",
       "          110170            3\n",
       "          110283            9"
      ]
     },
     "execution_count": 7,
     "metadata": {},
     "output_type": "execute_result"
    }
   ],
   "source": [
    "projects_receipts = receipts.join(projects)\n",
    "projects_receipts = projects_receipts.groupby(['idProduto', 'PRONAC']).count()\n",
    "projects_receipts = projects_receipts.rename(columns={'idComprovantePagamento': 'numReceipts'})\n",
    "print(projects_receipts.shape)\n",
    "projects_receipts.head()"
   ]
  },
  {
   "cell_type": "markdown",
   "metadata": {},
   "source": [
    "---\n",
    "## Desenvolvimento\n",
    "\n",
    "Nesta etapa, será analisado o número de comprovantes de projetos para um produto cultural escolhido."
   ]
  },
  {
   "cell_type": "markdown",
   "metadata": {},
   "source": [
    "#### Esolhendo um produto cultural e gerando uma lista de número de comprovantes para os seus projetos"
   ]
  },
  {
   "cell_type": "code",
   "execution_count": 8,
   "metadata": {
    "scrolled": true
   },
   "outputs": [
    {
     "data": {
      "text/plain": [
       "PRONAC\n",
       "110107    4\n",
       "110131    5\n",
       "110152    1\n",
       "110170    3\n",
       "110283    9\n",
       "Name: numReceipts, dtype: int64"
      ]
     },
     "metadata": {},
     "output_type": "display_data"
    }
   ],
   "source": [
    "product = 0\n",
    "product_projects = projects_receipts.loc[product]['numReceipts']\n",
    "display(product_projects.head())\n",
    "\n",
    "# Gross rounding to improve visualization\n",
    "product_projects[product_projects > 400] = 400"
   ]
  },
  {
   "cell_type": "markdown",
   "metadata": {},
   "source": [
    "#### Gerando histograma dos dados acima"
   ]
  },
  {
   "cell_type": "code",
   "execution_count": 9,
   "metadata": {},
   "outputs": [
    {
     "name": "stdout",
     "output_type": "stream",
     "text": [
      "Média da distribuição: 18.78\n",
      "Desvio padrão da distribuição: 39.12\n",
      "\n"
     ]
    },
    {
     "data": {
      "image/png": "[encoded data removed]",
      "text/plain": [
       "<matplotlib.figure.Figure at 0x7f2cf790e940>"
      ]
     },
     "metadata": {},
     "output_type": "display_data"
    }
   ],
   "source": [
    "sns.set(style='whitegrid', palette='dark')\n",
    "f, ax = plt.subplots(figsize=(16,4))\n",
    "\n",
    "sns.distplot(product_projects, bins=200, kde=False)\n",
    "plt.title('Histograma de número de comprovantes de projetos de um mesmo produto cultural')\n",
    "plt.ylabel('Quantidade de projetos')\n",
    "plt.xlabel('Número de comprovantes por projeto')\n",
    "plt.grid(True)\n",
    "\n",
    "expected_mean = np.mean(product_projects)\n",
    "expected_std = np.std(product_projects)\n",
    "\n",
    "print('Média da distribuição: %.2lf' % expected_mean)\n",
    "print('Desvio padrão da distribuição: %.2lf\\n' % expected_std)"
   ]
  },
  {
   "cell_type": "markdown",
   "metadata": {},
   "source": [
    "#### Separando os conjuntos de treino e teste"
   ]
  },
  {
   "cell_type": "code",
   "execution_count": 10,
   "metadata": {},
   "outputs": [
    {
     "data": {
      "text/plain": [
       "PRONAC\n",
       "124007    16\n",
       "153451     3\n",
       "160112     8\n",
       "153502    11\n",
       "152421     2\n",
       "Name: numReceipts, dtype: int64"
      ]
     },
     "metadata": {},
     "output_type": "display_data"
    },
    {
     "data": {
      "text/plain": [
       "PRONAC\n",
       "1411766    20\n",
       "127376     11\n",
       "154899     26\n",
       "170497      1\n",
       "138048     33\n",
       "Name: numReceipts, dtype: int64"
      ]
     },
     "metadata": {},
     "output_type": "display_data"
    }
   ],
   "source": [
    "from sklearn.model_selection import train_test_split\n",
    "projects_train, projects_test = train_test_split(product_projects, test_size=0.3)\n",
    "\n",
    "display(projects_train.head())\n",
    "display(projects_test.head())"
   ]
  },
  {
   "cell_type": "markdown",
   "metadata": {},
   "source": [
    "#### Implementando função auxiliar para mostrar os gráficos e estatísticas referentes a cada um dos modelos explorados"
   ]
  },
  {
   "cell_type": "code",
   "execution_count": 11,
   "metadata": {},
   "outputs": [],
   "source": [
    "import time\n",
    "def show_stats(model, train_set, test_set, bin_size=1):\n",
    "    begin = time.time()\n",
    "    model.fit(train_set)\n",
    "    print('Tempo de treinamento: %.3lf (s)' % (time.time() - begin))\n",
    "    begin = time.time()\n",
    "    is_inlier = model.predict(test_set)\n",
    "    print('Tempo de teste: %.3lf (s)' % (time.time() - begin))\n",
    "\n",
    "    contamination_found = sum(~is_inlier) / len(test_set)\n",
    "    print('Percentual de outliers esperado: %.2lf%%' % (100 * model.contamination))\n",
    "    print('Percentual de outliers encontrado: %.2lf%%' % (100 * contamination_found))\n",
    "\n",
    "    sns.set(style='whitegrid', palette='dark')\n",
    "    f, ax = plt.subplots(figsize=(16,4))\n",
    "\n",
    "    inliers = test_set[is_inlier]\n",
    "    bins = max(1, int((max(inliers) - min(inliers)) // bin_size) + 1)\n",
    "    sns.distplot(inliers, label='inliers', color='b', kde=False, bins=bins)\n",
    "\n",
    "    outliers = test_set[~is_inlier]\n",
    "    bins = max(1, int((max(outliers) - min(outliers)) // bin_size) + 1)\n",
    "    sns.distplot(outliers, label='outliers', color='r', kde=False, bins=bins)\n",
    "    \n",
    "    if hasattr(model.model, 'pdf'):\n",
    "        x = np.linspace(min(test_set), max(test_set), 1000)\n",
    "        plt.plot(x,  bin_size * len(test_set) * model.model.pdf(x), label='PDF')\n",
    "\n",
    "    plt.legend(frameon=True)\n",
    "    plt.ylabel('# projects')\n",
    "    plt.xlabel('# receipts')\n",
    "    plt.title('Inlier/Outlier division')"
   ]
  },
  {
   "cell_type": "markdown",
   "metadata": {},
   "source": [
    "#### Implementando funções auxiliares para os modelos utilizados"
   ]
  },
  {
   "cell_type": "code",
   "execution_count": 12,
   "metadata": {},
   "outputs": [],
   "source": [
    "def bisect(f, a=0, b=1, rtol=1e-6, maxiter=40):\n",
    "    # simplified scipy.optimize.bisect\n",
    "    niter, x0 = (0, a)\n",
    "    while niter < maxiter:\n",
    "        niter += 1\n",
    "        x0 = (b + a) / 2\n",
    "        f0 = f(x0)\n",
    "        if abs(f0) < rtol:\n",
    "            break\n",
    "        elif f0 < 0:\n",
    "            b = x0\n",
    "        else:\n",
    "            a = x0\n",
    "    return x0\n",
    "\n",
    "def find_threshold(model, X, contamination):\n",
    "    h = max(X) - min(X)\n",
    "    _X = np.linspace(min(X) - h, max(X) + h, int(1e3))\n",
    "    dx = _X[1] - _X[0]\n",
    "    pdf = model.pdf(_X)\n",
    "    def f(threshold):\n",
    "        _pdf = pdf.copy()\n",
    "        _pdf[_pdf <= threshold] = 0\n",
    "        I = scipy.integrate.simps(_pdf, dx=dx)\n",
    "        return I - (1.0 - contamination)\n",
    "    return bisect(f)"
   ]
  },
  {
   "cell_type": "markdown",
   "metadata": {},
   "source": [
    "#### Modelo Gaussiano"
   ]
  },
  {
   "cell_type": "code",
   "execution_count": 13,
   "metadata": {
    "scrolled": false
   },
   "outputs": [
    {
     "name": "stdout",
     "output_type": "stream",
     "text": [
      "Tempo de treinamento: 0.014 (s)\n",
      "Tempo de teste: 0.001 (s)\n",
      "Percentual de outliers esperado: 10.00%\n",
      "Percentual de outliers encontrado: 3.37%\n"
     ]
    },
    {
     "data": {
      "image/png": "[encoded data removed]",
      "text/plain": [
       "<matplotlib.figure.Figure at 0x7f2cdd159d30>"
      ]
     },
     "metadata": {},
     "output_type": "display_data"
    }
   ],
   "source": [
    "class Gaussian:\n",
    "    def __init__(self, contamination=0.1):\n",
    "        self.contamination = contamination\n",
    "\n",
    "    def fit(self, X):\n",
    "        # Generate model\n",
    "        mean, std = scipy.stats.norm.fit(X)\n",
    "        self.model = scipy.stats.norm(mean, std)\n",
    "        # Find threshold\n",
    "        self.threshold = find_threshold(self.model, X, self.contamination)\n",
    "        return self\n",
    "    \n",
    "    def predict(self, X):\n",
    "        is_inlier = (self.model.pdf(X) > self.threshold)\n",
    "        return is_inlier\n",
    "\n",
    "show_stats(Gaussian(), projects_train, projects_test, bin_size=4)"
   ]
  },
  {
   "cell_type": "markdown",
   "metadata": {},
   "source": [
    "#### Modelo Log-normal"
   ]
  },
  {
   "cell_type": "code",
   "execution_count": 14,
   "metadata": {},
   "outputs": [
    {
     "name": "stdout",
     "output_type": "stream",
     "text": [
      "Tempo de treinamento: 0.132 (s)\n",
      "Tempo de teste: 0.002 (s)\n",
      "Percentual de outliers esperado: 10.00%\n",
      "Percentual de outliers encontrado: 8.82%\n"
     ]
    },
    {
     "data": {
      "image/png": "[encoded data removed]",
      "text/plain": [
       "<matplotlib.figure.Figure at 0x7f2cdce7ce10>"
      ]
     },
     "metadata": {},
     "output_type": "display_data"
    }
   ],
   "source": [
    "class Lognormal:\n",
    "    def __init__(self, contamination=0.1, transform=None):\n",
    "        self.contamination = contamination\n",
    "        self.transform = transform\n",
    "\n",
    "    def fit(self, X):\n",
    "        # Generate model\n",
    "        if self.transform:\n",
    "            X = self.transform(X)\n",
    "        s, loc, scale = scipy.stats.lognorm.fit(X, floc=0)\n",
    "        self.model = scipy.stats.lognorm(np.std(np.log(X)), loc=loc, scale=scale)\n",
    "        # Find threshold\n",
    "        self.threshold = find_threshold(self.model, X, self.contamination)\n",
    "        return self\n",
    "    \n",
    "    def predict(self, X):\n",
    "        is_inlier = (self.model.pdf(X) > self.threshold)\n",
    "        return is_inlier\n",
    "\n",
    "show_stats(Lognormal(), projects_train, projects_test, bin_size=4)"
   ]
  },
  {
   "cell_type": "markdown",
   "metadata": {},
   "source": [
    "#### Modelo Gamma"
   ]
  },
  {
   "cell_type": "code",
   "execution_count": 15,
   "metadata": {},
   "outputs": [
    {
     "name": "stdout",
     "output_type": "stream",
     "text": [
      "Tempo de treinamento: 0.012 (s)\n",
      "Tempo de teste: 0.002 (s)\n",
      "Percentual de outliers esperado: 10.00%\n",
      "Percentual de outliers encontrado: 3.11%\n"
     ]
    },
    {
     "data": {
      "image/png": "[encoded data removed]",
      "text/plain": [
       "<matplotlib.figure.Figure at 0x7f2cdd1779b0>"
      ]
     },
     "metadata": {},
     "output_type": "display_data"
    }
   ],
   "source": [
    "class Gamma:\n",
    "    def __init__(self, contamination=0.1):\n",
    "        self.contamination = contamination\n",
    "\n",
    "    def fit(self, X):\n",
    "        # Generate model\n",
    "        params = scipy.stats.gamma.fit(X, floc=0)\n",
    "        self.model = scipy.stats.gamma(*params)\n",
    "        # Find threshold\n",
    "        self.threshold = find_threshold(self.model, X, self.contamination)\n",
    "        return self\n",
    "    \n",
    "    def predict(self, X):\n",
    "        is_inlier = (self.model.pdf(X) > self.threshold)\n",
    "        return is_inlier\n",
    "    \n",
    "show_stats(Gamma(), projects_train, projects_test, bin_size=4)"
   ]
  },
  {
   "cell_type": "markdown",
   "metadata": {},
   "source": [
    "#### Modelo de Estimativa de Densidade Kernel com Kernel Gaussiano"
   ]
  },
  {
   "cell_type": "code",
   "execution_count": 16,
   "metadata": {},
   "outputs": [
    {
     "name": "stdout",
     "output_type": "stream",
     "text": [
      "Tempo de treinamento: 0.289 (s)\n",
      "Tempo de teste: 0.161 (s)\n",
      "Percentual de outliers esperado: 10.00%\n",
      "Percentual de outliers encontrado: 7.39%\n"
     ]
    },
    {
     "data": {
      "image/png": "[encoded data removed]",
      "text/plain": [
       "<matplotlib.figure.Figure at 0x7f2cdccf5a20>"
      ]
     },
     "metadata": {},
     "output_type": "display_data"
    }
   ],
   "source": [
    "class KDE:\n",
    "    def __init__(self, contamination=0.1, kernel='gauss'):\n",
    "        self.contamination = contamination\n",
    "        self.kernel = kernel\n",
    "\n",
    "    def fit(self, X):\n",
    "        # Generate model\n",
    "        if self.kernel == 'gauss':\n",
    "            self.model = scipy.stats.gaussian_kde(X)\n",
    "        else:\n",
    "            raise AttributeError('Kernel function not found')\n",
    "        # Find threshold\n",
    "        self.threshold = find_threshold(self.model, X, self.contamination)\n",
    "        return self\n",
    "    \n",
    "    def predict(self, X):\n",
    "        is_inlier = (self.model.pdf(X) > self.threshold)\n",
    "        return is_inlier\n",
    "    \n",
    "show_stats(KDE(), projects_train, projects_test, bin_size=4)"
   ]
  },
  {
   "cell_type": "markdown",
   "metadata": {},
   "source": [
    "#### Estimador por Fator de Anomalia Local (LOF)"
   ]
  },
  {
   "cell_type": "code",
   "execution_count": 17,
   "metadata": {},
   "outputs": [
    {
     "name": "stdout",
     "output_type": "stream",
     "text": [
      "Tempo de treinamento: 0.076 (s)\n",
      "Tempo de teste: 0.009 (s)\n",
      "Percentual de outliers esperado: 10.00%\n",
      "Percentual de outliers encontrado: 18.29%\n"
     ]
    },
    {
     "data": {
      "image/png": "[encoded data removed]",
      "text/plain": [
       "<matplotlib.figure.Figure at 0x7f2cdccf1438>"
      ]
     },
     "metadata": {},
     "output_type": "display_data"
    }
   ],
   "source": [
    "from sklearn.neighbors import LocalOutlierFactor\n",
    "class LOF:\n",
    "    def __init__(self, contamination=0.1, n_neighbors=20):\n",
    "        self.contamination = contamination\n",
    "        self.n_neighbors = n_neighbors\n",
    "\n",
    "    def fit(self, X):\n",
    "        # Transform data into a 2D array\n",
    "        X = self._1Dto2D(X)\n",
    "        # Get inliers of the training set with LOF Outlier Detection\n",
    "        lof_OD = LocalOutlierFactor(contamination=self.contamination,\n",
    "                                    n_neighbors=self.n_neighbors)\n",
    "        y = lof_OD.fit_predict(X)\n",
    "        X = X[y == 1, :]\n",
    "        # Train model with LOF Novelty Detection, using train set inliers\n",
    "        # Parameter 'contamination' does not matter at this point\n",
    "        self.model = LocalOutlierFactor(novelty=True, contamination=0.5)\n",
    "        self.model = self.model.fit(X)\n",
    "        return self\n",
    "    \n",
    "    def predict(self, X):\n",
    "        X = self._1Dto2D(X)\n",
    "        is_inlier = (self.model.predict(X) == 1)\n",
    "        return is_inlier\n",
    "    \n",
    "    def _1Dto2D(self, X):\n",
    "        shape = (len(X),1)\n",
    "        return np.hstack([np.array(X.tolist()).reshape(shape), np.zeros(shape)])\n",
    "\n",
    "show_stats(LOF(n_neighbors=100), projects_train, projects_test, bin_size=4)"
   ]
  },
  {
   "cell_type": "markdown",
   "metadata": {},
   "source": [
    "#### Avaliando a contaminação média encontrada\n",
    "\n",
    "Nesta seção, os diversos modelos implementados acima são aplicados a várias escolhas aleatórias de conjuntos de treino/teste. Ao final, o desempenho de cada modelo é avaliado."
   ]
  },
  {
   "cell_type": "code",
   "execution_count": 18,
   "metadata": {},
   "outputs": [],
   "source": [
    "models = [{\n",
    "    'name': 'Gaussian',\n",
    "    'curve': Gaussian(),\n",
    "    'results': []\n",
    "},{\n",
    "    'name': 'Log-normal',\n",
    "    'curve': Lognormal(),\n",
    "    'results': []\n",
    "},{\n",
    "    'name': 'Gamma',\n",
    "    'curve': Gamma(),\n",
    "    'results': []\n",
    "},{\n",
    "    'name': 'KDE-Gauss',\n",
    "    'curve': KDE(),\n",
    "    'results': []\n",
    "},{\n",
    "    'name': 'LOF',\n",
    "    'curve': LOF(n_neighbors=100),\n",
    "    'results': []\n",
    "}]\n",
    "\n",
    "for i in range(100):\n",
    "    # Separate train and test sets\n",
    "    projects_train, projects_test = train_test_split(product_projects, test_size=0.3)\n",
    "    \n",
    "    # Get results for each model\n",
    "    for model in models:\n",
    "        inlier_filter = (model['curve'].fit(projects_train).predict(projects_test))\n",
    "        contamination_found = sum(~inlier_filter) / len(projects_test)\n",
    "        model['results'].append(100 * contamination_found)"
   ]
  },
  {
   "cell_type": "code",
   "execution_count": 19,
   "metadata": {},
   "outputs": [
    {
     "name": "stdout",
     "output_type": "stream",
     "text": [
      "Média Gaussian: 3.83%\n",
      "Média Log-normal: 10.01%\n",
      "Média Gamma: 3.82%\n",
      "Média KDE-Gauss: 8.66%\n",
      "Média LOF: 17.39%\n"
     ]
    },
    {
     "data": {
      "image/png": "[encoded data removed]",
      "text/plain": [
       "<matplotlib.figure.Figure at 0x7f2cdcc70320>"
      ]
     },
     "metadata": {},
     "output_type": "display_data"
    }
   ],
   "source": [
    "sns.set(style='whitegrid', palette='dark')\n",
    "f, ax = plt.subplots(figsize=(16,4))\n",
    "\n",
    "bin_size = 0.2\n",
    "for model in models:\n",
    "    results = model['results']\n",
    "    print('Média %s: %.2lf%%' % (model['name'], np.mean(results)))\n",
    "    bins = max(1, int((max(results) - min(results)) // bin_size) + 1)\n",
    "    sns.distplot(results, label=model['name'], kde=False, bins=bins)\n",
    "\n",
    "plt.legend(frameon=True)\n",
    "plt.xlabel('Contamination found (%)')\n",
    "plt.ylabel('# tests')\n",
    "plt.grid(True)"
   ]
  },
  {
   "cell_type": "markdown",
   "metadata": {},
   "source": [
    "---\n",
    "## Resultados\n",
    "\n",
    "Os resultados foram analisados com base nos seguinte critérios: tempo de execução de treino/teste, efetividade do modelo com relação à taxa de contaminação encontrada, e efetividade do modelo com relação a quais amostras foram rotuladas como outliers.\n",
    "\n",
    "#### Tempo de execução de treino e teste\n",
    "\n",
    "O modelo mais rápido, tanto para treinamento, quanto para teste, é o da Distribuição Gaussiana, gastando 14ms para o treinamento e apenas 1ms para o teste. Os modelos de Distribuição Log-Normal, Distribuição Gamma e LOF gastaram, respectivamente, 132ms, 12ms e 76ms para treinamento e 2ms, 2ms e 9ms para teste. Já o modelo de Distribuição KDE obteve os piores resultados, com 289ms para treinamento e 161ms para teste.\n",
    "\n",
    "#### Taxa de contaminação encontrada\n",
    "\n",
    "Os resultados das 100 execuções de treino e teste realizadas mostram que os modelos de Distribuição Log-Normal, e a KDE tiveram as melhores acurácias, contudo a Distribuição Log-Normal se destacou. Já as Distribuições Gaussiana e Gamma detectaram, em média, menos da metade da contaminação esperada. O modelo LOF apresentou os piores resultados, aprensentando, em média, 1.7 vezes mais outliers que o esperado.\n",
    "\n",
    "#### Quais amostras foram rotuladas como outliers\n",
    "\n",
    "Nos modelos de detecção de anomalias baseada na aproximação da PDF por modelos de distribuição, fica claro que os projetos rotulados como outliers têm número de comprovantes muito acima da média, já o modelo de detecção de anomalias baseada na exploração da densidade de amostras ao redor de um ponto específico, LOF, amostras com valores consideravelmente próximos à média da distribuição foram rotuladas como outliers, o que não parece fazer sentido para o contexto.\n",
    "\n",
    "---\n",
    "## Conclusões\n",
    "\n",
    "O modelo de Distribuição Log-Normal apresentou ótimos resultados, tanto em tempo de execução quanto em acurácia, e é a opção mais adequada para a detecção de outliers no contexto apresentado. As distribuições Gaussiana e Gamma apresentaram acurácia bem piores que a Log-Normal e não são uma boa opção. O modelo KDE obteve um acurácia muito baixa e o LOF demanda um tempo muito elevado de treino e teste e são os modelos menos adequados para o contexto.\n",
    "\n",
    "#### Trabalhos futuros\n",
    "\n",
    "Escolheu-se um produto cultural específo e todo o estudo foi realizado com base nos dados daquele produto cultural. Um trabalho futuro é a realização das mesmas análises e generalização para os outros produtos culturais."
   ]
  },
  {
   "cell_type": "code",
   "execution_count": null,
   "metadata": {},
   "outputs": [],
   "source": []
  }
 ],
 "metadata": {
  "kernelspec": {
   "display_name": "Python 3",
   "language": "python",
   "name": "python3"
  },
  "language_info": {
   "codemirror_mode": {
    "name": "ipython",
    "version": 3
   },
   "file_extension": ".py",
   "mimetype": "text/x-python",
   "name": "python",
   "nbconvert_exporter": "python",
   "pygments_lexer": "ipython3",
   "version": "3.5.2"
  }
 },
 "nbformat": 4,
 "nbformat_minor": 2
}
