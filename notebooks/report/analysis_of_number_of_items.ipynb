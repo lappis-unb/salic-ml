{
 "cells": [
  {
   "cell_type": "markdown",
   "metadata": {},
   "source": [
    "# Análise da quantidade de itens de um projeto cultural\n",
    "---\n",
    "\n",
    "**Objetivo:** realizar uma análise comparativa entre a quantidade de itens de um projeto cultural específico com a quantidade de itens dos outros projetos culturais de um mesmo segmento. Nesta análise, será investigado se a quantidade de itens de um projeto é anormal com relação a quantidade de itens dos outros projetos do mesmo segmento."
   ]
  },
  {
   "cell_type": "markdown",
   "metadata": {},
   "source": [
    "#### Importando módulos necessários"
   ]
  },
  {
   "cell_type": "code",
   "execution_count": 1,
   "metadata": {},
   "outputs": [
    {
     "name": "stdout",
     "output_type": "stream",
     "text": [
      "Populating the interactive namespace from numpy and matplotlib\n"
     ]
    }
   ],
   "source": [
    "%pylab inline\n",
    "import scipy\n",
    "import pandas as pd\n",
    "import seaborn as sns"
   ]
  },
  {
   "cell_type": "markdown",
   "metadata": {},
   "source": [
    "#### Carregando e mostrando dataset a ser utilizado ao longo do estudo"
   ]
  },
  {
   "cell_type": "code",
   "execution_count": 2,
   "metadata": {},
   "outputs": [
    {
     "name": "stdout",
     "output_type": "stream",
     "text": [
      "Index(['idPronac', 'PRONAC', 'idPlanilhaAprovacao', 'Item', 'idPlanilhaItens',\n",
      "       'Unidade', 'QtDias', 'QtItem', 'nrOcorrencia', 'VlUnitarioSolicitado',\n",
      "       'VlTotalSolicitado', 'VlUnitarioAprovado', 'VlTotalAprovado', 'UfItem',\n",
      "       'MunicipioItem', 'Etapa', 'idArea', 'Area', 'idSegmento', 'Segmento',\n",
      "       'idProduto', 'Produto', 'DataProjeto', 'cdCidade', 'cdEtapa'],\n",
      "      dtype='object')\n"
     ]
    },
    {
     "data": {
      "text/html": [
       "<div>\n",
       "<style scoped>\n",
       "    .dataframe tbody tr th:only-of-type {\n",
       "        vertical-align: middle;\n",
       "    }\n",
       "\n",
       "    .dataframe tbody tr th {\n",
       "        vertical-align: top;\n",
       "    }\n",
       "\n",
       "    .dataframe thead th {\n",
       "        text-align: right;\n",
       "    }\n",
       "</style>\n",
       "<table border=\"1\" class=\"dataframe\">\n",
       "  <thead>\n",
       "    <tr style=\"text-align: right;\">\n",
       "      <th></th>\n",
       "      <th>idPronac</th>\n",
       "      <th>PRONAC</th>\n",
       "      <th>idPlanilhaAprovacao</th>\n",
       "      <th>Item</th>\n",
       "      <th>idPlanilhaItens</th>\n",
       "      <th>Unidade</th>\n",
       "      <th>QtDias</th>\n",
       "      <th>QtItem</th>\n",
       "      <th>nrOcorrencia</th>\n",
       "      <th>VlUnitarioSolicitado</th>\n",
       "      <th>...</th>\n",
       "      <th>Etapa</th>\n",
       "      <th>idArea</th>\n",
       "      <th>Area</th>\n",
       "      <th>idSegmento</th>\n",
       "      <th>Segmento</th>\n",
       "      <th>idProduto</th>\n",
       "      <th>Produto</th>\n",
       "      <th>DataProjeto</th>\n",
       "      <th>cdCidade</th>\n",
       "      <th>cdEtapa</th>\n",
       "    </tr>\n",
       "  </thead>\n",
       "  <tbody>\n",
       "    <tr>\n",
       "      <th>0</th>\n",
       "      <td>121051</td>\n",
       "      <td>100855</td>\n",
       "      <td>792860</td>\n",
       "      <td>Passagens Aéreas (Descrever os trechos na tela...</td>\n",
       "      <td>131</td>\n",
       "      <td>Unidade</td>\n",
       "      <td>150</td>\n",
       "      <td>40.0</td>\n",
       "      <td>1.0</td>\n",
       "      <td>150.0</td>\n",
       "      <td>...</td>\n",
       "      <td>2 - Produção / Execução</td>\n",
       "      <td>1</td>\n",
       "      <td>Artes Cênicas</td>\n",
       "      <td>11</td>\n",
       "      <td>Teatro</td>\n",
       "      <td>19</td>\n",
       "      <td>Espetáculo de Artes Cênicas</td>\n",
       "      <td>2010-02-19 11:53:49.387</td>\n",
       "      <td>330455</td>\n",
       "      <td>2</td>\n",
       "    </tr>\n",
       "    <tr>\n",
       "      <th>1</th>\n",
       "      <td>121051</td>\n",
       "      <td>100855</td>\n",
       "      <td>792883</td>\n",
       "      <td>Bonecos – Criação</td>\n",
       "      <td>3599</td>\n",
       "      <td>Verba</td>\n",
       "      <td>90</td>\n",
       "      <td>1.0</td>\n",
       "      <td>1.0</td>\n",
       "      <td>4000.0</td>\n",
       "      <td>...</td>\n",
       "      <td>2 - Produção / Execução</td>\n",
       "      <td>1</td>\n",
       "      <td>Artes Cênicas</td>\n",
       "      <td>11</td>\n",
       "      <td>Teatro</td>\n",
       "      <td>19</td>\n",
       "      <td>Espetáculo de Artes Cênicas</td>\n",
       "      <td>2010-02-19 11:53:49.387</td>\n",
       "      <td>330455</td>\n",
       "      <td>2</td>\n",
       "    </tr>\n",
       "    <tr>\n",
       "      <th>2</th>\n",
       "      <td>121051</td>\n",
       "      <td>100855</td>\n",
       "      <td>792903</td>\n",
       "      <td>Produtor executivo</td>\n",
       "      <td>53</td>\n",
       "      <td>Verba</td>\n",
       "      <td>90</td>\n",
       "      <td>3.0</td>\n",
       "      <td>1.0</td>\n",
       "      <td>3000.0</td>\n",
       "      <td>...</td>\n",
       "      <td>2 - Produção / Execução</td>\n",
       "      <td>1</td>\n",
       "      <td>Artes Cênicas</td>\n",
       "      <td>11</td>\n",
       "      <td>Teatro</td>\n",
       "      <td>19</td>\n",
       "      <td>Espetáculo de Artes Cênicas</td>\n",
       "      <td>2010-02-19 11:53:49.387</td>\n",
       "      <td>355030</td>\n",
       "      <td>2</td>\n",
       "    </tr>\n",
       "    <tr>\n",
       "      <th>3</th>\n",
       "      <td>119968</td>\n",
       "      <td>98671</td>\n",
       "      <td>109095</td>\n",
       "      <td>Assistente de produção</td>\n",
       "      <td>1037</td>\n",
       "      <td>Verba</td>\n",
       "      <td>30</td>\n",
       "      <td>1.0</td>\n",
       "      <td>1.0</td>\n",
       "      <td>1000.0</td>\n",
       "      <td>...</td>\n",
       "      <td>1 - Pré-Produção / Preparação</td>\n",
       "      <td>3</td>\n",
       "      <td>Música</td>\n",
       "      <td>31</td>\n",
       "      <td>Música Popular Cantada</td>\n",
       "      <td>51</td>\n",
       "      <td>Apresentação Musical</td>\n",
       "      <td>2009-12-28 11:37:57.830</td>\n",
       "      <td>330455</td>\n",
       "      <td>1</td>\n",
       "    </tr>\n",
       "    <tr>\n",
       "      <th>4</th>\n",
       "      <td>112836</td>\n",
       "      <td>91695</td>\n",
       "      <td>116511</td>\n",
       "      <td>Designer</td>\n",
       "      <td>103</td>\n",
       "      <td>Mês</td>\n",
       "      <td>378</td>\n",
       "      <td>1.0</td>\n",
       "      <td>18.0</td>\n",
       "      <td>2000.0</td>\n",
       "      <td>...</td>\n",
       "      <td>2 - Produção / Execução</td>\n",
       "      <td>7</td>\n",
       "      <td>Artes Integradas</td>\n",
       "      <td>71</td>\n",
       "      <td>Artes Integradas</td>\n",
       "      <td>17</td>\n",
       "      <td>Pesquisa</td>\n",
       "      <td>2009-05-21 10:48:48.790</td>\n",
       "      <td>431490</td>\n",
       "      <td>2</td>\n",
       "    </tr>\n",
       "  </tbody>\n",
       "</table>\n",
       "<p>5 rows × 25 columns</p>\n",
       "</div>"
      ],
      "text/plain": [
       "   idPronac  PRONAC  idPlanilhaAprovacao  \\\n",
       "0    121051  100855               792860   \n",
       "1    121051  100855               792883   \n",
       "2    121051  100855               792903   \n",
       "3    119968   98671               109095   \n",
       "4    112836   91695               116511   \n",
       "\n",
       "                                                Item  idPlanilhaItens  \\\n",
       "0  Passagens Aéreas (Descrever os trechos na tela...              131   \n",
       "1                                  Bonecos – Criação             3599   \n",
       "2                                 Produtor executivo               53   \n",
       "3                             Assistente de produção             1037   \n",
       "4                                           Designer              103   \n",
       "\n",
       "   Unidade  QtDias  QtItem  nrOcorrencia  VlUnitarioSolicitado   ...    \\\n",
       "0  Unidade     150    40.0           1.0                 150.0   ...     \n",
       "1    Verba      90     1.0           1.0                4000.0   ...     \n",
       "2    Verba      90     3.0           1.0                3000.0   ...     \n",
       "3    Verba      30     1.0           1.0                1000.0   ...     \n",
       "4      Mês     378     1.0          18.0                2000.0   ...     \n",
       "\n",
       "                           Etapa  idArea              Area idSegmento  \\\n",
       "0        2 - Produção / Execução       1     Artes Cênicas         11   \n",
       "1        2 - Produção / Execução       1     Artes Cênicas         11   \n",
       "2        2 - Produção / Execução       1     Artes Cênicas         11   \n",
       "3  1 - Pré-Produção / Preparação       3            Música         31   \n",
       "4        2 - Produção / Execução       7  Artes Integradas         71   \n",
       "\n",
       "                 Segmento idProduto                      Produto  \\\n",
       "0                  Teatro        19  Espetáculo de Artes Cênicas   \n",
       "1                  Teatro        19  Espetáculo de Artes Cênicas   \n",
       "2                  Teatro        19  Espetáculo de Artes Cênicas   \n",
       "3  Música Popular Cantada        51         Apresentação Musical   \n",
       "4        Artes Integradas        17                     Pesquisa   \n",
       "\n",
       "               DataProjeto cdCidade cdEtapa  \n",
       "0  2010-02-19 11:53:49.387   330455       2  \n",
       "1  2010-02-19 11:53:49.387   330455       2  \n",
       "2  2010-02-19 11:53:49.387   355030       2  \n",
       "3  2009-12-28 11:37:57.830   330455       1  \n",
       "4  2009-05-21 10:48:48.790   431490       2  \n",
       "\n",
       "[5 rows x 25 columns]"
      ]
     },
     "execution_count": 2,
     "metadata": {},
     "output_type": "execute_result"
    }
   ],
   "source": [
    "df = pd.read_csv('../../data/raw/planilha_orcamentaria.csv')\n",
    "print(df.columns)\n",
    "df.head()"
   ]
  },
  {
   "cell_type": "markdown",
   "metadata": {},
   "source": [
    "#### Gerando tabela com o número itens por projeto por segmento"
   ]
  },
  {
   "cell_type": "code",
   "execution_count": 3,
   "metadata": {},
   "outputs": [
    {
     "data": {
      "text/html": [
       "<div>\n",
       "<style scoped>\n",
       "    .dataframe tbody tr th:only-of-type {\n",
       "        vertical-align: middle;\n",
       "    }\n",
       "\n",
       "    .dataframe tbody tr th {\n",
       "        vertical-align: top;\n",
       "    }\n",
       "\n",
       "    .dataframe thead th {\n",
       "        text-align: right;\n",
       "    }\n",
       "</style>\n",
       "<table border=\"1\" class=\"dataframe\">\n",
       "  <thead>\n",
       "    <tr style=\"text-align: right;\">\n",
       "      <th></th>\n",
       "      <th></th>\n",
       "      <th>NumItems</th>\n",
       "    </tr>\n",
       "    <tr>\n",
       "      <th>idSegmento</th>\n",
       "      <th>PRONAC</th>\n",
       "      <th></th>\n",
       "    </tr>\n",
       "  </thead>\n",
       "  <tbody>\n",
       "    <tr>\n",
       "      <th rowspan=\"5\" valign=\"top\">11</th>\n",
       "      <th>90105</th>\n",
       "      <td>61</td>\n",
       "    </tr>\n",
       "    <tr>\n",
       "      <th>97310</th>\n",
       "      <td>32</td>\n",
       "    </tr>\n",
       "    <tr>\n",
       "      <th>98022</th>\n",
       "      <td>17</td>\n",
       "    </tr>\n",
       "    <tr>\n",
       "      <th>100855</th>\n",
       "      <td>96</td>\n",
       "    </tr>\n",
       "    <tr>\n",
       "      <th>102857</th>\n",
       "      <td>61</td>\n",
       "    </tr>\n",
       "  </tbody>\n",
       "</table>\n",
       "</div>"
      ],
      "text/plain": [
       "                   NumItems\n",
       "idSegmento PRONAC          \n",
       "11         90105         61\n",
       "           97310         32\n",
       "           98022         17\n",
       "           100855        96\n",
       "           102857        61"
      ]
     },
     "execution_count": 3,
     "metadata": {},
     "output_type": "execute_result"
    }
   ],
   "source": [
    "num_items = df[['PRONAC', 'idSegmento', 'idPlanilhaAprovacao']].drop_duplicates()\n",
    "num_items = num_items.groupby(['idSegmento', 'PRONAC']).count()\n",
    "num_items = num_items.rename(columns={'idPlanilhaAprovacao': 'NumItems'})\n",
    "num_items.head()"
   ]
  },
  {
   "cell_type": "markdown",
   "metadata": {},
   "source": [
    "## Análise por segmento\n",
    "---\n",
    "\n",
    "Nesta etapa, analisaremos a quantidade de itens dos projetos para um segmento escolhido."
   ]
  },
  {
   "cell_type": "markdown",
   "metadata": {},
   "source": [
    "#### Esolhendo um segmento e gerando uma lista do número de itens para todos os projetos do segmento"
   ]
  },
  {
   "cell_type": "code",
   "execution_count": 4,
   "metadata": {},
   "outputs": [],
   "source": [
    "segment = '11'\n",
    "segment_projects = num_items.loc[segment]['NumItems']"
   ]
  },
  {
   "cell_type": "markdown",
   "metadata": {},
   "source": [
    "#### Gerando gráfico dos dados acima"
   ]
  },
  {
   "cell_type": "code",
   "execution_count": 5,
   "metadata": {},
   "outputs": [
    {
     "name": "stdout",
     "output_type": "stream",
     "text": [
      "Média da distribuição: 54.64\n",
      "Desvio padrão da distribuição: 40.49\n",
      "\n"
     ]
    },
    {
     "data": {
      "image/png": "[encoded data removed]",
      "text/plain": [
       "<matplotlib.figure.Figure at 0x7f20d8a46048>"
      ]
     },
     "metadata": {},
     "output_type": "display_data"
    }
   ],
   "source": [
    "sns.set(style='whitegrid', palette='dark')\n",
    "f, ax = plt.subplots(figsize=(16,4))\n",
    "\n",
    "sns.distplot(segment_projects, bins=100, kde=False)\n",
    "plt.title('Histograma de número de itens de projetos de um mesmo segmento')\n",
    "plt.ylabel('Quantidade de projetos')\n",
    "plt.xlabel('Número de itens')\n",
    "plt.grid(True)\n",
    "\n",
    "expected_mean = np.mean(segment_projects)\n",
    "expected_std = np.std(segment_projects)\n",
    "print('Média da distribuição: %.2lf' % expected_mean)\n",
    "print('Desvio padrão da distribuição: %.2lf\\n' % expected_std)"
   ]
  },
  {
   "cell_type": "markdown",
   "metadata": {},
   "source": [
    "#### Separando os conjuntos de treino e teste"
   ]
  },
  {
   "cell_type": "code",
   "execution_count": 6,
   "metadata": {},
   "outputs": [
    {
     "data": {
      "text/plain": [
       "PRONAC\n",
       "126804      57\n",
       "1010651     54\n",
       "149001      77\n",
       "155589      49\n",
       "121386     107\n",
       "Name: NumItems, dtype: int64"
      ]
     },
     "metadata": {},
     "output_type": "display_data"
    },
    {
     "data": {
      "text/plain": [
       "PRONAC\n",
       "1511215    70\n",
       "171568     30\n",
       "161187     59\n",
       "132949     77\n",
       "148156     56\n",
       "Name: NumItems, dtype: int64"
      ]
     },
     "metadata": {},
     "output_type": "display_data"
    }
   ],
   "source": [
    "from sklearn.model_selection import train_test_split\n",
    "projects_train, projects_test = train_test_split(segment_projects, test_size=0.3)\n",
    "\n",
    "display(projects_train.head())\n",
    "display(projects_test.head())"
   ]
  },
  {
   "cell_type": "markdown",
   "metadata": {},
   "source": [
    "### Análise Gaussiana"
   ]
  },
  {
   "cell_type": "code",
   "execution_count": 7,
   "metadata": {},
   "outputs": [],
   "source": [
    "class Gaussian:\n",
    "    def __init__(self, contamination=0.1):\n",
    "        '''Outlier Detection by fitting data in a Gaussian model.\n",
    "\n",
    "        Fit a Gaussian function on the training set and find the lower and upper\n",
    "        limits for a sample to be considered an inlier. The limits are computed\n",
    "        by translating the contamination value into a point in the Gaussian model.\n",
    "        \n",
    "        If the sample is farther from the average than the limits, it's considered\n",
    "        an outlier. Otherwise it's an inlier.\n",
    "\n",
    "        Parameters\n",
    "        ----------\n",
    "        contamination : float in (0., 0.5), optional (default=0.1)\n",
    "            The amount of contamination of the data set, i.e. the proportion\n",
    "            of outliers in the data set. When fitting this is used to define the\n",
    "            threshold on the decision function.\n",
    "        '''\n",
    "        self.contamination = contamination\n",
    "\n",
    "    def fit(self, X):\n",
    "        '''Fit the Gaussian model, i.e. compute mean and standard deviation of X,\n",
    "        using X as training data.\n",
    "\n",
    "        Parameters\n",
    "        ----------\n",
    "        X : array-like, shape (n_samples,)\n",
    "            Training data.\n",
    "\n",
    "        Returns\n",
    "        -------\n",
    "        self : object\n",
    "        '''\n",
    "        mean, std = scipy.stats.norm.fit(X)\n",
    "        self.model = scipy.stats.norm(mean, std)\n",
    "        return self\n",
    "    \n",
    "    def predict(self, X):\n",
    "        '''Predict the labels (True inlier, False outlier) of X according to Gaussian.\n",
    "\n",
    "        This method allows to generalize prediction to *new observations* (not\n",
    "        in the training set).\n",
    "\n",
    "        Parameters\n",
    "        ----------\n",
    "        X : array-like, shape (n_samples,)\n",
    "            The query sample or samples to compute the Gaussian Estimation\n",
    "            w.r.t. to the training samples.\n",
    "\n",
    "        Returns\n",
    "        -------\n",
    "        is_inlier : array, shape (n_samples,)\n",
    "            Returns False for anomalies/outliers and True for inliers.\n",
    "        '''\n",
    "        lower = self.model.ppf(0.5*self.contamination)\n",
    "        upper = self.model.ppf(1 - 0.5*self.contamination)\n",
    "        is_inlier = ((X >= lower) & (X <= upper))\n",
    "        return is_inlier"
   ]
  },
  {
   "cell_type": "code",
   "execution_count": 8,
   "metadata": {},
   "outputs": [
    {
     "name": "stdout",
     "output_type": "stream",
     "text": [
      "CPU times: user 0 ns, sys: 4 ms, total: 4 ms\n",
      "Wall time: 3.56 ms\n",
      "Percentual de outliers esperado: 10.00%\n",
      "Percentual de outliers encontrado: 3.98%\n"
     ]
    },
    {
     "data": {
      "image/png": "[encoded data removed]",
      "text/plain": [
       "<matplotlib.figure.Figure at 0x7f210d13fc18>"
      ]
     },
     "metadata": {},
     "output_type": "display_data"
    }
   ],
   "source": [
    "model = Gaussian()\n",
    "model.fit(projects_train)\n",
    "%time inlier_filter = model.predict(projects_test)\n",
    "\n",
    "contamination_found = sum(~inlier_filter) / len(projects_test)\n",
    "print('Percentual de outliers esperado: %.2lf%%' % (100 * model.contamination))\n",
    "print('Percentual de outliers encontrado: %.2lf%%' % (100 * contamination_found))\n",
    "\n",
    "sns.set(style='whitegrid', palette='dark')\n",
    "f, ax = plt.subplots(figsize=(16,4))\n",
    "\n",
    "bin_size = 10\n",
    "inliers = projects_test[inlier_filter].values\n",
    "bins = max(1, int((max(inliers) - min(inliers)) // bin_size) + 1)\n",
    "sns.distplot(inliers, label='inliers', color='b', kde=False, bins=bins)\n",
    "\n",
    "outliers = projects_test[~inlier_filter].values\n",
    "bins = max(1, int((max(outliers) - min(outliers)) // bin_size) + 1)\n",
    "sns.distplot(outliers, label='outliers', color='r', kde=False, bins=bins)\n",
    "\n",
    "x = np.linspace(min(segment_projects), max(segment_projects), 1000)\n",
    "plt.plot(x,  bin_size * len(projects_test) * model.model.pdf(x), label='PDF')\n",
    "\n",
    "plt.legend(frameon=True)\n",
    "plt.ylabel('# projects')\n",
    "plt.xlabel('# items')\n",
    "plt.title('Inlier/Outlier division');"
   ]
  },
  {
   "cell_type": "markdown",
   "metadata": {},
   "source": [
    "### Análise Log-normal"
   ]
  },
  {
   "cell_type": "code",
   "execution_count": 9,
   "metadata": {},
   "outputs": [],
   "source": [
    "class Lognormal:\n",
    "    def __init__(self, contamination=0.1, transform=None):\n",
    "        '''Outlier Detection by fitting data in a Log-normal model.\n",
    "\n",
    "        Fit a Log-normal function on the training set and find the upper limit for\n",
    "        a sample to be considered an inlier. The limit is computed by translating\n",
    "        the contamination value into a point in the Log-normal model.\n",
    "        \n",
    "        If the sample is greater than the upper limit, it's considered an outlier,\n",
    "        otherwise, it's an inlier.\n",
    "\n",
    "        Parameters\n",
    "        ----------\n",
    "        contamination : float in (0., 0.5), optional (default=0.1)\n",
    "            The amount of contamination of the data set, i.e. the proportion\n",
    "            of outliers in the data set. When fitting this is used to define the\n",
    "            threshold on the decision function.\n",
    "        '''\n",
    "        self.contamination = contamination\n",
    "        self.transform = transform\n",
    "\n",
    "    def fit(self, X):\n",
    "        '''Fit the Log-normal model, i.e. compute the standard deviation of X,\n",
    "        using X as training data.\n",
    "\n",
    "        Parameters\n",
    "        ----------\n",
    "        X : array-like, shape (n_samples,)\n",
    "            Training data.\n",
    "\n",
    "        Returns\n",
    "        -------\n",
    "        self : object\n",
    "        '''\n",
    "        if self.transform:\n",
    "            X = self.transform(X)\n",
    "        s, loc, scale = scipy.stats.lognorm.fit(X, floc=0)\n",
    "        self.model = scipy.stats.lognorm(np.std(np.log(X)), loc=loc, scale=scale)\n",
    "        return self\n",
    "    \n",
    "    def predict(self, X):\n",
    "        '''Predict the labels (True inlier, False outlier) of X according to\n",
    "        the Log-normal model.\n",
    "\n",
    "        This method allows to generalize prediction to *new observations* (not\n",
    "        in the training set).\n",
    "\n",
    "        Parameters\n",
    "        ----------\n",
    "        X : array-like, shape (n_samples,)\n",
    "            The query sample or samples to compute the Log-normal Estimation\n",
    "            w.r.t. to the training samples.\n",
    "\n",
    "        Returns\n",
    "        -------\n",
    "        is_inlier : array, shape (n_samples,)\n",
    "            Returns False for anomalies/outliers and True for inliers.\n",
    "        '''\n",
    "        if self.transform:\n",
    "            X = self.transform(X)\n",
    "        upper = self.model.ppf(1 - self.contamination)\n",
    "        is_inlier = (X <= upper)\n",
    "        return is_inlier"
   ]
  },
  {
   "cell_type": "code",
   "execution_count": 10,
   "metadata": {
    "scrolled": false
   },
   "outputs": [
    {
     "name": "stdout",
     "output_type": "stream",
     "text": [
      "CPU times: user 4 ms, sys: 0 ns, total: 4 ms\n",
      "Wall time: 1.98 ms\n",
      "Percentual de outliers esperado: 10.00%\n",
      "Percentual de outliers encontrado: 7.22%\n"
     ]
    },
    {
     "data": {
      "image/png": "[encoded data removed]",
      "text/plain": [
       "<matplotlib.figure.Figure at 0x7f20d8918cf8>"
      ]
     },
     "metadata": {},
     "output_type": "display_data"
    }
   ],
   "source": [
    "model = Lognormal()\n",
    "model.fit(projects_train)\n",
    "%time inlier_filter = model.predict(projects_test)\n",
    "\n",
    "contamination_found = sum(~inlier_filter) / len(projects_test)\n",
    "print('Percentual de outliers esperado: %.2lf%%' % (100 * model.contamination))\n",
    "print('Percentual de outliers encontrado: %.2lf%%' % (100 * contamination_found))\n",
    "\n",
    "sns.set(style='whitegrid', palette='dark')\n",
    "f, ax = plt.subplots(figsize=(16,4))\n",
    "\n",
    "bin_size = 10\n",
    "inliers = projects_test[inlier_filter].values\n",
    "bins = max(1, int((max(inliers) - min(inliers)) // bin_size) + 1)\n",
    "sns.distplot(inliers, label='inliers', color='b', kde=False, bins=bins)\n",
    "\n",
    "outliers = projects_test[~inlier_filter].values\n",
    "bins = max(1, int((max(outliers) - min(outliers)) // bin_size) + 1)\n",
    "sns.distplot(outliers, label='outliers', color='r', kde=False, bins=bins)\n",
    "\n",
    "x = np.linspace(min(segment_projects), max(segment_projects), 1000)\n",
    "plt.plot(x,  bin_size * len(projects_test) * model.model.pdf(x), label='PDF')\n",
    "\n",
    "plt.legend(frameon=True)\n",
    "plt.ylabel('# projects')\n",
    "plt.xlabel('# items')\n",
    "plt.title('Inlier/Outlier division');"
   ]
  },
  {
   "cell_type": "markdown",
   "metadata": {},
   "source": [
    "### Análise Gamma"
   ]
  },
  {
   "cell_type": "code",
   "execution_count": 11,
   "metadata": {},
   "outputs": [],
   "source": [
    "class Gamma:\n",
    "    def __init__(self, contamination=0.1, transform=None):\n",
    "        '''Outlier Detection by fitting data in a Gamma model.\n",
    "\n",
    "        Fit a Gamma function on the training set and find the upper and lower limits\n",
    "        for a sample to be considered an inlier. The limits are computed by translating\n",
    "        the contamination value into points in the Gamma model.\n",
    "        \n",
    "        If the sample is greater than the upper limit or lower than the lower limit,\n",
    "        it's considered an outlier, otherwise, it's an inlier.\n",
    "\n",
    "        Parameters\n",
    "        ----------\n",
    "        contamination : float in (0., 0.5), optional (default=0.1)\n",
    "            The amount of contamination of the data set, i.e. the proportion\n",
    "            of outliers in the data set. When fitting this is used to define the\n",
    "            threshold on the decision function.\n",
    "        '''\n",
    "        self.contamination = contamination\n",
    "        self.transform = transform\n",
    "\n",
    "    def fit(self, X):\n",
    "        '''Fit the Gamma model, i.e. compute its parameters, using X as training data.\n",
    "\n",
    "        Parameters\n",
    "        ----------\n",
    "        X : array-like, shape (n_samples,)\n",
    "            Training data.\n",
    "\n",
    "        Returns\n",
    "        -------\n",
    "        self : object\n",
    "        '''\n",
    "        params = scipy.stats.gamma.fit(X, floc=0)\n",
    "        self.model = scipy.stats.gamma(*params)\n",
    "        return self\n",
    "    \n",
    "    def predict(self, X):\n",
    "        '''Predict the labels (True inlier, False outlier) of X according to\n",
    "        the Gamma model.\n",
    "\n",
    "        This method allows to generalize prediction to *new observations* (not\n",
    "        in the training set).\n",
    "\n",
    "        Parameters\n",
    "        ----------\n",
    "        X : array-like, shape (n_samples,)\n",
    "            The query sample or samples to compute the Log-normal Estimation\n",
    "            w.r.t. to the training samples.\n",
    "\n",
    "        Returns\n",
    "        -------\n",
    "        is_inlier : array, shape (n_samples,)\n",
    "            Returns False for anomalies/outliers and True for inliers.\n",
    "        '''\n",
    "        lower = self.model.ppf(0.5*self.contamination)\n",
    "        upper = self.model.ppf(1 - 0.5*self.contamination)\n",
    "        is_inlier = ((X >= lower) & (X <= upper))\n",
    "        return is_inlier"
   ]
  },
  {
   "cell_type": "code",
   "execution_count": 12,
   "metadata": {},
   "outputs": [
    {
     "name": "stdout",
     "output_type": "stream",
     "text": [
      "CPU times: user 8 ms, sys: 0 ns, total: 8 ms\n",
      "Wall time: 11.2 ms\n",
      "Percentual de outliers esperado: 10.00%\n",
      "Percentual de outliers encontrado: 7.86%\n"
     ]
    },
    {
     "data": {
      "image/png": "[encoded data removed]",
      "text/plain": [
       "<matplotlib.figure.Figure at 0x7f20d0962358>"
      ]
     },
     "metadata": {},
     "output_type": "display_data"
    }
   ],
   "source": [
    "model = Gamma()\n",
    "model.fit(projects_train)\n",
    "%time inlier_filter = model.predict(projects_test)\n",
    "\n",
    "contamination_found = sum(~inlier_filter) / len(projects_test)\n",
    "print('Percentual de outliers esperado: %.2lf%%' % (100 * model.contamination))\n",
    "print('Percentual de outliers encontrado: %.2lf%%' % (100 * contamination_found))\n",
    "\n",
    "sns.set(style='whitegrid', palette='dark')\n",
    "f, ax = plt.subplots(figsize=(16,4))\n",
    "\n",
    "bin_size = 10\n",
    "inliers = projects_test[inlier_filter].values\n",
    "bins = max(1, int((max(inliers) - min(inliers)) // bin_size) + 1)\n",
    "sns.distplot(inliers, label='inliers', color='b', kde=False, bins=bins)\n",
    "\n",
    "outliers = projects_test[~inlier_filter].values\n",
    "bins = max(1, int((max(outliers) - min(outliers)) // bin_size) + 1)\n",
    "sns.distplot(outliers, label='outliers', color='r', kde=False, bins=bins)\n",
    "\n",
    "x = np.linspace(min(segment_projects), max(segment_projects), 1000)\n",
    "plt.plot(x,  bin_size * len(projects_test) * model.model.pdf(x), label='PDF')\n",
    "\n",
    "plt.legend(frameon=True)\n",
    "plt.ylabel('# projects')\n",
    "plt.xlabel('# items')\n",
    "plt.title('Inlier/Outlier division');"
   ]
  },
  {
   "cell_type": "markdown",
   "metadata": {},
   "source": [
    "### Análise LOF"
   ]
  },
  {
   "cell_type": "code",
   "execution_count": 13,
   "metadata": {},
   "outputs": [],
   "source": [
    "from sklearn.neighbors import LocalOutlierFactor\n",
    "\n",
    "class LOF:\n",
    "    def __init__(self, contamination=0.1):\n",
    "        '''Unsupervised Outlier Detection by fitting data in a Local Outlier Factor\n",
    "        model.\n",
    "\n",
    "        The class sklearn.neighbors.LocalOutlierFactor has two operation modes:\n",
    "            1. Outlier Detection: given a set of samples, return which samples are\n",
    "               inliers and which ones are outliers.\n",
    "            2. Novelty Detection: train model with inliers and predict if a new\n",
    "               sample is inlier or outlier.\n",
    "        \n",
    "        This class uses the \"Outlier Detection\" to separate inliers and outliers\n",
    "        from the training data, and then uses the \"Novelty Detection\" to train the\n",
    "        model itself. At the prediction, the \"Novelty Detection\" separates the\n",
    "        inliers and outliers.\n",
    "\n",
    "        Parameters\n",
    "        ----------\n",
    "        contamination : float in (0., 0.5), optional (default=0.1)\n",
    "            The amount of contamination of the data set, i.e. the proportion\n",
    "            of outliers in the data set. When fitting this is used to define the\n",
    "            threshold on the decision function.\n",
    "        '''\n",
    "        self.contamination = contamination\n",
    "\n",
    "    def fit(self, X):\n",
    "        '''Fit the LOF model, i.e. use the \"Outlier Detection\" to separate inliers\n",
    "        and outliers from the training data and then uses the \"Novelty Detection\"\n",
    "        to train the model itself.\n",
    "\n",
    "        Parameters\n",
    "        ----------\n",
    "        X : array-like, shape (n_samples,)\n",
    "            Training data.\n",
    "\n",
    "        Returns\n",
    "        -------\n",
    "        self : object\n",
    "        '''\n",
    "        # Transform data into a 2D array\n",
    "        X = self._1Dto2D(X)\n",
    "\n",
    "        # Get inliers of the training set with LOF Outlier Detection\n",
    "        lof_OD = LocalOutlierFactor(contamination=self.contamination)\n",
    "        y = lof_OD.fit_predict(X)\n",
    "        X = X[y == 1, :]\n",
    "\n",
    "        # Train model with LOF Novelty Detection, using train set inliers\n",
    "        # Parameter 'contamination' does not matter at this point\n",
    "        self.model = LocalOutlierFactor(novelty=True, contamination=0.5)\n",
    "        self.model = self.model.fit(X)\n",
    "        return self\n",
    "    \n",
    "    def predict(self, X):\n",
    "        '''Predict the labels (True inlier, False outlier) of X according to\n",
    "        the Local Outlier Factor model.\n",
    "\n",
    "        This method allows to generalize prediction to *new observations* (not\n",
    "        in the training set).\n",
    "\n",
    "        Parameters\n",
    "        ----------\n",
    "        X : array-like, shape (n_samples,)\n",
    "            The query sample or samples to compute the LOF estimation\n",
    "            w.r.t. to the training samples.\n",
    "\n",
    "        Returns\n",
    "        -------\n",
    "        is_inlier : array, shape (n_samples,)\n",
    "            Returns False for anomalies/outliers and True for inliers.\n",
    "        '''\n",
    "        X = self._1Dto2D(X)\n",
    "        is_inlier = (self.model.predict(X) == 1)\n",
    "        return is_inlier\n",
    "    \n",
    "    def _1Dto2D(self, X):\n",
    "        '''Given a pd.Series, return a \"2D\" np.Array with zeros in one dimension.\n",
    "        \n",
    "        Parameters\n",
    "        ----------\n",
    "        X : pd.Series, shape (n_samples,)\n",
    "        \n",
    "        Returns\n",
    "        -------\n",
    "        X : bidimensional ndarray, shape (n_samples, 2)\n",
    "        '''\n",
    "        shape = (len(X),1)\n",
    "        return np.hstack([np.array(X.tolist()).reshape(shape), np.zeros(shape)])"
   ]
  },
  {
   "cell_type": "code",
   "execution_count": 14,
   "metadata": {},
   "outputs": [
    {
     "name": "stdout",
     "output_type": "stream",
     "text": [
      "CPU times: user 36 ms, sys: 0 ns, total: 36 ms\n",
      "Wall time: 37.9 ms\n",
      "Percentual de outliers esperado: 10.00%\n",
      "Percentual de outliers encontrado: 5.11%\n"
     ]
    },
    {
     "data": {
      "image/png": "[encoded data removed]",
      "text/plain": [
       "<matplotlib.figure.Figure at 0x7f20d0977b00>"
      ]
     },
     "metadata": {},
     "output_type": "display_data"
    }
   ],
   "source": [
    "model = LOF()\n",
    "model.fit(projects_train)\n",
    "%time inlier_filter = model.predict(projects_test)\n",
    "\n",
    "contamination_found = sum(~inlier_filter) / len(projects_test)\n",
    "print('Percentual de outliers esperado: %.2lf%%' % (100 * model.contamination))\n",
    "print('Percentual de outliers encontrado: %.2lf%%' % (100 * contamination_found))\n",
    "\n",
    "sns.set(style='whitegrid', palette='dark')\n",
    "f, ax = plt.subplots(figsize=(16,4))\n",
    "\n",
    "bin_size = 10\n",
    "inliers = projects_test[inlier_filter].values\n",
    "bins = max(1, int((max(inliers) - min(inliers)) // bin_size) + 1)\n",
    "sns.distplot(inliers, label='inliers', color='b', kde=False, bins=bins)\n",
    "\n",
    "outliers = projects_test[~inlier_filter].values\n",
    "bins = max(1, int((max(outliers) - min(outliers)) // bin_size) + 1)\n",
    "sns.distplot(outliers, label='outliers', color='r', kde=False, bins=bins)\n",
    "\n",
    "plt.legend(frameon=True)\n",
    "plt.ylabel('# projects')\n",
    "plt.xlabel('# items')\n",
    "plt.title('Inlier/Outlier division');"
   ]
  },
  {
   "cell_type": "markdown",
   "metadata": {},
   "source": [
    "### Avaliando a contaminação para cada um dos métodos\n",
    "\n",
    "Nesta seção, os diversos modelos implementados são aplicados a 100 escolhas diferentes de conjuntos de treino/teste. Ao final, o desempenho de cada método é avaliado."
   ]
  },
  {
   "cell_type": "code",
   "execution_count": 15,
   "metadata": {},
   "outputs": [],
   "source": [
    "percentuals = {\n",
    "    'gauss': [],\n",
    "    'lognorm': [],\n",
    "    'gamma': [],\n",
    "    'lof': []\n",
    "}\n",
    "\n",
    "gauss = Gaussian()\n",
    "lognorm = Lognormal()\n",
    "gamma = Gamma()\n",
    "lof = LOF()\n",
    "\n",
    "for i in range(100):\n",
    "    # Separate train and test sets\n",
    "    projects_train, projects_test = train_test_split(segment_projects, test_size=0.3)\n",
    "    \n",
    "    # GAUSSIAN\n",
    "    inlier_filter = (gauss.fit(projects_train).predict(projects_test))\n",
    "    contamination_found = sum(~inlier_filter) / len(projects_test)\n",
    "    percentuals['gauss'].append(100 * contamination_found)\n",
    "    \n",
    "    # LOGNORMAL\n",
    "    inlier_filter = (lognorm.fit(projects_train).predict(projects_test))\n",
    "    contamination_found = sum(~inlier_filter) / len(projects_test)\n",
    "    percentuals['lognorm'].append(100 * contamination_found)\n",
    "    \n",
    "    # GAMMA\n",
    "    inlier_filter = (gamma.fit(projects_train).predict(projects_test))\n",
    "    contamination_found = sum(~inlier_filter) / len(projects_test)\n",
    "    percentuals['gamma'].append(100 * contamination_found)\n",
    "    \n",
    "    # LOF\n",
    "    inlier_filter = (lof.fit(projects_train).predict(projects_test))\n",
    "    contamination_found = sum(~inlier_filter) / len(projects_test)\n",
    "    percentuals['lof'].append(100 * contamination_found)"
   ]
  },
  {
   "cell_type": "code",
   "execution_count": 16,
   "metadata": {
    "scrolled": false
   },
   "outputs": [
    {
     "name": "stdout",
     "output_type": "stream",
     "text": [
      "Média gauss: 4.73%\n",
      "Média lognorm: 8.37%\n",
      "Média gamma: 8.41%\n",
      "Média lof: 5.98%\n"
     ]
    },
    {
     "data": {
      "image/png": "[encoded data removed]",
      "text/plain": [
       "<matplotlib.figure.Figure at 0x7f20d0842e80>"
      ]
     },
     "metadata": {},
     "output_type": "display_data"
    }
   ],
   "source": [
    "sns.set(style='whitegrid', palette='dark')\n",
    "f, ax = plt.subplots(figsize=(16,4))\n",
    "\n",
    "bin_size = 0.1\n",
    "results = percentuals['gauss']\n",
    "print('Média gauss: %.2lf%%' % np.mean(results))\n",
    "bins = max(1, int((max(results) - min(results)) // bin_size) + 1)\n",
    "sns.distplot(results, label='Gaussian', kde=False, bins=bins)\n",
    "\n",
    "results = percentuals['lognorm']\n",
    "print('Média lognorm: %.2lf%%' % np.mean(results))\n",
    "bins = max(1, int((max(results) - min(results)) // bin_size) + 1)\n",
    "sns.distplot(results, label='Lognormal', kde=False, bins=bins)\n",
    "\n",
    "results = percentuals['gamma']\n",
    "print('Média gamma: %.2lf%%' % np.mean(results))\n",
    "bins = max(1, int((max(results) - min(results)) // bin_size) + 1)\n",
    "sns.distplot(results, label='Gamma', kde=False, bins=bins)\n",
    "\n",
    "results = percentuals['lof']\n",
    "print('Média lof: %.2lf%%' % np.mean(results))\n",
    "bins = max(1, int((max(results) - min(results)) // bin_size) + 1)\n",
    "sns.distplot(results, label='LOF', kde=False, bins=bins)\n",
    "\n",
    "plt.legend(frameon=True)\n",
    "plt.xlabel('Contamination found (%)')\n",
    "plt.ylabel('# tests')\n",
    "plt.grid(True)"
   ]
  },
  {
   "cell_type": "markdown",
   "metadata": {},
   "source": [
    "#### Conclusões\n",
    "\n",
    "O dataset para o segmento 11 tem uma distribuição bem próxima à distribuição Log-normal, contudo a distribuição Gamma ainda apresentou os melhores resultados. Mesmo com um dataset com distribuição próxima a uma Gaussiana, o percentual de contaminação encontrado pelo LOF se mostrou mais próximo do valor esperado que a estimação de contaminação encontrada pelo modelo Gaussiano.\n",
    "\n",
    "Outro ponto importante a se notar é a marcação de projetos como inlier/outlier em ambos os estimadores. Na estimação Gaussiana, os projetos são marcados como outliers apenas se a quantidade de itens deste projeto está fora de um intervalo de valores aceitáveis. Na estimação Log-normal, os projetos são marcados como outliers apenas se a quantidade de itens deste projeto for maior que um limite definido. Já no estimador LOF, se um projeto tem uma quantidade específica de itens que é relativamente menos comum que seus vizinhos (projetos com uma quantidade parecida de itens), então o projeto pode ser marcado como outlier, o que não parece fazer sentido neste contexto.\n",
    "\n",
    "Exemplo: suponha que exista um único projeto com 100 itens, porém, vários com 99 e com 101. Utilizando o estimador LOF, este projeto poderá ser marcado como outlier."
   ]
  },
  {
   "cell_type": "code",
   "execution_count": null,
   "metadata": {},
   "outputs": [],
   "source": []
  }
 ],
 "metadata": {
  "kernelspec": {
   "display_name": "Python 3",
   "language": "python",
   "name": "python3"
  },
  "language_info": {
   "codemirror_mode": {
    "name": "ipython",
    "version": 3
   },
   "file_extension": ".py",
   "mimetype": "text/x-python",
   "name": "python",
   "nbconvert_exporter": "python",
   "pygments_lexer": "ipython3",
   "version": "3.5.2"
  }
 },
 "nbformat": 4,
 "nbformat_minor": 2
}
