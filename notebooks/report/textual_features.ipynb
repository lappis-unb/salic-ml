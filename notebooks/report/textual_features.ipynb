{
 "cells": [
  {
   "cell_type": "markdown",
   "metadata": {},
   "source": [
    "# Estudo sobre features textuais de projetos culturais\n",
    "\n",
    "Issue: [#243](https://github.com/lappis-unb/salic-ml/issues/243) Extração e análise de features textuais dos projetos culturais\n",
    "\n",
    "## Objetivos\n",
    "\n",
    "Extrair features textuais de projetos culturais do banco de dados do Salic a partir de todos os dados textuais (curtos e longos), como descrição, título, itens, objeto e etc. As features extraídas serão utilizadas para identificação de projetos culturais semelhantes."
   ]
  },
  {
   "cell_type": "markdown",
   "metadata": {},
   "source": [
    "---\n",
    "## Preparação\n",
    "\n",
    "Nesta etapa serão carregados e explorados os datasets a serem utilizados ao longo de todo o notebook. Serão analisados os datasets de itens orçamentários e o dataset de projetos culturais, ambos serão explorados em busca de features textuais. "
   ]
  },
  {
   "cell_type": "markdown",
   "metadata": {},
   "source": [
    "#### Importando módulos e definindo constantes"
   ]
  },
  {
   "cell_type": "code",
   "execution_count": 41,
   "metadata": {},
   "outputs": [
    {
     "name": "stdout",
     "output_type": "stream",
     "text": [
      "Populating the interactive namespace from numpy and matplotlib\n",
      "[nltk_data] Downloading package stopwords to /usr/share/nltk_data...\n",
      "[nltk_data]   Package stopwords is already up-to-date!\n",
      "[nltk_data] Downloading package punkt to /usr/share/nltk_data...\n",
      "[nltk_data]   Package punkt is already up-to-date!\n",
      "[nltk_data] Downloading package rslp to /usr/share/nltk_data...\n",
      "[nltk_data]   Package rslp is already up-to-date!\n"
     ]
    }
   ],
   "source": [
    "%pylab inline\n",
    "import scipy\n",
    "import pandas as pd\n",
    "import seaborn as sns\n",
    "\n",
    "from wordcloud import WordCloud\n",
    "\n",
    "import nltk\n",
    "nltk.download('stopwords')\n",
    "nltk.download('punkt')\n",
    "nltk.download('rslp')\n",
    "from nltk.corpus import stopwords\n",
    "from nltk.tokenize import word_tokenize\n",
    "from nltk.stem import RSLPStemmer\n",
    "\n",
    "from sklearn.feature_extraction.text import CountVectorizer\n",
    "from sklearn.neighbors import NearestNeighbors"
   ]
  },
  {
   "cell_type": "markdown",
   "metadata": {},
   "source": [
    "### Explorando o dataset de itens orçamentários"
   ]
  },
  {
   "cell_type": "code",
   "execution_count": 2,
   "metadata": {
    "scrolled": false
   },
   "outputs": [
    {
     "name": "stdout",
     "output_type": "stream",
     "text": [
      "<class 'pandas.core.frame.DataFrame'>\n",
      "RangeIndex: 2026756 entries, 0 to 2026755\n",
      "Data columns (total 25 columns):\n",
      "idPronac                int64\n",
      "PRONAC                  int64\n",
      "idPlanilhaAprovacao     int64\n",
      "Item                    object\n",
      "idPlanilhaItens         int64\n",
      "Unidade                 object\n",
      "QtDias                  int64\n",
      "QtItem                  float64\n",
      "nrOcorrencia            float64\n",
      "VlUnitarioSolicitado    float64\n",
      "VlTotalSolicitado       float64\n",
      "VlUnitarioAprovado      float64\n",
      "VlTotalAprovado         float64\n",
      "UfItem                  object\n",
      "MunicipioItem           object\n",
      "Etapa                   object\n",
      "idArea                  int64\n",
      "Area                    object\n",
      "idSegmento              object\n",
      "Segmento                object\n",
      "idProduto               int64\n",
      "Produto                 object\n",
      "DataProjeto             object\n",
      "cdCidade                int64\n",
      "cdEtapa                 int64\n",
      "dtypes: float64(6), int64(9), object(10)\n",
      "memory usage: 386.6+ MB\n"
     ]
    }
   ],
   "source": [
    "df = pd.read_csv('../../data/raw/planilha_orcamentaria.csv')\n",
    "df.info()"
   ]
  },
  {
   "cell_type": "code",
   "execution_count": 3,
   "metadata": {},
   "outputs": [
    {
     "data": {
      "text/html": [
       "<div>\n",
       "<style scoped>\n",
       "    .dataframe tbody tr th:only-of-type {\n",
       "        vertical-align: middle;\n",
       "    }\n",
       "\n",
       "    .dataframe tbody tr th {\n",
       "        vertical-align: top;\n",
       "    }\n",
       "\n",
       "    .dataframe thead th {\n",
       "        text-align: right;\n",
       "    }\n",
       "</style>\n",
       "<table border=\"1\" class=\"dataframe\">\n",
       "  <thead>\n",
       "    <tr style=\"text-align: right;\">\n",
       "      <th></th>\n",
       "      <th>0</th>\n",
       "      <th>1</th>\n",
       "      <th>2</th>\n",
       "      <th>3</th>\n",
       "      <th>4</th>\n",
       "    </tr>\n",
       "  </thead>\n",
       "  <tbody>\n",
       "    <tr>\n",
       "      <th>idPronac</th>\n",
       "      <td>121051</td>\n",
       "      <td>121051</td>\n",
       "      <td>121051</td>\n",
       "      <td>119968</td>\n",
       "      <td>112836</td>\n",
       "    </tr>\n",
       "    <tr>\n",
       "      <th>PRONAC</th>\n",
       "      <td>100855</td>\n",
       "      <td>100855</td>\n",
       "      <td>100855</td>\n",
       "      <td>98671</td>\n",
       "      <td>91695</td>\n",
       "    </tr>\n",
       "    <tr>\n",
       "      <th>idPlanilhaAprovacao</th>\n",
       "      <td>792860</td>\n",
       "      <td>792883</td>\n",
       "      <td>792903</td>\n",
       "      <td>109095</td>\n",
       "      <td>116511</td>\n",
       "    </tr>\n",
       "    <tr>\n",
       "      <th>Item</th>\n",
       "      <td>Passagens Aéreas (Descrever os trechos na tela...</td>\n",
       "      <td>Bonecos – Criação</td>\n",
       "      <td>Produtor executivo</td>\n",
       "      <td>Assistente de produção</td>\n",
       "      <td>Designer</td>\n",
       "    </tr>\n",
       "    <tr>\n",
       "      <th>idPlanilhaItens</th>\n",
       "      <td>131</td>\n",
       "      <td>3599</td>\n",
       "      <td>53</td>\n",
       "      <td>1037</td>\n",
       "      <td>103</td>\n",
       "    </tr>\n",
       "    <tr>\n",
       "      <th>Unidade</th>\n",
       "      <td>Unidade</td>\n",
       "      <td>Verba</td>\n",
       "      <td>Verba</td>\n",
       "      <td>Verba</td>\n",
       "      <td>Mês</td>\n",
       "    </tr>\n",
       "    <tr>\n",
       "      <th>QtDias</th>\n",
       "      <td>150</td>\n",
       "      <td>90</td>\n",
       "      <td>90</td>\n",
       "      <td>30</td>\n",
       "      <td>378</td>\n",
       "    </tr>\n",
       "    <tr>\n",
       "      <th>QtItem</th>\n",
       "      <td>40</td>\n",
       "      <td>1</td>\n",
       "      <td>3</td>\n",
       "      <td>1</td>\n",
       "      <td>1</td>\n",
       "    </tr>\n",
       "    <tr>\n",
       "      <th>nrOcorrencia</th>\n",
       "      <td>1</td>\n",
       "      <td>1</td>\n",
       "      <td>1</td>\n",
       "      <td>1</td>\n",
       "      <td>18</td>\n",
       "    </tr>\n",
       "    <tr>\n",
       "      <th>VlUnitarioSolicitado</th>\n",
       "      <td>150</td>\n",
       "      <td>4000</td>\n",
       "      <td>3000</td>\n",
       "      <td>1000</td>\n",
       "      <td>2000</td>\n",
       "    </tr>\n",
       "    <tr>\n",
       "      <th>VlTotalSolicitado</th>\n",
       "      <td>6000</td>\n",
       "      <td>4000</td>\n",
       "      <td>9000</td>\n",
       "      <td>1000</td>\n",
       "      <td>36000</td>\n",
       "    </tr>\n",
       "    <tr>\n",
       "      <th>VlUnitarioAprovado</th>\n",
       "      <td>150</td>\n",
       "      <td>4000</td>\n",
       "      <td>3000</td>\n",
       "      <td>1000</td>\n",
       "      <td>0</td>\n",
       "    </tr>\n",
       "    <tr>\n",
       "      <th>VlTotalAprovado</th>\n",
       "      <td>6000</td>\n",
       "      <td>4000</td>\n",
       "      <td>9000</td>\n",
       "      <td>1000</td>\n",
       "      <td>0</td>\n",
       "    </tr>\n",
       "    <tr>\n",
       "      <th>UfItem</th>\n",
       "      <td>RJ</td>\n",
       "      <td>RJ</td>\n",
       "      <td>SP</td>\n",
       "      <td>RJ</td>\n",
       "      <td>RS</td>\n",
       "    </tr>\n",
       "    <tr>\n",
       "      <th>MunicipioItem</th>\n",
       "      <td>Rio de Janeiro</td>\n",
       "      <td>Rio de Janeiro</td>\n",
       "      <td>São Paulo</td>\n",
       "      <td>Rio de Janeiro</td>\n",
       "      <td>Porto Alegre</td>\n",
       "    </tr>\n",
       "    <tr>\n",
       "      <th>Etapa</th>\n",
       "      <td>2 - Produção / Execução</td>\n",
       "      <td>2 - Produção / Execução</td>\n",
       "      <td>2 - Produção / Execução</td>\n",
       "      <td>1 - Pré-Produção / Preparação</td>\n",
       "      <td>2 - Produção / Execução</td>\n",
       "    </tr>\n",
       "    <tr>\n",
       "      <th>idArea</th>\n",
       "      <td>1</td>\n",
       "      <td>1</td>\n",
       "      <td>1</td>\n",
       "      <td>3</td>\n",
       "      <td>7</td>\n",
       "    </tr>\n",
       "    <tr>\n",
       "      <th>Area</th>\n",
       "      <td>Artes Cênicas</td>\n",
       "      <td>Artes Cênicas</td>\n",
       "      <td>Artes Cênicas</td>\n",
       "      <td>Música</td>\n",
       "      <td>Artes Integradas</td>\n",
       "    </tr>\n",
       "    <tr>\n",
       "      <th>idSegmento</th>\n",
       "      <td>11</td>\n",
       "      <td>11</td>\n",
       "      <td>11</td>\n",
       "      <td>31</td>\n",
       "      <td>71</td>\n",
       "    </tr>\n",
       "    <tr>\n",
       "      <th>Segmento</th>\n",
       "      <td>Teatro</td>\n",
       "      <td>Teatro</td>\n",
       "      <td>Teatro</td>\n",
       "      <td>Música Popular Cantada</td>\n",
       "      <td>Artes Integradas</td>\n",
       "    </tr>\n",
       "    <tr>\n",
       "      <th>idProduto</th>\n",
       "      <td>19</td>\n",
       "      <td>19</td>\n",
       "      <td>19</td>\n",
       "      <td>51</td>\n",
       "      <td>17</td>\n",
       "    </tr>\n",
       "    <tr>\n",
       "      <th>Produto</th>\n",
       "      <td>Espetáculo de Artes Cênicas</td>\n",
       "      <td>Espetáculo de Artes Cênicas</td>\n",
       "      <td>Espetáculo de Artes Cênicas</td>\n",
       "      <td>Apresentação Musical</td>\n",
       "      <td>Pesquisa</td>\n",
       "    </tr>\n",
       "    <tr>\n",
       "      <th>DataProjeto</th>\n",
       "      <td>2010-02-19 11:53:49.387</td>\n",
       "      <td>2010-02-19 11:53:49.387</td>\n",
       "      <td>2010-02-19 11:53:49.387</td>\n",
       "      <td>2009-12-28 11:37:57.830</td>\n",
       "      <td>2009-05-21 10:48:48.790</td>\n",
       "    </tr>\n",
       "    <tr>\n",
       "      <th>cdCidade</th>\n",
       "      <td>330455</td>\n",
       "      <td>330455</td>\n",
       "      <td>355030</td>\n",
       "      <td>330455</td>\n",
       "      <td>431490</td>\n",
       "    </tr>\n",
       "    <tr>\n",
       "      <th>cdEtapa</th>\n",
       "      <td>2</td>\n",
       "      <td>2</td>\n",
       "      <td>2</td>\n",
       "      <td>1</td>\n",
       "      <td>2</td>\n",
       "    </tr>\n",
       "  </tbody>\n",
       "</table>\n",
       "</div>"
      ],
      "text/plain": [
       "                                                                      0  \\\n",
       "idPronac                                                         121051   \n",
       "PRONAC                                                           100855   \n",
       "idPlanilhaAprovacao                                              792860   \n",
       "Item                  Passagens Aéreas (Descrever os trechos na tela...   \n",
       "idPlanilhaItens                                                     131   \n",
       "Unidade                                                         Unidade   \n",
       "QtDias                                                              150   \n",
       "QtItem                                                               40   \n",
       "nrOcorrencia                                                          1   \n",
       "VlUnitarioSolicitado                                                150   \n",
       "VlTotalSolicitado                                                  6000   \n",
       "VlUnitarioAprovado                                                  150   \n",
       "VlTotalAprovado                                                    6000   \n",
       "UfItem                                                               RJ   \n",
       "MunicipioItem                                            Rio de Janeiro   \n",
       "Etapa                                           2 - Produção / Execução   \n",
       "idArea                                                                1   \n",
       "Area                                                      Artes Cênicas   \n",
       "idSegmento                                                           11   \n",
       "Segmento                                                         Teatro   \n",
       "idProduto                                                            19   \n",
       "Produto                                     Espetáculo de Artes Cênicas   \n",
       "DataProjeto                                     2010-02-19 11:53:49.387   \n",
       "cdCidade                                                         330455   \n",
       "cdEtapa                                                               2   \n",
       "\n",
       "                                                1  \\\n",
       "idPronac                                   121051   \n",
       "PRONAC                                     100855   \n",
       "idPlanilhaAprovacao                        792883   \n",
       "Item                            Bonecos – Criação   \n",
       "idPlanilhaItens                              3599   \n",
       "Unidade                                     Verba   \n",
       "QtDias                                         90   \n",
       "QtItem                                          1   \n",
       "nrOcorrencia                                    1   \n",
       "VlUnitarioSolicitado                         4000   \n",
       "VlTotalSolicitado                            4000   \n",
       "VlUnitarioAprovado                           4000   \n",
       "VlTotalAprovado                              4000   \n",
       "UfItem                                         RJ   \n",
       "MunicipioItem                      Rio de Janeiro   \n",
       "Etapa                     2 - Produção / Execução   \n",
       "idArea                                          1   \n",
       "Area                                Artes Cênicas   \n",
       "idSegmento                                     11   \n",
       "Segmento                                   Teatro   \n",
       "idProduto                                      19   \n",
       "Produto               Espetáculo de Artes Cênicas   \n",
       "DataProjeto               2010-02-19 11:53:49.387   \n",
       "cdCidade                                   330455   \n",
       "cdEtapa                                         2   \n",
       "\n",
       "                                                2  \\\n",
       "idPronac                                   121051   \n",
       "PRONAC                                     100855   \n",
       "idPlanilhaAprovacao                        792903   \n",
       "Item                           Produtor executivo   \n",
       "idPlanilhaItens                                53   \n",
       "Unidade                                     Verba   \n",
       "QtDias                                         90   \n",
       "QtItem                                          3   \n",
       "nrOcorrencia                                    1   \n",
       "VlUnitarioSolicitado                         3000   \n",
       "VlTotalSolicitado                            9000   \n",
       "VlUnitarioAprovado                           3000   \n",
       "VlTotalAprovado                              9000   \n",
       "UfItem                                         SP   \n",
       "MunicipioItem                           São Paulo   \n",
       "Etapa                     2 - Produção / Execução   \n",
       "idArea                                          1   \n",
       "Area                                Artes Cênicas   \n",
       "idSegmento                                     11   \n",
       "Segmento                                   Teatro   \n",
       "idProduto                                      19   \n",
       "Produto               Espetáculo de Artes Cênicas   \n",
       "DataProjeto               2010-02-19 11:53:49.387   \n",
       "cdCidade                                   355030   \n",
       "cdEtapa                                         2   \n",
       "\n",
       "                                                  3                        4  \n",
       "idPronac                                     119968                   112836  \n",
       "PRONAC                                        98671                    91695  \n",
       "idPlanilhaAprovacao                          109095                   116511  \n",
       "Item                         Assistente de produção                 Designer  \n",
       "idPlanilhaItens                                1037                      103  \n",
       "Unidade                                       Verba                      Mês  \n",
       "QtDias                                           30                      378  \n",
       "QtItem                                            1                        1  \n",
       "nrOcorrencia                                      1                       18  \n",
       "VlUnitarioSolicitado                           1000                     2000  \n",
       "VlTotalSolicitado                              1000                    36000  \n",
       "VlUnitarioAprovado                             1000                        0  \n",
       "VlTotalAprovado                                1000                        0  \n",
       "UfItem                                           RJ                       RS  \n",
       "MunicipioItem                        Rio de Janeiro             Porto Alegre  \n",
       "Etapa                 1 - Pré-Produção / Preparação  2 - Produção / Execução  \n",
       "idArea                                            3                        7  \n",
       "Area                                         Música         Artes Integradas  \n",
       "idSegmento                                       31                       71  \n",
       "Segmento                     Música Popular Cantada         Artes Integradas  \n",
       "idProduto                                        51                       17  \n",
       "Produto                        Apresentação Musical                 Pesquisa  \n",
       "DataProjeto                 2009-12-28 11:37:57.830  2009-05-21 10:48:48.790  \n",
       "cdCidade                                     330455                   431490  \n",
       "cdEtapa                                           1                        2  "
      ]
     },
     "execution_count": 3,
     "metadata": {},
     "output_type": "execute_result"
    }
   ],
   "source": [
    "df.head(5).transpose()"
   ]
  },
  {
   "cell_type": "markdown",
   "metadata": {},
   "source": [
    "O primeiro dataset explorado será o de itens orçamentários. Como mostrado acima, tal dataset conta com uma relação de mais de 2 milhões de itens de projetos culturais, desde projetos em fase inicial até projetos já finalizados. Cada item conta com 25 informações, como o identificador do projeto ao qual ele pertence, sua descrição, valor, quantidade e etc.\n",
    "\n",
    "A seguir, serão explorados os possíveis dados textuais desse dataset, como descrição, unidade, UF, etapa, área e etc."
   ]
  },
  {
   "cell_type": "markdown",
   "metadata": {},
   "source": [
    "#### Feature: descrição do item"
   ]
  },
  {
   "cell_type": "code",
   "execution_count": 4,
   "metadata": {},
   "outputs": [
    {
     "name": "stdout",
     "output_type": "stream",
     "text": [
      "3635\n"
     ]
    },
    {
     "data": {
      "text/plain": [
       "Passagens Aéreas (Descrever os trechos na tela de deslocamentos)         38645\n",
       "Transporte Local / Locação de Automóvel / Combustível                    37290\n",
       "Refeição                                                                 36904\n",
       "Assessor de imprensa                                                     33945\n",
       "Assistente de produção                                                   33106\n",
       "Remuneração para captação de recursos                                    31393\n",
       "Produtor executivo                                                       30918\n",
       "Contador                                                                 30436\n",
       "Hospedagem sem alimentação                                               28745\n",
       "Banner/faixa adesiva/faixa de lona/saia de palco/testeira/pórtico\\r\\n    27832\n",
       "Name: Item, dtype: int64"
      ]
     },
     "execution_count": 4,
     "metadata": {},
     "output_type": "execute_result"
    }
   ],
   "source": [
    "serie = df['Item'].value_counts()\n",
    "print(len(serie))\n",
    "serie.head(10)"
   ]
  },
  {
   "cell_type": "markdown",
   "metadata": {},
   "source": [
    "#### Feature: unidade de medida do item"
   ]
  },
  {
   "cell_type": "code",
   "execution_count": 5,
   "metadata": {},
   "outputs": [
    {
     "name": "stdout",
     "output_type": "stream",
     "text": [
      "25\n"
     ]
    },
    {
     "data": {
      "text/plain": [
       "Verba                  429350\n",
       "Serviço                381031\n",
       "Mês                    334062\n",
       "Unidade                283488\n",
       "Dia                    177115\n",
       "Cachê                  157955\n",
       "Não Informado          104451\n",
       "Projeto                 72584\n",
       "Semana                  27113\n",
       "Hora                    12174\n",
       "Metro 2                 11188\n",
       "Período                  8450\n",
       "Obra                     6261\n",
       "Metro                    5147\n",
       "Folha                    4633\n",
       "Títulos                  3064\n",
       "Filme                    2170\n",
       "Metro 3                  1468\n",
       "Metro 3 / Km             1196\n",
       "Instalação                934\n",
       "Parte                     883\n",
       "Kilograma                 879\n",
       "Minuto                    676\n",
       "Rolo                      365\n",
       "Kilograma / metro 2       119\n",
       "Name: Unidade, dtype: int64"
      ]
     },
     "execution_count": 5,
     "metadata": {},
     "output_type": "execute_result"
    }
   ],
   "source": [
    "serie = df['Unidade'].value_counts()\n",
    "print(len(serie))\n",
    "serie"
   ]
  },
  {
   "cell_type": "markdown",
   "metadata": {},
   "source": [
    "#### Feature: UF"
   ]
  },
  {
   "cell_type": "code",
   "execution_count": 6,
   "metadata": {},
   "outputs": [
    {
     "name": "stdout",
     "output_type": "stream",
     "text": [
      "27\n"
     ]
    },
    {
     "data": {
      "text/plain": [
       "SP    646819\n",
       "RJ    451136\n",
       "MG    247189\n",
       "RS    141859\n",
       "PR    109123\n",
       "BA     74546\n",
       "SC     73764\n",
       "DF     56074\n",
       "PE     47060\n",
       "CE     41260\n",
       "Name: UfItem, dtype: int64"
      ]
     },
     "execution_count": 6,
     "metadata": {},
     "output_type": "execute_result"
    }
   ],
   "source": [
    "serie = df['UfItem'].value_counts()\n",
    "print(len(serie))\n",
    "serie.head(10)"
   ]
  },
  {
   "cell_type": "markdown",
   "metadata": {},
   "source": [
    "#### Feature: município"
   ]
  },
  {
   "cell_type": "code",
   "execution_count": 7,
   "metadata": {},
   "outputs": [
    {
     "name": "stdout",
     "output_type": "stream",
     "text": [
      "2624\n"
     ]
    },
    {
     "data": {
      "text/plain": [
       "São Paulo         522997\n",
       "Rio de Janeiro    414688\n",
       "Belo Horizonte    140287\n",
       "Curitiba           69196\n",
       "Porto Alegre       67139\n",
       "Salvador           61704\n",
       "Brasília           56074\n",
       "Recife             36803\n",
       "Fortaleza          34467\n",
       "Florianópolis      31204\n",
       "Name: MunicipioItem, dtype: int64"
      ]
     },
     "execution_count": 7,
     "metadata": {},
     "output_type": "execute_result"
    }
   ],
   "source": [
    "serie = df['MunicipioItem'].value_counts()\n",
    "print(len(serie))\n",
    "serie.head(10)"
   ]
  },
  {
   "cell_type": "markdown",
   "metadata": {},
   "source": [
    "#### Feature: etapa do projeto na qual o item foi utilizado"
   ]
  },
  {
   "cell_type": "code",
   "execution_count": 8,
   "metadata": {},
   "outputs": [
    {
     "name": "stdout",
     "output_type": "stream",
     "text": [
      "10\n"
     ]
    },
    {
     "data": {
      "text/plain": [
       "2 - Produção / Execução               1195315\n",
       "3 - Divulgação / Comercialização       315280\n",
       "1 - Pré-Produção / Preparação          254998\n",
       "4 - Custos / Administrativos           224104\n",
       "5 - Recolhimentos                       28290\n",
       "8 - Custos Vinculados                    4546\n",
       "9 - Assessoria Contábil e Juridica       3284\n",
       "7 - Pós-Produção                          444\n",
       "10 - Captação de Recursos                 273\n",
       "6 - Elaboração e Agenciamento             222\n",
       "Name: Etapa, dtype: int64"
      ]
     },
     "execution_count": 8,
     "metadata": {},
     "output_type": "execute_result"
    }
   ],
   "source": [
    "serie = df['Etapa'].value_counts()\n",
    "print(len(serie))\n",
    "serie"
   ]
  },
  {
   "cell_type": "markdown",
   "metadata": {},
   "source": [
    "#### Feature: área de atuação do projeto cultural no qual o item foi cadastrado"
   ]
  },
  {
   "cell_type": "code",
   "execution_count": 9,
   "metadata": {},
   "outputs": [
    {
     "name": "stdout",
     "output_type": "stream",
     "text": [
      "8\n"
     ]
    },
    {
     "data": {
      "text/plain": [
       "Artes Cênicas          692268\n",
       "Música                 538580\n",
       "Audiovisual            223751\n",
       "Humanidades            220100\n",
       "Artes Visuais          209203\n",
       "Patrimônio Cultural     96197\n",
       "Artes Integradas        46119\n",
       "Museus e Memória          538\n",
       "Name: Area, dtype: int64"
      ]
     },
     "execution_count": 9,
     "metadata": {},
     "output_type": "execute_result"
    }
   ],
   "source": [
    "serie = df['Area'].value_counts()\n",
    "print(len(serie))\n",
    "serie.head(10)"
   ]
  },
  {
   "cell_type": "markdown",
   "metadata": {},
   "source": [
    "#### Feature: segmento do projeto cultural no qual o item foi cadastrado"
   ]
  },
  {
   "cell_type": "code",
   "execution_count": 10,
   "metadata": {},
   "outputs": [
    {
     "name": "stdout",
     "output_type": "stream",
     "text": [
      "124\n"
     ]
    },
    {
     "data": {
      "text/plain": [
       "Teatro                                                535070\n",
       "Música Popular Cantada                                232959\n",
       "Música Instrumental                                   194252\n",
       "Exposição de Artes Visuais                            156503\n",
       "Dança                                                 104788\n",
       "Música Erudita                                         96453\n",
       "Difusão de acervo audiovisual                          87437\n",
       "Artes Integradas                                       56222\n",
       "Livros  ou obras de referência - valor Artístico       53404\n",
       "Livros ou  obras de referência - valor Humanístico     50906\n",
       "Name: Segmento, dtype: int64"
      ]
     },
     "execution_count": 10,
     "metadata": {},
     "output_type": "execute_result"
    }
   ],
   "source": [
    "serie = df['Segmento'].value_counts()\n",
    "print(len(serie))\n",
    "serie.head(10)"
   ]
  },
  {
   "cell_type": "markdown",
   "metadata": {},
   "source": [
    "#### Feature: produto cultural no qual o item foi utilizado"
   ]
  },
  {
   "cell_type": "code",
   "execution_count": 11,
   "metadata": {},
   "outputs": [
    {
     "name": "stdout",
     "output_type": "stream",
     "text": [
      "75\n"
     ]
    },
    {
     "data": {
      "text/plain": [
       "Espetáculo de Artes Cênicas                458157\n",
       "Apresentação Musical                       268370\n",
       "Administracao do Projeto                   256570\n",
       "Festival/Mostra                            207151\n",
       "Exposição de Artes                         142098\n",
       "Livro                                      114703\n",
       "Festival/Mostra - Audiovisual               78713\n",
       "Curso / Oficina / Estágio                   54920\n",
       "DVD                                         46570\n",
       "Oficina /Workshop/Seminário Audiovisual     40385\n",
       "Name: Produto, dtype: int64"
      ]
     },
     "execution_count": 11,
     "metadata": {},
     "output_type": "execute_result"
    }
   ],
   "source": [
    "serie = df['Produto'].value_counts()\n",
    "print(len(serie))\n",
    "serie.head(10)"
   ]
  },
  {
   "cell_type": "markdown",
   "metadata": {},
   "source": [
    "Na análise das features textuais acima, foi possível identificar características de itens e projetos culturais, como:\n",
    "\n",
    "1. Transporte, alimentação e acessoria de imprensa são os itens mais utilizados em projetos culturais, dentre as 3635 opções já utilizadas;\n",
    "1. Dentre 25 categorias, verba, serviço, mês e unidade são as principais unidades de medida dos itens;\n",
    "1. Mais de 60% dos itens estão cadastrados na região sudeste, sendo São Paulo o estado com a maior quantidade de itens cadastrados;\n",
    "1. Todos os 10 municípios com mais itens de projetos culturais cadastrados são capitais de estados brasileiros;\n",
    "1. Mais da metade dos itens são utilizados na etapa de produção/execução de projetos culturais, as próximas etapas que mais concentram os itens são divulgação, pré-produção e custos administrativos;\n",
    "1. Entre 8 áreas possíveis, a maior parte dos itens têm seus projetos classificados nas áreas de artes cênicas ou música;\n",
    "1. Além disso, a maior parte dos itens têm seus projetos concentrados nos segmentos de teatro, música popular cantada, música instrumental, exposição de artes visuais e dança, sendo 124 o número total de segmentos;\n",
    "1. Os produtos culturais mais frequentes nos itens são os de espetáculo de artes cênicas, apresentação musical e administração do projeto, em um universo de 75 produtos distintos.\n",
    "\n",
    "A maior parte das features analisadas referem-se unicamente aos itens, não sendo relevantes na detecção de projetos similares a um projeto específico, por isso, o dataset analisado acima será pouco utilizado.\n",
    "\n",
    "Abaixo será explorado o dataset de projetos culturais, com várias características associadas a projetos culturais em si, nãos apenas aos seus itens orçamentários."
   ]
  },
  {
   "cell_type": "markdown",
   "metadata": {},
   "source": [
    "### Explorando o dataset de projetos culturais"
   ]
  },
  {
   "cell_type": "code",
   "execution_count": 12,
   "metadata": {},
   "outputs": [
    {
     "name": "stdout",
     "output_type": "stream",
     "text": [
      "<class 'pandas.core.frame.DataFrame'>\n",
      "RangeIndex: 210684 entries, 0 to 210683\n",
      "Data columns (total 35 columns):\n",
      "PRONAC                   210684 non-null object\n",
      "IdPRONAC                 210684 non-null int64\n",
      "AnoProjeto               210684 non-null object\n",
      "Sequencial               210684 non-null object\n",
      "UfProjeto                210684 non-null object\n",
      "Area                     210684 non-null int64\n",
      "Segmento                 210684 non-null object\n",
      "Mecanismo                210684 non-null int64\n",
      "NomeProjeto              210675 non-null object\n",
      "Processo                 210684 non-null object\n",
      "CgcCpf                   210684 non-null object\n",
      "Situacao                 210684 non-null object\n",
      "DtProtocolo              210684 non-null object\n",
      "DtAnalise                210684 non-null object\n",
      "Modalidade               185255 non-null object\n",
      "OrgaoOrigem              210684 non-null int64\n",
      "Orgao                    210684 non-null int64\n",
      "DtSaida                  74704 non-null object\n",
      "DtRetorno                80159 non-null object\n",
      "UnidadeAnalise           208922 non-null object\n",
      "Analista                 210678 non-null object\n",
      "DtSituacao               207949 non-null object\n",
      "ResumoProjeto            210684 non-null object\n",
      "ProvidenciaTomada        210386 non-null object\n",
      "Localizacao              208600 non-null object\n",
      "DtInicioExecucao         75255 non-null object\n",
      "DtFimExecucao            76933 non-null object\n",
      "SolicitadoUfir           210684 non-null float64\n",
      "SolicitadoReal           178329 non-null float64\n",
      "SolicitadoCusteioUfir    210683 non-null float64\n",
      "SolicitadoCusteioReal    210684 non-null float64\n",
      "SolicitadoCapitalUfir    210684 non-null float64\n",
      "SolicitadoCapitalReal    210683 non-null float64\n",
      "Logon                    210683 non-null float64\n",
      "idProjeto                89218 non-null float64\n",
      "dtypes: float64(8), int64(5), object(22)\n",
      "memory usage: 56.3+ MB\n"
     ]
    }
   ],
   "source": [
    "df = pd.read_csv('../../data/raw/planilha_projetos_luciano.csv', low_memory=False)\n",
    "df.info()"
   ]
  },
  {
   "cell_type": "code",
   "execution_count": 13,
   "metadata": {},
   "outputs": [
    {
     "data": {
      "text/html": [
       "<div>\n",
       "<style scoped>\n",
       "    .dataframe tbody tr th:only-of-type {\n",
       "        vertical-align: middle;\n",
       "    }\n",
       "\n",
       "    .dataframe tbody tr th {\n",
       "        vertical-align: top;\n",
       "    }\n",
       "\n",
       "    .dataframe thead th {\n",
       "        text-align: right;\n",
       "    }\n",
       "</style>\n",
       "<table border=\"1\" class=\"dataframe\">\n",
       "  <thead>\n",
       "    <tr style=\"text-align: right;\">\n",
       "      <th></th>\n",
       "      <th>0</th>\n",
       "      <th>1</th>\n",
       "      <th>2</th>\n",
       "      <th>3</th>\n",
       "      <th>4</th>\n",
       "    </tr>\n",
       "  </thead>\n",
       "  <tbody>\n",
       "    <tr>\n",
       "      <th>PRONAC</th>\n",
       "      <td>087079</td>\n",
       "      <td>087080</td>\n",
       "      <td>087081</td>\n",
       "      <td>087082</td>\n",
       "      <td>087083</td>\n",
       "    </tr>\n",
       "    <tr>\n",
       "      <th>IdPRONAC</th>\n",
       "      <td>1</td>\n",
       "      <td>2</td>\n",
       "      <td>3</td>\n",
       "      <td>4</td>\n",
       "      <td>5</td>\n",
       "    </tr>\n",
       "    <tr>\n",
       "      <th>AnoProjeto</th>\n",
       "      <td>08</td>\n",
       "      <td>08</td>\n",
       "      <td>08</td>\n",
       "      <td>08</td>\n",
       "      <td>08</td>\n",
       "    </tr>\n",
       "    <tr>\n",
       "      <th>Sequencial</th>\n",
       "      <td>7079</td>\n",
       "      <td>7080</td>\n",
       "      <td>7081</td>\n",
       "      <td>7082</td>\n",
       "      <td>7083</td>\n",
       "    </tr>\n",
       "    <tr>\n",
       "      <th>UfProjeto</th>\n",
       "      <td>SP</td>\n",
       "      <td>SP</td>\n",
       "      <td>ES</td>\n",
       "      <td>RJ</td>\n",
       "      <td>SP</td>\n",
       "    </tr>\n",
       "    <tr>\n",
       "      <th>Area</th>\n",
       "      <td>7</td>\n",
       "      <td>3</td>\n",
       "      <td>3</td>\n",
       "      <td>4</td>\n",
       "      <td>1</td>\n",
       "    </tr>\n",
       "    <tr>\n",
       "      <th>Segmento</th>\n",
       "      <td>71</td>\n",
       "      <td>31</td>\n",
       "      <td>31</td>\n",
       "      <td>47</td>\n",
       "      <td>11</td>\n",
       "    </tr>\n",
       "    <tr>\n",
       "      <th>Mecanismo</th>\n",
       "      <td>1</td>\n",
       "      <td>2</td>\n",
       "      <td>2</td>\n",
       "      <td>1</td>\n",
       "      <td>1</td>\n",
       "    </tr>\n",
       "    <tr>\n",
       "      <th>NomeProjeto</th>\n",
       "      <td>São Paulo; O que foi, O que era e o que é</td>\n",
       "      <td>Festival BrasilNoar 2008 – 8° Festival Interna...</td>\n",
       "      <td>Festival BrasilNoar 2008 – 8° Festival Interna...</td>\n",
       "      <td>Exposição \" Eliseu Visconti - Retrospectiva\"</td>\n",
       "      <td>Príncipe Feliz (O)</td>\n",
       "    </tr>\n",
       "    <tr>\n",
       "      <th>Processo</th>\n",
       "      <td>015450009710821</td>\n",
       "      <td>014000064890849</td>\n",
       "      <td>014000064900873</td>\n",
       "      <td>014000062310842</td>\n",
       "      <td>015450009720875</td>\n",
       "    </tr>\n",
       "    <tr>\n",
       "      <th>CgcCpf</th>\n",
       "      <td>05562084000170</td>\n",
       "      <td>20090696840</td>\n",
       "      <td>04667853727</td>\n",
       "      <td>68573765000154</td>\n",
       "      <td>03482094000170</td>\n",
       "    </tr>\n",
       "    <tr>\n",
       "      <th>Situacao</th>\n",
       "      <td>E63</td>\n",
       "      <td>G43</td>\n",
       "      <td>K00</td>\n",
       "      <td>E25</td>\n",
       "      <td>E36</td>\n",
       "    </tr>\n",
       "    <tr>\n",
       "      <th>DtProtocolo</th>\n",
       "      <td>2008-09-12 00:00:00</td>\n",
       "      <td>2008-09-12 00:00:00</td>\n",
       "      <td>2008-09-12 00:00:00</td>\n",
       "      <td>2008-09-03 00:00:00</td>\n",
       "      <td>2008-09-12 00:00:00</td>\n",
       "    </tr>\n",
       "    <tr>\n",
       "      <th>DtAnalise</th>\n",
       "      <td>2008-09-12 00:00:00</td>\n",
       "      <td>2008-09-12 00:00:00</td>\n",
       "      <td>2008-09-12 00:00:00</td>\n",
       "      <td>2008-09-12 00:00:00</td>\n",
       "      <td>2008-09-12 00:00:00</td>\n",
       "    </tr>\n",
       "    <tr>\n",
       "      <th>Modalidade</th>\n",
       "      <td>NaN</td>\n",
       "      <td>02</td>\n",
       "      <td>02</td>\n",
       "      <td>NaN</td>\n",
       "      <td>NaN</td>\n",
       "    </tr>\n",
       "    <tr>\n",
       "      <th>OrgaoOrigem</th>\n",
       "      <td>230</td>\n",
       "      <td>254</td>\n",
       "      <td>254</td>\n",
       "      <td>260</td>\n",
       "      <td>230</td>\n",
       "    </tr>\n",
       "    <tr>\n",
       "      <th>Orgao</th>\n",
       "      <td>290</td>\n",
       "      <td>254</td>\n",
       "      <td>290</td>\n",
       "      <td>303</td>\n",
       "      <td>290</td>\n",
       "    </tr>\n",
       "    <tr>\n",
       "      <th>DtSaida</th>\n",
       "      <td>2008-10-28 00:00:00</td>\n",
       "      <td>NaN</td>\n",
       "      <td>NaN</td>\n",
       "      <td>2008-09-26 00:00:00</td>\n",
       "      <td>2008-10-09 00:00:00</td>\n",
       "    </tr>\n",
       "    <tr>\n",
       "      <th>DtRetorno</th>\n",
       "      <td>2009-10-14 00:00:00</td>\n",
       "      <td>NaN</td>\n",
       "      <td>NaN</td>\n",
       "      <td>2010-01-13 00:00:00</td>\n",
       "      <td>NaN</td>\n",
       "    </tr>\n",
       "    <tr>\n",
       "      <th>UnidadeAnalise</th>\n",
       "      <td>FBN</td>\n",
       "      <td></td>\n",
       "      <td></td>\n",
       "      <td>FUNARTE</td>\n",
       "      <td>FUNARTE</td>\n",
       "    </tr>\n",
       "    <tr>\n",
       "      <th>Analista</th>\n",
       "      <td>Giselle Mattos Galter</td>\n",
       "      <td>Regiane Santana Claudino</td>\n",
       "      <td>Regiane Santana Claudino</td>\n",
       "      <td>Emanuella Rodrigues dos Santos</td>\n",
       "      <td>Giselle Mattos Galter</td>\n",
       "    </tr>\n",
       "    <tr>\n",
       "      <th>DtSituacao</th>\n",
       "      <td>2011-10-25 15:52:33</td>\n",
       "      <td>2008-11-19 00:00:00</td>\n",
       "      <td>2008-10-14 00:00:00</td>\n",
       "      <td>2017-07-27 11:47:56</td>\n",
       "      <td>2010-12-06 13:19:12</td>\n",
       "    </tr>\n",
       "    <tr>\n",
       "      <th>ResumoProjeto</th>\n",
       "      <td>Realização de exposição e de oficinas/debates,...</td>\n",
       "      <td>Evento:\\r\\n\\r\\nO Festival BrasilNoar é um even...</td>\n",
       "      <td>Evento:\\r\\n\\r\\nO Festival BrasilNoar é um even...</td>\n",
       "      <td>Realizar a exposição \" Eliseu Visconti \"- Retr...</td>\n",
       "      <td>Montagem e circulação do espetáculo O Príncipe...</td>\n",
       "    </tr>\n",
       "    <tr>\n",
       "      <th>ProvidenciaTomada</th>\n",
       "      <td>Ofício n. 8438/2011 - CGAA/DIC/SEFIC/MINC - de...</td>\n",
       "      <td>Requerimento aguarda análise técnico financeir...</td>\n",
       "      <td>Solicitação indeferida em conformidade ao esta...</td>\n",
       "      <td>Acusamos recebimento de resposta à diligência,...</td>\n",
       "      <td>Ofício n° 7949/2010 de 30/11/2010. Projeto arq...</td>\n",
       "    </tr>\n",
       "    <tr>\n",
       "      <th>Localizacao</th>\n",
       "      <td></td>\n",
       "      <td></td>\n",
       "      <td></td>\n",
       "      <td></td>\n",
       "      <td></td>\n",
       "    </tr>\n",
       "    <tr>\n",
       "      <th>DtInicioExecucao</th>\n",
       "      <td>2010-01-01 00:00:00</td>\n",
       "      <td>NaN</td>\n",
       "      <td>NaN</td>\n",
       "      <td>NaN</td>\n",
       "      <td>NaN</td>\n",
       "    </tr>\n",
       "    <tr>\n",
       "      <th>DtFimExecucao</th>\n",
       "      <td>2010-12-31 00:00:00</td>\n",
       "      <td>NaN</td>\n",
       "      <td>NaN</td>\n",
       "      <td>NaN</td>\n",
       "      <td>NaN</td>\n",
       "    </tr>\n",
       "    <tr>\n",
       "      <th>SolicitadoUfir</th>\n",
       "      <td>842285</td>\n",
       "      <td>0</td>\n",
       "      <td>0</td>\n",
       "      <td>1.18642e+06</td>\n",
       "      <td>89870.1</td>\n",
       "    </tr>\n",
       "    <tr>\n",
       "      <th>SolicitadoReal</th>\n",
       "      <td>896276</td>\n",
       "      <td>0</td>\n",
       "      <td>0</td>\n",
       "      <td>1.26247e+06</td>\n",
       "      <td>95630.8</td>\n",
       "    </tr>\n",
       "    <tr>\n",
       "      <th>SolicitadoCusteioUfir</th>\n",
       "      <td>0</td>\n",
       "      <td>12000.8</td>\n",
       "      <td>8209.75</td>\n",
       "      <td>0</td>\n",
       "      <td>0</td>\n",
       "    </tr>\n",
       "    <tr>\n",
       "      <th>SolicitadoCusteioReal</th>\n",
       "      <td>0</td>\n",
       "      <td>12770</td>\n",
       "      <td>8736</td>\n",
       "      <td>0</td>\n",
       "      <td>0</td>\n",
       "    </tr>\n",
       "    <tr>\n",
       "      <th>SolicitadoCapitalUfir</th>\n",
       "      <td>0</td>\n",
       "      <td>0</td>\n",
       "      <td>0</td>\n",
       "      <td>0</td>\n",
       "      <td>0</td>\n",
       "    </tr>\n",
       "    <tr>\n",
       "      <th>SolicitadoCapitalReal</th>\n",
       "      <td>0</td>\n",
       "      <td>0</td>\n",
       "      <td>0</td>\n",
       "      <td>0</td>\n",
       "      <td>0</td>\n",
       "    </tr>\n",
       "    <tr>\n",
       "      <th>Logon</th>\n",
       "      <td>236</td>\n",
       "      <td>1721</td>\n",
       "      <td>2288</td>\n",
       "      <td>0</td>\n",
       "      <td>236</td>\n",
       "    </tr>\n",
       "    <tr>\n",
       "      <th>idProjeto</th>\n",
       "      <td>NaN</td>\n",
       "      <td>NaN</td>\n",
       "      <td>NaN</td>\n",
       "      <td>NaN</td>\n",
       "      <td>NaN</td>\n",
       "    </tr>\n",
       "  </tbody>\n",
       "</table>\n",
       "</div>"
      ],
      "text/plain": [
       "                                                                       0  \\\n",
       "PRONAC                                                            087079   \n",
       "IdPRONAC                                                               1   \n",
       "AnoProjeto                                                            08   \n",
       "Sequencial                                                          7079   \n",
       "UfProjeto                                                             SP   \n",
       "Area                                                                   7   \n",
       "Segmento                                                              71   \n",
       "Mecanismo                                                              1   \n",
       "NomeProjeto                    São Paulo; O que foi, O que era e o que é   \n",
       "Processo                                                 015450009710821   \n",
       "CgcCpf                                                    05562084000170   \n",
       "Situacao                                                             E63   \n",
       "DtProtocolo                                          2008-09-12 00:00:00   \n",
       "DtAnalise                                            2008-09-12 00:00:00   \n",
       "Modalidade                                                           NaN   \n",
       "OrgaoOrigem                                                          230   \n",
       "Orgao                                                                290   \n",
       "DtSaida                                              2008-10-28 00:00:00   \n",
       "DtRetorno                                            2009-10-14 00:00:00   \n",
       "UnidadeAnalise                                                       FBN   \n",
       "Analista                                           Giselle Mattos Galter   \n",
       "DtSituacao                                           2011-10-25 15:52:33   \n",
       "ResumoProjeto          Realização de exposição e de oficinas/debates,...   \n",
       "ProvidenciaTomada      Ofício n. 8438/2011 - CGAA/DIC/SEFIC/MINC - de...   \n",
       "Localizacao                                                                \n",
       "DtInicioExecucao                                     2010-01-01 00:00:00   \n",
       "DtFimExecucao                                        2010-12-31 00:00:00   \n",
       "SolicitadoUfir                                                    842285   \n",
       "SolicitadoReal                                                    896276   \n",
       "SolicitadoCusteioUfir                                                  0   \n",
       "SolicitadoCusteioReal                                                  0   \n",
       "SolicitadoCapitalUfir                                                  0   \n",
       "SolicitadoCapitalReal                                                  0   \n",
       "Logon                                                                236   \n",
       "idProjeto                                                            NaN   \n",
       "\n",
       "                                                                       1  \\\n",
       "PRONAC                                                            087080   \n",
       "IdPRONAC                                                               2   \n",
       "AnoProjeto                                                            08   \n",
       "Sequencial                                                          7080   \n",
       "UfProjeto                                                             SP   \n",
       "Area                                                                   3   \n",
       "Segmento                                                              31   \n",
       "Mecanismo                                                              2   \n",
       "NomeProjeto            Festival BrasilNoar 2008 – 8° Festival Interna...   \n",
       "Processo                                                 014000064890849   \n",
       "CgcCpf                                                       20090696840   \n",
       "Situacao                                                             G43   \n",
       "DtProtocolo                                          2008-09-12 00:00:00   \n",
       "DtAnalise                                            2008-09-12 00:00:00   \n",
       "Modalidade                                                            02   \n",
       "OrgaoOrigem                                                          254   \n",
       "Orgao                                                                254   \n",
       "DtSaida                                                              NaN   \n",
       "DtRetorno                                                            NaN   \n",
       "UnidadeAnalise                                                             \n",
       "Analista                                        Regiane Santana Claudino   \n",
       "DtSituacao                                           2008-11-19 00:00:00   \n",
       "ResumoProjeto          Evento:\\r\\n\\r\\nO Festival BrasilNoar é um even...   \n",
       "ProvidenciaTomada      Requerimento aguarda análise técnico financeir...   \n",
       "Localizacao                                                                \n",
       "DtInicioExecucao                                                     NaN   \n",
       "DtFimExecucao                                                        NaN   \n",
       "SolicitadoUfir                                                         0   \n",
       "SolicitadoReal                                                         0   \n",
       "SolicitadoCusteioUfir                                            12000.8   \n",
       "SolicitadoCusteioReal                                              12770   \n",
       "SolicitadoCapitalUfir                                                  0   \n",
       "SolicitadoCapitalReal                                                  0   \n",
       "Logon                                                               1721   \n",
       "idProjeto                                                            NaN   \n",
       "\n",
       "                                                                       2  \\\n",
       "PRONAC                                                            087081   \n",
       "IdPRONAC                                                               3   \n",
       "AnoProjeto                                                            08   \n",
       "Sequencial                                                          7081   \n",
       "UfProjeto                                                             ES   \n",
       "Area                                                                   3   \n",
       "Segmento                                                              31   \n",
       "Mecanismo                                                              2   \n",
       "NomeProjeto            Festival BrasilNoar 2008 – 8° Festival Interna...   \n",
       "Processo                                                 014000064900873   \n",
       "CgcCpf                                                       04667853727   \n",
       "Situacao                                                             K00   \n",
       "DtProtocolo                                          2008-09-12 00:00:00   \n",
       "DtAnalise                                            2008-09-12 00:00:00   \n",
       "Modalidade                                                            02   \n",
       "OrgaoOrigem                                                          254   \n",
       "Orgao                                                                290   \n",
       "DtSaida                                                              NaN   \n",
       "DtRetorno                                                            NaN   \n",
       "UnidadeAnalise                                                             \n",
       "Analista                                        Regiane Santana Claudino   \n",
       "DtSituacao                                           2008-10-14 00:00:00   \n",
       "ResumoProjeto          Evento:\\r\\n\\r\\nO Festival BrasilNoar é um even...   \n",
       "ProvidenciaTomada      Solicitação indeferida em conformidade ao esta...   \n",
       "Localizacao                                                                \n",
       "DtInicioExecucao                                                     NaN   \n",
       "DtFimExecucao                                                        NaN   \n",
       "SolicitadoUfir                                                         0   \n",
       "SolicitadoReal                                                         0   \n",
       "SolicitadoCusteioUfir                                            8209.75   \n",
       "SolicitadoCusteioReal                                               8736   \n",
       "SolicitadoCapitalUfir                                                  0   \n",
       "SolicitadoCapitalReal                                                  0   \n",
       "Logon                                                               2288   \n",
       "idProjeto                                                            NaN   \n",
       "\n",
       "                                                                       3  \\\n",
       "PRONAC                                                            087082   \n",
       "IdPRONAC                                                               4   \n",
       "AnoProjeto                                                            08   \n",
       "Sequencial                                                          7082   \n",
       "UfProjeto                                                             RJ   \n",
       "Area                                                                   4   \n",
       "Segmento                                                              47   \n",
       "Mecanismo                                                              1   \n",
       "NomeProjeto                 Exposição \" Eliseu Visconti - Retrospectiva\"   \n",
       "Processo                                                 014000062310842   \n",
       "CgcCpf                                                    68573765000154   \n",
       "Situacao                                                             E25   \n",
       "DtProtocolo                                          2008-09-03 00:00:00   \n",
       "DtAnalise                                            2008-09-12 00:00:00   \n",
       "Modalidade                                                           NaN   \n",
       "OrgaoOrigem                                                          260   \n",
       "Orgao                                                                303   \n",
       "DtSaida                                              2008-09-26 00:00:00   \n",
       "DtRetorno                                            2010-01-13 00:00:00   \n",
       "UnidadeAnalise                                                   FUNARTE   \n",
       "Analista                                  Emanuella Rodrigues dos Santos   \n",
       "DtSituacao                                           2017-07-27 11:47:56   \n",
       "ResumoProjeto          Realizar a exposição \" Eliseu Visconti \"- Retr...   \n",
       "ProvidenciaTomada      Acusamos recebimento de resposta à diligência,...   \n",
       "Localizacao                                                                \n",
       "DtInicioExecucao                                                     NaN   \n",
       "DtFimExecucao                                                        NaN   \n",
       "SolicitadoUfir                                               1.18642e+06   \n",
       "SolicitadoReal                                               1.26247e+06   \n",
       "SolicitadoCusteioUfir                                                  0   \n",
       "SolicitadoCusteioReal                                                  0   \n",
       "SolicitadoCapitalUfir                                                  0   \n",
       "SolicitadoCapitalReal                                                  0   \n",
       "Logon                                                                  0   \n",
       "idProjeto                                                            NaN   \n",
       "\n",
       "                                                                       4  \n",
       "PRONAC                                                            087083  \n",
       "IdPRONAC                                                               5  \n",
       "AnoProjeto                                                            08  \n",
       "Sequencial                                                          7083  \n",
       "UfProjeto                                                             SP  \n",
       "Area                                                                   1  \n",
       "Segmento                                                              11  \n",
       "Mecanismo                                                              1  \n",
       "NomeProjeto                                          Príncipe Feliz (O)   \n",
       "Processo                                                 015450009720875  \n",
       "CgcCpf                                                    03482094000170  \n",
       "Situacao                                                             E36  \n",
       "DtProtocolo                                          2008-09-12 00:00:00  \n",
       "DtAnalise                                            2008-09-12 00:00:00  \n",
       "Modalidade                                                           NaN  \n",
       "OrgaoOrigem                                                          230  \n",
       "Orgao                                                                290  \n",
       "DtSaida                                              2008-10-09 00:00:00  \n",
       "DtRetorno                                                            NaN  \n",
       "UnidadeAnalise                                                   FUNARTE  \n",
       "Analista                                           Giselle Mattos Galter  \n",
       "DtSituacao                                           2010-12-06 13:19:12  \n",
       "ResumoProjeto          Montagem e circulação do espetáculo O Príncipe...  \n",
       "ProvidenciaTomada      Ofício n° 7949/2010 de 30/11/2010. Projeto arq...  \n",
       "Localizacao                                                               \n",
       "DtInicioExecucao                                                     NaN  \n",
       "DtFimExecucao                                                        NaN  \n",
       "SolicitadoUfir                                                   89870.1  \n",
       "SolicitadoReal                                                   95630.8  \n",
       "SolicitadoCusteioUfir                                                  0  \n",
       "SolicitadoCusteioReal                                                  0  \n",
       "SolicitadoCapitalUfir                                                  0  \n",
       "SolicitadoCapitalReal                                                  0  \n",
       "Logon                                                                236  \n",
       "idProjeto                                                            NaN  "
      ]
     },
     "execution_count": 13,
     "metadata": {},
     "output_type": "execute_result"
    }
   ],
   "source": [
    "df.head().transpose()"
   ]
  },
  {
   "cell_type": "markdown",
   "metadata": {},
   "source": [
    "O segundo dataset explorado descreve os projetos culturais. Como mostrado acima, tal dataset conta com uma relação de mais de 210 mil projetos culturais e cada projeto tem 35 informações, como datas de íncio e fim de execução, ano, UF, identificador, situação e etc.\n",
    "\n",
    "A seguir, serão explorados os possíveis dados textuais desse dataset, como nome, resumo, segmento, órgão, área, UF e etc."
   ]
  },
  {
   "cell_type": "code",
   "execution_count": 14,
   "metadata": {},
   "outputs": [
    {
     "data": {
      "text/html": [
       "<div>\n",
       "<style scoped>\n",
       "    .dataframe tbody tr th:only-of-type {\n",
       "        vertical-align: middle;\n",
       "    }\n",
       "\n",
       "    .dataframe tbody tr th {\n",
       "        vertical-align: top;\n",
       "    }\n",
       "\n",
       "    .dataframe thead th {\n",
       "        text-align: right;\n",
       "    }\n",
       "</style>\n",
       "<table border=\"1\" class=\"dataframe\">\n",
       "  <thead>\n",
       "    <tr style=\"text-align: right;\">\n",
       "      <th></th>\n",
       "      <th>PRONAC</th>\n",
       "      <th>IdPRONAC</th>\n",
       "      <th>AnoProjeto</th>\n",
       "      <th>Sequencial</th>\n",
       "      <th>UfProjeto</th>\n",
       "      <th>Area</th>\n",
       "      <th>Segmento</th>\n",
       "      <th>Mecanismo</th>\n",
       "      <th>NomeProjeto</th>\n",
       "      <th>Processo</th>\n",
       "      <th>...</th>\n",
       "      <th>DtInicioExecucao</th>\n",
       "      <th>DtFimExecucao</th>\n",
       "      <th>SolicitadoUfir</th>\n",
       "      <th>SolicitadoReal</th>\n",
       "      <th>SolicitadoCusteioUfir</th>\n",
       "      <th>SolicitadoCusteioReal</th>\n",
       "      <th>SolicitadoCapitalUfir</th>\n",
       "      <th>SolicitadoCapitalReal</th>\n",
       "      <th>Logon</th>\n",
       "      <th>idProjeto</th>\n",
       "    </tr>\n",
       "  </thead>\n",
       "  <tbody>\n",
       "    <tr>\n",
       "      <th>105918</th>\n",
       "      <td>XXXXXX</td>\n",
       "      <td>105919</td>\n",
       "      <td>XX</td>\n",
       "      <td>XXXX</td>\n",
       "      <td>DF</td>\n",
       "      <td>1</td>\n",
       "      <td>11</td>\n",
       "      <td>1</td>\n",
       "      <td>Projeto especial</td>\n",
       "      <td>X</td>\n",
       "      <td>...</td>\n",
       "      <td>NaN</td>\n",
       "      <td>NaN</td>\n",
       "      <td>0.0</td>\n",
       "      <td>0.0</td>\n",
       "      <td>0.0</td>\n",
       "      <td>0.0</td>\n",
       "      <td>0.0</td>\n",
       "      <td>0.0</td>\n",
       "      <td>NaN</td>\n",
       "      <td>NaN</td>\n",
       "    </tr>\n",
       "  </tbody>\n",
       "</table>\n",
       "<p>1 rows × 35 columns</p>\n",
       "</div>"
      ],
      "text/plain": [
       "        PRONAC  IdPRONAC AnoProjeto Sequencial UfProjeto  Area Segmento  \\\n",
       "105918  XXXXXX    105919         XX       XXXX        DF     1       11   \n",
       "\n",
       "        Mecanismo       NomeProjeto         Processo    ...     \\\n",
       "105918          1  Projeto especial  X                  ...      \n",
       "\n",
       "       DtInicioExecucao DtFimExecucao SolicitadoUfir SolicitadoReal  \\\n",
       "105918              NaN           NaN            0.0            0.0   \n",
       "\n",
       "       SolicitadoCusteioUfir  SolicitadoCusteioReal  SolicitadoCapitalUfir  \\\n",
       "105918                   0.0                    0.0                    0.0   \n",
       "\n",
       "       SolicitadoCapitalReal Logon idProjeto  \n",
       "105918                   0.0   NaN       NaN  \n",
       "\n",
       "[1 rows x 35 columns]"
      ]
     },
     "execution_count": 14,
     "metadata": {},
     "output_type": "execute_result"
    }
   ],
   "source": [
    "inconsistent_pronacs = pd.to_numeric(df['PRONAC'], errors='coerce').isnull()\n",
    "df[ inconsistent_pronacs ]"
   ]
  },
  {
   "cell_type": "markdown",
   "metadata": {},
   "source": [
    "Antes de analisar as features textuais, analisou-se a coluna PRONAC (identificador único do projeto) e verificou-se a existência de um único PRONAC inválido (não numérico). Tal projeto será removido, pois é provavelmente um resquício do banco de dados de homologação, pois não tem informações válidas."
   ]
  },
  {
   "cell_type": "code",
   "execution_count": 15,
   "metadata": {},
   "outputs": [],
   "source": [
    "df = df[~inconsistent_pronacs]"
   ]
  },
  {
   "cell_type": "code",
   "execution_count": 16,
   "metadata": {},
   "outputs": [
    {
     "data": {
      "text/plain": [
       "count      210683\n",
       "unique     210683\n",
       "top       1011098\n",
       "freq            1\n",
       "Name: PRONAC, dtype: object"
      ]
     },
     "execution_count": 16,
     "metadata": {},
     "output_type": "execute_result"
    }
   ],
   "source": [
    "df['PRONAC'].describe()"
   ]
  },
  {
   "cell_type": "markdown",
   "metadata": {},
   "source": [
    "#### Feature: UF dos projetos"
   ]
  },
  {
   "cell_type": "code",
   "execution_count": 17,
   "metadata": {},
   "outputs": [
    {
     "name": "stdout",
     "output_type": "stream",
     "text": [
      "27\n"
     ]
    },
    {
     "data": {
      "text/plain": [
       "SP    55248\n",
       "RJ    39846\n",
       "MG    22367\n",
       "RS    15100\n",
       "PR    12767\n",
       "BA     9215\n",
       "DF     8945\n",
       "SC     8728\n",
       "PE     6144\n",
       "CE     5111\n",
       "Name: UfProjeto, dtype: int64"
      ]
     },
     "execution_count": 17,
     "metadata": {},
     "output_type": "execute_result"
    }
   ],
   "source": [
    "serie = df['UfProjeto'].value_counts()\n",
    "print(len(serie))\n",
    "serie.head(10)"
   ]
  },
  {
   "cell_type": "markdown",
   "metadata": {},
   "source": [
    "#### Feature: nome dos projetos"
   ]
  },
  {
   "cell_type": "code",
   "execution_count": 18,
   "metadata": {
    "scrolled": false
   },
   "outputs": [
    {
     "name": "stdout",
     "output_type": "stream",
     "text": [
      "195097\n",
      "8470\n"
     ]
    },
    {
     "data": {
      "text/plain": [
       "Implantação de Biblioteca Pública / Doação de Kit                         217\n",
       "Implantação de biblioteca pública                                         212\n",
       "Implantação de Biblioteca Pública (doação de kit)                         210\n",
       "Edital de Divulgação n.º 3 de 08/03/2010 - Prêmio Pontinhos de Cultura    205\n",
       "Implantação de Biblioteca Pública / Doação de kit                         192\n",
       "Implantação de Biblioteca Pública (Doação de kit)                         151\n",
       "CONSTRUÇÃO DE CENTRO CULTURAL                                             150\n",
       "Modernização de Acervo Bibliográfico                                      119\n",
       "CENTRO CULTURAL                                                            89\n",
       "CONSTRUÇÃO DE UM CENTRO CULTURAL                                           87\n",
       "Name: NomeProjeto, dtype: int64"
      ]
     },
     "execution_count": 18,
     "metadata": {},
     "output_type": "execute_result"
    }
   ],
   "source": [
    "serie = df['NomeProjeto'].value_counts()\n",
    "print(len(serie))\n",
    "serie = serie[ serie > 1 ]\n",
    "print(len(serie))\n",
    "serie.head(10)"
   ]
  },
  {
   "cell_type": "markdown",
   "metadata": {},
   "source": [
    "Cerca de 10% dos projetos têm nomes que não são únicos, sendo \"Implantação de Biblioteca Pública / Doação de Kit\" o nome mais comum de projetos culturais.\n",
    "\n",
    "Abaixo é apresentada uma nuvem de palavras com as palavras e colocações (bigramas) mais frequentes nos nomes de projetos culturais. Em uma nuvem de palavras, quanto maiores as palavras, mais frequentes elas são."
   ]
  },
  {
   "cell_type": "code",
   "execution_count": 19,
   "metadata": {},
   "outputs": [
    {
     "data": {
      "image/png": "[encoded data removed]",
      "text/plain": [
       "<matplotlib.figure.Figure at 0x7f434ccc8048>"
      ]
     },
     "metadata": {},
     "output_type": "display_data"
    }
   ],
   "source": [
    "corpus = ' '.join(df['NomeProjeto'].astype('str').unique())\n",
    "\n",
    "img = WordCloud(\n",
    "    background_color='white',\n",
    "    stopwords=stopwords.words('portuguese'),\n",
    "    height=1000,\n",
    "    width=2000,\n",
    "    normalize_plurals=False\n",
    ").generate(corpus)\n",
    "\n",
    "plt.figure(figsize(16,8))\n",
    "plt.imshow(img)\n",
    "plt.axis('off');"
   ]
  },
  {
   "cell_type": "markdown",
   "metadata": {},
   "source": [
    "#### Feature: situação atual dos projetos"
   ]
  },
  {
   "cell_type": "code",
   "execution_count": 20,
   "metadata": {},
   "outputs": [
    {
     "name": "stdout",
     "output_type": "stream",
     "text": [
      "204\n"
     ]
    },
    {
     "data": {
      "text/plain": [
       "K00    73102\n",
       "E63    12888\n",
       "G51    11947\n",
       "E24    11561\n",
       "G37     8221\n",
       "E19     7353\n",
       "E36     6914\n",
       "E10     5447\n",
       "E65     5447\n",
       "G52     3945\n",
       "Name: Situacao, dtype: int64"
      ]
     },
     "execution_count": 20,
     "metadata": {},
     "output_type": "execute_result"
    }
   ],
   "source": [
    "serie = df['Situacao'].value_counts()\n",
    "print(len(serie))\n",
    "serie.head(10)"
   ]
  },
  {
   "cell_type": "markdown",
   "metadata": {},
   "source": [
    "#### Feature: unidade/local de análise dos projetos"
   ]
  },
  {
   "cell_type": "code",
   "execution_count": 21,
   "metadata": {},
   "outputs": [
    {
     "name": "stdout",
     "output_type": "stream",
     "text": [
      "47\n"
     ]
    },
    {
     "data": {
      "text/plain": [
       "              140237\n",
       "FUNARTE        30429\n",
       "FBN            12196\n",
       "SAC/Ad hoc     10443\n",
       "IPHAN           4234\n",
       "COGMEC          3274\n",
       "CAP             1523\n",
       "SEXEC           1336\n",
       "SDAV            1087\n",
       "COP              917\n",
       "Name: UnidadeAnalise, dtype: int64"
      ]
     },
     "execution_count": 21,
     "metadata": {},
     "output_type": "execute_result"
    }
   ],
   "source": [
    "serie = df['UnidadeAnalise'].value_counts()\n",
    "print(len(serie))\n",
    "serie.head(10)"
   ]
  },
  {
   "cell_type": "markdown",
   "metadata": {},
   "source": [
    "#### Feature: analista responsável pelo projeto"
   ]
  },
  {
   "cell_type": "code",
   "execution_count": 22,
   "metadata": {},
   "outputs": [
    {
     "name": "stdout",
     "output_type": "stream",
     "text": [
      "1064\n"
     ]
    },
    {
     "data": {
      "text/plain": [
       "                                     91050\n",
       "Tânia Regina Boita                    9329\n",
       "Napoleão                              5158\n",
       "Eunice Linhares Reis                  3626\n",
       "Márcio Silva de Freitas               2892\n",
       "Napoleão Alvarenga Filho              2618\n",
       "Solange Monteiro Almeida              2574\n",
       "Elisângela Roquete de Melo            2547\n",
       "Maria das Neves Alves de Oliveira     2525\n",
       "Edmo                                  2511\n",
       "Name: Analista, dtype: int64"
      ]
     },
     "execution_count": 22,
     "metadata": {},
     "output_type": "execute_result"
    }
   ],
   "source": [
    "serie = df['Analista'].value_counts()\n",
    "print(len(serie))\n",
    "serie.head(10)"
   ]
  },
  {
   "cell_type": "markdown",
   "metadata": {},
   "source": [
    "#### Feature: resumo do projeto"
   ]
  },
  {
   "cell_type": "code",
   "execution_count": 23,
   "metadata": {
    "scrolled": true
   },
   "outputs": [
    {
     "name": "stdout",
     "output_type": "stream",
     "text": [
      "205211\n",
      "1360\n"
     ]
    },
    {
     "data": {
      "text/plain": [
       "A proposta enviada via postal (Correio), encontra-se junto a documentação obrigatória (anexo 1).    391\n",
       "Acervo                                                                                              309\n",
       "Doação de livros e estantes (kit acervo bibliográfico) para Implantação de Biblioteca Pública.      240\n",
       "Solicita recursos para aquisição de instrumentos musicais                                           174\n",
       "Doação de 2.592 livros e 6 estantes para Implantação de Biblioteca Municipal                        161\n",
       "Documentação enviada pelo correio. O anexo 1 encontra-se junto a documentação obrigatoria           138\n",
       "Implantação de biblioteca pública                                                                   135\n",
       "Aquisição de instrumentos musicais                                                                  124\n",
       "Doação de 2.119 livros e 04 estantes para Implantação de Biblioteca Pública.                        103\n",
       "Doação de 2.119 livros e 04 estantes para Implantação de Biblioteca Pública                          59\n",
       "Name: ResumoProjeto, dtype: int64"
      ]
     },
     "execution_count": 23,
     "metadata": {},
     "output_type": "execute_result"
    }
   ],
   "source": [
    "serie = df['ResumoProjeto'].value_counts()\n",
    "print(len(serie))\n",
    "serie = serie[ serie > 1 ]\n",
    "print(len(serie))\n",
    "serie.head(10)"
   ]
  },
  {
   "cell_type": "markdown",
   "metadata": {},
   "source": [
    "Alguns projetos têm resumos idênticos, cerca de 2.4% dos projetos têm resumos que não são únicos, sendo \"A proposta enviada via postal (Correio), encontra-se junto a documentação obrigatória (anexo 1).\" o resumo mais comum de projetos culturais, presente em 391 projetos distintos.\n",
    "\n",
    "Abaixo é apresentada uma nuvem de palavras com as palavras e colocações mais frequentes nos resumos de projetos culturais."
   ]
  },
  {
   "cell_type": "code",
   "execution_count": 24,
   "metadata": {},
   "outputs": [],
   "source": [
    "import html\n",
    "df['ResumoProjeto_utf-8'] = df['ResumoProjeto'].apply(lambda x: html.unescape(x))"
   ]
  },
  {
   "cell_type": "code",
   "execution_count": 25,
   "metadata": {},
   "outputs": [
    {
     "data": {
      "image/png": "[encoded data removed]",
      "text/plain": [
       "<matplotlib.figure.Figure at 0x7f43901529b0>"
      ]
     },
     "metadata": {},
     "output_type": "display_data"
    }
   ],
   "source": [
    "corpus = ' '.join(df['ResumoProjeto_utf-8'].astype('str').unique())\n",
    "\n",
    "img = WordCloud(\n",
    "    background_color='white',\n",
    "    stopwords=stopwords.words('portuguese'),\n",
    "    height=1000,\n",
    "    width=2000,\n",
    "    normalize_plurals=False\n",
    ").generate(corpus)\n",
    "\n",
    "plt.figure(figsize(16,8))\n",
    "plt.imshow(img)\n",
    "plt.axis('off');"
   ]
  },
  {
   "cell_type": "markdown",
   "metadata": {},
   "source": [
    "#### Feature: providência tomada"
   ]
  },
  {
   "cell_type": "code",
   "execution_count": 26,
   "metadata": {},
   "outputs": [
    {
     "name": "stdout",
     "output_type": "stream",
     "text": [
      "61328\n"
     ]
    },
    {
     "data": {
      "text/plain": [
       "Proposta transformada em projeto cultural                                                             21593\n",
       "Nada captou - projeto arquivado                                                                       20846\n",
       "Prorrogação aprovada e publicada no Di&aacute;rio Oficial da Uni&atilde;o.                             4608\n",
       "Projeto arquivado (24 meses sem captação)                                                              4206\n",
       "Projeto arquivado definitivamente, tendo  em vista encerramento do prazo de 24 meses sem captação.     3457\n",
       "Impossibilidade de atendimento.                                                                        3208\n",
       "Arquivado nada Captou/A pedido do proponente.                                                          3005\n",
       "PRAZO DE CAPTAÇÃO DE RECURSOS ENCERRADO.                                                               2855\n",
       "projeto não selecionado no edital                                                                      2849\n",
       "Nada captou - Projeto arquivado                                                                        2817\n",
       "Name: ProvidenciaTomada, dtype: int64"
      ]
     },
     "execution_count": 26,
     "metadata": {},
     "output_type": "execute_result"
    }
   ],
   "source": [
    "serie = df['ProvidenciaTomada'].value_counts()\n",
    "print(len(serie))\n",
    "serie.head(10)"
   ]
  },
  {
   "cell_type": "markdown",
   "metadata": {},
   "source": [
    "#### Feature: localização do projeto (entre os órgãos do governo)"
   ]
  },
  {
   "cell_type": "code",
   "execution_count": 27,
   "metadata": {},
   "outputs": [
    {
     "name": "stdout",
     "output_type": "stream",
     "text": [
      "8698\n"
     ]
    },
    {
     "data": {
      "text/plain": [
       "                    177556\n",
       "SPOA/DCA              2541\n",
       "DCA                   2134\n",
       "SEFIC/CGAA            1223\n",
       "SSD                    901\n",
       "SAV/CEP                806\n",
       "DCA/SPOA               738\n",
       "FBN-RIO                595\n",
       "ARQUIVO GERAL          588\n",
       "SEFIC/PASSIVO/G1       291\n",
       "Name: Localizacao, dtype: int64"
      ]
     },
     "execution_count": 27,
     "metadata": {},
     "output_type": "execute_result"
    }
   ],
   "source": [
    "serie = df['Localizacao'].value_counts()\n",
    "print(len(serie))\n",
    "serie.head(10)"
   ]
  },
  {
   "cell_type": "markdown",
   "metadata": {},
   "source": [
    "Na análise das features textuais acima, foi possível identificar diversas características de projetos culturais, como:\n",
    "\n",
    "1. Todos os PRONACs são de fato únicos e númericos;\n",
    "1. Mais da metade dos projetos são iniciativas da região sudeste, sendo São Paulo o estado com a maior quantidade de projetos culturais;\n",
    "1. Muitos projetos têm nomes repetidos e as palavras Brasil, Projeto e Arte estão entre as mais utilizadas nos nomes de projetos;\n",
    "1. Mais da metade dos projetos estão em uma das quatro situações: K00, E63, G51 ou E24. Sendo K00 a situação na qual mais projetos se encontram;\n",
    "1. 70% dos projetos não estão vinculados a nenhuma unidade de análise, do restante, a unidade que mais têm projetos vinculados é a FUNARTE;\n",
    "1. Quase metade dos projetos não estão vinculados a nenhum analista. O restante está distribuído entre 1063 analistas, contudo, parte desses analistas são fictícios, com nomes como \"q\", \"xx\", \"VAL\", \"Não Consta\" e etc;\n",
    "1. Alguns projeto têm também resumos repetidos. Dentre as palavras mais utilizadas em resumos estão nomes de capitais de estados brasileiros;\n",
    "1. As principais providências tomadas em projetos estão \"proposta transformada em projeto\" e \"projeto arquivado\", contudo, várias providências podem ser tomadas ao longo de um projeto, a apresentada deve ser apenas a última providência tomada no projeto;\n",
    "1. Quase 85% dos projetos não tem localização definida, tornando essa feature não muito útil. Do restante, as localizações mais frequentes são: SPOA/DCA, DCA e SEFIC/CGAA."
   ]
  },
  {
   "cell_type": "markdown",
   "metadata": {},
   "source": [
    "---\n",
    "## Desenvolvimento\n",
    "\n",
    "Nesta seção, serão apresentadas diversas estratégias para ranquear os projetos mais similares a um projeto cultural específico."
   ]
  },
  {
   "cell_type": "markdown",
   "metadata": {},
   "source": [
    "### Primeiro modelo: olhando apenas os nomes dos projetos\n",
    "\n",
    "O primeiro modelo de identificação de projetos similares vai levar em consideração apenas o nome dos projetos, ou seja, dado um PRONAC específico, será gerado um rank dos projetos com os nomes mais parecidos com aquele.\n",
    "\n",
    "Para começar, serão extraídos apenas o identificador (PRONAC) e o nome dos projetos culturais. Em seguida, serão realizadas as seguintes etapas de pré-processamento:\n",
    "\n",
    "1. Remoção de caracteres não alfanuméricos;\n",
    "1. Passagem de todos os nomes para minúsculos;\n",
    "1. Identificação de colocações (bigramas);\n",
    "1. Segmentação dos nomes (tokenize);\n",
    "1. Remoção de palavras vazias (stopwords);\n",
    "1. Redução das palavras flexionadas à sua base ou raiz (stemming).\n",
    "\n",
    "Após todas as etapas de pré-processamento, será utilizada a técnica de \"Bag of Words\", criando-se um vetor de frequências das palavras, onde as palavras mais frequentes serão selecionadas como features e então será criado, treinado e testado o modelo."
   ]
  },
  {
   "cell_type": "markdown",
   "metadata": {},
   "source": [
    "#### Extração do nome dos projetos"
   ]
  },
  {
   "cell_type": "code",
   "execution_count": 28,
   "metadata": {},
   "outputs": [
    {
     "data": {
      "text/html": [
       "<div>\n",
       "<style scoped>\n",
       "    .dataframe tbody tr th:only-of-type {\n",
       "        vertical-align: middle;\n",
       "    }\n",
       "\n",
       "    .dataframe tbody tr th {\n",
       "        vertical-align: top;\n",
       "    }\n",
       "\n",
       "    .dataframe thead th {\n",
       "        text-align: right;\n",
       "    }\n",
       "</style>\n",
       "<table border=\"1\" class=\"dataframe\">\n",
       "  <thead>\n",
       "    <tr style=\"text-align: right;\">\n",
       "      <th></th>\n",
       "      <th>name</th>\n",
       "    </tr>\n",
       "    <tr>\n",
       "      <th>id</th>\n",
       "      <th></th>\n",
       "    </tr>\n",
       "  </thead>\n",
       "  <tbody>\n",
       "    <tr>\n",
       "      <th>087079</th>\n",
       "      <td>São Paulo; O que foi, O que era e o que é</td>\n",
       "    </tr>\n",
       "    <tr>\n",
       "      <th>087080</th>\n",
       "      <td>Festival BrasilNoar 2008 – 8° Festival Interna...</td>\n",
       "    </tr>\n",
       "    <tr>\n",
       "      <th>087081</th>\n",
       "      <td>Festival BrasilNoar 2008 – 8° Festival Interna...</td>\n",
       "    </tr>\n",
       "    <tr>\n",
       "      <th>087082</th>\n",
       "      <td>Exposição \" Eliseu Visconti - Retrospectiva\"</td>\n",
       "    </tr>\n",
       "    <tr>\n",
       "      <th>087083</th>\n",
       "      <td>Príncipe Feliz (O)</td>\n",
       "    </tr>\n",
       "  </tbody>\n",
       "</table>\n",
       "</div>"
      ],
      "text/plain": [
       "                                                     name\n",
       "id                                                       \n",
       "087079          São Paulo; O que foi, O que era e o que é\n",
       "087080  Festival BrasilNoar 2008 – 8° Festival Interna...\n",
       "087081  Festival BrasilNoar 2008 – 8° Festival Interna...\n",
       "087082       Exposição \" Eliseu Visconti - Retrospectiva\"\n",
       "087083                                Príncipe Feliz (O) "
      ]
     },
     "execution_count": 28,
     "metadata": {},
     "output_type": "execute_result"
    }
   ],
   "source": [
    "projects = df[['PRONAC', 'NomeProjeto']].copy()\n",
    "projects.rename(inplace=True, columns={\n",
    "    'NomeProjeto': 'name',\n",
    "    'PRONAC': 'id'\n",
    "})\n",
    "projects.set_index('id', inplace=True)\n",
    "projects['name'] = projects['name'].astype('str')\n",
    "projects.head()"
   ]
  },
  {
   "cell_type": "markdown",
   "metadata": {},
   "source": [
    "#### Remoção de caracteres não-alfanuméricos"
   ]
  },
  {
   "cell_type": "code",
   "execution_count": 29,
   "metadata": {},
   "outputs": [
    {
     "data": {
      "text/html": [
       "<div>\n",
       "<style scoped>\n",
       "    .dataframe tbody tr th:only-of-type {\n",
       "        vertical-align: middle;\n",
       "    }\n",
       "\n",
       "    .dataframe tbody tr th {\n",
       "        vertical-align: top;\n",
       "    }\n",
       "\n",
       "    .dataframe thead th {\n",
       "        text-align: right;\n",
       "    }\n",
       "</style>\n",
       "<table border=\"1\" class=\"dataframe\">\n",
       "  <thead>\n",
       "    <tr style=\"text-align: right;\">\n",
       "      <th></th>\n",
       "      <th>name</th>\n",
       "    </tr>\n",
       "    <tr>\n",
       "      <th>id</th>\n",
       "      <th></th>\n",
       "    </tr>\n",
       "  </thead>\n",
       "  <tbody>\n",
       "    <tr>\n",
       "      <th>087079</th>\n",
       "      <td>São Paulo  O que foi  O que era e o que é</td>\n",
       "    </tr>\n",
       "    <tr>\n",
       "      <th>087080</th>\n",
       "      <td>Festival BrasilNoar 2008   8  Festival Interna...</td>\n",
       "    </tr>\n",
       "    <tr>\n",
       "      <th>087081</th>\n",
       "      <td>Festival BrasilNoar 2008   8  Festival Interna...</td>\n",
       "    </tr>\n",
       "    <tr>\n",
       "      <th>087082</th>\n",
       "      <td>Exposição   Eliseu Visconti   Retrospectiva</td>\n",
       "    </tr>\n",
       "    <tr>\n",
       "      <th>087083</th>\n",
       "      <td>Príncipe Feliz  O</td>\n",
       "    </tr>\n",
       "  </tbody>\n",
       "</table>\n",
       "</div>"
      ],
      "text/plain": [
       "                                                     name\n",
       "id                                                       \n",
       "087079          São Paulo  O que foi  O que era e o que é\n",
       "087080  Festival BrasilNoar 2008   8  Festival Interna...\n",
       "087081  Festival BrasilNoar 2008   8  Festival Interna...\n",
       "087082       Exposição   Eliseu Visconti   Retrospectiva \n",
       "087083                                Príncipe Feliz  O  "
      ]
     },
     "execution_count": 29,
     "metadata": {},
     "output_type": "execute_result"
    }
   ],
   "source": [
    "import re\n",
    "projects['name'] = projects['name'].apply(lambda x: re.sub('[^\\w]', ' ', x))\n",
    "projects.head()"
   ]
  },
  {
   "cell_type": "markdown",
   "metadata": {},
   "source": [
    "#### Tranformação de todos os caracteres para minúsculo"
   ]
  },
  {
   "cell_type": "code",
   "execution_count": 30,
   "metadata": {},
   "outputs": [
    {
     "data": {
      "text/html": [
       "<div>\n",
       "<style scoped>\n",
       "    .dataframe tbody tr th:only-of-type {\n",
       "        vertical-align: middle;\n",
       "    }\n",
       "\n",
       "    .dataframe tbody tr th {\n",
       "        vertical-align: top;\n",
       "    }\n",
       "\n",
       "    .dataframe thead th {\n",
       "        text-align: right;\n",
       "    }\n",
       "</style>\n",
       "<table border=\"1\" class=\"dataframe\">\n",
       "  <thead>\n",
       "    <tr style=\"text-align: right;\">\n",
       "      <th></th>\n",
       "      <th>name</th>\n",
       "    </tr>\n",
       "    <tr>\n",
       "      <th>id</th>\n",
       "      <th></th>\n",
       "    </tr>\n",
       "  </thead>\n",
       "  <tbody>\n",
       "    <tr>\n",
       "      <th>087079</th>\n",
       "      <td>são paulo  o que foi  o que era e o que é</td>\n",
       "    </tr>\n",
       "    <tr>\n",
       "      <th>087080</th>\n",
       "      <td>festival brasilnoar 2008   8  festival interna...</td>\n",
       "    </tr>\n",
       "    <tr>\n",
       "      <th>087081</th>\n",
       "      <td>festival brasilnoar 2008   8  festival interna...</td>\n",
       "    </tr>\n",
       "    <tr>\n",
       "      <th>087082</th>\n",
       "      <td>exposição   eliseu visconti   retrospectiva</td>\n",
       "    </tr>\n",
       "    <tr>\n",
       "      <th>087083</th>\n",
       "      <td>príncipe feliz  o</td>\n",
       "    </tr>\n",
       "  </tbody>\n",
       "</table>\n",
       "</div>"
      ],
      "text/plain": [
       "                                                     name\n",
       "id                                                       \n",
       "087079          são paulo  o que foi  o que era e o que é\n",
       "087080  festival brasilnoar 2008   8  festival interna...\n",
       "087081  festival brasilnoar 2008   8  festival interna...\n",
       "087082       exposição   eliseu visconti   retrospectiva \n",
       "087083                                príncipe feliz  o  "
      ]
     },
     "execution_count": 30,
     "metadata": {},
     "output_type": "execute_result"
    }
   ],
   "source": [
    "projects['name'] = projects['name'].apply(lambda x: x.lower())\n",
    "projects.head()"
   ]
  },
  {
   "cell_type": "markdown",
   "metadata": {},
   "source": [
    "#### Identificação de colocações\n",
    "\n",
    "Antes de realizar a segmentação do texto, encontrou-se as colocações mais comuns. Desta forma, ao segmentar o texto, colocações muito comuns são tratadas como uma única palavra."
   ]
  },
  {
   "cell_type": "code",
   "execution_count": 31,
   "metadata": {},
   "outputs": [
    {
     "data": {
      "text/plain": [
       "[('centro', 'cultural'),\n",
       " ('biblioteca', 'pública'),\n",
       " ('banda', 'música'),\n",
       " ('banda', 'municipal'),\n",
       " ('festival', 'internacional'),\n",
       " ('são', 'paulo'),\n",
       " ('implantação', 'biblioteca'),\n",
       " ('plano', 'anual'),\n",
       " ('doação', 'kit'),\n",
       " ('rio', 'janeiro')]"
      ]
     },
     "execution_count": 31,
     "metadata": {},
     "output_type": "execute_result"
    }
   ],
   "source": [
    "x = ' '.join(projects['name'].values).split()\n",
    "\n",
    "stop_words = stopwords.words('portuguese')\n",
    "bigrams = nltk.bigrams([w for w in x if  w == 'são' or w not in stop_words])\n",
    "\n",
    "collocations = nltk.FreqDist(bigrams).most_common(500)\n",
    "collocations = list(map(lambda x: x[0], collocations))\n",
    "collocations[:10]"
   ]
  },
  {
   "cell_type": "markdown",
   "metadata": {},
   "source": [
    "#### Segmentação dos nomes"
   ]
  },
  {
   "cell_type": "code",
   "execution_count": 32,
   "metadata": {},
   "outputs": [
    {
     "data": {
      "text/html": [
       "<div>\n",
       "<style scoped>\n",
       "    .dataframe tbody tr th:only-of-type {\n",
       "        vertical-align: middle;\n",
       "    }\n",
       "\n",
       "    .dataframe tbody tr th {\n",
       "        vertical-align: top;\n",
       "    }\n",
       "\n",
       "    .dataframe thead th {\n",
       "        text-align: right;\n",
       "    }\n",
       "</style>\n",
       "<table border=\"1\" class=\"dataframe\">\n",
       "  <thead>\n",
       "    <tr style=\"text-align: right;\">\n",
       "      <th></th>\n",
       "      <th>name</th>\n",
       "    </tr>\n",
       "    <tr>\n",
       "      <th>id</th>\n",
       "      <th></th>\n",
       "    </tr>\n",
       "  </thead>\n",
       "  <tbody>\n",
       "    <tr>\n",
       "      <th>087079</th>\n",
       "      <td>[são_paulo, o, que, foi, o, que, era, e, o, qu...</td>\n",
       "    </tr>\n",
       "    <tr>\n",
       "      <th>087080</th>\n",
       "      <td>[festival, brasilnoar, 2008, 8, festival_inter...</td>\n",
       "    </tr>\n",
       "    <tr>\n",
       "      <th>087081</th>\n",
       "      <td>[festival, brasilnoar, 2008, 8, festival_inter...</td>\n",
       "    </tr>\n",
       "    <tr>\n",
       "      <th>087082</th>\n",
       "      <td>[exposição, eliseu, visconti, retrospectiva]</td>\n",
       "    </tr>\n",
       "    <tr>\n",
       "      <th>087083</th>\n",
       "      <td>[príncipe, feliz, o]</td>\n",
       "    </tr>\n",
       "  </tbody>\n",
       "</table>\n",
       "</div>"
      ],
      "text/plain": [
       "                                                     name\n",
       "id                                                       \n",
       "087079  [são_paulo, o, que, foi, o, que, era, e, o, qu...\n",
       "087080  [festival, brasilnoar, 2008, 8, festival_inter...\n",
       "087081  [festival, brasilnoar, 2008, 8, festival_inter...\n",
       "087082       [exposição, eliseu, visconti, retrospectiva]\n",
       "087083                               [príncipe, feliz, o]"
      ]
     },
     "execution_count": 32,
     "metadata": {},
     "output_type": "execute_result"
    }
   ],
   "source": [
    "def tokenize(x):\n",
    "    words = x.split()\n",
    "    tokens = []\n",
    "    \n",
    "    is_token = False\n",
    "    for i in range(len(words)):\n",
    "        if is_token:\n",
    "            is_token = False\n",
    "        elif i+1 == len(words):\n",
    "            tokens.append(words[i])\n",
    "        elif (words[i], words[i+1]) in collocations:\n",
    "            tokens.append('{}_{}'.format(words[i], words[i+1]))\n",
    "            is_token = True\n",
    "        elif words[i] != 'são':\n",
    "            tokens.append(words[i])\n",
    "    \n",
    "    return tokens\n",
    "\n",
    "projects['name'] = projects['name'].apply(tokenize)\n",
    "projects.head()"
   ]
  },
  {
   "cell_type": "markdown",
   "metadata": {},
   "source": [
    "#### Remoção de palavras vazias"
   ]
  },
  {
   "cell_type": "code",
   "execution_count": 33,
   "metadata": {},
   "outputs": [
    {
     "data": {
      "text/html": [
       "<div>\n",
       "<style scoped>\n",
       "    .dataframe tbody tr th:only-of-type {\n",
       "        vertical-align: middle;\n",
       "    }\n",
       "\n",
       "    .dataframe tbody tr th {\n",
       "        vertical-align: top;\n",
       "    }\n",
       "\n",
       "    .dataframe thead th {\n",
       "        text-align: right;\n",
       "    }\n",
       "</style>\n",
       "<table border=\"1\" class=\"dataframe\">\n",
       "  <thead>\n",
       "    <tr style=\"text-align: right;\">\n",
       "      <th></th>\n",
       "      <th>name</th>\n",
       "    </tr>\n",
       "    <tr>\n",
       "      <th>id</th>\n",
       "      <th></th>\n",
       "    </tr>\n",
       "  </thead>\n",
       "  <tbody>\n",
       "    <tr>\n",
       "      <th>087079</th>\n",
       "      <td>[são_paulo, é]</td>\n",
       "    </tr>\n",
       "    <tr>\n",
       "      <th>087080</th>\n",
       "      <td>[festival, brasilnoar, 2008, 8, festival_inter...</td>\n",
       "    </tr>\n",
       "    <tr>\n",
       "      <th>087081</th>\n",
       "      <td>[festival, brasilnoar, 2008, 8, festival_inter...</td>\n",
       "    </tr>\n",
       "    <tr>\n",
       "      <th>087082</th>\n",
       "      <td>[exposição, eliseu, visconti, retrospectiva]</td>\n",
       "    </tr>\n",
       "    <tr>\n",
       "      <th>087083</th>\n",
       "      <td>[príncipe, feliz]</td>\n",
       "    </tr>\n",
       "  </tbody>\n",
       "</table>\n",
       "</div>"
      ],
      "text/plain": [
       "                                                     name\n",
       "id                                                       \n",
       "087079                                     [são_paulo, é]\n",
       "087080  [festival, brasilnoar, 2008, 8, festival_inter...\n",
       "087081  [festival, brasilnoar, 2008, 8, festival_inter...\n",
       "087082       [exposição, eliseu, visconti, retrospectiva]\n",
       "087083                                  [príncipe, feliz]"
      ]
     },
     "execution_count": 33,
     "metadata": {},
     "output_type": "execute_result"
    }
   ],
   "source": [
    "stop_words = stopwords.words('portuguese')\n",
    "projects['name'] = projects['name'].apply(lambda x: [w for w in x if w not in stop_words])\n",
    "projects.head()"
   ]
  },
  {
   "cell_type": "markdown",
   "metadata": {},
   "source": [
    "#### Redução de palavras flexionadas"
   ]
  },
  {
   "cell_type": "code",
   "execution_count": 34,
   "metadata": {},
   "outputs": [
    {
     "data": {
      "text/html": [
       "<div>\n",
       "<style scoped>\n",
       "    .dataframe tbody tr th:only-of-type {\n",
       "        vertical-align: middle;\n",
       "    }\n",
       "\n",
       "    .dataframe tbody tr th {\n",
       "        vertical-align: top;\n",
       "    }\n",
       "\n",
       "    .dataframe thead th {\n",
       "        text-align: right;\n",
       "    }\n",
       "</style>\n",
       "<table border=\"1\" class=\"dataframe\">\n",
       "  <thead>\n",
       "    <tr style=\"text-align: right;\">\n",
       "      <th></th>\n",
       "      <th>name</th>\n",
       "    </tr>\n",
       "    <tr>\n",
       "      <th>id</th>\n",
       "      <th></th>\n",
       "    </tr>\n",
       "  </thead>\n",
       "  <tbody>\n",
       "    <tr>\n",
       "      <th>087079</th>\n",
       "      <td>[são_paul, é]</td>\n",
       "    </tr>\n",
       "    <tr>\n",
       "      <th>087080</th>\n",
       "      <td>[festiv, brasilno, 2008, 8, festival_internac,...</td>\n",
       "    </tr>\n",
       "    <tr>\n",
       "      <th>087081</th>\n",
       "      <td>[festiv, brasilno, 2008, 8, festival_internac,...</td>\n",
       "    </tr>\n",
       "    <tr>\n",
       "      <th>087082</th>\n",
       "      <td>[expos, elis, viscont, retrospec]</td>\n",
       "    </tr>\n",
       "    <tr>\n",
       "      <th>087083</th>\n",
       "      <td>[príncip, feliz]</td>\n",
       "    </tr>\n",
       "  </tbody>\n",
       "</table>\n",
       "</div>"
      ],
      "text/plain": [
       "                                                     name\n",
       "id                                                       \n",
       "087079                                      [são_paul, é]\n",
       "087080  [festiv, brasilno, 2008, 8, festival_internac,...\n",
       "087081  [festiv, brasilno, 2008, 8, festival_internac,...\n",
       "087082                  [expos, elis, viscont, retrospec]\n",
       "087083                                   [príncip, feliz]"
      ]
     },
     "execution_count": 34,
     "metadata": {},
     "output_type": "execute_result"
    }
   ],
   "source": [
    "stemmer = RSLPStemmer()\n",
    "projects['name'] = projects['name'].apply(lambda x: [stemmer.stem(w) for w in x])\n",
    "projects.head()"
   ]
  },
  {
   "cell_type": "markdown",
   "metadata": {},
   "source": [
    "#### Criação da \"Bag of Words\""
   ]
  },
  {
   "cell_type": "code",
   "execution_count": 35,
   "metadata": {},
   "outputs": [
    {
     "data": {
      "text/plain": [
       "array([[0, 0, 0, ..., 0, 0, 0],\n",
       "       [0, 0, 0, ..., 0, 0, 0],\n",
       "       [0, 0, 0, ..., 0, 0, 0],\n",
       "       ...,\n",
       "       [0, 0, 0, ..., 0, 0, 0],\n",
       "       [0, 0, 0, ..., 0, 0, 0],\n",
       "       [0, 0, 0, ..., 0, 0, 0]], dtype=int64)"
      ]
     },
     "execution_count": 35,
     "metadata": {},
     "output_type": "execute_result"
    }
   ],
   "source": [
    "data = projects['name'].apply(lambda x: ' '.join(x)).values\n",
    "matrix = CountVectorizer(max_features=1000)\n",
    "X = matrix.fit_transform(data).toarray()\n",
    "X"
   ]
  },
  {
   "cell_type": "markdown",
   "metadata": {},
   "source": [
    "#### Utilizando o algoritmo KNN para encontrar os projetos mais similares a um projeto específico"
   ]
  },
  {
   "cell_type": "code",
   "execution_count": 44,
   "metadata": {},
   "outputs": [],
   "source": [
    "nbrs = NearestNeighbors(n_neighbors=10).fit(X)"
   ]
  },
  {
   "cell_type": "code",
   "execution_count": 77,
   "metadata": {},
   "outputs": [],
   "source": [
    "pronacs = projects.index.values\n",
    "def neighbors(pronac):\n",
    "    i = 0\n",
    "    while pronacs[i] != pronac:\n",
    "        i += 1\n",
    "        if i == len(pronacs):\n",
    "            raise ValueError('PRONAC \"{}\" not found.'.format(pronac))\n",
    "    \n",
    "    print('Projeto base:')\n",
    "    display(df.iloc[i:i+1][['PRONAC', 'NomeProjeto']])\n",
    "    \n",
    "    print()\n",
    "    print('Top projetos similares:')\n",
    "    d, indices = nbrs.kneighbors([X[i]])\n",
    "    display(df.iloc[indices[0]][['PRONAC', 'NomeProjeto']])"
   ]
  },
  {
   "cell_type": "markdown",
   "metadata": {},
   "source": [
    "#### Testando o detector de similaridade"
   ]
  },
  {
   "cell_type": "code",
   "execution_count": 78,
   "metadata": {},
   "outputs": [
    {
     "name": "stdout",
     "output_type": "stream",
     "text": [
      "Projeto base:\n"
     ]
    },
    {
     "data": {
      "text/html": [
       "<div>\n",
       "<style scoped>\n",
       "    .dataframe tbody tr th:only-of-type {\n",
       "        vertical-align: middle;\n",
       "    }\n",
       "\n",
       "    .dataframe tbody tr th {\n",
       "        vertical-align: top;\n",
       "    }\n",
       "\n",
       "    .dataframe thead th {\n",
       "        text-align: right;\n",
       "    }\n",
       "</style>\n",
       "<table border=\"1\" class=\"dataframe\">\n",
       "  <thead>\n",
       "    <tr style=\"text-align: right;\">\n",
       "      <th></th>\n",
       "      <th>PRONAC</th>\n",
       "      <th>NomeProjeto</th>\n",
       "    </tr>\n",
       "  </thead>\n",
       "  <tbody>\n",
       "    <tr>\n",
       "      <th>156065</th>\n",
       "      <td>128276</td>\n",
       "      <td>Santander Cultural - 2013 - Plano Anual de Ati...</td>\n",
       "    </tr>\n",
       "  </tbody>\n",
       "</table>\n",
       "</div>"
      ],
      "text/plain": [
       "        PRONAC                                        NomeProjeto\n",
       "156065  128276  Santander Cultural - 2013 - Plano Anual de Ati..."
      ]
     },
     "metadata": {},
     "output_type": "display_data"
    },
    {
     "name": "stdout",
     "output_type": "stream",
     "text": [
      "\n",
      "Top projetos similares:\n"
     ]
    },
    {
     "data": {
      "text/html": [
       "<div>\n",
       "<style scoped>\n",
       "    .dataframe tbody tr th:only-of-type {\n",
       "        vertical-align: middle;\n",
       "    }\n",
       "\n",
       "    .dataframe tbody tr th {\n",
       "        vertical-align: top;\n",
       "    }\n",
       "\n",
       "    .dataframe thead th {\n",
       "        text-align: right;\n",
       "    }\n",
       "</style>\n",
       "<table border=\"1\" class=\"dataframe\">\n",
       "  <thead>\n",
       "    <tr style=\"text-align: right;\">\n",
       "      <th></th>\n",
       "      <th>PRONAC</th>\n",
       "      <th>NomeProjeto</th>\n",
       "    </tr>\n",
       "  </thead>\n",
       "  <tbody>\n",
       "    <tr>\n",
       "      <th>156065</th>\n",
       "      <td>128276</td>\n",
       "      <td>Santander Cultural - 2013 - Plano Anual de Ati...</td>\n",
       "    </tr>\n",
       "    <tr>\n",
       "      <th>155915</th>\n",
       "      <td>128126</td>\n",
       "      <td>Plano Anual de Atividades Cultura 2013</td>\n",
       "    </tr>\n",
       "    <tr>\n",
       "      <th>156102</th>\n",
       "      <td>128313</td>\n",
       "      <td>Plano Anual de Atividades 2013 - Itaú Cultural</td>\n",
       "    </tr>\n",
       "    <tr>\n",
       "      <th>155939</th>\n",
       "      <td>128150</td>\n",
       "      <td>Plano Anual de Atividades Arte &amp; Vida 2013</td>\n",
       "    </tr>\n",
       "    <tr>\n",
       "      <th>155652</th>\n",
       "      <td>127863</td>\n",
       "      <td>Plano Anual de Atividades Santa Marcelina Cult...</td>\n",
       "    </tr>\n",
       "    <tr>\n",
       "      <th>155881</th>\n",
       "      <td>128092</td>\n",
       "      <td>Plano Anual de Atividades 2013</td>\n",
       "    </tr>\n",
       "    <tr>\n",
       "      <th>156223</th>\n",
       "      <td>128434</td>\n",
       "      <td>Plano Anual de Atividades Poiesis 2013</td>\n",
       "    </tr>\n",
       "    <tr>\n",
       "      <th>154625</th>\n",
       "      <td>126836</td>\n",
       "      <td>Plano Anual de Atividades Osesp 2013</td>\n",
       "    </tr>\n",
       "    <tr>\n",
       "      <th>155143</th>\n",
       "      <td>127354</td>\n",
       "      <td>Plano Anual de Atividades 2013</td>\n",
       "    </tr>\n",
       "    <tr>\n",
       "      <th>156105</th>\n",
       "      <td>128316</td>\n",
       "      <td>Plano Anual de Atividades 2013</td>\n",
       "    </tr>\n",
       "  </tbody>\n",
       "</table>\n",
       "</div>"
      ],
      "text/plain": [
       "        PRONAC                                        NomeProjeto\n",
       "156065  128276  Santander Cultural - 2013 - Plano Anual de Ati...\n",
       "155915  128126             Plano Anual de Atividades Cultura 2013\n",
       "156102  128313     Plano Anual de Atividades 2013 - Itaú Cultural\n",
       "155939  128150         Plano Anual de Atividades Arte & Vida 2013\n",
       "155652  127863  Plano Anual de Atividades Santa Marcelina Cult...\n",
       "155881  128092                     Plano Anual de Atividades 2013\n",
       "156223  128434             Plano Anual de Atividades Poiesis 2013\n",
       "154625  126836               Plano Anual de Atividades Osesp 2013\n",
       "155143  127354                     Plano Anual de Atividades 2013\n",
       "156105  128316                     Plano Anual de Atividades 2013"
      ]
     },
     "metadata": {},
     "output_type": "display_data"
    }
   ],
   "source": [
    "neighbors('128276')"
   ]
  },
  {
   "cell_type": "code",
   "execution_count": 79,
   "metadata": {},
   "outputs": [
    {
     "name": "stdout",
     "output_type": "stream",
     "text": [
      "Projeto base:\n"
     ]
    },
    {
     "data": {
      "text/html": [
       "<div>\n",
       "<style scoped>\n",
       "    .dataframe tbody tr th:only-of-type {\n",
       "        vertical-align: middle;\n",
       "    }\n",
       "\n",
       "    .dataframe tbody tr th {\n",
       "        vertical-align: top;\n",
       "    }\n",
       "\n",
       "    .dataframe thead th {\n",
       "        text-align: right;\n",
       "    }\n",
       "</style>\n",
       "<table border=\"1\" class=\"dataframe\">\n",
       "  <thead>\n",
       "    <tr style=\"text-align: right;\">\n",
       "      <th></th>\n",
       "      <th>PRONAC</th>\n",
       "      <th>NomeProjeto</th>\n",
       "    </tr>\n",
       "  </thead>\n",
       "  <tbody>\n",
       "    <tr>\n",
       "      <th>0</th>\n",
       "      <td>087079</td>\n",
       "      <td>São Paulo; O que foi, O que era e o que é</td>\n",
       "    </tr>\n",
       "  </tbody>\n",
       "</table>\n",
       "</div>"
      ],
      "text/plain": [
       "   PRONAC                                NomeProjeto\n",
       "0  087079  São Paulo; O que foi, O que era e o que é"
      ]
     },
     "metadata": {},
     "output_type": "display_data"
    },
    {
     "name": "stdout",
     "output_type": "stream",
     "text": [
      "\n",
      "Top projetos similares:\n"
     ]
    },
    {
     "data": {
      "text/html": [
       "<div>\n",
       "<style scoped>\n",
       "    .dataframe tbody tr th:only-of-type {\n",
       "        vertical-align: middle;\n",
       "    }\n",
       "\n",
       "    .dataframe tbody tr th {\n",
       "        vertical-align: top;\n",
       "    }\n",
       "\n",
       "    .dataframe thead th {\n",
       "        text-align: right;\n",
       "    }\n",
       "</style>\n",
       "<table border=\"1\" class=\"dataframe\">\n",
       "  <thead>\n",
       "    <tr style=\"text-align: right;\">\n",
       "      <th></th>\n",
       "      <th>PRONAC</th>\n",
       "      <th>NomeProjeto</th>\n",
       "    </tr>\n",
       "  </thead>\n",
       "  <tbody>\n",
       "    <tr>\n",
       "      <th>0</th>\n",
       "      <td>087079</td>\n",
       "      <td>São Paulo; O que foi, O que era e o que é</td>\n",
       "    </tr>\n",
       "    <tr>\n",
       "      <th>11033</th>\n",
       "      <td>014421</td>\n",
       "      <td>Almanaque São Paulo</td>\n",
       "    </tr>\n",
       "    <tr>\n",
       "      <th>8656</th>\n",
       "      <td>011477</td>\n",
       "      <td>São Paulo, Metrópole</td>\n",
       "    </tr>\n",
       "    <tr>\n",
       "      <th>10906</th>\n",
       "      <td>014289</td>\n",
       "      <td>\"Os Portugueses em São Paulo\"</td>\n",
       "    </tr>\n",
       "    <tr>\n",
       "      <th>8203</th>\n",
       "      <td>011018</td>\n",
       "      <td>Enciclopédia de São Paulo</td>\n",
       "    </tr>\n",
       "    <tr>\n",
       "      <th>8456</th>\n",
       "      <td>011275</td>\n",
       "      <td>Almanaque São Paulo</td>\n",
       "    </tr>\n",
       "    <tr>\n",
       "      <th>10140</th>\n",
       "      <td>013490</td>\n",
       "      <td>Polaroids em São Paulo</td>\n",
       "    </tr>\n",
       "    <tr>\n",
       "      <th>1744</th>\n",
       "      <td>000868</td>\n",
       "      <td>Mosaico de São Paulo</td>\n",
       "    </tr>\n",
       "    <tr>\n",
       "      <th>2314</th>\n",
       "      <td>001485</td>\n",
       "      <td>PercPan - São Paulo</td>\n",
       "    </tr>\n",
       "    <tr>\n",
       "      <th>10473</th>\n",
       "      <td>013829</td>\n",
       "      <td>Eu Sou São Paulo</td>\n",
       "    </tr>\n",
       "  </tbody>\n",
       "</table>\n",
       "</div>"
      ],
      "text/plain": [
       "       PRONAC                                NomeProjeto\n",
       "0      087079  São Paulo; O que foi, O que era e o que é\n",
       "11033  014421                        Almanaque São Paulo\n",
       "8656   011477                       São Paulo, Metrópole\n",
       "10906  014289              \"Os Portugueses em São Paulo\"\n",
       "8203   011018                  Enciclopédia de São Paulo\n",
       "8456   011275                        Almanaque São Paulo\n",
       "10140  013490                     Polaroids em São Paulo\n",
       "1744   000868                       Mosaico de São Paulo\n",
       "2314   001485                        PercPan - São Paulo\n",
       "10473  013829                           Eu Sou São Paulo"
      ]
     },
     "metadata": {},
     "output_type": "display_data"
    }
   ],
   "source": [
    "neighbors('087079')"
   ]
  },
  {
   "cell_type": "code",
   "execution_count": null,
   "metadata": {},
   "outputs": [],
   "source": []
  },
  {
   "cell_type": "markdown",
   "metadata": {},
   "source": [
    "---\n",
    "## Resultados e Conclusões\n",
    "\n",
    "Apresentação dos resultados de desempenho, precisão, acurácia, análise dos gráficos e algoritmos.\n",
    "\n",
    "Por fim, discussão do que foi implementado e apresentação das melhores alternativas de algoritmos e tecnologias, além de um possível levantamento de trabalhos futuros."
   ]
  }
 ],
 "metadata": {
  "kernelspec": {
   "display_name": "Python 3",
   "language": "python",
   "name": "python3"
  },
  "language_info": {
   "codemirror_mode": {
    "name": "ipython",
    "version": 3
   },
   "file_extension": ".py",
   "mimetype": "text/x-python",
   "name": "python",
   "nbconvert_exporter": "python",
   "pygments_lexer": "ipython3",
   "version": "3.5.2"
  }
 },
 "nbformat": 4,
 "nbformat_minor": 2
}
