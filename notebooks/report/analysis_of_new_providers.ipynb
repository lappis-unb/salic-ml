{
 "cells": [
  {
   "cell_type": "markdown",
   "metadata": {},
   "source": [
    "# Análise da métrica \"valor total captado\" de um projeto cultural\n",
    "---\n",
    "\n",
    "**Objetivo:** realizar uma análise comparativa entre o valor total captado de todos os projetos culturais de um mesmo segmento. Nesta análise, será investigado se o valor total captado de um projeto cultural específico é anormal com relação aos demais projetos do mesmo segmento. \n",
    "\n",
    "Para detectar anomalias/outliers serão utilizadas diversas estratégias, tanto de modelos de distribuição para aproximar a PDF (Probability Density Function) da RV (Random Variable) gerada pela métrica, quanto as baseadas em amostras, como é o caso do detector de outlier LOF (Local Outlier Factor).\n",
    "\n",
    "Issue relacionada ao estudo:\n",
    "* [#169](https://github.com/lappis-unb/salic-ml/issues/175): Valor Captado - Evoluir notebook comparando Gaussiana com LOF\n",
    "\n",
    "Documentação relacionada:\n",
    "* \\[[link](https://github.com/lappis-unb/salic-ml/wiki/Brainstorming-de-features-para-estimar-Complexidade-Financeira)\\] Brainstorming de features para estimar a Complexidade Financeira\n",
    "\n",
    "## Metodologia\n",
    "\n",
    "Foram aplicados cinco modelos de detecção de anomalias: quatro baseados na aproximação da Função de Densidade de Probabilidade (PDF) e um baseado na exploração da densidade de amostras ao redor de um ponto específico (LOF). \n",
    "\n",
    "Para todos os modelos, a estratégia seguida foi a mesma. Primeiramente, dividiu-se o conjunto amostral em conjunto de treinamento (70% dos dados) e conjunto de teste (os 30% restantes dos dados).\n",
    "Em seguida, cada um dos modelos foi treinado com o conjunto de treinamento, supondo uma taxa de contaminação fixa de 10% das amostras (contaminação é a taxa de outliers contidos na amostra).\n",
    "O conjunto de testes foi passado a cada modelo, que retornou a relação de amostras rotuladas como inliers/outliers. Os tempos de treinamento e teste foram anotados e criou-se uma figura contendo dois histogramas, um para os inliers e um para os outliers.\n",
    "Além disso, a métrica de contaminação encontrada foi levantada para comparar a eficiência de cada um dos cinco modelos.\n",
    "\n",
    "#### Detecção de anomalias baseada na aproximação da PDF por modelos de distribuição\n",
    "\n",
    "A PDF dos dados observados foi ajustada às seguintes distribuições:\n",
    "\n",
    "* Distribuição Gaussiana;\n",
    "* Distribuição Log-Normal;\n",
    "* Distribuição Gamma;\n",
    "* Estimação de Distribuição por Kernel Gaussiano (KDE).\n",
    "\n",
    "O treinamento de todos os quatro modelos de distribuição consiste em ajustar a curva ao conjunto de treinamento e então encontrar, via bisseção, um limiar de densidade de probabilidade $p$, tal que, dada uma taxa de contaminação $c$, a igualdade abaixo é satisfeita:\n",
    "\n",
    "$$ c = \\int_{\\forall x \\ \\vert \\ f_X(x) < p}f_X(x)dx $$\n",
    "\n",
    "Onde $f_X$ é a PDF encontrada ao ajustar cada uma das distribuições utilizadas.\n",
    "\n",
    "Para verificar se uma nova amostra $x$ é um inlier ou um outlier, basta verificar se $f_X(x) \\geq p$ ou $f_X(x) < p$, respectivamente, ou seja, $x$ é outlier se ele é pouco provável de acontecer, segundo a distribuição utilizada.\n",
    "\n",
    "#### Detecção de anomalias baseada na exploração da densidade de amostras ao redor de um ponto específico\n",
    "\n",
    "O último modelo utilizado foi o _Local Outlier Factor_ (LOF), que verifica se uma amostra é um outlier ao comparar a densidade de amostras ao seu redor com a densidade de amostras de suas vizinhas. Caso uma amostra tenha densidade muito menor que suas vizinhas, ela é considerada um outlier.\n",
    "\n",
    "O treinamento do LOF utiliza o `OutlierDetection` da classe `sklearn.neighbors.LocalOutlierFactor` para verificar quais são os outliers do conjunto de treinamento, passando a contaminação como parâmetro. Em seguida, os outliers são retirados do conjunto de treinamento e o LOF em si é treinado utilizando o `NoveltyDetection` da mesma classe.\n",
    "\n",
    "Para verificar se uma nova amostra $x$ é um inlier ou um outlier, basta utilizar a função `predict` da `NoveltyDetection` para verificar se tal amostra tem uma densidade de amostras muito menor que a de sua vizinhança.\n",
    "\n",
    "#### Validação da contaminação encontrada\n",
    "\n",
    "Por fim, para avaliar de forma mais consistente a contaminação encontrada por cada um dos modelos utilizados, o procedimento de treino e teste foi repetido 100 vezes, sempre fixando a contaminação esperada em 10% e salvando a contaminação encontrada no conjunto de teste.\n",
    "\n",
    "## Resultados\n",
    "\n",
    "Serão analisados os resultados com base nos seguinte critérios: tempo de execução de treino/teste, efetividade do modelo com relação à taxa de contaminação encontrada, e efetividade do modelo com relação a quais amostras foram rotuladas como outliers.\n",
    "\n",
    "#### Tempo de execução de treino e teste\n",
    "\n",
    "Os tempos de execução estão mostrados a seguir, ordenados pelo de menor tempo de teste para o maior:\n",
    "\n",
    "* Metric Gaussian test elapsed time in seconds: 0.0143\n",
    "\n",
    "* Metric Gaussian training elapsed time in seconds: 0.2947\n",
    "\n",
    "* Metric Gamma test elapsed time in seconds: 0.0167\n",
    "\n",
    "* Metric Gamma training elapsed time in seconds: 0.3571\n",
    "\n",
    "* Metric Log-normal test elapsed time in seconds: 0.0228\n",
    "\n",
    "* Metric Log-normal training elapsed time in seconds: 0.4578\n",
    "\n",
    "* Metric LOF test elapsed time in seconds: 0.0932\n",
    "\n",
    "* Metric LOF training elapsed time in seconds: 0.6392\n",
    "\n",
    "* Metric KDE-Gauss test elapsed time in seconds: 0.4615\n",
    "\n",
    "* Metric KDE-Gauss training elapsed time in seconds: 1.6418\n",
    "\n",
    "#### Taxa de contaminação encontrada\n",
    "As taxas de contaminação encontradas para cada um dos modelos foram:\n",
    "\n",
    "* Média KDE-Gauss: 7.85%\n",
    "* Média Gaussian: 13.15%\n",
    "* Média Log-normal: 13.91%\n",
    "* Média Gamma: 16.37%\n",
    "* Média LOF: 18.27%\n",
    "\n",
    "A que mais se aproxima da contaminação esperada (10%) é o modelo KDE-Gauss, seguido por: Gaussian, Log-normal, Log-normal e Gamma.\n",
    "\n",
    "#### Quais amostras foram rotuladas como outliers\n",
    "\n",
    "Nos modelos de detecção de anomalias baseada na aproximação da PDF por modelos de distribuição, fica claro que os projetos rotulados como outliers têm valor muito abaixo ou muito acima da média, já o modelo de detecção de anomalias baseada na exploração da densidade de amostras ao redor de um ponto específico, LOF, amostras com valores consideravelmente próximos à média da distribuição foram rotuladas como outliers, o que não parece fazer sentido para o contexto.\n",
    "\n",
    "## Conclusões\n",
    "\n",
    "O modelo KDE-Gauss apresenta a contaminação mais próxima da contaminação esperada, sendo assim, levando em conta o hipótese de maior proximidade de contaminação, é a métrica mais apropriada nesse quesito. Entretanto, o mesmo apresenta tempos de treinamento e teste (i.e., tempos de query) muito elevados quando comparado com os outros modelos.\n",
    "Como alternativa, o modelo Gaussian é o segundo mais próximo da contaminação esperada e seu tempo de teste (queries) é o melhor, se provando, talvez, como a melhor opção caso o tempo elevado do modelo KDE-Gauss seja um problema para as situações a serem usadas.\n",
    "\n",
    "#### Trabalhos futuros\n",
    "\n",
    "Escolheu-se um segmento específo e todo o estudo foi realizado com base nos dados daquele segmento. Um trabalho futuro é a realização das mesmas análises e generalização para os outros segmentos."
   ]
  },
  {
   "cell_type": "markdown",
   "metadata": {},
   "source": [
    "#### Importando módulos necessários"
   ]
  },
  {
   "cell_type": "code",
   "execution_count": 1,
   "metadata": {},
   "outputs": [
    {
     "name": "stdout",
     "output_type": "stream",
     "text": [
      "Populating the interactive namespace from numpy and matplotlib\n"
     ]
    },
    {
     "name": "stderr",
     "output_type": "stream",
     "text": [
      "/usr/lib/python3.6/importlib/_bootstrap.py:219: RuntimeWarning: numpy.dtype size changed, may indicate binary incompatibility. Expected 96, got 88\n",
      "  return f(*args, **kwds)\n"
     ]
    }
   ],
   "source": [
    "%pylab inline\n",
    "import scipy\n",
    "import pandas as pd\n",
    "import seaborn as sns\n",
    "import numpy as np"
   ]
  },
  {
   "cell_type": "markdown",
   "metadata": {},
   "source": [
    "#### Carregando e mostrando dataset a ser utilizado ao longo do estudo"
   ]
  },
  {
   "cell_type": "code",
   "execution_count": 2,
   "metadata": {},
   "outputs": [
    {
     "name": "stdout",
     "output_type": "stream",
     "text": [
      "Index(['PRONAC', 'idPlanilhaAprovacao', 'idComprovantePagamento', 'IdPRONAC',\n",
      "       'idSegmento', 'cdProduto', 'cdEtapa', 'cdUF', 'UF', 'cdCidade',\n",
      "       'idPlanilhaItem', 'Item', 'DataProjeto', 'nrComprovante', 'nrSerie',\n",
      "       'nrCNPJCPF', 'nmFornecedor', 'proponenteCgcCpf', 'tpDocumento',\n",
      "       'dtPagamento', 'dtEmissao', 'tpFormaDePagamento',\n",
      "       'nrDocumentoDePagamento', 'idArquivo', 'dsJustificativaProponente',\n",
      "       'dsOcorrenciaDoTecnico', 'stItemAvaliado', 'stAvaliacao',\n",
      "       'vlComprovacao'],\n",
      "      dtype='object')\n"
     ]
    },
    {
     "name": "stderr",
     "output_type": "stream",
     "text": [
      "/home/mattioli/Desktop/unb/lappis/virtual_env/salic-ml/lib/python3.6/site-packages/IPython/core/interactiveshell.py:2785: DtypeWarning: Columns (22,25) have mixed types. Specify dtype option on import or set low_memory=False.\n",
      "  interactivity=interactivity, compiler=compiler, result=result)\n"
     ]
    },
    {
     "data": {
      "text/html": [
       "<div>\n",
       "<style scoped>\n",
       "    .dataframe tbody tr th:only-of-type {\n",
       "        vertical-align: middle;\n",
       "    }\n",
       "\n",
       "    .dataframe tbody tr th {\n",
       "        vertical-align: top;\n",
       "    }\n",
       "\n",
       "    .dataframe thead th {\n",
       "        text-align: right;\n",
       "    }\n",
       "</style>\n",
       "<table border=\"1\" class=\"dataframe\">\n",
       "  <thead>\n",
       "    <tr style=\"text-align: right;\">\n",
       "      <th></th>\n",
       "      <th>PRONAC</th>\n",
       "      <th>idPlanilhaAprovacao</th>\n",
       "      <th>idComprovantePagamento</th>\n",
       "      <th>IdPRONAC</th>\n",
       "      <th>idSegmento</th>\n",
       "      <th>cdProduto</th>\n",
       "      <th>cdEtapa</th>\n",
       "      <th>cdUF</th>\n",
       "      <th>UF</th>\n",
       "      <th>cdCidade</th>\n",
       "      <th>...</th>\n",
       "      <th>dtPagamento</th>\n",
       "      <th>dtEmissao</th>\n",
       "      <th>tpFormaDePagamento</th>\n",
       "      <th>nrDocumentoDePagamento</th>\n",
       "      <th>idArquivo</th>\n",
       "      <th>dsJustificativaProponente</th>\n",
       "      <th>dsOcorrenciaDoTecnico</th>\n",
       "      <th>stItemAvaliado</th>\n",
       "      <th>stAvaliacao</th>\n",
       "      <th>vlComprovacao</th>\n",
       "    </tr>\n",
       "  </thead>\n",
       "  <tbody>\n",
       "    <tr>\n",
       "      <th>0</th>\n",
       "      <td>1012121</td>\n",
       "      <td>18552</td>\n",
       "      <td>4326</td>\n",
       "      <td>132451</td>\n",
       "      <td>71</td>\n",
       "      <td>1</td>\n",
       "      <td>1</td>\n",
       "      <td>35</td>\n",
       "      <td>SP</td>\n",
       "      <td>355030</td>\n",
       "      <td>...</td>\n",
       "      <td>2014-01-16 00:00:00</td>\n",
       "      <td>2013-03-27 00:00:00</td>\n",
       "      <td>Transferencia Bancaria</td>\n",
       "      <td>42501</td>\n",
       "      <td>410880</td>\n",
       "      <td>Elaboração de projeto gráfico do livro.</td>\n",
       "      <td>NaN</td>\n",
       "      <td>4</td>\n",
       "      <td>Aguardando analise</td>\n",
       "      <td>12000.0</td>\n",
       "    </tr>\n",
       "    <tr>\n",
       "      <th>1</th>\n",
       "      <td>1012121</td>\n",
       "      <td>18553</td>\n",
       "      <td>4332</td>\n",
       "      <td>132451</td>\n",
       "      <td>71</td>\n",
       "      <td>1</td>\n",
       "      <td>2</td>\n",
       "      <td>35</td>\n",
       "      <td>SP</td>\n",
       "      <td>355030</td>\n",
       "      <td>...</td>\n",
       "      <td>2014-01-16 00:00:00</td>\n",
       "      <td>2012-04-30 00:00:00</td>\n",
       "      <td>Transferencia Bancaria</td>\n",
       "      <td>2945</td>\n",
       "      <td>410935</td>\n",
       "      <td>Reportagem e produção de textos para livro.</td>\n",
       "      <td>NaN</td>\n",
       "      <td>4</td>\n",
       "      <td>Aguardando analise</td>\n",
       "      <td>6000.0</td>\n",
       "    </tr>\n",
       "    <tr>\n",
       "      <th>2</th>\n",
       "      <td>1012121</td>\n",
       "      <td>18554</td>\n",
       "      <td>4755</td>\n",
       "      <td>132451</td>\n",
       "      <td>71</td>\n",
       "      <td>1</td>\n",
       "      <td>2</td>\n",
       "      <td>35</td>\n",
       "      <td>SP</td>\n",
       "      <td>355030</td>\n",
       "      <td>...</td>\n",
       "      <td>2014-01-28 00:00:00</td>\n",
       "      <td>2012-03-16 00:00:00</td>\n",
       "      <td>Transferencia Bancaria</td>\n",
       "      <td>31601</td>\n",
       "      <td>420731</td>\n",
       "      <td>Fotografia artística para o livro.</td>\n",
       "      <td>NaN</td>\n",
       "      <td>4</td>\n",
       "      <td>Aguardando analise</td>\n",
       "      <td>12000.0</td>\n",
       "    </tr>\n",
       "    <tr>\n",
       "      <th>3</th>\n",
       "      <td>1012121</td>\n",
       "      <td>18555</td>\n",
       "      <td>4334</td>\n",
       "      <td>132451</td>\n",
       "      <td>71</td>\n",
       "      <td>1</td>\n",
       "      <td>2</td>\n",
       "      <td>35</td>\n",
       "      <td>SP</td>\n",
       "      <td>355030</td>\n",
       "      <td>...</td>\n",
       "      <td>2014-01-16 00:00:00</td>\n",
       "      <td>2013-08-27 00:00:00</td>\n",
       "      <td>Transferencia Bancaria</td>\n",
       "      <td>90201</td>\n",
       "      <td>410939</td>\n",
       "      <td>Tratamento de imagens para o livro.</td>\n",
       "      <td>NaN</td>\n",
       "      <td>4</td>\n",
       "      <td>Aguardando analise</td>\n",
       "      <td>6000.0</td>\n",
       "    </tr>\n",
       "    <tr>\n",
       "      <th>4</th>\n",
       "      <td>1012121</td>\n",
       "      <td>18556</td>\n",
       "      <td>4327</td>\n",
       "      <td>132451</td>\n",
       "      <td>71</td>\n",
       "      <td>1</td>\n",
       "      <td>2</td>\n",
       "      <td>35</td>\n",
       "      <td>SP</td>\n",
       "      <td>355030</td>\n",
       "      <td>...</td>\n",
       "      <td>2014-01-16 00:00:00</td>\n",
       "      <td>2012-05-04 00:00:00</td>\n",
       "      <td>Transferencia Bancaria</td>\n",
       "      <td>2945</td>\n",
       "      <td>410917</td>\n",
       "      <td>Edição dos textos do livro.</td>\n",
       "      <td>NaN</td>\n",
       "      <td>4</td>\n",
       "      <td>Aguardando analise</td>\n",
       "      <td>8000.0</td>\n",
       "    </tr>\n",
       "  </tbody>\n",
       "</table>\n",
       "<p>5 rows × 29 columns</p>\n",
       "</div>"
      ],
      "text/plain": [
       "    PRONAC  idPlanilhaAprovacao  idComprovantePagamento  IdPRONAC idSegmento  \\\n",
       "0  1012121                18552                    4326    132451         71   \n",
       "1  1012121                18553                    4332    132451         71   \n",
       "2  1012121                18554                    4755    132451         71   \n",
       "3  1012121                18555                    4334    132451         71   \n",
       "4  1012121                18556                    4327    132451         71   \n",
       "\n",
       "   cdProduto  cdEtapa  cdUF  UF  cdCidade      ...               dtPagamento  \\\n",
       "0          1        1    35  SP    355030      ...       2014-01-16 00:00:00   \n",
       "1          1        2    35  SP    355030      ...       2014-01-16 00:00:00   \n",
       "2          1        2    35  SP    355030      ...       2014-01-28 00:00:00   \n",
       "3          1        2    35  SP    355030      ...       2014-01-16 00:00:00   \n",
       "4          1        2    35  SP    355030      ...       2014-01-16 00:00:00   \n",
       "\n",
       "             dtEmissao      tpFormaDePagamento nrDocumentoDePagamento  \\\n",
       "0  2013-03-27 00:00:00  Transferencia Bancaria                  42501   \n",
       "1  2012-04-30 00:00:00  Transferencia Bancaria                   2945   \n",
       "2  2012-03-16 00:00:00  Transferencia Bancaria                  31601   \n",
       "3  2013-08-27 00:00:00  Transferencia Bancaria                  90201   \n",
       "4  2012-05-04 00:00:00  Transferencia Bancaria                   2945   \n",
       "\n",
       "  idArquivo                    dsJustificativaProponente  \\\n",
       "0    410880      Elaboração de projeto gráfico do livro.   \n",
       "1    410935  Reportagem e produção de textos para livro.   \n",
       "2    420731           Fotografia artística para o livro.   \n",
       "3    410939          Tratamento de imagens para o livro.   \n",
       "4    410917                  Edição dos textos do livro.   \n",
       "\n",
       "  dsOcorrenciaDoTecnico  stItemAvaliado         stAvaliacao vlComprovacao  \n",
       "0                   NaN               4  Aguardando analise       12000.0  \n",
       "1                   NaN               4  Aguardando analise        6000.0  \n",
       "2                   NaN               4  Aguardando analise       12000.0  \n",
       "3                   NaN               4  Aguardando analise        6000.0  \n",
       "4                   NaN               4  Aguardando analise        8000.0  \n",
       "\n",
       "[5 rows x 29 columns]"
      ]
     },
     "execution_count": 2,
     "metadata": {},
     "output_type": "execute_result"
    }
   ],
   "source": [
    "df = pd.read_csv('../../data/raw/planilha_comprovacao.csv')\n",
    "print(df.columns)\n",
    "df.head()"
   ]
  },
  {
   "cell_type": "markdown",
   "metadata": {},
   "source": [
    "#### Gerando tabela com o valor total de gastos captados por projeto e por segmento"
   ]
  },
  {
   "cell_type": "code",
   "execution_count": 3,
   "metadata": {
    "scrolled": true
   },
   "outputs": [],
   "source": [
    "class NewProviders():\n",
    "    usecols = ['PRONAC', 'IdPRONAC', 'nrCNPJCPF', 'DataProjeto', 'idPlanilhaAprovacao',\n",
    "               'Item', 'nmFornecedor', 'idSegmento', 'UF', 'cdProduto', 'cdCidade',\n",
    "               'idPlanilhaItem', 'cdEtapa']\n",
    "\n",
    "    def __init__(self, dt_comprovacao):\n",
    "        self.dt_comprovacao = dt_comprovacao[NewProviders.usecols].copy()\n",
    "        self._train()\n",
    "\n",
    "    def _train(self):\n",
    "        self._set_projects_groupby()\n",
    "        self._set_providers_count()\n",
    "        self._train_average_percentage()\n",
    "\n",
    "    def _set_projects_groupby(self):\n",
    "        self.projects = self.dt_comprovacao.groupby('PRONAC')\n",
    "\n",
    "    def _set_providers_count(self):\n",
    "        self.providers_count = {}\n",
    "\n",
    "        for pronac, items in self.projects:\n",
    "            cnpjs = items['nrCNPJCPF'].unique()\n",
    "\n",
    "            for cnpj in cnpjs:\n",
    "                count = self.providers_count.setdefault(cnpj, 0)\n",
    "                self.providers_count[cnpj] = count + 1\n",
    "\n",
    "    def _train_average_percentage(self):\n",
    "        segment_percentages = {}\n",
    "        all_projects_percentages = []\n",
    "\n",
    "        for pronac, items in self.projects:\n",
    "            cnpjs = items.nrCNPJCPF.unique()\n",
    "            new_providers = 0\n",
    "            for cnpj in cnpjs:\n",
    "                cnpj_count = self.providers_count.get(cnpj, 0)\n",
    "                if cnpj_count <= 1:\n",
    "                    new_providers += 1\n",
    "\n",
    "            id_segmento = items.iloc[0]['idSegmento']\n",
    "            segment_percentages.setdefault(id_segmento, [])\n",
    "            providers_percent = new_providers / cnpjs.size\n",
    "            segment_percentages[id_segmento].append(providers_percent)\n",
    "            all_projects_percentages.append(providers_percent)\n",
    "\n",
    "        self.segments_average = {}\n",
    "        for segment_id, percentages in segment_percentages.items():\n",
    "            mean = np.mean(percentages)\n",
    "            self.segments_average[segment_id] = mean\n",
    "\n",
    "        self.all_projects_average = np.mean(all_projects_percentages)\n",
    "    \n",
    "    def get_percentage(self, pronac):\n",
    "        items = self.projects.get_group(pronac)\n",
    "        \n",
    "        new_providers = 0\n",
    "        for cnpj in items['nrCNPJCPF'].unique():\n",
    "            cnpj_count = self.providers_count.get(cnpj, 0)\n",
    "            if cnpj_count <= 1:\n",
    "                new_providers += 1\n",
    "        \n",
    "        new_providers_percentage = new_providers / len(items['nrCNPJCPF'].unique())\n",
    "        \n",
    "        return new_providers_percentage\n",
    "\n",
    "new_providers_obj = NewProviders(df)"
   ]
  },
  {
   "cell_type": "code",
   "execution_count": 4,
   "metadata": {},
   "outputs": [],
   "source": [
    "new_providers = df[['idSegmento', 'PRONAC']].drop_duplicates()\n",
    "new_providers = new_providers.groupby(['idSegmento', 'PRONAC']).count()\n",
    "index = new_providers.index\n",
    "new_providers.reset_index(level=new_providers.index.names, inplace=True)\n",
    "new_providers['newProvidersPercentage'] = new_providers.PRONAC.apply(new_providers_obj.get_percentage)\n",
    "new_providers.index = index"
   ]
  },
  {
   "cell_type": "markdown",
   "metadata": {},
   "source": [
    "## Análise por segmento\n",
    "---\n",
    "\n",
    "Nesta etapa, analisaremos o valor total de gastos captados dos projetos para um segmento escolhido."
   ]
  },
  {
   "cell_type": "markdown",
   "metadata": {},
   "source": [
    "#### Esolhendo um segmento e gerando uma lista de valor total captado para todos os projetos do segmento"
   ]
  },
  {
   "cell_type": "code",
   "execution_count": 5,
   "metadata": {
    "scrolled": true
   },
   "outputs": [
    {
     "data": {
      "text/plain": [
       "PRONAC\n",
       "112465     0.640000\n",
       "113951     0.590909\n",
       "118216     0.444444\n",
       "118687     0.133333\n",
       "119550     0.000000\n",
       "120629     0.285714\n",
       "120729     0.500000\n",
       "120953     0.444444\n",
       "120977     0.619565\n",
       "121257     0.666667\n",
       "121761     0.166667\n",
       "123330     0.857143\n",
       "123402     0.562500\n",
       "124545     0.304348\n",
       "124984     0.454545\n",
       "125360     0.533333\n",
       "126557     0.000000\n",
       "126727     0.400000\n",
       "126776     0.789474\n",
       "126837     0.823529\n",
       "126963     0.250000\n",
       "127066     0.632653\n",
       "127206     0.000000\n",
       "127798     0.000000\n",
       "128120     0.483871\n",
       "128237     0.500000\n",
       "128615     0.500000\n",
       "128646     0.545455\n",
       "129151     0.000000\n",
       "129229     0.888889\n",
       "             ...   \n",
       "1414102    0.347826\n",
       "1414111    0.818182\n",
       "1414129    0.312500\n",
       "1414132    0.205882\n",
       "1414152    0.250000\n",
       "1414166    0.404494\n",
       "1414267    0.836364\n",
       "1414382    0.100000\n",
       "1510203    0.185185\n",
       "1510263    0.125000\n",
       "1510332    0.444444\n",
       "1510413    0.333333\n",
       "1510420    0.471429\n",
       "1510490    0.571429\n",
       "1510520    0.526316\n",
       "1510609    0.533937\n",
       "1510866    0.115385\n",
       "1510933    0.500000\n",
       "1510943    0.619048\n",
       "1510954    0.166667\n",
       "1510968    0.652174\n",
       "1511032    0.823529\n",
       "1511074    0.650000\n",
       "1511075    0.413793\n",
       "1511097    0.246575\n",
       "1511109    0.481818\n",
       "1511122    0.666667\n",
       "1511179    0.250000\n",
       "1511209    0.666667\n",
       "1511226    0.400000\n",
       "Name: newProvidersPercentage, Length: 659, dtype: float64"
      ]
     },
     "execution_count": 5,
     "metadata": {},
     "output_type": "execute_result"
    }
   ],
   "source": [
    "segment = '11'\n",
    "segment_projects = new_providers.loc[segment]['newProvidersPercentage']\n",
    "segment_projects\n",
    "#new_providers.drop(columns=['idSegmento', 'PRONAC'], inplace=True)\n",
    "#new_providers.head()"
   ]
  },
  {
   "cell_type": "markdown",
   "metadata": {},
   "source": [
    "#### Gerando histograma dos dados acima"
   ]
  },
  {
   "cell_type": "code",
   "execution_count": 6,
   "metadata": {},
   "outputs": [
    {
     "name": "stdout",
     "output_type": "stream",
     "text": [
      "Média da distribuição: 0.44\n",
      "Desvio padrão da distribuição: 0.25\n",
      "\n"
     ]
    },
    {
     "data": {
      "image/png": "[encoded data removed]",
      "text/plain": [
       "<Figure size 1152x288 with 1 Axes>"
      ]
     },
     "metadata": {},
     "output_type": "display_data"
    }
   ],
   "source": [
    "sns.set(style='whitegrid', palette='dark')\n",
    "f, ax = plt.subplots(figsize=(16,4))\n",
    "\n",
    "sns.distplot(segment_projects, bins=200, kde=False)\n",
    "plt.title('Histograma de porcentagem de novos fornecedores de projetos de um mesmo segmento')\n",
    "plt.ylabel('Quantidade de projetos')\n",
    "plt.xlabel('Porcentagem de novos fornecedores')\n",
    "plt.grid(True)\n",
    "\n",
    "expected_mean = np.mean(segment_projects)\n",
    "expected_std = np.std(segment_projects)\n",
    "\n",
    "print('Média da distribuição: %.2lf' % expected_mean)\n",
    "print('Desvio padrão da distribuição: %.2lf\\n' % expected_std)"
   ]
  },
  {
   "cell_type": "markdown",
   "metadata": {},
   "source": [
    "#### Separando os conjuntos de treino e teste"
   ]
  },
  {
   "cell_type": "code",
   "execution_count": 7,
   "metadata": {},
   "outputs": [
    {
     "data": {
      "text/plain": [
       "PRONAC\n",
       "1511109    0.481818\n",
       "129860     0.500000\n",
       "145626     0.421875\n",
       "131483     0.481481\n",
       "1310148    0.000000\n",
       "Name: newProvidersPercentage, dtype: float64"
      ]
     },
     "metadata": {},
     "output_type": "display_data"
    },
    {
     "data": {
      "text/plain": [
       "PRONAC\n",
       "154078    0.333333\n",
       "163894    0.285714\n",
       "152405    0.356436\n",
       "152714    0.062500\n",
       "154851    0.462963\n",
       "Name: newProvidersPercentage, dtype: float64"
      ]
     },
     "metadata": {},
     "output_type": "display_data"
    }
   ],
   "source": [
    "from sklearn.model_selection import train_test_split\n",
    "projects_train, projects_test = train_test_split(segment_projects, test_size=0.3)\n",
    "\n",
    "display(projects_train.head())\n",
    "display(projects_test.head())"
   ]
  },
  {
   "cell_type": "markdown",
   "metadata": {},
   "source": [
    "#### Implementando função auxiliar para mostrar os gráficos e estatísticas referentes a cada um dos modelos explorados"
   ]
  },
  {
   "cell_type": "code",
   "execution_count": 8,
   "metadata": {},
   "outputs": [],
   "source": [
    "import time\n",
    "def show_stats(model, train_set, test_set, bin_size=1):\n",
    "    begin = time.time()\n",
    "    model.fit(train_set)\n",
    "    print('Tempo de treinamento: %.3lf (s)' % (time.time() - begin))\n",
    "    begin = time.time()\n",
    "    is_inlier = model.predict(test_set)\n",
    "    print('Tempo de teste: %.3lf (s)' % (time.time() - begin))\n",
    "\n",
    "    contamination_found = sum(~is_inlier) / len(test_set)\n",
    "    print('Percentual de outliers esperado: %.2lf%%' % (100 * model.contamination))\n",
    "    print('Percentual de outliers encontrado: %.2lf%%' % (100 * contamination_found))\n",
    "\n",
    "    sns.set(style='whitegrid', palette='dark')\n",
    "    f, ax = plt.subplots(figsize=(16,4))\n",
    "\n",
    "    inliers = test_set[is_inlier]\n",
    "    bin_factor = 0\n",
    "    if len(inliers) > 0:\n",
    "        bin_factor = (max(inliers) - min(inliers))\n",
    "    bins = max(1, int(bin_factor // bin_size) + 1)\n",
    "    sns.distplot(inliers, label='inliers', color='b', kde=False, bins=bins)\n",
    "\n",
    "    outliers = test_set[~is_inlier]\n",
    "    bins = max(1, int((max(outliers) - min(outliers)) // bin_size) + 1)\n",
    "    sns.distplot(outliers, label='outliers', color='r', kde=False, bins=bins)\n",
    "    \n",
    "    if hasattr(model.model, 'pdf'):\n",
    "        x = np.linspace(min(test_set), max(test_set), 1000)\n",
    "        plt.plot(x,  bin_size * len(test_set) * model.model.pdf(x), label='PDF')\n",
    "\n",
    "    plt.legend(frameon=True)\n",
    "    plt.ylabel('# projects')\n",
    "    plt.xlabel('raised funds (R$)')\n",
    "    plt.title('Inlier/Outlier division')"
   ]
  },
  {
   "cell_type": "markdown",
   "metadata": {},
   "source": [
    "#### Implementando funções auxiliares para os modelos utilizados"
   ]
  },
  {
   "cell_type": "code",
   "execution_count": 9,
   "metadata": {},
   "outputs": [],
   "source": [
    "def bisect(f, a=0, b=1, rtol=1e-6, maxiter=40):\n",
    "    # simplified scipy.optimize.bisect\n",
    "    niter, x0 = (0, a)\n",
    "    while niter < maxiter:\n",
    "        niter += 1\n",
    "        x0 = (b + a) / 2\n",
    "        f0 = f(x0)\n",
    "        if abs(f0) < rtol:\n",
    "            break\n",
    "        elif f0 < 0:\n",
    "            b = x0\n",
    "        else:\n",
    "            a = x0\n",
    "    return x0\n",
    "\n",
    "def find_threshold(model, X, contamination):\n",
    "    h = max(X) - min(X)\n",
    "    _X = np.linspace(min(X) - h, max(X) + h, int(1e3))\n",
    "    dx = _X[1] - _X[0]\n",
    "    pdf = model.pdf(_X)\n",
    "    def f(threshold):\n",
    "        _pdf = pdf.copy()\n",
    "        _pdf[_pdf <= threshold] = 0\n",
    "        I = scipy.integrate.simps(_pdf, dx=dx)\n",
    "        return I - (1.0 - contamination)\n",
    "    return bisect(f)"
   ]
  },
  {
   "cell_type": "markdown",
   "metadata": {},
   "source": [
    "## Modelo Gaussiano"
   ]
  },
  {
   "cell_type": "code",
   "execution_count": 10,
   "metadata": {
    "scrolled": false
   },
   "outputs": [
    {
     "name": "stdout",
     "output_type": "stream",
     "text": [
      "Tempo de treinamento: 0.014 (s)\n",
      "Tempo de teste: 0.001 (s)\n",
      "Percentual de outliers esperado: 10.00%\n",
      "Percentual de outliers encontrado: 11.62%\n"
     ]
    },
    {
     "data": {
      "image/png": "[encoded data removed]",
      "text/plain": [
       "<Figure size 1152x288 with 1 Axes>"
      ]
     },
     "metadata": {},
     "output_type": "display_data"
    }
   ],
   "source": [
    "class Gaussian:\n",
    "    def __init__(self, contamination=0.1):\n",
    "        self.contamination = contamination\n",
    "\n",
    "    def fit(self, X):\n",
    "        # Generate model\n",
    "        mean, std = scipy.stats.norm.fit(X)\n",
    "        self.model = scipy.stats.norm(mean, std)\n",
    "        # Find threshold\n",
    "        self.threshold = find_threshold(self.model, X, self.contamination)\n",
    "        return self\n",
    "    \n",
    "    def predict(self, X):\n",
    "        is_inlier = (self.model.pdf(X) > self.threshold)\n",
    "        return is_inlier\n",
    "\n",
    "show_stats(Gaussian(), projects_train, projects_test, bin_size=0.01)"
   ]
  },
  {
   "cell_type": "markdown",
   "metadata": {},
   "source": [
    "## Modelo Log-normal"
   ]
  },
  {
   "cell_type": "code",
   "execution_count": 11,
   "metadata": {},
   "outputs": [
    {
     "name": "stdout",
     "output_type": "stream",
     "text": [
      "Tempo de treinamento: 0.005 (s)\n",
      "Tempo de teste: 0.000 (s)\n",
      "Percentual de outliers esperado: 10.00%\n",
      "Percentual de outliers encontrado: 14.65%\n"
     ]
    },
    {
     "data": {
      "image/png": "[encoded data removed]",
      "text/plain": [
       "<Figure size 1152x288 with 1 Axes>"
      ]
     },
     "metadata": {},
     "output_type": "display_data"
    }
   ],
   "source": [
    "class Lognormal:\n",
    "    def __init__(self, contamination=0.1, transform=lambda X: X):\n",
    "        self.contamination = contamination\n",
    "        self.transform = transform\n",
    "\n",
    "    def fit(self, X):\n",
    "        # Generate model\n",
    "        X = X[X > 0.00]\n",
    "        X = self.transform(X)\n",
    "        s, loc, scale = scipy.stats.lognorm.fit(X, floc=0)\n",
    "        self.model = scipy.stats.lognorm(np.std(np.log(X)), loc=loc, scale=scale)\n",
    "        # Find threshold\n",
    "        self.threshold = find_threshold(self.model, X, self.contamination)\n",
    "        return self\n",
    "    \n",
    "    def predict(self, X):\n",
    "        X = self.transform(X)\n",
    "        is_inlier = (self.model.pdf(X) > self.threshold)\n",
    "        return is_inlier\n",
    "\n",
    "show_stats(Lognormal(), projects_train, projects_test, bin_size=0.01)"
   ]
  },
  {
   "cell_type": "markdown",
   "metadata": {},
   "source": [
    "## Modelo Gamma"
   ]
  },
  {
   "cell_type": "code",
   "execution_count": 12,
   "metadata": {},
   "outputs": [
    {
     "name": "stdout",
     "output_type": "stream",
     "text": [
      "Tempo de treinamento: 0.005 (s)\n",
      "Tempo de teste: 0.000 (s)\n",
      "Percentual de outliers esperado: 10.00%\n",
      "Percentual de outliers encontrado: 15.66%\n"
     ]
    },
    {
     "data": {
      "image/png": "[encoded data removed]",
      "text/plain": [
       "<Figure size 1152x288 with 1 Axes>"
      ]
     },
     "metadata": {},
     "output_type": "display_data"
    }
   ],
   "source": [
    "class Gamma:\n",
    "    def __init__(self, contamination=0.1):\n",
    "        self.contamination = contamination\n",
    "\n",
    "    def fit(self, X):\n",
    "        # Generate model\n",
    "        X = X[X > 0.0]\n",
    "        params = scipy.stats.gamma.fit(X, floc=0)\n",
    "        self.model = scipy.stats.gamma(*params)\n",
    "        # Find threshold\n",
    "        self.threshold = find_threshold(self.model, X, self.contamination)\n",
    "        return self\n",
    "    \n",
    "    def predict(self, X):\n",
    "        is_inlier = (self.model.pdf(X) > self.threshold)\n",
    "        return is_inlier\n",
    "    \n",
    "show_stats(Gamma(), projects_train, projects_test, bin_size=0.01)"
   ]
  },
  {
   "cell_type": "markdown",
   "metadata": {},
   "source": [
    "## Modelo de Estimativa de Densidade Kernel com Kernel Gaussiano"
   ]
  },
  {
   "cell_type": "code",
   "execution_count": 13,
   "metadata": {},
   "outputs": [
    {
     "name": "stdout",
     "output_type": "stream",
     "text": [
      "Tempo de treinamento: 0.018 (s)\n",
      "Tempo de teste: 0.005 (s)\n",
      "Percentual de outliers esperado: 10.00%\n",
      "Percentual de outliers encontrado: 6.06%\n"
     ]
    },
    {
     "data": {
      "image/png": "[encoded data removed]",
      "text/plain": [
       "<Figure size 1152x288 with 1 Axes>"
      ]
     },
     "metadata": {},
     "output_type": "display_data"
    }
   ],
   "source": [
    "class KDE:\n",
    "    def __init__(self, contamination=0.1, kernel='gauss'):\n",
    "        self.contamination = contamination\n",
    "        self.kernel = kernel\n",
    "\n",
    "    def fit(self, X):\n",
    "        # Generate model\n",
    "        if self.kernel == 'gauss':\n",
    "            self.model = scipy.stats.gaussian_kde(X)\n",
    "        else:\n",
    "            raise AttributeError('Kernel function not found')\n",
    "        # Find threshold\n",
    "        self.threshold = find_threshold(self.model, X, self.contamination)\n",
    "        return self\n",
    "    \n",
    "    def predict(self, X):\n",
    "        is_inlier = (self.model.pdf(X) > self.threshold)\n",
    "        return is_inlier\n",
    "    \n",
    "show_stats(KDE(), projects_train, projects_test, bin_size=0.01)"
   ]
  },
  {
   "cell_type": "markdown",
   "metadata": {},
   "source": [
    "## Estimador por Fator de Anomalia Local (LOF)"
   ]
  },
  {
   "cell_type": "code",
   "execution_count": 14,
   "metadata": {},
   "outputs": [
    {
     "name": "stdout",
     "output_type": "stream",
     "text": [
      "Tempo de treinamento: 0.010 (s)\n",
      "Tempo de teste: 0.001 (s)\n",
      "Percentual de outliers esperado: 10.00%\n",
      "Percentual de outliers encontrado: 12.63%\n"
     ]
    },
    {
     "data": {
      "image/png": "[encoded data removed]",
      "text/plain": [
       "<Figure size 1152x288 with 1 Axes>"
      ]
     },
     "metadata": {},
     "output_type": "display_data"
    }
   ],
   "source": [
    "from sklearn.neighbors import LocalOutlierFactor\n",
    "class LOF:\n",
    "    def __init__(self, contamination=0.1, n_neighbors=None):\n",
    "        self.contamination = contamination\n",
    "        self.n_neighbors = n_neighbors\n",
    "\n",
    "    def fit(self, X):\n",
    "        # Transform data into a 2D array\n",
    "        X = self._1Dto2D(X)\n",
    "        \n",
    "        if self.n_neighbors is None:\n",
    "            self.n_neighbors = len(X) // 5\n",
    "        \n",
    "        # Get inliers of the training set with LOF Outlier Detection\n",
    "        lof_OD = LocalOutlierFactor(contamination=self.contamination,\n",
    "                                    n_neighbors=self.n_neighbors)\n",
    "        y = lof_OD.fit_predict(X)\n",
    "        X = X[y == 1, :]\n",
    "        # Train model with LOF Novelty Detection, using train set inliers\n",
    "        # Parameter 'contamination' does not matter at this point\n",
    "        self.model = LocalOutlierFactor(novelty=True, contamination=self.contamination)\n",
    "        self.model = self.model.fit(X)\n",
    "        return self\n",
    "    \n",
    "    def predict(self, X):\n",
    "        X = self._1Dto2D(X)\n",
    "        is_inlier = (self.model.predict(X) == 1)\n",
    "        return is_inlier\n",
    "    \n",
    "    def _1Dto2D(self, X):\n",
    "        shape = (len(X),1)\n",
    "        return np.hstack([np.array(X.tolist()).reshape(shape), np.zeros(shape)])\n",
    "\n",
    "show_stats(LOF(), projects_train, projects_test, bin_size=0.01)"
   ]
  },
  {
   "cell_type": "markdown",
   "metadata": {},
   "source": [
    "## Avaliando a contaminação média encontrada\n",
    "\n",
    "Nesta seção, os diversos modelos implementados acima são aplicados a várias escolhas aleatórias de conjuntos de treino/teste. Ao final, o desempenho de cada modelo é avaliado."
   ]
  },
  {
   "cell_type": "code",
   "execution_count": 17,
   "metadata": {},
   "outputs": [
    {
     "name": "stdout",
     "output_type": "stream",
     "text": [
      "Metric Gaussian test elapsed time in seconds: 0.0143\n",
      "Metric Gaussian training elapsed time in seconds: 0.2947\n",
      "Metric Log-normal test elapsed time in seconds: 0.0228\n",
      "Metric Log-normal training elapsed time in seconds: 0.4578\n",
      "Metric Gamma test elapsed time in seconds: 0.0167\n",
      "Metric Gamma training elapsed time in seconds: 0.3571\n",
      "Metric KDE-Gauss test elapsed time in seconds: 0.4615\n",
      "Metric KDE-Gauss training elapsed time in seconds: 1.6418\n",
      "Metric LOF test elapsed time in seconds: 0.0932\n",
      "Metric LOF training elapsed time in seconds: 0.6392\n"
     ]
    }
   ],
   "source": [
    "models = [{\n",
    "    'name': 'Gaussian',\n",
    "    'curve': Gaussian(),\n",
    "    'results': []\n",
    "},{\n",
    "    'name': 'Log-normal',\n",
    "    'curve': Lognormal(),\n",
    "    'results': []\n",
    "},{\n",
    "    'name': 'Gamma',\n",
    "    'curve': Gamma(),\n",
    "    'results': []\n",
    "},{\n",
    "    'name': 'KDE-Gauss',\n",
    "    'curve': KDE(),\n",
    "    'results': []\n",
    "},{\n",
    "    'name': 'LOF',\n",
    "    'curve': LOF(),\n",
    "    'results': []\n",
    "}]\n",
    "\n",
    "TEST_ITERATIONS = 100\n",
    "train_elapsed_time = {}\n",
    "test_elapsed_time = {}\n",
    "\n",
    "for i in range(TEST_ITERATIONS):\n",
    "    # Separate train and test sets\n",
    "    projects_train, projects_test = train_test_split(segment_projects, test_size=0.3)\n",
    "    \n",
    "    # Get results for each model\n",
    "    for model in models:\n",
    "        start_time = time.time()\n",
    "        model['curve'] = model['curve'].fit(projects_train)\n",
    "        ending_time = time.time()\n",
    "        elapsed_time = ending_time - start_time\n",
    "        \n",
    "        model_name = model['name']\n",
    "        train_elapsed_time.setdefault(model_name, 0.0)\n",
    "        train_elapsed_time[model_name] += elapsed_time\n",
    "\n",
    "        start_time = time.time()\n",
    "        inlier_filter = model['curve'].predict(projects_test)\n",
    "        ending_time = time.time()\n",
    "        elapsed_time = ending_time - start_time\n",
    "\n",
    "        model_name = model['name']\n",
    "        test_elapsed_time.setdefault(model_name, 0.0)\n",
    "        test_elapsed_time[model_name] += elapsed_time\n",
    "\n",
    "        contamination_found = sum(~inlier_filter) / len(projects_test)\n",
    "        model['results'].append(100 * contamination_found)\n",
    "        \n",
    "for key in train_elapsed_time:\n",
    "    print(\"Metric %s test elapsed time in seconds: %.4lf\" % (key, test_elapsed_time[key]))\n",
    "    print(\"Metric %s training elapsed time in seconds: %.4lf\" % (key, train_elapsed_time[key]))"
   ]
  },
  {
   "cell_type": "code",
   "execution_count": 18,
   "metadata": {},
   "outputs": [
    {
     "name": "stdout",
     "output_type": "stream",
     "text": [
      "Média Gaussian: 13.15%\n",
      "Média Log-normal: 13.91%\n",
      "Média Gamma: 16.37%\n",
      "Média KDE-Gauss: 7.85%\n",
      "Média LOF: 18.27%\n"
     ]
    },
    {
     "data": {
      "image/png": "[encoded data removed]",
      "text/plain": [
       "<Figure size 1152x288 with 1 Axes>"
      ]
     },
     "metadata": {},
     "output_type": "display_data"
    }
   ],
   "source": [
    "sns.set(style='whitegrid', palette='dark')\n",
    "f, ax = plt.subplots(figsize=(16,4))\n",
    "\n",
    "bin_size = 0.25\n",
    "for model in models:\n",
    "    results = model['results']\n",
    "    print('Média %s: %.2lf%%' % (model['name'], np.mean(results)))\n",
    "    bins = max(1, int((max(results) - min(results)) // bin_size) + 1)\n",
    "    sns.distplot(results, label=model['name'], kde=False, bins=bins)\n",
    "\n",
    "plt.legend(frameon=True)\n",
    "plt.xlabel('Contamination found (%)')\n",
    "plt.ylabel('# tests')\n",
    "plt.grid(True)"
   ]
  },
  {
   "cell_type": "code",
   "execution_count": null,
   "metadata": {},
   "outputs": [],
   "source": []
  }
 ],
 "metadata": {
  "kernelspec": {
   "display_name": "Python 3",
   "language": "python",
   "name": "python3"
  },
  "language_info": {
   "codemirror_mode": {
    "name": "ipython",
    "version": 3
   },
   "file_extension": ".py",
   "mimetype": "text/x-python",
   "name": "python",
   "nbconvert_exporter": "python",
   "pygments_lexer": "ipython3",
   "version": "3.6.6"
  }
 },
 "nbformat": 4,
 "nbformat_minor": 2
}
