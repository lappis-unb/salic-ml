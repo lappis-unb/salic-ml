{
 "cells": [
  {
   "cell_type": "markdown",
   "metadata": {},
   "source": [
    "# Análise dos projetos de um mesmo proponente\n",
    "---\n",
    "\n",
    "**Objetivo:** realizar uma análise comparativa entre o número de projetos culturais pertencentes a um proponente específico com o número de projetos culturais de outros proponentes. Nesta análise, será investigado se o número de projetos de um proponente é anormal com relação a outros proponentes.\n",
    "\n",
    "\n",
    "Neste caso foram considerados apenas projetos em que comprovaram pelo menos um item."
   ]
  },
  {
   "cell_type": "markdown",
   "metadata": {},
   "source": [
    "#### Importando módulos necessários"
   ]
  },
  {
   "cell_type": "code",
   "execution_count": 1,
   "metadata": {},
   "outputs": [
    {
     "name": "stdout",
     "output_type": "stream",
     "text": [
      "Populating the interactive namespace from numpy and matplotlib\n"
     ]
    }
   ],
   "source": [
    "%pylab inline\n",
    "import scipy\n",
    "import pandas as pd\n",
    "import seaborn as sns"
   ]
  },
  {
   "cell_type": "markdown",
   "metadata": {},
   "source": [
    "#### Carregando e mostrando dataset a ser utilizado ao longo do estudo"
   ]
  },
  {
   "cell_type": "code",
   "execution_count": 2,
   "metadata": {},
   "outputs": [
    {
     "name": "stdout",
     "output_type": "stream",
     "text": [
      "Index(['PRONAC', 'idPlanilhaAprovacao', 'idComprovantePagamento', 'IdPRONAC',\n",
      "       'idSegmento', 'cdProduto', 'cdEtapa', 'cdUF', 'UF', 'cdCidade',\n",
      "       'idPlanilhaItem', 'Item', 'DataProjeto', 'nrComprovante', 'nrSerie',\n",
      "       'nrCNPJCPF', 'nmFornecedor', 'proponenteCgcCpf', 'tpDocumento',\n",
      "       'dtPagamento', 'dtEmissao', 'tpFormaDePagamento',\n",
      "       'nrDocumentoDePagamento', 'idArquivo', 'dsJustificativaProponente',\n",
      "       'dsOcorrenciaDoTecnico', 'stItemAvaliado', 'stAvaliacao',\n",
      "       'vlComprovacao'],\n",
      "      dtype='object')\n"
     ]
    },
    {
     "name": "stderr",
     "output_type": "stream",
     "text": [
      "/Users/alexandretk/.venv/new_ml/lib/python3.6/site-packages/IPython/core/interactiveshell.py:2785: DtypeWarning: Columns (22,25) have mixed types. Specify dtype option on import or set low_memory=False.\n",
      "  interactivity=interactivity, compiler=compiler, result=result)\n"
     ]
    },
    {
     "data": {
      "text/html": [
       "<div>\n",
       "<style scoped>\n",
       "    .dataframe tbody tr th:only-of-type {\n",
       "        vertical-align: middle;\n",
       "    }\n",
       "\n",
       "    .dataframe tbody tr th {\n",
       "        vertical-align: top;\n",
       "    }\n",
       "\n",
       "    .dataframe thead th {\n",
       "        text-align: right;\n",
       "    }\n",
       "</style>\n",
       "<table border=\"1\" class=\"dataframe\">\n",
       "  <thead>\n",
       "    <tr style=\"text-align: right;\">\n",
       "      <th></th>\n",
       "      <th>PRONAC</th>\n",
       "      <th>idPlanilhaAprovacao</th>\n",
       "      <th>idComprovantePagamento</th>\n",
       "      <th>IdPRONAC</th>\n",
       "      <th>idSegmento</th>\n",
       "      <th>cdProduto</th>\n",
       "      <th>cdEtapa</th>\n",
       "      <th>cdUF</th>\n",
       "      <th>UF</th>\n",
       "      <th>cdCidade</th>\n",
       "      <th>...</th>\n",
       "      <th>dtPagamento</th>\n",
       "      <th>dtEmissao</th>\n",
       "      <th>tpFormaDePagamento</th>\n",
       "      <th>nrDocumentoDePagamento</th>\n",
       "      <th>idArquivo</th>\n",
       "      <th>dsJustificativaProponente</th>\n",
       "      <th>dsOcorrenciaDoTecnico</th>\n",
       "      <th>stItemAvaliado</th>\n",
       "      <th>stAvaliacao</th>\n",
       "      <th>vlComprovacao</th>\n",
       "    </tr>\n",
       "  </thead>\n",
       "  <tbody>\n",
       "    <tr>\n",
       "      <th>0</th>\n",
       "      <td>1012121</td>\n",
       "      <td>18552</td>\n",
       "      <td>4326</td>\n",
       "      <td>132451</td>\n",
       "      <td>71</td>\n",
       "      <td>1</td>\n",
       "      <td>1</td>\n",
       "      <td>35</td>\n",
       "      <td>SP</td>\n",
       "      <td>355030</td>\n",
       "      <td>...</td>\n",
       "      <td>2014-01-16 00:00:00</td>\n",
       "      <td>2013-03-27 00:00:00</td>\n",
       "      <td>Transferencia Bancaria</td>\n",
       "      <td>42501</td>\n",
       "      <td>410880</td>\n",
       "      <td>Elaboração de projeto gráfico do livro.</td>\n",
       "      <td>NaN</td>\n",
       "      <td>4</td>\n",
       "      <td>Aguardando analise</td>\n",
       "      <td>12000.0</td>\n",
       "    </tr>\n",
       "    <tr>\n",
       "      <th>1</th>\n",
       "      <td>1012121</td>\n",
       "      <td>18553</td>\n",
       "      <td>4332</td>\n",
       "      <td>132451</td>\n",
       "      <td>71</td>\n",
       "      <td>1</td>\n",
       "      <td>2</td>\n",
       "      <td>35</td>\n",
       "      <td>SP</td>\n",
       "      <td>355030</td>\n",
       "      <td>...</td>\n",
       "      <td>2014-01-16 00:00:00</td>\n",
       "      <td>2012-04-30 00:00:00</td>\n",
       "      <td>Transferencia Bancaria</td>\n",
       "      <td>2945</td>\n",
       "      <td>410935</td>\n",
       "      <td>Reportagem e produção de textos para livro.</td>\n",
       "      <td>NaN</td>\n",
       "      <td>4</td>\n",
       "      <td>Aguardando analise</td>\n",
       "      <td>6000.0</td>\n",
       "    </tr>\n",
       "    <tr>\n",
       "      <th>2</th>\n",
       "      <td>1012121</td>\n",
       "      <td>18554</td>\n",
       "      <td>4755</td>\n",
       "      <td>132451</td>\n",
       "      <td>71</td>\n",
       "      <td>1</td>\n",
       "      <td>2</td>\n",
       "      <td>35</td>\n",
       "      <td>SP</td>\n",
       "      <td>355030</td>\n",
       "      <td>...</td>\n",
       "      <td>2014-01-28 00:00:00</td>\n",
       "      <td>2012-03-16 00:00:00</td>\n",
       "      <td>Transferencia Bancaria</td>\n",
       "      <td>31601</td>\n",
       "      <td>420731</td>\n",
       "      <td>Fotografia artística para o livro.</td>\n",
       "      <td>NaN</td>\n",
       "      <td>4</td>\n",
       "      <td>Aguardando analise</td>\n",
       "      <td>12000.0</td>\n",
       "    </tr>\n",
       "    <tr>\n",
       "      <th>3</th>\n",
       "      <td>1012121</td>\n",
       "      <td>18555</td>\n",
       "      <td>4334</td>\n",
       "      <td>132451</td>\n",
       "      <td>71</td>\n",
       "      <td>1</td>\n",
       "      <td>2</td>\n",
       "      <td>35</td>\n",
       "      <td>SP</td>\n",
       "      <td>355030</td>\n",
       "      <td>...</td>\n",
       "      <td>2014-01-16 00:00:00</td>\n",
       "      <td>2013-08-27 00:00:00</td>\n",
       "      <td>Transferencia Bancaria</td>\n",
       "      <td>90201</td>\n",
       "      <td>410939</td>\n",
       "      <td>Tratamento de imagens para o livro.</td>\n",
       "      <td>NaN</td>\n",
       "      <td>4</td>\n",
       "      <td>Aguardando analise</td>\n",
       "      <td>6000.0</td>\n",
       "    </tr>\n",
       "    <tr>\n",
       "      <th>4</th>\n",
       "      <td>1012121</td>\n",
       "      <td>18556</td>\n",
       "      <td>4327</td>\n",
       "      <td>132451</td>\n",
       "      <td>71</td>\n",
       "      <td>1</td>\n",
       "      <td>2</td>\n",
       "      <td>35</td>\n",
       "      <td>SP</td>\n",
       "      <td>355030</td>\n",
       "      <td>...</td>\n",
       "      <td>2014-01-16 00:00:00</td>\n",
       "      <td>2012-05-04 00:00:00</td>\n",
       "      <td>Transferencia Bancaria</td>\n",
       "      <td>2945</td>\n",
       "      <td>410917</td>\n",
       "      <td>Edição dos textos do livro.</td>\n",
       "      <td>NaN</td>\n",
       "      <td>4</td>\n",
       "      <td>Aguardando analise</td>\n",
       "      <td>8000.0</td>\n",
       "    </tr>\n",
       "  </tbody>\n",
       "</table>\n",
       "<p>5 rows × 29 columns</p>\n",
       "</div>"
      ],
      "text/plain": [
       "    PRONAC  idPlanilhaAprovacao  idComprovantePagamento  IdPRONAC idSegmento  \\\n",
       "0  1012121                18552                    4326    132451         71   \n",
       "1  1012121                18553                    4332    132451         71   \n",
       "2  1012121                18554                    4755    132451         71   \n",
       "3  1012121                18555                    4334    132451         71   \n",
       "4  1012121                18556                    4327    132451         71   \n",
       "\n",
       "   cdProduto  cdEtapa  cdUF  UF  cdCidade      ...               dtPagamento  \\\n",
       "0          1        1    35  SP    355030      ...       2014-01-16 00:00:00   \n",
       "1          1        2    35  SP    355030      ...       2014-01-16 00:00:00   \n",
       "2          1        2    35  SP    355030      ...       2014-01-28 00:00:00   \n",
       "3          1        2    35  SP    355030      ...       2014-01-16 00:00:00   \n",
       "4          1        2    35  SP    355030      ...       2014-01-16 00:00:00   \n",
       "\n",
       "             dtEmissao      tpFormaDePagamento nrDocumentoDePagamento  \\\n",
       "0  2013-03-27 00:00:00  Transferencia Bancaria                  42501   \n",
       "1  2012-04-30 00:00:00  Transferencia Bancaria                   2945   \n",
       "2  2012-03-16 00:00:00  Transferencia Bancaria                  31601   \n",
       "3  2013-08-27 00:00:00  Transferencia Bancaria                  90201   \n",
       "4  2012-05-04 00:00:00  Transferencia Bancaria                   2945   \n",
       "\n",
       "  idArquivo                    dsJustificativaProponente  \\\n",
       "0    410880      Elaboração de projeto gráfico do livro.   \n",
       "1    410935  Reportagem e produção de textos para livro.   \n",
       "2    420731           Fotografia artística para o livro.   \n",
       "3    410939          Tratamento de imagens para o livro.   \n",
       "4    410917                  Edição dos textos do livro.   \n",
       "\n",
       "  dsOcorrenciaDoTecnico  stItemAvaliado         stAvaliacao vlComprovacao  \n",
       "0                   NaN               4  Aguardando analise       12000.0  \n",
       "1                   NaN               4  Aguardando analise        6000.0  \n",
       "2                   NaN               4  Aguardando analise       12000.0  \n",
       "3                   NaN               4  Aguardando analise        6000.0  \n",
       "4                   NaN               4  Aguardando analise        8000.0  \n",
       "\n",
       "[5 rows x 29 columns]"
      ]
     },
     "execution_count": 2,
     "metadata": {},
     "output_type": "execute_result"
    }
   ],
   "source": [
    "df = pd.read_csv('../../data/raw/planilha_comprovacao.csv')\n",
    "print(df.columns)\n",
    "df.head()"
   ]
  },
  {
   "cell_type": "markdown",
   "metadata": {},
   "source": [
    "#### Gerando tabela com o número projetos por proponente"
   ]
  },
  {
   "cell_type": "code",
   "execution_count": 3,
   "metadata": {},
   "outputs": [
    {
     "data": {
      "text/plain": [
       "proponenteCgcCpf\n",
       "3437140      1\n",
       "29239630     1\n",
       "56289030     1\n",
       "234030631    1\n",
       "387410910    1\n",
       "Name: PRONAC, dtype: int64"
      ]
     },
     "execution_count": 3,
     "metadata": {},
     "output_type": "execute_result"
    }
   ],
   "source": [
    "proponent_projects = df[['PRONAC', 'proponenteCgcCpf']]\n",
    "proponent_projects = proponent_projects.groupby(['proponenteCgcCpf']).nunique()['PRONAC']\n",
    "proponent_projects.head()"
   ]
  },
  {
   "cell_type": "code",
   "execution_count": 4,
   "metadata": {},
   "outputs": [
    {
     "data": {
      "text/plain": [
       "1"
      ]
     },
     "execution_count": 4,
     "metadata": {},
     "output_type": "execute_result"
    }
   ],
   "source": [
    "proponent_projects[234030631]"
   ]
  },
  {
   "cell_type": "markdown",
   "metadata": {},
   "source": [
    "#### Gerando gráfico dos dados acima"
   ]
  },
  {
   "cell_type": "code",
   "execution_count": 5,
   "metadata": {},
   "outputs": [
    {
     "name": "stdout",
     "output_type": "stream",
     "text": [
      "Média da distribuição: 1.50\n",
      "Desvio padrão da distribuição: 1.04\n",
      "\n"
     ]
    },
    {
     "data": {
      "image/png": "[encoded data removed]",
      "text/plain": [
       "<Figure size 1152x288 with 1 Axes>"
      ]
     },
     "metadata": {},
     "output_type": "display_data"
    }
   ],
   "source": [
    "sns.set(style='whitegrid', palette='dark')\n",
    "f, ax = plt.subplots(figsize=(16,4))\n",
    "\n",
    "sns.distplot(proponent_projects, bins=20, kde=False)\n",
    "plt.title('Histograma do número de projetos por proponente')\n",
    "plt.ylabel('Quantidade de proponentes')\n",
    "plt.xlabel('Número de projetos')\n",
    "plt.grid(True)\n",
    "\n",
    "expected_mean = np.mean(proponent_projects)\n",
    "expected_std = np.std(proponent_projects)\n",
    "print('Média da distribuição: %.2lf' % expected_mean)\n",
    "print('Desvio padrão da distribuição: %.2lf\\n' % expected_std)"
   ]
  },
  {
   "cell_type": "markdown",
   "metadata": {},
   "source": [
    "#### Separando os conjuntos de treino e teste"
   ]
  },
  {
   "cell_type": "code",
   "execution_count": 6,
   "metadata": {},
   "outputs": [
    {
     "data": {
      "text/plain": [
       "proponenteCgcCpf\n",
       "28283478850       1\n",
       "769923496         1\n",
       "18553002000173    2\n",
       "13311763000103    2\n",
       "18189929000176    1\n",
       "Name: PRONAC, dtype: int64"
      ]
     },
     "metadata": {},
     "output_type": "display_data"
    },
    {
     "data": {
      "text/plain": [
       "proponenteCgcCpf\n",
       "6327965610        1\n",
       "10915408000147    3\n",
       "59829915972       1\n",
       "3570518000159     1\n",
       "13068668000112    1\n",
       "Name: PRONAC, dtype: int64"
      ]
     },
     "metadata": {},
     "output_type": "display_data"
    }
   ],
   "source": [
    "from sklearn.model_selection import train_test_split\n",
    "projects_train, projects_test = train_test_split(proponent_projects, test_size=0.3)\n",
    "\n",
    "display(projects_train.head())\n",
    "display(projects_test.head())"
   ]
  },
  {
   "cell_type": "markdown",
   "metadata": {},
   "source": [
    "### Análise Gaussiana"
   ]
  },
  {
   "cell_type": "code",
   "execution_count": 7,
   "metadata": {},
   "outputs": [],
   "source": [
    "class Gaussian:\n",
    "    def __init__(self, contamination=0.1):\n",
    "        '''Outlier Detection by fitting data in a Gaussian model.\n",
    "\n",
    "        Fit a Gaussian function on the training set and find the lower and upper\n",
    "        limits for a sample to be considered an inlier. The limits are computed\n",
    "        by translating the contamination value into a point in the Gaussian model.\n",
    "        \n",
    "        If the sample is farther from the average than the limits, it's considered\n",
    "        an outlier. Otherwise it's an inlier.\n",
    "\n",
    "        Parameters\n",
    "        ----------\n",
    "        contamination : float in (0., 0.5), optional (default=0.1)\n",
    "            The amount of contamination of the data set, i.e. the proportion\n",
    "            of outliers in the data set. When fitting this is used to define the\n",
    "            threshold on the decision function.\n",
    "        '''\n",
    "        self.contamination = contamination\n",
    "\n",
    "    def fit(self, X):\n",
    "        '''Fit the Gaussian model, i.e. compute mean and standard deviation of X,\n",
    "        using X as training data.\n",
    "\n",
    "        Parameters\n",
    "        ----------\n",
    "        X : array-like, shape (n_samples,)\n",
    "            Training data.\n",
    "\n",
    "        Returns\n",
    "        -------\n",
    "        self : object\n",
    "        '''\n",
    "        mean, std = scipy.stats.norm.fit(X)\n",
    "        self.model = scipy.stats.norm(mean, std)\n",
    "        return self\n",
    "    \n",
    "    def predict(self, X):\n",
    "        '''Predict the labels (True inlier, False outlier) of X according to Gaussian.\n",
    "\n",
    "        This method allows to generalize prediction to *new observations* (not\n",
    "        in the training set).\n",
    "\n",
    "        Parameters\n",
    "        ----------\n",
    "        X : array-like, shape (n_samples,)\n",
    "            The query sample or samples to compute the Gaussian Estimation\n",
    "            w.r.t. to the training samples.\n",
    "\n",
    "        Returns\n",
    "        -------\n",
    "        is_inlier : array, shape (n_samples,)\n",
    "            Returns False for anomalies/outliers and True for inliers.\n",
    "        '''\n",
    "        lower = self.model.ppf(0.5*self.contamination)\n",
    "        upper = self.model.ppf(1 - 0.5*self.contamination)\n",
    "        is_inlier = ((X >= lower) & (X <= upper))\n",
    "        return is_inlier"
   ]
  },
  {
   "cell_type": "code",
   "execution_count": 8,
   "metadata": {},
   "outputs": [
    {
     "name": "stdout",
     "output_type": "stream",
     "text": [
      "CPU times: user 1.31 ms, sys: 175 µs, total: 1.49 ms\n",
      "Wall time: 1.33 ms\n",
      "Percentual de outliers esperado: 10.00%\n",
      "Percentual de outliers encontrado: 5.85%\n"
     ]
    },
    {
     "data": {
      "text/plain": [
       "3"
      ]
     },
     "metadata": {},
     "output_type": "display_data"
    },
    {
     "data": {
      "image/png": "[encoded data removed]",
      "text/plain": [
       "<Figure size 1152x288 with 1 Axes>"
      ]
     },
     "metadata": {},
     "output_type": "display_data"
    }
   ],
   "source": [
    "model = Gaussian()\n",
    "model.fit(projects_train)\n",
    "%time inlier_filter = model.predict(projects_test)\n",
    "\n",
    "contamination_found = sum(~inlier_filter) / len(projects_test)\n",
    "print('Percentual de outliers esperado: %.2lf%%' % (100 * model.contamination))\n",
    "print('Percentual de outliers encontrado: %.2lf%%' % (100 * contamination_found))\n",
    "\n",
    "sns.set(style='whitegrid', palette='dark')\n",
    "f, ax = plt.subplots(figsize=(16,4))\n",
    "\n",
    "bin_size = 1\n",
    "inliers = projects_test[inlier_filter].values\n",
    "bins = max(1, int((max(inliers) - min(inliers)) // bin_size) + 1)\n",
    "display(bins)\n",
    "sns.distplot(inliers, label='inliers', color='b', kde=False, bins=bins)\n",
    "\n",
    "outliers = projects_test[~inlier_filter].values\n",
    "bins = max(1, int((max(outliers) - min(outliers)) // bin_size) + 1)\n",
    "sns.distplot(outliers, label='outliers', color='r', kde=False, bins=bins)\n",
    "\n",
    "x = np.linspace(min(proponent_projects), max(proponent_projects), 1000)\n",
    "plt.plot(x,  bin_size * len(projects_test) * model.model.pdf(x), label='PDF')\n",
    "\n",
    "plt.legend(frameon=True)\n",
    "plt.ylabel('# of proponents')\n",
    "plt.xlabel('# of projects')\n",
    "plt.title('Inlier/Outlier division');"
   ]
  },
  {
   "cell_type": "markdown",
   "metadata": {},
   "source": [
    "### Análise Log-normal"
   ]
  },
  {
   "cell_type": "code",
   "execution_count": 9,
   "metadata": {},
   "outputs": [],
   "source": [
    "class Lognormal:\n",
    "    def __init__(self, contamination=0.1):\n",
    "        '''Outlier Detection by fitting data in a Log-normal model.\n",
    "\n",
    "        Fit a Log-normal function on the training set and find the upper limit for\n",
    "        a sample to be considered an inlier. The limit is computed by translating\n",
    "        the contamination value into a point in the Log-normal model.\n",
    "        \n",
    "        If the sample is greater than the upper limit, it's considered an outlier,\n",
    "        otherwise, it's an inlier.\n",
    "\n",
    "        Parameters\n",
    "        ----------\n",
    "        contamination : float in (0., 0.5), optional (default=0.1)\n",
    "            The amount of contamination of the data set, i.e. the proportion\n",
    "            of outliers in the data set. When fitting this is used to define the\n",
    "            threshold on the decision function.\n",
    "        '''\n",
    "        self.contamination = contamination\n",
    "\n",
    "    def fit(self, X):\n",
    "        '''Fit the Log-normal model, i.e. compute the standard deviation of X,\n",
    "        using X as training data.\n",
    "\n",
    "        Parameters\n",
    "        ----------\n",
    "        X : array-like, shape (n_samples,)\n",
    "            Training data.\n",
    "\n",
    "        Returns\n",
    "        -------\n",
    "        self : object\n",
    "        '''\n",
    "        s, loc, scale = scipy.stats.lognorm.fit(X, floc=0)\n",
    "        self.model = scipy.stats.lognorm(np.std(np.log(X)), loc=loc, scale=scale)\n",
    "        return self\n",
    "    \n",
    "    def predict(self, X):\n",
    "        '''Predict the labels (True inlier, False outlier) of X according to\n",
    "        the Log-normal model.\n",
    "\n",
    "        This method allows to generalize prediction to *new observations* (not\n",
    "        in the training set).\n",
    "\n",
    "        Parameters\n",
    "        ----------\n",
    "        X : array-like, shape (n_samples,)\n",
    "            The query sample or samples to compute the Log-normal Estimation\n",
    "            w.r.t. to the training samples.\n",
    "\n",
    "        Returns\n",
    "        -------\n",
    "        is_inlier : array, shape (n_samples,)\n",
    "            Returns False for anomalies/outliers and True for inliers.\n",
    "        '''\n",
    "        upper = self.model.ppf(1 - self.contamination)\n",
    "        is_inlier = (X <= upper)\n",
    "        return is_inlier"
   ]
  },
  {
   "cell_type": "code",
   "execution_count": 10,
   "metadata": {
    "scrolled": false
   },
   "outputs": [
    {
     "name": "stdout",
     "output_type": "stream",
     "text": [
      "CPU times: user 644 µs, sys: 67 µs, total: 711 µs\n",
      "Wall time: 665 µs\n",
      "Percentual de outliers esperado: 10.00%\n",
      "Percentual de outliers encontrado: 12.05%\n"
     ]
    },
    {
     "data": {
      "image/png": "[encoded data removed]",
      "text/plain": [
       "<Figure size 1152x288 with 1 Axes>"
      ]
     },
     "metadata": {},
     "output_type": "display_data"
    }
   ],
   "source": [
    "model = Lognormal()\n",
    "model.fit(projects_train)\n",
    "%time inlier_filter = model.predict(projects_test)\n",
    "\n",
    "contamination_found = sum(~inlier_filter) / len(projects_test)\n",
    "print('Percentual de outliers esperado: %.2lf%%' % (100 * model.contamination))\n",
    "print('Percentual de outliers encontrado: %.2lf%%' % (100 * contamination_found))\n",
    "\n",
    "sns.set(style='whitegrid', palette='dark')\n",
    "f, ax = plt.subplots(figsize=(16,4))\n",
    "\n",
    "bin_size = 1\n",
    "inliers = projects_test[inlier_filter].values\n",
    "bins = max(1, int((max(inliers) - min(inliers)) // bin_size) + 1)\n",
    "sns.distplot(inliers, label='inliers', color='b', kde=False, bins=bins)\n",
    "\n",
    "outliers = projects_test[~inlier_filter].values\n",
    "bins = max(1, int((max(outliers) - min(outliers)) // bin_size) + 1)\n",
    "sns.distplot(outliers, label='outliers', color='r', kde=False, bins=bins)\n",
    "\n",
    "x = np.linspace(min(proponent_projects), max(proponent_projects), 1000)\n",
    "plt.plot(x,  bin_size * len(projects_test) * model.model.pdf(x), label='PDF')\n",
    "\n",
    "plt.legend(frameon=True)\n",
    "plt.ylabel('# of proponents')\n",
    "plt.xlabel('# of projects')\n",
    "plt.title('Inlier/Outlier division');"
   ]
  },
  {
   "cell_type": "markdown",
   "metadata": {},
   "source": [
    "### Análise LOF"
   ]
  },
  {
   "cell_type": "code",
   "execution_count": 11,
   "metadata": {},
   "outputs": [],
   "source": [
    "from sklearn.neighbors import LocalOutlierFactor\n",
    "\n",
    "class LOF:\n",
    "    def __init__(self, contamination=0.1):\n",
    "        '''Unsupervised Outlier Detection by fitting data in a Local Outlier Factor\n",
    "        model.\n",
    "\n",
    "        The class sklearn.neighbors.LocalOutlierFactor has two operation modes:\n",
    "            1. Outlier Detection: given a set of samples, return which samples are\n",
    "               inliers and which ones are outliers.\n",
    "            2. Novelty Detection: train model with inliers and predict if a new\n",
    "               sample is inlier or outlier.\n",
    "        \n",
    "        This class uses the \"Outlier Detection\" to separate inliers and outliers\n",
    "        from the training data, and then uses the \"Novelty Detection\" to train the\n",
    "        model itself. At the prediction, the \"Novelty Detection\" separates the\n",
    "        inliers and outliers.\n",
    "\n",
    "        Parameters\n",
    "        ----------\n",
    "        contamination : float in (0., 0.5), optional (default=0.1)\n",
    "            The amount of contamination of the data set, i.e. the proportion\n",
    "            of outliers in the data set. When fitting this is used to define the\n",
    "            threshold on the decision function.\n",
    "        '''\n",
    "        self.contamination = contamination\n",
    "\n",
    "    def fit(self, X):\n",
    "        '''Fit the LOF model, i.e. use the \"Outlier Detection\" to separate inliers\n",
    "        and outliers from the training data and then uses the \"Novelty Detection\"\n",
    "        to train the model itself.\n",
    "\n",
    "        Parameters\n",
    "        ----------\n",
    "        X : array-like, shape (n_samples,)\n",
    "            Training data.\n",
    "\n",
    "        Returns\n",
    "        -------\n",
    "        self : object\n",
    "        '''\n",
    "        # Transform data into a 2D array\n",
    "        X = self._1Dto2D(X)\n",
    "\n",
    "        # Get inliers of the training set with LOF Outlier Detection\n",
    "        lof_OD = LocalOutlierFactor(contamination=self.contamination)\n",
    "        y = lof_OD.fit_predict(X)\n",
    "        X = X[y == 1, :]\n",
    "\n",
    "        # Train model with LOF Novelty Detection, using train set inliers\n",
    "        # Parameter 'contamination' does not matter at this point\n",
    "        self.model = LocalOutlierFactor(novelty=True, contamination=0.5)\n",
    "        self.model = self.model.fit(X)\n",
    "        return self\n",
    "    \n",
    "    def predict(self, X):\n",
    "        '''Predict the labels (True inlier, False outlier) of X according to\n",
    "        the Local Outlier Factor model.\n",
    "\n",
    "        This method allows to generalize prediction to *new observations* (not\n",
    "        in the training set).\n",
    "\n",
    "        Parameters\n",
    "        ----------\n",
    "        X : array-like, shape (n_samples,)\n",
    "            The query sample or samples to compute the LOF estimation\n",
    "            w.r.t. to the training samples.\n",
    "\n",
    "        Returns\n",
    "        -------\n",
    "        is_inlier : array, shape (n_samples,)\n",
    "            Returns False for anomalies/outliers and True for inliers.\n",
    "        '''\n",
    "        X = self._1Dto2D(X)\n",
    "        is_inlier = (self.model.predict(X) == 1)\n",
    "        return is_inlier\n",
    "    \n",
    "    def _1Dto2D(self, X):\n",
    "        '''Given a pd.Series, return a \"2D\" np.Array with zeros in one dimension.\n",
    "        \n",
    "        Parameters\n",
    "        ----------\n",
    "        X : pd.Series, shape (n_samples,)\n",
    "        \n",
    "        Returns\n",
    "        -------\n",
    "        X : bidimensional ndarray, shape (n_samples, 2)\n",
    "        '''\n",
    "        shape = (len(X),1)\n",
    "        return np.hstack([np.array(X.tolist()).reshape(shape), np.zeros(shape)])"
   ]
  },
  {
   "cell_type": "code",
   "execution_count": 12,
   "metadata": {},
   "outputs": [
    {
     "name": "stdout",
     "output_type": "stream",
     "text": [
      "CPU times: user 4.38 ms, sys: 186 µs, total: 4.57 ms\n",
      "Wall time: 4.63 ms\n",
      "Percentual de outliers esperado: 10.00%\n",
      "Percentual de outliers encontrado: 1.03%\n"
     ]
    },
    {
     "data": {
      "image/png": "[encoded data removed]",
      "text/plain": [
       "<Figure size 1152x288 with 1 Axes>"
      ]
     },
     "metadata": {},
     "output_type": "display_data"
    }
   ],
   "source": [
    "model = LOF()\n",
    "model.fit(projects_train)\n",
    "%time inlier_filter = model.predict(projects_test)\n",
    "\n",
    "contamination_found = sum(~inlier_filter) / len(projects_test)\n",
    "print('Percentual de outliers esperado: %.2lf%%' % (100 * model.contamination))\n",
    "print('Percentual de outliers encontrado: %.2lf%%' % (100 * contamination_found))\n",
    "\n",
    "sns.set(style='whitegrid', palette='dark')\n",
    "f, ax = plt.subplots(figsize=(16,4))\n",
    "\n",
    "bin_size = 0.5\n",
    "inliers = projects_test[inlier_filter].values\n",
    "bins = max(1, int((max(inliers) - min(inliers)) // bin_size) + 1)\n",
    "sns.distplot(inliers, label='inliers', color='b', kde=False, bins=bins)\n",
    "\n",
    "outliers = projects_test[~inlier_filter].values\n",
    "bins = max(1, int((max(outliers) - min(outliers)) // bin_size) + 1)\n",
    "sns.distplot(outliers, label='outliers', color='r', kde=False, bins=bins)\n",
    "\n",
    "plt.legend(frameon=True)\n",
    "plt.ylabel('# of proponents')\n",
    "plt.xlabel('# of projects')\n",
    "plt.title('Inlier/Outlier division');"
   ]
  },
  {
   "cell_type": "markdown",
   "metadata": {},
   "source": [
    "### Avaliando a contaminação para cada um dos métodos\n",
    "\n",
    "Nesta seção, os métodos Gaussiano e LOF são aplicados a 100 escolhas diferentes de conjuntos de treino/teste. Ao final, o desempenho de cada método é avaliado."
   ]
  },
  {
   "cell_type": "code",
   "execution_count": 13,
   "metadata": {},
   "outputs": [],
   "source": [
    "percentuals = {\n",
    "    'gauss': [],\n",
    "    'lognorm': [],\n",
    "    'lof': []\n",
    "}\n",
    "\n",
    "gauss = Gaussian()\n",
    "lognorm = Lognormal()\n",
    "lof = LOF()\n",
    "\n",
    "for i in range(100):\n",
    "    # Separate train and test sets\n",
    "    projects_train, projects_test = train_test_split(proponent_projects, test_size=0.3)\n",
    "    \n",
    "    # GAUSSIAN\n",
    "    inlier_filter = (gauss.fit(projects_train).predict(projects_test))\n",
    "    contamination_found = sum(~inlier_filter) / len(projects_test)\n",
    "    percentuals['gauss'].append(100 * contamination_found)\n",
    "    \n",
    "    # LOGNORMAL\n",
    "    inlier_filter = (lognorm.fit(projects_train).predict(projects_test))\n",
    "    contamination_found = sum(~inlier_filter) / len(projects_test)\n",
    "    percentuals['lognorm'].append(100 * contamination_found)\n",
    "    \n",
    "    # LOF\n",
    "    inlier_filter = (lof.fit(projects_train).predict(projects_test))\n",
    "    contamination_found = sum(~inlier_filter) / len(projects_test)\n",
    "    percentuals['lof'].append(100 * contamination_found)"
   ]
  },
  {
   "cell_type": "code",
   "execution_count": 14,
   "metadata": {},
   "outputs": [
    {
     "name": "stdout",
     "output_type": "stream",
     "text": [
      "Média gauss: 5.06%\n",
      "Média lognorm: 11.64%\n",
      "Média lof: 1.97%\n"
     ]
    },
    {
     "data": {
      "image/png": "[encoded data removed]",
      "text/plain": [
       "<Figure size 1152x288 with 1 Axes>"
      ]
     },
     "metadata": {},
     "output_type": "display_data"
    }
   ],
   "source": [
    "sns.set(style='whitegrid', palette='dark')\n",
    "f, ax = plt.subplots(figsize=(16,4))\n",
    "\n",
    "bin_size = 0.1\n",
    "results = percentuals['gauss']\n",
    "print('Média gauss: %.2lf%%' % np.mean(results))\n",
    "bins = max(1, int((max(results) - min(results)) // bin_size) + 1)\n",
    "sns.distplot(results, label='Gaussian', kde=False, bins=bins)\n",
    "\n",
    "results = percentuals['lognorm']\n",
    "print('Média lognorm: %.2lf%%' % np.mean(results))\n",
    "bins = max(1, int((max(results) - min(results)) // bin_size) + 1)\n",
    "sns.distplot(results, label='Lognormal', kde=False, bins=bins)\n",
    "\n",
    "results = percentuals['lof']\n",
    "print('Média lof: %.2lf%%' % np.mean(results))\n",
    "bins = max(1, int((max(results) - min(results)) // bin_size) + 1)\n",
    "sns.distplot(results, label='LOF', kde=False, bins=bins)\n",
    "\n",
    "plt.legend(frameon=True)\n",
    "plt.xlabel('Contamination found (%)')\n",
    "plt.ylabel('# tests')\n",
    "plt.grid(True)"
   ]
  },
  {
   "cell_type": "markdown",
   "metadata": {},
   "source": [
    "#### Conclusões\n",
    "\n",
    "Primeiramente, é importante deixar claro que os projetos que foram considerados nessa análise, foram projetos com pelo menos um item comprovado.\n",
    "\n",
    "Este dataset tem uma distribuição de se aproxima a Log-normal, e, além disso, o percentual de contaminação encontrada pelo Log-normal se mostrou mais próximo do valor esperado que os demais métodos.\n",
    "\n",
    "Apesar de o LOF ser um algoritmo bom para detecção de outliers, ele não aparenta ser a melhor alternativa para o contexto em que esta métrica está inserida,pois ele detecta um percentual inferior ao desejado de outliers.\n",
    "\n",
    "A gaussiana aparenta ser melhor que o LOF, porém é uma distribuição menos precisa que o Log-normal. \n",
    "\n",
    "Ao avaliar estes dois aspectos, percebe-se que essa distribuição Log-normal é a mais recomendada para a métrica de número de projetos por proponente."
   ]
  },
  {
   "cell_type": "code",
   "execution_count": null,
   "metadata": {},
   "outputs": [],
   "source": []
  }
 ],
 "metadata": {
  "kernelspec": {
   "display_name": "Python 3",
   "language": "python",
   "name": "python3"
  },
  "language_info": {
   "codemirror_mode": {
    "name": "ipython",
    "version": 3
   },
   "file_extension": ".py",
   "mimetype": "text/x-python",
   "name": "python",
   "nbconvert_exporter": "python",
   "pygments_lexer": "ipython3",
   "version": "3.6.5"
  }
 },
 "nbformat": 4,
 "nbformat_minor": 2
}
