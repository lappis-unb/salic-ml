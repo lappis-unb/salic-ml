{
 "cells": [
  {
   "cell_type": "markdown",
   "metadata": {},
   "source": [
    "# Análise da métrica \"Preços dos Itens\" de um projeto cultural\n",
    "---\n",
    "\n",
    "**Objetivo:** realizar uma análise comparativa entre a porcentagem de preços de itens outliers de todos os projetos culturais de um mesmo segmento.\n",
    "\n",
    "Para detectar anomalias/outliers serão utilizadas diversas estratégias, tanto de modelos de distribuição para aproximar a PDF (Probability Density Function) da RV (Random Variable) gerada pela métrica, quanto as baseadas em amostras, como é o caso do detector de outlier LOF (Local Outlier Factor).\n",
    "\n",
    "Issue relacionada ao estudo:\n",
    "* [#174](https://github.com/lappis-unb/salic-ml/issues/174)\n",
    "\n",
    "Documentação relacionada:\n",
    "* \\[[link](https://github.com/lappis-unb/salic-ml/wiki/Brainstorming-de-features-para-estimar-Complexidade-Financeira)\\] Brainstorming de features para estimar a Complexidade Financeira\n",
    "\n",
    "## Metodologia\n",
    "\n",
    "Foram aplicados cinco modelos de detecção de anomalias: quatro baseados na aproximação da Função de Densidade de Probabilidade (PDF) e um baseado na exploração da densidade de amostras ao redor de um ponto específico (LOF). \n",
    "\n",
    "Para todos os modelos, a estratégia seguida foi a mesma. Primeiramente, dividiu-se o conjunto amostral em conjunto de treinamento (70% dos dados) e conjunto de teste (os 30% restantes dos dados).\n",
    "Em seguida, cada um dos modelos foi treinado com o conjunto de treinamento, supondo uma taxa de contaminação fixa de 10% das amostras (contaminação é a taxa de outliers contidos na amostra).\n",
    "O conjunto de testes foi passado a cada modelo, que retornou a relação de amostras rotuladas como inliers/outliers. Os tempos de treinamento e teste foram anotados e criou-se uma figura contendo dois histogramas, um para os inliers e um para os outliers.\n",
    "Além disso, a métrica de contaminação encontrada foi levantada para comparar a eficiência de cada um dos cinco modelos.\n",
    "\n",
    "#### Detecção de anomalias baseada na aproximação da PDF por modelos de distribuição\n",
    "\n",
    "A PDF dos dados observados foi ajustada às seguintes distribuições:\n",
    "\n",
    "* Distribuição Gaussiana;\n",
    "* Distribuição Log-Normal;\n",
    "* Distribuição Gamma;\n",
    "* Estimação de Distribuição por Kernel Gaussiano (KDE).\n",
    "\n",
    "O treinamento de todos os quatro modelos de distribuição consiste em ajustar a curva ao conjunto de treinamento e então encontrar, via bisseção, um limiar de densidade de probabilidade $p$, tal que, dada uma taxa de contaminação $c$, a igualdade abaixo é satisfeita:\n",
    "\n",
    "$$ c = \\int_{\\forall x \\ \\vert \\ f_X(x) < p}f_X(x)dx $$\n",
    "\n",
    "Onde $f_X$ é a PDF encontrada ao ajustar cada uma das distribuições utilizadas.\n",
    "\n",
    "Para verificar se uma nova amostra $x$ é um inlier ou um outlier, basta verificar se $f_X(x) \\geq p$ ou $f_X(x) < p$, respectivamente, ou seja, $x$ é outlier se ele é pouco provável de acontecer, segundo a distribuição utilizada.\n",
    "\n",
    "#### Detecção de anomalias baseada na exploração da densidade de amostras ao redor de um ponto específico\n",
    "\n",
    "O último modelo utilizado foi o _Local Outlier Factor_ (LOF), que verifica se uma amostra é um outlier ao comparar a densidade de amostras ao seu redor com a densidade de amostras de suas vizinhas. Caso uma amostra tenha densidade muito menor que suas vizinhas, ela é considerada um outlier.\n",
    "\n",
    "O treinamento do LOF utiliza o `OutlierDetection` da classe `sklearn.neighbors.LocalOutlierFactor` para verificar quais são os outliers do conjunto de treinamento, passando a contaminação como parâmetro. Em seguida, os outliers são retirados do conjunto de treinamento e o LOF em si é treinado utilizando o `NoveltyDetection` da mesma classe.\n",
    "\n",
    "Para verificar se uma nova amostra $x$ é um inlier ou um outlier, basta utilizar a função `predict` da `NoveltyDetection` para verificar se tal amostra tem uma densidade de amostras muito menor que a de sua vizinhança.\n",
    "\n",
    "#### Validação da contaminação encontrada\n",
    "\n",
    "Por fim, para avaliar de forma mais consistente a contaminação encontrada por cada um dos modelos utilizados, o procedimento de treino e teste foi repetido 100 vezes, sempre fixando a contaminação esperada em 10% e salvando a contaminação encontrada no conjunto de teste.\n",
    "\n",
    "## Resultados\n",
    "\n",
    "Serão analisados os resultados com base nos seguinte critérios: tempo de execução de treino/teste, efetividade do modelo com relação à taxa de contaminação encontrada, e efetividade do modelo com relação a quais amostras foram rotuladas como outliers.\n",
    "\n",
    "#### Tempo de execução de treino e teste\n",
    "\n",
    "Os tempos de execução para o total de 100 'splits' de treino e teste diferentes estão mostrados a seguir, ordenados pelo de menor tempo de teste para o maior:\n",
    "\n",
    "* Metric Gaussian test elapsed time in seconds: 0.0216\n",
    "\n",
    "* Metric Gaussian training elapsed time in seconds: 0.3502\n",
    "\n",
    "* Metric Gamma test elapsed time in seconds: 0.0335\n",
    "\n",
    "* Metric Gamma training elapsed time in seconds: 0.6287\n",
    "\n",
    "* Metric Log-normal test elapsed time in seconds: 0.0499\n",
    "\n",
    "* Metric Log-normal training elapsed time in seconds: 0.4010\n",
    "\n",
    "* Metric KDE-Gauss test elapsed time in seconds: 14.6949\n",
    "\n",
    "* Metric KDE-Gauss training elapsed time in seconds: 7.9487\n",
    "\n",
    "* Metric LOF test elapsed time in seconds: 39.7879\n",
    "\n",
    "* Metric LOF training elapsed time in seconds: 203.1118\n",
    "\n",
    "#### Taxa de contaminação encontrada\n",
    "As taxas de contaminação encontradas para cada um dos modelos foram:\n",
    "\n",
    "* Média Gaussian: 4.66%\n",
    "* Média Gamma: 5.65%\n",
    "* Média Log-normal: 6.26%\n",
    "* Média KDE-Gauss: 7.00%\n",
    "* Média LOF: 8.98%\n",
    "\n",
    "A que mais se aproxima da contaminação esperada (10%) é o modelo LOF, seguido por: KDE-Gauss, Log-normal, Gamma, Gaussian.\n",
    "\n",
    "#### Quais amostras foram rotuladas como outliers\n",
    "\n",
    "Nos modelos de detecção de anomalias baseada na aproximação da PDF por modelos de distribuição, fica claro que os projetos rotulados como outliers têm valor muito abaixo ou muito acima da média, já o modelo de detecção de anomalias baseada na exploração da densidade de amostras ao redor de um ponto específico, LOF, amostras com valores consideravelmente próximos à média da distribuição foram rotuladas como outliers, o que não parece fazer sentido para o contexto.\n",
    "\n",
    "## Conclusões\n",
    "\n",
    "O modelo LOF sofre de alguns problemas nesse contexto: quando o valor K (número de vizinhos) a ser utilizado pelo KNN dentro do LOF é relativamente muito pequeno, as determinações de outliers e inliers parecem não fazer sentido: projetos em uma região 'central' densa são considerados como outliers. Por outro lado, quando o valor K é muito grande, as distinções de outliers e inliers parecem coerentes; o problema que emerge é o tempo de execução elevado tanto para treino quanto para teste, pois a complexidade assintótica do algoritmo KNN é proporcional ao valor de K. Assim, considerando ambos os cenários, o LOF não parece ser adequado na utilização dessa métrica específica, salvo o improvável caso do tempo elevadíssimo (quando comparado com os outros modelos) não ser um problema em produção.\n",
    "\n",
    "#### Trabalhos futuros\n",
    "\n",
    "Escolheu-se um segmento específo e todo o estudo foi realizado com base nos dados daquele segmento. Um trabalho futuro é a realização das mesmas análises e generalização para os outros segmentos."
   ]
  },
  {
   "cell_type": "markdown",
   "metadata": {},
   "source": [
    "#### Recarregar automaticamente os módulos"
   ]
  },
  {
   "cell_type": "code",
   "execution_count": 1,
   "metadata": {},
   "outputs": [],
   "source": [
    "%load_ext autoreload\n",
    "%autoreload 2"
   ]
  },
  {
   "cell_type": "markdown",
   "metadata": {},
   "source": [
    "#### Importando módulos necessários"
   ]
  },
  {
   "cell_type": "code",
   "execution_count": 2,
   "metadata": {},
   "outputs": [
    {
     "name": "stdout",
     "output_type": "stream",
     "text": [
      "Populating the interactive namespace from numpy and matplotlib\n"
     ]
    },
    {
     "name": "stderr",
     "output_type": "stream",
     "text": [
      "/usr/lib/python3.6/importlib/_bootstrap.py:219: RuntimeWarning: numpy.dtype size changed, may indicate binary incompatibility. Expected 96, got 88\n",
      "  return f(*args, **kwds)\n"
     ]
    }
   ],
   "source": [
    "%pylab inline\n",
    "%matplotlib notebook\n",
    "import scipy\n",
    "import seaborn as sns\n",
    "import os\n",
    "import sys\n",
    "import time\n",
    "from datetime import datetime\n",
    "\n",
    "import numpy as np\n",
    "import pandas as pd\n",
    "import matplotlib.pyplot as plt\n",
    "\n",
    "from salicml.utils.dates import Dates\n",
    "\n",
    "from core.utils.read_csv import read_csv\n",
    "from salicml.utils.utils import debug\n",
    "from salicml.outliers import gaussian_outlier\n",
    "\n",
    "PROJECT_ROOT = os.path.abspath(os.path.join(os.pardir, os.pardir))\n",
    "DATA_FOLDER = os.path.join(PROJECT_ROOT, 'data', 'raw')"
   ]
  },
  {
   "cell_type": "markdown",
   "metadata": {},
   "source": [
    "#### Carregando e mostrando dataset a ser utilizado ao longo do estudo"
   ]
  },
  {
   "cell_type": "code",
   "execution_count": 3,
   "metadata": {},
   "outputs": [
    {
     "data": {
      "text/plain": [
       "Index(['PRONAC', 'idPlanilhaAprovacao', 'Item', 'idPlanilhaItens',\n",
       "       'VlUnitarioAprovado', 'idSegmento', 'DataProjeto'],\n",
       "      dtype='object')"
      ]
     },
     "metadata": {},
     "output_type": "display_data"
    },
    {
     "data": {
      "text/html": [
       "<div>\n",
       "<style scoped>\n",
       "    .dataframe tbody tr th:only-of-type {\n",
       "        vertical-align: middle;\n",
       "    }\n",
       "\n",
       "    .dataframe tbody tr th {\n",
       "        vertical-align: top;\n",
       "    }\n",
       "\n",
       "    .dataframe thead th {\n",
       "        text-align: right;\n",
       "    }\n",
       "</style>\n",
       "<table border=\"1\" class=\"dataframe\">\n",
       "  <thead>\n",
       "    <tr style=\"text-align: right;\">\n",
       "      <th></th>\n",
       "      <th>PRONAC</th>\n",
       "      <th>idPlanilhaAprovacao</th>\n",
       "      <th>Item</th>\n",
       "      <th>idPlanilhaItens</th>\n",
       "      <th>VlUnitarioAprovado</th>\n",
       "      <th>idSegmento</th>\n",
       "      <th>DataProjeto</th>\n",
       "    </tr>\n",
       "  </thead>\n",
       "  <tbody>\n",
       "    <tr>\n",
       "      <th>0</th>\n",
       "      <td>100855</td>\n",
       "      <td>792860</td>\n",
       "      <td>Passagens Aéreas (Descrever os trechos na tela...</td>\n",
       "      <td>131</td>\n",
       "      <td>150.0</td>\n",
       "      <td>11</td>\n",
       "      <td>2010-02-19 11:53:49.387</td>\n",
       "    </tr>\n",
       "    <tr>\n",
       "      <th>1</th>\n",
       "      <td>100855</td>\n",
       "      <td>792883</td>\n",
       "      <td>Bonecos – Criação</td>\n",
       "      <td>3599</td>\n",
       "      <td>4000.0</td>\n",
       "      <td>11</td>\n",
       "      <td>2010-02-19 11:53:49.387</td>\n",
       "    </tr>\n",
       "    <tr>\n",
       "      <th>2</th>\n",
       "      <td>100855</td>\n",
       "      <td>792903</td>\n",
       "      <td>Produtor executivo</td>\n",
       "      <td>53</td>\n",
       "      <td>3000.0</td>\n",
       "      <td>11</td>\n",
       "      <td>2010-02-19 11:53:49.387</td>\n",
       "    </tr>\n",
       "    <tr>\n",
       "      <th>3</th>\n",
       "      <td>98671</td>\n",
       "      <td>109095</td>\n",
       "      <td>Assistente de produção</td>\n",
       "      <td>1037</td>\n",
       "      <td>1000.0</td>\n",
       "      <td>31</td>\n",
       "      <td>2009-12-28 11:37:57.830</td>\n",
       "    </tr>\n",
       "    <tr>\n",
       "      <th>4</th>\n",
       "      <td>91695</td>\n",
       "      <td>116511</td>\n",
       "      <td>Designer</td>\n",
       "      <td>103</td>\n",
       "      <td>0.0</td>\n",
       "      <td>71</td>\n",
       "      <td>2009-05-21 10:48:48.790</td>\n",
       "    </tr>\n",
       "  </tbody>\n",
       "</table>\n",
       "</div>"
      ],
      "text/plain": [
       "   PRONAC  idPlanilhaAprovacao  \\\n",
       "0  100855               792860   \n",
       "1  100855               792883   \n",
       "2  100855               792903   \n",
       "3   98671               109095   \n",
       "4   91695               116511   \n",
       "\n",
       "                                                Item  idPlanilhaItens  \\\n",
       "0  Passagens Aéreas (Descrever os trechos na tela...              131   \n",
       "1                                  Bonecos – Criação             3599   \n",
       "2                                 Produtor executivo               53   \n",
       "3                             Assistente de produção             1037   \n",
       "4                                           Designer              103   \n",
       "\n",
       "   VlUnitarioAprovado idSegmento              DataProjeto  \n",
       "0               150.0         11  2010-02-19 11:53:49.387  \n",
       "1              4000.0         11  2010-02-19 11:53:49.387  \n",
       "2              3000.0         11  2010-02-19 11:53:49.387  \n",
       "3              1000.0         31  2009-12-28 11:37:57.830  \n",
       "4                 0.0         71  2009-05-21 10:48:48.790  "
      ]
     },
     "execution_count": 3,
     "metadata": {},
     "output_type": "execute_result"
    }
   ],
   "source": [
    "dt_orcamentaria_name = 'planilha_orcamentaria.csv'\n",
    "\n",
    "usecols = ['PRONAC', 'idPlanilhaAprovacao', 'Item', 'idPlanilhaItens', 'VlUnitarioAprovado', 'idSegmento', 'DataProjeto']\n",
    "dtype = {\n",
    "    'PRONAC': str,\n",
    "}\n",
    "\n",
    "#dt_orcamentaria = read_csv_with_different_type(dt_orcamentaria_name, dtype, usecols=usecols)\n",
    "dt_orcamentaria = read_csv(dt_orcamentaria_name, usecols=usecols)\n",
    "\n",
    "display(dt_orcamentaria.columns)\n",
    "dt_orcamentaria.head()"
   ]
  },
  {
   "cell_type": "markdown",
   "metadata": {},
   "source": [
    "#### Gerando tabela com a porcentagem de preços de itens outliers por projeto e por segmento"
   ]
  },
  {
   "cell_type": "markdown",
   "metadata": {},
   "source": [
    "# Treino"
   ]
  },
  {
   "cell_type": "code",
   "execution_count": 4,
   "metadata": {},
   "outputs": [
    {
     "data": {
      "text/plain": [
       "PRONAC                          int64\n",
       "idPlanilhaAprovacao             int64\n",
       "Item                           object\n",
       "idPlanilhaItens                 int64\n",
       "VlUnitarioAprovado            float64\n",
       "idSegmento                     object\n",
       "DataProjeto            datetime64[ns]\n",
       "dtype: object"
      ]
     },
     "metadata": {},
     "output_type": "display_data"
    },
    {
     "data": {
      "text/html": [
       "<div>\n",
       "<style scoped>\n",
       "    .dataframe tbody tr th:only-of-type {\n",
       "        vertical-align: middle;\n",
       "    }\n",
       "\n",
       "    .dataframe tbody tr th {\n",
       "        vertical-align: top;\n",
       "    }\n",
       "\n",
       "    .dataframe thead th {\n",
       "        text-align: right;\n",
       "    }\n",
       "</style>\n",
       "<table border=\"1\" class=\"dataframe\">\n",
       "  <thead>\n",
       "    <tr style=\"text-align: right;\">\n",
       "      <th></th>\n",
       "      <th>PRONAC</th>\n",
       "      <th>idPlanilhaAprovacao</th>\n",
       "      <th>Item</th>\n",
       "      <th>idPlanilhaItens</th>\n",
       "      <th>VlUnitarioAprovado</th>\n",
       "      <th>idSegmento</th>\n",
       "      <th>DataProjeto</th>\n",
       "    </tr>\n",
       "  </thead>\n",
       "  <tbody>\n",
       "    <tr>\n",
       "      <th>236</th>\n",
       "      <td>146032</td>\n",
       "      <td>1224604</td>\n",
       "      <td>Produtor local</td>\n",
       "      <td>4548</td>\n",
       "      <td>1500.0</td>\n",
       "      <td>12</td>\n",
       "      <td>2014-04-11 18:50:56.473</td>\n",
       "    </tr>\n",
       "    <tr>\n",
       "      <th>258</th>\n",
       "      <td>146032</td>\n",
       "      <td>1224594</td>\n",
       "      <td>Locação de equipamentos</td>\n",
       "      <td>3684</td>\n",
       "      <td>4000.0</td>\n",
       "      <td>12</td>\n",
       "      <td>2014-04-11 18:50:56.473</td>\n",
       "    </tr>\n",
       "    <tr>\n",
       "      <th>259</th>\n",
       "      <td>146032</td>\n",
       "      <td>1224601</td>\n",
       "      <td>Hospedagem sem alimentação</td>\n",
       "      <td>130</td>\n",
       "      <td>180.0</td>\n",
       "      <td>12</td>\n",
       "      <td>2014-04-11 18:50:56.473</td>\n",
       "    </tr>\n",
       "    <tr>\n",
       "      <th>360</th>\n",
       "      <td>146032</td>\n",
       "      <td>1224608</td>\n",
       "      <td>Transporte Local / Locação de Automóvel / Comb...</td>\n",
       "      <td>134</td>\n",
       "      <td>500.0</td>\n",
       "      <td>12</td>\n",
       "      <td>2014-04-11 18:50:56.473</td>\n",
       "    </tr>\n",
       "    <tr>\n",
       "      <th>488</th>\n",
       "      <td>146032</td>\n",
       "      <td>1224595</td>\n",
       "      <td>Passagens Aéreas (Descrever os trechos na tela...</td>\n",
       "      <td>131</td>\n",
       "      <td>500.0</td>\n",
       "      <td>12</td>\n",
       "      <td>2014-04-11 18:50:56.473</td>\n",
       "    </tr>\n",
       "  </tbody>\n",
       "</table>\n",
       "</div>"
      ],
      "text/plain": [
       "     PRONAC  idPlanilhaAprovacao  \\\n",
       "236  146032              1224604   \n",
       "258  146032              1224594   \n",
       "259  146032              1224601   \n",
       "360  146032              1224608   \n",
       "488  146032              1224595   \n",
       "\n",
       "                                                  Item  idPlanilhaItens  \\\n",
       "236                                     Produtor local             4548   \n",
       "258                            Locação de equipamentos             3684   \n",
       "259                         Hospedagem sem alimentação              130   \n",
       "360  Transporte Local / Locação de Automóvel / Comb...              134   \n",
       "488  Passagens Aéreas (Descrever os trechos na tela...              131   \n",
       "\n",
       "     VlUnitarioAprovado idSegmento             DataProjeto  \n",
       "236              1500.0         12 2014-04-11 18:50:56.473  \n",
       "258              4000.0         12 2014-04-11 18:50:56.473  \n",
       "259               180.0         12 2014-04-11 18:50:56.473  \n",
       "360               500.0         12 2014-04-11 18:50:56.473  \n",
       "488               500.0         12 2014-04-11 18:50:56.473  "
      ]
     },
     "metadata": {},
     "output_type": "display_data"
    }
   ],
   "source": [
    "dt_train = dt_orcamentaria.copy()\n",
    "\n",
    "START_DATE = datetime(2013, 1, 1)\n",
    "\n",
    "dt_train['DataProjeto'] = pd.to_datetime(dt_train['DataProjeto'])\n",
    "dt_train = dt_train[dt_train.DataProjeto >= START_DATE]\n",
    "dt_train = dt_train[dt_train.VlUnitarioAprovado > 0.0]\n",
    "\n",
    "display(dt_train.dtypes)\n",
    "display(dt_train.head())"
   ]
  },
  {
   "cell_type": "markdown",
   "metadata": {},
   "source": [
    "# Treino1: Preço de item por segmento"
   ]
  },
  {
   "cell_type": "code",
   "execution_count": 5,
   "metadata": {},
   "outputs": [
    {
     "data": {
      "text/html": [
       "<div>\n",
       "<style scoped>\n",
       "    .dataframe tbody tr th:only-of-type {\n",
       "        vertical-align: middle;\n",
       "    }\n",
       "\n",
       "    .dataframe tbody tr th {\n",
       "        vertical-align: top;\n",
       "    }\n",
       "\n",
       "    .dataframe thead th {\n",
       "        text-align: right;\n",
       "    }\n",
       "</style>\n",
       "<table border=\"1\" class=\"dataframe\">\n",
       "  <thead>\n",
       "    <tr style=\"text-align: right;\">\n",
       "      <th></th>\n",
       "      <th></th>\n",
       "      <th>mean</th>\n",
       "      <th>std</th>\n",
       "    </tr>\n",
       "    <tr>\n",
       "      <th>idSegmento</th>\n",
       "      <th>idPlanilhaItens</th>\n",
       "      <th></th>\n",
       "      <th></th>\n",
       "    </tr>\n",
       "  </thead>\n",
       "  <tbody>\n",
       "    <tr>\n",
       "      <th rowspan=\"5\" valign=\"top\">11</th>\n",
       "      <th>10</th>\n",
       "      <td>8120.219844</td>\n",
       "      <td>9506.785625</td>\n",
       "    </tr>\n",
       "    <tr>\n",
       "      <th>12</th>\n",
       "      <td>10641.954062</td>\n",
       "      <td>11203.905159</td>\n",
       "    </tr>\n",
       "    <tr>\n",
       "      <th>13</th>\n",
       "      <td>11306.180020</td>\n",
       "      <td>39124.075003</td>\n",
       "    </tr>\n",
       "    <tr>\n",
       "      <th>14</th>\n",
       "      <td>24016.666667</td>\n",
       "      <td>31566.882259</td>\n",
       "    </tr>\n",
       "    <tr>\n",
       "      <th>15</th>\n",
       "      <td>5993.625418</td>\n",
       "      <td>10189.216850</td>\n",
       "    </tr>\n",
       "  </tbody>\n",
       "</table>\n",
       "</div>"
      ],
      "text/plain": [
       "                                    mean           std\n",
       "idSegmento idPlanilhaItens                            \n",
       "11         10                8120.219844   9506.785625\n",
       "           12               10641.954062  11203.905159\n",
       "           13               11306.180020  39124.075003\n",
       "           14               24016.666667  31566.882259\n",
       "           15                5993.625418  10189.216850"
      ]
     },
     "execution_count": 5,
     "metadata": {},
     "output_type": "execute_result"
    }
   ],
   "source": [
    "PRICE_COLUMNS = ['idSegmento', 'idPlanilhaItens', 'VlUnitarioAprovado']\n",
    "dt_train_agg = dt_train[PRICE_COLUMNS].groupby(by=['idSegmento', 'idPlanilhaItens']).agg([np.mean, lambda x: np.std(x, ddof=0)])\n",
    "dt_train_agg.columns = dt_train_agg.columns.droplevel(0)\n",
    "dt_train_agg.rename(columns={'<lambda>': 'std'}, inplace=True)\n",
    "dt_train_agg.sort_index(inplace=True)\n",
    "dt_train_agg.head()"
   ]
  },
  {
   "cell_type": "code",
   "execution_count": 6,
   "metadata": {},
   "outputs": [],
   "source": [
    "train_agg_dict = dt_train_agg.to_dict(orient='dict')"
   ]
  },
  {
   "cell_type": "code",
   "execution_count": 7,
   "metadata": {},
   "outputs": [
    {
     "data": {
      "text/plain": [
       "True"
      ]
     },
     "execution_count": 7,
     "metadata": {},
     "output_type": "execute_result"
    }
   ],
   "source": [
    "def is_item_outlier(id_planilha_item, id_segmento, price):\n",
    "    item_key = (id_segmento, id_planilha_item)\n",
    "    if item_key not in train_agg_dict['mean']:\n",
    "        return False\n",
    "    \n",
    "    mean = train_agg_dict['mean'][item_key]\n",
    "    std = train_agg_dict['std'][item_key]\n",
    "    outlier = gaussian_outlier.is_outlier(x=price, mean=mean, standard_deviation=std)\n",
    "    maximum_expected = gaussian_outlier.maximum_expected_value(mean=mean, standard_deviation=std)\n",
    "    return outlier\n",
    "\n",
    "is_item_outlier(1129, '32', 12312123213131.0)"
   ]
  },
  {
   "cell_type": "code",
   "execution_count": 8,
   "metadata": {},
   "outputs": [
    {
     "name": "stdout",
     "output_type": "stream",
     "text": [
      "pronac = 1414132\n",
      "percentage(1414132) = 0.1643835616438356\n"
     ]
    }
   ],
   "source": [
    "pronacs_grp = dt_train.groupby(by=['PRONAC'])\n",
    "\n",
    "def get_outliers_percentage(pronac):\n",
    "    items = pronacs_grp.get_group(pronac)\n",
    "    \n",
    "    outliers = 0\n",
    "    for row in items.itertuples():\n",
    "        item_id = getattr(row, 'idPlanilhaItens')\n",
    "        unit_value = getattr(row, 'VlUnitarioAprovado')\n",
    "        segment_id = getattr(row, 'idSegmento')\n",
    "        \n",
    "        outliers += 1 if is_item_outlier(id_planilha_item=item_id, id_segmento=segment_id, price=unit_value) else 0\n",
    "    \n",
    "    outliers_percentage = outliers / items.shape[0]\n",
    "    return outliers_percentage\n",
    "\n",
    "\n",
    "pronac = np.random.choice(dt_train.PRONAC.values)\n",
    "print('pronac = {}'.format(pronac))\n",
    "percentage = get_outliers_percentage(pronac)\n",
    "print('percentage({}) = {}'.format(pronac, percentage))"
   ]
  },
  {
   "cell_type": "code",
   "execution_count": 9,
   "metadata": {},
   "outputs": [
    {
     "name": "stdout",
     "output_type": "stream",
     "text": [
      "(1191816, 7)\n"
     ]
    }
   ],
   "source": [
    "pronac_cache = {}\n",
    "\n",
    "print(dt_train.shape)\n",
    "for row in dt_train.itertuples():\n",
    "    pronac = getattr(row, 'PRONAC')\n",
    "    item_id = getattr(row, 'idPlanilhaItens')\n",
    "    unit_value = getattr(row, 'VlUnitarioAprovado')\n",
    "    segment_id = getattr(row, 'idSegmento')\n",
    "    \n",
    "    #a = 1 if is_item_outlier(id_planilha_item=item_id, id_segmento=segment_id, price=unit_value) else 0\n",
    "    pronac_cache.setdefault(pronac, {})\n",
    "    pronac_cache[pronac].setdefault('outlier_items', 0)\n",
    "    pronac_cache[pronac].setdefault('total_items', 0)\n",
    "    \n",
    "    pronac_cache[pronac]['outlier_items'] += 1 if is_item_outlier(id_planilha_item=item_id, id_segmento=segment_id, price=unit_value) else 0\n",
    "    pronac_cache[pronac]['total_items'] += 1"
   ]
  },
  {
   "cell_type": "markdown",
   "metadata": {},
   "source": [
    "# Treino2: porcentagem de itens outliers por projeto por segmento"
   ]
  },
  {
   "cell_type": "code",
   "execution_count": 10,
   "metadata": {},
   "outputs": [],
   "source": [
    "segments_grp = dt_train[['PRONAC', 'idSegmento']].groupby(['idSegmento'])\n",
    "\n",
    "\n",
    "def train_segment_percentages():\n",
    "    percentages_train = {}\n",
    "    for segment_id, group in segments_grp:\n",
    "        pronacs = group.PRONAC.unique()\n",
    "        percentages = []\n",
    "        for pronac in pronacs:\n",
    "            cache = pronac_cache[pronac]\n",
    "            outliers = cache['outlier_items']\n",
    "            total = cache['total_items']\n",
    "            percentage = outliers / total\n",
    "\n",
    "            percentages.append(percentage)\n",
    "\n",
    "            mean = np.mean(percentages)\n",
    "            std = np.std(percentages)\n",
    "\n",
    "            percentages_train[segment_id] = {}\n",
    "            percentages_train[segment_id]['mean'] = mean\n",
    "            percentages_train[segment_id]['std'] = std\n",
    "    return percentages_train\n",
    "\n",
    "percentages_train = train_segment_percentages()"
   ]
  },
  {
   "cell_type": "code",
   "execution_count": 11,
   "metadata": {},
   "outputs": [
    {
     "name": "stdout",
     "output_type": "stream",
     "text": [
      "            PRONAC  percentage\n",
      "idSegmento                    \n",
      "12          146032    0.000000\n",
      "33          162264    0.000000\n",
      "6F          160506    0.315789\n",
      "31          137362    0.024390\n",
      "6D          150261    0.131579\n"
     ]
    }
   ],
   "source": [
    "pronac_cache\n",
    "percentage_dict = {}\n",
    "percentage_dict['idSegmento'] = []\n",
    "percentage_dict['PRONAC'] = []\n",
    "percentage_dict['percentage'] = []\n",
    "items_price = pd.DataFrame()\n",
    "for pronac in pronac_cache:\n",
    "    items = pronacs_grp.get_group(pronac)\n",
    "    segment_id = items.iloc[0]['idSegmento']\n",
    "    cache = pronac_cache[pronac]\n",
    "    percentage = cache['outlier_items'] / cache['total_items']\n",
    "    percentage_dict['idSegmento'].append(segment_id)\n",
    "    percentage_dict['PRONAC'].append(pronac)\n",
    "    percentage_dict['percentage'].append(percentage)\n",
    "\n",
    "items_price = pd.DataFrame(percentage_dict)\n",
    "items_price.set_index('idSegmento', inplace=True)\n",
    "print(items_price.head())"
   ]
  },
  {
   "cell_type": "markdown",
   "metadata": {},
   "source": [
    "## Análise por segmento\n",
    "---\n",
    "\n",
    "Nesta etapa, analisaremos a porcentagem de preços de itens outliers dos projetos para um segmento escolhido."
   ]
  },
  {
   "cell_type": "markdown",
   "metadata": {},
   "source": [
    "#### Esolhendo um segmento e gerando uma lista de porcentagem de preços de itens outliers para todos os projetos do segmento"
   ]
  },
  {
   "cell_type": "code",
   "execution_count": 12,
   "metadata": {
    "scrolled": true
   },
   "outputs": [
    {
     "data": {
      "text/plain": [
       "idSegmento\n",
       "11    0.000000\n",
       "11    0.000000\n",
       "11    0.000000\n",
       "11    0.000000\n",
       "11    0.066667\n",
       "Name: percentage, dtype: float64"
      ]
     },
     "execution_count": 12,
     "metadata": {},
     "output_type": "execute_result"
    }
   ],
   "source": [
    "segment = '11'\n",
    "segment_projects = items_price.loc[segment]['percentage']\n",
    "segment_projects.head()"
   ]
  },
  {
   "cell_type": "markdown",
   "metadata": {},
   "source": [
    "#### Gerando histograma dos dados acima"
   ]
  },
  {
   "cell_type": "code",
   "execution_count": 13,
   "metadata": {},
   "outputs": [
    {
     "name": "stdout",
     "output_type": "stream",
     "text": [
      "Média da distribuição: 0.03\n",
      "Desvio padrão da distribuição: 0.06\n",
      "\n"
     ]
    },
    {
     "data": {
      "image/png": "[encoded data removed]",
      "text/plain": [
       "<Figure size 1152x288 with 1 Axes>"
      ]
     },
     "metadata": {},
     "output_type": "display_data"
    }
   ],
   "source": [
    "sns.set(style='whitegrid', palette='dark')\n",
    "f, ax = plt.subplots(figsize=(16,4))\n",
    "\n",
    "sns.distplot(segment_projects, bins=200, kde=False)\n",
    "plt.title('Histograma de porcentagem de preços de itens outliers de projetos de um mesmo segmento')\n",
    "plt.ylabel('Quantidade de projetos')\n",
    "plt.xlabel('Porcentagem de preços de itens outliers')\n",
    "plt.grid(True)\n",
    "\n",
    "expected_mean = np.mean(segment_projects)\n",
    "expected_std = np.std(segment_projects)\n",
    "\n",
    "print('Média da distribuição: %.2lf' % expected_mean)\n",
    "print('Desvio padrão da distribuição: %.2lf\\n' % expected_std)"
   ]
  },
  {
   "cell_type": "markdown",
   "metadata": {},
   "source": [
    "#### Separando os conjuntos de treino e teste"
   ]
  },
  {
   "cell_type": "code",
   "execution_count": 14,
   "metadata": {},
   "outputs": [
    {
     "data": {
      "text/plain": [
       "idSegmento\n",
       "11    0.076305\n",
       "11    0.000000\n",
       "11    0.021739\n",
       "11    0.000000\n",
       "11    0.000000\n",
       "Name: percentage, dtype: float64"
      ]
     },
     "metadata": {},
     "output_type": "display_data"
    },
    {
     "data": {
      "text/plain": [
       "idSegmento\n",
       "11    0.000000\n",
       "11    0.000000\n",
       "11    0.000000\n",
       "11    0.114286\n",
       "11    0.000000\n",
       "Name: percentage, dtype: float64"
      ]
     },
     "metadata": {},
     "output_type": "display_data"
    }
   ],
   "source": [
    "from sklearn.model_selection import train_test_split\n",
    "projects_train, projects_test = train_test_split(segment_projects, test_size=0.3)\n",
    "\n",
    "display(projects_train.head())\n",
    "display(projects_test.head())"
   ]
  },
  {
   "cell_type": "markdown",
   "metadata": {},
   "source": [
    "#### Implementando função auxiliar para mostrar os gráficos e estatísticas referentes a cada um dos modelos explorados"
   ]
  },
  {
   "cell_type": "code",
   "execution_count": 15,
   "metadata": {},
   "outputs": [],
   "source": [
    "import time\n",
    "def show_stats(model, train_set, test_set, bin_size=1):\n",
    "    begin = time.time()\n",
    "    model.fit(train_set)\n",
    "    print('Tempo de treinamento: %.3lf (s)' % (time.time() - begin))\n",
    "    begin = time.time()\n",
    "    is_inlier = model.predict(test_set)\n",
    "    print('Tempo de teste: %.3lf (s)' % (time.time() - begin))\n",
    "\n",
    "    contamination_found = sum(~is_inlier) / len(test_set)\n",
    "    print('Percentual de outliers esperado: %.2lf%%' % (100 * model.contamination))\n",
    "    print('Percentual de outliers encontrado: %.2lf%%' % (100 * contamination_found))\n",
    "\n",
    "    sns.set(style='whitegrid', palette='dark')\n",
    "    f, ax = plt.subplots(figsize=(16,4))\n",
    "\n",
    "    inliers = test_set[is_inlier]\n",
    "    bin_factor = 0\n",
    "    if len(inliers) > 0:\n",
    "        bin_factor = (max(inliers) - min(inliers))\n",
    "    bins = max(1, int(bin_factor // bin_size) + 1)\n",
    "    sns.distplot(inliers, label='inliers', color='b', kde=False, bins=bins)\n",
    "\n",
    "    outliers = test_set[~is_inlier]\n",
    "    bins = max(1, int((max(outliers) - min(outliers)) // bin_size) + 1)\n",
    "    sns.distplot(outliers, label='outliers', color='r', kde=False, bins=bins)\n",
    "    \n",
    "    if hasattr(model.model, 'pdf'):\n",
    "        x = np.linspace(min(test_set), max(test_set), 1000)\n",
    "        y = model.model.pdf(x)\n",
    "        if hasattr(model, 'transform'):\n",
    "            y = model.model.pdf(model.transform(x))\n",
    "        plt.plot(x,  bin_size * len(test_set) * y, label='PDF')\n",
    "\n",
    "    plt.legend(frameon=True)\n",
    "    plt.ylabel('# projects')\n",
    "    plt.xlabel('% of outlier items')\n",
    "    plt.title('Inlier/Outlier division')"
   ]
  },
  {
   "cell_type": "markdown",
   "metadata": {},
   "source": [
    "#### Implementando funções auxiliares para os modelos utilizados"
   ]
  },
  {
   "cell_type": "code",
   "execution_count": 16,
   "metadata": {},
   "outputs": [],
   "source": [
    "def bisect(f, a=0, b=1, rtol=1e-6, maxiter=40):\n",
    "    # simplified scipy.optimize.bisect\n",
    "    niter, x0 = (0, a)\n",
    "    while niter < maxiter:\n",
    "        niter += 1\n",
    "        x0 = (b + a) / 2\n",
    "        f0 = f(x0)\n",
    "        if abs(f0) < rtol:\n",
    "            break\n",
    "        elif f0 < 0:\n",
    "            b = x0\n",
    "        else:\n",
    "            a = x0\n",
    "    return x0\n",
    "\n",
    "def find_threshold(model, X, contamination):\n",
    "    h = max(X) - min(X)\n",
    "    _X = np.linspace(min(X) - h, max(X) + h, int(1e3))\n",
    "    dx = _X[1] - _X[0]\n",
    "    pdf = model.pdf(_X)\n",
    "    def f(threshold):\n",
    "        _pdf = pdf.copy()\n",
    "        _pdf[_pdf <= threshold] = 0\n",
    "        I = scipy.integrate.simps(_pdf, dx=dx)\n",
    "        return I - (1.0 - contamination)\n",
    "    return bisect(f)"
   ]
  },
  {
   "cell_type": "markdown",
   "metadata": {},
   "source": [
    "## Modelo Gaussiano"
   ]
  },
  {
   "cell_type": "code",
   "execution_count": 17,
   "metadata": {
    "scrolled": false
   },
   "outputs": [
    {
     "name": "stdout",
     "output_type": "stream",
     "text": [
      "Tempo de treinamento: 0.015 (s)\n",
      "Tempo de teste: 0.002 (s)\n",
      "Percentual de outliers esperado: 10.00%\n",
      "Percentual de outliers encontrado: 4.96%\n"
     ]
    },
    {
     "data": {
      "image/png": "[encoded data removed]",
      "text/plain": [
       "<Figure size 1152x288 with 1 Axes>"
      ]
     },
     "metadata": {},
     "output_type": "display_data"
    }
   ],
   "source": [
    "class Gaussian:\n",
    "    def __init__(self, contamination=0.1):\n",
    "        self.contamination = contamination\n",
    "\n",
    "    def fit(self, X):\n",
    "        # Generate model\n",
    "        mean, std = scipy.stats.norm.fit(X)\n",
    "        self.model = scipy.stats.norm(mean, std)\n",
    "        # Find threshold\n",
    "        self.threshold = find_threshold(self.model, X, self.contamination)\n",
    "        return self\n",
    "    \n",
    "    def predict(self, X):\n",
    "        is_inlier = (self.model.pdf(X) > self.threshold)\n",
    "        return is_inlier\n",
    "\n",
    "show_stats(Gaussian(), projects_train, projects_test, bin_size=0.01)"
   ]
  },
  {
   "cell_type": "markdown",
   "metadata": {},
   "source": [
    "## Modelo Log-normal"
   ]
  },
  {
   "cell_type": "code",
   "execution_count": 18,
   "metadata": {},
   "outputs": [
    {
     "name": "stdout",
     "output_type": "stream",
     "text": [
      "Tempo de treinamento: 0.008 (s)\n",
      "Tempo de teste: 0.001 (s)\n",
      "Percentual de outliers esperado: 10.00%\n",
      "Percentual de outliers encontrado: 6.17%\n"
     ]
    },
    {
     "data": {
      "image/png": "[encoded data removed]",
      "text/plain": [
       "<Figure size 1152x288 with 1 Axes>"
      ]
     },
     "metadata": {},
     "output_type": "display_data"
    }
   ],
   "source": [
    "class Lognormal:\n",
    "    def __init__(self, contamination=0.1, transform=lambda X: X):\n",
    "        self.contamination = contamination\n",
    "        self.transform = transform\n",
    "\n",
    "    def fit(self, X):\n",
    "        # Generate model\n",
    "        X = self.transform(X)\n",
    "        s, loc, scale = scipy.stats.lognorm.fit(X, floc=0)\n",
    "        self.model = scipy.stats.lognorm(np.std(np.log(X)), loc=loc, scale=scale)\n",
    "        # Find threshold\n",
    "        self.threshold = find_threshold(self.model, X, self.contamination)\n",
    "        return self\n",
    "    \n",
    "    def predict(self, X):\n",
    "        X = self.transform(X)\n",
    "        is_inlier = (self.model.pdf(X) > self.threshold)\n",
    "        return is_inlier\n",
    "\n",
    "show_stats(Lognormal(transform=lambda X: X + 0.1), projects_train, projects_test, bin_size=0.01)"
   ]
  },
  {
   "cell_type": "markdown",
   "metadata": {},
   "source": [
    "## Modelo Gamma"
   ]
  },
  {
   "cell_type": "code",
   "execution_count": 20,
   "metadata": {},
   "outputs": [
    {
     "name": "stdout",
     "output_type": "stream",
     "text": [
      "Tempo de treinamento: 0.007 (s)\n",
      "Tempo de teste: 0.001 (s)\n",
      "Percentual de outliers esperado: 10.00%\n",
      "Percentual de outliers encontrado: 5.70%\n"
     ]
    },
    {
     "data": {
      "image/png": "[encoded data removed]",
      "text/plain": [
       "<Figure size 1152x288 with 1 Axes>"
      ]
     },
     "metadata": {},
     "output_type": "display_data"
    }
   ],
   "source": [
    "class Gamma:\n",
    "    def __init__(self, contamination=0.1, transform=lambda X: X):\n",
    "        self.contamination = contamination\n",
    "        self.transform = transform\n",
    "\n",
    "    def fit(self, X):\n",
    "        # Generate model\n",
    "        X = self.transform(X)\n",
    "        params = scipy.stats.gamma.fit(X, floc=0)\n",
    "        self.model = scipy.stats.gamma(*params)\n",
    "        # Find threshold\n",
    "        self.threshold = find_threshold(self.model, X, self.contamination)\n",
    "        return self\n",
    "    \n",
    "    def predict(self, X):\n",
    "        X = self.transform(X)\n",
    "        is_inlier = (self.model.pdf(X) > self.threshold)\n",
    "        return is_inlier\n",
    "    \n",
    "show_stats(Gamma(transform=lambda X: X + 0.1), projects_train, projects_test, bin_size=0.01)"
   ]
  },
  {
   "cell_type": "markdown",
   "metadata": {},
   "source": [
    "## Modelo de Estimativa de Densidade Kernel com Kernel Gaussiano"
   ]
  },
  {
   "cell_type": "code",
   "execution_count": 21,
   "metadata": {},
   "outputs": [
    {
     "name": "stdout",
     "output_type": "stream",
     "text": [
      "Tempo de treinamento: 0.090 (s)\n",
      "Tempo de teste: 0.167 (s)\n",
      "Percentual de outliers esperado: 10.00%\n",
      "Percentual de outliers encontrado: 6.80%\n"
     ]
    },
    {
     "data": {
      "image/png": "[encoded data removed]",
      "text/plain": [
       "<Figure size 1152x288 with 1 Axes>"
      ]
     },
     "metadata": {},
     "output_type": "display_data"
    }
   ],
   "source": [
    "class KDE:\n",
    "    def __init__(self, contamination=0.1, kernel='gauss'):\n",
    "        self.contamination = contamination\n",
    "        self.kernel = kernel\n",
    "\n",
    "    def fit(self, X):\n",
    "        # Generate model\n",
    "        if self.kernel == 'gauss':\n",
    "            self.model = scipy.stats.gaussian_kde(X)\n",
    "        else:\n",
    "            raise AttributeError('Kernel function not found')\n",
    "        # Find threshold\n",
    "        self.threshold = find_threshold(self.model, X, self.contamination)\n",
    "        return self\n",
    "    \n",
    "    def predict(self, X):\n",
    "        is_inlier = (self.model.pdf(X) > self.threshold)\n",
    "        return is_inlier\n",
    "    \n",
    "show_stats(KDE(), projects_train, projects_test, bin_size=0.01)"
   ]
  },
  {
   "cell_type": "markdown",
   "metadata": {},
   "source": [
    "## Estimador por Fator de Anomalia Local (LOF)"
   ]
  },
  {
   "cell_type": "code",
   "execution_count": 22,
   "metadata": {},
   "outputs": [
    {
     "name": "stdout",
     "output_type": "stream",
     "text": [
      "Tempo de treinamento: 5.537 (s)\n",
      "Tempo de teste: 0.378 (s)\n",
      "Percentual de outliers esperado: 10.00%\n",
      "Percentual de outliers encontrado: 9.55%\n"
     ]
    },
    {
     "data": {
      "image/png": "[encoded data removed]",
      "text/plain": [
       "<Figure size 1152x288 with 1 Axes>"
      ]
     },
     "metadata": {},
     "output_type": "display_data"
    }
   ],
   "source": [
    "from sklearn.neighbors import LocalOutlierFactor\n",
    "class LOF:\n",
    "    def __init__(self, contamination=0.1, n_neighbors=None):\n",
    "        self.contamination = contamination\n",
    "        self.n_neighbors = n_neighbors\n",
    "\n",
    "    def fit(self, X):\n",
    "        # Transform data into a 2D array\n",
    "        X = self._1Dto2D(X)\n",
    "        \n",
    "        if self.n_neighbors == None:\n",
    "            self.n_neighbors = len(X) // 2\n",
    "\n",
    "        # Get inliers of the training set with LOF Outlier Detection\n",
    "        lof_OD = LocalOutlierFactor(contamination=self.contamination,\n",
    "                                    n_neighbors=self.n_neighbors)\n",
    "        \n",
    "        y = lof_OD.fit_predict(X)\n",
    "        X = X[y == 1, :]\n",
    "        \n",
    "        # Train model with LOF Novelty Detection, using train set inliers\n",
    "        # Parameter 'contamination' does not matter at this point\n",
    "        self.model = LocalOutlierFactor(novelty=True, contamination=self.contamination, n_neighbors=self.n_neighbors)\n",
    "        self.model = self.model.fit(X)\n",
    "        return self\n",
    "    \n",
    "    def predict(self, X):\n",
    "        X = self._1Dto2D(X)\n",
    "        is_inlier = (self.model.predict(X) == 1)\n",
    "        return is_inlier\n",
    "    \n",
    "    def _1Dto2D(self, X):\n",
    "        shape = (len(X),1)\n",
    "        return np.hstack([np.array(X.tolist()).reshape(shape), np.zeros(shape)])\n",
    "\n",
    "show_stats(LOF(n_neighbors=2000), projects_train, projects_test, bin_size=0.01)"
   ]
  },
  {
   "cell_type": "markdown",
   "metadata": {},
   "source": [
    "## Avaliando a contaminação média encontrada\n",
    "\n",
    "Nesta seção, os diversos modelos implementados acima são aplicados a várias escolhas aleatórias de conjuntos de treino/teste. Ao final, o desempenho de cada modelo é avaliado."
   ]
  },
  {
   "cell_type": "code",
   "execution_count": 27,
   "metadata": {},
   "outputs": [
    {
     "name": "stdout",
     "output_type": "stream",
     "text": [
      "Metric Gaussian test elapsed time in seconds: 0.0202\n",
      "Metric Gaussian training elapsed time in seconds: 0.3150\n",
      "Metric Log-normal test elapsed time in seconds: 0.0468\n",
      "Metric Log-normal training elapsed time in seconds: 0.3695\n",
      "Metric Gamma test elapsed time in seconds: 0.0414\n",
      "Metric Gamma training elapsed time in seconds: 0.3245\n",
      "Metric KDE-Gauss test elapsed time in seconds: 17.2490\n",
      "Metric KDE-Gauss training elapsed time in seconds: 8.5339\n",
      "Metric LOF test elapsed time in seconds: 37.5647\n",
      "Metric LOF training elapsed time in seconds: 513.2193\n"
     ]
    }
   ],
   "source": [
    "models = [{\n",
    "    'name': 'Gaussian',\n",
    "    'curve': Gaussian(),\n",
    "    'results': []\n",
    "},{\n",
    "    'name': 'Log-normal',\n",
    "    'curve': Lognormal(transform=lambda X: X + 0.1),\n",
    "    'results': []\n",
    "},{\n",
    "    'name': 'Gamma',\n",
    "    'curve': Gamma(transform=lambda X: X + 0.1),\n",
    "    'results': []\n",
    "},{\n",
    "    'name': 'KDE-Gauss',\n",
    "    'curve': KDE(),\n",
    "    'results': []\n",
    "},{\n",
    "    'name': 'LOF',\n",
    "    'curve': LOF(n_neighbors=2000),\n",
    "    'results': []\n",
    "}]\n",
    "\n",
    "TEST_ITERATIONS = 100\n",
    "train_elapsed_time = {}\n",
    "test_elapsed_time = {}\n",
    "\n",
    "for i in range(TEST_ITERATIONS):\n",
    "    # Separate train and test sets\n",
    "    projects_train, projects_test = train_test_split(segment_projects, test_size=0.3)\n",
    "    \n",
    "    # Get results for each model\n",
    "    for model in models:\n",
    "        start_time = time.time()\n",
    "        model['curve'] = model['curve'].fit(projects_train)\n",
    "        ending_time = time.time()\n",
    "        elapsed_time = ending_time - start_time\n",
    "        \n",
    "        model_name = model['name']\n",
    "        train_elapsed_time.setdefault(model_name, 0.0)\n",
    "        train_elapsed_time[model_name] += elapsed_time\n",
    "\n",
    "        start_time = time.time()\n",
    "        inlier_filter = model['curve'].predict(projects_test)\n",
    "        ending_time = time.time()\n",
    "        elapsed_time = ending_time - start_time\n",
    "\n",
    "        model_name = model['name']\n",
    "        test_elapsed_time.setdefault(model_name, 0.0)\n",
    "        test_elapsed_time[model_name] += elapsed_time\n",
    "\n",
    "        contamination_found = sum(~inlier_filter) / len(projects_test)\n",
    "        model['results'].append(100 * contamination_found)\n",
    "        \n",
    "for key in test_elapsed_time:\n",
    "    print(\"Metric %s test elapsed time in seconds: %.4lf\" % (key, test_elapsed_time[key]))\n",
    "    print(\"Metric %s training elapsed time in seconds: %.4lf\" % (key, train_elapsed_time[key]))"
   ]
  },
  {
   "cell_type": "code",
   "execution_count": 29,
   "metadata": {},
   "outputs": [
    {
     "name": "stdout",
     "output_type": "stream",
     "text": [
      "Média Gaussian: 4.66%\n",
      "Média Log-normal: 6.26%\n",
      "Média Gamma: 5.65%\n",
      "Média KDE-Gauss: 7.00%\n",
      "Média LOF: 8.98%\n"
     ]
    },
    {
     "data": {
      "image/png": "[encoded data removed]",
      "text/plain": [
       "<Figure size 1152x288 with 1 Axes>"
      ]
     },
     "metadata": {},
     "output_type": "display_data"
    }
   ],
   "source": [
    "sns.set(style='whitegrid', palette='dark')\n",
    "f, ax = plt.subplots(figsize=(16,4))\n",
    "\n",
    "bin_size = 0.1\n",
    "for model in models:\n",
    "    results = model['results']\n",
    "    print('Média %s: %.2lf%%' % (model['name'], np.mean(results)))\n",
    "    bins = max(1, int((max(results) - min(results)) // bin_size) + 1)\n",
    "    sns.distplot(results, label=model['name'], kde=False, bins=bins)\n",
    "\n",
    "plt.legend(frameon=True)\n",
    "plt.xlabel('Contamination found (%)')\n",
    "plt.ylabel('# tests')\n",
    "plt.grid(True)"
   ]
  },
  {
   "cell_type": "code",
   "execution_count": null,
   "metadata": {},
   "outputs": [],
   "source": []
  }
 ],
 "metadata": {
  "kernelspec": {
   "display_name": "Python 3",
   "language": "python",
   "name": "python3"
  },
  "language_info": {
   "codemirror_mode": {
    "name": "ipython",
    "version": 3
   },
   "file_extension": ".py",
   "mimetype": "text/x-python",
   "name": "python",
   "nbconvert_exporter": "python",
   "pygments_lexer": "ipython3",
   "version": "3.6.6"
  }
 },
 "nbformat": 4,
 "nbformat_minor": 2
}
