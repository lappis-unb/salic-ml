{
 "cells": [
  {
   "cell_type": "markdown",
   "metadata": {},
   "source": [
    "# Análise comparativa entre os itens de projetos culturais\n",
    "---\n",
    "\n",
    "**Objetivo:** realizar uma análise comparativa entre os itens de um projeto específico com os itens dos outros projetos culturais de um mesmo segmento. Nesta análise, será investigada a porcentagem de itens de um projeto que estão entre os itens mais frequentes de seu segmento."
   ]
  },
  {
   "cell_type": "markdown",
   "metadata": {},
   "source": [
    "#### Importando módulos necessários"
   ]
  },
  {
   "cell_type": "code",
   "execution_count": 16,
   "metadata": {},
   "outputs": [
    {
     "name": "stdout",
     "output_type": "stream",
     "text": [
      "Populating the interactive namespace from numpy and matplotlib\n"
     ]
    }
   ],
   "source": [
    "%pylab inline\n",
    "import scipy\n",
    "import pandas as pd\n",
    "import seaborn as sns"
   ]
  },
  {
   "cell_type": "markdown",
   "metadata": {},
   "source": [
    "#### Carregando e mostrando dataset a ser utilizado ao longo do estudo"
   ]
  },
  {
   "cell_type": "code",
   "execution_count": 2,
   "metadata": {},
   "outputs": [
    {
     "name": "stdout",
     "output_type": "stream",
     "text": [
      "Index(['idPronac', 'PRONAC', 'idPlanilhaAprovacao', 'Item', 'idPlanilhaItens',\n",
      "       'Unidade', 'QtDias', 'QtItem', 'nrOcorrencia', 'VlUnitarioSolicitado',\n",
      "       'VlTotalSolicitado', 'VlUnitarioAprovado', 'VlTotalAprovado', 'UfItem',\n",
      "       'MunicipioItem', 'Etapa', 'idArea', 'Area', 'idSegmento', 'Segmento',\n",
      "       'idProduto', 'Produto', 'DataProjeto', 'cdCidade', 'cdEtapa'],\n",
      "      dtype='object')\n"
     ]
    },
    {
     "data": {
      "text/html": [
       "<div>\n",
       "<style scoped>\n",
       "    .dataframe tbody tr th:only-of-type {\n",
       "        vertical-align: middle;\n",
       "    }\n",
       "\n",
       "    .dataframe tbody tr th {\n",
       "        vertical-align: top;\n",
       "    }\n",
       "\n",
       "    .dataframe thead th {\n",
       "        text-align: right;\n",
       "    }\n",
       "</style>\n",
       "<table border=\"1\" class=\"dataframe\">\n",
       "  <thead>\n",
       "    <tr style=\"text-align: right;\">\n",
       "      <th></th>\n",
       "      <th>idPronac</th>\n",
       "      <th>PRONAC</th>\n",
       "      <th>idPlanilhaAprovacao</th>\n",
       "      <th>Item</th>\n",
       "      <th>idPlanilhaItens</th>\n",
       "      <th>Unidade</th>\n",
       "      <th>QtDias</th>\n",
       "      <th>QtItem</th>\n",
       "      <th>nrOcorrencia</th>\n",
       "      <th>VlUnitarioSolicitado</th>\n",
       "      <th>...</th>\n",
       "      <th>Etapa</th>\n",
       "      <th>idArea</th>\n",
       "      <th>Area</th>\n",
       "      <th>idSegmento</th>\n",
       "      <th>Segmento</th>\n",
       "      <th>idProduto</th>\n",
       "      <th>Produto</th>\n",
       "      <th>DataProjeto</th>\n",
       "      <th>cdCidade</th>\n",
       "      <th>cdEtapa</th>\n",
       "    </tr>\n",
       "  </thead>\n",
       "  <tbody>\n",
       "    <tr>\n",
       "      <th>0</th>\n",
       "      <td>121051</td>\n",
       "      <td>100855</td>\n",
       "      <td>792860</td>\n",
       "      <td>Passagens Aéreas (Descrever os trechos na tela...</td>\n",
       "      <td>131</td>\n",
       "      <td>Unidade</td>\n",
       "      <td>150</td>\n",
       "      <td>40.0</td>\n",
       "      <td>1.0</td>\n",
       "      <td>150.0</td>\n",
       "      <td>...</td>\n",
       "      <td>2 - Produção / Execução</td>\n",
       "      <td>1</td>\n",
       "      <td>Artes Cênicas</td>\n",
       "      <td>11</td>\n",
       "      <td>Teatro</td>\n",
       "      <td>19</td>\n",
       "      <td>Espetáculo de Artes Cênicas</td>\n",
       "      <td>2010-02-19 11:53:49.387</td>\n",
       "      <td>330455</td>\n",
       "      <td>2</td>\n",
       "    </tr>\n",
       "    <tr>\n",
       "      <th>1</th>\n",
       "      <td>121051</td>\n",
       "      <td>100855</td>\n",
       "      <td>792883</td>\n",
       "      <td>Bonecos – Criação</td>\n",
       "      <td>3599</td>\n",
       "      <td>Verba</td>\n",
       "      <td>90</td>\n",
       "      <td>1.0</td>\n",
       "      <td>1.0</td>\n",
       "      <td>4000.0</td>\n",
       "      <td>...</td>\n",
       "      <td>2 - Produção / Execução</td>\n",
       "      <td>1</td>\n",
       "      <td>Artes Cênicas</td>\n",
       "      <td>11</td>\n",
       "      <td>Teatro</td>\n",
       "      <td>19</td>\n",
       "      <td>Espetáculo de Artes Cênicas</td>\n",
       "      <td>2010-02-19 11:53:49.387</td>\n",
       "      <td>330455</td>\n",
       "      <td>2</td>\n",
       "    </tr>\n",
       "    <tr>\n",
       "      <th>2</th>\n",
       "      <td>121051</td>\n",
       "      <td>100855</td>\n",
       "      <td>792903</td>\n",
       "      <td>Produtor executivo</td>\n",
       "      <td>53</td>\n",
       "      <td>Verba</td>\n",
       "      <td>90</td>\n",
       "      <td>3.0</td>\n",
       "      <td>1.0</td>\n",
       "      <td>3000.0</td>\n",
       "      <td>...</td>\n",
       "      <td>2 - Produção / Execução</td>\n",
       "      <td>1</td>\n",
       "      <td>Artes Cênicas</td>\n",
       "      <td>11</td>\n",
       "      <td>Teatro</td>\n",
       "      <td>19</td>\n",
       "      <td>Espetáculo de Artes Cênicas</td>\n",
       "      <td>2010-02-19 11:53:49.387</td>\n",
       "      <td>355030</td>\n",
       "      <td>2</td>\n",
       "    </tr>\n",
       "    <tr>\n",
       "      <th>3</th>\n",
       "      <td>119968</td>\n",
       "      <td>98671</td>\n",
       "      <td>109095</td>\n",
       "      <td>Assistente de produção</td>\n",
       "      <td>1037</td>\n",
       "      <td>Verba</td>\n",
       "      <td>30</td>\n",
       "      <td>1.0</td>\n",
       "      <td>1.0</td>\n",
       "      <td>1000.0</td>\n",
       "      <td>...</td>\n",
       "      <td>1 - Pré-Produção / Preparação</td>\n",
       "      <td>3</td>\n",
       "      <td>Música</td>\n",
       "      <td>31</td>\n",
       "      <td>Música Popular Cantada</td>\n",
       "      <td>51</td>\n",
       "      <td>Apresentação Musical</td>\n",
       "      <td>2009-12-28 11:37:57.830</td>\n",
       "      <td>330455</td>\n",
       "      <td>1</td>\n",
       "    </tr>\n",
       "    <tr>\n",
       "      <th>4</th>\n",
       "      <td>112836</td>\n",
       "      <td>91695</td>\n",
       "      <td>116511</td>\n",
       "      <td>Designer</td>\n",
       "      <td>103</td>\n",
       "      <td>Mês</td>\n",
       "      <td>378</td>\n",
       "      <td>1.0</td>\n",
       "      <td>18.0</td>\n",
       "      <td>2000.0</td>\n",
       "      <td>...</td>\n",
       "      <td>2 - Produção / Execução</td>\n",
       "      <td>7</td>\n",
       "      <td>Artes Integradas</td>\n",
       "      <td>71</td>\n",
       "      <td>Artes Integradas</td>\n",
       "      <td>17</td>\n",
       "      <td>Pesquisa</td>\n",
       "      <td>2009-05-21 10:48:48.790</td>\n",
       "      <td>431490</td>\n",
       "      <td>2</td>\n",
       "    </tr>\n",
       "  </tbody>\n",
       "</table>\n",
       "<p>5 rows × 25 columns</p>\n",
       "</div>"
      ],
      "text/plain": [
       "   idPronac  PRONAC  idPlanilhaAprovacao  \\\n",
       "0    121051  100855               792860   \n",
       "1    121051  100855               792883   \n",
       "2    121051  100855               792903   \n",
       "3    119968   98671               109095   \n",
       "4    112836   91695               116511   \n",
       "\n",
       "                                                Item  idPlanilhaItens  \\\n",
       "0  Passagens Aéreas (Descrever os trechos na tela...              131   \n",
       "1                                  Bonecos – Criação             3599   \n",
       "2                                 Produtor executivo               53   \n",
       "3                             Assistente de produção             1037   \n",
       "4                                           Designer              103   \n",
       "\n",
       "   Unidade  QtDias  QtItem  nrOcorrencia  VlUnitarioSolicitado   ...    \\\n",
       "0  Unidade     150    40.0           1.0                 150.0   ...     \n",
       "1    Verba      90     1.0           1.0                4000.0   ...     \n",
       "2    Verba      90     3.0           1.0                3000.0   ...     \n",
       "3    Verba      30     1.0           1.0                1000.0   ...     \n",
       "4      Mês     378     1.0          18.0                2000.0   ...     \n",
       "\n",
       "                           Etapa  idArea              Area idSegmento  \\\n",
       "0        2 - Produção / Execução       1     Artes Cênicas         11   \n",
       "1        2 - Produção / Execução       1     Artes Cênicas         11   \n",
       "2        2 - Produção / Execução       1     Artes Cênicas         11   \n",
       "3  1 - Pré-Produção / Preparação       3            Música         31   \n",
       "4        2 - Produção / Execução       7  Artes Integradas         71   \n",
       "\n",
       "                 Segmento idProduto                      Produto  \\\n",
       "0                  Teatro        19  Espetáculo de Artes Cênicas   \n",
       "1                  Teatro        19  Espetáculo de Artes Cênicas   \n",
       "2                  Teatro        19  Espetáculo de Artes Cênicas   \n",
       "3  Música Popular Cantada        51         Apresentação Musical   \n",
       "4        Artes Integradas        17                     Pesquisa   \n",
       "\n",
       "               DataProjeto cdCidade cdEtapa  \n",
       "0  2010-02-19 11:53:49.387   330455       2  \n",
       "1  2010-02-19 11:53:49.387   330455       2  \n",
       "2  2010-02-19 11:53:49.387   355030       2  \n",
       "3  2009-12-28 11:37:57.830   330455       1  \n",
       "4  2009-05-21 10:48:48.790   431490       2  \n",
       "\n",
       "[5 rows x 25 columns]"
      ]
     },
     "execution_count": 2,
     "metadata": {},
     "output_type": "execute_result"
    }
   ],
   "source": [
    "df = pd.read_csv('../../data/raw/planilha_orcamentaria.csv')\n",
    "print(df.columns)\n",
    "df.head()"
   ]
  },
  {
   "cell_type": "markdown",
   "metadata": {},
   "source": [
    "#### Gerando tabela com o número de ocorrências de itens por segmento"
   ]
  },
  {
   "cell_type": "code",
   "execution_count": 3,
   "metadata": {},
   "outputs": [
    {
     "data": {
      "text/html": [
       "<div>\n",
       "<style scoped>\n",
       "    .dataframe tbody tr th:only-of-type {\n",
       "        vertical-align: middle;\n",
       "    }\n",
       "\n",
       "    .dataframe tbody tr th {\n",
       "        vertical-align: top;\n",
       "    }\n",
       "\n",
       "    .dataframe thead th {\n",
       "        text-align: right;\n",
       "    }\n",
       "</style>\n",
       "<table border=\"1\" class=\"dataframe\">\n",
       "  <thead>\n",
       "    <tr style=\"text-align: right;\">\n",
       "      <th></th>\n",
       "      <th></th>\n",
       "      <th>itemOccurrences</th>\n",
       "    </tr>\n",
       "    <tr>\n",
       "      <th>idSegmento</th>\n",
       "      <th>idPlanilhaItens</th>\n",
       "      <th></th>\n",
       "    </tr>\n",
       "  </thead>\n",
       "  <tbody>\n",
       "    <tr>\n",
       "      <th rowspan=\"5\" valign=\"top\">11</th>\n",
       "      <th>10</th>\n",
       "      <td>526</td>\n",
       "    </tr>\n",
       "    <tr>\n",
       "      <th>12</th>\n",
       "      <td>594</td>\n",
       "    </tr>\n",
       "    <tr>\n",
       "      <th>13</th>\n",
       "      <td>763</td>\n",
       "    </tr>\n",
       "    <tr>\n",
       "      <th>14</th>\n",
       "      <td>12</td>\n",
       "    </tr>\n",
       "    <tr>\n",
       "      <th>15</th>\n",
       "      <td>513</td>\n",
       "    </tr>\n",
       "  </tbody>\n",
       "</table>\n",
       "</div>"
      ],
      "text/plain": [
       "                            itemOccurrences\n",
       "idSegmento idPlanilhaItens                 \n",
       "11         10                           526\n",
       "           12                           594\n",
       "           13                           763\n",
       "           14                            12\n",
       "           15                           513"
      ]
     },
     "execution_count": 3,
     "metadata": {},
     "output_type": "execute_result"
    }
   ],
   "source": [
    "items = df[['PRONAC', 'idSegmento', 'idPlanilhaItens']].drop_duplicates()\n",
    "items_occurrences = items.groupby(['idSegmento', 'idPlanilhaItens']).count()\n",
    "items_occurrences = items_occurrences.rename(columns={'PRONAC': 'itemOccurrences'})\n",
    "items_occurrences.head()"
   ]
  },
  {
   "cell_type": "markdown",
   "metadata": {},
   "source": [
    "#### Gerando tabela com o número de projetos por segmento"
   ]
  },
  {
   "cell_type": "code",
   "execution_count": 4,
   "metadata": {},
   "outputs": [
    {
     "data": {
      "text/html": [
       "<div>\n",
       "<style scoped>\n",
       "    .dataframe tbody tr th:only-of-type {\n",
       "        vertical-align: middle;\n",
       "    }\n",
       "\n",
       "    .dataframe tbody tr th {\n",
       "        vertical-align: top;\n",
       "    }\n",
       "\n",
       "    .dataframe thead th {\n",
       "        text-align: right;\n",
       "    }\n",
       "</style>\n",
       "<table border=\"1\" class=\"dataframe\">\n",
       "  <thead>\n",
       "    <tr style=\"text-align: right;\">\n",
       "      <th></th>\n",
       "      <th>numProjects</th>\n",
       "    </tr>\n",
       "    <tr>\n",
       "      <th>idSegmento</th>\n",
       "      <th></th>\n",
       "    </tr>\n",
       "  </thead>\n",
       "  <tbody>\n",
       "    <tr>\n",
       "      <th>11</th>\n",
       "      <td>9793</td>\n",
       "    </tr>\n",
       "    <tr>\n",
       "      <th>12</th>\n",
       "      <td>2415</td>\n",
       "    </tr>\n",
       "    <tr>\n",
       "      <th>13</th>\n",
       "      <td>415</td>\n",
       "    </tr>\n",
       "    <tr>\n",
       "      <th>14</th>\n",
       "      <td>128</td>\n",
       "    </tr>\n",
       "    <tr>\n",
       "      <th>15</th>\n",
       "      <td>4</td>\n",
       "    </tr>\n",
       "  </tbody>\n",
       "</table>\n",
       "</div>"
      ],
      "text/plain": [
       "            numProjects\n",
       "idSegmento             \n",
       "11                 9793\n",
       "12                 2415\n",
       "13                  415\n",
       "14                  128\n",
       "15                    4"
      ]
     },
     "execution_count": 4,
     "metadata": {},
     "output_type": "execute_result"
    }
   ],
   "source": [
    "num_projects = items.drop('idPlanilhaItens', axis=1).set_index('idSegmento').drop_duplicates()\n",
    "num_projects = num_projects.groupby('idSegmento').count()\n",
    "num_projects = num_projects.rename(columns={'PRONAC': 'numProjects'})\n",
    "num_projects.head()"
   ]
  },
  {
   "cell_type": "markdown",
   "metadata": {},
   "source": [
    "## Estudo de caso: análise de um projeto específico\n",
    "---\n",
    "\n",
    "Escolheu-se aleatoriamente um projeto cultural para analisar seus itens com relação aos itens mais comuns de seu segmento."
   ]
  },
  {
   "cell_type": "markdown",
   "metadata": {},
   "source": [
    "#### Escolhendo um projeto e gerando sua lista de itens"
   ]
  },
  {
   "cell_type": "code",
   "execution_count": 5,
   "metadata": {},
   "outputs": [
    {
     "data": {
      "text/plain": [
       "array([  74,   67,   49,   73,   61, 2605,  178,   12,   72,  143, 2620,\n",
       "         68,   85, 2634,  118,   62,  142,  206,  192,   63,   23,   27,\n",
       "         71, 2632,   24,  150,   81,  201, 1219, 2692, 2631, 1002,   57,\n",
       "       1120,   53,   75,  179,   83, 1037, 2715, 2611, 1050, 2667,   66,\n",
       "       2695,  191,  144, 2633,   40,   22,  117,  189, 2639,  134])"
      ]
     },
     "execution_count": 5,
     "metadata": {},
     "output_type": "execute_result"
    }
   ],
   "source": [
    "pronac = 90105\n",
    "project_items = items[items['PRONAC'] == pronac]\n",
    "project = project_items.iloc[0]\n",
    "project_items = project_items.drop(columns=['PRONAC', 'idSegmento'])\n",
    "project_items = project_items.values[:,0]\n",
    "project_items"
   ]
  },
  {
   "cell_type": "markdown",
   "metadata": {},
   "source": [
    "#### Obtendo a lista dos itens do segmento do projeto escolhido e ordenando-os por seus números de ocorrências"
   ]
  },
  {
   "cell_type": "code",
   "execution_count": 6,
   "metadata": {},
   "outputs": [
    {
     "name": "stdout",
     "output_type": "stream",
     "text": [
      "(1359, 1)\n"
     ]
    },
    {
     "data": {
      "image/png": "[encoded data removed]",
      "text/plain": [
       "<matplotlib.figure.Figure at 0x7f79667307f0>"
      ]
     },
     "metadata": {},
     "output_type": "display_data"
    }
   ],
   "source": [
    "segment = project['idSegmento']\n",
    "items_segment = items_occurrences.reset_index('idPlanilhaItens').loc[segment]\n",
    "items_segment = items_segment.reset_index('idSegmento', drop=True)\n",
    "items_segment = items_segment.set_index('idPlanilhaItens')\n",
    "items_segment = items_segment.sort_values(by=['itemOccurrences'], ascending=False)\n",
    "print(items_segment.shape)\n",
    "\n",
    "plt.plot(items_segment['itemOccurrences'].values, '.')\n",
    "plt.title('Relação de itens e suas ocorrências')\n",
    "plt.ylabel('Número de ocorrências')\n",
    "plt.xlabel('Posição do item no ranking')\n",
    "plt.grid(True)"
   ]
  },
  {
   "cell_type": "markdown",
   "metadata": {},
   "source": [
    "#### Obtendo a lista dos itens mais comuns do segmento"
   ]
  },
  {
   "cell_type": "code",
   "execution_count": 7,
   "metadata": {},
   "outputs": [
    {
     "name": "stdout",
     "output_type": "stream",
     "text": [
      "(135, 1)\n"
     ]
    },
    {
     "data": {
      "text/html": [
       "<div>\n",
       "<style scoped>\n",
       "    .dataframe tbody tr th:only-of-type {\n",
       "        vertical-align: middle;\n",
       "    }\n",
       "\n",
       "    .dataframe tbody tr th {\n",
       "        vertical-align: top;\n",
       "    }\n",
       "\n",
       "    .dataframe thead th {\n",
       "        text-align: right;\n",
       "    }\n",
       "</style>\n",
       "<table border=\"1\" class=\"dataframe\">\n",
       "  <thead>\n",
       "    <tr style=\"text-align: right;\">\n",
       "      <th></th>\n",
       "      <th>idPlanilhaItens</th>\n",
       "    </tr>\n",
       "  </thead>\n",
       "  <tbody>\n",
       "    <tr>\n",
       "      <th>0</th>\n",
       "      <td>142</td>\n",
       "    </tr>\n",
       "    <tr>\n",
       "      <th>1</th>\n",
       "      <td>5249</td>\n",
       "    </tr>\n",
       "    <tr>\n",
       "      <th>2</th>\n",
       "      <td>191</td>\n",
       "    </tr>\n",
       "    <tr>\n",
       "      <th>3</th>\n",
       "      <td>2743</td>\n",
       "    </tr>\n",
       "    <tr>\n",
       "      <th>4</th>\n",
       "      <td>53</td>\n",
       "    </tr>\n",
       "  </tbody>\n",
       "</table>\n",
       "</div>"
      ],
      "text/plain": [
       "   idPlanilhaItens\n",
       "0              142\n",
       "1             5249\n",
       "2              191\n",
       "3             2743\n",
       "4               53"
      ]
     },
     "execution_count": 7,
     "metadata": {},
     "output_type": "execute_result"
    }
   ],
   "source": [
    "top_items_segment = items_segment.iloc[:len(items_segment)//10]\n",
    "top_items_segment = top_items_segment.drop(columns=['itemOccurrences'])\n",
    "top_items_segment = top_items_segment.reset_index('idPlanilhaItens')\n",
    "print(top_items_segment.shape)\n",
    "top_items_segment.head()"
   ]
  },
  {
   "cell_type": "markdown",
   "metadata": {},
   "source": [
    "#### Calculando a porcentagem de itens do projeto escolhido que estão entre os itens mais comuns"
   ]
  },
  {
   "cell_type": "code",
   "execution_count": 8,
   "metadata": {},
   "outputs": [
    {
     "name": "stdout",
     "output_type": "stream",
     "text": [
      "Itens entre os mais ocorridos: 44\n",
      "Número de itens do projeto: 54\n",
      "Razão: 0.81\n"
     ]
    }
   ],
   "source": [
    "found_in_top = sum(top_items_segment.isin(project_items))[0]\n",
    "total_items = len(project_items)\n",
    "print('Itens entre os mais ocorridos: {}'.format(found_in_top))\n",
    "print('Número de itens do projeto: {}'.format(total_items))\n",
    "print('Razão: %.2f' % (found_in_top / total_items))"
   ]
  },
  {
   "cell_type": "markdown",
   "metadata": {},
   "source": [
    "## Análise por segmento\n",
    "---\n",
    "\n",
    "Escolheu-se aleatoriamente um segmento para analisar a relação entre os itens de cada projeto com os mais comuns do segmento."
   ]
  },
  {
   "cell_type": "markdown",
   "metadata": {},
   "source": [
    "#### Definindo funções para encontrar os itens mais comuns de um segmento e calcular as métricas definidas acima"
   ]
  },
  {
   "cell_type": "code",
   "execution_count": 9,
   "metadata": {},
   "outputs": [],
   "source": [
    "def top_items_segment(segment, percentage=0.1):\n",
    "    items_segment = items_occurrences.reset_index('idPlanilhaItens').loc[segment]\n",
    "    items_segment = items_segment.reset_index('idSegmento', drop=True)\n",
    "    items_segment = items_segment.set_index('idPlanilhaItens')\n",
    "    items_segment = items_segment.sort_values(by=['itemOccurrences'], ascending=False)\n",
    "    \n",
    "    top_items_segment = items_segment.iloc[:int(len(items_segment)*percentage)]\n",
    "    top_items_segment = top_items_segment.drop(columns=['itemOccurrences'])\n",
    "    top_items_segment = top_items_segment.reset_index('idPlanilhaItens')\n",
    "\n",
    "    return top_items_segment\n",
    "\n",
    "def perc_items_in_top(pronac, top_items_segment):\n",
    "    project_items = items[items['PRONAC'] == pronac]\n",
    "    project = project_items.iloc[0]\n",
    "    project_items = project_items.drop(columns=['PRONAC', 'idSegmento'])\n",
    "    project_items = project_items.values[:,0]\n",
    "    \n",
    "    found_in_top = sum(top_items_segment.isin(project_items))[0]\n",
    "    total_items = len(project_items)\n",
    "    \n",
    "    return found_in_top / total_items"
   ]
  },
  {
   "cell_type": "markdown",
   "metadata": {},
   "source": [
    "#### Calculando as métricas de porcentagem de itens para todos os projetos do segmento escolhido"
   ]
  },
  {
   "cell_type": "code",
   "execution_count": 10,
   "metadata": {},
   "outputs": [
    {
     "name": "stdout",
     "output_type": "stream",
     "text": [
      "9793 [100855  97310  90105 ... 124219 133676 170708]\n",
      "CPU times: user 20 ms, sys: 0 ns, total: 20 ms\n",
      "Wall time: 21.1 ms\n",
      "CPU times: user 1min 39s, sys: 72 ms, total: 1min 39s\n",
      "Wall time: 1min 40s\n"
     ]
    }
   ],
   "source": [
    "segment = '11'\n",
    "segment_projects = items[items['idSegmento'] == segment]\n",
    "segment_projects = segment_projects.drop_duplicates(['PRONAC'])\n",
    "segment_projects = segment_projects['PRONAC'].values\n",
    "print(len(segment_projects), segment_projects)\n",
    "\n",
    "%time top_items = top_items_segment(segment)\n",
    "%time segment_projects = pd.Series([perc_items_in_top(project, top_items) for project in segment_projects])"
   ]
  },
  {
   "cell_type": "markdown",
   "metadata": {},
   "source": [
    "#### Gerando gráficos dos resultados encontrados"
   ]
  },
  {
   "cell_type": "code",
   "execution_count": 33,
   "metadata": {
    "scrolled": true
   },
   "outputs": [
    {
     "data": {
      "image/png": "[encoded data removed]",
      "text/plain": [
       "<matplotlib.figure.Figure at 0x7f795e8c1978>"
      ]
     },
     "metadata": {},
     "output_type": "display_data"
    }
   ],
   "source": [
    "sns.set(style='whitegrid', palette='dark')\n",
    "f, ax = plt.subplots(figsize=(8,4))\n",
    "\n",
    "sns.distplot(segment_projects, bins=100, kde=False)\n",
    "plt.title('Histograma de projetos de acordo com a\\nporcentagem de seus itens entre os mais comuns')\n",
    "plt.ylabel('Número de projetos')\n",
    "plt.xlabel('Porcentagem de itens de um projeto entre os mais comuns')\n",
    "plt.grid(True)"
   ]
  },
  {
   "cell_type": "markdown",
   "metadata": {},
   "source": [
    "#### Separando os conjuntos de treino e teste"
   ]
  },
  {
   "cell_type": "code",
   "execution_count": 34,
   "metadata": {},
   "outputs": [
    {
     "data": {
      "text/plain": [
       "423     1.000000\n",
       "8691    0.923077\n",
       "5919    0.580645\n",
       "3410    0.962963\n",
       "2779    0.714286\n",
       "dtype: float64"
      ]
     },
     "metadata": {},
     "output_type": "display_data"
    },
    {
     "data": {
      "text/plain": [
       "7794    0.611111\n",
       "7278    0.814815\n",
       "314     0.942857\n",
       "6575    0.657895\n",
       "7962    0.944444\n",
       "dtype: float64"
      ]
     },
     "metadata": {},
     "output_type": "display_data"
    }
   ],
   "source": [
    "from sklearn.model_selection import train_test_split\n",
    "projects_train, projects_test = train_test_split(segment_projects, test_size=0.3)\n",
    "\n",
    "display(projects_train.head())\n",
    "display(projects_test.head())"
   ]
  },
  {
   "cell_type": "markdown",
   "metadata": {},
   "source": [
    "### Análise Gaussiana"
   ]
  },
  {
   "cell_type": "code",
   "execution_count": 53,
   "metadata": {},
   "outputs": [
    {
     "name": "stdout",
     "output_type": "stream",
     "text": [
      "Média esperada: 0.79\n",
      "Desvio padrão esperado: 0.14\n",
      "\n",
      "Percentual de outliers esperado: 7.19%\n",
      "Percentual de outliers encontrado: 6.67%\n"
     ]
    }
   ],
   "source": [
    "expected_mean = np.mean(projects_train)\n",
    "expected_std = np.std(projects_train)\n",
    "print('Média esperada: %.2lf' % expected_mean)\n",
    "print('Desvio padrão esperado: %.2lf\\n' % expected_std)\n",
    "\n",
    "k = 1.8\n",
    "lower_limit = expected_mean - k * expected_std\n",
    "upper_limit = expected_mean + k * expected_std\n",
    "contamination = 2 * (1 - scipy.stats.norm(expected_mean, expected_std).cdf(upper_limit))\n",
    "\n",
    "inlier_filter = ((projects_test >= lower_limit) & (projects_test <= upper_limit))\n",
    "contamination_found = sum(~inlier_filter) / len(projects_test)\n",
    "\n",
    "print('Percentual de outliers esperado: %.2lf%%' % (100 * contamination))\n",
    "print('Percentual de outliers encontrado: %.2lf%%' % (100 * contamination_found))"
   ]
  },
  {
   "cell_type": "code",
   "execution_count": 54,
   "metadata": {},
   "outputs": [
    {
     "data": {
      "text/plain": [
       "Text(0.5,1,'Inlier/Outlier division using Gaussian Estimation')"
      ]
     },
     "execution_count": 54,
     "metadata": {},
     "output_type": "execute_result"
    },
    {
     "data": {
      "image/png": "[encoded data removed]",
      "text/plain": [
       "<matplotlib.figure.Figure at 0x7f795d450c88>"
      ]
     },
     "metadata": {},
     "output_type": "display_data"
    }
   ],
   "source": [
    "sns.set(style='whitegrid', palette='dark')\n",
    "f, ax = plt.subplots(figsize=(16,8))\n",
    "\n",
    "inliers = projects_test[inlier_filter].values\n",
    "bins = max(1, int((max(inliers) - min(inliers)) * 50 + 1))\n",
    "sns.distplot(inliers, label=\"inliers\", color=\"b\", kde=False, bins=bins)\n",
    "\n",
    "outliers = projects_test[~inlier_filter].values\n",
    "bins = max(1, int((max(outliers) - min(outliers)) * 50 + 1))\n",
    "sns.distplot(outliers, label=\"outliers\", color=\"r\", kde=False, bins=bins)\n",
    "\n",
    "plt.legend(frameon=True)\n",
    "plt.ylabel('# projects')\n",
    "plt.xlabel('% common items')\n",
    "plt.title('Inlier/Outlier division using Gaussian Estimation')"
   ]
  },
  {
   "cell_type": "markdown",
   "metadata": {},
   "source": [
    "### Análise LOF"
   ]
  },
  {
   "cell_type": "code",
   "execution_count": 55,
   "metadata": {},
   "outputs": [],
   "source": [
    "def to_2D(x):\n",
    "    ''' Given a pd.Series, return a \"2D\" np.Array with zeros in one dimension.\n",
    "    '''\n",
    "    shape = (len(x),1)\n",
    "    return np.hstack([np.array(x.tolist()).reshape(shape), np.zeros(shape)])"
   ]
  },
  {
   "cell_type": "code",
   "execution_count": 58,
   "metadata": {},
   "outputs": [
    {
     "name": "stdout",
     "output_type": "stream",
     "text": [
      "Percentual de outliers esperado: 7.19%\n",
      "Percentual de outliers encontrado: 36.39%\n"
     ]
    }
   ],
   "source": [
    "from sklearn.neighbors import LocalOutlierFactor\n",
    "\n",
    "# Same expected outliers percentual as gaussian method\n",
    "contamination = 2 * (1 - scipy.stats.norm(0,1).cdf(k))\n",
    "\n",
    "# Work well for LOF\n",
    "n_neighbors = 20 # max(20, int(len(projects_train)/100))\n",
    "\n",
    "# Convert sets to LOF standard\n",
    "X_train = to_2D(projects_train)\n",
    "X_test = to_2D(projects_test)\n",
    "\n",
    "# Get inliers of the training set with LOF Outlier Detection\n",
    "lof_OD = LocalOutlierFactor(n_neighbors=n_neighbors, contamination=contamination)\n",
    "y_train = lof_OD.fit_predict(X_train)\n",
    "X_train = X_train[y_train == 1, :]\n",
    "\n",
    "# Train model with LOF Novelty Detection, using train set inliers\n",
    "# Parameter 'contamination' does not matter at this point\n",
    "lof_ND = LocalOutlierFactor(novelty=True, contamination=0.5)\n",
    "lof_ND = lof_ND.fit(X_train)\n",
    "\n",
    "# Predict outliers from test set\n",
    "y_test = lof_ND.predict(X_test)\n",
    "inlier_filter = (y_test == 1)\n",
    "\n",
    "# Output results\n",
    "contamination_found = sum(~inlier_filter) / len(projects_test)\n",
    "print('Percentual de outliers esperado: %.2lf%%' % (100 * contamination))\n",
    "print('Percentual de outliers encontrado: %.2lf%%' % (100 * contamination_found))"
   ]
  },
  {
   "cell_type": "code",
   "execution_count": 59,
   "metadata": {},
   "outputs": [
    {
     "data": {
      "text/plain": [
       "Text(0.5,1,'Inlier/Outlier division using LOF Estimation')"
      ]
     },
     "execution_count": 59,
     "metadata": {},
     "output_type": "execute_result"
    },
    {
     "data": {
      "image/png": "[encoded data removed]",
      "text/plain": [
       "<matplotlib.figure.Figure at 0x7f795d4c1ac8>"
      ]
     },
     "metadata": {},
     "output_type": "display_data"
    }
   ],
   "source": [
    "sns.set(style='whitegrid', palette='dark')\n",
    "f, ax = plt.subplots(figsize=(16,8))\n",
    "\n",
    "inliers = projects_test[inlier_filter].values\n",
    "bins = max(1, int((max(inliers) - min(inliers)) * 50 + 1))\n",
    "sns.distplot(inliers, label=\"inliers\", color=\"b\", kde=False, bins=bins)\n",
    "\n",
    "outliers = projects_test[~inlier_filter].values\n",
    "bins = max(1, int((max(outliers) - min(outliers)) * 50 + 1))\n",
    "sns.distplot(outliers, label=\"outliers\", color=\"r\", kde=False, bins=bins)\n",
    "\n",
    "plt.legend(frameon=True)\n",
    "plt.ylabel('# projects')\n",
    "plt.xlabel('% common items')\n",
    "plt.title('Inlier/Outlier division using LOF Estimation')"
   ]
  },
  {
   "cell_type": "markdown",
   "metadata": {},
   "source": [
    "### Avaliando a contaminação para cada um dos métodos\n",
    "\n",
    "Nesta seção, os métodos Gaussiano e LOF são aplicados a 100 escolhas diferentes de conjuntos de treino/teste. Ao final, o desempenho de cada método é avaliado."
   ]
  },
  {
   "cell_type": "code",
   "execution_count": 43,
   "metadata": {},
   "outputs": [],
   "source": [
    "percentuals = {'gaussian': [], 'lof': []}\n",
    "\n",
    "for i in range(100):\n",
    "    # Separate train and test sets\n",
    "    projects_train, projects_test = train_test_split(segment_projects, test_size=0.3)\n",
    "    \n",
    "    # Parameters\n",
    "    k = 1.8\n",
    "    contamination = 2 * (1 - scipy.stats.norm(expected_mean, expected_std).cdf(upper_limit))\n",
    "\n",
    "    # GAUSSIAN\n",
    "    lower_limit = expected_mean - k * expected_std\n",
    "    upper_limit = expected_mean + k * expected_std\n",
    "    inlier_filter = ((projects_test >= lower_limit) & (projects_test <= upper_limit))\n",
    "    \n",
    "    contamination_found = sum(~inlier_filter) / len(projects_test)\n",
    "    percentuals['gaussian'].append(100 * contamination_found)\n",
    "    \n",
    "    # LOF\n",
    "    # Convert sets to LOF standard\n",
    "    X_train = to_2D(projects_train)\n",
    "    X_test = to_2D(projects_test)\n",
    "\n",
    "    # Get inliers of the training set with LOF Outlier Detection\n",
    "    lof_OD = LocalOutlierFactor(n_neighbors=n_neighbors, contamination=0.5)\n",
    "    y_train = lof_OD.fit_predict(X_train)\n",
    "    X_train = X_train[y_train == 1, :]\n",
    "\n",
    "    # Train model with LOF Novelty Detection, using train set inliers\n",
    "    lof_ND = LocalOutlierFactor(novelty=True, contamination=contamination)\n",
    "    lof_ND = lof_ND.fit(X_train)\n",
    "\n",
    "    # Predict outliers from test set\n",
    "    y_test = lof_ND.predict(X_test)\n",
    "    inlier_filter = (y_test == 1)\n",
    "    \n",
    "    contamination_found = sum(~inlier_filter) / len(projects_test)\n",
    "    percentuals['lof'].append(100 * contamination_found)"
   ]
  },
  {
   "cell_type": "code",
   "execution_count": 44,
   "metadata": {},
   "outputs": [
    {
     "data": {
      "image/png": "[encoded data removed]",
      "text/plain": [
       "<matplotlib.figure.Figure at 0x7f795d668b00>"
      ]
     },
     "metadata": {},
     "output_type": "display_data"
    }
   ],
   "source": [
    "sns.set(style='whitegrid', palette='dark')\n",
    "\n",
    "gauss = percentuals['gaussian']\n",
    "bins = max(1, int((max(gauss) - min(gauss)) * 2) + 1)\n",
    "sns.distplot(gauss, label=\"Gaussian\", color=\"b\", kde=False, bins=bins)\n",
    "\n",
    "lof = percentuals['lof']\n",
    "bins = max(1, int((max(lof) - min(lof)) * 2) + 1)\n",
    "sns.distplot(lof, label=\"LOF\", color=\"r\", kde=False, bins=bins)\n",
    "\n",
    "# plt.hist(percentuals['gaussian'], bins=20, label='Gaussian')\n",
    "# plt.hist(percentuals['lof'], bins=20, label='LOF')\n",
    "\n",
    "plt.legend(frameon=True)\n",
    "plt.xlabel('Contamination found (%)')\n",
    "plt.ylabel('# tests')\n",
    "plt.grid(True)"
   ]
  },
  {
   "cell_type": "markdown",
   "metadata": {},
   "source": [
    "#### Conclusões\n",
    "\n",
    "O dataset possiu uma distribuição próxima a uma Gaussiana e o percentual de contaminação encontrado pela Gaussiana se mostrou mais próxima do valor esperado que a estimação de contaminação encontrada pelo LOF.\n",
    "\n",
    "Outro ponto importante a se notar é a marcação de projetos como inlier/outlier em ambos os estimadores. Na estimação Gaussiana, os projetos são marcados como outlier apenas se a quantidade de itens deste projeto está fora de um intervalo de valores aceitáveis. Já no estimador LOF, se um projeto tem uma quantidade específica de itens que é menos comum relativamente que seus vizinhos (projetos com um percentual de itens entre os mais comuns parecida com a do projeto analisado), então o projeto pode ser marcado como outlier, o que não parece fazer sentido neste contexto."
   ]
  },
  {
   "cell_type": "code",
   "execution_count": null,
   "metadata": {},
   "outputs": [],
   "source": []
  }
 ],
 "metadata": {
  "kernelspec": {
   "display_name": "Python 3",
   "language": "python",
   "name": "python3"
  },
  "language_info": {
   "codemirror_mode": {
    "name": "ipython",
    "version": 3
   },
   "file_extension": ".py",
   "mimetype": "text/x-python",
   "name": "python",
   "nbconvert_exporter": "python",
   "pygments_lexer": "ipython3",
   "version": "3.5.2"
  }
 },
 "nbformat": 4,
 "nbformat_minor": 2
}
