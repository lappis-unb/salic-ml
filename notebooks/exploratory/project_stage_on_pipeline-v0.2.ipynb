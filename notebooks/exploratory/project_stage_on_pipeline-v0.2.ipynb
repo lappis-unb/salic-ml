{
 "cells": [
  {
   "cell_type": "markdown",
   "metadata": {},
   "source": [
    "# Etapa dos Projetos no pipeline do Salic"
   ]
  },
  {
   "cell_type": "markdown",
   "metadata": {},
   "source": [
    "**ISSUE:** [#32](https://github.com/lappis-unb/salic-ml/issues/32)\n",
    "\n",
    "Este notebook é uma continuação direta deste [notebook](https://github.com/lappis-unb/salic-ml/blob/master/notebooks/exploratory/project_stage_on_pipeline-v0.1.ipynb).\n",
    "\n",
    "### Introdução\n",
    "\n",
    "**Etapas de Projeto:** No Salic um projeto pode passarpelas seguintes etapas, em ordem:\n",
    "\n",
    "- Admissibilidade\n",
    "- Capitação e Execução\n",
    "- Prestação de Contas\n",
    "  - Análise do Objeto\n",
    "  - Análise Financeira\n",
    "\n",
    "Se por algum motivo o projeto for finalizado prematuramente ele não irá passar por todas as etapas.\n",
    "\n",
    "### Objetivos\n",
    "\n",
    "Identificar todas as etapas que um projeto passou, incluindo as datas de início e fim em cada etapa, e as situações dentro de cada etapa."
   ]
  },
  {
   "cell_type": "markdown",
   "metadata": {},
   "source": [
    "## Prepararando os dados"
   ]
  },
  {
   "cell_type": "markdown",
   "metadata": {},
   "source": [
    "**Recarregar automaticamente os módulos**"
   ]
  },
  {
   "cell_type": "code",
   "execution_count": 26,
   "metadata": {},
   "outputs": [
    {
     "name": "stdout",
     "output_type": "stream",
     "text": [
      "The autoreload extension is already loaded. To reload it, use:\n",
      "  %reload_ext autoreload\n"
     ]
    }
   ],
   "source": [
    "%load_ext autoreload\n",
    "%autoreload 2"
   ]
  },
  {
   "cell_type": "markdown",
   "metadata": {},
   "source": [
    "**Importando módulos python**"
   ]
  },
  {
   "cell_type": "code",
   "execution_count": 27,
   "metadata": {},
   "outputs": [],
   "source": [
    "import os\n",
    "import sys\n",
    "import time\n",
    "import numpy as np\n",
    "import pandas as pd\n",
    "import matplotlib.pyplot as plt\n",
    "\n",
    "from salicml.utils.dates import Dates\n",
    "from salicml.models.projects import Projects\n",
    "\n",
    "PROJECT_ROOT = os.path.abspath(os.path.join(os.pardir, os.pardir))\n",
    "DATA_FOLDER = os.path.join(PROJECT_ROOT, 'data', 'raw')"
   ]
  },
  {
   "cell_type": "markdown",
   "metadata": {},
   "source": [
    "**Carregando os dados da tabela de Projetos**"
   ]
  },
  {
   "cell_type": "code",
   "execution_count": 28,
   "metadata": {
    "scrolled": false
   },
   "outputs": [
    {
     "data": {
      "text/html": [
       "<div>\n",
       "<style scoped>\n",
       "    .dataframe tbody tr th:only-of-type {\n",
       "        vertical-align: middle;\n",
       "    }\n",
       "\n",
       "    .dataframe tbody tr th {\n",
       "        vertical-align: top;\n",
       "    }\n",
       "\n",
       "    .dataframe thead th {\n",
       "        text-align: right;\n",
       "    }\n",
       "</style>\n",
       "<table border=\"1\" class=\"dataframe\">\n",
       "  <thead>\n",
       "    <tr style=\"text-align: right;\">\n",
       "      <th></th>\n",
       "      <th>IdPRONAC</th>\n",
       "      <th>Situacao</th>\n",
       "      <th>DtProtocolo</th>\n",
       "      <th>DtInicioExecucao</th>\n",
       "      <th>DtFimExecucao</th>\n",
       "    </tr>\n",
       "  </thead>\n",
       "  <tbody>\n",
       "    <tr>\n",
       "      <th>0</th>\n",
       "      <td>1</td>\n",
       "      <td>E63</td>\n",
       "      <td>2008-09-12</td>\n",
       "      <td>2010-01-01 00:00:00</td>\n",
       "      <td>2010-12-31 00:00:00</td>\n",
       "    </tr>\n",
       "    <tr>\n",
       "      <th>1</th>\n",
       "      <td>2</td>\n",
       "      <td>G43</td>\n",
       "      <td>2008-09-12</td>\n",
       "      <td>NaN</td>\n",
       "      <td>NaN</td>\n",
       "    </tr>\n",
       "    <tr>\n",
       "      <th>2</th>\n",
       "      <td>3</td>\n",
       "      <td>K00</td>\n",
       "      <td>2008-09-12</td>\n",
       "      <td>NaN</td>\n",
       "      <td>NaN</td>\n",
       "    </tr>\n",
       "    <tr>\n",
       "      <th>3</th>\n",
       "      <td>4</td>\n",
       "      <td>E25</td>\n",
       "      <td>2008-09-03</td>\n",
       "      <td>NaN</td>\n",
       "      <td>NaN</td>\n",
       "    </tr>\n",
       "    <tr>\n",
       "      <th>4</th>\n",
       "      <td>5</td>\n",
       "      <td>E36</td>\n",
       "      <td>2008-09-12</td>\n",
       "      <td>NaN</td>\n",
       "      <td>NaN</td>\n",
       "    </tr>\n",
       "  </tbody>\n",
       "</table>\n",
       "</div>"
      ],
      "text/plain": [
       "   IdPRONAC Situacao DtProtocolo     DtInicioExecucao        DtFimExecucao\n",
       "0         1      E63  2008-09-12  2010-01-01 00:00:00  2010-12-31 00:00:00\n",
       "1         2      G43  2008-09-12                  NaN                  NaN\n",
       "2         3      K00  2008-09-12                  NaN                  NaN\n",
       "3         4      E25  2008-09-03                  NaN                  NaN\n",
       "4         5      E36  2008-09-12                  NaN                  NaN"
      ]
     },
     "execution_count": 28,
     "metadata": {},
     "output_type": "execute_result"
    }
   ],
   "source": [
    "cols = ['IdPRONAC', 'DtProtocolo', 'DtInicioExecucao', 'DtFimExecucao', 'Situacao']\n",
    "projects_csv = os.path.join(DATA_FOLDER, 'projetos.csv')\n",
    "\n",
    "dt_projects = pd.read_csv(projects_csv, usecols=cols, low_memory=False)\n",
    "date_column = 'DtProtocolo'\n",
    "dt_projects[date_column] = pd.to_datetime(dt_projects[date_column], format = Dates.DATE_INPUT_FORMAT)\n",
    "dt_projects.head()"
   ]
  },
  {
   "cell_type": "markdown",
   "metadata": {},
   "source": [
    "### Filtrando os dados\n",
    "\n",
    "É conhecido que dados muito antigos (de 1992, por exemplo) podem ser inconsistentes, então vamos filtrar os dados a partir de uma data de início (2010)."
   ]
  },
  {
   "cell_type": "code",
   "execution_count": 32,
   "metadata": {},
   "outputs": [
    {
     "name": "stdout",
     "output_type": "stream",
     "text": [
      "2010-01-04 00:00:00\n"
     ]
    },
    {
     "data": {
      "text/html": [
       "<div>\n",
       "<style scoped>\n",
       "    .dataframe tbody tr th:only-of-type {\n",
       "        vertical-align: middle;\n",
       "    }\n",
       "\n",
       "    .dataframe tbody tr th {\n",
       "        vertical-align: top;\n",
       "    }\n",
       "\n",
       "    .dataframe thead th {\n",
       "        text-align: right;\n",
       "    }\n",
       "</style>\n",
       "<table border=\"1\" class=\"dataframe\">\n",
       "  <thead>\n",
       "    <tr style=\"text-align: right;\">\n",
       "      <th></th>\n",
       "      <th>IdPRONAC</th>\n",
       "      <th>Situacao</th>\n",
       "      <th>DtProtocolo</th>\n",
       "      <th>DtInicioExecucao</th>\n",
       "      <th>DtFimExecucao</th>\n",
       "    </tr>\n",
       "  </thead>\n",
       "  <tbody>\n",
       "    <tr>\n",
       "      <th>64477</th>\n",
       "      <td>64478</td>\n",
       "      <td>G43</td>\n",
       "      <td>2011-02-07 00:00:00</td>\n",
       "      <td>NaN</td>\n",
       "      <td>NaN</td>\n",
       "    </tr>\n",
       "    <tr>\n",
       "      <th>119978</th>\n",
       "      <td>120187</td>\n",
       "      <td>E36</td>\n",
       "      <td>2010-01-04 13:35:16</td>\n",
       "      <td>2010-06-01 00:00:00</td>\n",
       "      <td>2010-06-30 00:00:00</td>\n",
       "    </tr>\n",
       "    <tr>\n",
       "      <th>119979</th>\n",
       "      <td>120188</td>\n",
       "      <td>E68</td>\n",
       "      <td>2010-01-04 14:17:21</td>\n",
       "      <td>2010-03-01 00:00:00</td>\n",
       "      <td>2010-08-30 00:00:00</td>\n",
       "    </tr>\n",
       "    <tr>\n",
       "      <th>119980</th>\n",
       "      <td>120189</td>\n",
       "      <td>E63</td>\n",
       "      <td>2010-01-04 14:21:20</td>\n",
       "      <td>2010-03-01 00:00:00</td>\n",
       "      <td>2010-09-30 00:00:00</td>\n",
       "    </tr>\n",
       "    <tr>\n",
       "      <th>119981</th>\n",
       "      <td>120190</td>\n",
       "      <td>A17</td>\n",
       "      <td>2010-01-04 14:25:40</td>\n",
       "      <td>2010-03-01 00:00:00</td>\n",
       "      <td>2010-05-03 00:00:00</td>\n",
       "    </tr>\n",
       "  </tbody>\n",
       "</table>\n",
       "</div>"
      ],
      "text/plain": [
       "        IdPRONAC Situacao         DtProtocolo     DtInicioExecucao  \\\n",
       "64477      64478      G43 2011-02-07 00:00:00                  NaN   \n",
       "119978    120187      E36 2010-01-04 13:35:16  2010-06-01 00:00:00   \n",
       "119979    120188      E68 2010-01-04 14:17:21  2010-03-01 00:00:00   \n",
       "119980    120189      E63 2010-01-04 14:21:20  2010-03-01 00:00:00   \n",
       "119981    120190      A17 2010-01-04 14:25:40  2010-03-01 00:00:00   \n",
       "\n",
       "              DtFimExecucao  \n",
       "64477                   NaN  \n",
       "119978  2010-06-30 00:00:00  \n",
       "119979  2010-08-30 00:00:00  \n",
       "119980  2010-09-30 00:00:00  \n",
       "119981  2010-05-03 00:00:00  "
      ]
     },
     "execution_count": 32,
     "metadata": {},
     "output_type": "execute_result"
    }
   ],
   "source": [
    "from datetime import datetime\n",
    "\n",
    "START_DATE = datetime(day=1, month=1, year=2010)\n",
    "\n",
    "dt_projects = dt_projects[dt_projects.loc[:, date_column] >= START_DATE]\n",
    "print(min(dt_projects[date_column]))\n",
    "dt_projects.head()"
   ]
  },
  {
   "cell_type": "markdown",
   "metadata": {},
   "source": [
    "### Situção de um projeto\n",
    "\n",
    "A tabela `projetos.csv` guarda apenas última ou a situação atual de um projeto, ou seja, não é possível a partir desta tabela construir o histórico de situações de um projeto.\n",
    "O objetivo agora é investigar se as tabelas`tbProjetoSituacaoAnterior` e `HistoricoSituacao` fornecem dados suficientes para construir o histŕico de situações de um projeto."
   ]
  }
 ],
 "metadata": {
  "kernelspec": {
   "display_name": "Python 3",
   "language": "python",
   "name": "python3"
  },
  "language_info": {
   "codemirror_mode": {
    "name": "ipython",
    "version": 3
   },
   "file_extension": ".py",
   "mimetype": "text/x-python",
   "name": "python",
   "nbconvert_exporter": "python",
   "pygments_lexer": "ipython3",
   "version": "3.6.4"
  }
 },
 "nbformat": 4,
 "nbformat_minor": 2
}
