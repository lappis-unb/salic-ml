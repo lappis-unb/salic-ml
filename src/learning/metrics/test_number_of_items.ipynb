{
 "cells": [
  {
   "cell_type": "code",
   "execution_count": 6,
   "metadata": {},
   "outputs": [],
   "source": [
    "%load_ext autoreload\n",
    "%autoreload 2"
   ]
  },
  {
   "cell_type": "code",
   "execution_count": 7,
   "metadata": {
    "scrolled": true
   },
   "outputs": [],
   "source": [
    "from number_of_items import NumberOfItems\n",
    "\n",
    "\n",
    "data = [['012345', '1A', 123],\n",
    "         ['012346', '2B', 124],\n",
    "         ['012347', 'A8', 123],\n",
    "         ['012348', '2A', 123],\n",
    "         ['012349', '2A', 123], ]"
   ]
  },
  {
   "cell_type": "code",
   "execution_count": 11,
   "metadata": {},
   "outputs": [
    {
     "name": "stdout",
     "output_type": "stream",
     "text": [
      "   PRONAC id_segmento  number_of_items\n",
      "0  012345          1A              123\n",
      "1  012346          2B              124\n",
      "2  012347          A8              123\n",
      "3  012348          2A              123\n",
      "4  012349          2A              123\n"
     ]
    }
   ],
   "source": [
    "noi = NumberOfItems()\n",
    "noi.train(data)"
   ]
  }
 ],
 "metadata": {
  "kernelspec": {
   "display_name": "Python 3",
   "language": "python",
   "name": "python3"
  },
  "language_info": {
   "codemirror_mode": {
    "name": "ipython",
    "version": 3
   },
   "file_extension": ".py",
   "mimetype": "text/x-python",
   "name": "python",
   "nbconvert_exporter": "python",
   "pygments_lexer": "ipython3",
   "version": "3.6.4"
  }
 },
 "nbformat": 4,
 "nbformat_minor": 2
}
