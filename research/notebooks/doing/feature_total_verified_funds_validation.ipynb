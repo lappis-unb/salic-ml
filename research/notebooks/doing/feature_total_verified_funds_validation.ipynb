{
 "cells": [
  {
   "cell_type": "markdown",
   "metadata": {},
   "source": [
    "### Validando a detecção de anomalias para a feature \"Total de valor comprovado\""
   ]
  },
  {
   "cell_type": "markdown",
   "metadata": {},
   "source": [
    "### Features Extracted:\n",
    "\n",
    "- https://github.com/lappis-unb/salic-ml/wiki/Brainstorming-de-features-para-estimar-Complexidade-Financeira\n",
    "    \n",
    "Gerar features de um segmento \"ESPECÍFICO\" e \"GLOBAIS\"."
   ]
  },
  {
   "cell_type": "markdown",
   "metadata": {},
   "source": [
    "#### Recarregar automaticamente os módulos"
   ]
  },
  {
   "cell_type": "code",
   "execution_count": 15,
   "metadata": {},
   "outputs": [
    {
     "name": "stdout",
     "output_type": "stream",
     "text": [
      "The autoreload extension is already loaded. To reload it, use:\n",
      "  %reload_ext autoreload\n"
     ]
    }
   ],
   "source": [
    "%load_ext autoreload\n",
    "%autoreload 2"
   ]
  },
  {
   "cell_type": "markdown",
   "metadata": {},
   "source": [
    "### Importing data"
   ]
  },
  {
   "cell_type": "code",
   "execution_count": 16,
   "metadata": {},
   "outputs": [],
   "source": [
    "import os\n",
    "import sys\n",
    "import time\n",
    "import numpy as np\n",
    "import pandas as pd\n",
    "import matplotlib.pyplot as plt\n",
    "from scipy import stats\n",
    "\n",
    "\n",
    "from salicml.utils.dates import Dates\n",
    "from salicml.utils.read_csv import read_csv\n",
    "from salicml.utils.utils import debug\n",
    "\n",
    "PROJECT_ROOT = os.path.abspath(os.path.join(os.pardir, os.pardir))\n",
    "DATA_FOLDER = os.path.join(PROJECT_ROOT, 'data', 'raw')"
   ]
  },
  {
   "cell_type": "markdown",
   "metadata": {},
   "source": [
    "#### PLANILHA ORCAMENTARIA\n",
    "\n",
    "QUERY: /data/scripts/planilha_orcamentaria.sql\n"
   ]
  },
  {
   "cell_type": "code",
   "execution_count": 17,
   "metadata": {
    "scrolled": true
   },
   "outputs": [
    {
     "data": {
      "text/plain": [
       "Index(['PRONAC', 'idPlanilhaAprovacao', 'idSegmento', 'vlComprovacao'], dtype='object')"
      ]
     },
     "metadata": {},
     "output_type": "display_data"
    },
    {
     "data": {
      "text/html": [
       "<div>\n",
       "<style scoped>\n",
       "    .dataframe tbody tr th:only-of-type {\n",
       "        vertical-align: middle;\n",
       "    }\n",
       "\n",
       "    .dataframe tbody tr th {\n",
       "        vertical-align: top;\n",
       "    }\n",
       "\n",
       "    .dataframe thead th {\n",
       "        text-align: right;\n",
       "    }\n",
       "</style>\n",
       "<table border=\"1\" class=\"dataframe\">\n",
       "  <thead>\n",
       "    <tr style=\"text-align: right;\">\n",
       "      <th></th>\n",
       "      <th>PRONAC</th>\n",
       "      <th>idPlanilhaAprovacao</th>\n",
       "      <th>idSegmento</th>\n",
       "      <th>vlComprovacao</th>\n",
       "    </tr>\n",
       "  </thead>\n",
       "  <tbody>\n",
       "    <tr>\n",
       "      <th>0</th>\n",
       "      <td>1012121</td>\n",
       "      <td>18552</td>\n",
       "      <td>71</td>\n",
       "      <td>12000.0</td>\n",
       "    </tr>\n",
       "    <tr>\n",
       "      <th>1</th>\n",
       "      <td>1012121</td>\n",
       "      <td>18553</td>\n",
       "      <td>71</td>\n",
       "      <td>6000.0</td>\n",
       "    </tr>\n",
       "    <tr>\n",
       "      <th>2</th>\n",
       "      <td>1012121</td>\n",
       "      <td>18554</td>\n",
       "      <td>71</td>\n",
       "      <td>12000.0</td>\n",
       "    </tr>\n",
       "    <tr>\n",
       "      <th>3</th>\n",
       "      <td>1012121</td>\n",
       "      <td>18555</td>\n",
       "      <td>71</td>\n",
       "      <td>6000.0</td>\n",
       "    </tr>\n",
       "    <tr>\n",
       "      <th>4</th>\n",
       "      <td>1012121</td>\n",
       "      <td>18556</td>\n",
       "      <td>71</td>\n",
       "      <td>8000.0</td>\n",
       "    </tr>\n",
       "  </tbody>\n",
       "</table>\n",
       "</div>"
      ],
      "text/plain": [
       "    PRONAC  idPlanilhaAprovacao idSegmento  vlComprovacao\n",
       "0  1012121                18552         71        12000.0\n",
       "1  1012121                18553         71         6000.0\n",
       "2  1012121                18554         71        12000.0\n",
       "3  1012121                18555         71         6000.0\n",
       "4  1012121                18556         71         8000.0"
      ]
     },
     "execution_count": 17,
     "metadata": {},
     "output_type": "execute_result"
    }
   ],
   "source": [
    "dt_comprovacao_name = 'planilha_comprovacao_2.csv'\n",
    "usecols = ['idPlanilhaAprovacao', 'PRONAC', 'vlComprovacao', 'idSegmento']\n",
    "\n",
    "dt_items = read_csv(dt_comprovacao_name, usecols=usecols)\n",
    "display(dt_items.columns)\n",
    "dt_items.head()"
   ]
  },
  {
   "cell_type": "markdown",
   "metadata": {},
   "source": [
    "### FEATURES \n",
    "    - Valor total comprovado por projeto"
   ]
  },
  {
   "cell_type": "markdown",
   "metadata": {},
   "source": [
    "# Dividindo pronacs de treino e pronacs de teste\n",
    "\n",
    "50/50"
   ]
  },
  {
   "cell_type": "code",
   "execution_count": 18,
   "metadata": {
    "scrolled": true
   },
   "outputs": [],
   "source": [
    "from sklearn.model_selection import train_test_split\n",
    "\n",
    "\n",
    "all_pronacs = dt_items.PRONAC.unique()\n",
    "pronacs_train, pronacs_test = train_test_split(all_pronacs, test_size=0.5)\n",
    "\n",
    "\n",
    "dt_train = dt_items[dt_items['PRONAC'].isin(pronacs_train)]\n",
    "dt_test = dt_items[dt_items['PRONAC'].isin(pronacs_test)]"
   ]
  },
  {
   "cell_type": "code",
   "execution_count": 19,
   "metadata": {},
   "outputs": [
    {
     "name": "stdout",
     "output_type": "stream",
     "text": [
      "pronacs_train = [ 173436  163272  159960 ... 1011786  148413  120872]\n",
      "pronacs_test = [ 158019  162231  160518 ... 1412036  152369  111947]\n"
     ]
    },
    {
     "data": {
      "text/html": [
       "<div>\n",
       "<style scoped>\n",
       "    .dataframe tbody tr th:only-of-type {\n",
       "        vertical-align: middle;\n",
       "    }\n",
       "\n",
       "    .dataframe tbody tr th {\n",
       "        vertical-align: top;\n",
       "    }\n",
       "\n",
       "    .dataframe thead th {\n",
       "        text-align: right;\n",
       "    }\n",
       "</style>\n",
       "<table border=\"1\" class=\"dataframe\">\n",
       "  <thead>\n",
       "    <tr style=\"text-align: right;\">\n",
       "      <th></th>\n",
       "      <th>PRONAC</th>\n",
       "      <th>idPlanilhaAprovacao</th>\n",
       "      <th>idSegmento</th>\n",
       "      <th>vlComprovacao</th>\n",
       "    </tr>\n",
       "  </thead>\n",
       "  <tbody>\n",
       "    <tr>\n",
       "      <th>0</th>\n",
       "      <td>1012121</td>\n",
       "      <td>18552</td>\n",
       "      <td>71</td>\n",
       "      <td>12000.0</td>\n",
       "    </tr>\n",
       "    <tr>\n",
       "      <th>1</th>\n",
       "      <td>1012121</td>\n",
       "      <td>18553</td>\n",
       "      <td>71</td>\n",
       "      <td>6000.0</td>\n",
       "    </tr>\n",
       "    <tr>\n",
       "      <th>2</th>\n",
       "      <td>1012121</td>\n",
       "      <td>18554</td>\n",
       "      <td>71</td>\n",
       "      <td>12000.0</td>\n",
       "    </tr>\n",
       "    <tr>\n",
       "      <th>3</th>\n",
       "      <td>1012121</td>\n",
       "      <td>18555</td>\n",
       "      <td>71</td>\n",
       "      <td>6000.0</td>\n",
       "    </tr>\n",
       "    <tr>\n",
       "      <th>4</th>\n",
       "      <td>1012121</td>\n",
       "      <td>18556</td>\n",
       "      <td>71</td>\n",
       "      <td>8000.0</td>\n",
       "    </tr>\n",
       "  </tbody>\n",
       "</table>\n",
       "</div>"
      ],
      "text/plain": [
       "    PRONAC  idPlanilhaAprovacao idSegmento  vlComprovacao\n",
       "0  1012121                18552         71        12000.0\n",
       "1  1012121                18553         71         6000.0\n",
       "2  1012121                18554         71        12000.0\n",
       "3  1012121                18555         71         6000.0\n",
       "4  1012121                18556         71         8000.0"
      ]
     },
     "metadata": {},
     "output_type": "display_data"
    },
    {
     "data": {
      "text/html": [
       "<div>\n",
       "<style scoped>\n",
       "    .dataframe tbody tr th:only-of-type {\n",
       "        vertical-align: middle;\n",
       "    }\n",
       "\n",
       "    .dataframe tbody tr th {\n",
       "        vertical-align: top;\n",
       "    }\n",
       "\n",
       "    .dataframe thead th {\n",
       "        text-align: right;\n",
       "    }\n",
       "</style>\n",
       "<table border=\"1\" class=\"dataframe\">\n",
       "  <thead>\n",
       "    <tr style=\"text-align: right;\">\n",
       "      <th></th>\n",
       "      <th>PRONAC</th>\n",
       "      <th>idPlanilhaAprovacao</th>\n",
       "      <th>idSegmento</th>\n",
       "      <th>vlComprovacao</th>\n",
       "    </tr>\n",
       "  </thead>\n",
       "  <tbody>\n",
       "    <tr>\n",
       "      <th>146</th>\n",
       "      <td>110741</td>\n",
       "      <td>19499</td>\n",
       "      <td>26</td>\n",
       "      <td>100.0</td>\n",
       "    </tr>\n",
       "    <tr>\n",
       "      <th>147</th>\n",
       "      <td>110741</td>\n",
       "      <td>19499</td>\n",
       "      <td>26</td>\n",
       "      <td>200.0</td>\n",
       "    </tr>\n",
       "    <tr>\n",
       "      <th>148</th>\n",
       "      <td>110741</td>\n",
       "      <td>19499</td>\n",
       "      <td>26</td>\n",
       "      <td>2000.0</td>\n",
       "    </tr>\n",
       "    <tr>\n",
       "      <th>149</th>\n",
       "      <td>110741</td>\n",
       "      <td>19499</td>\n",
       "      <td>26</td>\n",
       "      <td>1000.0</td>\n",
       "    </tr>\n",
       "    <tr>\n",
       "      <th>150</th>\n",
       "      <td>110741</td>\n",
       "      <td>19499</td>\n",
       "      <td>26</td>\n",
       "      <td>2000.0</td>\n",
       "    </tr>\n",
       "  </tbody>\n",
       "</table>\n",
       "</div>"
      ],
      "text/plain": [
       "     PRONAC  idPlanilhaAprovacao idSegmento  vlComprovacao\n",
       "146  110741                19499         26          100.0\n",
       "147  110741                19499         26          200.0\n",
       "148  110741                19499         26         2000.0\n",
       "149  110741                19499         26         1000.0\n",
       "150  110741                19499         26         2000.0"
      ]
     },
     "metadata": {},
     "output_type": "display_data"
    }
   ],
   "source": [
    "print('pronacs_train = {}'.format(pronacs_train))\n",
    "print('pronacs_test = {}'.format(pronacs_test))\n",
    "\n",
    "assert (dt_train.shape[0] + dt_test.shape[0]) == dt_items.shape[0]\n",
    "\n",
    "display(dt_train.head())\n",
    "display(dt_test.head())"
   ]
  },
  {
   "cell_type": "code",
   "execution_count": 20,
   "metadata": {
    "scrolled": true
   },
   "outputs": [
    {
     "data": {
      "text/html": [
       "<div>\n",
       "<style scoped>\n",
       "    .dataframe tbody tr th:only-of-type {\n",
       "        vertical-align: middle;\n",
       "    }\n",
       "\n",
       "    .dataframe tbody tr th {\n",
       "        vertical-align: top;\n",
       "    }\n",
       "\n",
       "    .dataframe thead th {\n",
       "        text-align: right;\n",
       "    }\n",
       "</style>\n",
       "<table border=\"1\" class=\"dataframe\">\n",
       "  <thead>\n",
       "    <tr style=\"text-align: right;\">\n",
       "      <th></th>\n",
       "      <th></th>\n",
       "      <th>vlComprovacao</th>\n",
       "    </tr>\n",
       "    <tr>\n",
       "      <th>idSegmento</th>\n",
       "      <th>PRONAC</th>\n",
       "      <th></th>\n",
       "    </tr>\n",
       "  </thead>\n",
       "  <tbody>\n",
       "    <tr>\n",
       "      <th rowspan=\"5\" valign=\"top\">11</th>\n",
       "      <th>120629</th>\n",
       "      <td>73446.27</td>\n",
       "    </tr>\n",
       "    <tr>\n",
       "      <th>121257</th>\n",
       "      <td>12795.00</td>\n",
       "    </tr>\n",
       "    <tr>\n",
       "      <th>123330</th>\n",
       "      <td>230664.87</td>\n",
       "    </tr>\n",
       "    <tr>\n",
       "      <th>123402</th>\n",
       "      <td>67817.54</td>\n",
       "    </tr>\n",
       "    <tr>\n",
       "      <th>124545</th>\n",
       "      <td>178427.50</td>\n",
       "    </tr>\n",
       "  </tbody>\n",
       "</table>\n",
       "</div>"
      ],
      "text/plain": [
       "                   vlComprovacao\n",
       "idSegmento PRONAC               \n",
       "11         120629       73446.27\n",
       "           121257       12795.00\n",
       "           123330      230664.87\n",
       "           123402       67817.54\n",
       "           124545      178427.50"
      ]
     },
     "execution_count": 20,
     "metadata": {},
     "output_type": "execute_result"
    }
   ],
   "source": [
    "segment_projects = dt_train[['PRONAC', 'idSegmento', 'vlComprovacao']].groupby(['idSegmento', 'PRONAC']).sum()\n",
    "segment_projects.head()"
   ]
  },
  {
   "cell_type": "markdown",
   "metadata": {},
   "source": [
    "### Plotando as distribuiçoes dos segmentos mais comuns"
   ]
  },
  {
   "cell_type": "code",
   "execution_count": 21,
   "metadata": {
    "scrolled": false
   },
   "outputs": [
    {
     "data": {
      "text/html": [
       "<div>\n",
       "<style scoped>\n",
       "    .dataframe tbody tr th:only-of-type {\n",
       "        vertical-align: middle;\n",
       "    }\n",
       "\n",
       "    .dataframe tbody tr th {\n",
       "        vertical-align: top;\n",
       "    }\n",
       "\n",
       "    .dataframe thead th {\n",
       "        text-align: right;\n",
       "    }\n",
       "</style>\n",
       "<table border=\"1\" class=\"dataframe\">\n",
       "  <thead>\n",
       "    <tr style=\"text-align: right;\">\n",
       "      <th></th>\n",
       "      <th>Número de projetos</th>\n",
       "    </tr>\n",
       "    <tr>\n",
       "      <th>idSegmento</th>\n",
       "      <th></th>\n",
       "    </tr>\n",
       "  </thead>\n",
       "  <tbody>\n",
       "    <tr>\n",
       "      <th>11</th>\n",
       "      <td>345</td>\n",
       "    </tr>\n",
       "    <tr>\n",
       "      <th>33</th>\n",
       "      <td>208</td>\n",
       "    </tr>\n",
       "    <tr>\n",
       "      <th>12</th>\n",
       "      <td>124</td>\n",
       "    </tr>\n",
       "    <tr>\n",
       "      <th>32</th>\n",
       "      <td>114</td>\n",
       "    </tr>\n",
       "    <tr>\n",
       "      <th>4B</th>\n",
       "      <td>110</td>\n",
       "    </tr>\n",
       "  </tbody>\n",
       "</table>\n",
       "</div>"
      ],
      "text/plain": [
       "            Número de projetos\n",
       "idSegmento                    \n",
       "11                         345\n",
       "33                         208\n",
       "12                         124\n",
       "32                         114\n",
       "4B                         110"
      ]
     },
     "metadata": {},
     "output_type": "display_data"
    }
   ],
   "source": [
    "common_segements = segment_projects.groupby(['idSegmento']).count().sort_values(by='vlComprovacao', ascending=False)\n",
    "common_segements.rename(columns={'vlComprovacao': 'Número de projetos'}, inplace=True)\n",
    "display(common_segements.head())"
   ]
  },
  {
   "cell_type": "code",
   "execution_count": null,
   "metadata": {
    "scrolled": true
   },
   "outputs": [
    {
     "data": {
      "image/png": "[encoded data removed]",
      "text/plain": [
       "<Figure size 432x288 with 1 Axes>"
      ]
     },
     "metadata": {},
     "output_type": "display_data"
    },
    {
     "data": {
      "image/png": "[encoded data removed]",
      "text/plain": [
       "<Figure size 432x288 with 1 Axes>"
      ]
     },
     "metadata": {},
     "output_type": "display_data"
    }
   ],
   "source": [
    "from scipy.stats import norm\n",
    "\n",
    "\n",
    "def plot_segment(id, funds):\n",
    "    plt.hist(funds, bins=100, density=True, alpha=0.6, color='g', edgecolor='black')\n",
    "    plt.ticklabel_format(style='sci', axis='x', scilimits=(0,0))\n",
    "\n",
    "    plt.title('Segmento \"{}\"'.format(id))\n",
    "    plt.xlabel('Valor comprovado por projeto')\n",
    "    plt.ylabel('Frequência de projetos')\n",
    "\n",
    "    mu, std = np.mean(funds), np.std(funds)\n",
    "    \n",
    "    xmin, xmax = plt.xlim()\n",
    "    x = np.linspace(xmin, xmax, 200)\n",
    "    p = norm.pdf(x, mu, std)\n",
    "    plt.plot(x, p, 'k', linewidth=2)\n",
    "    plt.show()\n",
    "\n",
    "for counter, id_segmento in enumerate(common_segements.index.values):    \n",
    "    projects_verified_funds = segment_projects.loc[id_segmento].vlComprovacao.values\n",
    "    plot_segment(id_segmento, projects_verified_funds)\n",
    "    \n",
    "    counter += 1\n",
    "    if counter == 10:\n",
    "        break"
   ]
  },
  {
   "cell_type": "code",
   "execution_count": null,
   "metadata": {
    "scrolled": true
   },
   "outputs": [],
   "source": [
    "segment_funds_avg_std = segment_projects.groupby(['idSegmento'])\n",
    "segment_funds_avg_std = segment_funds_avg_std.agg(['count', 'sum', 'mean', 'std'])\n",
    "\n",
    "segment_funds_avg_std.columns = segment_funds_avg_std.columns.droplevel(0)\n",
    "\n",
    "display(segment_funds_avg_std)"
   ]
  },
  {
   "cell_type": "markdown",
   "metadata": {},
   "source": [
    "# Calculando a porcentagem de outliers no conjunto de teste"
   ]
  },
  {
   "cell_type": "code",
   "execution_count": null,
   "metadata": {
    "scrolled": true
   },
   "outputs": [],
   "source": [
    "project_funds_grp = dt_items.drop(columns=['idPlanilhaAprovacao']).groupby(['PRONAC'])\n",
    "project_funds = project_funds_grp.sum()\n",
    "project_funds.head()"
   ]
  },
  {
   "cell_type": "code",
   "execution_count": null,
   "metadata": {},
   "outputs": [],
   "source": [
    "id_segmento = '11'\n",
    "display(segment_funds_avg_std.loc[id_segmento])\n",
    "mean = segment_funds_avg_std.loc[id_segmento]['mean']"
   ]
  },
  {
   "cell_type": "code",
   "execution_count": null,
   "metadata": {},
   "outputs": [],
   "source": [
    "from salicml.outliers.gaussian_outlier import is_outlier\n",
    "\n",
    "\n",
    "def is_total_verified_funds_outlier(pronac):\n",
    "    assert isinstance(pronac, int)\n",
    "    \n",
    "    verified_funds = project_funds.loc[pronac]['vlComprovacao']\n",
    "    id_segmento = project_funds_grp.get_group(pronac).iloc[0]['idSegmento']\n",
    "    \n",
    "    if not np.isin(id_segmento, segment_funds_avg_std.index):\n",
    "        raise ValueError('Segment {} was not trained'.format(id_segmento))\n",
    "    \n",
    "    mean = segment_funds_avg_std.loc[id_segmento]['mean']\n",
    "    std = segment_funds_avg_std.loc[id_segmento]['std']\n",
    "    outlier = is_outlier(verified_funds, mean, std)\n",
    "    return outlier\n",
    "\n",
    "pronac = int(np.random.choice(dt_test.PRONAC.values))\n",
    "print('pronac = {}'.format(pronac))\n",
    "is_total_verified_funds_outlier(pronac)"
   ]
  },
  {
   "cell_type": "code",
   "execution_count": null,
   "metadata": {},
   "outputs": [],
   "source": [
    "from salicml.outliers.gaussian_outlier import outlier_probability\n",
    "\n",
    "\n",
    "print(1 - outlier_probability(0.0, 1.0, c=1.5))"
   ]
  },
  {
   "cell_type": "code",
   "execution_count": null,
   "metadata": {
    "scrolled": true
   },
   "outputs": [],
   "source": [
    "pronacs_test = dt_test.PRONAC.unique()\n",
    "\n",
    "outlier_arr = []\n",
    "\n",
    "for i, pronac in enumerate(pronacs_test):\n",
    "    try:\n",
    "        outlier = is_total_verified_funds_outlier(int(pronac))\n",
    "        outlier_arr.append(1.0 if outlier else 0.0)\n",
    "    except ValueError as err:\n",
    "        print(err)\n",
    "    \n",
    "describe = pd.DataFrame(outlier_arr).describe()\n",
    "display(describe)"
   ]
  },
  {
   "cell_type": "markdown",
   "metadata": {},
   "source": [
    "# Análise dos resultados\n",
    "\n",
    "Para `c = 1.5`, esperava-se que `6.68%` dos projetos fossem considerados outliers em termos dos números de itens por projeto. Entretanto, para os conjuntos de treino e teste utilizados e `c = 1.5`, `7.57%`dos projetos foram considerados outliers."
   ]
  },
  {
   "cell_type": "markdown",
   "metadata": {},
   "source": [
    "# Contribuições futuras\n",
    "\n",
    "A celula anterior demonstra um problema na divisão dos pronacs nos conjuntos de treino e teste: alguns segmentos, por exemplo o segmento `9I` ficaram fora do conjunto do treino, o que não permite detectar anomalias para este segmento e os demais que não foram incluidos no conjunto de treino. Portanto uma contribução futura desejável é que o conjunto de treino garanta que para segmento, pelo menos 50% do total dos projetos para aquele segmento esteja dentro do conjunto de pronacs de treino."
   ]
  }
 ],
 "metadata": {
  "kernelspec": {
   "display_name": "Python 3",
   "language": "python",
   "name": "python3"
  },
  "language_info": {
   "codemirror_mode": {
    "name": "ipython",
    "version": 3
   },
   "file_extension": ".py",
   "mimetype": "text/x-python",
   "name": "python",
   "nbconvert_exporter": "python",
   "pygments_lexer": "ipython3",
   "version": "3.6.4"
  }
 },
 "nbformat": 4,
 "nbformat_minor": 2
}
