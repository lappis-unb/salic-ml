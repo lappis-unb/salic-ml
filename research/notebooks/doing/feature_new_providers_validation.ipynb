{
 "cells": [
  {
   "cell_type": "markdown",
   "metadata": {},
   "source": [
    "### Validando a detecção de anomalias para a feature \"Novos distribuidores\""
   ]
  },
  {
   "cell_type": "markdown",
   "metadata": {},
   "source": [
    "**Issue**: [#60](https://github.com/lappis-unb/salic-ml/issues/60)"
   ]
  },
  {
   "cell_type": "markdown",
   "metadata": {},
   "source": [
    "### Features Extracted:\n",
    "\n",
    "- https://github.com/lappis-unb/salic-ml/wiki/Brainstorming-de-features-para-estimar-Complexidade-Financeira"
   ]
  },
  {
   "cell_type": "markdown",
   "metadata": {},
   "source": [
    "#### Recarregar automaticamente os módulos"
   ]
  },
  {
   "cell_type": "markdown",
   "metadata": {},
   "source": [
    "### Planila comprovação\n",
    "\n",
    "SQL Query: https://github.com/lappis-unb/salic-ml/blob/master/data/scripts/planilha_comprovacao2.sql\n"
   ]
  },
  {
   "cell_type": "code",
   "execution_count": 1,
   "metadata": {},
   "outputs": [],
   "source": [
    "%load_ext autoreload\n",
    "%autoreload 2"
   ]
  },
  {
   "cell_type": "markdown",
   "metadata": {},
   "source": [
    "### Importing data"
   ]
  },
  {
   "cell_type": "markdown",
   "metadata": {},
   "source": [
    "### FEATURES \n",
    "    - Novos distribuidores"
   ]
  },
  {
   "cell_type": "code",
   "execution_count": 2,
   "metadata": {
    "scrolled": true
   },
   "outputs": [
    {
     "name": "stderr",
     "output_type": "stream",
     "text": [
      "/home/mandala/.pyenv/versions/3.6.4/lib/python3.6/importlib/_bootstrap.py:219: RuntimeWarning: numpy.dtype size changed, may indicate binary incompatibility. Expected 96, got 88\n",
      "  return f(*args, **kwds)\n",
      "/home/mandala/.pyenv/versions/3.6.4/lib/python3.6/importlib/_bootstrap.py:219: RuntimeWarning: numpy.dtype size changed, may indicate binary incompatibility. Expected 96, got 88\n",
      "  return f(*args, **kwds)\n"
     ]
    }
   ],
   "source": [
    "import os\n",
    "import sys\n",
    "import time\n",
    "import numpy as np\n",
    "import pandas as pd\n",
    "import matplotlib.pyplot as plt\n",
    "from scipy import stats\n",
    "\n",
    "\n",
    "from salicml.utils.dates import Dates\n",
    "from salicml.utils.read_csv import read_csv\n",
    "from salicml.utils.utils import debug\n",
    "\n",
    "PROJECT_ROOT = os.path.abspath(os.path.join(os.pardir, os.pardir))\n",
    "DATA_FOLDER = os.path.join(PROJECT_ROOT, 'data', 'raw')"
   ]
  },
  {
   "cell_type": "markdown",
   "metadata": {},
   "source": [
    "### Dataset de comprovação"
   ]
  },
  {
   "cell_type": "code",
   "execution_count": 3,
   "metadata": {
    "scrolled": false
   },
   "outputs": [
    {
     "data": {
      "text/plain": [
       "Index(['PRONAC', 'idPlanilhaAprovacao', 'nrCNPJCPF'], dtype='object')"
      ]
     },
     "metadata": {},
     "output_type": "display_data"
    },
    {
     "data": {
      "text/html": [
       "<div>\n",
       "<style scoped>\n",
       "    .dataframe tbody tr th:only-of-type {\n",
       "        vertical-align: middle;\n",
       "    }\n",
       "\n",
       "    .dataframe tbody tr th {\n",
       "        vertical-align: top;\n",
       "    }\n",
       "\n",
       "    .dataframe thead th {\n",
       "        text-align: right;\n",
       "    }\n",
       "</style>\n",
       "<table border=\"1\" class=\"dataframe\">\n",
       "  <thead>\n",
       "    <tr style=\"text-align: right;\">\n",
       "      <th></th>\n",
       "      <th>PRONAC</th>\n",
       "      <th>idPlanilhaAprovacao</th>\n",
       "      <th>nrCNPJCPF</th>\n",
       "    </tr>\n",
       "  </thead>\n",
       "  <tbody>\n",
       "    <tr>\n",
       "      <th>0</th>\n",
       "      <td>1012121</td>\n",
       "      <td>18552</td>\n",
       "      <td>13751832000191</td>\n",
       "    </tr>\n",
       "    <tr>\n",
       "      <th>1</th>\n",
       "      <td>1012121</td>\n",
       "      <td>18553</td>\n",
       "      <td>50618057000127</td>\n",
       "    </tr>\n",
       "    <tr>\n",
       "      <th>2</th>\n",
       "      <td>1012121</td>\n",
       "      <td>18554</td>\n",
       "      <td>1118139000105</td>\n",
       "    </tr>\n",
       "    <tr>\n",
       "      <th>3</th>\n",
       "      <td>1012121</td>\n",
       "      <td>18555</td>\n",
       "      <td>11049176000154</td>\n",
       "    </tr>\n",
       "    <tr>\n",
       "      <th>4</th>\n",
       "      <td>1012121</td>\n",
       "      <td>18556</td>\n",
       "      <td>50618057000127</td>\n",
       "    </tr>\n",
       "  </tbody>\n",
       "</table>\n",
       "</div>"
      ],
      "text/plain": [
       "    PRONAC  idPlanilhaAprovacao       nrCNPJCPF\n",
       "0  1012121                18552  13751832000191\n",
       "1  1012121                18553  50618057000127\n",
       "2  1012121                18554   1118139000105\n",
       "3  1012121                18555  11049176000154\n",
       "4  1012121                18556  50618057000127"
      ]
     },
     "execution_count": 3,
     "metadata": {},
     "output_type": "execute_result"
    }
   ],
   "source": [
    "dt_comprovacao_name = 'planilha_comprovacao_2.csv'\n",
    "\n",
    "usecols = ['PRONAC', 'nrCNPJCPF', 'idPlanilhaAprovacao']\n",
    "dt_comprovacao = read_csv(dt_comprovacao_name, usecols=usecols)\n",
    "display(dt_comprovacao.columns)\n",
    "dt_comprovacao.head()"
   ]
  },
  {
   "cell_type": "markdown",
   "metadata": {},
   "source": [
    "### Dataset de aprovação"
   ]
  },
  {
   "cell_type": "code",
   "execution_count": 4,
   "metadata": {},
   "outputs": [
    {
     "data": {
      "text/plain": [
       "Index(['idPlanilhaAprovacao', 'Item', 'DataProjeto'], dtype='object')"
      ]
     },
     "metadata": {},
     "output_type": "display_data"
    },
    {
     "data": {
      "text/html": [
       "<div>\n",
       "<style scoped>\n",
       "    .dataframe tbody tr th:only-of-type {\n",
       "        vertical-align: middle;\n",
       "    }\n",
       "\n",
       "    .dataframe tbody tr th {\n",
       "        vertical-align: top;\n",
       "    }\n",
       "\n",
       "    .dataframe thead th {\n",
       "        text-align: right;\n",
       "    }\n",
       "</style>\n",
       "<table border=\"1\" class=\"dataframe\">\n",
       "  <thead>\n",
       "    <tr style=\"text-align: right;\">\n",
       "      <th></th>\n",
       "      <th>idPlanilhaAprovacao</th>\n",
       "      <th>Item</th>\n",
       "      <th>DataProjeto</th>\n",
       "    </tr>\n",
       "  </thead>\n",
       "  <tbody>\n",
       "    <tr>\n",
       "      <th>0</th>\n",
       "      <td>50109</td>\n",
       "      <td>Montagem e desmontagem</td>\n",
       "      <td>2009-06-26 09:46:54</td>\n",
       "    </tr>\n",
       "    <tr>\n",
       "      <th>1</th>\n",
       "      <td>239572</td>\n",
       "      <td>Locação de Piano</td>\n",
       "      <td>2010-05-06 10:49:13</td>\n",
       "    </tr>\n",
       "    <tr>\n",
       "      <th>2</th>\n",
       "      <td>239599</td>\n",
       "      <td>Programa</td>\n",
       "      <td>2010-05-06 10:49:13</td>\n",
       "    </tr>\n",
       "    <tr>\n",
       "      <th>3</th>\n",
       "      <td>86608</td>\n",
       "      <td>Transporte Local / Locação de Automóvel / Comb...</td>\n",
       "      <td>2010-12-21 17:09:22</td>\n",
       "    </tr>\n",
       "    <tr>\n",
       "      <th>4</th>\n",
       "      <td>11387</td>\n",
       "      <td>Confecção de painéis explicativos</td>\n",
       "      <td>2009-07-27 08:40:04</td>\n",
       "    </tr>\n",
       "  </tbody>\n",
       "</table>\n",
       "</div>"
      ],
      "text/plain": [
       "   idPlanilhaAprovacao                                               Item  \\\n",
       "0                50109                             Montagem e desmontagem   \n",
       "1               239572                                   Locação de Piano   \n",
       "2               239599                                           Programa   \n",
       "3                86608  Transporte Local / Locação de Automóvel / Comb...   \n",
       "4                11387                  Confecção de painéis explicativos   \n",
       "\n",
       "           DataProjeto  \n",
       "0  2009-06-26 09:46:54  \n",
       "1  2010-05-06 10:49:13  \n",
       "2  2010-05-06 10:49:13  \n",
       "3  2010-12-21 17:09:22  \n",
       "4  2009-07-27 08:40:04  "
      ]
     },
     "execution_count": 4,
     "metadata": {},
     "output_type": "execute_result"
    }
   ],
   "source": [
    "dt_aprovacao_name = 'planilha_orcamentaria.csv'\n",
    "\n",
    "usecols = ['Item', 'DataProjeto', 'idPlanilhaAprovacao']\n",
    "\n",
    "dt_aprovacao = read_csv(dt_aprovacao_name, usecols=usecols)\n",
    "display(dt_aprovacao.columns)\n",
    "dt_aprovacao.head()"
   ]
  },
  {
   "cell_type": "code",
   "execution_count": 5,
   "metadata": {
    "scrolled": true
   },
   "outputs": [
    {
     "data": {
      "text/html": [
       "<div>\n",
       "<style scoped>\n",
       "    .dataframe tbody tr th:only-of-type {\n",
       "        vertical-align: middle;\n",
       "    }\n",
       "\n",
       "    .dataframe tbody tr th {\n",
       "        vertical-align: top;\n",
       "    }\n",
       "\n",
       "    .dataframe thead th {\n",
       "        text-align: right;\n",
       "    }\n",
       "</style>\n",
       "<table border=\"1\" class=\"dataframe\">\n",
       "  <thead>\n",
       "    <tr style=\"text-align: right;\">\n",
       "      <th></th>\n",
       "      <th>PRONAC</th>\n",
       "      <th>idPlanilhaAprovacao</th>\n",
       "      <th>nrCNPJCPF</th>\n",
       "      <th>Item</th>\n",
       "      <th>DataProjeto</th>\n",
       "    </tr>\n",
       "  </thead>\n",
       "  <tbody>\n",
       "    <tr>\n",
       "      <th>195</th>\n",
       "      <td>1011390</td>\n",
       "      <td>25416</td>\n",
       "      <td>80303837000149</td>\n",
       "      <td>Refeição</td>\n",
       "      <td>2010-11-26 14:17:57</td>\n",
       "    </tr>\n",
       "    <tr>\n",
       "      <th>205</th>\n",
       "      <td>1011390</td>\n",
       "      <td>25419</td>\n",
       "      <td>81667636000193</td>\n",
       "      <td>Refeição</td>\n",
       "      <td>2010-11-26 14:17:57</td>\n",
       "    </tr>\n",
       "    <tr>\n",
       "      <th>204</th>\n",
       "      <td>1011390</td>\n",
       "      <td>25418</td>\n",
       "      <td>3610810000158</td>\n",
       "      <td>Refeição</td>\n",
       "      <td>2010-11-26 14:17:57</td>\n",
       "    </tr>\n",
       "    <tr>\n",
       "      <th>203</th>\n",
       "      <td>1011390</td>\n",
       "      <td>25418</td>\n",
       "      <td>3029911000130</td>\n",
       "      <td>Refeição</td>\n",
       "      <td>2010-11-26 14:17:57</td>\n",
       "    </tr>\n",
       "    <tr>\n",
       "      <th>202</th>\n",
       "      <td>1011390</td>\n",
       "      <td>25418</td>\n",
       "      <td>11169220000160</td>\n",
       "      <td>Refeição</td>\n",
       "      <td>2010-11-26 14:17:57</td>\n",
       "    </tr>\n",
       "  </tbody>\n",
       "</table>\n",
       "</div>"
      ],
      "text/plain": [
       "      PRONAC  idPlanilhaAprovacao       nrCNPJCPF      Item  \\\n",
       "195  1011390                25416  80303837000149  Refeição   \n",
       "205  1011390                25419  81667636000193  Refeição   \n",
       "204  1011390                25418   3610810000158  Refeição   \n",
       "203  1011390                25418   3029911000130  Refeição   \n",
       "202  1011390                25418  11169220000160  Refeição   \n",
       "\n",
       "             DataProjeto  \n",
       "195  2010-11-26 14:17:57  \n",
       "205  2010-11-26 14:17:57  \n",
       "204  2010-11-26 14:17:57  \n",
       "203  2010-11-26 14:17:57  \n",
       "202  2010-11-26 14:17:57  "
      ]
     },
     "execution_count": 5,
     "metadata": {},
     "output_type": "execute_result"
    }
   ],
   "source": [
    "dt_merge = dt_comprovacao.merge(dt_aprovacao, on='idPlanilhaAprovacao', how='inner')\n",
    "dt_merge.sort_values(by=['DataProjeto'], inplace=True)\n",
    "dt_merge.head()"
   ]
  },
  {
   "cell_type": "markdown",
   "metadata": {},
   "source": [
    "### Dados de teste e treino"
   ]
  },
  {
   "cell_type": "code",
   "execution_count": 6,
   "metadata": {
    "scrolled": true
   },
   "outputs": [],
   "source": [
    "from sklearn.model_selection import train_test_split\n",
    "\n",
    "\n",
    "all_pronacs = dt_merge.PRONAC.unique()\n",
    "pronacs_train, pronacs_test = train_test_split(all_pronacs, test_size=0.5)\n",
    "\n",
    "\n",
    "dt_train = dt_merge[dt_merge['PRONAC'].isin(pronacs_train)]\n",
    "dt_test = dt_merge[dt_merge['PRONAC'].isin(pronacs_test)]"
   ]
  },
  {
   "cell_type": "code",
   "execution_count": 7,
   "metadata": {
    "scrolled": true
   },
   "outputs": [
    {
     "name": "stdout",
     "output_type": "stream",
     "text": [
      "pronacs_train = [ 158567  155366  162520 ...  158679 1114823  133632]\n",
      "pronacs_test = [154358 149614 164674 ... 113762 150188 161910]\n"
     ]
    },
    {
     "data": {
      "text/html": [
       "<div>\n",
       "<style scoped>\n",
       "    .dataframe tbody tr th:only-of-type {\n",
       "        vertical-align: middle;\n",
       "    }\n",
       "\n",
       "    .dataframe tbody tr th {\n",
       "        vertical-align: top;\n",
       "    }\n",
       "\n",
       "    .dataframe thead th {\n",
       "        text-align: right;\n",
       "    }\n",
       "</style>\n",
       "<table border=\"1\" class=\"dataframe\">\n",
       "  <thead>\n",
       "    <tr style=\"text-align: right;\">\n",
       "      <th></th>\n",
       "      <th>PRONAC</th>\n",
       "      <th>idPlanilhaAprovacao</th>\n",
       "      <th>nrCNPJCPF</th>\n",
       "      <th>Item</th>\n",
       "      <th>DataProjeto</th>\n",
       "    </tr>\n",
       "  </thead>\n",
       "  <tbody>\n",
       "    <tr>\n",
       "      <th>195</th>\n",
       "      <td>1011390</td>\n",
       "      <td>25416</td>\n",
       "      <td>80303837000149</td>\n",
       "      <td>Refeição</td>\n",
       "      <td>2010-11-26 14:17:57</td>\n",
       "    </tr>\n",
       "    <tr>\n",
       "      <th>205</th>\n",
       "      <td>1011390</td>\n",
       "      <td>25419</td>\n",
       "      <td>81667636000193</td>\n",
       "      <td>Refeição</td>\n",
       "      <td>2010-11-26 14:17:57</td>\n",
       "    </tr>\n",
       "    <tr>\n",
       "      <th>204</th>\n",
       "      <td>1011390</td>\n",
       "      <td>25418</td>\n",
       "      <td>3610810000158</td>\n",
       "      <td>Refeição</td>\n",
       "      <td>2010-11-26 14:17:57</td>\n",
       "    </tr>\n",
       "    <tr>\n",
       "      <th>203</th>\n",
       "      <td>1011390</td>\n",
       "      <td>25418</td>\n",
       "      <td>3029911000130</td>\n",
       "      <td>Refeição</td>\n",
       "      <td>2010-11-26 14:17:57</td>\n",
       "    </tr>\n",
       "    <tr>\n",
       "      <th>202</th>\n",
       "      <td>1011390</td>\n",
       "      <td>25418</td>\n",
       "      <td>11169220000160</td>\n",
       "      <td>Refeição</td>\n",
       "      <td>2010-11-26 14:17:57</td>\n",
       "    </tr>\n",
       "  </tbody>\n",
       "</table>\n",
       "</div>"
      ],
      "text/plain": [
       "      PRONAC  idPlanilhaAprovacao       nrCNPJCPF      Item  \\\n",
       "195  1011390                25416  80303837000149  Refeição   \n",
       "205  1011390                25419  81667636000193  Refeição   \n",
       "204  1011390                25418   3610810000158  Refeição   \n",
       "203  1011390                25418   3029911000130  Refeição   \n",
       "202  1011390                25418  11169220000160  Refeição   \n",
       "\n",
       "             DataProjeto  \n",
       "195  2010-11-26 14:17:57  \n",
       "205  2010-11-26 14:17:57  \n",
       "204  2010-11-26 14:17:57  \n",
       "203  2010-11-26 14:17:57  \n",
       "202  2010-11-26 14:17:57  "
      ]
     },
     "metadata": {},
     "output_type": "display_data"
    },
    {
     "data": {
      "text/html": [
       "<div>\n",
       "<style scoped>\n",
       "    .dataframe tbody tr th:only-of-type {\n",
       "        vertical-align: middle;\n",
       "    }\n",
       "\n",
       "    .dataframe tbody tr th {\n",
       "        vertical-align: top;\n",
       "    }\n",
       "\n",
       "    .dataframe thead th {\n",
       "        text-align: right;\n",
       "    }\n",
       "</style>\n",
       "<table border=\"1\" class=\"dataframe\">\n",
       "  <thead>\n",
       "    <tr style=\"text-align: right;\">\n",
       "      <th></th>\n",
       "      <th>PRONAC</th>\n",
       "      <th>idPlanilhaAprovacao</th>\n",
       "      <th>nrCNPJCPF</th>\n",
       "      <th>Item</th>\n",
       "      <th>DataProjeto</th>\n",
       "    </tr>\n",
       "  </thead>\n",
       "  <tbody>\n",
       "    <tr>\n",
       "      <th>343</th>\n",
       "      <td>110023</td>\n",
       "      <td>68555</td>\n",
       "      <td>8919480000109</td>\n",
       "      <td>Projeto Arquitetônico de Restauro</td>\n",
       "      <td>2011-01-03 12:57:19</td>\n",
       "    </tr>\n",
       "    <tr>\n",
       "      <th>327</th>\n",
       "      <td>110023</td>\n",
       "      <td>68548</td>\n",
       "      <td>7219739000138</td>\n",
       "      <td>Projeto Arquitetônico</td>\n",
       "      <td>2011-01-03 12:57:19</td>\n",
       "    </tr>\n",
       "    <tr>\n",
       "      <th>342</th>\n",
       "      <td>110023</td>\n",
       "      <td>68555</td>\n",
       "      <td>7219739000138</td>\n",
       "      <td>Projeto Arquitetônico de Restauro</td>\n",
       "      <td>2011-01-03 12:57:19</td>\n",
       "    </tr>\n",
       "    <tr>\n",
       "      <th>341</th>\n",
       "      <td>110023</td>\n",
       "      <td>68555</td>\n",
       "      <td>7219739000138</td>\n",
       "      <td>Projeto Arquitetônico de Restauro</td>\n",
       "      <td>2011-01-03 12:57:19</td>\n",
       "    </tr>\n",
       "    <tr>\n",
       "      <th>340</th>\n",
       "      <td>110023</td>\n",
       "      <td>68553</td>\n",
       "      <td>7219739000138</td>\n",
       "      <td>Projeto de iluminação</td>\n",
       "      <td>2011-01-03 12:57:19</td>\n",
       "    </tr>\n",
       "  </tbody>\n",
       "</table>\n",
       "</div>"
      ],
      "text/plain": [
       "     PRONAC  idPlanilhaAprovacao      nrCNPJCPF  \\\n",
       "343  110023                68555  8919480000109   \n",
       "327  110023                68548  7219739000138   \n",
       "342  110023                68555  7219739000138   \n",
       "341  110023                68555  7219739000138   \n",
       "340  110023                68553  7219739000138   \n",
       "\n",
       "                                   Item          DataProjeto  \n",
       "343  Projeto Arquitetônico de Restauro   2011-01-03 12:57:19  \n",
       "327               Projeto Arquitetônico  2011-01-03 12:57:19  \n",
       "342  Projeto Arquitetônico de Restauro   2011-01-03 12:57:19  \n",
       "341  Projeto Arquitetônico de Restauro   2011-01-03 12:57:19  \n",
       "340               Projeto de iluminação  2011-01-03 12:57:19  "
      ]
     },
     "metadata": {},
     "output_type": "display_data"
    }
   ],
   "source": [
    "print('pronacs_train = {}'.format(pronacs_train))\n",
    "print('pronacs_test = {}'.format(pronacs_test))\n",
    "\n",
    "assert (dt_train.shape[0] + dt_test.shape[0]) == dt_merge.shape[0]\n",
    "\n",
    "display(dt_train.head())\n",
    "display(dt_test.head())"
   ]
  },
  {
   "cell_type": "code",
   "execution_count": 8,
   "metadata": {},
   "outputs": [],
   "source": [
    "def debug(a, x):\n",
    "    print('{} = {}'.format(a, x))"
   ]
  },
  {
   "cell_type": "markdown",
   "metadata": {},
   "source": [
    "# Estatísticas sobre a base de dados"
   ]
  },
  {
   "cell_type": "code",
   "execution_count": 9,
   "metadata": {
    "scrolled": true
   },
   "outputs": [
    {
     "data": {
      "image/png": "[encoded data removed]",
      "text/plain": [
       "<Figure size 432x288 with 1 Axes>"
      ]
     },
     "metadata": {},
     "output_type": "display_data"
    },
    {
     "name": "stdout",
     "output_type": "stream",
     "text": [
      "mean = 0.6827814896184252\n",
      "std = 0.274710639605128\n"
     ]
    },
    {
     "data": {
      "text/html": [
       "<div>\n",
       "<style scoped>\n",
       "    .dataframe tbody tr th:only-of-type {\n",
       "        vertical-align: middle;\n",
       "    }\n",
       "\n",
       "    .dataframe tbody tr th {\n",
       "        vertical-align: top;\n",
       "    }\n",
       "\n",
       "    .dataframe thead th {\n",
       "        text-align: right;\n",
       "    }\n",
       "</style>\n",
       "<table border=\"1\" class=\"dataframe\">\n",
       "  <thead>\n",
       "    <tr style=\"text-align: right;\">\n",
       "      <th></th>\n",
       "      <th>0</th>\n",
       "    </tr>\n",
       "  </thead>\n",
       "  <tbody>\n",
       "    <tr>\n",
       "      <th>count</th>\n",
       "      <td>2795.000000</td>\n",
       "    </tr>\n",
       "    <tr>\n",
       "      <th>mean</th>\n",
       "      <td>0.682781</td>\n",
       "    </tr>\n",
       "    <tr>\n",
       "      <th>std</th>\n",
       "      <td>0.274760</td>\n",
       "    </tr>\n",
       "    <tr>\n",
       "      <th>min</th>\n",
       "      <td>0.000000</td>\n",
       "    </tr>\n",
       "    <tr>\n",
       "      <th>25%</th>\n",
       "      <td>0.500000</td>\n",
       "    </tr>\n",
       "    <tr>\n",
       "      <th>50%</th>\n",
       "      <td>0.740385</td>\n",
       "    </tr>\n",
       "    <tr>\n",
       "      <th>75%</th>\n",
       "      <td>0.919459</td>\n",
       "    </tr>\n",
       "    <tr>\n",
       "      <th>max</th>\n",
       "      <td>1.000000</td>\n",
       "    </tr>\n",
       "  </tbody>\n",
       "</table>\n",
       "</div>"
      ],
      "text/plain": [
       "                 0\n",
       "count  2795.000000\n",
       "mean      0.682781\n",
       "std       0.274760\n",
       "min       0.000000\n",
       "25%       0.500000\n",
       "50%       0.740385\n",
       "75%       0.919459\n",
       "max       1.000000"
      ]
     },
     "metadata": {},
     "output_type": "display_data"
    }
   ],
   "source": [
    "def init_hist(dt=None):\n",
    "    if dt is None:\n",
    "        dt = dt_merge\n",
    "        \n",
    "    providers = set()\n",
    "    pronac_providers = {}\n",
    "    pronac_new_providers = {}\n",
    "    \n",
    "    for index, row in dt.iterrows():\n",
    "        cnpj = row['nrCNPJCPF']\n",
    "        pronac = row['PRONAC']\n",
    "        \n",
    "        pronac_providers.setdefault(pronac, set())\n",
    "        pronac_new_providers.setdefault(pronac, 0)\n",
    "        \n",
    "        pronac_providers[pronac].add(cnpj)\n",
    "        if cnpj not in providers:\n",
    "            pronac_new_providers[pronac] += 1\n",
    "            providers.add(cnpj)\n",
    "    \n",
    "    arr = [pronac_new_providers[x] / len(pronac_providers[x]) for x in pronac_providers]\n",
    "    mean = np.mean(arr)\n",
    "    std = np.std(arr)\n",
    "    \n",
    "    #debug('providers', providers)\n",
    "    #debug('pronac_providers', pronac_providers)\n",
    "    #debug('pronac_new_providers', pronac_new_providers)\n",
    "    #debug('arr', arr)\n",
    "    \n",
    "    plt.hist(arr, bins = 100)\n",
    "    plt.xlabel('Porcentagem de fornecedores novos')\n",
    "    plt.ylabel('Número de projetos')\n",
    "    plt.title('Fornecedores novos entre todos os projetos')\n",
    "    plt.show()\n",
    "    return arr, mean, std\n",
    "\n",
    "porcentages, mean, std = init_hist(dt=dt_merge)\n",
    "\n",
    "debug('mean', mean)\n",
    "debug('std', std)\n",
    "display(pd.DataFrame(np.array(porcentages)).describe())"
   ]
  },
  {
   "cell_type": "code",
   "execution_count": 10,
   "metadata": {},
   "outputs": [
    {
     "name": "stdout",
     "output_type": "stream",
     "text": [
      "percentile(77.5) = 0.9375\n",
      "percentile(80.0) = 0.9611965811965814\n",
      "percentile(82.5) = 1.0\n",
      "percentile(85.0) = 1.0\n",
      "percentile(87.5) = 1.0\n",
      "percentile(90.0) = 1.0\n",
      "percentile(92.5) = 1.0\n",
      "percentile(95.0) = 1.0\n",
      "percentile(97.5) = 1.0\n",
      "percentile(100.0) = 1.0\n"
     ]
    }
   ],
   "source": [
    "p = 75.0\n",
    "while p < 100.0:\n",
    "    p += 2.5\n",
    "    \n",
    "    percentile = np.percentile(porcentages, p)\n",
    "    print('percentile({}) = {}'.format(p, percentile))"
   ]
  },
  {
   "cell_type": "markdown",
   "metadata": {},
   "source": [
    "# Comentários sobre os dados\n",
    "\n",
    "A maioria (75%) dos projetos possuem até 91% de fornecedores novos, ou seja, fornecedores que não estiveram em nenhum outro projeto que chegou à fase de Análise Financeira. Na prática a noção de \"outlier\" fica mais complicada. Por exemplo: se consideramos que um projeto é outlier se 100% de seus fornecedores são \"novos\" (nunca antes vistos), então `19%` da base de dados seria classificada como \"outlier\". Mesmo com um valor extremo (1.0) para classificar um projeto como outlier, muitos projetos (`19%`) seriam outliers.  "
   ]
  },
  {
   "cell_type": "markdown",
   "metadata": {},
   "source": [
    "### Preparando o treino"
   ]
  },
  {
   "cell_type": "code",
   "execution_count": 11,
   "metadata": {
    "scrolled": true
   },
   "outputs": [],
   "source": [
    "def get_providers(pronac):\n",
    "    \"\"\"Get distinct providers (CNPJS) for the given pronac\"\"\"\n",
    "    items = dt_comprovacao[dt_comprovacao.PRONAC == pronac]\n",
    "    cnpjs = items['nrCNPJCPF'].unique()\n",
    "    return cnpjs\n",
    "\n",
    "def are_known_cnpjs(pronac, providers, dt=None):\n",
    "    \"\"\"Assumes that each element in providers is unique.\n",
    "       The i-th position of the return value is True\n",
    "       if and only if providers[i] is a new provider\n",
    "    \"\"\"\n",
    "    \n",
    "    if dt is None:\n",
    "        dt = dt_comprovacao\n",
    "        \n",
    "    items = dt[dt.PRONAC != pronac]\n",
    "    cnpjs = items['nrCNPJCPF'].unique()\n",
    "    return np.isin(providers, cnpjs)\n",
    "    \n",
    "p = np.random.choice(dt_comprovacao.PRONAC.values)\n",
    "providers = get_providers(p)\n",
    "response = are_known_cnpjs(p, providers)"
   ]
  },
  {
   "cell_type": "markdown",
   "metadata": {},
   "source": [
    "### O problema de assumir que a distribuição é Gaussiana\n",
    "\n",
    "A partir do histograma plotado nas células acima ficou claro que a distribuição não parece com uma Gaussiana. Um segundo problema é que a abordagem de comparar `x` com `média + c * desvio_padrao` é que este valor pode ser sempre maior que `1.0`, enquanto `0.0 <= x <= 1.0` para todos os `x`, já que estamos comparando a porcentagens de fornecedores novos entre todos os fornecedores do projeto. Ou seja, Os projetos nunca seriam considerados outliers. "
   ]
  },
  {
   "cell_type": "code",
   "execution_count": 12,
   "metadata": {
    "scrolled": true
   },
   "outputs": [
    {
     "name": "stdout",
     "output_type": "stream",
     "text": [
      "pronac = 163798\n"
     ]
    },
    {
     "data": {
      "text/plain": [
       "(False, 0.7738095238095238)"
      ]
     },
     "execution_count": 12,
     "metadata": {},
     "output_type": "execute_result"
    }
   ],
   "source": [
    "def is_pronac_outlier(pronac, percentile, dt):\n",
    "    providers = get_providers(pronac)\n",
    "    \n",
    "    total_providers = len(providers)\n",
    "    total_new_providers = total_providers - np.sum(are_known_cnpjs(pronac, providers, dt=dt))\n",
    "    \n",
    "    new_percentage = total_new_providers / total_providers\n",
    "    outlier = new_percentage > percentile\n",
    "    return outlier, new_percentage\n",
    "\n",
    "pronac = np.random.choice(dt_test.PRONAC.values)\n",
    "debug('pronac', pronac)\n",
    "is_pronac_outlier(pronac, percentile = 0.95, dt=dt_test)"
   ]
  },
  {
   "cell_type": "markdown",
   "metadata": {},
   "source": [
    "# Treino"
   ]
  },
  {
   "cell_type": "code",
   "execution_count": 13,
   "metadata": {},
   "outputs": [
    {
     "data": {
      "image/png": "[encoded data removed]",
      "text/plain": [
       "<Figure size 432x288 with 1 Axes>"
      ]
     },
     "metadata": {},
     "output_type": "display_data"
    },
    {
     "name": "stdout",
     "output_type": "stream",
     "text": [
      "percentile(70) = 0.95\n"
     ]
    }
   ],
   "source": [
    "porcentages, mean, std = init_hist(dt=dt_train)\n",
    "percentile_quota = 70\n",
    "percentile = np.percentile(porcentages, percentile_quota)\n",
    "\n",
    "print('percentile({}) = {}'.format(percentile_quota, percentile))"
   ]
  },
  {
   "cell_type": "markdown",
   "metadata": {},
   "source": [
    "# Teste"
   ]
  },
  {
   "cell_type": "code",
   "execution_count": 14,
   "metadata": {
    "scrolled": true
   },
   "outputs": [
    {
     "data": {
      "text/html": [
       "<div>\n",
       "<style scoped>\n",
       "    .dataframe tbody tr th:only-of-type {\n",
       "        vertical-align: middle;\n",
       "    }\n",
       "\n",
       "    .dataframe tbody tr th {\n",
       "        vertical-align: top;\n",
       "    }\n",
       "\n",
       "    .dataframe thead th {\n",
       "        text-align: right;\n",
       "    }\n",
       "</style>\n",
       "<table border=\"1\" class=\"dataframe\">\n",
       "  <thead>\n",
       "    <tr style=\"text-align: right;\">\n",
       "      <th></th>\n",
       "      <th>0</th>\n",
       "    </tr>\n",
       "  </thead>\n",
       "  <tbody>\n",
       "    <tr>\n",
       "      <th>count</th>\n",
       "      <td>1398.000000</td>\n",
       "    </tr>\n",
       "    <tr>\n",
       "      <th>mean</th>\n",
       "      <td>0.100143</td>\n",
       "    </tr>\n",
       "    <tr>\n",
       "      <th>std</th>\n",
       "      <td>0.300298</td>\n",
       "    </tr>\n",
       "    <tr>\n",
       "      <th>min</th>\n",
       "      <td>0.000000</td>\n",
       "    </tr>\n",
       "    <tr>\n",
       "      <th>25%</th>\n",
       "      <td>0.000000</td>\n",
       "    </tr>\n",
       "    <tr>\n",
       "      <th>50%</th>\n",
       "      <td>0.000000</td>\n",
       "    </tr>\n",
       "    <tr>\n",
       "      <th>75%</th>\n",
       "      <td>0.000000</td>\n",
       "    </tr>\n",
       "    <tr>\n",
       "      <th>max</th>\n",
       "      <td>1.000000</td>\n",
       "    </tr>\n",
       "  </tbody>\n",
       "</table>\n",
       "</div>"
      ],
      "text/plain": [
       "                 0\n",
       "count  1398.000000\n",
       "mean      0.100143\n",
       "std       0.300298\n",
       "min       0.000000\n",
       "25%       0.000000\n",
       "50%       0.000000\n",
       "75%       0.000000\n",
       "max       1.000000"
      ]
     },
     "metadata": {},
     "output_type": "display_data"
    }
   ],
   "source": [
    "pronacs_test = dt_test.PRONAC.unique()\n",
    "\n",
    "outlier_arr = []\n",
    "porcentages_arr = []\n",
    "\n",
    "for i, pronac in enumerate(pronacs_test):\n",
    "    try:\n",
    "        outlier, new_porcentage = is_pronac_outlier(int(pronac), percentile=percentile, dt=dt_test)\n",
    "        outlier_arr.append(1.0 if outlier else 0.0)\n",
    "        porcentages_arr.append(new_porcentage)\n",
    "    except ValueError as err:\n",
    "        print(err)\n",
    "    \n",
    "describe = pd.DataFrame(outlier_arr).describe()\n",
    "display(describe)"
   ]
  }
 ],
 "metadata": {
  "kernelspec": {
   "display_name": "Python 3",
   "language": "python",
   "name": "python3"
  },
  "language_info": {
   "codemirror_mode": {
    "name": "ipython",
    "version": 3
   },
   "file_extension": ".py",
   "mimetype": "text/x-python",
   "name": "python",
   "nbconvert_exporter": "python",
   "pygments_lexer": "ipython3",
   "version": "3.6.4"
  }
 },
 "nbformat": 4,
 "nbformat_minor": 2
}
