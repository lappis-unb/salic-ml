{
 "cells": [
  {
   "cell_type": "markdown",
   "metadata": {},
   "source": [
    "### Validando a detecção de anomalias para a feature \"Novos distribuidores\""
   ]
  },
  {
   "cell_type": "markdown",
   "metadata": {},
   "source": [
    "**Issue**: [#60](https://github.com/lappis-unb/salic-ml/issues/60)"
   ]
  },
  {
   "cell_type": "markdown",
   "metadata": {},
   "source": [
    "### Features Extracted:\n",
    "\n",
    "- https://github.com/lappis-unb/salic-ml/wiki/Brainstorming-de-features-para-estimar-Complexidade-Financeira"
   ]
  },
  {
   "cell_type": "markdown",
   "metadata": {},
   "source": [
    "#### Recarregar automaticamente os módulos"
   ]
  },
  {
   "cell_type": "markdown",
   "metadata": {},
   "source": [
    "### Planila comprovação\n",
    "\n",
    "SQL Query: https://github.com/lappis-unb/salic-ml/blob/master/data/scripts/planilha_comprovacao2.sql\n"
   ]
  },
  {
   "cell_type": "code",
   "execution_count": 1,
   "metadata": {},
   "outputs": [],
   "source": [
    "%load_ext autoreload\n",
    "%autoreload 2"
   ]
  },
  {
   "cell_type": "markdown",
   "metadata": {},
   "source": [
    "### Importing data"
   ]
  },
  {
   "cell_type": "markdown",
   "metadata": {},
   "source": [
    "### FEATURES \n",
    "    - Novos distribuidores"
   ]
  },
  {
   "cell_type": "code",
   "execution_count": 2,
   "metadata": {
    "scrolled": true
   },
   "outputs": [
    {
     "name": "stderr",
     "output_type": "stream",
     "text": [
      "/home/mandala/.pyenv/versions/3.6.4/lib/python3.6/importlib/_bootstrap.py:219: RuntimeWarning: numpy.dtype size changed, may indicate binary incompatibility. Expected 96, got 88\n",
      "  return f(*args, **kwds)\n",
      "/home/mandala/.pyenv/versions/3.6.4/lib/python3.6/importlib/_bootstrap.py:219: RuntimeWarning: numpy.dtype size changed, may indicate binary incompatibility. Expected 96, got 88\n",
      "  return f(*args, **kwds)\n"
     ]
    }
   ],
   "source": [
    "import os\n",
    "import sys\n",
    "import time\n",
    "import numpy as np\n",
    "import pandas as pd\n",
    "import matplotlib.pyplot as plt\n",
    "from scipy import stats\n",
    "\n",
    "\n",
    "from salicml.utils.dates import Dates\n",
    "from salicml.utils.read_csv import read_csv\n",
    "from salicml.utils.utils import debug\n",
    "\n",
    "PROJECT_ROOT = os.path.abspath(os.path.join(os.pardir, os.pardir))\n",
    "DATA_FOLDER = os.path.join(PROJECT_ROOT, 'data', 'raw')"
   ]
  },
  {
   "cell_type": "markdown",
   "metadata": {},
   "source": [
    "### Dataset de comprovação"
   ]
  },
  {
   "cell_type": "code",
   "execution_count": 35,
   "metadata": {
    "scrolled": true
   },
   "outputs": [
    {
     "data": {
      "text/plain": [
       "Index(['PRONAC', 'idPlanilhaAprovacao', 'idSegmento', 'Item', 'DataProjeto',\n",
       "       'nrCNPJCPF', 'nmFornecedor'],\n",
       "      dtype='object')"
      ]
     },
     "metadata": {},
     "output_type": "display_data"
    },
    {
     "data": {
      "text/html": [
       "<div>\n",
       "<style scoped>\n",
       "    .dataframe tbody tr th:only-of-type {\n",
       "        vertical-align: middle;\n",
       "    }\n",
       "\n",
       "    .dataframe tbody tr th {\n",
       "        vertical-align: top;\n",
       "    }\n",
       "\n",
       "    .dataframe thead th {\n",
       "        text-align: right;\n",
       "    }\n",
       "</style>\n",
       "<table border=\"1\" class=\"dataframe\">\n",
       "  <thead>\n",
       "    <tr style=\"text-align: right;\">\n",
       "      <th></th>\n",
       "      <th>PRONAC</th>\n",
       "      <th>idPlanilhaAprovacao</th>\n",
       "      <th>idSegmento</th>\n",
       "      <th>Item</th>\n",
       "      <th>DataProjeto</th>\n",
       "      <th>nrCNPJCPF</th>\n",
       "      <th>nmFornecedor</th>\n",
       "    </tr>\n",
       "  </thead>\n",
       "  <tbody>\n",
       "    <tr>\n",
       "      <th>0</th>\n",
       "      <td>1012121</td>\n",
       "      <td>18552</td>\n",
       "      <td>71</td>\n",
       "      <td>Projeto Gráfico</td>\n",
       "      <td>2010-12-14 15:04:51</td>\n",
       "      <td>13751832000191</td>\n",
       "      <td>Flag Comunicação Ltda</td>\n",
       "    </tr>\n",
       "    <tr>\n",
       "      <th>1</th>\n",
       "      <td>1012121</td>\n",
       "      <td>18553</td>\n",
       "      <td>71</td>\n",
       "      <td>Produção de texto</td>\n",
       "      <td>2010-12-14 15:04:51</td>\n",
       "      <td>50618057000127</td>\n",
       "      <td>Comunic Comunicadores Associados SC Ltda.</td>\n",
       "    </tr>\n",
       "    <tr>\n",
       "      <th>2</th>\n",
       "      <td>1012121</td>\n",
       "      <td>18554</td>\n",
       "      <td>71</td>\n",
       "      <td>Fotografia artística (fotógrafo, tratamento, r...</td>\n",
       "      <td>2010-12-14 15:04:51</td>\n",
       "      <td>1118139000105</td>\n",
       "      <td>M, Vitorino Comunicação Ltda. EPP</td>\n",
       "    </tr>\n",
       "    <tr>\n",
       "      <th>3</th>\n",
       "      <td>1012121</td>\n",
       "      <td>18555</td>\n",
       "      <td>71</td>\n",
       "      <td>Tratamento de imagens</td>\n",
       "      <td>2010-12-14 15:04:51</td>\n",
       "      <td>11049176000154</td>\n",
       "      <td>IAC Produções Ltda.</td>\n",
       "    </tr>\n",
       "    <tr>\n",
       "      <th>4</th>\n",
       "      <td>1012121</td>\n",
       "      <td>18556</td>\n",
       "      <td>71</td>\n",
       "      <td>Edição de Texto</td>\n",
       "      <td>2010-12-14 15:04:51</td>\n",
       "      <td>50618057000127</td>\n",
       "      <td>Comunic Comunicadores Associados SC Ltda.</td>\n",
       "    </tr>\n",
       "  </tbody>\n",
       "</table>\n",
       "</div>"
      ],
      "text/plain": [
       "    PRONAC  idPlanilhaAprovacao idSegmento  \\\n",
       "0  1012121                18552         71   \n",
       "1  1012121                18553         71   \n",
       "2  1012121                18554         71   \n",
       "3  1012121                18555         71   \n",
       "4  1012121                18556         71   \n",
       "\n",
       "                                                Item          DataProjeto  \\\n",
       "0                                    Projeto Gráfico  2010-12-14 15:04:51   \n",
       "1                                  Produção de texto  2010-12-14 15:04:51   \n",
       "2  Fotografia artística (fotógrafo, tratamento, r...  2010-12-14 15:04:51   \n",
       "3                              Tratamento de imagens  2010-12-14 15:04:51   \n",
       "4                                    Edição de Texto  2010-12-14 15:04:51   \n",
       "\n",
       "        nrCNPJCPF                               nmFornecedor  \n",
       "0  13751832000191                      Flag Comunicação Ltda  \n",
       "1  50618057000127  Comunic Comunicadores Associados SC Ltda.  \n",
       "2   1118139000105          M, Vitorino Comunicação Ltda. EPP  \n",
       "3  11049176000154                        IAC Produções Ltda.  \n",
       "4  50618057000127  Comunic Comunicadores Associados SC Ltda.  "
      ]
     },
     "execution_count": 35,
     "metadata": {},
     "output_type": "execute_result"
    }
   ],
   "source": [
    "dt_comprovacao_name = 'planilha_comprovacao_2.csv'\n",
    "\n",
    "usecols = ['PRONAC', 'nrCNPJCPF', 'DataProjeto', 'idPlanilhaAprovacao', 'Item', 'nmFornecedor', 'idSegmento']\n",
    "#usecols = None\n",
    "\n",
    "dt_comprovacao = read_csv(dt_comprovacao_name, usecols=usecols)\n",
    "display(dt_comprovacao.columns)\n",
    "dt_comprovacao.head()"
   ]
  },
  {
   "cell_type": "code",
   "execution_count": 52,
   "metadata": {},
   "outputs": [
    {
     "name": "stdout",
     "output_type": "stream",
     "text": [
      "segments_average = {'54': 0.6666666666666666, '13': 0.5498270395733517, '31': 0.5156067485375325, '33': 0.4475782745535542, '32': 0.3835276081397546, '44': 0.6666666666666666, '12': 0.4990208967141673, '26': 0.6729717326497135, '61': 0.6661190855927698, '42': 0.7777777777777778, '11': 0.4372123221772933, '59': 0.875, '71': 0.7801827801827802, '41': 0.5479030910609858, '5F': 0.6425794788525121, '2J': 0.44160968218713226, '6E': 0.4737667765467342, '6C': 0.49112754835962824, '6G': 0.6031746031746031, '4B': 0.5020494856232984, '5P': 0.62, '5E': 0.5240016803540452, '6D': 0.5147616153684988, '17': 0.5913188628853553, '5R': 0.9172932330827068, '68': 0.4449843977012076, '5A': 0.6583157992821922, '46': 0.744096292992368, '4G': 0.8333333333333334, '2C': 0.5112154823174657, '6A': 0.6648709315375981, '21': 0.8235294117647058, '2B': 0.0, '5K': 0.5967949510557541, '2L': 0.5, '5N': 0.4709816303099885, '5G': 0.7064764768028493, '49': 0.29656167979002623, '5J': 0.6666666666666666, '2P': 0.7638888888888888, '65': 0.4448339028636096, '23': 0.66955059601928, '2O': 0.29556159420289857, '5B': 0.530881734006734, '6H': 0.0, '84': 1.0, '14': 0.3535926919877348, '6F': 0.6883333333333332, '2K': 0.4583333333333333, '4F': 0.5261196872555595, '5I': 0.4601863960894885, '82': 0.7260770838357045, '6B': 0.6390037593984962, '62': 0.8094512195121951, '2A': 0.4295880149812734, '5L': 0.4444444444444444, '28': 0.4442960661938764, '85': 0.8235294117647058, '2F': 0.72, '1I': 0.29408032338560813, '37': 0.6, '2T': 0.36204925704610313, '1B': 0.708589349718382, '1A': 0.625, '1D': 0.45454545454545453, '5W': 0.29642857142857143, '9I': 0.0, '55': 0.5, '81': 0.8214285714285714}\n",
      "pronact = 1012121\n",
      "response = {'new_providers': {13751832000191: {'name': 'Flag Comunicação Ltda', 'items': {18552: 'Projeto Gráfico', 18557: 'Editoração Eletrônica'}}, 50618057000127: {'name': 'Comunic Comunicadores Associados SC Ltda.', 'items': {18553: 'Produção de texto', 18556: 'Edição de Texto'}}, 1118139000105: {'name': 'M, Vitorino Comunicação Ltda. EPP', 'items': {18554: 'Fotografia artística (fotógrafo, tratamento, revelação, etc.)', 18565: 'Consultor de conteúdos e imagens', 18582: 'Coordenação geral'}}, 11049176000154: {'name': 'IAC Produções Ltda.', 'items': {18555: 'Tratamento de imagens'}}, 69099190000142: {'name': 'ACM Prestação de Serviços Ltda', 'items': {18558: 'Revisão de texto'}}, 43627470000192: {'name': 'Auto Posto Pedra Azul Ltda', 'items': {18561: 'Combustível'}}, 2496227000103: {'name': 'Auto Posto Ipiranguinha de Ubatuba Ltda', 'items': {18561: 'Combustível'}}, 9632463000140: {'name': 'Auto Posto de Gasolina Recreio Ltda', 'items': {18561: 'Combustível'}}, 4589633000138: {'name': 'Centro Comercial Rio Una Ltda', 'items': {18561: 'Combustível'}}, 4305582000175: {'name': 'Rede de Serviços Pachecão Ltda', 'items': {18561: 'Combustível'}}, 8362201000140: {'name': 'Auto-Posto Portal Perequê-Açu Ltda.', 'items': {18561: 'Combustível'}}, 44980530000119: {'name': 'Auto Posto Arrastão Ltda.', 'items': {18561: 'Combustível'}}, 43802016000120: {'name': 'RR Combustíveis Ltda.', 'items': {18561: 'Combustível'}}, 51705887000154: {'name': 'Marvar Contábil Ltda.', 'items': {18562: 'Contador'}}, 12271702000199: {'name': 'Feijão de Corda', 'items': {18563: 'Refeição'}}, 13710943000150: {'name': 'Sueli de Lima Restaurante - ME', 'items': {18563: 'Refeição'}}, 9214871000182: {'name': 'Supermercado Souza & Azevedo Paraty Ltda.', 'items': {18563: 'Refeição'}}, 11149059000162: {'name': 'Armazém Paraty Curiosite Ltda', 'items': {18563: 'Refeição'}}, 8681638000147: {'name': 'Maria Mércia Agostinho - ME', 'items': {18563: 'Refeição'}}, 11404699000171: {'name': 'Culinária Alemã Bar e Restaurante Ltda', 'items': {18563: 'Refeição'}}, 17314329001525: {'name': 'RA Catering Ltda', 'items': {18563: 'Refeição'}}, 8664803000152: {'name': 'Restaurante da Alda de Laranjeiras - ME', 'items': {18563: 'Refeição'}}, 29264520000193: {'name': 'Odores de Oliveira Netto - ME', 'items': {18563: 'Refeição'}}, 5738440000164: {'name': 'Jailson Paulo da Silva - ME', 'items': {18563: 'Refeição'}}, 9013061000168: {'name': 'Christon Comércio de Alimentos Ltda,', 'items': {18563: 'Refeição'}}, 2940164000124: {'name': 'Heraldo Leite Pereira', 'items': {18563: 'Refeição'}}, 10690273000169: {'name': 'Família Maran Grill e Pizzaria Ltda.', 'items': {18563: 'Refeição'}}, 4717678000140: {'name': 'Dèja Vu Ltda - ME', 'items': {18563: 'Refeição'}}, 61397130725: {'name': 'Benedito Claudio de Aquino', 'items': {18564: 'Hospedagem sem alimentação'}}, 28069227000102: {'name': 'Canoas Sociedade de Exploração Hoteleira Ltda.', 'items': {18564: 'Hospedagem sem alimentação'}}, 9507195000135: {'name': 'Arrecifes Hotéis e Turismo Ltda', 'items': {18564: 'Hospedagem sem alimentação'}}, 5195734712: {'name': 'Rogéria Cristina Ramos Costa', 'items': {18564: 'Hospedagem sem alimentação'}}, 13169145000162: {'name': 'Lopez & Badin Projetos de Arte Ltda.', 'items': {18567: 'Arte educador'}}, 12598671000185: {'name': 'Patricia de Paula Leite', 'items': {18567: 'Arte educador'}}, 11195378000104: {'name': 'Taciana Maria Ito Valadares ME', 'items': {18569: 'Fotografia artística (fotógrafo, tratamento, revelação, etc.)'}}, 4012739000174: {'name': 'P. de O. Rossetti Comunicação ME', 'items': {18570: 'Material de apoio pedagógico', 18583: 'Assessor de imprensa'}}, 3618875000140: {'name': 'Arte Papel Total Papelaria Ltda', 'items': {18574: 'Cenografia/material/confecção'}}, 2116742000102: {'name': 'Papelaria Universitária Ltda', 'items': {18574: 'Cenografia/material/confecção', 18576: 'Materiais e equipamentos para montagem'}}, 5979379000147: {'name': 'Copy Aclimação Serviços de Cópias S/S Ltda ME', 'items': {18574: 'Cenografia/material/confecção'}}, 55728224000106: {'name': 'Copafer Comercial Ltda', 'items': {18574: 'Cenografia/material/confecção'}}, 43962539000134: {'name': 'Duarte Com. de Tintas Ltda', 'items': {18574: 'Cenografia/material/confecção'}}, 63004030000196: {'name': 'C&C Casa & Construção Ltda', 'items': {18574: 'Cenografia/material/confecção'}}, 13812072000185: {'name': 'Jailson Freitas Silva', 'items': {18574: 'Cenografia/material/confecção'}}, 54497433000123: {'name': 'Recup de Máquinas para Calçados Takara Ltda', 'items': {18574: 'Cenografia/material/confecção'}}, 71923775000187: {'name': 'Brascard Edição de Postais Ltda.', 'items': {18574: 'Cenografia/material/confecção'}}, 33229519000103: {'name': 'Quinidau Materiais de Construção Ltda', 'items': {18574: 'Cenografia/material/confecção'}}, 4101562000182: {'name': 'Docucopy Copias e Impressoes', 'items': {18574: 'Cenografia/material/confecção'}}, 43444355000182: {'name': 'Papelaria e Livraria Arka Ltda. ME', 'items': {18574: 'Cenografia/material/confecção'}}, 2320379000142: {'name': 'Chromur Comercial Ltda', 'items': {18575: 'Ampliações das imagens'}}, 1513606000193: {'name': 'Design Impresso Bureau de Serviços Gráficos Ltda.', 'items': {18576: 'Materiais e equipamentos para montagem'}}, 6895183000137: {'name': 'Randreatta Comunicação e Produção Editorial Ltda.', 'items': {18579: 'Mala direta eletrônica', 18581: 'Designer gráfico'}}, 9423165000140: {'name': 'Mercadinho Tomodashi Ltda.', 'items': {18584: 'Refeição'}}, 58254152000109: {'name': 'Panificadora Cristo Redentor Ltda.', 'items': {18584: 'Refeição'}}, 6991660000168: {'name': 'Beto e Cida Decorações e Eventos Ltda.', 'items': {18584: 'Refeição'}}, 2700285000107: {'name': 'Mercantil Hirota Ltda.', 'items': {18584: 'Refeição'}}, 13784802000181: {'name': 'Casa de Pães Florença', 'items': {18584: 'Refeição'}}, 7170943003470: {'name': 'Barcelona Comércio Varejista e Atacadista Ltda. ', 'items': {18584: 'Refeição'}}, 47508411058154: {'name': 'Cia. Brasileira de Distribuição', 'items': {18584: 'Refeição'}}, 67686659000114: {'name': 'Comercial Horticenter Hayama', 'items': {18584: 'Refeição'}}, 946719000110: {'name': 'Carta Certa Postagens Ltda/AGF Parque da Aclimação', 'items': {18585: 'Postagem'}}, 10237895000136: {'name': 'Famiglia Filmes Sociedade Simples LTDA - ME', 'items': {18586: 'Remuneração para captação de recursos'}}, 62341003000146: {'name': 'Prosoma Informática Ltda.', 'items': {18587: 'Sítio de internet\\r\\n'}}}, 'new_providers_percentage': 0.6262626262626263, 'segment_average_percentage': 0.7801827801827802, 'all_segments_average_percentage': 0.4749012670563229}\n"
     ]
    }
   ],
   "source": [
    "def train(dt=dt_comprovacao):\n",
    "    \n",
    "    projects = dt.groupby('PRONAC')\n",
    "    providers_count = {}\n",
    "    \n",
    "    for pronac, items in projects:\n",
    "        cnpjs = items['nrCNPJCPF'].unique()\n",
    "        \n",
    "        for cnpj in cnpjs:\n",
    "            count = providers_count.setdefault(cnpj, 0)\n",
    "            providers_count[cnpj] = count + 1\n",
    "    \n",
    "    return projects, providers_count\n",
    "\n",
    "\n",
    "def train_average_percentage(projects, providers_count, dt=dt_comprovacao): \n",
    "    segment_percentages = {}\n",
    "    all_projects_percentages = []\n",
    "    \n",
    "    for pronac, items in projects:\n",
    "        cnpjs = items.nrCNPJCPF.unique()\n",
    "        new_providers = 0\n",
    "        for cnpj in cnpjs:\n",
    "            cnpj_count = providers_count.get(cnpj, 0)\n",
    "            if cnpj_count <= 1: # if cnpj_count == 1 \n",
    "                                # then the current pronac is the only one with the given provider\n",
    "                new_providers += 1\n",
    "                \n",
    "        id_segmento = items.iloc[0]['idSegmento']\n",
    "        segment_percentages.setdefault(id_segmento, [])\n",
    "        providers_percent = new_providers / cnpjs.size\n",
    "        segment_percentages[id_segmento].append(providers_percent)\n",
    "        all_projects_percentages.append(providers_percent)\n",
    "     \n",
    "    segments_average = {}\n",
    "    for segment_id, percentages in segment_percentages.items():\n",
    "        mean = np.mean(percentages)\n",
    "        segments_average[segment_id] = mean\n",
    "        \n",
    "    all_projects_average = np.mean(all_projects_percentages)\n",
    "        \n",
    "    print('segments_average = {}'.format(segments_average))\n",
    "    return segments_average, all_segments_average\n",
    "        \n",
    "        \n",
    "    \n",
    "def get_metrics(pronac, projects, providers_count, segments_average, all_segments_average):\n",
    "    items = projects.get_group(pronac)\n",
    "    \n",
    "    response = {}\n",
    "    new_providers = {}\n",
    "    pronac_segment = None\n",
    "    \n",
    "    for index, row in items.iterrows():\n",
    "        cnpj = row['nrCNPJCPF']\n",
    "        cnpj_count = providers_count.get(cnpj, 0)\n",
    "        pronac_segment = row['idSegmento']\n",
    "        \n",
    "        if cnpj_count <= 1:\n",
    "            item_id = row['idPlanilhaAprovacao']\n",
    "            item_name = row['Item']\n",
    "            provider_name = row['nmFornecedor']\n",
    "            \n",
    "            new_providers.setdefault(cnpj, {})\n",
    "            new_providers[cnpj].setdefault('name', provider_name)\n",
    "            new_providers[cnpj].setdefault('items', {})\n",
    "            \n",
    "            new_providers[cnpj]['items'][item_id] = item_name\n",
    "            \n",
    "    new_providers_percentage = len(new_providers) / len(items['nrCNPJCPF'].unique())\n",
    "    \n",
    "    response['new_providers'] = new_providers\n",
    "    response['new_providers_percentage'] = new_providers_percentage\n",
    "    response['segment_average_percentage'] = segments_average[pronac_segment]\n",
    "    response['all_segments_average_percentage'] = all_segments_average\n",
    "    return response\n",
    "        \n",
    "projects, providers_count = train(dt=dt_comprovacao)\n",
    "segments_average, all_segments_average = train_average_percentage(projects, providers_count, dt_comprovacao)\n",
    "\n",
    "pronac = np.random.choice(dt_comprovacao.head(15).PRONAC.unique())\n",
    "response = get_metrics(pronac, projects, providers_count, segments_average, all_segments_average)\n",
    "\n",
    "print('pronact = {}'.format(pronac))\n",
    "print('response = {}'.format(response))"
   ]
  }
 ],
 "metadata": {
  "kernelspec": {
   "display_name": "Python 3",
   "language": "python",
   "name": "python3"
  },
  "language_info": {
   "codemirror_mode": {
    "name": "ipython",
    "version": 3
   },
   "file_extension": ".py",
   "mimetype": "text/x-python",
   "name": "python",
   "nbconvert_exporter": "python",
   "pygments_lexer": "ipython3",
   "version": "3.6.4"
  }
 },
 "nbformat": 4,
 "nbformat_minor": 2
}
