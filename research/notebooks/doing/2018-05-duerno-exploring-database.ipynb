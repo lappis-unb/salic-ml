{
 "cells": [
  {
   "cell_type": "markdown",
   "metadata": {},
   "source": [
    "# Exploring Available Database\n",
    "\n",
    "In this notebook will be present the main data files of Salic (_Sistema de Apoio às Leis de Incentivo à Cultura_) that can be found in this repository."
   ]
  },
  {
   "cell_type": "code",
   "execution_count": 1,
   "metadata": {},
   "outputs": [
    {
     "name": "stdout",
     "output_type": "stream",
     "text": [
      "Populating the interactive namespace from numpy and matplotlib\n"
     ]
    }
   ],
   "source": [
    "# Import most used modules: numpy (np), pyplot (plt), pandas (pd)\n",
    "%pylab inline\n",
    "import pandas as pd\n",
    "import datetime as dt\n",
    "\n",
    "# Define useful directories\n",
    "DATA_FOLDER = '../../data/raw/'"
   ]
  },
  {
   "cell_type": "markdown",
   "metadata": {},
   "source": [
    "---\n",
    "### Main areas of cultural projects"
   ]
  },
  {
   "cell_type": "code",
   "execution_count": 2,
   "metadata": {},
   "outputs": [
    {
     "data": {
      "text/html": [
       "<div>\n",
       "<style scoped>\n",
       "    .dataframe tbody tr th:only-of-type {\n",
       "        vertical-align: middle;\n",
       "    }\n",
       "\n",
       "    .dataframe tbody tr th {\n",
       "        vertical-align: top;\n",
       "    }\n",
       "\n",
       "    .dataframe thead th {\n",
       "        text-align: right;\n",
       "    }\n",
       "</style>\n",
       "<table border=\"1\" class=\"dataframe\">\n",
       "  <thead>\n",
       "    <tr style=\"text-align: right;\">\n",
       "      <th></th>\n",
       "      <th>Codigo</th>\n",
       "      <th>Descricao</th>\n",
       "      <th>stEstado</th>\n",
       "    </tr>\n",
       "  </thead>\n",
       "  <tbody>\n",
       "    <tr>\n",
       "      <th>0</th>\n",
       "      <td>1</td>\n",
       "      <td>Artes Cênicas</td>\n",
       "      <td>1</td>\n",
       "    </tr>\n",
       "    <tr>\n",
       "      <th>1</th>\n",
       "      <td>2</td>\n",
       "      <td>Audiovisual</td>\n",
       "      <td>1</td>\n",
       "    </tr>\n",
       "    <tr>\n",
       "      <th>2</th>\n",
       "      <td>3</td>\n",
       "      <td>Música</td>\n",
       "      <td>1</td>\n",
       "    </tr>\n",
       "    <tr>\n",
       "      <th>3</th>\n",
       "      <td>4</td>\n",
       "      <td>Artes Visuais</td>\n",
       "      <td>1</td>\n",
       "    </tr>\n",
       "    <tr>\n",
       "      <th>4</th>\n",
       "      <td>5</td>\n",
       "      <td>Patrimônio Cultural</td>\n",
       "      <td>1</td>\n",
       "    </tr>\n",
       "    <tr>\n",
       "      <th>5</th>\n",
       "      <td>6</td>\n",
       "      <td>Humanidades</td>\n",
       "      <td>1</td>\n",
       "    </tr>\n",
       "    <tr>\n",
       "      <th>6</th>\n",
       "      <td>7</td>\n",
       "      <td>Artes Integradas</td>\n",
       "      <td>0</td>\n",
       "    </tr>\n",
       "    <tr>\n",
       "      <th>7</th>\n",
       "      <td>9</td>\n",
       "      <td>Museus e Memória</td>\n",
       "      <td>1</td>\n",
       "    </tr>\n",
       "  </tbody>\n",
       "</table>\n",
       "</div>"
      ],
      "text/plain": [
       "   Codigo            Descricao  stEstado\n",
       "0       1        Artes Cênicas         1\n",
       "1       2          Audiovisual         1\n",
       "2       3               Música         1\n",
       "3       4        Artes Visuais         1\n",
       "4       5  Patrimônio Cultural         1\n",
       "5       6          Humanidades         1\n",
       "6       7     Artes Integradas         0\n",
       "7       9     Museus e Memória         1"
      ]
     },
     "execution_count": 2,
     "metadata": {},
     "output_type": "execute_result"
    }
   ],
   "source": [
    "areas = pd.read_csv(DATA_FOLDER + 'area.csv')\n",
    "areas"
   ]
  },
  {
   "cell_type": "markdown",
   "metadata": {},
   "source": [
    "---\n",
    "### Cultural projects\n",
    "\n",
    "I began by reading the `projects.csv` dataset with column `IdPRONAC` as index and parsing the `parse_dates` columns as dates and the `dtype` columns with specific types."
   ]
  },
  {
   "cell_type": "code",
   "execution_count": 2,
   "metadata": {
    "scrolled": true
   },
   "outputs": [
    {
     "data": {
      "text/plain": [
       "Index(['AnoProjeto', 'Sequencial', 'UfProjeto', 'Area', 'Segmento',\n",
       "       'Mecanismo', 'NomeProjeto', 'Processo', 'CgcCpf', 'Situacao',\n",
       "       'DtProtocolo', 'DtAnalise', 'Modalidade', 'OrgaoOrigem', 'Orgao',\n",
       "       'DtSaida', 'DtRetorno', 'UnidadeAnalise', 'Analista', 'DtSituacao',\n",
       "       'ResumoProjeto', 'ProvidenciaTomada', 'Localizacao', 'DtInicioExecucao',\n",
       "       'DtFimExecucao', 'SolicitadoUfir', 'SolicitadoReal',\n",
       "       'SolicitadoCusteioUfir', 'SolicitadoCusteioReal',\n",
       "       'SolicitadoCapitalUfir', 'SolicitadoCapitalReal', 'Logon', 'idProjeto'],\n",
       "      dtype='object')"
      ]
     },
     "execution_count": 2,
     "metadata": {},
     "output_type": "execute_result"
    }
   ],
   "source": [
    "parse_dates = ['DtProtocolo',\n",
    "               'DtAnalise',\n",
    "               'DtSaida',\n",
    "               'DtRetorno',\n",
    "               'DtSituacao',\n",
    "               'DtInicioExecucao',\n",
    "               'DtFimExecucao'\n",
    "              ]\n",
    "dtype = {'AnoProjeto':str,\n",
    "         'Sequencial':str,\n",
    "         'Segmento':str,\n",
    "         'Processo':str,\n",
    "         'CgcCpf':str,\n",
    "         'Modalidade':str\n",
    "        }\n",
    "\n",
    "projects = pd.read_csv(DATA_FOLDER + 'projetos.csv', index_col='IdPRONAC', parse_dates=parse_dates, dtype=dtype)\n",
    "projects.columns"
   ]
  },
  {
   "cell_type": "markdown",
   "metadata": {},
   "source": [
    "Then, I try to find the projects that have started and finalized since 2013."
   ]
  },
  {
   "cell_type": "code",
   "execution_count": 80,
   "metadata": {},
   "outputs": [
    {
     "name": "stdout",
     "output_type": "stream",
     "text": [
      "ALL PROJECTS\n",
      "col1: DtInicioExecucao\n",
      "col2: DtFimExecucao\n",
      "Total:           210684\n",
      "~col1 and ~col2: 133081\n",
      "col1:            75255\n",
      "col2:            76933\n",
      "col1 or col2:    77603\n",
      "col1 and col2:   74585\n",
      "col1 and ~col2:  670\n",
      "~col1 and col2:  2348\n",
      "col1 < col2:     73388\n",
      "col1 > col2:     447\n",
      "\n",
      "PROJECTS SINCE 2000\n",
      "col1: DtInicioExecucao\n",
      "col2: DtFimExecucao\n",
      "Total:           67997\n",
      "~col1 and ~col2: 0\n",
      "col1:            67997\n",
      "col2:            67997\n",
      "col1 or col2:    67997\n",
      "col1 and col2:   67997\n",
      "col1 and ~col2:  0\n",
      "~col1 and col2:  0\n",
      "col1 < col2:     67056\n",
      "col1 > col2:     425\n",
      "\n",
      "Valid projects:  67542\n"
     ]
    }
   ],
   "source": [
    "def measures(df, col1='DtInicioExecucao', col2='DtFimExecucao'):\n",
    "    ''' Print some measures about important dates of Salic Projects.\n",
    "        args:\n",
    "            df   - Dataframe to be analyzed\n",
    "            col1 - First datetime column name\n",
    "            col2 - Second datetime column name\n",
    "    '''\n",
    "    print('col1: %s\\ncol2: %s' % (col1, col2))\n",
    "    col1 = df[col1]\n",
    "    col2 = df[col2]\n",
    "    has_col1 = (col1 != 'nan')\n",
    "    has_col2 = (col2 != 'nan')\n",
    "    print('Total:           %d' % len(df))\n",
    "    print('~col1 and ~col2: %d' % len(df[~has_col1 & ~has_col2]))\n",
    "    print('col1:            %d' % len(df[has_col1]))\n",
    "    print('col2:            %d' % len(df[has_col2]))\n",
    "    print('col1 or col2:    %d' % len(df[has_col1 | has_col2]))\n",
    "    print('col1 and col2:   %d' % len(df[has_col1 & has_col2]))\n",
    "    print('col1 and ~col2:  %d' % len(df[has_col1 & ~has_col2]))\n",
    "    print('~col1 and col2:  %d' % len(df[~has_col1 & has_col2]))\n",
    "    print('col1 < col2:     %d' % len(df[has_col1 & has_col2 & (col1 < col2)]))\n",
    "    print('col1 > col2:     %d' % len(df[has_col1 & has_col2 & (col1 > col2)]))\n",
    "\n",
    "print('ALL PROJECTS')\n",
    "df = projects #[['DtInicioExecucao', 'DtFimExecucao']]\n",
    "measures_2dt(df)\n",
    "\n",
    "print('\\nPROJECTS SINCE 2000')\n",
    "# Drop projects without any execution date, and projects started or finalized before 2013\n",
    "df = df[((df.DtInicioExecucao != 'nan') & (df.DtInicioExecucao >= '2000')) &\n",
    "        ((df.DtFimExecucao != 'nan')    & (df.DtFimExecucao >= '2000'))]\n",
    "measures_2dt(df)\n",
    "\n",
    "# Drop projects which start execution after its end, and projects that end its execution after 2020\n",
    "df = df[(df.DtInicioExecucao <= df.DtFimExecucao) & (df.DtFimExecucao <= '2021')]\n",
    "print('\\nValid projects:  %d' % len(df))"
   ]
  },
  {
   "cell_type": "code",
   "execution_count": 53,
   "metadata": {},
   "outputs": [],
   "source": [
    "class Data:\n",
    "    def __init__(self, df, col, begin=2000, end=2050):\n",
    "        self.col = col\n",
    "        self.x = []\n",
    "        self.y = []\n",
    "        for i in range(begin, end):\n",
    "            tmp = df[(df[col] >= str(i)) & (df[col] < str(i+1))]\n",
    "            self.x += [i]\n",
    "            self.y += [len(tmp)]\n",
    "        while len(self.y) > 1 and self.y[0] == 0:\n",
    "            self.y = self.y[1:]\n",
    "            self.x = self.x[1:]\n",
    "        while len(self.y) > 1 and self.y[-1] == 0:\n",
    "            self.y = self.y[0:-1]\n",
    "            self.x = self.x[0:-1]\n",
    "\n",
    "xyb = Data(df, 'DtInicioExecucao')\n",
    "xye = Data(df, 'DtFimExecucao')"
   ]
  },
  {
   "cell_type": "code",
   "execution_count": 79,
   "metadata": {
    "scrolled": true
   },
   "outputs": [
    {
     "ename": "AttributeError",
     "evalue": "module 'matplotlib.pyplot' has no attribute 'figsize'",
     "output_type": "error",
     "traceback": [
      "\u001b[0;31m---------------------------------------------------------------------------\u001b[0m",
      "\u001b[0;31mAttributeError\u001b[0m                            Traceback (most recent call last)",
      "\u001b[0;32m<ipython-input-79-2b6f72762ffb>\u001b[0m in \u001b[0;36m<module>\u001b[0;34m()\u001b[0m\n\u001b[1;32m      5\u001b[0m \u001b[0mplt\u001b[0m\u001b[0;34m.\u001b[0m\u001b[0mxlabel\u001b[0m\u001b[0;34m(\u001b[0m\u001b[0;34m'year'\u001b[0m\u001b[0;34m)\u001b[0m\u001b[0;34m\u001b[0m\u001b[0m\n\u001b[1;32m      6\u001b[0m \u001b[0mplt\u001b[0m\u001b[0;34m.\u001b[0m\u001b[0mylabel\u001b[0m\u001b[0;34m(\u001b[0m\u001b[0;34m'# projects'\u001b[0m\u001b[0;34m)\u001b[0m\u001b[0;34m\u001b[0m\u001b[0m\n\u001b[0;32m----> 7\u001b[0;31m \u001b[0mplt\u001b[0m\u001b[0;34m.\u001b[0m\u001b[0mfigsize\u001b[0m\u001b[0;34m(\u001b[0m\u001b[0;34m[\u001b[0m\u001b[0;36m80\u001b[0m\u001b[0;34m,\u001b[0m \u001b[0;36m100\u001b[0m\u001b[0;34m]\u001b[0m\u001b[0;34m)\u001b[0m\u001b[0;34m\u001b[0m\u001b[0m\n\u001b[0m\u001b[1;32m      8\u001b[0m \u001b[0mplt\u001b[0m\u001b[0;34m.\u001b[0m\u001b[0mshow\u001b[0m\u001b[0;34m(\u001b[0m\u001b[0;34m)\u001b[0m\u001b[0;34m\u001b[0m\u001b[0m\n\u001b[1;32m      9\u001b[0m \u001b[0;31m# plt.axis([begin, end, 0, 10000])\u001b[0m\u001b[0;34m\u001b[0m\u001b[0;34m\u001b[0m\u001b[0m\n",
      "\u001b[0;31mAttributeError\u001b[0m: module 'matplotlib.pyplot' has no attribute 'figsize'"
     ]
    },
    {
     "data": {
      "image/png": "[encoded data removed]",
      "text/plain": [
       "<matplotlib.figure.Figure at 0x7f8bcf649518>"
      ]
     },
     "metadata": {},
     "output_type": "display_data"
    }
   ],
   "source": [
    "plt.plot(xyb.x, xyb.y, '.-')\n",
    "plt.plot(xye.x, xye.y, '.-')\n",
    "plt.legend([xyb.col, xye.col])\n",
    "plt.grid(True)\n",
    "plt.xlabel('year')\n",
    "plt.ylabel('# projects')\n",
    "plt.figsize([80, 100])\n",
    "plt.show()\n",
    "# plt.axis([begin, end, 0, 10000])\n",
    "\n",
    "# begin,end = 2013,2020\n",
    "# print('Year of the oldest project: %d' % xyb.x[0])\n",
    "# print('Year of the newest project: %d' % xye.x[-1])\n",
    "# projects_in_range = sum([xyb.y[i] for i in range(len(xyb.x)) if xyb.x[i] >= begin and xyb.x[i] <= end])\n",
    "# print('Number of projects in range [%d, %d]: %d' % (begin, end, projects_in_range))\n",
    "# print('Number of projects out of range [%d, %d]: %d' % (begin, end, sum(xyb.y) - projects_in_range))"
   ]
  },
  {
   "cell_type": "code",
   "execution_count": 12,
   "metadata": {},
   "outputs": [
    {
     "name": "stdout",
     "output_type": "stream",
     "text": [
      "col:   DtInicioExecucao\n",
      "Total: 210684\n",
      "col:   75255\n"
     ]
    }
   ],
   "source": [
    "def measures_1dt(df, col='DtInicioExecucao'):\n",
    "    ''' Print some measures about a specific datetime column in a Pandas Dataframe.\n",
    "        args:\n",
    "            df   - Dataframe to be analyzed\n",
    "            col - datetime column name\n",
    "    '''\n",
    "    print('col:   %s' % col)\n",
    "    col = df[col]\n",
    "    has_col = (col != 'nan')\n",
    "    print('Total: %d' % len(df))\n",
    "    print('col:   %d' % len(df[has_col]))\n",
    "\n",
    "col = 'DtInicioExecucao'\n",
    "df = projects[[col]]\n",
    "measures_1dt(df)"
   ]
  },
  {
   "cell_type": "markdown",
   "metadata": {},
   "source": [
    "---\n",
    "### Diligences"
   ]
  },
  {
   "cell_type": "code",
   "execution_count": 4,
   "metadata": {},
   "outputs": [
    {
     "name": "stderr",
     "output_type": "stream",
     "text": [
      "/home/duerno/.local/lib/python3.5/site-packages/IPython/core/interactiveshell.py:2728: DtypeWarning: Columns (14) have mixed types. Specify dtype option on import or set low_memory=False.\n",
      "  interactivity=interactivity, compiler=compiler, result=result)\n"
     ]
    },
    {
     "data": {
      "text/html": [
       "<div>\n",
       "<style scoped>\n",
       "    .dataframe tbody tr th:only-of-type {\n",
       "        vertical-align: middle;\n",
       "    }\n",
       "\n",
       "    .dataframe tbody tr th {\n",
       "        vertical-align: top;\n",
       "    }\n",
       "\n",
       "    .dataframe thead th {\n",
       "        text-align: right;\n",
       "    }\n",
       "</style>\n",
       "<table border=\"1\" class=\"dataframe\">\n",
       "  <thead>\n",
       "    <tr style=\"text-align: right;\">\n",
       "      <th></th>\n",
       "      <th>idDiligencia</th>\n",
       "      <th>idPronac</th>\n",
       "      <th>idTipoDiligencia</th>\n",
       "      <th>DtSolicitacao</th>\n",
       "      <th>Solicitacao</th>\n",
       "      <th>idSolicitante</th>\n",
       "      <th>DtResposta</th>\n",
       "      <th>Resposta</th>\n",
       "      <th>idProponente</th>\n",
       "      <th>stEstado</th>\n",
       "      <th>idPlanoDistribuicao</th>\n",
       "      <th>idArquivo</th>\n",
       "      <th>idCodigoDocumentosExigidos</th>\n",
       "      <th>idProduto</th>\n",
       "      <th>stProrrogacao</th>\n",
       "      <th>stEnviado</th>\n",
       "    </tr>\n",
       "  </thead>\n",
       "  <tbody>\n",
       "    <tr>\n",
       "      <th>0</th>\n",
       "      <td>1</td>\n",
       "      <td>115502</td>\n",
       "      <td>124</td>\n",
       "      <td>2009-09-24 16:52:23</td>\n",
       "      <td>&lt;p class=\"MsoNormal\" style=\"margin: 0cm 0cm 0p...</td>\n",
       "      <td>2851</td>\n",
       "      <td>2010-01-18 14:39:07</td>\n",
       "      <td>O PROPONENTE NÃO RESPONDEU A DILIGÊNCIA NO PRA...</td>\n",
       "      <td>NaN</td>\n",
       "      <td>0</td>\n",
       "      <td>NaN</td>\n",
       "      <td>NaN</td>\n",
       "      <td>NaN</td>\n",
       "      <td>NaN</td>\n",
       "      <td>NaN</td>\n",
       "      <td>S</td>\n",
       "    </tr>\n",
       "    <tr>\n",
       "      <th>1</th>\n",
       "      <td>2</td>\n",
       "      <td>114250</td>\n",
       "      <td>124</td>\n",
       "      <td>2009-09-24 18:11:00</td>\n",
       "      <td>&lt;p class=\"MsoNormal\" style=\"margin: 0cm 0cm 0p...</td>\n",
       "      <td>2825</td>\n",
       "      <td>2009-10-07 19:45:18</td>\n",
       "      <td>&lt;p style=\"text-align: justify;\"&gt;1) Readequa&amp;cc...</td>\n",
       "      <td>6010.0</td>\n",
       "      <td>0</td>\n",
       "      <td>NaN</td>\n",
       "      <td>NaN</td>\n",
       "      <td>NaN</td>\n",
       "      <td>NaN</td>\n",
       "      <td>NaN</td>\n",
       "      <td>S</td>\n",
       "    </tr>\n",
       "    <tr>\n",
       "      <th>2</th>\n",
       "      <td>3</td>\n",
       "      <td>115134</td>\n",
       "      <td>124</td>\n",
       "      <td>2009-09-24 18:13:00</td>\n",
       "      <td>&lt;p class=\"MsoNormal\" style=\"margin: 0cm 0cm 0p...</td>\n",
       "      <td>2825</td>\n",
       "      <td>2009-10-07 16:10:21</td>\n",
       "      <td>&lt;p&gt;Ronaldo, boa tarde...&lt;/p&gt;\\r\\n&lt;p&gt;segue abaix...</td>\n",
       "      <td>9553.0</td>\n",
       "      <td>0</td>\n",
       "      <td>NaN</td>\n",
       "      <td>NaN</td>\n",
       "      <td>NaN</td>\n",
       "      <td>NaN</td>\n",
       "      <td>NaN</td>\n",
       "      <td>S</td>\n",
       "    </tr>\n",
       "    <tr>\n",
       "      <th>3</th>\n",
       "      <td>4</td>\n",
       "      <td>114399</td>\n",
       "      <td>124</td>\n",
       "      <td>2009-09-24 18:26:00</td>\n",
       "      <td>&lt;p class=\"MsoNormal\" style=\"margin: 0cm 0cm 0p...</td>\n",
       "      <td>2845</td>\n",
       "      <td>2009-10-06 09:30:35</td>\n",
       "      <td>&lt;p class=\"MsoNormal\" style=\"MARGIN: 0cm 0cm 0p...</td>\n",
       "      <td>9521.0</td>\n",
       "      <td>1</td>\n",
       "      <td>NaN</td>\n",
       "      <td>NaN</td>\n",
       "      <td>NaN</td>\n",
       "      <td>NaN</td>\n",
       "      <td>NaN</td>\n",
       "      <td>S</td>\n",
       "    </tr>\n",
       "    <tr>\n",
       "      <th>4</th>\n",
       "      <td>5</td>\n",
       "      <td>115059</td>\n",
       "      <td>124</td>\n",
       "      <td>2009-09-24 18:35:00</td>\n",
       "      <td>&lt;p class=\"MsoNormal\" style=\"margin: 0cm 0cm 0p...</td>\n",
       "      <td>2915</td>\n",
       "      <td>2009-10-02 18:01:47</td>\n",
       "      <td>&lt;p&gt;&amp;nbsp;&lt;/p&gt;\\r\\n&lt;p&gt;Ao Pronac/Funarte (LL)&lt;/p&gt;...</td>\n",
       "      <td>11598.0</td>\n",
       "      <td>1</td>\n",
       "      <td>NaN</td>\n",
       "      <td>NaN</td>\n",
       "      <td>NaN</td>\n",
       "      <td>NaN</td>\n",
       "      <td>NaN</td>\n",
       "      <td>S</td>\n",
       "    </tr>\n",
       "  </tbody>\n",
       "</table>\n",
       "</div>"
      ],
      "text/plain": [
       "   idDiligencia  idPronac  idTipoDiligencia        DtSolicitacao  \\\n",
       "0             1    115502               124  2009-09-24 16:52:23   \n",
       "1             2    114250               124  2009-09-24 18:11:00   \n",
       "2             3    115134               124  2009-09-24 18:13:00   \n",
       "3             4    114399               124  2009-09-24 18:26:00   \n",
       "4             5    115059               124  2009-09-24 18:35:00   \n",
       "\n",
       "                                         Solicitacao  idSolicitante  \\\n",
       "0  <p class=\"MsoNormal\" style=\"margin: 0cm 0cm 0p...           2851   \n",
       "1  <p class=\"MsoNormal\" style=\"margin: 0cm 0cm 0p...           2825   \n",
       "2  <p class=\"MsoNormal\" style=\"margin: 0cm 0cm 0p...           2825   \n",
       "3  <p class=\"MsoNormal\" style=\"margin: 0cm 0cm 0p...           2845   \n",
       "4  <p class=\"MsoNormal\" style=\"margin: 0cm 0cm 0p...           2915   \n",
       "\n",
       "            DtResposta                                           Resposta  \\\n",
       "0  2010-01-18 14:39:07  O PROPONENTE NÃO RESPONDEU A DILIGÊNCIA NO PRA...   \n",
       "1  2009-10-07 19:45:18  <p style=\"text-align: justify;\">1) Readequa&cc...   \n",
       "2  2009-10-07 16:10:21  <p>Ronaldo, boa tarde...</p>\\r\\n<p>segue abaix...   \n",
       "3  2009-10-06 09:30:35  <p class=\"MsoNormal\" style=\"MARGIN: 0cm 0cm 0p...   \n",
       "4  2009-10-02 18:01:47  <p>&nbsp;</p>\\r\\n<p>Ao Pronac/Funarte (LL)</p>...   \n",
       "\n",
       "   idProponente  stEstado  idPlanoDistribuicao  idArquivo  \\\n",
       "0           NaN         0                  NaN        NaN   \n",
       "1        6010.0         0                  NaN        NaN   \n",
       "2        9553.0         0                  NaN        NaN   \n",
       "3        9521.0         1                  NaN        NaN   \n",
       "4       11598.0         1                  NaN        NaN   \n",
       "\n",
       "   idCodigoDocumentosExigidos  idProduto stProrrogacao stEnviado  \n",
       "0                         NaN        NaN           NaN         S  \n",
       "1                         NaN        NaN           NaN         S  \n",
       "2                         NaN        NaN           NaN         S  \n",
       "3                         NaN        NaN           NaN         S  \n",
       "4                         NaN        NaN           NaN         S  "
      ]
     },
     "execution_count": 4,
     "metadata": {},
     "output_type": "execute_result"
    }
   ],
   "source": [
    "diligences = pd.read_csv(DATA_FOLDER + 'tb_diligencia.csv')\n",
    "diligences.head()"
   ]
  },
  {
   "cell_type": "markdown",
   "metadata": {},
   "source": [
    "---\n",
    "### Relation: Project x Diligence"
   ]
  },
  {
   "cell_type": "code",
   "execution_count": 5,
   "metadata": {},
   "outputs": [
    {
     "data": {
      "text/html": [
       "<div>\n",
       "<style scoped>\n",
       "    .dataframe tbody tr th:only-of-type {\n",
       "        vertical-align: middle;\n",
       "    }\n",
       "\n",
       "    .dataframe tbody tr th {\n",
       "        vertical-align: top;\n",
       "    }\n",
       "\n",
       "    .dataframe thead th {\n",
       "        text-align: right;\n",
       "    }\n",
       "</style>\n",
       "<table border=\"1\" class=\"dataframe\">\n",
       "  <thead>\n",
       "    <tr style=\"text-align: right;\">\n",
       "      <th></th>\n",
       "      <th>Unnamed: 0</th>\n",
       "      <th>idPRONAC</th>\n",
       "      <th>Situacao</th>\n",
       "      <th>DtProtocolo</th>\n",
       "    </tr>\n",
       "  </thead>\n",
       "  <tbody>\n",
       "    <tr>\n",
       "      <th>0</th>\n",
       "      <td>0</td>\n",
       "      <td>111109</td>\n",
       "      <td>E36</td>\n",
       "      <td>2009-01-22 15:29:39</td>\n",
       "    </tr>\n",
       "    <tr>\n",
       "      <th>1</th>\n",
       "      <td>1</td>\n",
       "      <td>111109</td>\n",
       "      <td>E36</td>\n",
       "      <td>2009-01-22 15:29:39</td>\n",
       "    </tr>\n",
       "    <tr>\n",
       "      <th>2</th>\n",
       "      <td>2</td>\n",
       "      <td>111109</td>\n",
       "      <td>E36</td>\n",
       "      <td>2009-01-22 15:29:39</td>\n",
       "    </tr>\n",
       "    <tr>\n",
       "      <th>3</th>\n",
       "      <td>3</td>\n",
       "      <td>111109</td>\n",
       "      <td>E36</td>\n",
       "      <td>2009-01-22 15:29:39</td>\n",
       "    </tr>\n",
       "    <tr>\n",
       "      <th>4</th>\n",
       "      <td>4</td>\n",
       "      <td>111109</td>\n",
       "      <td>E36</td>\n",
       "      <td>2009-01-22 15:29:39</td>\n",
       "    </tr>\n",
       "  </tbody>\n",
       "</table>\n",
       "</div>"
      ],
      "text/plain": [
       "   Unnamed: 0  idPRONAC Situacao          DtProtocolo\n",
       "0           0    111109      E36  2009-01-22 15:29:39\n",
       "1           1    111109      E36  2009-01-22 15:29:39\n",
       "2           2    111109      E36  2009-01-22 15:29:39\n",
       "3           3    111109      E36  2009-01-22 15:29:39\n",
       "4           4    111109      E36  2009-01-22 15:29:39"
      ]
     },
     "execution_count": 5,
     "metadata": {},
     "output_type": "execute_result"
    }
   ],
   "source": [
    "proj_dil = pd.read_csv(DATA_FOLDER + 'dt_tb_planilha_projeto_2013.csv')\n",
    "proj_dil.head()"
   ]
  },
  {
   "cell_type": "code",
   "execution_count": null,
   "metadata": {},
   "outputs": [],
   "source": []
  }
 ],
 "metadata": {
  "kernelspec": {
   "display_name": "Python 3",
   "language": "python",
   "name": "python3"
  },
  "language_info": {
   "codemirror_mode": {
    "name": "ipython",
    "version": 3
   },
   "file_extension": ".py",
   "mimetype": "text/x-python",
   "name": "python",
   "nbconvert_exporter": "python",
   "pygments_lexer": "ipython3",
   "version": "3.5.2"
  }
 },
 "nbformat": 4,
 "nbformat_minor": 2
}
