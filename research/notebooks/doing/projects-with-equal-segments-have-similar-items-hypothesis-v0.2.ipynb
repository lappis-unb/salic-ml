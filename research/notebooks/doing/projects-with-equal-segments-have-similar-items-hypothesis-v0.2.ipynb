{
 "cells": [
  {
   "cell_type": "markdown",
   "metadata": {},
   "source": [
    "# Introduçao"
   ]
  },
  {
   "cell_type": "markdown",
   "metadata": {},
   "source": [
    "## Prepararando os dados"
   ]
  },
  {
   "cell_type": "markdown",
   "metadata": {},
   "source": [
    "**Issue relacionada:** [#35](https://github.com/lappis-unb/salic-ml/issues/35)\n",
    "\n",
    "\n",
    "### Introdução\n",
    "\n",
    "A **hipótese de que projetos de mesma área e segmentos possuem itens similares** foi negada em relação a métrica definida neste [trabalho](link). Naquele notebook a seguinte métrica foi utilizada para negar esta hipótese:\n",
    "\n",
    "`p = #(A & B) / #(A | B)`\n",
    "\n",
    "Onde `A` é o conjunto de itens de um projeto comparado, e `B` é o conjunto de itens do segundo projeto comparado. A hipótese seria verdadeira se e somente se `p >= 0.5`, na média, de um dado subconjunto qualquer da tupla (àrea, segmento).\n",
    "\n",
    "O valor de `p` é muito sensível a ruídos porque nela cada item do projeto é dado o mesmo peso (por exemplo, peso ou 1). Ou seja, itens muito raros possuem um peso igual a itens muito comuns naquela tupla (area, segmento). Este notebook propõe modificar a métrica acima para confirmar ou negar a hipótese investigada considerando um \"peso\" para cada tipo de item. Neste passo é assumido como verdadeiro que itens menos frequentes devem possuir um peso menor do que itens mais frequentes.\n",
    "\n",
    "### Notação\n",
    "\n",
    "\n",
    "| Notação        | Significado           |\n",
    "| ------------- |:-------------:|\n",
    "| `#A` | Número de elementos do conjunto `A` |\n",
    "| <code>A &#124; B </code>| União dos conjuntos `A` e `B` |\n",
    "| `A & B` | Intersecção dos conjuntos `A` e `B` |\n",
    "| `A[i]` | i-ésimo item do conjunto `A`, onde itens são ordenados em ordem crescente |\n",
    "| `w(i)` | Peso do i-ésimo item do banco de dados. A função `w` atribui os pesos | \n",
    "\n",
    "### Hipóteses\n",
    "\n",
    "**Hipótese 1:** Projetos de mesma área e segmento possuem conjunto de itens similares\n",
    "\n",
    "\n",
    "**Métricas para confirmar (negar) a hipótese 1**\n",
    "\n",
    "\n",
    "**Métrica 1**\n",
    "\n",
    "Chamaremos de `score(s)` a soma dos pesos dos itens (sem repetição) do conjunto `s`. Ou seja, `score(s) = somatorio(w[i])` para todo item `i` em `s`. Em seguida definimos `I = (A & B)` e `U = (A | B)`. Seja `p = (score(I) / score(U))`, a Hipótese 1 será verdadeira se `p >= 0.5`.\n",
    "\n",
    "**Hipótese 2:** Projetos de segmentos distintos possuem conjunto de itens não-similares\n",
    "\n",
    "**Métrica 2:**\n",
    "\n",
    "Se projetos de mesma área e segmentos possuem conjuntos de itens similares (Hipótese 1), mas projetos de segmentos distintos também o possuem, a Hipótese 1 seria pouco útil. Portanto também estamos interessados também na \"inversa\" da hipótese 1. Considerando as definições da **Métrica 1**, esperamos que a média dos `p` entre projetos de segmentos distintos, seja pele menos **duas vezes menor na média** dos `p`.\n"
   ]
  },
  {
   "cell_type": "markdown",
   "metadata": {},
   "source": [
    "**Recarregar automaticamente os módulos**"
   ]
  },
  {
   "cell_type": "code",
   "execution_count": 110,
   "metadata": {
    "scrolled": true
   },
   "outputs": [
    {
     "name": "stdout",
     "output_type": "stream",
     "text": [
      "The autoreload extension is already loaded. To reload it, use:\n",
      "  %reload_ext autoreload\n"
     ]
    }
   ],
   "source": [
    "%load_ext autoreload\n",
    "%autoreload 2"
   ]
  },
  {
   "cell_type": "markdown",
   "metadata": {},
   "source": [
    "**Importando módulos python**"
   ]
  },
  {
   "cell_type": "code",
   "execution_count": 111,
   "metadata": {},
   "outputs": [],
   "source": [
    "import os\n",
    "import sys\n",
    "import time\n",
    "import numpy as np\n",
    "import pandas as pd\n",
    "import matplotlib.pyplot as plt\n",
    "from scipy import stats\n",
    "\n",
    "\n",
    "from salicml.utils.dates import Dates\n",
    "\n",
    "PROJECT_ROOT = os.path.abspath(os.path.join(os.pardir, os.pardir))\n",
    "DATA_FOLDER = os.path.join(PROJECT_ROOT, 'data', 'raw')"
   ]
  },
  {
   "cell_type": "markdown",
   "metadata": {},
   "source": [
    "### Carregando os dados da tabela project_items"
   ]
  },
  {
   "cell_type": "code",
   "execution_count": 112,
   "metadata": {},
   "outputs": [
    {
     "data": {
      "text/html": [
       "<div>\n",
       "<style scoped>\n",
       "    .dataframe tbody tr th:only-of-type {\n",
       "        vertical-align: middle;\n",
       "    }\n",
       "\n",
       "    .dataframe tbody tr th {\n",
       "        vertical-align: top;\n",
       "    }\n",
       "\n",
       "    .dataframe thead th {\n",
       "        text-align: right;\n",
       "    }\n",
       "</style>\n",
       "<table border=\"1\" class=\"dataframe\">\n",
       "  <thead>\n",
       "    <tr style=\"text-align: right;\">\n",
       "      <th></th>\n",
       "      <th>idPronac</th>\n",
       "      <th>PRONAC</th>\n",
       "      <th>Item</th>\n",
       "      <th>idPlanilhaItens</th>\n",
       "      <th>Unidade</th>\n",
       "      <th>QtDias</th>\n",
       "      <th>QtItem</th>\n",
       "      <th>nrOcorrencia</th>\n",
       "      <th>VlUnitarioSolicitado</th>\n",
       "      <th>VlTotalSolicitado</th>\n",
       "      <th>VlUnitarioAprovado</th>\n",
       "      <th>VlTotalAprovado</th>\n",
       "      <th>UfItem</th>\n",
       "      <th>MunicipioItem</th>\n",
       "      <th>Etapa</th>\n",
       "      <th>Area</th>\n",
       "      <th>Segmento</th>\n",
       "      <th>DataProjeto</th>\n",
       "    </tr>\n",
       "  </thead>\n",
       "  <tbody>\n",
       "    <tr>\n",
       "      <th>0</th>\n",
       "      <td>123461</td>\n",
       "      <td>103228</td>\n",
       "      <td>Cartaz</td>\n",
       "      <td>1219</td>\n",
       "      <td>Unidade</td>\n",
       "      <td>180</td>\n",
       "      <td>30.0</td>\n",
       "      <td>6</td>\n",
       "      <td>20.0</td>\n",
       "      <td>3600.0</td>\n",
       "      <td>2.0</td>\n",
       "      <td>360.0</td>\n",
       "      <td>RJ</td>\n",
       "      <td>Rio de Janeiro</td>\n",
       "      <td>3 - Divulgação / Comercialização</td>\n",
       "      <td>3</td>\n",
       "      <td>33</td>\n",
       "      <td>2010-05-06 10:49:13</td>\n",
       "    </tr>\n",
       "  </tbody>\n",
       "</table>\n",
       "</div>"
      ],
      "text/plain": [
       "   idPronac  PRONAC    Item  idPlanilhaItens  Unidade  QtDias  QtItem  \\\n",
       "0    123461  103228  Cartaz             1219  Unidade     180    30.0   \n",
       "\n",
       "   nrOcorrencia  VlUnitarioSolicitado  VlTotalSolicitado  VlUnitarioAprovado  \\\n",
       "0             6                  20.0             3600.0                 2.0   \n",
       "\n",
       "   VlTotalAprovado UfItem   MunicipioItem                             Etapa  \\\n",
       "0            360.0     RJ  Rio de Janeiro  3 - Divulgação / Comercialização   \n",
       "\n",
       "   Area Segmento          DataProjeto  \n",
       "0     3       33  2010-05-06 10:49:13  "
      ]
     },
     "execution_count": 112,
     "metadata": {},
     "output_type": "execute_result"
    }
   ],
   "source": [
    "items_csv_name = 'project_items.csv'\n",
    "projects_csv = os.path.join(DATA_FOLDER, items_csv_name)\n",
    "\n",
    "dt_items = pd.read_csv(projects_csv, low_memory=False)\n",
    "dt_items.head(1)"
   ]
  },
  {
   "cell_type": "markdown",
   "metadata": {},
   "source": [
    "### Filtrando os dados\n",
    "\n",
    "É conhecido que dados muito antigos (de 1992, por exemplo) podem ser inconsistentes, então vamos filtrar os dados a partir de uma data de início."
   ]
  },
  {
   "cell_type": "code",
   "execution_count": 113,
   "metadata": {
    "scrolled": true
   },
   "outputs": [
    {
     "name": "stdout",
     "output_type": "stream",
     "text": [
      "2013-01-02 10:59:07\n"
     ]
    },
    {
     "data": {
      "text/html": [
       "<div>\n",
       "<style scoped>\n",
       "    .dataframe tbody tr th:only-of-type {\n",
       "        vertical-align: middle;\n",
       "    }\n",
       "\n",
       "    .dataframe tbody tr th {\n",
       "        vertical-align: top;\n",
       "    }\n",
       "\n",
       "    .dataframe thead th {\n",
       "        text-align: right;\n",
       "    }\n",
       "</style>\n",
       "<table border=\"1\" class=\"dataframe\">\n",
       "  <thead>\n",
       "    <tr style=\"text-align: right;\">\n",
       "      <th></th>\n",
       "      <th>idPronac</th>\n",
       "      <th>PRONAC</th>\n",
       "      <th>Item</th>\n",
       "      <th>idPlanilhaItens</th>\n",
       "      <th>Unidade</th>\n",
       "      <th>QtDias</th>\n",
       "      <th>QtItem</th>\n",
       "      <th>nrOcorrencia</th>\n",
       "      <th>VlUnitarioSolicitado</th>\n",
       "      <th>VlTotalSolicitado</th>\n",
       "      <th>VlUnitarioAprovado</th>\n",
       "      <th>VlTotalAprovado</th>\n",
       "      <th>UfItem</th>\n",
       "      <th>MunicipioItem</th>\n",
       "      <th>Etapa</th>\n",
       "      <th>Area</th>\n",
       "      <th>Segmento</th>\n",
       "      <th>DataProjeto</th>\n",
       "    </tr>\n",
       "  </thead>\n",
       "  <tbody>\n",
       "    <tr>\n",
       "      <th>8</th>\n",
       "      <td>202095</td>\n",
       "      <td>160506</td>\n",
       "      <td>Material de consumo</td>\n",
       "      <td>2719</td>\n",
       "      <td>Verba</td>\n",
       "      <td>365</td>\n",
       "      <td>1.0</td>\n",
       "      <td>1</td>\n",
       "      <td>5000.0</td>\n",
       "      <td>5000.0</td>\n",
       "      <td>5000.0</td>\n",
       "      <td>5000.0</td>\n",
       "      <td>MT</td>\n",
       "      <td>Cuiabá</td>\n",
       "      <td>4 - Custos / Administrativos</td>\n",
       "      <td>6</td>\n",
       "      <td>6F</td>\n",
       "      <td>2016-02-25 17:57:15</td>\n",
       "    </tr>\n",
       "    <tr>\n",
       "      <th>533</th>\n",
       "      <td>178933</td>\n",
       "      <td>146032</td>\n",
       "      <td>Hospedagem sem alimentação</td>\n",
       "      <td>130</td>\n",
       "      <td>Dia</td>\n",
       "      <td>4</td>\n",
       "      <td>4.0</td>\n",
       "      <td>3</td>\n",
       "      <td>180.0</td>\n",
       "      <td>2160.0</td>\n",
       "      <td>180.0</td>\n",
       "      <td>2160.0</td>\n",
       "      <td>MG</td>\n",
       "      <td>Belo Horizonte</td>\n",
       "      <td>2 - Produção / Execução</td>\n",
       "      <td>1</td>\n",
       "      <td>12</td>\n",
       "      <td>2014-04-11 18:50:56</td>\n",
       "    </tr>\n",
       "    <tr>\n",
       "      <th>836</th>\n",
       "      <td>178933</td>\n",
       "      <td>146032</td>\n",
       "      <td>Transporte Local / Locação de Automóvel / Comb...</td>\n",
       "      <td>134</td>\n",
       "      <td>Verba</td>\n",
       "      <td>4</td>\n",
       "      <td>1.0</td>\n",
       "      <td>1</td>\n",
       "      <td>500.0</td>\n",
       "      <td>500.0</td>\n",
       "      <td>500.0</td>\n",
       "      <td>500.0</td>\n",
       "      <td>PB</td>\n",
       "      <td>João Pessoa</td>\n",
       "      <td>2 - Produção / Execução</td>\n",
       "      <td>1</td>\n",
       "      <td>12</td>\n",
       "      <td>2014-04-11 18:50:56</td>\n",
       "    </tr>\n",
       "    <tr>\n",
       "      <th>1894</th>\n",
       "      <td>202095</td>\n",
       "      <td>160506</td>\n",
       "      <td>Sítio de Internet - Hospedagem</td>\n",
       "      <td>2601</td>\n",
       "      <td>Verba</td>\n",
       "      <td>365</td>\n",
       "      <td>1.0</td>\n",
       "      <td>1</td>\n",
       "      <td>1068.0</td>\n",
       "      <td>1068.0</td>\n",
       "      <td>1068.0</td>\n",
       "      <td>1068.0</td>\n",
       "      <td>MT</td>\n",
       "      <td>Cuiabá</td>\n",
       "      <td>1 - Pré-Produção / Preparação</td>\n",
       "      <td>6</td>\n",
       "      <td>6F</td>\n",
       "      <td>2016-02-25 17:57:15</td>\n",
       "    </tr>\n",
       "    <tr>\n",
       "      <th>2040</th>\n",
       "      <td>202095</td>\n",
       "      <td>160506</td>\n",
       "      <td>Webdesigner</td>\n",
       "      <td>3731</td>\n",
       "      <td>Projeto</td>\n",
       "      <td>1</td>\n",
       "      <td>1.0</td>\n",
       "      <td>1</td>\n",
       "      <td>10000.0</td>\n",
       "      <td>10000.0</td>\n",
       "      <td>10000.0</td>\n",
       "      <td>10000.0</td>\n",
       "      <td>MT</td>\n",
       "      <td>Cuiabá</td>\n",
       "      <td>1 - Pré-Produção / Preparação</td>\n",
       "      <td>6</td>\n",
       "      <td>6F</td>\n",
       "      <td>2016-02-25 17:57:15</td>\n",
       "    </tr>\n",
       "  </tbody>\n",
       "</table>\n",
       "</div>"
      ],
      "text/plain": [
       "      idPronac  PRONAC                                               Item  \\\n",
       "8       202095  160506                                Material de consumo   \n",
       "533     178933  146032                         Hospedagem sem alimentação   \n",
       "836     178933  146032  Transporte Local / Locação de Automóvel / Comb...   \n",
       "1894    202095  160506                     Sítio de Internet - Hospedagem   \n",
       "2040    202095  160506                                        Webdesigner   \n",
       "\n",
       "      idPlanilhaItens  Unidade  QtDias  QtItem  nrOcorrencia  \\\n",
       "8                2719    Verba     365     1.0             1   \n",
       "533               130      Dia       4     4.0             3   \n",
       "836               134    Verba       4     1.0             1   \n",
       "1894             2601    Verba     365     1.0             1   \n",
       "2040             3731  Projeto       1     1.0             1   \n",
       "\n",
       "      VlUnitarioSolicitado  VlTotalSolicitado  VlUnitarioAprovado  \\\n",
       "8                   5000.0             5000.0              5000.0   \n",
       "533                  180.0             2160.0               180.0   \n",
       "836                  500.0              500.0               500.0   \n",
       "1894                1068.0             1068.0              1068.0   \n",
       "2040               10000.0            10000.0             10000.0   \n",
       "\n",
       "      VlTotalAprovado UfItem   MunicipioItem                          Etapa  \\\n",
       "8              5000.0     MT          Cuiabá   4 - Custos / Administrativos   \n",
       "533            2160.0     MG  Belo Horizonte        2 - Produção / Execução   \n",
       "836             500.0     PB     João Pessoa        2 - Produção / Execução   \n",
       "1894           1068.0     MT          Cuiabá  1 - Pré-Produção / Preparação   \n",
       "2040          10000.0     MT          Cuiabá  1 - Pré-Produção / Preparação   \n",
       "\n",
       "      Area Segmento         DataProjeto  \n",
       "8        6       6F 2016-02-25 17:57:15  \n",
       "533      1       12 2014-04-11 18:50:56  \n",
       "836      1       12 2014-04-11 18:50:56  \n",
       "1894     6       6F 2016-02-25 17:57:15  \n",
       "2040     6       6F 2016-02-25 17:57:15  "
      ]
     },
     "execution_count": 113,
     "metadata": {},
     "output_type": "execute_result"
    }
   ],
   "source": [
    "from datetime import datetime\n",
    "\n",
    "START_DATE = datetime(day=1, month=1, year=2013)\n",
    "\n",
    "date_column = 'DataProjeto'\n",
    "dt_items[date_column] = pd.to_datetime(dt_items[date_column], format = Dates.DATE_INPUT_FORMAT)\n",
    "\n",
    "dt_items = dt_items[dt_items.loc[:, date_column] >= START_DATE]\n",
    "print(min(dt_items[date_column]))\n",
    "dt_items.head()"
   ]
  },
  {
   "cell_type": "markdown",
   "metadata": {},
   "source": [
    "## Carregando os dados da tabela projetos"
   ]
  },
  {
   "cell_type": "code",
   "execution_count": 114,
   "metadata": {
    "scrolled": false
   },
   "outputs": [
    {
     "data": {
      "text/html": [
       "<div>\n",
       "<style scoped>\n",
       "    .dataframe tbody tr th:only-of-type {\n",
       "        vertical-align: middle;\n",
       "    }\n",
       "\n",
       "    .dataframe tbody tr th {\n",
       "        vertical-align: top;\n",
       "    }\n",
       "\n",
       "    .dataframe thead th {\n",
       "        text-align: right;\n",
       "    }\n",
       "</style>\n",
       "<table border=\"1\" class=\"dataframe\">\n",
       "  <thead>\n",
       "    <tr style=\"text-align: right;\">\n",
       "      <th></th>\n",
       "      <th>IdPRONAC</th>\n",
       "      <th>AnoProjeto</th>\n",
       "      <th>Sequencial</th>\n",
       "      <th>UfProjeto</th>\n",
       "      <th>Area</th>\n",
       "      <th>Segmento</th>\n",
       "      <th>Mecanismo</th>\n",
       "      <th>NomeProjeto</th>\n",
       "      <th>Processo</th>\n",
       "      <th>CgcCpf</th>\n",
       "      <th>...</th>\n",
       "      <th>DtInicioExecucao</th>\n",
       "      <th>DtFimExecucao</th>\n",
       "      <th>SolicitadoUfir</th>\n",
       "      <th>SolicitadoReal</th>\n",
       "      <th>SolicitadoCusteioUfir</th>\n",
       "      <th>SolicitadoCusteioReal</th>\n",
       "      <th>SolicitadoCapitalUfir</th>\n",
       "      <th>SolicitadoCapitalReal</th>\n",
       "      <th>Logon</th>\n",
       "      <th>idProjeto</th>\n",
       "    </tr>\n",
       "  </thead>\n",
       "  <tbody>\n",
       "    <tr>\n",
       "      <th>158164</th>\n",
       "      <td>159372</td>\n",
       "      <td>13</td>\n",
       "      <td>0001</td>\n",
       "      <td>SP</td>\n",
       "      <td>3</td>\n",
       "      <td>33</td>\n",
       "      <td>1</td>\n",
       "      <td>Brasil-Alemanha &amp;#x2013; Quintetos de Sopros</td>\n",
       "      <td>01400000002201381</td>\n",
       "      <td>03521177000121</td>\n",
       "      <td>...</td>\n",
       "      <td>2013-07-01 00:00:00</td>\n",
       "      <td>2013-09-30 00:00:00</td>\n",
       "      <td>0.0</td>\n",
       "      <td>538140.0</td>\n",
       "      <td>0.0</td>\n",
       "      <td>0.0</td>\n",
       "      <td>0.0</td>\n",
       "      <td>0.0</td>\n",
       "      <td>6077.0</td>\n",
       "      <td>93995.0</td>\n",
       "    </tr>\n",
       "  </tbody>\n",
       "</table>\n",
       "<p>1 rows × 34 columns</p>\n",
       "</div>"
      ],
      "text/plain": [
       "        IdPRONAC AnoProjeto Sequencial UfProjeto  Area Segmento  Mecanismo  \\\n",
       "158164    159372         13       0001        SP     3       33          1   \n",
       "\n",
       "                                         NomeProjeto           Processo  \\\n",
       "158164  Brasil-Alemanha &#x2013; Quintetos de Sopros  01400000002201381   \n",
       "\n",
       "                CgcCpf    ...        DtInicioExecucao        DtFimExecucao  \\\n",
       "158164  03521177000121    ...     2013-07-01 00:00:00  2013-09-30 00:00:00   \n",
       "\n",
       "       SolicitadoUfir SolicitadoReal  SolicitadoCusteioUfir  \\\n",
       "158164            0.0       538140.0                    0.0   \n",
       "\n",
       "        SolicitadoCusteioReal SolicitadoCapitalUfir SolicitadoCapitalReal  \\\n",
       "158164                    0.0                   0.0                   0.0   \n",
       "\n",
       "         Logon idProjeto  \n",
       "158164  6077.0   93995.0  \n",
       "\n",
       "[1 rows x 34 columns]"
      ]
     },
     "execution_count": 114,
     "metadata": {},
     "output_type": "execute_result"
    }
   ],
   "source": [
    "from salicml.models.project_items import Projects\n",
    "\n",
    "projects = Projects()\n",
    "projects.dt.head(1)"
   ]
  },
  {
   "cell_type": "code",
   "execution_count": null,
   "metadata": {
    "scrolled": false
   },
   "outputs": [],
   "source": []
  },
  {
   "cell_type": "markdown",
   "metadata": {},
   "source": [
    "# Explorando os dados\n",
    "\n",
    "Explorar rapidamente os dados a fim de obter insights."
   ]
  },
  {
   "cell_type": "markdown",
   "metadata": {},
   "source": [
    "**Dados básicos**"
   ]
  },
  {
   "cell_type": "code",
   "execution_count": 115,
   "metadata": {
    "scrolled": false
   },
   "outputs": [
    {
     "name": "stdout",
     "output_type": "stream",
     "text": [
      "<class 'pandas.core.frame.DataFrame'>\n",
      "Int64Index: 1232336 entries, 8 to 2001716\n",
      "Data columns (total 18 columns):\n",
      "idPronac                1232336 non-null int64\n",
      "PRONAC                  1232336 non-null int64\n",
      "Item                    1232336 non-null object\n",
      "idPlanilhaItens         1232336 non-null int64\n",
      "Unidade                 1232336 non-null object\n",
      "QtDias                  1232336 non-null int64\n",
      "QtItem                  1232336 non-null float64\n",
      "nrOcorrencia            1232336 non-null int64\n",
      "VlUnitarioSolicitado    1180077 non-null float64\n",
      "VlTotalSolicitado       1232336 non-null float64\n",
      "VlUnitarioAprovado      1232336 non-null float64\n",
      "VlTotalAprovado         1232336 non-null float64\n",
      "UfItem                  1232336 non-null object\n",
      "MunicipioItem           1232336 non-null object\n",
      "Etapa                   1232336 non-null object\n",
      "Area                    1232336 non-null int64\n",
      "Segmento                1232336 non-null object\n",
      "DataProjeto             1232336 non-null datetime64[ns]\n",
      "dtypes: datetime64[ns](1), float64(5), int64(6), object(6)\n",
      "memory usage: 178.6+ MB\n"
     ]
    }
   ],
   "source": [
    "dt_items.info()"
   ]
  },
  {
   "cell_type": "markdown",
   "metadata": {},
   "source": [
    "# Áreas e projetos mais frequentes"
   ]
  },
  {
   "cell_type": "code",
   "execution_count": 116,
   "metadata": {
    "scrolled": false
   },
   "outputs": [
    {
     "name": "stdout",
     "output_type": "stream",
     "text": [
      "2013-01-02T10:59:07.000000000\n"
     ]
    },
    {
     "data": {
      "text/plain": [
       "[(7, 22423), (1, 10112), (3, 8197)]"
      ]
     },
     "metadata": {},
     "output_type": "display_data"
    },
    {
     "data": {
      "text/plain": [
       "[('76', 21617), ('11', 7148), ('33', 3485)]"
      ]
     },
     "metadata": {},
     "output_type": "display_data"
    },
    {
     "data": {
      "text/html": [
       "<div>\n",
       "<style scoped>\n",
       "    .dataframe tbody tr th:only-of-type {\n",
       "        vertical-align: middle;\n",
       "    }\n",
       "\n",
       "    .dataframe tbody tr th {\n",
       "        vertical-align: top;\n",
       "    }\n",
       "\n",
       "    .dataframe thead th {\n",
       "        text-align: right;\n",
       "    }\n",
       "</style>\n",
       "<table border=\"1\" class=\"dataframe\">\n",
       "  <thead>\n",
       "    <tr style=\"text-align: right;\">\n",
       "      <th></th>\n",
       "      <th>Area</th>\n",
       "      <th>Segmento</th>\n",
       "      <th>Frequency</th>\n",
       "    </tr>\n",
       "  </thead>\n",
       "  <tbody>\n",
       "    <tr>\n",
       "      <th>118</th>\n",
       "      <td>7</td>\n",
       "      <td>76</td>\n",
       "      <td>21617</td>\n",
       "    </tr>\n",
       "    <tr>\n",
       "      <th>0</th>\n",
       "      <td>1</td>\n",
       "      <td>11</td>\n",
       "      <td>7148</td>\n",
       "    </tr>\n",
       "    <tr>\n",
       "      <th>49</th>\n",
       "      <td>3</td>\n",
       "      <td>33</td>\n",
       "      <td>3485</td>\n",
       "    </tr>\n",
       "    <tr>\n",
       "      <th>47</th>\n",
       "      <td>3</td>\n",
       "      <td>31</td>\n",
       "      <td>3104</td>\n",
       "    </tr>\n",
       "    <tr>\n",
       "      <th>59</th>\n",
       "      <td>4</td>\n",
       "      <td>4B</td>\n",
       "      <td>2459</td>\n",
       "    </tr>\n",
       "  </tbody>\n",
       "</table>\n",
       "</div>"
      ],
      "text/plain": [
       "     Area Segmento  Frequency\n",
       "118     7       76      21617\n",
       "0       1       11       7148\n",
       "49      3       33       3485\n",
       "47      3       31       3104\n",
       "59      4       4B       2459"
      ]
     },
     "metadata": {},
     "output_type": "display_data"
    }
   ],
   "source": [
    "print(min(projects.dt[Projects.DATE].values))\n",
    "areas = projects.most_frequent_areas()\n",
    "display(areas[:3])\n",
    "\n",
    "segments = projects.most_frequent_segments()\n",
    "display(segments[:3])\n",
    "\n",
    "most_frequent_area_segment = projects.most_frequent_area_segment()\n",
    "display(most_frequent_area_segment.head())"
   ]
  },
  {
   "cell_type": "markdown",
   "metadata": {},
   "source": [
    "### Verificando se um segmento pode estar em mais de uma área"
   ]
  },
  {
   "cell_type": "code",
   "execution_count": 117,
   "metadata": {},
   "outputs": [
    {
     "name": "stdout",
     "output_type": "stream",
     "text": [
      "[('32', 2), ('11', 1), ('12', 1)]\n"
     ]
    }
   ],
   "source": [
    "counts = np.unique(most_frequent_area_segment['Segmento'].values, return_counts=True)\n",
    "counts = list(zip(*counts))\n",
    "counts = sorted(counts, key=itemgetter(1), reverse=True)\n",
    "print(counts[:3])"
   ]
  },
  {
   "cell_type": "markdown",
   "metadata": {},
   "source": [
    "**Um segmento pode estar em mais de uma área**\n",
    "\n",
    "O Segmento `32` está em 2 áreas."
   ]
  },
  {
   "cell_type": "code",
   "execution_count": 118,
   "metadata": {},
   "outputs": [],
   "source": [
    "from salicml.models.project_items import ProjectItems\n",
    "from salicml.utils.utils import debug\n",
    "\n",
    "project_items = ProjectItems(dt_items)"
   ]
  },
  {
   "cell_type": "code",
   "execution_count": 119,
   "metadata": {},
   "outputs": [],
   "source": [
    "ID_PRONAC = 'idPronac'"
   ]
  },
  {
   "cell_type": "markdown",
   "metadata": {},
   "source": [
    "**Testando a hipótese em cima de uma única tupla**\n",
    "\n",
    "A tupla de (area, segmento) que possui o maior número de projetos é a tupla `(7, 76)`. Vamos testar, inicialmente, a hipótese em cima deste conjunto de projetos."
   ]
  },
  {
   "cell_type": "code",
   "execution_count": 120,
   "metadata": {
    "scrolled": true
   },
   "outputs": [
    {
     "name": "stdout",
     "output_type": "stream",
     "text": [
      "(area, segmento) = (7, '76')\n",
      "area_and_segment = 8          False\n",
      "533        False\n",
      "836        False\n",
      "1894       False\n",
      "2040       False\n",
      "3012       False\n",
      "3591       False\n",
      "4688       False\n",
      "5419       False\n",
      "5573       False\n",
      "5574       False\n",
      "5604       False\n",
      "7996       False\n",
      "7997       False\n",
      "8052       False\n",
      "10072      False\n",
      "10278      False\n",
      "10326      False\n",
      "10370      False\n",
      "10371      False\n",
      "10430      False\n",
      "11107      False\n",
      "11118      False\n",
      "11119      False\n",
      "11132      False\n",
      "11133      False\n",
      "11212      False\n",
      "11913      False\n",
      "12011      False\n",
      "12219      False\n",
      "           ...  \n",
      "2001686    False\n",
      "2001687    False\n",
      "2001688    False\n",
      "2001689    False\n",
      "2001690    False\n",
      "2001691    False\n",
      "2001692    False\n",
      "2001693    False\n",
      "2001694    False\n",
      "2001695    False\n",
      "2001696    False\n",
      "2001697    False\n",
      "2001698    False\n",
      "2001700    False\n",
      "2001701    False\n",
      "2001702    False\n",
      "2001703    False\n",
      "2001704    False\n",
      "2001705    False\n",
      "2001706    False\n",
      "2001707    False\n",
      "2001708    False\n",
      "2001709    False\n",
      "2001710    False\n",
      "2001711    False\n",
      "2001712    False\n",
      "2001713    False\n",
      "2001714    False\n",
      "2001715    False\n",
      "2001716    False\n",
      "Name: Segmento, Length: 1232336, dtype: bool\n",
      "type(area_and_segment) = <class 'pandas.core.series.Series'>\n"
     ]
    },
    {
     "data": {
      "text/html": [
       "<div>\n",
       "<style scoped>\n",
       "    .dataframe tbody tr th:only-of-type {\n",
       "        vertical-align: middle;\n",
       "    }\n",
       "\n",
       "    .dataframe tbody tr th {\n",
       "        vertical-align: top;\n",
       "    }\n",
       "\n",
       "    .dataframe thead th {\n",
       "        text-align: right;\n",
       "    }\n",
       "</style>\n",
       "<table border=\"1\" class=\"dataframe\">\n",
       "  <thead>\n",
       "    <tr style=\"text-align: right;\">\n",
       "      <th></th>\n",
       "      <th>idPronac</th>\n",
       "      <th>PRONAC</th>\n",
       "      <th>Item</th>\n",
       "      <th>idPlanilhaItens</th>\n",
       "      <th>Unidade</th>\n",
       "      <th>QtDias</th>\n",
       "      <th>QtItem</th>\n",
       "      <th>nrOcorrencia</th>\n",
       "      <th>VlUnitarioSolicitado</th>\n",
       "      <th>VlTotalSolicitado</th>\n",
       "      <th>VlUnitarioAprovado</th>\n",
       "      <th>VlTotalAprovado</th>\n",
       "      <th>UfItem</th>\n",
       "      <th>MunicipioItem</th>\n",
       "      <th>Etapa</th>\n",
       "      <th>Area</th>\n",
       "      <th>Segmento</th>\n",
       "      <th>DataProjeto</th>\n",
       "    </tr>\n",
       "  </thead>\n",
       "  <tbody>\n",
       "  </tbody>\n",
       "</table>\n",
       "</div>"
      ],
      "text/plain": [
       "Empty DataFrame\n",
       "Columns: [idPronac, PRONAC, Item, idPlanilhaItens, Unidade, QtDias, QtItem, nrOcorrencia, VlUnitarioSolicitado, VlTotalSolicitado, VlUnitarioAprovado, VlTotalAprovado, UfItem, MunicipioItem, Etapa, Area, Segmento, DataProjeto]\n",
       "Index: []"
      ]
     },
     "metadata": {},
     "output_type": "display_data"
    },
    {
     "data": {
      "text/html": [
       "<div>\n",
       "<style scoped>\n",
       "    .dataframe tbody tr th:only-of-type {\n",
       "        vertical-align: middle;\n",
       "    }\n",
       "\n",
       "    .dataframe tbody tr th {\n",
       "        vertical-align: top;\n",
       "    }\n",
       "\n",
       "    .dataframe thead th {\n",
       "        text-align: right;\n",
       "    }\n",
       "</style>\n",
       "<table border=\"1\" class=\"dataframe\">\n",
       "  <thead>\n",
       "    <tr style=\"text-align: right;\">\n",
       "      <th></th>\n",
       "      <th>idPronac</th>\n",
       "      <th>PRONAC</th>\n",
       "      <th>Item</th>\n",
       "      <th>idPlanilhaItens</th>\n",
       "      <th>Unidade</th>\n",
       "      <th>QtDias</th>\n",
       "      <th>QtItem</th>\n",
       "      <th>nrOcorrencia</th>\n",
       "      <th>VlUnitarioSolicitado</th>\n",
       "      <th>VlTotalSolicitado</th>\n",
       "      <th>VlUnitarioAprovado</th>\n",
       "      <th>VlTotalAprovado</th>\n",
       "      <th>UfItem</th>\n",
       "      <th>MunicipioItem</th>\n",
       "      <th>Etapa</th>\n",
       "      <th>Area</th>\n",
       "      <th>Segmento</th>\n",
       "      <th>DataProjeto</th>\n",
       "    </tr>\n",
       "  </thead>\n",
       "  <tbody>\n",
       "  </tbody>\n",
       "</table>\n",
       "</div>"
      ],
      "text/plain": [
       "Empty DataFrame\n",
       "Columns: [idPronac, PRONAC, Item, idPlanilhaItens, Unidade, QtDias, QtItem, nrOcorrencia, VlUnitarioSolicitado, VlTotalSolicitado, VlUnitarioAprovado, VlTotalAprovado, UfItem, MunicipioItem, Etapa, Area, Segmento, DataProjeto]\n",
       "Index: []"
      ]
     },
     "metadata": {},
     "output_type": "display_data"
    },
    {
     "name": "stdout",
     "output_type": "stream",
     "text": [
      "items_area.len = 0\n"
     ]
    }
   ],
   "source": [
    "AREA, SEGMENTO = ProjectItems.AREA, ProjectItems.SEGMENTO\n",
    "area_segment = (most_frequent_area_segment.iloc[0].Area, most_frequent_area_segment.iloc[0].Segmento)\n",
    "print('(area, segmento) = {}'.format(area_segment))\n",
    "\n",
    "area_and_segment = (dt_items[SEGMENTO] == area_segment[1])\n",
    "debug('area_and_segment', area_and_segment)\n",
    "display(dt_items[area_and_segment])\n",
    "\n",
    "area_and_segment &= (dt_items[AREA] == area_segment[0])\n",
    "items_area = dt_items.loc[area_and_segment]\n",
    "display(items_area.head(5))\n",
    "\n",
    "\n",
    "print('items_area.len = {}'.format(len(items_area.index)))"
   ]
  },
  {
   "cell_type": "markdown",
   "metadata": {},
   "source": [
    "# Importando a tabela Projetos"
   ]
  },
  {
   "cell_type": "code",
   "execution_count": 121,
   "metadata": {
    "scrolled": false
   },
   "outputs": [
    {
     "name": "stdout",
     "output_type": "stream",
     "text": [
      "counts[0].size = 0\n"
     ]
    },
    {
     "ename": "ValueError",
     "evalue": "max() arg is an empty sequence",
     "output_type": "error",
     "traceback": [
      "\u001b[0;31m---------------------------------------------------------------------------\u001b[0m",
      "\u001b[0;31mValueError\u001b[0m                                Traceback (most recent call last)",
      "\u001b[0;32m<ipython-input-121-e118a9a49716>\u001b[0m in \u001b[0;36m<module>\u001b[0;34m()\u001b[0m\n\u001b[1;32m      2\u001b[0m \u001b[0mcounts\u001b[0m \u001b[0;34m=\u001b[0m \u001b[0mnp\u001b[0m\u001b[0;34m.\u001b[0m\u001b[0munique\u001b[0m\u001b[0;34m(\u001b[0m\u001b[0mitems_area\u001b[0m\u001b[0;34m[\u001b[0m\u001b[0mID_ITEM\u001b[0m\u001b[0;34m]\u001b[0m\u001b[0;34m.\u001b[0m\u001b[0mvalues\u001b[0m\u001b[0;34m,\u001b[0m \u001b[0mreturn_counts\u001b[0m\u001b[0;34m=\u001b[0m\u001b[0;32mTrue\u001b[0m\u001b[0;34m)\u001b[0m\u001b[0;34m\u001b[0m\u001b[0m\n\u001b[1;32m      3\u001b[0m \u001b[0mprint\u001b[0m\u001b[0;34m(\u001b[0m\u001b[0;34m'counts[0].size = {}'\u001b[0m\u001b[0;34m.\u001b[0m\u001b[0mformat\u001b[0m\u001b[0;34m(\u001b[0m\u001b[0mcounts\u001b[0m\u001b[0;34m[\u001b[0m\u001b[0;36m0\u001b[0m\u001b[0;34m]\u001b[0m\u001b[0;34m.\u001b[0m\u001b[0msize\u001b[0m\u001b[0;34m)\u001b[0m\u001b[0;34m)\u001b[0m\u001b[0;34m\u001b[0m\u001b[0m\n\u001b[0;32m----> 4\u001b[0;31m \u001b[0mprint\u001b[0m\u001b[0;34m(\u001b[0m\u001b[0;34m'max(counts[1]) = {}'\u001b[0m\u001b[0;34m.\u001b[0m\u001b[0mformat\u001b[0m\u001b[0;34m(\u001b[0m\u001b[0mmax\u001b[0m\u001b[0;34m(\u001b[0m\u001b[0mcounts\u001b[0m\u001b[0;34m[\u001b[0m\u001b[0;36m1\u001b[0m\u001b[0;34m]\u001b[0m\u001b[0;34m)\u001b[0m\u001b[0;34m)\u001b[0m\u001b[0;34m)\u001b[0m\u001b[0;34m\u001b[0m\u001b[0m\n\u001b[0m",
      "\u001b[0;31mValueError\u001b[0m: max() arg is an empty sequence"
     ]
    }
   ],
   "source": [
    "ID_ITEM = 'idPlanilhaItens'\n",
    "counts = np.unique(items_area[ID_ITEM].values, return_counts=True)\n",
    "print('counts[0].size = {}'.format(counts[0].size))\n",
    "print('max(counts[1]) = {}'.format(max(counts[1])))"
   ]
  },
  {
   "cell_type": "markdown",
   "metadata": {},
   "source": [
    "**Estatísticas básicas sobre o eixo-y do histograma**"
   ]
  },
  {
   "cell_type": "code",
   "execution_count": null,
   "metadata": {},
   "outputs": [],
   "source": [
    "def plot_bar(y):\n",
    "    x = np.arange(1, len(y) + 1)\n",
    "    plt.bar(x, y, align='center')\n",
    "    plt.xlabel('Id do item')\n",
    "    plt.ylabel('Número de ocorrências do item')\n",
    "    plt.title('Histograma de ocorrência de itens em projetos aprovados')\n",
    "    plt.show()"
   ]
  },
  {
   "cell_type": "code",
   "execution_count": null,
   "metadata": {
    "scrolled": true
   },
   "outputs": [],
   "source": [
    "from operator import itemgetter\n",
    "\n",
    "ids_count = list(zip(*counts))\n",
    "ids_count.sort(key=itemgetter(1), reverse=True)\n",
    "x, y = zip(*ids_count)\n",
    "y = np.array(y)\n",
    "plot_bar(y)"
   ]
  },
  {
   "cell_type": "markdown",
   "metadata": {},
   "source": [
    "### Sobre o gráfico acima\n",
    "\n",
    "O eixo x representa uma \"normalização\" do id dos itens, pois os ids dos itens não necessariamente formam uma permutação de `[1, n]`. Os valores do eixo y foram ordenados em decrescente já que a ordem dos itens não interessa e o objetivo do notebook é investigar os itens mais frequentes. Também é importante comentar que o histograma acima assume que para uma dada planilha orçamentária há apenas uma linha por tipo (id) do item por projeto (idPronac)."
   ]
  },
  {
   "cell_type": "markdown",
   "metadata": {},
   "source": [
    "### Repetindo o gráfico mas tirando valores de y que estão abaixo do percentile\n"
   ]
  },
  {
   "cell_type": "code",
   "execution_count": null,
   "metadata": {
    "scrolled": false
   },
   "outputs": [],
   "source": [
    "PERCENTILE = 50\n",
    "percentile = np.percentile(y, PERCENTILE)\n",
    "display(pd.DataFrame(y).describe())\n",
    "print('percentile = {}'.format(percentile))\n",
    "\n",
    "y = [val for val in y if val >= percentile]\n",
    "plot_bar(y)"
   ]
  },
  {
   "cell_type": "markdown",
   "metadata": {},
   "source": [
    "**Dando peso aos itens**\n",
    "\n",
    "Neste passo é assumido que itens mais frequentes devem ter um peso maior que itens menos frequentes. Portanto podemos considerar que o peso de um item `x` é o valor `y` no histograma de contagem dos itens. Agora pode-se calcular a **Métrica 1** utilizando estes pesos e enfim confirmar/negar a **Hipótese 1**."
   ]
  },
  {
   "cell_type": "code",
   "execution_count": null,
   "metadata": {},
   "outputs": [],
   "source": [
    "from collections import Counter\n",
    "\n",
    "item_weight = Counter(dt_items[ID_ITEM].values)"
   ]
  },
  {
   "cell_type": "code",
   "execution_count": null,
   "metadata": {},
   "outputs": [],
   "source": [
    "def get_items_score(items):\n",
    "    score = sum(item_weight[id] for id in items)\n",
    "    return score\n",
    "\n",
    "\n",
    "def get_project_score(id_pronac):\n",
    "    items = project_items.items(id_pronac)\n",
    "    score = get_items_score(items)\n",
    "    return score\n",
    "\n",
    "\n",
    "def get_projects_weighted_similarity(itens_a, itens_b):\n",
    "    intersect = np.intersect1d(itens_a, itens_b)\n",
    "    union = np.union1d(itens_a, itens_b)\n",
    "    \n",
    "    numerator = get_items_score(intersect)\n",
    "    denominator = get_items_score(union)\n",
    "    \n",
    "    similarity = numerator / denominator\n",
    "    \n",
    "    assert similarity >= 0.0 and similarity <= 1.0\n",
    "    return similarity\n",
    "\n",
    "\n",
    "def get_projects_weighted_similarity_min(itens_a, itens_b):\n",
    "    if itens_a.size > itens_b.size:\n",
    "        itens_a, itens_b = itens_b, itens_a\n",
    "        \n",
    "    intersect = np.intersect1d(itens_a, itens_b)\n",
    "    numerator = get_items_score(intersect)\n",
    "    \n",
    "    denominator = get_items_score(itens_a)\n",
    "    \n",
    "    similarity = numerator / denominator\n",
    "    \n",
    "    assert similarity >= 0.0 and similarity <= 1.0\n",
    "    return similarity"
   ]
  },
  {
   "cell_type": "markdown",
   "metadata": {},
   "source": [
    "**Calculando a similaridade entre projetos de áreas (1, '6F')**\n",
    "\n",
    "Devido o custo computacional das operações na tabela/dataframe, é inviável calcular a similaridade entre todas as combinações tomadas 2 a 2 de todos os projetos da área acima. Um contorno possível é selecionar um subconjunto aleatório destes projetos e testar todas as combinações tomadas 2 a 2 deste subconjunto."
   ]
  },
  {
   "cell_type": "code",
   "execution_count": null,
   "metadata": {},
   "outputs": [],
   "source": [
    "PERCENT =  0.025\n",
    "pronacs_in_area = items_area[ID_PRONAC].unique()\n",
    "\n",
    "%store -r pronacs_sample\n",
    "\n",
    "pronacs = pronacs_sample\n",
    "print('sample size = {}'.format(pronacs.size))"
   ]
  },
  {
   "cell_type": "code",
   "execution_count": null,
   "metadata": {
    "scrolled": false
   },
   "outputs": [],
   "source": [
    "%%time\n",
    "size = pronacs.size\n",
    "sims = []\n",
    "sims_min = []\n",
    "\n",
    "for i in range(size):\n",
    "    id1 = pronacs[i]\n",
    "    items_a = project_items.items(id1, dt=items_area)\n",
    "\n",
    "    for j in range(i + 1, size):\n",
    "        id2 = pronacs[j]\n",
    "        items_b = project_items.items(id2, items_area)\n",
    "        similarity = get_projects_weighted_similarity(items_a, items_b)\n",
    "        similarity_min = get_projects_weighted_similarity_min(items_a, items_b)\n",
    "        \n",
    "        sims.append(similarity)\n",
    "        sims_min.append(similarity_min)\n",
    "\n",
    "similarities = np.array(sims, float)\n",
    "similarities_min = np.array(sims_min, float)\n"
   ]
  },
  {
   "cell_type": "markdown",
   "metadata": {},
   "source": [
    "**Resultados da similaridade em relação ao tamanho da união dos conjuntos**"
   ]
  },
  {
   "cell_type": "code",
   "execution_count": null,
   "metadata": {
    "scrolled": false
   },
   "outputs": [],
   "source": [
    "weighed_sim_stats = pd.DataFrame(similarities).describe()\n",
    "display(weighed_sim_stats)"
   ]
  },
  {
   "cell_type": "code",
   "execution_count": null,
   "metadata": {
    "scrolled": true
   },
   "outputs": [],
   "source": [
    "plt.hist(similarities)\n",
    "plt.title('Similaridade considerando o conjunto união dos itens')\n",
    "plt.xlabel('Similaridade em [0, 1]')\n",
    "plt.ylabel('Número de combinações, C(n, 2)')\n",
    "plt.show()"
   ]
  },
  {
   "cell_type": "code",
   "execution_count": null,
   "metadata": {},
   "outputs": [],
   "source": [
    "plt.hist(similarities_min)\n",
    "plt.title('Similaridade considerando o menor conjunto de itens da combinação')\n",
    "plt.xlabel('Similaridade em [0, 1]')\n",
    "plt.ylabel('Número de combinações, C(n, 2)')\n",
    "plt.show()"
   ]
  },
  {
   "cell_type": "markdown",
   "metadata": {},
   "source": [
    "# Comparação com os resultados da mesma métrica mas sem pesos\n",
    "\n",
    "**Métrica 1**"
   ]
  },
  {
   "cell_type": "code",
   "execution_count": null,
   "metadata": {
    "scrolled": true
   },
   "outputs": [],
   "source": [
    "%store -r sim_describe\n",
    "\n",
    "\n",
    "dt_comp = pd.DataFrame(sim_describe)\n",
    "dt_comp['comparação ponderada'] = weighed_sim_stats[0].values\n",
    "dt_comp.rename(columns = {0: 'comparação sem ponderar'}, inplace=True)\n",
    "display(dt_comp)"
   ]
  },
  {
   "cell_type": "markdown",
   "metadata": {},
   "source": [
    "### Conclusões\n",
    "\n",
    "Na média, a similaridade dos projetos aumentou, de `0.154977` para `0.285552`. É preciso ainda testar a Hipótese 2 para se comparar estes valores a fim de fato negar ou confirmar a Hipótese 1, pois pode ser que a similaridade entre projetos de segmentos distintos seja muito menor do que a similaridade entre projetos de mesmos segmentos.\n",
    "\n",
    "#### Contribuições futuras\n",
    "\n",
    "- Negar ou confirmar a Hipótese 2\n",
    "- Considerar uma métrica similar ao `tf-idf`, descrita em https://en.wikipedia.org/wiki/Tf%E2%80%93idf"
   ]
  }
 ],
 "metadata": {
  "kernelspec": {
   "display_name": "Python 3",
   "language": "python",
   "name": "python3"
  },
  "language_info": {
   "codemirror_mode": {
    "name": "ipython",
    "version": 3
   },
   "file_extension": ".py",
   "mimetype": "text/x-python",
   "name": "python",
   "nbconvert_exporter": "python",
   "pygments_lexer": "ipython3",
   "version": "3.6.4"
  }
 },
 "nbformat": 4,
 "nbformat_minor": 2
}
