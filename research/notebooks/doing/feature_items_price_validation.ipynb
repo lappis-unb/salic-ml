{
 "cells": [
  {
   "cell_type": "markdown",
   "metadata": {},
   "source": [
    "### Validando \"Porcentagem de itens com preços outliers acima do histórico daquele item\""
   ]
  },
  {
   "cell_type": "markdown",
   "metadata": {},
   "source": [
    "**Issue**: [#61](https://github.com/lappis-unb/salic-ml/issues/61)"
   ]
  },
  {
   "cell_type": "markdown",
   "metadata": {},
   "source": [
    "### Features Extracted:\n",
    "\n",
    "- https://github.com/lappis-unb/salic-ml/wiki/Brainstorming-de-features-para-estimar-Complexidade-Financeira"
   ]
  },
  {
   "cell_type": "markdown",
   "metadata": {},
   "source": [
    "#### Recarregar automaticamente os módulos"
   ]
  },
  {
   "cell_type": "markdown",
   "metadata": {},
   "source": [
    "### Planila orçamentária\n",
    "\n",
    "SQL Query: \n"
   ]
  },
  {
   "cell_type": "code",
   "execution_count": 1,
   "metadata": {},
   "outputs": [],
   "source": [
    "%load_ext autoreload\n",
    "%autoreload 2"
   ]
  },
  {
   "cell_type": "markdown",
   "metadata": {},
   "source": [
    "### Importing data"
   ]
  },
  {
   "cell_type": "code",
   "execution_count": 2,
   "metadata": {
    "scrolled": true
   },
   "outputs": [
    {
     "name": "stderr",
     "output_type": "stream",
     "text": [
      "/usr/lib/python3.6/importlib/_bootstrap.py:219: RuntimeWarning: numpy.dtype size changed, may indicate binary incompatibility. Expected 96, got 88\n",
      "  return f(*args, **kwds)\n",
      "/usr/lib/python3.6/importlib/_bootstrap.py:219: RuntimeWarning: numpy.dtype size changed, may indicate binary incompatibility. Expected 96, got 88\n",
      "  return f(*args, **kwds)\n"
     ]
    }
   ],
   "source": [
    "import os\n",
    "import sys\n",
    "import time\n",
    "from datetime import datetime\n",
    "\n",
    "import numpy as np\n",
    "import pandas as pd\n",
    "import matplotlib.pyplot as plt\n",
    "from scipy import stats\n",
    "\n",
    "\n",
    "from salicml.utils.dates import Dates\n",
    "from salicml.utils.read_csv import read_csv_with_different_type\n",
    "from salicml.utils.read_csv import read_csv\n",
    "from salicml.utils.utils import debug\n",
    "from salicml.outliers import gaussian_outlier\n",
    "\n",
    "PROJECT_ROOT = os.path.abspath(os.path.join(os.pardir, os.pardir))\n",
    "DATA_FOLDER = os.path.join(PROJECT_ROOT, 'data', 'raw')"
   ]
  },
  {
   "cell_type": "markdown",
   "metadata": {},
   "source": [
    "### Dataset de comprovação"
   ]
  },
  {
   "cell_type": "code",
   "execution_count": 3,
   "metadata": {
    "scrolled": false
   },
   "outputs": [
    {
     "data": {
      "text/plain": [
       "Index(['PRONAC', 'idPlanilhaAprovacao', 'Item', 'idPlanilhaItens',\n",
       "       'VlUnitarioAprovado', 'idSegmento', 'DataProjeto'],\n",
       "      dtype='object')"
      ]
     },
     "metadata": {},
     "output_type": "display_data"
    },
    {
     "data": {
      "text/html": [
       "<div>\n",
       "<style scoped>\n",
       "    .dataframe tbody tr th:only-of-type {\n",
       "        vertical-align: middle;\n",
       "    }\n",
       "\n",
       "    .dataframe tbody tr th {\n",
       "        vertical-align: top;\n",
       "    }\n",
       "\n",
       "    .dataframe thead th {\n",
       "        text-align: right;\n",
       "    }\n",
       "</style>\n",
       "<table border=\"1\" class=\"dataframe\">\n",
       "  <thead>\n",
       "    <tr style=\"text-align: right;\">\n",
       "      <th></th>\n",
       "      <th>PRONAC</th>\n",
       "      <th>idPlanilhaAprovacao</th>\n",
       "      <th>Item</th>\n",
       "      <th>idPlanilhaItens</th>\n",
       "      <th>VlUnitarioAprovado</th>\n",
       "      <th>idSegmento</th>\n",
       "      <th>DataProjeto</th>\n",
       "    </tr>\n",
       "  </thead>\n",
       "  <tbody>\n",
       "    <tr>\n",
       "      <th>0</th>\n",
       "      <td>93004</td>\n",
       "      <td>50109</td>\n",
       "      <td>Montagem e desmontagem</td>\n",
       "      <td>88</td>\n",
       "      <td>140.00</td>\n",
       "      <td>51</td>\n",
       "      <td>2009-06-26 09:46:54</td>\n",
       "    </tr>\n",
       "    <tr>\n",
       "      <th>1</th>\n",
       "      <td>103228</td>\n",
       "      <td>239572</td>\n",
       "      <td>Locação de Piano</td>\n",
       "      <td>3040</td>\n",
       "      <td>1500.00</td>\n",
       "      <td>33</td>\n",
       "      <td>2010-05-06 10:49:13</td>\n",
       "    </tr>\n",
       "    <tr>\n",
       "      <th>2</th>\n",
       "      <td>103228</td>\n",
       "      <td>239599</td>\n",
       "      <td>Programa</td>\n",
       "      <td>2634</td>\n",
       "      <td>2.00</td>\n",
       "      <td>33</td>\n",
       "      <td>2010-05-06 10:49:13</td>\n",
       "    </tr>\n",
       "    <tr>\n",
       "      <th>3</th>\n",
       "      <td>1012471</td>\n",
       "      <td>86608</td>\n",
       "      <td>Transporte Local / Locação de Automóvel / Comb...</td>\n",
       "      <td>134</td>\n",
       "      <td>1.45</td>\n",
       "      <td>71</td>\n",
       "      <td>2010-12-21 17:09:22</td>\n",
       "    </tr>\n",
       "    <tr>\n",
       "      <th>4</th>\n",
       "      <td>93932</td>\n",
       "      <td>11387</td>\n",
       "      <td>Confecção de painéis explicativos</td>\n",
       "      <td>90</td>\n",
       "      <td>300.00</td>\n",
       "      <td>71</td>\n",
       "      <td>2009-07-27 08:40:04</td>\n",
       "    </tr>\n",
       "  </tbody>\n",
       "</table>\n",
       "</div>"
      ],
      "text/plain": [
       "    PRONAC  idPlanilhaAprovacao  \\\n",
       "0    93004                50109   \n",
       "1   103228               239572   \n",
       "2   103228               239599   \n",
       "3  1012471                86608   \n",
       "4    93932                11387   \n",
       "\n",
       "                                                Item  idPlanilhaItens  \\\n",
       "0                             Montagem e desmontagem               88   \n",
       "1                                   Locação de Piano             3040   \n",
       "2                                           Programa             2634   \n",
       "3  Transporte Local / Locação de Automóvel / Comb...              134   \n",
       "4                  Confecção de painéis explicativos               90   \n",
       "\n",
       "   VlUnitarioAprovado idSegmento          DataProjeto  \n",
       "0              140.00         51  2009-06-26 09:46:54  \n",
       "1             1500.00         33  2010-05-06 10:49:13  \n",
       "2                2.00         33  2010-05-06 10:49:13  \n",
       "3                1.45         71  2010-12-21 17:09:22  \n",
       "4              300.00         71  2009-07-27 08:40:04  "
      ]
     },
     "execution_count": 3,
     "metadata": {},
     "output_type": "execute_result"
    }
   ],
   "source": [
    "dt_orcamentaria_name = 'planilha_orcamentaria.csv'\n",
    "\n",
    "usecols = ['PRONAC', 'idPlanilhaAprovacao', 'Item', 'idPlanilhaItens', 'VlUnitarioAprovado', 'idSegmento', 'DataProjeto']\n",
    "dtype = {\n",
    "    'PRONAC': str,\n",
    "}\n",
    "\n",
    "#dt_orcamentaria = read_csv_with_different_type(dt_orcamentaria_name, dtype, usecols=usecols)\n",
    "dt_orcamentaria = read_csv(dt_orcamentaria_name, usecols=usecols)\n",
    "display(dt_orcamentaria.columns)\n",
    "\n",
    "dt_orcamentaria.head()"
   ]
  },
  {
   "cell_type": "markdown",
   "metadata": {},
   "source": [
    "# Treino"
   ]
  },
  {
   "cell_type": "code",
   "execution_count": 4,
   "metadata": {
    "scrolled": true
   },
   "outputs": [
    {
     "data": {
      "text/plain": [
       "PRONAC                          int64\n",
       "idPlanilhaAprovacao             int64\n",
       "Item                           object\n",
       "idPlanilhaItens                 int64\n",
       "VlUnitarioAprovado            float64\n",
       "idSegmento                     object\n",
       "DataProjeto            datetime64[ns]\n",
       "dtype: object"
      ]
     },
     "metadata": {},
     "output_type": "display_data"
    },
    {
     "data": {
      "text/html": [
       "<div>\n",
       "<style scoped>\n",
       "    .dataframe tbody tr th:only-of-type {\n",
       "        vertical-align: middle;\n",
       "    }\n",
       "\n",
       "    .dataframe tbody tr th {\n",
       "        vertical-align: top;\n",
       "    }\n",
       "\n",
       "    .dataframe thead th {\n",
       "        text-align: right;\n",
       "    }\n",
       "</style>\n",
       "<table border=\"1\" class=\"dataframe\">\n",
       "  <thead>\n",
       "    <tr style=\"text-align: right;\">\n",
       "      <th></th>\n",
       "      <th>PRONAC</th>\n",
       "      <th>idPlanilhaAprovacao</th>\n",
       "      <th>Item</th>\n",
       "      <th>idPlanilhaItens</th>\n",
       "      <th>VlUnitarioAprovado</th>\n",
       "      <th>idSegmento</th>\n",
       "      <th>DataProjeto</th>\n",
       "    </tr>\n",
       "  </thead>\n",
       "  <tbody>\n",
       "    <tr>\n",
       "      <th>1816335</th>\n",
       "      <td>130001</td>\n",
       "      <td>774836</td>\n",
       "      <td>Ensaios</td>\n",
       "      <td>2502</td>\n",
       "      <td>500.0</td>\n",
       "      <td>33</td>\n",
       "      <td>2013-01-02 10:59:07</td>\n",
       "    </tr>\n",
       "    <tr>\n",
       "      <th>1635245</th>\n",
       "      <td>130001</td>\n",
       "      <td>774835</td>\n",
       "      <td>Transporte Local / Locação de Automóvel / Comb...</td>\n",
       "      <td>134</td>\n",
       "      <td>800.0</td>\n",
       "      <td>33</td>\n",
       "      <td>2013-01-02 10:59:07</td>\n",
       "    </tr>\n",
       "    <tr>\n",
       "      <th>710100</th>\n",
       "      <td>130001</td>\n",
       "      <td>774847</td>\n",
       "      <td>Coordenação Administrativo- Financeiro</td>\n",
       "      <td>3732</td>\n",
       "      <td>3000.0</td>\n",
       "      <td>33</td>\n",
       "      <td>2013-01-02 10:59:07</td>\n",
       "    </tr>\n",
       "    <tr>\n",
       "      <th>755448</th>\n",
       "      <td>130001</td>\n",
       "      <td>774846</td>\n",
       "      <td>Mídia impressa</td>\n",
       "      <td>178</td>\n",
       "      <td>2500.0</td>\n",
       "      <td>33</td>\n",
       "      <td>2013-01-02 10:59:07</td>\n",
       "    </tr>\n",
       "    <tr>\n",
       "      <th>1007856</th>\n",
       "      <td>130001</td>\n",
       "      <td>774831</td>\n",
       "      <td>Registro videográfico</td>\n",
       "      <td>2628</td>\n",
       "      <td>600.0</td>\n",
       "      <td>33</td>\n",
       "      <td>2013-01-02 10:59:07</td>\n",
       "    </tr>\n",
       "  </tbody>\n",
       "</table>\n",
       "</div>"
      ],
      "text/plain": [
       "         PRONAC  idPlanilhaAprovacao  \\\n",
       "1816335  130001               774836   \n",
       "1635245  130001               774835   \n",
       "710100   130001               774847   \n",
       "755448   130001               774846   \n",
       "1007856  130001               774831   \n",
       "\n",
       "                                                      Item  idPlanilhaItens  \\\n",
       "1816335                                            Ensaios             2502   \n",
       "1635245  Transporte Local / Locação de Automóvel / Comb...              134   \n",
       "710100              Coordenação Administrativo- Financeiro             3732   \n",
       "755448                                      Mídia impressa              178   \n",
       "1007856                              Registro videográfico             2628   \n",
       "\n",
       "         VlUnitarioAprovado idSegmento         DataProjeto  \n",
       "1816335               500.0         33 2013-01-02 10:59:07  \n",
       "1635245               800.0         33 2013-01-02 10:59:07  \n",
       "710100               3000.0         33 2013-01-02 10:59:07  \n",
       "755448               2500.0         33 2013-01-02 10:59:07  \n",
       "1007856               600.0         33 2013-01-02 10:59:07  "
      ]
     },
     "metadata": {},
     "output_type": "display_data"
    }
   ],
   "source": [
    "dt_train = dt_orcamentaria.copy()\n",
    "\n",
    "START_DATE = datetime(2013, 1, 1)\n",
    "\n",
    "dt_train['DataProjeto'] = pd.to_datetime(dt_train['DataProjeto'])\n",
    "dt_train = dt_train[dt_train.DataProjeto >= START_DATE]\n",
    "dt_train = dt_train[dt_train.VlUnitarioAprovado > 0.0]\n",
    "\n",
    "dt_train.sort_values(by='DataProjeto', inplace=True)\n",
    "display(dt_train.dtypes)\n",
    "display(dt_train.head())"
   ]
  },
  {
   "cell_type": "code",
   "execution_count": 5,
   "metadata": {},
   "outputs": [
    {
     "data": {
      "text/html": [
       "<div>\n",
       "<style scoped>\n",
       "    .dataframe tbody tr th:only-of-type {\n",
       "        vertical-align: middle;\n",
       "    }\n",
       "\n",
       "    .dataframe tbody tr th {\n",
       "        vertical-align: top;\n",
       "    }\n",
       "\n",
       "    .dataframe thead th {\n",
       "        text-align: right;\n",
       "    }\n",
       "</style>\n",
       "<table border=\"1\" class=\"dataframe\">\n",
       "  <thead>\n",
       "    <tr style=\"text-align: right;\">\n",
       "      <th></th>\n",
       "      <th></th>\n",
       "      <th>mean</th>\n",
       "      <th>std</th>\n",
       "    </tr>\n",
       "    <tr>\n",
       "      <th>idSegmento</th>\n",
       "      <th>idPlanilhaItens</th>\n",
       "      <th></th>\n",
       "      <th></th>\n",
       "    </tr>\n",
       "  </thead>\n",
       "  <tbody>\n",
       "    <tr>\n",
       "      <th>32</th>\n",
       "      <th>1129</th>\n",
       "      <td>5.069422e+06</td>\n",
       "      <td>4.742980e+07</td>\n",
       "    </tr>\n",
       "    <tr>\n",
       "      <th>5G</th>\n",
       "      <th>2636</th>\n",
       "      <td>3.200000e+06</td>\n",
       "      <td>0.000000e+00</td>\n",
       "    </tr>\n",
       "    <tr>\n",
       "      <th>5F</th>\n",
       "      <th>5047</th>\n",
       "      <td>2.473070e+06</td>\n",
       "      <td>0.000000e+00</td>\n",
       "    </tr>\n",
       "    <tr>\n",
       "      <th>33</th>\n",
       "      <th>36</th>\n",
       "      <td>2.293842e+06</td>\n",
       "      <td>4.056715e+07</td>\n",
       "    </tr>\n",
       "    <tr>\n",
       "      <th>5R</th>\n",
       "      <th>5627</th>\n",
       "      <td>2.200000e+06</td>\n",
       "      <td>0.000000e+00</td>\n",
       "    </tr>\n",
       "  </tbody>\n",
       "</table>\n",
       "</div>"
      ],
      "text/plain": [
       "                                    mean           std\n",
       "idSegmento idPlanilhaItens                            \n",
       "32         1129             5.069422e+06  4.742980e+07\n",
       "5G         2636             3.200000e+06  0.000000e+00\n",
       "5F         5047             2.473070e+06  0.000000e+00\n",
       "33         36               2.293842e+06  4.056715e+07\n",
       "5R         5627             2.200000e+06  0.000000e+00"
      ]
     },
     "execution_count": 5,
     "metadata": {},
     "output_type": "execute_result"
    }
   ],
   "source": [
    "PRICE_COLUMNS = ['idSegmento', 'idPlanilhaItens', 'VlUnitarioAprovado']\n",
    "dt_train_agg = dt_train[PRICE_COLUMNS].groupby(by=['idSegmento', 'idPlanilhaItens']).agg([np.mean, lambda x: np.std(x, ddof=0)])\n",
    "dt_train_agg.columns = dt_train_agg.columns.droplevel(0)\n",
    "dt_train_agg.rename(columns={'<lambda>': 'std'}, inplace=True)\n",
    "dt_train_agg.sort_values(by='mean', ascending=False, inplace=True)\n",
    "dt_train_agg.head()"
   ]
  },
  {
   "cell_type": "code",
   "execution_count": 6,
   "metadata": {},
   "outputs": [
    {
     "data": {
      "text/plain": [
       "True"
      ]
     },
     "execution_count": 6,
     "metadata": {},
     "output_type": "execute_result"
    }
   ],
   "source": [
    "#train_agg_dict = dt_train_agg.to_dict()\n",
    "#print(train_agg_dict)\n",
    "\n",
    "def is_item_outlier(id_planilha_item, id_segmento, price):\n",
    "    if (id_segmento, id_planilha_item) not in dt_train_agg.index:\n",
    "        return False\n",
    "    \n",
    "    #mean = train_agg_dict['mean'][(id_segmento, id_planilha_item)]\n",
    "    #std = train_agg_dict['std'][(id_segmento, id_planilha_item)]\n",
    "    mean = dt_train_agg.loc[(id_segmento, id_planilha_item)]['mean']\n",
    "    std = dt_train_agg.loc[(id_segmento, id_planilha_item)]['std']\n",
    "    #mean = 383214.93235\n",
    "    #std = 1252352.22\n",
    "    outlier = gaussian_outlier.is_outlier(x=price, mean=mean, standard_deviation=std)\n",
    "    maximum_expected = gaussian_outlier.maximum_expected_value(mean=mean, standard_deviation=std)\n",
    "    \n",
    "#    print('mean = {}'.format(mean))\n",
    "#    print('std = {}'.format(std))\n",
    "#    print('outlier = {}'.format(outlier))\n",
    "#    print('maximum_expected = {}'.format(maximum_expected))\n",
    "    \n",
    "    return outlier\n",
    "\n",
    "is_item_outlier(1129, '32', 12312123213131.0)"
   ]
  },
  {
   "cell_type": "code",
   "execution_count": 23,
   "metadata": {},
   "outputs": [
    {
     "name": "stdout",
     "output_type": "stream",
     "text": [
      "pronac = 137225\n",
      "percentage(137225) = 0.012461059190031152\n"
     ]
    }
   ],
   "source": [
    "pronacs_grp = dt_orcamentaria[['PRONAC', 'idPlanilhaItens', 'VlUnitarioAprovado', 'idSegmento']].groupby(['PRONAC'])\n",
    "\n",
    "def get_outliers_percentage(pronac):\n",
    "    items = pronacs_grp.get_group(pronac)\n",
    "    #print('items.type = {}'.format(type(items)))\n",
    "    #print('items.shape = {}'.format(items.shape))\n",
    "    \n",
    "    outliers = 0\n",
    "    for row in items.itertuples():\n",
    "        item_id = getattr(row, 'idPlanilhaItens')\n",
    "        unit_value = getattr(row, 'VlUnitarioAprovado')\n",
    "        segment_id = getattr(row, 'idSegmento')\n",
    "        \n",
    "        outliers += 1 if is_item_outlier(id_planilha_item=item_id, id_segmento=segment_id, price=unit_value) else 0\n",
    "    \n",
    "    #print('outliers = {}'.format(outliers))\n",
    "    outliers_percentage = outliers / items.shape[0]\n",
    "    return outliers_percentage\n",
    "\n",
    "\n",
    "pronac = np.random.choice(dt_orcamentaria.PRONAC.values)\n",
    "print('pronac = {}'.format(pronac))\n",
    "percentage = get_outliers_percentage(pronac)\n",
    "print('percentage({}) = {}'.format(pronac, percentage))"
   ]
  },
  {
   "cell_type": "code",
   "execution_count": 8,
   "metadata": {},
   "outputs": [
    {
     "name": "stdout",
     "output_type": "stream",
     "text": [
      "(2001717, 7)\n",
      "oi\n"
     ]
    }
   ],
   "source": [
    "pronac_cache = {}\n",
    "\n",
    "print(dt_orcamentaria.shape)\n",
    "for row in dt_orcamentaria.itertuples():\n",
    "    pronac = getattr(row, 'PRONAC')\n",
    "    item_id = getattr(row, 'idPlanilhaItens')\n",
    "    unit_value = getattr(row, 'VlUnitarioAprovado')\n",
    "    segment_id = getattr(row, 'idSegmento')\n",
    "    \n",
    "    #a = 1 if is_item_outlier(id_planilha_item=item_id, id_segmento=segment_id, price=unit_value) else 0\n",
    "    pronac_cache.setdefault(pronac, {})\n",
    "    pronac_cache[pronac].setdefault('outlier_items', 0)\n",
    "    pronac_cache[pronac].setdefault('total_items', 0)\n",
    "    \n",
    "    pronac_cache[pronac]['outlier_items'] += 1 if is_item_outlier(id_planilha_item=item_id, id_segmento=segment_id, price=unit_value) else 0\n",
    "    pronac_cache[pronac]['total_items'] += 1\n",
    "    \n",
    "print('oi')"
   ]
  },
  {
   "cell_type": "code",
   "execution_count": 9,
   "metadata": {},
   "outputs": [
    {
     "data": {
      "text/plain": [
       "\"\\ndata = {}\\nfor segment_id, group in segments_grp:\\n    percentages = list(map(get_outliers_percentage, group.PRONAC.unique()))\\n    print(percentages)\\n    mean = np.mean(percentages)\\n    std = np.std(percentages)\\n    data[segment_id] = {'mean': mean, 'std': std}\\n    break\\n\""
      ]
     },
     "execution_count": 9,
     "metadata": {},
     "output_type": "execute_result"
    }
   ],
   "source": [
    "def train_segment(segment):\n",
    "    pass\n",
    "\n",
    "segments_grp = dt_orcamentaria[['PRONAC', 'idSegmento']].groupby(['idSegmento'])\n",
    "\"\"\"\n",
    "data = {}\n",
    "for segment_id, group in segments_grp:\n",
    "    percentages = list(map(get_outliers_percentage, group.PRONAC.unique()))\n",
    "    print(percentages)\n",
    "    mean = np.mean(percentages)\n",
    "    std = np.std(percentages)\n",
    "    data[segment_id] = {'mean': mean, 'std': std}\n",
    "    break\n",
    "\"\"\""
   ]
  },
  {
   "cell_type": "code",
   "execution_count": null,
   "metadata": {},
   "outputs": [],
   "source": []
  },
  {
   "cell_type": "raw",
   "metadata": {},
   "source": []
  },
  {
   "cell_type": "code",
   "execution_count": 10,
   "metadata": {},
   "outputs": [],
   "source": [
    "def is_outlier(pronac):\n",
    "    segment = projects_grp.get_group(pronac)\n",
    "    print(segment)\n",
    "\n",
    "#pronac = "
   ]
  }
 ],
 "metadata": {
  "kernelspec": {
   "display_name": "Python 3",
   "language": "python",
   "name": "python3"
  },
  "language_info": {
   "codemirror_mode": {
    "name": "ipython",
    "version": 3
   },
   "file_extension": ".py",
   "mimetype": "text/x-python",
   "name": "python",
   "nbconvert_exporter": "python",
   "pygments_lexer": "ipython3",
   "version": "3.6.6"
  }
 },
 "nbformat": 4,
 "nbformat_minor": 2
}
