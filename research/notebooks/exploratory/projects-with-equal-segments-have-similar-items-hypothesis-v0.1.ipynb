{
 "cells": [
  {
   "cell_type": "markdown",
   "metadata": {},
   "source": [
    "# Introduçao"
   ]
  },
  {
   "cell_type": "markdown",
   "metadata": {},
   "source": [
    "## Prepararando os dados"
   ]
  },
  {
   "cell_type": "markdown",
   "metadata": {},
   "source": [
    "**Issue relacionada:** [#15](https://github.com/lappis-unb/salic-ml/issues/15)\n",
    "\n",
    "\n",
    "### Introdução\n",
    "\n",
    "Um projeto no Salic pode possuir uma planilha orçamentária aprovada, que dentre outras variáveis, contém: uma lista de itens, (ex: figurinista, advogado) preço de cada item, unidade de cada item, quantidade de cada item item, valor unitário solicitado e valor unitário aprovado para os projetos que já completaram a fase de admissão. Além disso um projeto possui uma *área* (Artes Cênicas, Música, Museus e Memória por ex.) e um *segmento* (Teatro, Dança, Circo, Mímica, Jogos eletrônicos por ex.).\n",
    "\n",
    "### Notação\n",
    "\n",
    "Utilizaremos a seguinte notação:\n",
    "\n",
    "| Notação        | Significado           |\n",
    "| ------------- |:-------------:|\n",
    "| `#A` | Número de elementos do conjunto `A` |\n",
    "| <code>A &#124; B </code>| União dos conjuntos `A` e `B` |\n",
    "| `A & B` | Intersecção dos conjuntos `A` e `B` |\n",
    "\n",
    "### Hipóteses\n",
    "\n",
    "**Hipótese 1:** Projetos de mesma área e segmento possuem conjunto de itens similares\n",
    "\n",
    "Seja `A` o conjunto de itens de um projeto e `B` o conjunto de itens de outro projeto, ambos os projetos possuindo a mesma área e o mesmo segmento, a hipótese acima afirma que `#(A & B)` deve ser diretamente proporcional ao valor `#(A | B)`.\n",
    "\n",
    "**Métrica para confirmar (negar) a hipótese 1**\n",
    "\n",
    "Seja `p = #(A & B)`, e `q = #(A | B)`, temos que `0 <= p / q <= 1`. Quanto maior o valor dessa proporção, mais itens em comum os projetos comparados possuem em relação ao tamanho da planilha orçamentária dos dois projetos.\n",
    "\n",
    "**Métrica 1**\n",
    "\n",
    "A *hipótese 1* será confirmada se e somente se `(p / q) >= 0.5`. "
   ]
  },
  {
   "cell_type": "markdown",
   "metadata": {},
   "source": [
    "**Recarregar automaticamente os módulos**"
   ]
  },
  {
   "cell_type": "code",
   "execution_count": 1,
   "metadata": {
    "scrolled": true
   },
   "outputs": [],
   "source": [
    "%load_ext autoreload\n",
    "%autoreload 2"
   ]
  },
  {
   "cell_type": "markdown",
   "metadata": {},
   "source": [
    "**Importando módulos python**"
   ]
  },
  {
   "cell_type": "code",
   "execution_count": 2,
   "metadata": {},
   "outputs": [],
   "source": [
    "import os\n",
    "import sys\n",
    "import time\n",
    "import numpy as np\n",
    "import pandas as pd\n",
    "import matplotlib.pyplot as plt\n",
    "\n",
    "\n",
    "from salicml.utils.dates import Dates\n",
    "from salicml.models.projects import Projects\n",
    "\n",
    "PROJECT_ROOT = os.path.abspath(os.path.join(os.pardir, os.pardir))\n",
    "DATA_FOLDER = os.path.join(PROJECT_ROOT, 'data', 'raw')"
   ]
  },
  {
   "cell_type": "markdown",
   "metadata": {},
   "source": [
    "**Carregando os dados da tabela de Projetos**"
   ]
  },
  {
   "cell_type": "code",
   "execution_count": 3,
   "metadata": {
    "scrolled": false
   },
   "outputs": [
    {
     "data": {
      "text/html": [
       "<div>\n",
       "<style scoped>\n",
       "    .dataframe tbody tr th:only-of-type {\n",
       "        vertical-align: middle;\n",
       "    }\n",
       "\n",
       "    .dataframe tbody tr th {\n",
       "        vertical-align: top;\n",
       "    }\n",
       "\n",
       "    .dataframe thead th {\n",
       "        text-align: right;\n",
       "    }\n",
       "</style>\n",
       "<table border=\"1\" class=\"dataframe\">\n",
       "  <thead>\n",
       "    <tr style=\"text-align: right;\">\n",
       "      <th></th>\n",
       "      <th>idPronac</th>\n",
       "      <th>PRONAC</th>\n",
       "      <th>Item</th>\n",
       "      <th>idPlanilhaItens</th>\n",
       "      <th>Unidade</th>\n",
       "      <th>QtDias</th>\n",
       "      <th>QtItem</th>\n",
       "      <th>nrOcorrencia</th>\n",
       "      <th>VlUnitarioSolicitado</th>\n",
       "      <th>VlTotalSolicitado</th>\n",
       "      <th>VlUnitarioAprovado</th>\n",
       "      <th>VlTotalAprovado</th>\n",
       "      <th>UfItem</th>\n",
       "      <th>MunicipioItem</th>\n",
       "      <th>Etapa</th>\n",
       "      <th>Area</th>\n",
       "      <th>Segmento</th>\n",
       "      <th>DataProjeto</th>\n",
       "    </tr>\n",
       "  </thead>\n",
       "  <tbody>\n",
       "    <tr>\n",
       "      <th>0</th>\n",
       "      <td>123461</td>\n",
       "      <td>103228</td>\n",
       "      <td>Cartaz</td>\n",
       "      <td>1219</td>\n",
       "      <td>Unidade</td>\n",
       "      <td>180</td>\n",
       "      <td>30.0</td>\n",
       "      <td>6</td>\n",
       "      <td>20.0</td>\n",
       "      <td>3600.0</td>\n",
       "      <td>2.0</td>\n",
       "      <td>360.0</td>\n",
       "      <td>RJ</td>\n",
       "      <td>Rio de Janeiro</td>\n",
       "      <td>3 - Divulgação / Comercialização</td>\n",
       "      <td>3</td>\n",
       "      <td>33</td>\n",
       "      <td>2010-05-06 10:49:13</td>\n",
       "    </tr>\n",
       "    <tr>\n",
       "      <th>1</th>\n",
       "      <td>114069</td>\n",
       "      <td>92907</td>\n",
       "      <td>Complementos</td>\n",
       "      <td>2386</td>\n",
       "      <td>Serviço</td>\n",
       "      <td>30</td>\n",
       "      <td>1.0</td>\n",
       "      <td>1</td>\n",
       "      <td>700.0</td>\n",
       "      <td>700.0</td>\n",
       "      <td>700.0</td>\n",
       "      <td>700.0</td>\n",
       "      <td>SC</td>\n",
       "      <td>Florianópolis</td>\n",
       "      <td>2 - Produção / Execução</td>\n",
       "      <td>5</td>\n",
       "      <td>5F</td>\n",
       "      <td>2009-06-24 15:18:51</td>\n",
       "    </tr>\n",
       "    <tr>\n",
       "      <th>2</th>\n",
       "      <td>130914</td>\n",
       "      <td>1010654</td>\n",
       "      <td>Cópias e reproduções</td>\n",
       "      <td>1006</td>\n",
       "      <td>Unidade</td>\n",
       "      <td>60</td>\n",
       "      <td>2.0</td>\n",
       "      <td>100</td>\n",
       "      <td>20.0</td>\n",
       "      <td>4000.0</td>\n",
       "      <td>20.0</td>\n",
       "      <td>4000.0</td>\n",
       "      <td>SP</td>\n",
       "      <td>Santos</td>\n",
       "      <td>2 - Produção / Execução</td>\n",
       "      <td>2</td>\n",
       "      <td>88</td>\n",
       "      <td>2010-11-03 16:02:04</td>\n",
       "    </tr>\n",
       "    <tr>\n",
       "      <th>3</th>\n",
       "      <td>134008</td>\n",
       "      <td>110805</td>\n",
       "      <td>Banner/faixa adesiva/faixa de lona/saia de pal...</td>\n",
       "      <td>2743</td>\n",
       "      <td>Semana</td>\n",
       "      <td>120</td>\n",
       "      <td>1.0</td>\n",
       "      <td>1</td>\n",
       "      <td>1000.0</td>\n",
       "      <td>1000.0</td>\n",
       "      <td>1000.0</td>\n",
       "      <td>1000.0</td>\n",
       "      <td>SP</td>\n",
       "      <td>São Paulo</td>\n",
       "      <td>3 - Divulgação / Comercialização</td>\n",
       "      <td>3</td>\n",
       "      <td>31</td>\n",
       "      <td>2011-02-01 12:10:08</td>\n",
       "    </tr>\n",
       "    <tr>\n",
       "      <th>4</th>\n",
       "      <td>114069</td>\n",
       "      <td>92907</td>\n",
       "      <td>Preparo do solo para plantio</td>\n",
       "      <td>2557</td>\n",
       "      <td>Metro 3</td>\n",
       "      <td>60</td>\n",
       "      <td>200.0</td>\n",
       "      <td>1</td>\n",
       "      <td>40.0</td>\n",
       "      <td>8000.0</td>\n",
       "      <td>40.0</td>\n",
       "      <td>8000.0</td>\n",
       "      <td>SC</td>\n",
       "      <td>Florianópolis</td>\n",
       "      <td>2 - Produção / Execução</td>\n",
       "      <td>5</td>\n",
       "      <td>5F</td>\n",
       "      <td>2009-06-24 15:18:51</td>\n",
       "    </tr>\n",
       "  </tbody>\n",
       "</table>\n",
       "</div>"
      ],
      "text/plain": [
       "   idPronac   PRONAC                                               Item  \\\n",
       "0    123461   103228                                             Cartaz   \n",
       "1    114069    92907                                       Complementos   \n",
       "2    130914  1010654                               Cópias e reproduções   \n",
       "3    134008   110805  Banner/faixa adesiva/faixa de lona/saia de pal...   \n",
       "4    114069    92907                       Preparo do solo para plantio   \n",
       "\n",
       "   idPlanilhaItens  Unidade  QtDias  QtItem  nrOcorrencia  \\\n",
       "0             1219  Unidade     180    30.0             6   \n",
       "1             2386  Serviço      30     1.0             1   \n",
       "2             1006  Unidade      60     2.0           100   \n",
       "3             2743   Semana     120     1.0             1   \n",
       "4             2557  Metro 3      60   200.0             1   \n",
       "\n",
       "   VlUnitarioSolicitado  VlTotalSolicitado  VlUnitarioAprovado  \\\n",
       "0                  20.0             3600.0                 2.0   \n",
       "1                 700.0              700.0               700.0   \n",
       "2                  20.0             4000.0                20.0   \n",
       "3                1000.0             1000.0              1000.0   \n",
       "4                  40.0             8000.0                40.0   \n",
       "\n",
       "   VlTotalAprovado UfItem   MunicipioItem                             Etapa  \\\n",
       "0            360.0     RJ  Rio de Janeiro  3 - Divulgação / Comercialização   \n",
       "1            700.0     SC   Florianópolis           2 - Produção / Execução   \n",
       "2           4000.0     SP          Santos           2 - Produção / Execução   \n",
       "3           1000.0     SP       São Paulo  3 - Divulgação / Comercialização   \n",
       "4           8000.0     SC   Florianópolis           2 - Produção / Execução   \n",
       "\n",
       "   Area Segmento          DataProjeto  \n",
       "0     3       33  2010-05-06 10:49:13  \n",
       "1     5       5F  2009-06-24 15:18:51  \n",
       "2     2       88  2010-11-03 16:02:04  \n",
       "3     3       31  2011-02-01 12:10:08  \n",
       "4     5       5F  2009-06-24 15:18:51  "
      ]
     },
     "execution_count": 3,
     "metadata": {},
     "output_type": "execute_result"
    }
   ],
   "source": [
    "items_csv_name = 'project_items.csv'\n",
    "projects_csv = os.path.join(DATA_FOLDER, items_csv_name)\n",
    "\n",
    "dt_items = pd.read_csv(projects_csv, low_memory=False)\n",
    "dt_items.head()"
   ]
  },
  {
   "cell_type": "markdown",
   "metadata": {},
   "source": [
    "### Filtrando os dados\n",
    "\n",
    "É conhecido que dados muito antigos (de 1992, por exemplo) podem ser inconsistentes, então vamos filtrar os dados a partir de uma data de início."
   ]
  },
  {
   "cell_type": "code",
   "execution_count": 4,
   "metadata": {
    "scrolled": true
   },
   "outputs": [
    {
     "name": "stdout",
     "output_type": "stream",
     "text": [
      "2013-01-02 10:59:07\n"
     ]
    },
    {
     "data": {
      "text/html": [
       "<div>\n",
       "<style scoped>\n",
       "    .dataframe tbody tr th:only-of-type {\n",
       "        vertical-align: middle;\n",
       "    }\n",
       "\n",
       "    .dataframe tbody tr th {\n",
       "        vertical-align: top;\n",
       "    }\n",
       "\n",
       "    .dataframe thead th {\n",
       "        text-align: right;\n",
       "    }\n",
       "</style>\n",
       "<table border=\"1\" class=\"dataframe\">\n",
       "  <thead>\n",
       "    <tr style=\"text-align: right;\">\n",
       "      <th></th>\n",
       "      <th>idPronac</th>\n",
       "      <th>PRONAC</th>\n",
       "      <th>Item</th>\n",
       "      <th>idPlanilhaItens</th>\n",
       "      <th>Unidade</th>\n",
       "      <th>QtDias</th>\n",
       "      <th>QtItem</th>\n",
       "      <th>nrOcorrencia</th>\n",
       "      <th>VlUnitarioSolicitado</th>\n",
       "      <th>VlTotalSolicitado</th>\n",
       "      <th>VlUnitarioAprovado</th>\n",
       "      <th>VlTotalAprovado</th>\n",
       "      <th>UfItem</th>\n",
       "      <th>MunicipioItem</th>\n",
       "      <th>Etapa</th>\n",
       "      <th>Area</th>\n",
       "      <th>Segmento</th>\n",
       "      <th>DataProjeto</th>\n",
       "    </tr>\n",
       "  </thead>\n",
       "  <tbody>\n",
       "    <tr>\n",
       "      <th>8</th>\n",
       "      <td>202095</td>\n",
       "      <td>160506</td>\n",
       "      <td>Material de consumo</td>\n",
       "      <td>2719</td>\n",
       "      <td>Verba</td>\n",
       "      <td>365</td>\n",
       "      <td>1.0</td>\n",
       "      <td>1</td>\n",
       "      <td>5000.0</td>\n",
       "      <td>5000.0</td>\n",
       "      <td>5000.0</td>\n",
       "      <td>5000.0</td>\n",
       "      <td>MT</td>\n",
       "      <td>Cuiabá</td>\n",
       "      <td>4 - Custos / Administrativos</td>\n",
       "      <td>6</td>\n",
       "      <td>6F</td>\n",
       "      <td>2016-02-25 17:57:15</td>\n",
       "    </tr>\n",
       "    <tr>\n",
       "      <th>533</th>\n",
       "      <td>178933</td>\n",
       "      <td>146032</td>\n",
       "      <td>Hospedagem sem alimentação</td>\n",
       "      <td>130</td>\n",
       "      <td>Dia</td>\n",
       "      <td>4</td>\n",
       "      <td>4.0</td>\n",
       "      <td>3</td>\n",
       "      <td>180.0</td>\n",
       "      <td>2160.0</td>\n",
       "      <td>180.0</td>\n",
       "      <td>2160.0</td>\n",
       "      <td>MG</td>\n",
       "      <td>Belo Horizonte</td>\n",
       "      <td>2 - Produção / Execução</td>\n",
       "      <td>1</td>\n",
       "      <td>12</td>\n",
       "      <td>2014-04-11 18:50:56</td>\n",
       "    </tr>\n",
       "    <tr>\n",
       "      <th>836</th>\n",
       "      <td>178933</td>\n",
       "      <td>146032</td>\n",
       "      <td>Transporte Local / Locação de Automóvel / Comb...</td>\n",
       "      <td>134</td>\n",
       "      <td>Verba</td>\n",
       "      <td>4</td>\n",
       "      <td>1.0</td>\n",
       "      <td>1</td>\n",
       "      <td>500.0</td>\n",
       "      <td>500.0</td>\n",
       "      <td>500.0</td>\n",
       "      <td>500.0</td>\n",
       "      <td>PB</td>\n",
       "      <td>João Pessoa</td>\n",
       "      <td>2 - Produção / Execução</td>\n",
       "      <td>1</td>\n",
       "      <td>12</td>\n",
       "      <td>2014-04-11 18:50:56</td>\n",
       "    </tr>\n",
       "    <tr>\n",
       "      <th>1894</th>\n",
       "      <td>202095</td>\n",
       "      <td>160506</td>\n",
       "      <td>Sítio de Internet - Hospedagem</td>\n",
       "      <td>2601</td>\n",
       "      <td>Verba</td>\n",
       "      <td>365</td>\n",
       "      <td>1.0</td>\n",
       "      <td>1</td>\n",
       "      <td>1068.0</td>\n",
       "      <td>1068.0</td>\n",
       "      <td>1068.0</td>\n",
       "      <td>1068.0</td>\n",
       "      <td>MT</td>\n",
       "      <td>Cuiabá</td>\n",
       "      <td>1 - Pré-Produção / Preparação</td>\n",
       "      <td>6</td>\n",
       "      <td>6F</td>\n",
       "      <td>2016-02-25 17:57:15</td>\n",
       "    </tr>\n",
       "    <tr>\n",
       "      <th>2040</th>\n",
       "      <td>202095</td>\n",
       "      <td>160506</td>\n",
       "      <td>Webdesigner</td>\n",
       "      <td>3731</td>\n",
       "      <td>Projeto</td>\n",
       "      <td>1</td>\n",
       "      <td>1.0</td>\n",
       "      <td>1</td>\n",
       "      <td>10000.0</td>\n",
       "      <td>10000.0</td>\n",
       "      <td>10000.0</td>\n",
       "      <td>10000.0</td>\n",
       "      <td>MT</td>\n",
       "      <td>Cuiabá</td>\n",
       "      <td>1 - Pré-Produção / Preparação</td>\n",
       "      <td>6</td>\n",
       "      <td>6F</td>\n",
       "      <td>2016-02-25 17:57:15</td>\n",
       "    </tr>\n",
       "  </tbody>\n",
       "</table>\n",
       "</div>"
      ],
      "text/plain": [
       "      idPronac  PRONAC                                               Item  \\\n",
       "8       202095  160506                                Material de consumo   \n",
       "533     178933  146032                         Hospedagem sem alimentação   \n",
       "836     178933  146032  Transporte Local / Locação de Automóvel / Comb...   \n",
       "1894    202095  160506                     Sítio de Internet - Hospedagem   \n",
       "2040    202095  160506                                        Webdesigner   \n",
       "\n",
       "      idPlanilhaItens  Unidade  QtDias  QtItem  nrOcorrencia  \\\n",
       "8                2719    Verba     365     1.0             1   \n",
       "533               130      Dia       4     4.0             3   \n",
       "836               134    Verba       4     1.0             1   \n",
       "1894             2601    Verba     365     1.0             1   \n",
       "2040             3731  Projeto       1     1.0             1   \n",
       "\n",
       "      VlUnitarioSolicitado  VlTotalSolicitado  VlUnitarioAprovado  \\\n",
       "8                   5000.0             5000.0              5000.0   \n",
       "533                  180.0             2160.0               180.0   \n",
       "836                  500.0              500.0               500.0   \n",
       "1894                1068.0             1068.0              1068.0   \n",
       "2040               10000.0            10000.0             10000.0   \n",
       "\n",
       "      VlTotalAprovado UfItem   MunicipioItem                          Etapa  \\\n",
       "8              5000.0     MT          Cuiabá   4 - Custos / Administrativos   \n",
       "533            2160.0     MG  Belo Horizonte        2 - Produção / Execução   \n",
       "836             500.0     PB     João Pessoa        2 - Produção / Execução   \n",
       "1894           1068.0     MT          Cuiabá  1 - Pré-Produção / Preparação   \n",
       "2040          10000.0     MT          Cuiabá  1 - Pré-Produção / Preparação   \n",
       "\n",
       "      Area Segmento         DataProjeto  \n",
       "8        6       6F 2016-02-25 17:57:15  \n",
       "533      1       12 2014-04-11 18:50:56  \n",
       "836      1       12 2014-04-11 18:50:56  \n",
       "1894     6       6F 2016-02-25 17:57:15  \n",
       "2040     6       6F 2016-02-25 17:57:15  "
      ]
     },
     "execution_count": 4,
     "metadata": {},
     "output_type": "execute_result"
    }
   ],
   "source": [
    "from datetime import datetime\n",
    "\n",
    "START_DATE = datetime(day=1, month=1, year=2013)\n",
    "\n",
    "date_column = 'DataProjeto'\n",
    "dt_items[date_column] = pd.to_datetime(dt_items[date_column], format = Dates.DATE_INPUT_FORMAT)\n",
    "\n",
    "dt_items = dt_items[dt_items.loc[:, date_column] >= START_DATE]\n",
    "print(min(dt_items[date_column]))\n",
    "dt_items.head()"
   ]
  },
  {
   "cell_type": "markdown",
   "metadata": {},
   "source": [
    "# Explorando os dados\n",
    "\n",
    "Explorar rapidamente os dados a fim de obter insights."
   ]
  },
  {
   "cell_type": "markdown",
   "metadata": {},
   "source": [
    "**Dados básicos**"
   ]
  },
  {
   "cell_type": "code",
   "execution_count": 5,
   "metadata": {},
   "outputs": [
    {
     "name": "stdout",
     "output_type": "stream",
     "text": [
      "<class 'pandas.core.frame.DataFrame'>\n",
      "Int64Index: 1232336 entries, 8 to 2001716\n",
      "Data columns (total 18 columns):\n",
      "idPronac                1232336 non-null int64\n",
      "PRONAC                  1232336 non-null int64\n",
      "Item                    1232336 non-null object\n",
      "idPlanilhaItens         1232336 non-null int64\n",
      "Unidade                 1232336 non-null object\n",
      "QtDias                  1232336 non-null int64\n",
      "QtItem                  1232336 non-null float64\n",
      "nrOcorrencia            1232336 non-null int64\n",
      "VlUnitarioSolicitado    1180077 non-null float64\n",
      "VlTotalSolicitado       1232336 non-null float64\n",
      "VlUnitarioAprovado      1232336 non-null float64\n",
      "VlTotalAprovado         1232336 non-null float64\n",
      "UfItem                  1232336 non-null object\n",
      "MunicipioItem           1232336 non-null object\n",
      "Etapa                   1232336 non-null object\n",
      "Area                    1232336 non-null int64\n",
      "Segmento                1232336 non-null object\n",
      "DataProjeto             1232336 non-null datetime64[ns]\n",
      "dtypes: datetime64[ns](1), float64(5), int64(6), object(6)\n",
      "memory usage: 178.6+ MB\n"
     ]
    }
   ],
   "source": [
    "dt_items.info()"
   ]
  },
  {
   "cell_type": "code",
   "execution_count": 6,
   "metadata": {},
   "outputs": [
    {
     "name": "stdout",
     "output_type": "stream",
     "text": [
      "items = [ 191 3561 4421   71   77   16   57   80   86 1119 3581 1116 3853   20\n",
      " 3839   73 1008  134 2719  130   61 3722 2620  114   83  131 3557 1051\n",
      " 1072 3684   68 1101 3589 2438   78 8198 3866 5106   62 2639   36 2726\n",
      "   23 3531 4428 4557 2589   88 3638 3596   27 1044 3953 8197   85   40\n",
      " 3867   17 3631 1159 3865   79 3504 1050 5497 1057 3588 2621 1085 3590\n",
      " 2436 2633 1073 2631   76 3597 5249 4206   66 3587 4001 6321   69]\n",
      "type(items) = <class 'numpy.ndarray'>\n"
     ]
    }
   ],
   "source": [
    "from salicml.models.project_items import ProjectItems\n",
    "from salicml.utils.utils import debug\n",
    "\n",
    "project_items = ProjectItems(dt_items)\n",
    "pronac_test = 210310\n",
    "\n",
    "items = project_items.items(pronac_test)\n",
    "debug('items', items)\n"
   ]
  },
  {
   "cell_type": "markdown",
   "metadata": {},
   "source": [
    "**Identificando se um segmento pode estar em mais de uma área**"
   ]
  },
  {
   "cell_type": "code",
   "execution_count": 7,
   "metadata": {
    "scrolled": true
   },
   "outputs": [
    {
     "name": "stdout",
     "output_type": "stream",
     "text": [
      "Segmento: 32\n",
      "Areas: [3 1]\n",
      "\n",
      "\n"
     ]
    }
   ],
   "source": [
    "all_areas = project_items.all_areas()\n",
    "all_segments = project_items.all_segments()\n",
    "\n",
    "for segment in all_segments:\n",
    "    rows = dt_items[dt_items.Segmento == segment]\n",
    "    areas = rows['Area'].unique()\n",
    "    \n",
    "    if areas.size > 1:\n",
    "        print('Segmento: {}'.format(segment))\n",
    "        print('Areas: {}'.format(areas))\n",
    "        print('\\n')\n",
    "    "
   ]
  },
  {
   "cell_type": "markdown",
   "metadata": {},
   "source": [
    "Para o segmento **32** há projetos entre as àreas `(3, 1)`. Portanto não podemos considerar que um segmento pertence a uma única área."
   ]
  },
  {
   "cell_type": "code",
   "execution_count": 8,
   "metadata": {},
   "outputs": [],
   "source": [
    "ID_PRONAC = 'idPronac'"
   ]
  },
  {
   "cell_type": "code",
   "execution_count": 9,
   "metadata": {},
   "outputs": [],
   "source": [
    "def find_pronacs_with_same_area_and_segment(areas, segment):\n",
    "    rows = areas[areas.Segmento == segment]\n",
    "    pronacs = rows[ID_PRONAC].unique()\n",
    "    return pronacs"
   ]
  },
  {
   "cell_type": "code",
   "execution_count": 10,
   "metadata": {
    "scrolled": false
   },
   "outputs": [],
   "source": [
    "area_segment = None\n",
    "maximum_pronacs_size = 0\n",
    "pronacs_found = None\n",
    "\n",
    "\n",
    "for area in all_areas:\n",
    "    areas = dt_items[dt_items.Area == area]\n",
    "    for segment in all_segments:\n",
    "        pronacs = find_pronacs_with_same_area_and_segment(areas, segment)\n",
    "        if pronacs.size > maximum_pronacs_size:\n",
    "            maximum_pronacs_size = pronacs.size\n",
    "            area_segment = (area, segment)\n",
    "            \n",
    "            if area_segment == (1, '11'):\n",
    "                pronacs_found = pronacs\n",
    "\n"
   ]
  },
  {
   "cell_type": "code",
   "execution_count": 11,
   "metadata": {},
   "outputs": [
    {
     "data": {
      "text/plain": [
       "array([159994, 160792, 172920, ..., 203447, 190939, 202295])"
      ]
     },
     "metadata": {},
     "output_type": "display_data"
    },
    {
     "name": "stdout",
     "output_type": "stream",
     "text": [
      "maximum_pronacs_size = 6326\n",
      "pronacs_found.size = 6326\n",
      "(area, segment) = (1, '11')\n",
      "pronac_example = [204071 160404 193662 168431 170714 188170 185555]\n"
     ]
    }
   ],
   "source": [
    "display(pronacs_found)\n",
    "print('maximum_pronacs_size = {}'.format(maximum_pronacs_size))\n",
    "print('pronacs_found.size = {}'.format(pronacs_found.size))\n",
    "print('(area, segment) = {}'.format(area_segment))\n",
    "\n",
    "pronac_example = np.random.choice(pronacs_found, size=7)\n",
    "print('pronac_example = {}'.format(pronac_example))"
   ]
  },
  {
   "cell_type": "markdown",
   "metadata": {},
   "source": [
    "**Testando a hipótese em cima de uma única tupla**\n",
    "\n",
    "A tupla de (area, segmento) que possui o maior número de projetos é a tupla `(1, '6F')`, vamos testar, inicialmente, a hipótese em cima deste conjunto de projetos.\n",
    "\n"
   ]
  },
  {
   "cell_type": "code",
   "execution_count": 12,
   "metadata": {
    "scrolled": true
   },
   "outputs": [],
   "source": [
    "data_filtered = dt_items[dt_items.Segmento == area_segment[1]]\n",
    "data_filtered = data_filtered[data_filtered.Area == area_segment[0]]\n"
   ]
  },
  {
   "cell_type": "code",
   "execution_count": 13,
   "metadata": {
    "scrolled": true
   },
   "outputs": [
    {
     "name": "stdout",
     "output_type": "stream",
     "text": [
      "data_filted.size = 347321\n",
      "dt_items.size = 1232336\n",
      "counts[0].size = 6326\n",
      "max(counts[1]) = 753\n",
      "s = 347321\n"
     ]
    }
   ],
   "source": [
    "print('data_filted.size = {}'.format(len(data_filtered.index)))\n",
    "print('dt_items.size = {}'.format(len(dt_items.index)))\n",
    "\n",
    "counts = np.unique(data_filtered[ID_PRONAC].values, return_counts=True)\n",
    "print('counts[0].size = {}'.format(counts[0].size))\n",
    "print('max(counts[1]) = {}'.format(max(counts[1])))\n",
    "pairs = zip(*counts)\n",
    "s = 0\n",
    "for p in pairs:\n",
    "    s += p[1]\n",
    "print('s = {}'.format(s))"
   ]
  },
  {
   "cell_type": "markdown",
   "metadata": {},
   "source": [
    "**Calculando a similaridade entre projetos de áreas (1, '6F')**\n",
    "\n",
    "Devido o custo computacional das operações na tabela/dataframe, é inviável calcular a similaridade entre todas as combinações tomadas 2 a 2 de todos os projetos da área acima. Um contorno possível é selecionar um subconjunto aleatório destes projetos e testar todas as combinações tomadas 2 a 2 deste subconjunto."
   ]
  },
  {
   "cell_type": "code",
   "execution_count": 14,
   "metadata": {},
   "outputs": [
    {
     "name": "stdout",
     "output_type": "stream",
     "text": [
      "sample size = 158\n"
     ]
    }
   ],
   "source": [
    "PERCENT =  0.025\n",
    "pronacs = np.random.choice(pronacs_found, int(pronacs_found.size * PERCENT))\n",
    "print('sample size = {}'.format(pronacs.size))\n",
    "\n",
    "data_filtered.sort_values(by=[ID_PRONAC], inplace=True)"
   ]
  },
  {
   "cell_type": "code",
   "execution_count": 15,
   "metadata": {
    "scrolled": true
   },
   "outputs": [
    {
     "name": "stdout",
     "output_type": "stream",
     "text": [
      "CPU times: user 13.1 s, sys: 7.46 ms, total: 13.1 s\n",
      "Wall time: 13.1 s\n"
     ]
    }
   ],
   "source": [
    "%%time\n",
    "size = pronacs.size\n",
    "sims = []\n",
    "sims_min = []\n",
    "\n",
    "for i in range(size):\n",
    "    id1 = pronacs[i]\n",
    "    items_a = project_items.items(id1, dt=data_filtered)\n",
    "\n",
    "    for j in range(i + 1, size):\n",
    "        id2 = pronacs[j]\n",
    "        items_b = project_items.items(id2, data_filtered)\n",
    "        similarity = project_items.projects_similarity(items_a, items_b)\n",
    "        similarity_min = project_items.projects_similarity_min(items_a, items_b)\n",
    "        \n",
    "        sims.append(similarity)\n",
    "        sims_min.append(similarity_min)\n",
    "\n",
    "similarities = np.array(sims, float)\n",
    "similarities_min = np.array(sims_min, float)\n"
   ]
  },
  {
   "cell_type": "markdown",
   "metadata": {},
   "source": [
    "**Resultados da similaridade em relação ao tamanho da união dos conjuntos**"
   ]
  },
  {
   "cell_type": "markdown",
   "metadata": {},
   "source": [
    "**Compartilhando os pronacs utilizados no teste para comparações futuras**"
   ]
  },
  {
   "cell_type": "code",
   "execution_count": 16,
   "metadata": {
    "scrolled": false
   },
   "outputs": [
    {
     "data": {
      "text/html": [
       "<div>\n",
       "<style scoped>\n",
       "    .dataframe tbody tr th:only-of-type {\n",
       "        vertical-align: middle;\n",
       "    }\n",
       "\n",
       "    .dataframe tbody tr th {\n",
       "        vertical-align: top;\n",
       "    }\n",
       "\n",
       "    .dataframe thead th {\n",
       "        text-align: right;\n",
       "    }\n",
       "</style>\n",
       "<table border=\"1\" class=\"dataframe\">\n",
       "  <thead>\n",
       "    <tr style=\"text-align: right;\">\n",
       "      <th></th>\n",
       "      <th>0</th>\n",
       "    </tr>\n",
       "  </thead>\n",
       "  <tbody>\n",
       "    <tr>\n",
       "      <th>count</th>\n",
       "      <td>12403.000000</td>\n",
       "    </tr>\n",
       "    <tr>\n",
       "      <th>mean</th>\n",
       "      <td>0.154977</td>\n",
       "    </tr>\n",
       "    <tr>\n",
       "      <th>std</th>\n",
       "      <td>0.081996</td>\n",
       "    </tr>\n",
       "    <tr>\n",
       "      <th>min</th>\n",
       "      <td>0.000000</td>\n",
       "    </tr>\n",
       "    <tr>\n",
       "      <th>25%</th>\n",
       "      <td>0.096154</td>\n",
       "    </tr>\n",
       "    <tr>\n",
       "      <th>50%</th>\n",
       "      <td>0.139241</td>\n",
       "    </tr>\n",
       "    <tr>\n",
       "      <th>75%</th>\n",
       "      <td>0.200000</td>\n",
       "    </tr>\n",
       "    <tr>\n",
       "      <th>max</th>\n",
       "      <td>1.000000</td>\n",
       "    </tr>\n",
       "  </tbody>\n",
       "</table>\n",
       "</div>"
      ],
      "text/plain": [
       "                  0\n",
       "count  12403.000000\n",
       "mean       0.154977\n",
       "std        0.081996\n",
       "min        0.000000\n",
       "25%        0.096154\n",
       "50%        0.139241\n",
       "75%        0.200000\n",
       "max        1.000000"
      ]
     },
     "metadata": {},
     "output_type": "display_data"
    },
    {
     "name": "stdout",
     "output_type": "stream",
     "text": [
      "Stored 'sim_describe' (DataFrame)\n",
      "Stored 'pronacs_sample' (ndarray)\n"
     ]
    }
   ],
   "source": [
    "from scipy import stats\n",
    "\n",
    "sim_describe = pd.DataFrame(similarities).describe()\n",
    "display(sim_describe)\n",
    "%store sim_describe\n",
    "\n",
    "pronacs_sample = pronacs\n",
    "%store pronacs_sample"
   ]
  },
  {
   "cell_type": "markdown",
   "metadata": {},
   "source": [
    "**Resultados da similaridade em relação ao tamanho do menor dos dois conjuntos**\n",
    "\n",
    "Esta é uma estatística menos rígida na similaridade, e desconsidera o tamanho do maior dos dois juntos O problema disso é que é possível que um projeto com 50 itens tenha uma similaridade de 90% de um projeto com 800 itens, enquanto na métrica em relação ao tamanho da união dos conjuntos, este resultado seria impossível."
   ]
  },
  {
   "cell_type": "code",
   "execution_count": 17,
   "metadata": {
    "scrolled": true
   },
   "outputs": [
    {
     "data": {
      "text/html": [
       "<div>\n",
       "<style scoped>\n",
       "    .dataframe tbody tr th:only-of-type {\n",
       "        vertical-align: middle;\n",
       "    }\n",
       "\n",
       "    .dataframe tbody tr th {\n",
       "        vertical-align: top;\n",
       "    }\n",
       "\n",
       "    .dataframe thead th {\n",
       "        text-align: right;\n",
       "    }\n",
       "</style>\n",
       "<table border=\"1\" class=\"dataframe\">\n",
       "  <thead>\n",
       "    <tr style=\"text-align: right;\">\n",
       "      <th></th>\n",
       "      <th>0</th>\n",
       "    </tr>\n",
       "  </thead>\n",
       "  <tbody>\n",
       "    <tr>\n",
       "      <th>count</th>\n",
       "      <td>12403.000000</td>\n",
       "    </tr>\n",
       "    <tr>\n",
       "      <th>mean</th>\n",
       "      <td>0.345152</td>\n",
       "    </tr>\n",
       "    <tr>\n",
       "      <th>std</th>\n",
       "      <td>0.138456</td>\n",
       "    </tr>\n",
       "    <tr>\n",
       "      <th>min</th>\n",
       "      <td>0.000000</td>\n",
       "    </tr>\n",
       "    <tr>\n",
       "      <th>25%</th>\n",
       "      <td>0.241379</td>\n",
       "    </tr>\n",
       "    <tr>\n",
       "      <th>50%</th>\n",
       "      <td>0.333333</td>\n",
       "    </tr>\n",
       "    <tr>\n",
       "      <th>75%</th>\n",
       "      <td>0.441860</td>\n",
       "    </tr>\n",
       "    <tr>\n",
       "      <th>max</th>\n",
       "      <td>1.000000</td>\n",
       "    </tr>\n",
       "  </tbody>\n",
       "</table>\n",
       "</div>"
      ],
      "text/plain": [
       "                  0\n",
       "count  12403.000000\n",
       "mean       0.345152\n",
       "std        0.138456\n",
       "min        0.000000\n",
       "25%        0.241379\n",
       "50%        0.333333\n",
       "75%        0.441860\n",
       "max        1.000000"
      ]
     },
     "execution_count": 17,
     "metadata": {},
     "output_type": "execute_result"
    }
   ],
   "source": [
    "pd.DataFrame(similarities_min).describe()"
   ]
  },
  {
   "cell_type": "code",
   "execution_count": 18,
   "metadata": {
    "scrolled": true
   },
   "outputs": [
    {
     "data": {
      "image/png": "[encoded data removed]",
      "text/plain": [
       "<Figure size 432x288 with 1 Axes>"
      ]
     },
     "metadata": {},
     "output_type": "display_data"
    }
   ],
   "source": [
    "plt.hist(similarities)\n",
    "plt.title('Similaridade considerando o conjunto união dos itens')\n",
    "plt.xlabel('Similaridade em [0, 1]')\n",
    "plt.ylabel('Número de combinações, C(n, 2)')\n",
    "plt.show()"
   ]
  },
  {
   "cell_type": "code",
   "execution_count": 19,
   "metadata": {},
   "outputs": [
    {
     "data": {
      "image/png": "[encoded data removed]",
      "text/plain": [
       "<Figure size 432x288 with 1 Axes>"
      ]
     },
     "metadata": {},
     "output_type": "display_data"
    }
   ],
   "source": [
    "plt.hist(similarities_min)\n",
    "plt.title('Similaridade considerando o menor conjunto de itens da combinação')\n",
    "plt.xlabel('Similaridade em [0, 1]')\n",
    "plt.ylabel('Número de combinações, C(n, 2)')\n",
    "plt.show()"
   ]
  },
  {
   "cell_type": "markdown",
   "metadata": {},
   "source": [
    "### Conclusões\n",
    "\n",
    "Em relação a Métrica 1 (`#(A & B) / #(A | B)`) definida para negar/confirmar a hipótese de que projetos de mesma área e segmento possuem projetos itens similares, podemos concluir que a hipótese foi negada. Pelo menos 75% dos projetos possuem uma similaridade menor que `0.25`, valor menor que o mínimo `0.5` determinado para a hipótese ser confirmada. A maior similaridade encontrada foi de `0.46` de acordo com esta métrica. É possível que as categorias de (Àrea, segmento) não representem adequadamente o que de fato os projetos precisam de itens para executar na prática do projeto, tornando inviável considerar unicamente estas duas variáveis para entender a categoria real de um projeto.\n",
    "\n",
    "#### Contribuições futuras\n",
    "\n",
    "A métrica aqui utilizada considera o conjunto de todos os itens de um projeto. Pode ser que considerar itens apenas \"significativos\" representem melhor a similaridade real dos projetos. As métricas foram calculadas utilizando as labels supervisionadas (oriundas do próprio Salic), pode ser que uma abordagem não-supervisionada atinga resultados melhores sobre esta mesma métrica."
   ]
  }
 ],
 "metadata": {
  "kernelspec": {
   "display_name": "Python 3",
   "language": "python",
   "name": "python3"
  },
  "language_info": {
   "codemirror_mode": {
    "name": "ipython",
    "version": 3
   },
   "file_extension": ".py",
   "mimetype": "text/x-python",
   "name": "python",
   "nbconvert_exporter": "python",
   "pygments_lexer": "ipython3",
   "version": "3.6.4"
  }
 },
 "nbformat": 4,
 "nbformat_minor": 2
}
