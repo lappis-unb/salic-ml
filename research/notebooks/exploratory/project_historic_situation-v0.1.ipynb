{
 "cells": [
  {
   "cell_type": "markdown",
   "metadata": {},
   "source": [
    "# Situações dos Projetos no pipeline do Salic"
   ]
  },
  {
   "cell_type": "markdown",
   "metadata": {},
   "source": [
    "**ISSUE:** [#32](https://github.com/lappis-unb/salic-ml/issues/32)\n",
    "\n",
    "Este notebook é uma continuação direta deste [notebook](https://github.com/lappis-unb/salic-ml/blob/master/notebooks/exploratory/project_stage_on_pipeline-v0.1.ipynb).\n",
    "\n",
    "### Introdução\n",
    "\n",
    "**Etapas de Projeto:** No Salic um projeto pode passar pelas seguintes etapas, em ordem:\n",
    "\n",
    "- Admissibilidade\n",
    "- Capitação e Execução\n",
    "- Prestação de Contas\n",
    "- Análise do Objeto\n",
    "- Análise Financeira\n",
    "\n",
    "Se por algum motivo o projeto for finalizado prematuramente ele não irá passar por todas as etapas.\n",
    "\n",
    "A \"situação\" de um projeto em um dado momento é um código ('A42', por exemplo) que está associada a uma condição do projeto. É conhecido que algumas situações podem ocorrer unicamente em etapas específicas do Salic, por exemplo a situação 'A02', que significa'Projeto Cadastrado', e está associada a etapa de Admissibilidade de um projeto no Salic. Isto permite rastrear o histórico de quais etapas um projeto esteve, incluindo as datas de início e fim de cada etapa.\n",
    "\n",
    "### Objetivos\n",
    "\n",
    "Identificar o histórico de situações de um projeto, incluindo as datas de início e fim em cada situação."
   ]
  },
  {
   "cell_type": "markdown",
   "metadata": {},
   "source": [
    "## Prepararando os dados"
   ]
  },
  {
   "cell_type": "markdown",
   "metadata": {},
   "source": [
    "**Recarregar automaticamente os módulos**"
   ]
  },
  {
   "cell_type": "code",
   "execution_count": 128,
   "metadata": {},
   "outputs": [
    {
     "name": "stdout",
     "output_type": "stream",
     "text": [
      "The autoreload extension is already loaded. To reload it, use:\n",
      "  %reload_ext autoreload\n"
     ]
    }
   ],
   "source": [
    "%load_ext autoreload\n",
    "%autoreload 2"
   ]
  },
  {
   "cell_type": "markdown",
   "metadata": {},
   "source": [
    "**Importando módulos python**"
   ]
  },
  {
   "cell_type": "code",
   "execution_count": 129,
   "metadata": {},
   "outputs": [],
   "source": [
    "import os\n",
    "import sys\n",
    "import time\n",
    "import numpy as np\n",
    "import pandas as pd\n",
    "import matplotlib.pyplot as plt\n",
    "\n",
    "from salicml.utils.dates import Dates\n",
    "from salicml.models.projects import Projects\n",
    "\n",
    "PROJECT_ROOT = os.path.abspath(os.path.join(os.pardir, os.pardir))\n",
    "DATA_FOLDER = os.path.join(PROJECT_ROOT, 'data', 'raw')"
   ]
  },
  {
   "cell_type": "markdown",
   "metadata": {},
   "source": [
    "**Carregando os dados da tabela de Projetos**"
   ]
  },
  {
   "cell_type": "code",
   "execution_count": 130,
   "metadata": {
    "scrolled": false
   },
   "outputs": [
    {
     "data": {
      "text/html": [
       "<div>\n",
       "<style scoped>\n",
       "    .dataframe tbody tr th:only-of-type {\n",
       "        vertical-align: middle;\n",
       "    }\n",
       "\n",
       "    .dataframe tbody tr th {\n",
       "        vertical-align: top;\n",
       "    }\n",
       "\n",
       "    .dataframe thead th {\n",
       "        text-align: right;\n",
       "    }\n",
       "</style>\n",
       "<table border=\"1\" class=\"dataframe\">\n",
       "  <thead>\n",
       "    <tr style=\"text-align: right;\">\n",
       "      <th></th>\n",
       "      <th>IdPRONAC</th>\n",
       "      <th>AnoProjeto</th>\n",
       "      <th>Sequencial</th>\n",
       "      <th>Situacao</th>\n",
       "      <th>DtProtocolo</th>\n",
       "      <th>DtInicioExecucao</th>\n",
       "      <th>DtFimExecucao</th>\n",
       "    </tr>\n",
       "  </thead>\n",
       "  <tbody>\n",
       "    <tr>\n",
       "      <th>0</th>\n",
       "      <td>1</td>\n",
       "      <td>08</td>\n",
       "      <td>7079</td>\n",
       "      <td>E63</td>\n",
       "      <td>2008-09-12</td>\n",
       "      <td>2010-01-01 00:00:00</td>\n",
       "      <td>2010-12-31 00:00:00</td>\n",
       "    </tr>\n",
       "    <tr>\n",
       "      <th>1</th>\n",
       "      <td>2</td>\n",
       "      <td>08</td>\n",
       "      <td>7080</td>\n",
       "      <td>G43</td>\n",
       "      <td>2008-09-12</td>\n",
       "      <td>NaN</td>\n",
       "      <td>NaN</td>\n",
       "    </tr>\n",
       "    <tr>\n",
       "      <th>2</th>\n",
       "      <td>3</td>\n",
       "      <td>08</td>\n",
       "      <td>7081</td>\n",
       "      <td>K00</td>\n",
       "      <td>2008-09-12</td>\n",
       "      <td>NaN</td>\n",
       "      <td>NaN</td>\n",
       "    </tr>\n",
       "    <tr>\n",
       "      <th>3</th>\n",
       "      <td>4</td>\n",
       "      <td>08</td>\n",
       "      <td>7082</td>\n",
       "      <td>E25</td>\n",
       "      <td>2008-09-03</td>\n",
       "      <td>NaN</td>\n",
       "      <td>NaN</td>\n",
       "    </tr>\n",
       "    <tr>\n",
       "      <th>4</th>\n",
       "      <td>5</td>\n",
       "      <td>08</td>\n",
       "      <td>7083</td>\n",
       "      <td>E36</td>\n",
       "      <td>2008-09-12</td>\n",
       "      <td>NaN</td>\n",
       "      <td>NaN</td>\n",
       "    </tr>\n",
       "  </tbody>\n",
       "</table>\n",
       "</div>"
      ],
      "text/plain": [
       "   IdPRONAC AnoProjeto Sequencial Situacao DtProtocolo     DtInicioExecucao  \\\n",
       "0         1         08       7079      E63  2008-09-12  2010-01-01 00:00:00   \n",
       "1         2         08       7080      G43  2008-09-12                  NaN   \n",
       "2         3         08       7081      K00  2008-09-12                  NaN   \n",
       "3         4         08       7082      E25  2008-09-03                  NaN   \n",
       "4         5         08       7083      E36  2008-09-12                  NaN   \n",
       "\n",
       "         DtFimExecucao  \n",
       "0  2010-12-31 00:00:00  \n",
       "1                  NaN  \n",
       "2                  NaN  \n",
       "3                  NaN  \n",
       "4                  NaN  "
      ]
     },
     "execution_count": 130,
     "metadata": {},
     "output_type": "execute_result"
    }
   ],
   "source": [
    "cols = ['IdPRONAC', 'DtProtocolo', 'DtInicioExecucao', 'DtFimExecucao', 'Situacao', 'AnoProjeto', 'Sequencial']\n",
    "projects_csv = os.path.join(DATA_FOLDER, 'projetos.csv')\n",
    "\n",
    "dt_projects = pd.read_csv(projects_csv, usecols=cols, low_memory=False)\n",
    "date_column = 'DtProtocolo'\n",
    "dt_projects[date_column] = pd.to_datetime(dt_projects[date_column], format = Dates.DATE_INPUT_FORMAT)\n",
    "dt_projects.head()"
   ]
  },
  {
   "cell_type": "markdown",
   "metadata": {},
   "source": [
    "### Filtrando os dados\n",
    "\n",
    "É conhecido que dados muito antigos (de 1992, por exemplo) podem ser inconsistentes, então vamos filtrar os dados a partir de uma data de início."
   ]
  },
  {
   "cell_type": "code",
   "execution_count": 131,
   "metadata": {},
   "outputs": [
    {
     "name": "stdout",
     "output_type": "stream",
     "text": [
      "2013-01-02 10:59:07\n"
     ]
    },
    {
     "data": {
      "text/html": [
       "<div>\n",
       "<style scoped>\n",
       "    .dataframe tbody tr th:only-of-type {\n",
       "        vertical-align: middle;\n",
       "    }\n",
       "\n",
       "    .dataframe tbody tr th {\n",
       "        vertical-align: top;\n",
       "    }\n",
       "\n",
       "    .dataframe thead th {\n",
       "        text-align: right;\n",
       "    }\n",
       "</style>\n",
       "<table border=\"1\" class=\"dataframe\">\n",
       "  <thead>\n",
       "    <tr style=\"text-align: right;\">\n",
       "      <th></th>\n",
       "      <th>IdPRONAC</th>\n",
       "      <th>AnoProjeto</th>\n",
       "      <th>Sequencial</th>\n",
       "      <th>Situacao</th>\n",
       "      <th>DtProtocolo</th>\n",
       "      <th>DtInicioExecucao</th>\n",
       "      <th>DtFimExecucao</th>\n",
       "    </tr>\n",
       "  </thead>\n",
       "  <tbody>\n",
       "    <tr>\n",
       "      <th>158164</th>\n",
       "      <td>159372</td>\n",
       "      <td>13</td>\n",
       "      <td>0001</td>\n",
       "      <td>A42</td>\n",
       "      <td>2013-01-02 10:59:07</td>\n",
       "      <td>2013-07-01 00:00:00</td>\n",
       "      <td>2013-09-30 00:00:00</td>\n",
       "    </tr>\n",
       "    <tr>\n",
       "      <th>158165</th>\n",
       "      <td>159373</td>\n",
       "      <td>13</td>\n",
       "      <td>0002</td>\n",
       "      <td>E24</td>\n",
       "      <td>2013-01-02 18:53:06</td>\n",
       "      <td>2014-01-16 00:00:00</td>\n",
       "      <td>2015-07-31 00:00:00</td>\n",
       "    </tr>\n",
       "    <tr>\n",
       "      <th>158166</th>\n",
       "      <td>159374</td>\n",
       "      <td>13</td>\n",
       "      <td>0003</td>\n",
       "      <td>E65</td>\n",
       "      <td>2013-01-02 18:59:38</td>\n",
       "      <td>2013-03-05 00:00:00</td>\n",
       "      <td>2014-01-05 00:00:00</td>\n",
       "    </tr>\n",
       "    <tr>\n",
       "      <th>158167</th>\n",
       "      <td>159375</td>\n",
       "      <td>13</td>\n",
       "      <td>0004</td>\n",
       "      <td>E63</td>\n",
       "      <td>2013-01-03 14:17:59</td>\n",
       "      <td>2014-01-07 10:09:08</td>\n",
       "      <td>2014-12-02 00:00:00</td>\n",
       "    </tr>\n",
       "    <tr>\n",
       "      <th>158168</th>\n",
       "      <td>159376</td>\n",
       "      <td>13</td>\n",
       "      <td>0005</td>\n",
       "      <td>E65</td>\n",
       "      <td>2013-01-04 10:47:03</td>\n",
       "      <td>2013-05-17 00:00:00</td>\n",
       "      <td>2015-12-31 00:00:00</td>\n",
       "    </tr>\n",
       "  </tbody>\n",
       "</table>\n",
       "</div>"
      ],
      "text/plain": [
       "        IdPRONAC AnoProjeto Sequencial Situacao         DtProtocolo  \\\n",
       "158164    159372         13       0001      A42 2013-01-02 10:59:07   \n",
       "158165    159373         13       0002      E24 2013-01-02 18:53:06   \n",
       "158166    159374         13       0003      E65 2013-01-02 18:59:38   \n",
       "158167    159375         13       0004      E63 2013-01-03 14:17:59   \n",
       "158168    159376         13       0005      E65 2013-01-04 10:47:03   \n",
       "\n",
       "           DtInicioExecucao        DtFimExecucao  \n",
       "158164  2013-07-01 00:00:00  2013-09-30 00:00:00  \n",
       "158165  2014-01-16 00:00:00  2015-07-31 00:00:00  \n",
       "158166  2013-03-05 00:00:00  2014-01-05 00:00:00  \n",
       "158167  2014-01-07 10:09:08  2014-12-02 00:00:00  \n",
       "158168  2013-05-17 00:00:00  2015-12-31 00:00:00  "
      ]
     },
     "execution_count": 131,
     "metadata": {},
     "output_type": "execute_result"
    }
   ],
   "source": [
    "from datetime import datetime\n",
    "\n",
    "START_DATE = datetime(day=1, month=1, year=2013)\n",
    "\n",
    "dt_projects = dt_projects[dt_projects.loc[:, date_column] >= START_DATE]\n",
    "print(min(dt_projects[date_column]))\n",
    "dt_projects.head()"
   ]
  },
  {
   "cell_type": "markdown",
   "metadata": {},
   "source": [
    "### Situção de um projeto\n",
    "\n",
    "A tabela `projetos.csv` guarda apenas última ou a situação atual de um projeto, ou seja, não é possível a partir desta tabela construir o histórico de situações de um projeto.\n",
    "O objetivo agora é investigar se as tabelas`tbProjetoSituacaoAnterior` e `HistoricoSituacao` fornecem dados suficientes para construir o histŕico de situações de um projeto."
   ]
  },
  {
   "cell_type": "code",
   "execution_count": 132,
   "metadata": {
    "scrolled": true
   },
   "outputs": [
    {
     "data": {
      "text/html": [
       "<div>\n",
       "<style scoped>\n",
       "    .dataframe tbody tr th:only-of-type {\n",
       "        vertical-align: middle;\n",
       "    }\n",
       "\n",
       "    .dataframe tbody tr th {\n",
       "        vertical-align: top;\n",
       "    }\n",
       "\n",
       "    .dataframe thead th {\n",
       "        text-align: right;\n",
       "    }\n",
       "</style>\n",
       "<table border=\"1\" class=\"dataframe\">\n",
       "  <thead>\n",
       "    <tr style=\"text-align: right;\">\n",
       "      <th></th>\n",
       "      <th>idProjetoSituacaoAnterior</th>\n",
       "      <th>idPronac</th>\n",
       "      <th>cdSituacaoAnterior</th>\n",
       "      <th>dtSituacaoAnterior</th>\n",
       "      <th>dsProvidenciaAnterior</th>\n",
       "      <th>idOrgaoAnterior</th>\n",
       "      <th>idUsuarioAnterior</th>\n",
       "      <th>idAcao</th>\n",
       "      <th>tpAcao</th>\n",
       "      <th>dtAcao</th>\n",
       "      <th>idUsuario</th>\n",
       "      <th>stEstado</th>\n",
       "    </tr>\n",
       "  </thead>\n",
       "  <tbody>\n",
       "    <tr>\n",
       "      <th>0</th>\n",
       "      <td>1</td>\n",
       "      <td>203340</td>\n",
       "      <td>E12</td>\n",
       "      <td>2018-01-01 05:00:27</td>\n",
       "      <td>Projeto com prazo de captação expirada.</td>\n",
       "      <td>272</td>\n",
       "      <td>236</td>\n",
       "      <td>132176.0</td>\n",
       "      <td>1</td>\n",
       "      <td>2018-01-02 09:59:26</td>\n",
       "      <td>236</td>\n",
       "      <td>1</td>\n",
       "    </tr>\n",
       "    <tr>\n",
       "      <th>1</th>\n",
       "      <td>2</td>\n",
       "      <td>216162</td>\n",
       "      <td>E10</td>\n",
       "      <td>2018-01-01 05:00:22</td>\n",
       "      <td>Situação corrigida.</td>\n",
       "      <td>272</td>\n",
       "      <td>236</td>\n",
       "      <td>146772.0</td>\n",
       "      <td>1</td>\n",
       "      <td>2018-01-02 10:07:56</td>\n",
       "      <td>236</td>\n",
       "      <td>1</td>\n",
       "    </tr>\n",
       "    <tr>\n",
       "      <th>2</th>\n",
       "      <td>3</td>\n",
       "      <td>207792</td>\n",
       "      <td>E12</td>\n",
       "      <td>2018-01-01 05:00:28</td>\n",
       "      <td>Projeto com prazo de captação expirada.</td>\n",
       "      <td>272</td>\n",
       "      <td>236</td>\n",
       "      <td>139891.0</td>\n",
       "      <td>1</td>\n",
       "      <td>2018-01-02 10:17:26</td>\n",
       "      <td>236</td>\n",
       "      <td>1</td>\n",
       "    </tr>\n",
       "    <tr>\n",
       "      <th>3</th>\n",
       "      <td>4</td>\n",
       "      <td>215231</td>\n",
       "      <td>E90</td>\n",
       "      <td>2017-12-30 05:00:18</td>\n",
       "      <td>Projeto liberado para o proponente adequar à r...</td>\n",
       "      <td>262</td>\n",
       "      <td>236</td>\n",
       "      <td>142085.0</td>\n",
       "      <td>1</td>\n",
       "      <td>2018-01-02 10:33:19</td>\n",
       "      <td>236</td>\n",
       "      <td>1</td>\n",
       "    </tr>\n",
       "    <tr>\n",
       "      <th>4</th>\n",
       "      <td>5</td>\n",
       "      <td>201262</td>\n",
       "      <td>E12</td>\n",
       "      <td>2018-01-01 05:00:31</td>\n",
       "      <td>Projeto com prazo de captação expirada.</td>\n",
       "      <td>272</td>\n",
       "      <td>236</td>\n",
       "      <td>136962.0</td>\n",
       "      <td>1</td>\n",
       "      <td>2018-01-02 10:39:09</td>\n",
       "      <td>236</td>\n",
       "      <td>1</td>\n",
       "    </tr>\n",
       "  </tbody>\n",
       "</table>\n",
       "</div>"
      ],
      "text/plain": [
       "   idProjetoSituacaoAnterior  idPronac cdSituacaoAnterior  \\\n",
       "0                          1    203340                E12   \n",
       "1                          2    216162                E10   \n",
       "2                          3    207792                E12   \n",
       "3                          4    215231                E90   \n",
       "4                          5    201262                E12   \n",
       "\n",
       "    dtSituacaoAnterior                              dsProvidenciaAnterior  \\\n",
       "0  2018-01-01 05:00:27            Projeto com prazo de captação expirada.   \n",
       "1  2018-01-01 05:00:22                                Situação corrigida.   \n",
       "2  2018-01-01 05:00:28            Projeto com prazo de captação expirada.   \n",
       "3  2017-12-30 05:00:18  Projeto liberado para o proponente adequar à r...   \n",
       "4  2018-01-01 05:00:31            Projeto com prazo de captação expirada.   \n",
       "\n",
       "   idOrgaoAnterior  idUsuarioAnterior    idAcao  tpAcao               dtAcao  \\\n",
       "0              272                236  132176.0       1  2018-01-02 09:59:26   \n",
       "1              272                236  146772.0       1  2018-01-02 10:07:56   \n",
       "2              272                236  139891.0       1  2018-01-02 10:17:26   \n",
       "3              262                236  142085.0       1  2018-01-02 10:33:19   \n",
       "4              272                236  136962.0       1  2018-01-02 10:39:09   \n",
       "\n",
       "   idUsuario  stEstado  \n",
       "0        236         1  \n",
       "1        236         1  \n",
       "2        236         1  \n",
       "3        236         1  \n",
       "4        236         1  "
      ]
     },
     "execution_count": 132,
     "metadata": {},
     "output_type": "execute_result"
    }
   ],
   "source": [
    "last_situation_path = os.path.join(DATA_FOLDER, 'tb_projeto_situacao_anterior.csv')\n",
    "\n",
    "dt_last_situation = pd.read_csv(last_situation_path, low_memory=False)\n",
    "dt_last_situation.head()"
   ]
  },
  {
   "cell_type": "code",
   "execution_count": null,
   "metadata": {
    "scrolled": false
   },
   "outputs": [],
   "source": [
    "historic_situation_path = os.path.join(DATA_FOLDER, 'historico_situacao.csv')\n",
    "DT_SITUACAO = 'DtSituacao'\n",
    "\n",
    "historic_cols = ['AnoProjeto', 'Sequencial', 'DtSituacao', 'Situacao']\n",
    "dt_historic_situation = pd.read_csv(historic_situation_path, usecols=historic_cols, low_memory=False)\n",
    "dt_historic_situation.head()"
   ]
  },
  {
   "cell_type": "code",
   "execution_count": null,
   "metadata": {},
   "outputs": [],
   "source": [
    "START_DATE = dt_historic_situation[DT_SITUACAO] >= '2013-01-01 00:00:00'\n",
    "END_DATE = dt_historic_situation[DT_SITUACAO] <= '2030-01-01 00:00:00'\n",
    "dt_historic_situation = dt_historic_situation[START_DATE & END_DATE]\n",
    "print(len(dt_historic_situation))\n",
    "dt_historic_situation.head()"
   ]
  },
  {
   "cell_type": "markdown",
   "metadata": {},
   "source": [
    "**Criando a columna `idPRONAC` na tabela de historico de situações**\n",
    "\n",
    "A tabela `historico_situacao.csv` não possui uma coluna de `idPronac`. Porém ela possui as colunas `Sequencial` e `AnoProjeto` que são suficientes para recuperar o `idPronac` de um projeto, utilizando a tabela `projetos.csv`."
   ]
  },
  {
   "cell_type": "code",
   "execution_count": null,
   "metadata": {
    "scrolled": false
   },
   "outputs": [],
   "source": [
    "ANO_PROJETO, SEQUENCIAL = 'AnoProjeto', 'Sequencial'\n",
    "\n",
    "display(dt_projects.columns)\n",
    "display(dt_historic_situation.columns)"
   ]
  },
  {
   "cell_type": "code",
   "execution_count": null,
   "metadata": {},
   "outputs": [],
   "source": [
    "merged = pd.merge(dt_historic_situation, dt_projects, how='inner', on=[ANO_PROJETO, SEQUENCIAL])\n",
    "\n",
    "display(merged.head())\n",
    "\n",
    "ID_PRONAC = 'IdPRONAC'\n",
    "\n",
    "print('projects.size = {}'.format(len(dt_projects)))\n",
    "print('merged.size = {}'.format(len(merged)))\n",
    "\n",
    "dt_historic_situation = merged\n",
    "dt_historic_situation.head()"
   ]
  },
  {
   "cell_type": "markdown",
   "metadata": {},
   "source": [
    "**Situação_x, Situação_y**\n",
    "\n",
    "O join das tabelas `dt_projects` e `dt_historic_situation` teve duas novas colunas `Situacao_x` e `Situacao_y`. O surgimento destas colunas se deve ao fato de que as duas tabelas tem uma coluna com o mesmo nome (`Situacao`), e o sufixo `_x` se refere a tabela da esquerda (historic_situation), e o sufixo `_y` se refere a tabela da direita (projects). É importante destacar os seguintes significados para estas colunas:\n",
    "\n",
    "| Coluna        | Significado   |\n",
    "| ------------- |:-------------:|\n",
    "| Situacao_x | Situação do projeto na data desta situação (DtSituacao) |\n",
    "| Situacao_y | Situacao atual do projeto, ou a última situação do projeto |"
   ]
  },
  {
   "cell_type": "code",
   "execution_count": null,
   "metadata": {
    "scrolled": true
   },
   "outputs": [],
   "source": [
    "dt_historic_situation.rename(columns={'Situacao_x': 'Situacao', 'Situacao_y': 'SituacaoAtual'}, inplace=True)\n",
    "dt_historic_situation.head(2)"
   ]
  },
  {
   "cell_type": "markdown",
   "metadata": {},
   "source": [
    "### Conclusões\n",
    "\n",
    "A tabela `historic_situation.csv` possui a maior parte dos dados úteis para rastrear o histórico de situações de um projeto, com exceção do dado \"idPronac\". A partir do `AnoProjeto` e `Sequencial` é possível descobrir o idPronac de um projeto em especico. Ou seja, dado um `idPronac` agora é possível ter o histórico de situações deste projeto.\n",
    "\n",
    "#### Contribuições futuras\n",
    "\n",
    "A próxima contribuição imediata é identificar quais situações estão associadas unicamente a uma etapa do projeto e juntar este notebook com estes resultados, o que será suficiente para identificar o histórico de etapas de um projeto qualquer."
   ]
  }
 ],
 "metadata": {
  "kernelspec": {
   "display_name": "Python 3",
   "language": "python",
   "name": "python3"
  },
  "language_info": {
   "codemirror_mode": {
    "name": "ipython",
    "version": 3
   },
   "file_extension": ".py",
   "mimetype": "text/x-python",
   "name": "python",
   "nbconvert_exporter": "python",
   "pygments_lexer": "ipython3",
   "version": "3.6.4"
  }
 },
 "nbformat": 4,
 "nbformat_minor": 2
}
