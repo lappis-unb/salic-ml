{
 "cells": [
  {
   "cell_type": "markdown",
   "metadata": {},
   "source": [
    "# Análise da métrica \"valor total captado\" de um projeto cultural\n",
    "---\n",
    "\n",
    "**Objetivo:** realizar uma análise comparativa entre o valor total captado de todos os projetos culturais de um mesmo segmento. Nesta análise, será investigado se o valor total captado de um projeto cultural específico é anormal com relação aos demais projetos do mesmo segmento. \n",
    "\n",
    "Para detectar anomalias/outliers serão utilizadas diversas estratégias, tanto de modelos de distribuição para aproximar a PDF (Probability Density Function) da RV (Random Variable) gerada pela métrica, quanto as baseadas em amostras, como é o caso do detector de outlier LOF (Local Outlier Factor).\n",
    "\n",
    "Issue relacionada ao estudo:\n",
    "* [#169](https://github.com/lappis-unb/salic-ml/issues/175): Valor Captado - Evoluir notebook comparando Gaussiana com LOF\n",
    "\n",
    "Documentação relacionada:\n",
    "* \\[[link](https://github.com/lappis-unb/salic-ml/wiki/Brainstorming-de-features-para-estimar-Complexidade-Financeira)\\] Brainstorming de features para estimar a Complexidade Financeira\n",
    "\n",
    "## Metodologia\n",
    "\n",
    "Foram aplicados cinco modelos de detecção de anomalias: quatro baseados na aproximação da Função de Densidade de Probabilidade (PDF) e um baseado na exploração da densidade de amostras ao redor de um ponto específico (LOF). \n",
    "\n",
    "Para todos os modelos, a estratégia seguida foi a mesma. Primeiramente, dividiu-se o conjunto amostral em conjunto de treinamento (70% dos dados) e conjunto de teste (os 30% restantes dos dados).\n",
    "Em seguida, cada um dos modelos foi treinado com o conjunto de treinamento, supondo uma taxa de contaminação fixa de 10% das amostras (contaminação é a taxa de outliers contidos na amostra).\n",
    "O conjunto de testes foi passado a cada modelo, que retornou a relação de amostras rotuladas como inliers/outliers. Os tempos de treinamento e teste foram anotados e criou-se uma figura contendo dois histogramas, um para os inliers e um para os outliers.\n",
    "Além disso, a métrica de contaminação encontrada foi levantada para comparar a eficiência de cada um dos cinco modelos.\n",
    "\n",
    "#### Detecção de anomalias baseada na aproximação da PDF por modelos de distribuição\n",
    "\n",
    "A PDF dos dados observados foi ajustada às seguintes distribuições:\n",
    "\n",
    "* Distribuição Gaussiana;\n",
    "* Distribuição Log-Normal;\n",
    "* Distribuição Gamma;\n",
    "* Estimação de Distribuição por Kernel Gaussiano (KDE).\n",
    "\n",
    "O treinamento de todos os quatro modelos de distribuição consiste em ajustar a curva ao conjunto de treinamento e então encontrar, via bisseção, um limiar de densidade de probabilidade $p$, tal que, dada uma taxa de contaminação $c$, a igualdade abaixo é satisfeita:\n",
    "\n",
    "$$ c = \\int_{\\forall x \\ \\vert \\ f_X(x) < p}f_X(x)dx $$\n",
    "\n",
    "Onde $f_X$ é a PDF encontrada ao ajustar cada uma das distribuições utilizadas.\n",
    "\n",
    "Para verificar se uma nova amostra $x$ é um inlier ou um outlier, basta verificar se $f_X(x) \\geq p$ ou $f_X(x) < p$, respectivamente, ou seja, $x$ é outlier se ele é pouco provável de acontecer, segundo a distribuição utilizada.\n",
    "\n",
    "#### Detecção de anomalias baseada na exploração da densidade de amostras ao redor de um ponto específico\n",
    "\n",
    "O último modelo utilizado foi o _Local Outlier Factor_ (LOF), que verifica se uma amostra é um outlier ao comparar a densidade de amostras ao seu redor com a densidade de amostras de suas vizinhas. Caso uma amostra tenha densidade muito menor que suas vizinhas, ela é considerada um outlier.\n",
    "\n",
    "O treinamento do LOF utiliza o `OutlierDetection` da classe `sklearn.neighbors.LocalOutlierFactor` para verificar quais são os outliers do conjunto de treinamento, passando a contaminação como parâmetro. Em seguida, os outliers são retirados do conjunto de treinamento e o LOF em si é treinado utilizando o `NoveltyDetection` da mesma classe.\n",
    "\n",
    "Para verificar se uma nova amostra $x$ é um inlier ou um outlier, basta utilizar a função `predict` da `NoveltyDetection` para verificar se tal amostra tem uma densidade de amostras muito menor que a de sua vizinhança.\n",
    "\n",
    "#### Validação da contaminação encontrada\n",
    "\n",
    "Por fim, para avaliar de forma mais consistente a contaminação encontrada por cada um dos modelos utilizados, o procedimento de treino e teste foi repetido 100 vezes, sempre fixando a contaminação esperada em 10% e salvando a contaminação encontrada no conjunto de teste.\n",
    "\n",
    "## Resultados\n",
    "\n",
    "Serão analisados os resultados com base nos seguinte critérios: tempo de execução de treino/teste, efetividade do modelo com relação à taxa de contaminação encontrada, e efetividade do modelo com relação a quais amostras foram rotuladas como outliers.\n",
    "\n",
    "#### Tempo de execução de treino e teste\n",
    "\n",
    "Os tempos de execução para o total de 100 'splits' de treino e teste diferentes estão mostrados a seguir, ordenados pelo de menor tempo de teste para o maior:\n",
    "\n",
    "* Metric Gaussian test elapsed time in seconds: 0.0216\n",
    "\n",
    "* Metric Gaussian training elapsed time in seconds: 0.3502\n",
    "\n",
    "* Metric Gamma test elapsed time in seconds: 0.0335\n",
    "\n",
    "* Metric Gamma training elapsed time in seconds: 0.6287\n",
    "\n",
    "* Metric Log-normal test elapsed time in seconds: 0.0499\n",
    "\n",
    "* Metric Log-normal training elapsed time in seconds: 0.4010\n",
    "\n",
    "* Metric KDE-Gauss test elapsed time in seconds: 14.6949\n",
    "\n",
    "* Metric KDE-Gauss training elapsed time in seconds: 7.9487\n",
    "\n",
    "* Metric LOF test elapsed time in seconds: 39.7879\n",
    "\n",
    "* Metric LOF training elapsed time in seconds: 203.1118\n",
    "\n",
    "#### Taxa de contaminação encontrada\n",
    "As taxas de contaminação encontradas para cada um dos modelos foram:\n",
    "\n",
    "* Média Log-normal: 2.06%\n",
    "* Média Gaussian: 4.41%\n",
    "* Média Gamma: 6.74%\n",
    "* Média KDE-Gauss: 8.84%\n",
    "* Média LOF: 18.90%\n",
    "\n",
    "A que mais se aproxima da contaminação esperada (10%) é o modelo KDE-Gauss, seguido por: Gamma, Gaussian, LOF, Log-normal.\n",
    "\n",
    "#### Quais amostras foram rotuladas como outliers\n",
    "\n",
    "Nos modelos de detecção de anomalias baseada na aproximação da PDF por modelos de distribuição, fica claro que os projetos rotulados como outliers têm valor muito abaixo ou muito acima da média, já o modelo de detecção de anomalias baseada na exploração da densidade de amostras ao redor de um ponto específico, LOF, amostras com valores consideravelmente próximos à média da distribuição foram rotuladas como outliers, o que não parece fazer sentido para o contexto.\n",
    "\n",
    "## Conclusões\n",
    "\n",
    "O modelo KDE-Gauss apresenta a contaminação mais próxima da contaminação esperada, sendo assim, levando em conta a hipótese de maior proximidade de contaminação, é a métrica mais apropriada nesse quesito. Entretanto, o mesmo apresenta tempos de treinamento e teste (i.e., tempos de query) muito elevados quando comparado com os outros modelos.\n",
    "\n",
    "Como alternativa, o modelo Gamma é o segundo mais próximo da contaminação esperada e seu tempo de teste (queries) é o segundo melhor, se provando, talvez, como a melhor opção caso o tempo elevado do modelo KDE-Gauss seja um problema para as situações a serem usadas.\n",
    "\n",
    "O modelo LOF sofre de alguns problemas nesse contexto: quando o valor K (número de vizinhos) a ser utilizado pelo KNN dentro do LOF é relativamente muito pequeno, as determinações de outliers e inliers parecem não fazer sentido: projetos em uma região 'central' densa são considerados como outliers. Por outro lado, quando o valor K é muito grande, as distinções de outliers e inliers parecem coerentes; o problema que emerge é o tempo de execução elevado tanto para treino quanto para teste, pois a complexidade assintótica do algoritmo KNN é proporcional ao valor de K. Assim, considerando ambos os cenários, o LOF não parece ser adequado na utilização dessa métrica específica, salvo o improvável caso do tempo elevadíssimo (quando comparado com os outros modelos) não ser um problema em produção.\n",
    "\n",
    "#### Trabalhos futuros\n",
    "\n",
    "Escolheu-se um segmento específo e todo o estudo foi realizado com base nos dados daquele segmento. Um trabalho futuro é a realização das mesmas análises e generalização para os outros segmentos."
   ]
  },
  {
   "cell_type": "markdown",
   "metadata": {},
   "source": [
    "#### Importando módulos necessários"
   ]
  },
  {
   "cell_type": "code",
   "execution_count": 1,
   "metadata": {},
   "outputs": [
    {
     "name": "stdout",
     "output_type": "stream",
     "text": [
      "Populating the interactive namespace from numpy and matplotlib\n"
     ]
    },
    {
     "name": "stderr",
     "output_type": "stream",
     "text": [
      "/usr/lib/python3.6/importlib/_bootstrap.py:219: RuntimeWarning: numpy.dtype size changed, may indicate binary incompatibility. Expected 96, got 88\n",
      "  return f(*args, **kwds)\n"
     ]
    }
   ],
   "source": [
    "%pylab inline\n",
    "%matplotlib notebook\n",
    "import scipy\n",
    "import pandas as pd\n",
    "import seaborn as sns"
   ]
  },
  {
   "cell_type": "markdown",
   "metadata": {},
   "source": [
    "#### Carregando e mostrando dataset a ser utilizado ao longo do estudo"
   ]
  },
  {
   "cell_type": "code",
   "execution_count": 2,
   "metadata": {},
   "outputs": [
    {
     "name": "stdout",
     "output_type": "stream",
     "text": [
      "Index(['Idcaptacao', 'Pronac', 'Segmento', 'NumeroRecibo', 'CgcCpfMecena',\n",
      "       'TipoApoio', 'MedidaProvisoria', 'DtChegadaRecibo', 'DtRecibo',\n",
      "       'CaptacaoReal', 'CaptacaoUfir', 'logon', 'isBemServico'],\n",
      "      dtype='object')\n"
     ]
    },
    {
     "name": "stderr",
     "output_type": "stream",
     "text": [
      "/home/mattioli/Desktop/unb/lappis/virtual_env/salic-ml/lib/python3.6/site-packages/IPython/core/interactiveshell.py:2785: DtypeWarning: Columns (2,3) have mixed types. Specify dtype option on import or set low_memory=False.\n",
      "  interactivity=interactivity, compiler=compiler, result=result)\n"
     ]
    },
    {
     "data": {
      "text/html": [
       "<div>\n",
       "<style scoped>\n",
       "    .dataframe tbody tr th:only-of-type {\n",
       "        vertical-align: middle;\n",
       "    }\n",
       "\n",
       "    .dataframe tbody tr th {\n",
       "        vertical-align: top;\n",
       "    }\n",
       "\n",
       "    .dataframe thead th {\n",
       "        text-align: right;\n",
       "    }\n",
       "</style>\n",
       "<table border=\"1\" class=\"dataframe\">\n",
       "  <thead>\n",
       "    <tr style=\"text-align: right;\">\n",
       "      <th></th>\n",
       "      <th>Idcaptacao</th>\n",
       "      <th>Pronac</th>\n",
       "      <th>Segmento</th>\n",
       "      <th>NumeroRecibo</th>\n",
       "      <th>CgcCpfMecena</th>\n",
       "      <th>TipoApoio</th>\n",
       "      <th>MedidaProvisoria</th>\n",
       "      <th>DtChegadaRecibo</th>\n",
       "      <th>DtRecibo</th>\n",
       "      <th>CaptacaoReal</th>\n",
       "      <th>CaptacaoUfir</th>\n",
       "      <th>logon</th>\n",
       "      <th>isBemServico</th>\n",
       "    </tr>\n",
       "  </thead>\n",
       "  <tbody>\n",
       "    <tr>\n",
       "      <th>0</th>\n",
       "      <td>9282</td>\n",
       "      <td>10181</td>\n",
       "      <td>11</td>\n",
       "      <td>17</td>\n",
       "      <td>57547978000195</td>\n",
       "      <td>2</td>\n",
       "      <td>2</td>\n",
       "      <td>2002-01-16 00:00:00</td>\n",
       "      <td>2002-01-16 00:00:00</td>\n",
       "      <td>25000.0</td>\n",
       "      <td>25000.0</td>\n",
       "      <td>199</td>\n",
       "      <td>0</td>\n",
       "    </tr>\n",
       "    <tr>\n",
       "      <th>1</th>\n",
       "      <td>9283</td>\n",
       "      <td>10181</td>\n",
       "      <td>11</td>\n",
       "      <td>18</td>\n",
       "      <td>53691689000104</td>\n",
       "      <td>2</td>\n",
       "      <td>2</td>\n",
       "      <td>2002-01-16 00:00:00</td>\n",
       "      <td>2002-01-16 00:00:00</td>\n",
       "      <td>20000.0</td>\n",
       "      <td>20000.0</td>\n",
       "      <td>199</td>\n",
       "      <td>0</td>\n",
       "    </tr>\n",
       "    <tr>\n",
       "      <th>2</th>\n",
       "      <td>9284</td>\n",
       "      <td>10181</td>\n",
       "      <td>11</td>\n",
       "      <td>19</td>\n",
       "      <td>33017310000178</td>\n",
       "      <td>2</td>\n",
       "      <td>2</td>\n",
       "      <td>2002-02-16 00:00:00</td>\n",
       "      <td>2002-01-16 00:00:00</td>\n",
       "      <td>50000.0</td>\n",
       "      <td>50000.0</td>\n",
       "      <td>199</td>\n",
       "      <td>0</td>\n",
       "    </tr>\n",
       "    <tr>\n",
       "      <th>3</th>\n",
       "      <td>9285</td>\n",
       "      <td>10181</td>\n",
       "      <td>11</td>\n",
       "      <td>20</td>\n",
       "      <td>47658539000104</td>\n",
       "      <td>2</td>\n",
       "      <td>2</td>\n",
       "      <td>2001-10-30 00:00:00</td>\n",
       "      <td>2001-10-30 00:00:00</td>\n",
       "      <td>160000.0</td>\n",
       "      <td>160000.0</td>\n",
       "      <td>709</td>\n",
       "      <td>0</td>\n",
       "    </tr>\n",
       "    <tr>\n",
       "      <th>4</th>\n",
       "      <td>9286</td>\n",
       "      <td>10181</td>\n",
       "      <td>11</td>\n",
       "      <td>21</td>\n",
       "      <td>81249542000102</td>\n",
       "      <td>2</td>\n",
       "      <td>2</td>\n",
       "      <td>2003-08-12 00:00:00</td>\n",
       "      <td>2002-12-27 00:00:00</td>\n",
       "      <td>100000.0</td>\n",
       "      <td>100000.0</td>\n",
       "      <td>852</td>\n",
       "      <td>0</td>\n",
       "    </tr>\n",
       "  </tbody>\n",
       "</table>\n",
       "</div>"
      ],
      "text/plain": [
       "   Idcaptacao  Pronac Segmento NumeroRecibo    CgcCpfMecena  TipoApoio  \\\n",
       "0        9282   10181       11           17  57547978000195          2   \n",
       "1        9283   10181       11           18  53691689000104          2   \n",
       "2        9284   10181       11           19  33017310000178          2   \n",
       "3        9285   10181       11           20  47658539000104          2   \n",
       "4        9286   10181       11           21  81249542000102          2   \n",
       "\n",
       "   MedidaProvisoria      DtChegadaRecibo             DtRecibo  CaptacaoReal  \\\n",
       "0                 2  2002-01-16 00:00:00  2002-01-16 00:00:00       25000.0   \n",
       "1                 2  2002-01-16 00:00:00  2002-01-16 00:00:00       20000.0   \n",
       "2                 2  2002-02-16 00:00:00  2002-01-16 00:00:00       50000.0   \n",
       "3                 2  2001-10-30 00:00:00  2001-10-30 00:00:00      160000.0   \n",
       "4                 2  2003-08-12 00:00:00  2002-12-27 00:00:00      100000.0   \n",
       "\n",
       "   CaptacaoUfir  logon  isBemServico  \n",
       "0       25000.0    199             0  \n",
       "1       20000.0    199             0  \n",
       "2       50000.0    199             0  \n",
       "3      160000.0    709             0  \n",
       "4      100000.0    852             0  "
      ]
     },
     "execution_count": 2,
     "metadata": {},
     "output_type": "execute_result"
    }
   ],
   "source": [
    "df = pd.read_csv('../../data/raw/planilha_captacao.csv')\n",
    "print(df.columns)\n",
    "df.head()"
   ]
  },
  {
   "cell_type": "markdown",
   "metadata": {},
   "source": [
    "#### Gerando tabela com o valor total de gastos captados por projeto e por segmento"
   ]
  },
  {
   "cell_type": "code",
   "execution_count": 3,
   "metadata": {},
   "outputs": [
    {
     "data": {
      "text/html": [
       "<div>\n",
       "<style scoped>\n",
       "    .dataframe tbody tr th:only-of-type {\n",
       "        vertical-align: middle;\n",
       "    }\n",
       "\n",
       "    .dataframe tbody tr th {\n",
       "        vertical-align: top;\n",
       "    }\n",
       "\n",
       "    .dataframe thead th {\n",
       "        text-align: right;\n",
       "    }\n",
       "</style>\n",
       "<table border=\"1\" class=\"dataframe\">\n",
       "  <thead>\n",
       "    <tr style=\"text-align: right;\">\n",
       "      <th></th>\n",
       "      <th></th>\n",
       "      <th>CaptacaoReal</th>\n",
       "    </tr>\n",
       "    <tr>\n",
       "      <th>Segmento</th>\n",
       "      <th>Pronac</th>\n",
       "      <th></th>\n",
       "    </tr>\n",
       "  </thead>\n",
       "  <tbody>\n",
       "    <tr>\n",
       "      <th rowspan=\"5\" valign=\"top\">11</th>\n",
       "      <th>1416</th>\n",
       "      <td>63420.000</td>\n",
       "    </tr>\n",
       "    <tr>\n",
       "      <th>1430</th>\n",
       "      <td>22787.000</td>\n",
       "    </tr>\n",
       "    <tr>\n",
       "      <th>1444</th>\n",
       "      <td>179000.000</td>\n",
       "    </tr>\n",
       "    <tr>\n",
       "      <th>1451</th>\n",
       "      <td>85000.000</td>\n",
       "    </tr>\n",
       "    <tr>\n",
       "      <th>1474</th>\n",
       "      <td>15000.001</td>\n",
       "    </tr>\n",
       "  </tbody>\n",
       "</table>\n",
       "</div>"
      ],
      "text/plain": [
       "                 CaptacaoReal\n",
       "Segmento Pronac              \n",
       "11       1416       63420.000\n",
       "         1430       22787.000\n",
       "         1444      179000.000\n",
       "         1451       85000.000\n",
       "         1474       15000.001"
      ]
     },
     "execution_count": 3,
     "metadata": {},
     "output_type": "execute_result"
    }
   ],
   "source": [
    "raised_funds = df[['Pronac', 'CaptacaoReal', 'Segmento']].drop_duplicates()\n",
    "raised_funds = raised_funds.groupby(['Segmento', 'Pronac']).sum()\n",
    "raised_funds.head()"
   ]
  },
  {
   "cell_type": "markdown",
   "metadata": {},
   "source": [
    "## Análise por segmento\n",
    "---\n",
    "\n",
    "Nesta etapa, analisaremos o valor total de gastos captados dos projetos para um segmento escolhido."
   ]
  },
  {
   "cell_type": "markdown",
   "metadata": {},
   "source": [
    "#### Esolhendo um segmento e gerando uma lista de valor total captado para todos os projetos do segmento"
   ]
  },
  {
   "cell_type": "code",
   "execution_count": 4,
   "metadata": {
    "scrolled": true
   },
   "outputs": [
    {
     "data": {
      "text/plain": [
       "Pronac\n",
       "3649     167000.00\n",
       "14751     44000.00\n",
       "14753    807477.55\n",
       "14818     20000.00\n",
       "14823     66600.00\n",
       "Name: CaptacaoReal, dtype: float64"
      ]
     },
     "execution_count": 4,
     "metadata": {},
     "output_type": "execute_result"
    }
   ],
   "source": [
    "segment = '11'\n",
    "segment_projects = raised_funds.loc[segment]['CaptacaoReal']\n",
    "segment_projects.head()"
   ]
  },
  {
   "cell_type": "markdown",
   "metadata": {},
   "source": [
    "#### Gerando histograma dos dados acima"
   ]
  },
  {
   "cell_type": "code",
   "execution_count": 5,
   "metadata": {},
   "outputs": [
    {
     "name": "stdout",
     "output_type": "stream",
     "text": [
      "Média da distribuição: 475634.13\n",
      "Desvio padrão da distribuição: 888242.79\n",
      "\n"
     ]
    },
    {
     "data": {
      "image/png": "[encoded data removed]",
      "text/plain": [
       "<Figure size 1152x288 with 1 Axes>"
      ]
     },
     "metadata": {},
     "output_type": "display_data"
    }
   ],
   "source": [
    "sns.set(style='whitegrid', palette='dark')\n",
    "f, ax = plt.subplots(figsize=(16,4))\n",
    "\n",
    "sns.distplot(segment_projects, bins=200, kde=False)\n",
    "plt.title('Histograma de valor total de gastos captado de projetos de um mesmo segmento')\n",
    "plt.ylabel('Quantidade de projetos')\n",
    "plt.xlabel('Valor total de gastos captado (R$)')\n",
    "plt.grid(True)\n",
    "\n",
    "expected_mean = np.mean(segment_projects)\n",
    "expected_std = np.std(segment_projects)\n",
    "\n",
    "print('Média da distribuição: %.2lf' % expected_mean)\n",
    "print('Desvio padrão da distribuição: %.2lf\\n' % expected_std)"
   ]
  },
  {
   "cell_type": "markdown",
   "metadata": {},
   "source": [
    "#### Separando os conjuntos de treino e teste"
   ]
  },
  {
   "cell_type": "code",
   "execution_count": 6,
   "metadata": {},
   "outputs": [
    {
     "data": {
      "text/plain": [
       "Pronac\n",
       "137582    1552161.59\n",
       "62250      250000.00\n",
       "159388     130000.00\n",
       "149650     146690.50\n",
       "133962     506209.00\n",
       "Name: CaptacaoReal, dtype: float64"
      ]
     },
     "metadata": {},
     "output_type": "display_data"
    },
    {
     "data": {
      "text/plain": [
       "Pronac\n",
       "94442       436770.00\n",
       "139425      110000.00\n",
       "1411643    3871596.93\n",
       "36419        80320.00\n",
       "65883       800000.00\n",
       "Name: CaptacaoReal, dtype: float64"
      ]
     },
     "metadata": {},
     "output_type": "display_data"
    }
   ],
   "source": [
    "from sklearn.model_selection import train_test_split\n",
    "projects_train, projects_test = train_test_split(segment_projects, test_size=0.3)\n",
    "\n",
    "display(projects_train.head())\n",
    "display(projects_test.head())"
   ]
  },
  {
   "cell_type": "markdown",
   "metadata": {},
   "source": [
    "#### Implementando função auxiliar para mostrar os gráficos e estatísticas referentes a cada um dos modelos explorados"
   ]
  },
  {
   "cell_type": "code",
   "execution_count": 7,
   "metadata": {},
   "outputs": [],
   "source": [
    "import time\n",
    "def show_stats(model, train_set, test_set, bin_size=1):\n",
    "    begin = time.time()\n",
    "    model.fit(train_set)\n",
    "    print('Tempo de treinamento: %.3lf (s)' % (time.time() - begin))\n",
    "    begin = time.time()\n",
    "    is_inlier = model.predict(test_set)\n",
    "    print('Tempo de teste: %.3lf (s)' % (time.time() - begin))\n",
    "\n",
    "    contamination_found = sum(~is_inlier) / len(test_set)\n",
    "    print('Percentual de outliers esperado: %.2lf%%' % (100 * model.contamination))\n",
    "    print('Percentual de outliers encontrado: %.2lf%%' % (100 * contamination_found))\n",
    "\n",
    "    sns.set(style='whitegrid', palette='dark')\n",
    "    f, ax = plt.subplots(figsize=(16,4))\n",
    "\n",
    "    inliers = test_set[is_inlier]\n",
    "    bin_factor = 0\n",
    "    if len(inliers) > 0:\n",
    "        bin_factor = (max(inliers) - min(inliers))\n",
    "    bins = max(1, int(bin_factor // bin_size) + 1)\n",
    "    sns.distplot(inliers, label='inliers', color='b', kde=False, bins=bins)\n",
    "\n",
    "    outliers = test_set[~is_inlier]\n",
    "    bins = max(1, int((max(outliers) - min(outliers)) // bin_size) + 1)\n",
    "    sns.distplot(outliers, label='outliers', color='r', kde=False, bins=bins)\n",
    "    \n",
    "    if hasattr(model.model, 'pdf'):\n",
    "        x = np.linspace(min(test_set), max(test_set), 1000)\n",
    "        plt.plot(x,  bin_size * len(test_set) * model.model.pdf(x), label='PDF')\n",
    "\n",
    "    plt.legend(frameon=True)\n",
    "    plt.ylabel('# projects')\n",
    "    plt.xlabel('raised funds (R$)')\n",
    "    plt.title('Inlier/Outlier division')"
   ]
  },
  {
   "cell_type": "markdown",
   "metadata": {},
   "source": [
    "#### Implementando funções auxiliares para os modelos utilizados"
   ]
  },
  {
   "cell_type": "code",
   "execution_count": 8,
   "metadata": {},
   "outputs": [],
   "source": [
    "def bisect(f, a=0, b=1, rtol=1e-6, maxiter=40):\n",
    "    # simplified scipy.optimize.bisect\n",
    "    niter, x0 = (0, a)\n",
    "    while niter < maxiter:\n",
    "        niter += 1\n",
    "        x0 = (b + a) / 2\n",
    "        f0 = f(x0)\n",
    "        if abs(f0) < rtol:\n",
    "            break\n",
    "        elif f0 < 0:\n",
    "            b = x0\n",
    "        else:\n",
    "            a = x0\n",
    "    return x0\n",
    "\n",
    "def find_threshold(model, X, contamination):\n",
    "    h = max(X) - min(X)\n",
    "    _X = np.linspace(min(X) - h, max(X) + h, int(1e3))\n",
    "    dx = _X[1] - _X[0]\n",
    "    pdf = model.pdf(_X)\n",
    "    def f(threshold):\n",
    "        _pdf = pdf.copy()\n",
    "        _pdf[_pdf <= threshold] = 0\n",
    "        I = scipy.integrate.simps(_pdf, dx=dx)\n",
    "        return I - (1.0 - contamination)\n",
    "    return bisect(f)"
   ]
  },
  {
   "cell_type": "markdown",
   "metadata": {},
   "source": [
    "## Modelo Gaussiano"
   ]
  },
  {
   "cell_type": "code",
   "execution_count": 9,
   "metadata": {
    "scrolled": false
   },
   "outputs": [
    {
     "name": "stdout",
     "output_type": "stream",
     "text": [
      "Tempo de treinamento: 0.018 (s)\n",
      "Tempo de teste: 0.002 (s)\n",
      "Percentual de outliers esperado: 10.00%\n",
      "Percentual de outliers encontrado: 4.31%\n"
     ]
    },
    {
     "data": {
      "image/png": "[encoded data removed]",
      "text/plain": [
       "<Figure size 1152x288 with 1 Axes>"
      ]
     },
     "metadata": {},
     "output_type": "display_data"
    }
   ],
   "source": [
    "class Gaussian:\n",
    "    def __init__(self, contamination=0.1):\n",
    "        self.contamination = contamination\n",
    "\n",
    "    def fit(self, X):\n",
    "        # Generate model\n",
    "        mean, std = scipy.stats.norm.fit(X)\n",
    "        self.model = scipy.stats.norm(mean, std)\n",
    "        # Find threshold\n",
    "        self.threshold = find_threshold(self.model, X, self.contamination)\n",
    "        return self\n",
    "    \n",
    "    def predict(self, X):\n",
    "        is_inlier = (self.model.pdf(X) > self.threshold)\n",
    "        return is_inlier\n",
    "\n",
    "show_stats(Gaussian(), projects_train, projects_test, bin_size=1e5)"
   ]
  },
  {
   "cell_type": "markdown",
   "metadata": {},
   "source": [
    "## Modelo Log-normal"
   ]
  },
  {
   "cell_type": "code",
   "execution_count": 10,
   "metadata": {},
   "outputs": [
    {
     "name": "stdout",
     "output_type": "stream",
     "text": [
      "Tempo de treinamento: 0.007 (s)\n",
      "Tempo de teste: 0.001 (s)\n",
      "Percentual de outliers esperado: 10.00%\n",
      "Percentual de outliers encontrado: 2.53%\n"
     ]
    },
    {
     "data": {
      "image/png": "[encoded data removed]",
      "text/plain": [
       "<Figure size 1152x288 with 1 Axes>"
      ]
     },
     "metadata": {},
     "output_type": "display_data"
    }
   ],
   "source": [
    "class Lognormal:\n",
    "    def __init__(self, contamination=0.1, transform=lambda X: X):\n",
    "        self.contamination = contamination\n",
    "        self.transform = transform\n",
    "\n",
    "    def fit(self, X):\n",
    "        # Generate model\n",
    "        X = self.transform(X)\n",
    "        s, loc, scale = scipy.stats.lognorm.fit(X, floc=0)\n",
    "        self.model = scipy.stats.lognorm(np.std(np.log(X)), loc=loc, scale=scale)\n",
    "        # Find threshold\n",
    "        self.threshold = find_threshold(self.model, X, self.contamination)\n",
    "        return self\n",
    "    \n",
    "    def predict(self, X):\n",
    "        X = self.transform(X)\n",
    "        is_inlier = (self.model.pdf(X) > self.threshold)\n",
    "        return is_inlier\n",
    "\n",
    "show_stats(Lognormal(), projects_train, projects_test, bin_size=1e5)"
   ]
  },
  {
   "cell_type": "markdown",
   "metadata": {},
   "source": [
    "## Modelo Gamma"
   ]
  },
  {
   "cell_type": "code",
   "execution_count": 11,
   "metadata": {},
   "outputs": [
    {
     "name": "stdout",
     "output_type": "stream",
     "text": [
      "Tempo de treinamento: 0.009 (s)\n",
      "Tempo de teste: 0.001 (s)\n",
      "Percentual de outliers esperado: 10.00%\n",
      "Percentual de outliers encontrado: 8.94%\n"
     ]
    },
    {
     "data": {
      "image/png": "[encoded data removed]",
      "text/plain": [
       "<Figure size 1152x288 with 1 Axes>"
      ]
     },
     "metadata": {},
     "output_type": "display_data"
    }
   ],
   "source": [
    "class Gamma:\n",
    "    def __init__(self, contamination=0.1):\n",
    "        self.contamination = contamination\n",
    "\n",
    "    def fit(self, X):\n",
    "        X[X <= 100000] = 100000\n",
    "        # Generate model\n",
    "        params = scipy.stats.gamma.fit(X, floc=0)\n",
    "        self.model = scipy.stats.gamma(*params)\n",
    "        # Find threshold\n",
    "        self.threshold = find_threshold(self.model, X, self.contamination)\n",
    "        return self\n",
    "    \n",
    "    def predict(self, X):\n",
    "        is_inlier = (self.model.pdf(X) > self.threshold)\n",
    "        return is_inlier\n",
    "    \n",
    "show_stats(Gamma(), projects_train, projects_test, bin_size=1e5)"
   ]
  },
  {
   "cell_type": "markdown",
   "metadata": {},
   "source": [
    "## Modelo de Estimativa de Densidade Kernel com Kernel Gaussiano"
   ]
  },
  {
   "cell_type": "code",
   "execution_count": 12,
   "metadata": {},
   "outputs": [
    {
     "name": "stdout",
     "output_type": "stream",
     "text": [
      "Tempo de treinamento: 0.107 (s)\n",
      "Tempo de teste: 0.142 (s)\n",
      "Percentual de outliers esperado: 10.00%\n",
      "Percentual de outliers encontrado: 8.11%\n"
     ]
    },
    {
     "data": {
      "image/png": "[encoded data removed]",
      "text/plain": [
       "<Figure size 1152x288 with 1 Axes>"
      ]
     },
     "metadata": {},
     "output_type": "display_data"
    }
   ],
   "source": [
    "class KDE:\n",
    "    def __init__(self, contamination=0.1, kernel='gauss'):\n",
    "        self.contamination = contamination\n",
    "        self.kernel = kernel\n",
    "\n",
    "    def fit(self, X):\n",
    "        # Generate model\n",
    "        if self.kernel == 'gauss':\n",
    "            self.model = scipy.stats.gaussian_kde(X)\n",
    "        else:\n",
    "            raise AttributeError('Kernel function not found')\n",
    "        # Find threshold\n",
    "        self.threshold = find_threshold(self.model, X, self.contamination)\n",
    "        return self\n",
    "    \n",
    "    def predict(self, X):\n",
    "        is_inlier = (self.model.pdf(X) > self.threshold)\n",
    "        return is_inlier\n",
    "    \n",
    "show_stats(KDE(), projects_train, projects_test, bin_size=1e5)"
   ]
  },
  {
   "cell_type": "markdown",
   "metadata": {},
   "source": [
    "## Estimador por Fator de Anomalia Local (LOF)"
   ]
  },
  {
   "cell_type": "code",
   "execution_count": 13,
   "metadata": {},
   "outputs": [
    {
     "name": "stdout",
     "output_type": "stream",
     "text": [
      "Tempo de treinamento: 2.208 (s)\n",
      "Tempo de teste: 0.456 (s)\n",
      "Percentual de outliers esperado: 10.00%\n",
      "Percentual de outliers encontrado: 17.36%\n"
     ]
    },
    {
     "data": {
      "image/png": "[encoded data removed]",
      "text/plain": [
       "<Figure size 1152x288 with 1 Axes>"
      ]
     },
     "metadata": {},
     "output_type": "display_data"
    }
   ],
   "source": [
    "from sklearn.neighbors import LocalOutlierFactor\n",
    "class LOF:\n",
    "    def __init__(self, contamination=0.1, n_neighbors=None):\n",
    "        self.contamination = contamination\n",
    "        self.n_neighbors = n_neighbors\n",
    "\n",
    "    def fit(self, X):\n",
    "        # Transform data into a 2D array\n",
    "        X = self._1Dto2D(X)\n",
    "        \n",
    "        if self.n_neighbors == None:\n",
    "            self.n_neighbors = len(X) // 2\n",
    "\n",
    "        # Get inliers of the training set with LOF Outlier Detection\n",
    "        lof_OD = LocalOutlierFactor(contamination=self.contamination,\n",
    "                                    n_neighbors=self.n_neighbors)\n",
    "        \n",
    "        y = lof_OD.fit_predict(X)\n",
    "        X = X[y == 1, :]\n",
    "        # Train model with LOF Novelty Detection, using train set inliers\n",
    "        # Parameter 'contamination' does not matter at this point\n",
    "        self.model = LocalOutlierFactor(novelty=True, contamination=self.contamination, n_neighbors=self.n_neighbors)\n",
    "        self.model = self.model.fit(X)\n",
    "        return self\n",
    "    \n",
    "    def predict(self, X):\n",
    "        X = self._1Dto2D(X)\n",
    "        is_inlier = (self.model.predict(X) == 1)\n",
    "        return is_inlier\n",
    "    \n",
    "    def _1Dto2D(self, X):\n",
    "        shape = (len(X),1)\n",
    "        return np.hstack([np.array(X.tolist()).reshape(shape), np.zeros(shape)])\n",
    "\n",
    "show_stats(LOF(), projects_train, projects_test, bin_size=1e5)"
   ]
  },
  {
   "cell_type": "markdown",
   "metadata": {},
   "source": [
    "## Avaliando a contaminação média encontrada\n",
    "\n",
    "Nesta seção, os diversos modelos implementados acima são aplicados a várias escolhas aleatórias de conjuntos de treino/teste. Ao final, o desempenho de cada modelo é avaliado."
   ]
  },
  {
   "cell_type": "code",
   "execution_count": 14,
   "metadata": {},
   "outputs": [
    {
     "name": "stdout",
     "output_type": "stream",
     "text": [
      "Metric Gaussian test elapsed time in seconds: 0.0216\n",
      "Metric Gaussian training elapsed time in seconds: 0.3502\n",
      "Metric Log-normal test elapsed time in seconds: 0.0499\n",
      "Metric Log-normal training elapsed time in seconds: 0.4010\n",
      "Metric Gamma test elapsed time in seconds: 0.0335\n",
      "Metric Gamma training elapsed time in seconds: 0.6287\n",
      "Metric KDE-Gauss test elapsed time in seconds: 14.6949\n",
      "Metric KDE-Gauss training elapsed time in seconds: 7.9487\n",
      "Metric LOF test elapsed time in seconds: 39.7879\n",
      "Metric LOF training elapsed time in seconds: 203.1118\n"
     ]
    }
   ],
   "source": [
    "models = [{\n",
    "    'name': 'Gaussian',\n",
    "    'curve': Gaussian(),\n",
    "    'results': []\n",
    "},{\n",
    "    'name': 'Log-normal',\n",
    "    'curve': Lognormal(),\n",
    "    'results': []\n",
    "},{\n",
    "    'name': 'Gamma',\n",
    "    'curve': Gamma(),\n",
    "    'results': []\n",
    "},{\n",
    "    'name': 'KDE-Gauss',\n",
    "    'curve': KDE(),\n",
    "    'results': []\n",
    "},{\n",
    "    'name': 'LOF',\n",
    "    'curve': LOF(),\n",
    "    'results': []\n",
    "}]\n",
    "\n",
    "TEST_ITERATIONS = 100\n",
    "train_elapsed_time = {}\n",
    "test_elapsed_time = {}\n",
    "\n",
    "for i in range(TEST_ITERATIONS):\n",
    "    # Separate train and test sets\n",
    "    projects_train, projects_test = train_test_split(segment_projects, test_size=0.3)\n",
    "    \n",
    "    # Get results for each model\n",
    "    for model in models:\n",
    "        start_time = time.time()\n",
    "        model['curve'] = model['curve'].fit(projects_train)\n",
    "        ending_time = time.time()\n",
    "        elapsed_time = ending_time - start_time\n",
    "        \n",
    "        model_name = model['name']\n",
    "        train_elapsed_time.setdefault(model_name, 0.0)\n",
    "        train_elapsed_time[model_name] += elapsed_time\n",
    "\n",
    "        start_time = time.time()\n",
    "        inlier_filter = model['curve'].predict(projects_test)\n",
    "        ending_time = time.time()\n",
    "        elapsed_time = ending_time - start_time\n",
    "\n",
    "        model_name = model['name']\n",
    "        test_elapsed_time.setdefault(model_name, 0.0)\n",
    "        test_elapsed_time[model_name] += elapsed_time\n",
    "\n",
    "        contamination_found = sum(~inlier_filter) / len(projects_test)\n",
    "        model['results'].append(100 * contamination_found)\n",
    "        \n",
    "for key in test_elapsed_time:\n",
    "    print(\"Metric %s test elapsed time in seconds: %.4lf\" % (key, test_elapsed_time[key]))\n",
    "    print(\"Metric %s training elapsed time in seconds: %.4lf\" % (key, train_elapsed_time[key]))"
   ]
  },
  {
   "cell_type": "code",
   "execution_count": 15,
   "metadata": {},
   "outputs": [
    {
     "name": "stdout",
     "output_type": "stream",
     "text": [
      "Média Gaussian: 4.41%\n",
      "Média Log-normal: 2.06%\n",
      "Média Gamma: 6.74%\n",
      "Média KDE-Gauss: 8.84%\n",
      "Média LOF: 18.90%\n"
     ]
    },
    {
     "data": {
      "image/png": "[encoded data removed]",
      "text/plain": [
       "<Figure size 1152x288 with 1 Axes>"
      ]
     },
     "metadata": {},
     "output_type": "display_data"
    }
   ],
   "source": [
    "sns.set(style='whitegrid', palette='dark')\n",
    "f, ax = plt.subplots(figsize=(16,4))\n",
    "\n",
    "bin_size = 0.5\n",
    "for model in models:\n",
    "    results = model['results']\n",
    "    print('Média %s: %.2lf%%' % (model['name'], np.mean(results)))\n",
    "    bins = max(1, int((max(results) - min(results)) // bin_size) + 1)\n",
    "    sns.distplot(results, label=model['name'], kde=False, bins=bins)\n",
    "\n",
    "plt.legend(frameon=True)\n",
    "plt.xlabel('Contamination found (%)')\n",
    "plt.ylabel('# tests')\n",
    "plt.grid(True)"
   ]
  },
  {
   "cell_type": "code",
   "execution_count": null,
   "metadata": {},
   "outputs": [],
   "source": []
  }
 ],
 "metadata": {
  "kernelspec": {
   "display_name": "Python 3",
   "language": "python",
   "name": "python3"
  },
  "language_info": {
   "codemirror_mode": {
    "name": "ipython",
    "version": 3
   },
   "file_extension": ".py",
   "mimetype": "text/x-python",
   "name": "python",
   "nbconvert_exporter": "python",
   "pygments_lexer": "ipython3",
   "version": "3.6.6"
  }
 },
 "nbformat": 4,
 "nbformat_minor": 2
}
