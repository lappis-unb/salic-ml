{
 "cells": [
  {
   "cell_type": "markdown",
   "metadata": {},
   "source": [
    "# Análise e extração de features textuais e detecção de similaridade entre projetos culturais\n",
    "\n",
    "Issues relacionadas:\n",
    "\n",
    "* [#243](https://github.com/lappis-unb/salic-ml/issues/243): Extração e análise de features textuais dos projetos culturais\n",
    "* [#245](https://github.com/lappis-unb/salic-ml/issues/245): Detecção de similaridade baseada em features textuais\n",
    "\n",
    "## Objetivos\n",
    "\n",
    "Extrair features textuais de projetos culturais do banco de dados do Salic a partir de todos os dados textuais (curtos e longos), como descrição, título, itens, objeto e etc. As features extraídas serão utilizadas para identificação de projetos culturais semelhantes."
   ]
  },
  {
   "cell_type": "markdown",
   "metadata": {},
   "source": [
    "---\n",
    "## Preparação\n",
    "\n",
    "Nesta etapa serão carregados e explorados os datasets a serem utilizados ao longo de todo o notebook. Serão analisados os datasets de itens orçamentários e o dataset de projetos culturais, ambos serão explorados em busca de features textuais. "
   ]
  },
  {
   "cell_type": "markdown",
   "metadata": {},
   "source": [
    "#### Importando módulos e definindo constantes"
   ]
  },
  {
   "cell_type": "code",
   "execution_count": 1,
   "metadata": {},
   "outputs": [
    {
     "name": "stdout",
     "output_type": "stream",
     "text": [
      "Populating the interactive namespace from numpy and matplotlib\n",
      "[nltk_data] Downloading package stopwords to /usr/share/nltk_data...\n",
      "[nltk_data]   Package stopwords is already up-to-date!\n",
      "[nltk_data] Downloading package punkt to /usr/share/nltk_data...\n",
      "[nltk_data]   Package punkt is already up-to-date!\n",
      "[nltk_data] Downloading package rslp to /usr/share/nltk_data...\n",
      "[nltk_data]   Package rslp is already up-to-date!\n"
     ]
    }
   ],
   "source": [
    "%pylab inline\n",
    "import scipy\n",
    "import pandas as pd\n",
    "import seaborn as sns\n",
    "\n",
    "from wordcloud import WordCloud\n",
    "\n",
    "import re\n",
    "import nltk\n",
    "nltk.download('stopwords')\n",
    "nltk.download('punkt')\n",
    "nltk.download('rslp')\n",
    "from nltk.corpus import stopwords\n",
    "from nltk.tokenize import word_tokenize\n",
    "from nltk.stem import RSLPStemmer\n",
    "\n",
    "from sklearn.feature_extraction.text import CountVectorizer\n",
    "from sklearn.feature_extraction.text import TfidfVectorizer\n",
    "from sklearn.neighbors import NearestNeighbors, BallTree, KDTree\n",
    "from sklearn.metrics import pairwise_distances_argmin"
   ]
  },
  {
   "cell_type": "markdown",
   "metadata": {},
   "source": [
    "### Explorando o dataset de itens orçamentários"
   ]
  },
  {
   "cell_type": "code",
   "execution_count": 2,
   "metadata": {
    "scrolled": false
   },
   "outputs": [
    {
     "name": "stdout",
     "output_type": "stream",
     "text": [
      "<class 'pandas.core.frame.DataFrame'>\n",
      "RangeIndex: 2026756 entries, 0 to 2026755\n",
      "Data columns (total 25 columns):\n",
      "idPronac                int64\n",
      "PRONAC                  int64\n",
      "idPlanilhaAprovacao     int64\n",
      "Item                    object\n",
      "idPlanilhaItens         int64\n",
      "Unidade                 object\n",
      "QtDias                  int64\n",
      "QtItem                  float64\n",
      "nrOcorrencia            float64\n",
      "VlUnitarioSolicitado    float64\n",
      "VlTotalSolicitado       float64\n",
      "VlUnitarioAprovado      float64\n",
      "VlTotalAprovado         float64\n",
      "UfItem                  object\n",
      "MunicipioItem           object\n",
      "Etapa                   object\n",
      "idArea                  int64\n",
      "Area                    object\n",
      "idSegmento              object\n",
      "Segmento                object\n",
      "idProduto               int64\n",
      "Produto                 object\n",
      "DataProjeto             object\n",
      "cdCidade                int64\n",
      "cdEtapa                 int64\n",
      "dtypes: float64(6), int64(9), object(10)\n",
      "memory usage: 386.6+ MB\n"
     ]
    }
   ],
   "source": [
    "df = pd.read_csv('../../data/raw/planilha_orcamentaria.csv')\n",
    "df.info()"
   ]
  },
  {
   "cell_type": "code",
   "execution_count": 3,
   "metadata": {},
   "outputs": [
    {
     "data": {
      "text/html": [
       "<div>\n",
       "<style scoped>\n",
       "    .dataframe tbody tr th:only-of-type {\n",
       "        vertical-align: middle;\n",
       "    }\n",
       "\n",
       "    .dataframe tbody tr th {\n",
       "        vertical-align: top;\n",
       "    }\n",
       "\n",
       "    .dataframe thead th {\n",
       "        text-align: right;\n",
       "    }\n",
       "</style>\n",
       "<table border=\"1\" class=\"dataframe\">\n",
       "  <thead>\n",
       "    <tr style=\"text-align: right;\">\n",
       "      <th></th>\n",
       "      <th>0</th>\n",
       "      <th>1</th>\n",
       "      <th>2</th>\n",
       "      <th>3</th>\n",
       "      <th>4</th>\n",
       "    </tr>\n",
       "  </thead>\n",
       "  <tbody>\n",
       "    <tr>\n",
       "      <th>idPronac</th>\n",
       "      <td>121051</td>\n",
       "      <td>121051</td>\n",
       "      <td>121051</td>\n",
       "      <td>119968</td>\n",
       "      <td>112836</td>\n",
       "    </tr>\n",
       "    <tr>\n",
       "      <th>PRONAC</th>\n",
       "      <td>100855</td>\n",
       "      <td>100855</td>\n",
       "      <td>100855</td>\n",
       "      <td>98671</td>\n",
       "      <td>91695</td>\n",
       "    </tr>\n",
       "    <tr>\n",
       "      <th>idPlanilhaAprovacao</th>\n",
       "      <td>792860</td>\n",
       "      <td>792883</td>\n",
       "      <td>792903</td>\n",
       "      <td>109095</td>\n",
       "      <td>116511</td>\n",
       "    </tr>\n",
       "    <tr>\n",
       "      <th>Item</th>\n",
       "      <td>Passagens Aéreas (Descrever os trechos na tela...</td>\n",
       "      <td>Bonecos – Criação</td>\n",
       "      <td>Produtor executivo</td>\n",
       "      <td>Assistente de produção</td>\n",
       "      <td>Designer</td>\n",
       "    </tr>\n",
       "    <tr>\n",
       "      <th>idPlanilhaItens</th>\n",
       "      <td>131</td>\n",
       "      <td>3599</td>\n",
       "      <td>53</td>\n",
       "      <td>1037</td>\n",
       "      <td>103</td>\n",
       "    </tr>\n",
       "    <tr>\n",
       "      <th>Unidade</th>\n",
       "      <td>Unidade</td>\n",
       "      <td>Verba</td>\n",
       "      <td>Verba</td>\n",
       "      <td>Verba</td>\n",
       "      <td>Mês</td>\n",
       "    </tr>\n",
       "    <tr>\n",
       "      <th>QtDias</th>\n",
       "      <td>150</td>\n",
       "      <td>90</td>\n",
       "      <td>90</td>\n",
       "      <td>30</td>\n",
       "      <td>378</td>\n",
       "    </tr>\n",
       "    <tr>\n",
       "      <th>QtItem</th>\n",
       "      <td>40</td>\n",
       "      <td>1</td>\n",
       "      <td>3</td>\n",
       "      <td>1</td>\n",
       "      <td>1</td>\n",
       "    </tr>\n",
       "    <tr>\n",
       "      <th>nrOcorrencia</th>\n",
       "      <td>1</td>\n",
       "      <td>1</td>\n",
       "      <td>1</td>\n",
       "      <td>1</td>\n",
       "      <td>18</td>\n",
       "    </tr>\n",
       "    <tr>\n",
       "      <th>VlUnitarioSolicitado</th>\n",
       "      <td>150</td>\n",
       "      <td>4000</td>\n",
       "      <td>3000</td>\n",
       "      <td>1000</td>\n",
       "      <td>2000</td>\n",
       "    </tr>\n",
       "    <tr>\n",
       "      <th>VlTotalSolicitado</th>\n",
       "      <td>6000</td>\n",
       "      <td>4000</td>\n",
       "      <td>9000</td>\n",
       "      <td>1000</td>\n",
       "      <td>36000</td>\n",
       "    </tr>\n",
       "    <tr>\n",
       "      <th>VlUnitarioAprovado</th>\n",
       "      <td>150</td>\n",
       "      <td>4000</td>\n",
       "      <td>3000</td>\n",
       "      <td>1000</td>\n",
       "      <td>0</td>\n",
       "    </tr>\n",
       "    <tr>\n",
       "      <th>VlTotalAprovado</th>\n",
       "      <td>6000</td>\n",
       "      <td>4000</td>\n",
       "      <td>9000</td>\n",
       "      <td>1000</td>\n",
       "      <td>0</td>\n",
       "    </tr>\n",
       "    <tr>\n",
       "      <th>UfItem</th>\n",
       "      <td>RJ</td>\n",
       "      <td>RJ</td>\n",
       "      <td>SP</td>\n",
       "      <td>RJ</td>\n",
       "      <td>RS</td>\n",
       "    </tr>\n",
       "    <tr>\n",
       "      <th>MunicipioItem</th>\n",
       "      <td>Rio de Janeiro</td>\n",
       "      <td>Rio de Janeiro</td>\n",
       "      <td>São Paulo</td>\n",
       "      <td>Rio de Janeiro</td>\n",
       "      <td>Porto Alegre</td>\n",
       "    </tr>\n",
       "    <tr>\n",
       "      <th>Etapa</th>\n",
       "      <td>2 - Produção / Execução</td>\n",
       "      <td>2 - Produção / Execução</td>\n",
       "      <td>2 - Produção / Execução</td>\n",
       "      <td>1 - Pré-Produção / Preparação</td>\n",
       "      <td>2 - Produção / Execução</td>\n",
       "    </tr>\n",
       "    <tr>\n",
       "      <th>idArea</th>\n",
       "      <td>1</td>\n",
       "      <td>1</td>\n",
       "      <td>1</td>\n",
       "      <td>3</td>\n",
       "      <td>7</td>\n",
       "    </tr>\n",
       "    <tr>\n",
       "      <th>Area</th>\n",
       "      <td>Artes Cênicas</td>\n",
       "      <td>Artes Cênicas</td>\n",
       "      <td>Artes Cênicas</td>\n",
       "      <td>Música</td>\n",
       "      <td>Artes Integradas</td>\n",
       "    </tr>\n",
       "    <tr>\n",
       "      <th>idSegmento</th>\n",
       "      <td>11</td>\n",
       "      <td>11</td>\n",
       "      <td>11</td>\n",
       "      <td>31</td>\n",
       "      <td>71</td>\n",
       "    </tr>\n",
       "    <tr>\n",
       "      <th>Segmento</th>\n",
       "      <td>Teatro</td>\n",
       "      <td>Teatro</td>\n",
       "      <td>Teatro</td>\n",
       "      <td>Música Popular Cantada</td>\n",
       "      <td>Artes Integradas</td>\n",
       "    </tr>\n",
       "    <tr>\n",
       "      <th>idProduto</th>\n",
       "      <td>19</td>\n",
       "      <td>19</td>\n",
       "      <td>19</td>\n",
       "      <td>51</td>\n",
       "      <td>17</td>\n",
       "    </tr>\n",
       "    <tr>\n",
       "      <th>Produto</th>\n",
       "      <td>Espetáculo de Artes Cênicas</td>\n",
       "      <td>Espetáculo de Artes Cênicas</td>\n",
       "      <td>Espetáculo de Artes Cênicas</td>\n",
       "      <td>Apresentação Musical</td>\n",
       "      <td>Pesquisa</td>\n",
       "    </tr>\n",
       "    <tr>\n",
       "      <th>DataProjeto</th>\n",
       "      <td>2010-02-19 11:53:49.387</td>\n",
       "      <td>2010-02-19 11:53:49.387</td>\n",
       "      <td>2010-02-19 11:53:49.387</td>\n",
       "      <td>2009-12-28 11:37:57.830</td>\n",
       "      <td>2009-05-21 10:48:48.790</td>\n",
       "    </tr>\n",
       "    <tr>\n",
       "      <th>cdCidade</th>\n",
       "      <td>330455</td>\n",
       "      <td>330455</td>\n",
       "      <td>355030</td>\n",
       "      <td>330455</td>\n",
       "      <td>431490</td>\n",
       "    </tr>\n",
       "    <tr>\n",
       "      <th>cdEtapa</th>\n",
       "      <td>2</td>\n",
       "      <td>2</td>\n",
       "      <td>2</td>\n",
       "      <td>1</td>\n",
       "      <td>2</td>\n",
       "    </tr>\n",
       "  </tbody>\n",
       "</table>\n",
       "</div>"
      ],
      "text/plain": [
       "                                                                      0  \\\n",
       "idPronac                                                         121051   \n",
       "PRONAC                                                           100855   \n",
       "idPlanilhaAprovacao                                              792860   \n",
       "Item                  Passagens Aéreas (Descrever os trechos na tela...   \n",
       "idPlanilhaItens                                                     131   \n",
       "Unidade                                                         Unidade   \n",
       "QtDias                                                              150   \n",
       "QtItem                                                               40   \n",
       "nrOcorrencia                                                          1   \n",
       "VlUnitarioSolicitado                                                150   \n",
       "VlTotalSolicitado                                                  6000   \n",
       "VlUnitarioAprovado                                                  150   \n",
       "VlTotalAprovado                                                    6000   \n",
       "UfItem                                                               RJ   \n",
       "MunicipioItem                                            Rio de Janeiro   \n",
       "Etapa                                           2 - Produção / Execução   \n",
       "idArea                                                                1   \n",
       "Area                                                      Artes Cênicas   \n",
       "idSegmento                                                           11   \n",
       "Segmento                                                         Teatro   \n",
       "idProduto                                                            19   \n",
       "Produto                                     Espetáculo de Artes Cênicas   \n",
       "DataProjeto                                     2010-02-19 11:53:49.387   \n",
       "cdCidade                                                         330455   \n",
       "cdEtapa                                                               2   \n",
       "\n",
       "                                                1  \\\n",
       "idPronac                                   121051   \n",
       "PRONAC                                     100855   \n",
       "idPlanilhaAprovacao                        792883   \n",
       "Item                            Bonecos – Criação   \n",
       "idPlanilhaItens                              3599   \n",
       "Unidade                                     Verba   \n",
       "QtDias                                         90   \n",
       "QtItem                                          1   \n",
       "nrOcorrencia                                    1   \n",
       "VlUnitarioSolicitado                         4000   \n",
       "VlTotalSolicitado                            4000   \n",
       "VlUnitarioAprovado                           4000   \n",
       "VlTotalAprovado                              4000   \n",
       "UfItem                                         RJ   \n",
       "MunicipioItem                      Rio de Janeiro   \n",
       "Etapa                     2 - Produção / Execução   \n",
       "idArea                                          1   \n",
       "Area                                Artes Cênicas   \n",
       "idSegmento                                     11   \n",
       "Segmento                                   Teatro   \n",
       "idProduto                                      19   \n",
       "Produto               Espetáculo de Artes Cênicas   \n",
       "DataProjeto               2010-02-19 11:53:49.387   \n",
       "cdCidade                                   330455   \n",
       "cdEtapa                                         2   \n",
       "\n",
       "                                                2  \\\n",
       "idPronac                                   121051   \n",
       "PRONAC                                     100855   \n",
       "idPlanilhaAprovacao                        792903   \n",
       "Item                           Produtor executivo   \n",
       "idPlanilhaItens                                53   \n",
       "Unidade                                     Verba   \n",
       "QtDias                                         90   \n",
       "QtItem                                          3   \n",
       "nrOcorrencia                                    1   \n",
       "VlUnitarioSolicitado                         3000   \n",
       "VlTotalSolicitado                            9000   \n",
       "VlUnitarioAprovado                           3000   \n",
       "VlTotalAprovado                              9000   \n",
       "UfItem                                         SP   \n",
       "MunicipioItem                           São Paulo   \n",
       "Etapa                     2 - Produção / Execução   \n",
       "idArea                                          1   \n",
       "Area                                Artes Cênicas   \n",
       "idSegmento                                     11   \n",
       "Segmento                                   Teatro   \n",
       "idProduto                                      19   \n",
       "Produto               Espetáculo de Artes Cênicas   \n",
       "DataProjeto               2010-02-19 11:53:49.387   \n",
       "cdCidade                                   355030   \n",
       "cdEtapa                                         2   \n",
       "\n",
       "                                                  3                        4  \n",
       "idPronac                                     119968                   112836  \n",
       "PRONAC                                        98671                    91695  \n",
       "idPlanilhaAprovacao                          109095                   116511  \n",
       "Item                         Assistente de produção                 Designer  \n",
       "idPlanilhaItens                                1037                      103  \n",
       "Unidade                                       Verba                      Mês  \n",
       "QtDias                                           30                      378  \n",
       "QtItem                                            1                        1  \n",
       "nrOcorrencia                                      1                       18  \n",
       "VlUnitarioSolicitado                           1000                     2000  \n",
       "VlTotalSolicitado                              1000                    36000  \n",
       "VlUnitarioAprovado                             1000                        0  \n",
       "VlTotalAprovado                                1000                        0  \n",
       "UfItem                                           RJ                       RS  \n",
       "MunicipioItem                        Rio de Janeiro             Porto Alegre  \n",
       "Etapa                 1 - Pré-Produção / Preparação  2 - Produção / Execução  \n",
       "idArea                                            3                        7  \n",
       "Area                                         Música         Artes Integradas  \n",
       "idSegmento                                       31                       71  \n",
       "Segmento                     Música Popular Cantada         Artes Integradas  \n",
       "idProduto                                        51                       17  \n",
       "Produto                        Apresentação Musical                 Pesquisa  \n",
       "DataProjeto                 2009-12-28 11:37:57.830  2009-05-21 10:48:48.790  \n",
       "cdCidade                                     330455                   431490  \n",
       "cdEtapa                                           1                        2  "
      ]
     },
     "execution_count": 3,
     "metadata": {},
     "output_type": "execute_result"
    }
   ],
   "source": [
    "df.head(5).transpose()"
   ]
  },
  {
   "cell_type": "markdown",
   "metadata": {},
   "source": [
    "O primeiro dataset explorado será o de itens orçamentários. Como mostrado acima, tal dataset conta com uma relação de mais de 2 milhões de itens de projetos culturais, desde projetos em fase inicial até projetos já finalizados. Cada item conta com 25 informações, como o identificador do projeto ao qual ele pertence, sua descrição, valor, quantidade e etc.\n",
    "\n",
    "A seguir, serão explorados os possíveis dados textuais desse dataset, como descrição, unidade, UF, etapa, área e etc."
   ]
  },
  {
   "cell_type": "markdown",
   "metadata": {},
   "source": [
    "#### Feature: descrição do item"
   ]
  },
  {
   "cell_type": "code",
   "execution_count": 4,
   "metadata": {},
   "outputs": [
    {
     "name": "stdout",
     "output_type": "stream",
     "text": [
      "3635\n"
     ]
    },
    {
     "data": {
      "text/plain": [
       "Passagens Aéreas (Descrever os trechos na tela de deslocamentos)         38645\n",
       "Transporte Local / Locação de Automóvel / Combustível                    37290\n",
       "Refeição                                                                 36904\n",
       "Assessor de imprensa                                                     33945\n",
       "Assistente de produção                                                   33106\n",
       "Remuneração para captação de recursos                                    31393\n",
       "Produtor executivo                                                       30918\n",
       "Contador                                                                 30436\n",
       "Hospedagem sem alimentação                                               28745\n",
       "Banner/faixa adesiva/faixa de lona/saia de palco/testeira/pórtico\\r\\n    27832\n",
       "Name: Item, dtype: int64"
      ]
     },
     "execution_count": 4,
     "metadata": {},
     "output_type": "execute_result"
    }
   ],
   "source": [
    "serie = df['Item'].value_counts()\n",
    "print(len(serie))\n",
    "serie.head(10)"
   ]
  },
  {
   "cell_type": "markdown",
   "metadata": {},
   "source": [
    "#### Feature: unidade de medida do item"
   ]
  },
  {
   "cell_type": "code",
   "execution_count": 5,
   "metadata": {},
   "outputs": [
    {
     "name": "stdout",
     "output_type": "stream",
     "text": [
      "25\n"
     ]
    },
    {
     "data": {
      "text/plain": [
       "Verba                  429350\n",
       "Serviço                381031\n",
       "Mês                    334062\n",
       "Unidade                283488\n",
       "Dia                    177115\n",
       "Cachê                  157955\n",
       "Não Informado          104451\n",
       "Projeto                 72584\n",
       "Semana                  27113\n",
       "Hora                    12174\n",
       "Metro 2                 11188\n",
       "Período                  8450\n",
       "Obra                     6261\n",
       "Metro                    5147\n",
       "Folha                    4633\n",
       "Títulos                  3064\n",
       "Filme                    2170\n",
       "Metro 3                  1468\n",
       "Metro 3 / Km             1196\n",
       "Instalação                934\n",
       "Parte                     883\n",
       "Kilograma                 879\n",
       "Minuto                    676\n",
       "Rolo                      365\n",
       "Kilograma / metro 2       119\n",
       "Name: Unidade, dtype: int64"
      ]
     },
     "execution_count": 5,
     "metadata": {},
     "output_type": "execute_result"
    }
   ],
   "source": [
    "serie = df['Unidade'].value_counts()\n",
    "print(len(serie))\n",
    "serie"
   ]
  },
  {
   "cell_type": "markdown",
   "metadata": {},
   "source": [
    "#### Feature: UF"
   ]
  },
  {
   "cell_type": "code",
   "execution_count": 6,
   "metadata": {},
   "outputs": [
    {
     "name": "stdout",
     "output_type": "stream",
     "text": [
      "27\n"
     ]
    },
    {
     "data": {
      "text/plain": [
       "SP    646819\n",
       "RJ    451136\n",
       "MG    247189\n",
       "RS    141859\n",
       "PR    109123\n",
       "BA     74546\n",
       "SC     73764\n",
       "DF     56074\n",
       "PE     47060\n",
       "CE     41260\n",
       "Name: UfItem, dtype: int64"
      ]
     },
     "execution_count": 6,
     "metadata": {},
     "output_type": "execute_result"
    }
   ],
   "source": [
    "serie = df['UfItem'].value_counts()\n",
    "print(len(serie))\n",
    "serie.head(10)"
   ]
  },
  {
   "cell_type": "markdown",
   "metadata": {},
   "source": [
    "#### Feature: município"
   ]
  },
  {
   "cell_type": "code",
   "execution_count": 7,
   "metadata": {},
   "outputs": [
    {
     "name": "stdout",
     "output_type": "stream",
     "text": [
      "2624\n"
     ]
    },
    {
     "data": {
      "text/plain": [
       "São Paulo         522997\n",
       "Rio de Janeiro    414688\n",
       "Belo Horizonte    140287\n",
       "Curitiba           69196\n",
       "Porto Alegre       67139\n",
       "Salvador           61704\n",
       "Brasília           56074\n",
       "Recife             36803\n",
       "Fortaleza          34467\n",
       "Florianópolis      31204\n",
       "Name: MunicipioItem, dtype: int64"
      ]
     },
     "execution_count": 7,
     "metadata": {},
     "output_type": "execute_result"
    }
   ],
   "source": [
    "serie = df['MunicipioItem'].value_counts()\n",
    "print(len(serie))\n",
    "serie.head(10)"
   ]
  },
  {
   "cell_type": "markdown",
   "metadata": {},
   "source": [
    "#### Feature: etapa do projeto na qual o item foi utilizado"
   ]
  },
  {
   "cell_type": "code",
   "execution_count": 8,
   "metadata": {},
   "outputs": [
    {
     "name": "stdout",
     "output_type": "stream",
     "text": [
      "10\n"
     ]
    },
    {
     "data": {
      "text/plain": [
       "2 - Produção / Execução               1195315\n",
       "3 - Divulgação / Comercialização       315280\n",
       "1 - Pré-Produção / Preparação          254998\n",
       "4 - Custos / Administrativos           224104\n",
       "5 - Recolhimentos                       28290\n",
       "8 - Custos Vinculados                    4546\n",
       "9 - Assessoria Contábil e Juridica       3284\n",
       "7 - Pós-Produção                          444\n",
       "10 - Captação de Recursos                 273\n",
       "6 - Elaboração e Agenciamento             222\n",
       "Name: Etapa, dtype: int64"
      ]
     },
     "execution_count": 8,
     "metadata": {},
     "output_type": "execute_result"
    }
   ],
   "source": [
    "serie = df['Etapa'].value_counts()\n",
    "print(len(serie))\n",
    "serie"
   ]
  },
  {
   "cell_type": "markdown",
   "metadata": {},
   "source": [
    "#### Feature: área de atuação do projeto cultural no qual o item foi cadastrado"
   ]
  },
  {
   "cell_type": "code",
   "execution_count": 9,
   "metadata": {},
   "outputs": [
    {
     "name": "stdout",
     "output_type": "stream",
     "text": [
      "8\n"
     ]
    },
    {
     "data": {
      "text/plain": [
       "Artes Cênicas          692268\n",
       "Música                 538580\n",
       "Audiovisual            223751\n",
       "Humanidades            220100\n",
       "Artes Visuais          209203\n",
       "Patrimônio Cultural     96197\n",
       "Artes Integradas        46119\n",
       "Museus e Memória          538\n",
       "Name: Area, dtype: int64"
      ]
     },
     "execution_count": 9,
     "metadata": {},
     "output_type": "execute_result"
    }
   ],
   "source": [
    "serie = df['Area'].value_counts()\n",
    "print(len(serie))\n",
    "serie.head(10)"
   ]
  },
  {
   "cell_type": "markdown",
   "metadata": {},
   "source": [
    "#### Feature: segmento do projeto cultural no qual o item foi cadastrado"
   ]
  },
  {
   "cell_type": "code",
   "execution_count": 10,
   "metadata": {},
   "outputs": [
    {
     "name": "stdout",
     "output_type": "stream",
     "text": [
      "124\n"
     ]
    },
    {
     "data": {
      "text/plain": [
       "Teatro                                                535070\n",
       "Música Popular Cantada                                232959\n",
       "Música Instrumental                                   194252\n",
       "Exposição de Artes Visuais                            156503\n",
       "Dança                                                 104788\n",
       "Música Erudita                                         96453\n",
       "Difusão de acervo audiovisual                          87437\n",
       "Artes Integradas                                       56222\n",
       "Livros  ou obras de referência - valor Artístico       53404\n",
       "Livros ou  obras de referência - valor Humanístico     50906\n",
       "Name: Segmento, dtype: int64"
      ]
     },
     "execution_count": 10,
     "metadata": {},
     "output_type": "execute_result"
    }
   ],
   "source": [
    "serie = df['Segmento'].value_counts()\n",
    "print(len(serie))\n",
    "serie.head(10)"
   ]
  },
  {
   "cell_type": "markdown",
   "metadata": {},
   "source": [
    "#### Feature: produto cultural no qual o item foi utilizado"
   ]
  },
  {
   "cell_type": "code",
   "execution_count": 11,
   "metadata": {},
   "outputs": [
    {
     "name": "stdout",
     "output_type": "stream",
     "text": [
      "75\n"
     ]
    },
    {
     "data": {
      "text/plain": [
       "Espetáculo de Artes Cênicas                458157\n",
       "Apresentação Musical                       268370\n",
       "Administracao do Projeto                   256570\n",
       "Festival/Mostra                            207151\n",
       "Exposição de Artes                         142098\n",
       "Livro                                      114703\n",
       "Festival/Mostra - Audiovisual               78713\n",
       "Curso / Oficina / Estágio                   54920\n",
       "DVD                                         46570\n",
       "Oficina /Workshop/Seminário Audiovisual     40385\n",
       "Name: Produto, dtype: int64"
      ]
     },
     "execution_count": 11,
     "metadata": {},
     "output_type": "execute_result"
    }
   ],
   "source": [
    "serie = df['Produto'].value_counts()\n",
    "print(len(serie))\n",
    "serie.head(10)"
   ]
  },
  {
   "cell_type": "markdown",
   "metadata": {},
   "source": [
    "Na análise das features textuais acima, foi possível identificar características de itens e projetos culturais, como:\n",
    "\n",
    "1. Transporte, alimentação e acessoria de imprensa são os itens mais utilizados em projetos culturais, dentre as 3635 opções já utilizadas;\n",
    "1. Dentre 25 categorias, verba, serviço, mês e unidade são as principais unidades de medida dos itens;\n",
    "1. Mais de 60% dos itens estão cadastrados na região sudeste, sendo São Paulo o estado com a maior quantidade de itens cadastrados;\n",
    "1. Todos os 10 municípios com mais itens de projetos culturais cadastrados são capitais de estados brasileiros;\n",
    "1. Mais da metade dos itens são utilizados na etapa de produção/execução de projetos culturais, as próximas etapas que mais concentram os itens são divulgação, pré-produção e custos administrativos;\n",
    "1. Entre 8 áreas possíveis, a maior parte dos itens têm seus projetos classificados nas áreas de artes cênicas ou música;\n",
    "1. Além disso, a maior parte dos itens têm seus projetos concentrados nos segmentos de teatro, música popular cantada, música instrumental, exposição de artes visuais e dança, sendo 124 o número total de segmentos;\n",
    "1. Os produtos culturais mais frequentes nos itens são os de espetáculo de artes cênicas, apresentação musical e administração do projeto, em um universo de 75 produtos distintos.\n",
    "\n",
    "A maior parte das features analisadas referem-se unicamente aos itens, não sendo relevantes na detecção de projetos similares a um projeto específico, por isso, o dataset analisado acima será pouco utilizado.\n",
    "\n",
    "Abaixo será explorado o dataset de projetos culturais, com várias características associadas a projetos culturais em si, nãos apenas aos seus itens orçamentários."
   ]
  },
  {
   "cell_type": "markdown",
   "metadata": {},
   "source": [
    "### Explorando o dataset de projetos culturais"
   ]
  },
  {
   "cell_type": "code",
   "execution_count": 12,
   "metadata": {},
   "outputs": [
    {
     "name": "stdout",
     "output_type": "stream",
     "text": [
      "<class 'pandas.core.frame.DataFrame'>\n",
      "RangeIndex: 210684 entries, 0 to 210683\n",
      "Data columns (total 35 columns):\n",
      "PRONAC                   210684 non-null object\n",
      "IdPRONAC                 210684 non-null int64\n",
      "AnoProjeto               210684 non-null object\n",
      "Sequencial               210684 non-null object\n",
      "UfProjeto                210684 non-null object\n",
      "Area                     210684 non-null int64\n",
      "Segmento                 210684 non-null object\n",
      "Mecanismo                210684 non-null int64\n",
      "NomeProjeto              210675 non-null object\n",
      "Processo                 210684 non-null object\n",
      "CgcCpf                   210684 non-null object\n",
      "Situacao                 210684 non-null object\n",
      "DtProtocolo              210684 non-null object\n",
      "DtAnalise                210684 non-null object\n",
      "Modalidade               185255 non-null object\n",
      "OrgaoOrigem              210684 non-null int64\n",
      "Orgao                    210684 non-null int64\n",
      "DtSaida                  74704 non-null object\n",
      "DtRetorno                80159 non-null object\n",
      "UnidadeAnalise           208922 non-null object\n",
      "Analista                 210678 non-null object\n",
      "DtSituacao               207949 non-null object\n",
      "ResumoProjeto            210684 non-null object\n",
      "ProvidenciaTomada        210386 non-null object\n",
      "Localizacao              208600 non-null object\n",
      "DtInicioExecucao         75255 non-null object\n",
      "DtFimExecucao            76933 non-null object\n",
      "SolicitadoUfir           210684 non-null float64\n",
      "SolicitadoReal           178329 non-null float64\n",
      "SolicitadoCusteioUfir    210683 non-null float64\n",
      "SolicitadoCusteioReal    210684 non-null float64\n",
      "SolicitadoCapitalUfir    210684 non-null float64\n",
      "SolicitadoCapitalReal    210683 non-null float64\n",
      "Logon                    210683 non-null float64\n",
      "idProjeto                89218 non-null float64\n",
      "dtypes: float64(8), int64(5), object(22)\n",
      "memory usage: 56.3+ MB\n"
     ]
    }
   ],
   "source": [
    "df = pd.read_csv('../../data/raw/planilha_projetos_luciano.csv', low_memory=False)\n",
    "df.info()"
   ]
  },
  {
   "cell_type": "code",
   "execution_count": 13,
   "metadata": {},
   "outputs": [
    {
     "data": {
      "text/html": [
       "<div>\n",
       "<style scoped>\n",
       "    .dataframe tbody tr th:only-of-type {\n",
       "        vertical-align: middle;\n",
       "    }\n",
       "\n",
       "    .dataframe tbody tr th {\n",
       "        vertical-align: top;\n",
       "    }\n",
       "\n",
       "    .dataframe thead th {\n",
       "        text-align: right;\n",
       "    }\n",
       "</style>\n",
       "<table border=\"1\" class=\"dataframe\">\n",
       "  <thead>\n",
       "    <tr style=\"text-align: right;\">\n",
       "      <th></th>\n",
       "      <th>0</th>\n",
       "      <th>1</th>\n",
       "      <th>2</th>\n",
       "      <th>3</th>\n",
       "      <th>4</th>\n",
       "    </tr>\n",
       "  </thead>\n",
       "  <tbody>\n",
       "    <tr>\n",
       "      <th>PRONAC</th>\n",
       "      <td>087079</td>\n",
       "      <td>087080</td>\n",
       "      <td>087081</td>\n",
       "      <td>087082</td>\n",
       "      <td>087083</td>\n",
       "    </tr>\n",
       "    <tr>\n",
       "      <th>IdPRONAC</th>\n",
       "      <td>1</td>\n",
       "      <td>2</td>\n",
       "      <td>3</td>\n",
       "      <td>4</td>\n",
       "      <td>5</td>\n",
       "    </tr>\n",
       "    <tr>\n",
       "      <th>AnoProjeto</th>\n",
       "      <td>08</td>\n",
       "      <td>08</td>\n",
       "      <td>08</td>\n",
       "      <td>08</td>\n",
       "      <td>08</td>\n",
       "    </tr>\n",
       "    <tr>\n",
       "      <th>Sequencial</th>\n",
       "      <td>7079</td>\n",
       "      <td>7080</td>\n",
       "      <td>7081</td>\n",
       "      <td>7082</td>\n",
       "      <td>7083</td>\n",
       "    </tr>\n",
       "    <tr>\n",
       "      <th>UfProjeto</th>\n",
       "      <td>SP</td>\n",
       "      <td>SP</td>\n",
       "      <td>ES</td>\n",
       "      <td>RJ</td>\n",
       "      <td>SP</td>\n",
       "    </tr>\n",
       "    <tr>\n",
       "      <th>Area</th>\n",
       "      <td>7</td>\n",
       "      <td>3</td>\n",
       "      <td>3</td>\n",
       "      <td>4</td>\n",
       "      <td>1</td>\n",
       "    </tr>\n",
       "    <tr>\n",
       "      <th>Segmento</th>\n",
       "      <td>71</td>\n",
       "      <td>31</td>\n",
       "      <td>31</td>\n",
       "      <td>47</td>\n",
       "      <td>11</td>\n",
       "    </tr>\n",
       "    <tr>\n",
       "      <th>Mecanismo</th>\n",
       "      <td>1</td>\n",
       "      <td>2</td>\n",
       "      <td>2</td>\n",
       "      <td>1</td>\n",
       "      <td>1</td>\n",
       "    </tr>\n",
       "    <tr>\n",
       "      <th>NomeProjeto</th>\n",
       "      <td>São Paulo; O que foi, O que era e o que é</td>\n",
       "      <td>Festival BrasilNoar 2008 – 8° Festival Interna...</td>\n",
       "      <td>Festival BrasilNoar 2008 – 8° Festival Interna...</td>\n",
       "      <td>Exposição \" Eliseu Visconti - Retrospectiva\"</td>\n",
       "      <td>Príncipe Feliz (O)</td>\n",
       "    </tr>\n",
       "    <tr>\n",
       "      <th>Processo</th>\n",
       "      <td>015450009710821</td>\n",
       "      <td>014000064890849</td>\n",
       "      <td>014000064900873</td>\n",
       "      <td>014000062310842</td>\n",
       "      <td>015450009720875</td>\n",
       "    </tr>\n",
       "    <tr>\n",
       "      <th>CgcCpf</th>\n",
       "      <td>05562084000170</td>\n",
       "      <td>20090696840</td>\n",
       "      <td>04667853727</td>\n",
       "      <td>68573765000154</td>\n",
       "      <td>03482094000170</td>\n",
       "    </tr>\n",
       "    <tr>\n",
       "      <th>Situacao</th>\n",
       "      <td>E63</td>\n",
       "      <td>G43</td>\n",
       "      <td>K00</td>\n",
       "      <td>E25</td>\n",
       "      <td>E36</td>\n",
       "    </tr>\n",
       "    <tr>\n",
       "      <th>DtProtocolo</th>\n",
       "      <td>2008-09-12 00:00:00</td>\n",
       "      <td>2008-09-12 00:00:00</td>\n",
       "      <td>2008-09-12 00:00:00</td>\n",
       "      <td>2008-09-03 00:00:00</td>\n",
       "      <td>2008-09-12 00:00:00</td>\n",
       "    </tr>\n",
       "    <tr>\n",
       "      <th>DtAnalise</th>\n",
       "      <td>2008-09-12 00:00:00</td>\n",
       "      <td>2008-09-12 00:00:00</td>\n",
       "      <td>2008-09-12 00:00:00</td>\n",
       "      <td>2008-09-12 00:00:00</td>\n",
       "      <td>2008-09-12 00:00:00</td>\n",
       "    </tr>\n",
       "    <tr>\n",
       "      <th>Modalidade</th>\n",
       "      <td>NaN</td>\n",
       "      <td>02</td>\n",
       "      <td>02</td>\n",
       "      <td>NaN</td>\n",
       "      <td>NaN</td>\n",
       "    </tr>\n",
       "    <tr>\n",
       "      <th>OrgaoOrigem</th>\n",
       "      <td>230</td>\n",
       "      <td>254</td>\n",
       "      <td>254</td>\n",
       "      <td>260</td>\n",
       "      <td>230</td>\n",
       "    </tr>\n",
       "    <tr>\n",
       "      <th>Orgao</th>\n",
       "      <td>290</td>\n",
       "      <td>254</td>\n",
       "      <td>290</td>\n",
       "      <td>303</td>\n",
       "      <td>290</td>\n",
       "    </tr>\n",
       "    <tr>\n",
       "      <th>DtSaida</th>\n",
       "      <td>2008-10-28 00:00:00</td>\n",
       "      <td>NaN</td>\n",
       "      <td>NaN</td>\n",
       "      <td>2008-09-26 00:00:00</td>\n",
       "      <td>2008-10-09 00:00:00</td>\n",
       "    </tr>\n",
       "    <tr>\n",
       "      <th>DtRetorno</th>\n",
       "      <td>2009-10-14 00:00:00</td>\n",
       "      <td>NaN</td>\n",
       "      <td>NaN</td>\n",
       "      <td>2010-01-13 00:00:00</td>\n",
       "      <td>NaN</td>\n",
       "    </tr>\n",
       "    <tr>\n",
       "      <th>UnidadeAnalise</th>\n",
       "      <td>FBN</td>\n",
       "      <td></td>\n",
       "      <td></td>\n",
       "      <td>FUNARTE</td>\n",
       "      <td>FUNARTE</td>\n",
       "    </tr>\n",
       "    <tr>\n",
       "      <th>Analista</th>\n",
       "      <td>Giselle Mattos Galter</td>\n",
       "      <td>Regiane Santana Claudino</td>\n",
       "      <td>Regiane Santana Claudino</td>\n",
       "      <td>Emanuella Rodrigues dos Santos</td>\n",
       "      <td>Giselle Mattos Galter</td>\n",
       "    </tr>\n",
       "    <tr>\n",
       "      <th>DtSituacao</th>\n",
       "      <td>2011-10-25 15:52:33</td>\n",
       "      <td>2008-11-19 00:00:00</td>\n",
       "      <td>2008-10-14 00:00:00</td>\n",
       "      <td>2017-07-27 11:47:56</td>\n",
       "      <td>2010-12-06 13:19:12</td>\n",
       "    </tr>\n",
       "    <tr>\n",
       "      <th>ResumoProjeto</th>\n",
       "      <td>Realização de exposição e de oficinas/debates,...</td>\n",
       "      <td>Evento:\\r\\n\\r\\nO Festival BrasilNoar é um even...</td>\n",
       "      <td>Evento:\\r\\n\\r\\nO Festival BrasilNoar é um even...</td>\n",
       "      <td>Realizar a exposição \" Eliseu Visconti \"- Retr...</td>\n",
       "      <td>Montagem e circulação do espetáculo O Príncipe...</td>\n",
       "    </tr>\n",
       "    <tr>\n",
       "      <th>ProvidenciaTomada</th>\n",
       "      <td>Ofício n. 8438/2011 - CGAA/DIC/SEFIC/MINC - de...</td>\n",
       "      <td>Requerimento aguarda análise técnico financeir...</td>\n",
       "      <td>Solicitação indeferida em conformidade ao esta...</td>\n",
       "      <td>Acusamos recebimento de resposta à diligência,...</td>\n",
       "      <td>Ofício n° 7949/2010 de 30/11/2010. Projeto arq...</td>\n",
       "    </tr>\n",
       "    <tr>\n",
       "      <th>Localizacao</th>\n",
       "      <td></td>\n",
       "      <td></td>\n",
       "      <td></td>\n",
       "      <td></td>\n",
       "      <td></td>\n",
       "    </tr>\n",
       "    <tr>\n",
       "      <th>DtInicioExecucao</th>\n",
       "      <td>2010-01-01 00:00:00</td>\n",
       "      <td>NaN</td>\n",
       "      <td>NaN</td>\n",
       "      <td>NaN</td>\n",
       "      <td>NaN</td>\n",
       "    </tr>\n",
       "    <tr>\n",
       "      <th>DtFimExecucao</th>\n",
       "      <td>2010-12-31 00:00:00</td>\n",
       "      <td>NaN</td>\n",
       "      <td>NaN</td>\n",
       "      <td>NaN</td>\n",
       "      <td>NaN</td>\n",
       "    </tr>\n",
       "    <tr>\n",
       "      <th>SolicitadoUfir</th>\n",
       "      <td>842285</td>\n",
       "      <td>0</td>\n",
       "      <td>0</td>\n",
       "      <td>1.18642e+06</td>\n",
       "      <td>89870.1</td>\n",
       "    </tr>\n",
       "    <tr>\n",
       "      <th>SolicitadoReal</th>\n",
       "      <td>896276</td>\n",
       "      <td>0</td>\n",
       "      <td>0</td>\n",
       "      <td>1.26247e+06</td>\n",
       "      <td>95630.8</td>\n",
       "    </tr>\n",
       "    <tr>\n",
       "      <th>SolicitadoCusteioUfir</th>\n",
       "      <td>0</td>\n",
       "      <td>12000.8</td>\n",
       "      <td>8209.75</td>\n",
       "      <td>0</td>\n",
       "      <td>0</td>\n",
       "    </tr>\n",
       "    <tr>\n",
       "      <th>SolicitadoCusteioReal</th>\n",
       "      <td>0</td>\n",
       "      <td>12770</td>\n",
       "      <td>8736</td>\n",
       "      <td>0</td>\n",
       "      <td>0</td>\n",
       "    </tr>\n",
       "    <tr>\n",
       "      <th>SolicitadoCapitalUfir</th>\n",
       "      <td>0</td>\n",
       "      <td>0</td>\n",
       "      <td>0</td>\n",
       "      <td>0</td>\n",
       "      <td>0</td>\n",
       "    </tr>\n",
       "    <tr>\n",
       "      <th>SolicitadoCapitalReal</th>\n",
       "      <td>0</td>\n",
       "      <td>0</td>\n",
       "      <td>0</td>\n",
       "      <td>0</td>\n",
       "      <td>0</td>\n",
       "    </tr>\n",
       "    <tr>\n",
       "      <th>Logon</th>\n",
       "      <td>236</td>\n",
       "      <td>1721</td>\n",
       "      <td>2288</td>\n",
       "      <td>0</td>\n",
       "      <td>236</td>\n",
       "    </tr>\n",
       "    <tr>\n",
       "      <th>idProjeto</th>\n",
       "      <td>NaN</td>\n",
       "      <td>NaN</td>\n",
       "      <td>NaN</td>\n",
       "      <td>NaN</td>\n",
       "      <td>NaN</td>\n",
       "    </tr>\n",
       "  </tbody>\n",
       "</table>\n",
       "</div>"
      ],
      "text/plain": [
       "                                                                       0  \\\n",
       "PRONAC                                                            087079   \n",
       "IdPRONAC                                                               1   \n",
       "AnoProjeto                                                            08   \n",
       "Sequencial                                                          7079   \n",
       "UfProjeto                                                             SP   \n",
       "Area                                                                   7   \n",
       "Segmento                                                              71   \n",
       "Mecanismo                                                              1   \n",
       "NomeProjeto                    São Paulo; O que foi, O que era e o que é   \n",
       "Processo                                                 015450009710821   \n",
       "CgcCpf                                                    05562084000170   \n",
       "Situacao                                                             E63   \n",
       "DtProtocolo                                          2008-09-12 00:00:00   \n",
       "DtAnalise                                            2008-09-12 00:00:00   \n",
       "Modalidade                                                           NaN   \n",
       "OrgaoOrigem                                                          230   \n",
       "Orgao                                                                290   \n",
       "DtSaida                                              2008-10-28 00:00:00   \n",
       "DtRetorno                                            2009-10-14 00:00:00   \n",
       "UnidadeAnalise                                                       FBN   \n",
       "Analista                                           Giselle Mattos Galter   \n",
       "DtSituacao                                           2011-10-25 15:52:33   \n",
       "ResumoProjeto          Realização de exposição e de oficinas/debates,...   \n",
       "ProvidenciaTomada      Ofício n. 8438/2011 - CGAA/DIC/SEFIC/MINC - de...   \n",
       "Localizacao                                                                \n",
       "DtInicioExecucao                                     2010-01-01 00:00:00   \n",
       "DtFimExecucao                                        2010-12-31 00:00:00   \n",
       "SolicitadoUfir                                                    842285   \n",
       "SolicitadoReal                                                    896276   \n",
       "SolicitadoCusteioUfir                                                  0   \n",
       "SolicitadoCusteioReal                                                  0   \n",
       "SolicitadoCapitalUfir                                                  0   \n",
       "SolicitadoCapitalReal                                                  0   \n",
       "Logon                                                                236   \n",
       "idProjeto                                                            NaN   \n",
       "\n",
       "                                                                       1  \\\n",
       "PRONAC                                                            087080   \n",
       "IdPRONAC                                                               2   \n",
       "AnoProjeto                                                            08   \n",
       "Sequencial                                                          7080   \n",
       "UfProjeto                                                             SP   \n",
       "Area                                                                   3   \n",
       "Segmento                                                              31   \n",
       "Mecanismo                                                              2   \n",
       "NomeProjeto            Festival BrasilNoar 2008 – 8° Festival Interna...   \n",
       "Processo                                                 014000064890849   \n",
       "CgcCpf                                                       20090696840   \n",
       "Situacao                                                             G43   \n",
       "DtProtocolo                                          2008-09-12 00:00:00   \n",
       "DtAnalise                                            2008-09-12 00:00:00   \n",
       "Modalidade                                                            02   \n",
       "OrgaoOrigem                                                          254   \n",
       "Orgao                                                                254   \n",
       "DtSaida                                                              NaN   \n",
       "DtRetorno                                                            NaN   \n",
       "UnidadeAnalise                                                             \n",
       "Analista                                        Regiane Santana Claudino   \n",
       "DtSituacao                                           2008-11-19 00:00:00   \n",
       "ResumoProjeto          Evento:\\r\\n\\r\\nO Festival BrasilNoar é um even...   \n",
       "ProvidenciaTomada      Requerimento aguarda análise técnico financeir...   \n",
       "Localizacao                                                                \n",
       "DtInicioExecucao                                                     NaN   \n",
       "DtFimExecucao                                                        NaN   \n",
       "SolicitadoUfir                                                         0   \n",
       "SolicitadoReal                                                         0   \n",
       "SolicitadoCusteioUfir                                            12000.8   \n",
       "SolicitadoCusteioReal                                              12770   \n",
       "SolicitadoCapitalUfir                                                  0   \n",
       "SolicitadoCapitalReal                                                  0   \n",
       "Logon                                                               1721   \n",
       "idProjeto                                                            NaN   \n",
       "\n",
       "                                                                       2  \\\n",
       "PRONAC                                                            087081   \n",
       "IdPRONAC                                                               3   \n",
       "AnoProjeto                                                            08   \n",
       "Sequencial                                                          7081   \n",
       "UfProjeto                                                             ES   \n",
       "Area                                                                   3   \n",
       "Segmento                                                              31   \n",
       "Mecanismo                                                              2   \n",
       "NomeProjeto            Festival BrasilNoar 2008 – 8° Festival Interna...   \n",
       "Processo                                                 014000064900873   \n",
       "CgcCpf                                                       04667853727   \n",
       "Situacao                                                             K00   \n",
       "DtProtocolo                                          2008-09-12 00:00:00   \n",
       "DtAnalise                                            2008-09-12 00:00:00   \n",
       "Modalidade                                                            02   \n",
       "OrgaoOrigem                                                          254   \n",
       "Orgao                                                                290   \n",
       "DtSaida                                                              NaN   \n",
       "DtRetorno                                                            NaN   \n",
       "UnidadeAnalise                                                             \n",
       "Analista                                        Regiane Santana Claudino   \n",
       "DtSituacao                                           2008-10-14 00:00:00   \n",
       "ResumoProjeto          Evento:\\r\\n\\r\\nO Festival BrasilNoar é um even...   \n",
       "ProvidenciaTomada      Solicitação indeferida em conformidade ao esta...   \n",
       "Localizacao                                                                \n",
       "DtInicioExecucao                                                     NaN   \n",
       "DtFimExecucao                                                        NaN   \n",
       "SolicitadoUfir                                                         0   \n",
       "SolicitadoReal                                                         0   \n",
       "SolicitadoCusteioUfir                                            8209.75   \n",
       "SolicitadoCusteioReal                                               8736   \n",
       "SolicitadoCapitalUfir                                                  0   \n",
       "SolicitadoCapitalReal                                                  0   \n",
       "Logon                                                               2288   \n",
       "idProjeto                                                            NaN   \n",
       "\n",
       "                                                                       3  \\\n",
       "PRONAC                                                            087082   \n",
       "IdPRONAC                                                               4   \n",
       "AnoProjeto                                                            08   \n",
       "Sequencial                                                          7082   \n",
       "UfProjeto                                                             RJ   \n",
       "Area                                                                   4   \n",
       "Segmento                                                              47   \n",
       "Mecanismo                                                              1   \n",
       "NomeProjeto                 Exposição \" Eliseu Visconti - Retrospectiva\"   \n",
       "Processo                                                 014000062310842   \n",
       "CgcCpf                                                    68573765000154   \n",
       "Situacao                                                             E25   \n",
       "DtProtocolo                                          2008-09-03 00:00:00   \n",
       "DtAnalise                                            2008-09-12 00:00:00   \n",
       "Modalidade                                                           NaN   \n",
       "OrgaoOrigem                                                          260   \n",
       "Orgao                                                                303   \n",
       "DtSaida                                              2008-09-26 00:00:00   \n",
       "DtRetorno                                            2010-01-13 00:00:00   \n",
       "UnidadeAnalise                                                   FUNARTE   \n",
       "Analista                                  Emanuella Rodrigues dos Santos   \n",
       "DtSituacao                                           2017-07-27 11:47:56   \n",
       "ResumoProjeto          Realizar a exposição \" Eliseu Visconti \"- Retr...   \n",
       "ProvidenciaTomada      Acusamos recebimento de resposta à diligência,...   \n",
       "Localizacao                                                                \n",
       "DtInicioExecucao                                                     NaN   \n",
       "DtFimExecucao                                                        NaN   \n",
       "SolicitadoUfir                                               1.18642e+06   \n",
       "SolicitadoReal                                               1.26247e+06   \n",
       "SolicitadoCusteioUfir                                                  0   \n",
       "SolicitadoCusteioReal                                                  0   \n",
       "SolicitadoCapitalUfir                                                  0   \n",
       "SolicitadoCapitalReal                                                  0   \n",
       "Logon                                                                  0   \n",
       "idProjeto                                                            NaN   \n",
       "\n",
       "                                                                       4  \n",
       "PRONAC                                                            087083  \n",
       "IdPRONAC                                                               5  \n",
       "AnoProjeto                                                            08  \n",
       "Sequencial                                                          7083  \n",
       "UfProjeto                                                             SP  \n",
       "Area                                                                   1  \n",
       "Segmento                                                              11  \n",
       "Mecanismo                                                              1  \n",
       "NomeProjeto                                          Príncipe Feliz (O)   \n",
       "Processo                                                 015450009720875  \n",
       "CgcCpf                                                    03482094000170  \n",
       "Situacao                                                             E36  \n",
       "DtProtocolo                                          2008-09-12 00:00:00  \n",
       "DtAnalise                                            2008-09-12 00:00:00  \n",
       "Modalidade                                                           NaN  \n",
       "OrgaoOrigem                                                          230  \n",
       "Orgao                                                                290  \n",
       "DtSaida                                              2008-10-09 00:00:00  \n",
       "DtRetorno                                                            NaN  \n",
       "UnidadeAnalise                                                   FUNARTE  \n",
       "Analista                                           Giselle Mattos Galter  \n",
       "DtSituacao                                           2010-12-06 13:19:12  \n",
       "ResumoProjeto          Montagem e circulação do espetáculo O Príncipe...  \n",
       "ProvidenciaTomada      Ofício n° 7949/2010 de 30/11/2010. Projeto arq...  \n",
       "Localizacao                                                               \n",
       "DtInicioExecucao                                                     NaN  \n",
       "DtFimExecucao                                                        NaN  \n",
       "SolicitadoUfir                                                   89870.1  \n",
       "SolicitadoReal                                                   95630.8  \n",
       "SolicitadoCusteioUfir                                                  0  \n",
       "SolicitadoCusteioReal                                                  0  \n",
       "SolicitadoCapitalUfir                                                  0  \n",
       "SolicitadoCapitalReal                                                  0  \n",
       "Logon                                                                236  \n",
       "idProjeto                                                            NaN  "
      ]
     },
     "execution_count": 13,
     "metadata": {},
     "output_type": "execute_result"
    }
   ],
   "source": [
    "df.head().transpose()"
   ]
  },
  {
   "cell_type": "markdown",
   "metadata": {},
   "source": [
    "O segundo dataset explorado descreve os projetos culturais. Como mostrado acima, tal dataset conta com uma relação de mais de 210 mil projetos culturais e cada projeto tem 35 informações, como datas de íncio e fim de execução, ano, UF, identificador, situação e etc.\n",
    "\n",
    "A seguir, serão removidos projetos inconsistentes e os projetos que ainda não chegaram à fase de análise de resultados, pois, neste estudo, o intuito é analisar e detectar similaridade entre projetos já executados. Então, serão explorados os possíveis dados textuais desse dataset, como nome, resumo, segmento, órgão, área, UF e etc."
   ]
  },
  {
   "cell_type": "markdown",
   "metadata": {},
   "source": [
    "#### Remoção de projetos inconsistentes"
   ]
  },
  {
   "cell_type": "code",
   "execution_count": 14,
   "metadata": {},
   "outputs": [
    {
     "data": {
      "text/html": [
       "<div>\n",
       "<style scoped>\n",
       "    .dataframe tbody tr th:only-of-type {\n",
       "        vertical-align: middle;\n",
       "    }\n",
       "\n",
       "    .dataframe tbody tr th {\n",
       "        vertical-align: top;\n",
       "    }\n",
       "\n",
       "    .dataframe thead th {\n",
       "        text-align: right;\n",
       "    }\n",
       "</style>\n",
       "<table border=\"1\" class=\"dataframe\">\n",
       "  <thead>\n",
       "    <tr style=\"text-align: right;\">\n",
       "      <th></th>\n",
       "      <th>PRONAC</th>\n",
       "      <th>IdPRONAC</th>\n",
       "      <th>AnoProjeto</th>\n",
       "      <th>Sequencial</th>\n",
       "      <th>UfProjeto</th>\n",
       "      <th>Area</th>\n",
       "      <th>Segmento</th>\n",
       "      <th>Mecanismo</th>\n",
       "      <th>NomeProjeto</th>\n",
       "      <th>Processo</th>\n",
       "      <th>...</th>\n",
       "      <th>DtInicioExecucao</th>\n",
       "      <th>DtFimExecucao</th>\n",
       "      <th>SolicitadoUfir</th>\n",
       "      <th>SolicitadoReal</th>\n",
       "      <th>SolicitadoCusteioUfir</th>\n",
       "      <th>SolicitadoCusteioReal</th>\n",
       "      <th>SolicitadoCapitalUfir</th>\n",
       "      <th>SolicitadoCapitalReal</th>\n",
       "      <th>Logon</th>\n",
       "      <th>idProjeto</th>\n",
       "    </tr>\n",
       "  </thead>\n",
       "  <tbody>\n",
       "    <tr>\n",
       "      <th>105918</th>\n",
       "      <td>XXXXXX</td>\n",
       "      <td>105919</td>\n",
       "      <td>XX</td>\n",
       "      <td>XXXX</td>\n",
       "      <td>DF</td>\n",
       "      <td>1</td>\n",
       "      <td>11</td>\n",
       "      <td>1</td>\n",
       "      <td>Projeto especial</td>\n",
       "      <td>X</td>\n",
       "      <td>...</td>\n",
       "      <td>NaN</td>\n",
       "      <td>NaN</td>\n",
       "      <td>0.0</td>\n",
       "      <td>0.0</td>\n",
       "      <td>0.0</td>\n",
       "      <td>0.0</td>\n",
       "      <td>0.0</td>\n",
       "      <td>0.0</td>\n",
       "      <td>NaN</td>\n",
       "      <td>NaN</td>\n",
       "    </tr>\n",
       "  </tbody>\n",
       "</table>\n",
       "<p>1 rows × 35 columns</p>\n",
       "</div>"
      ],
      "text/plain": [
       "        PRONAC  IdPRONAC AnoProjeto Sequencial UfProjeto  Area Segmento  \\\n",
       "105918  XXXXXX    105919         XX       XXXX        DF     1       11   \n",
       "\n",
       "        Mecanismo       NomeProjeto         Processo    ...     \\\n",
       "105918          1  Projeto especial  X                  ...      \n",
       "\n",
       "       DtInicioExecucao DtFimExecucao SolicitadoUfir SolicitadoReal  \\\n",
       "105918              NaN           NaN            0.0            0.0   \n",
       "\n",
       "       SolicitadoCusteioUfir  SolicitadoCusteioReal  SolicitadoCapitalUfir  \\\n",
       "105918                   0.0                    0.0                    0.0   \n",
       "\n",
       "       SolicitadoCapitalReal Logon idProjeto  \n",
       "105918                   0.0   NaN       NaN  \n",
       "\n",
       "[1 rows x 35 columns]"
      ]
     },
     "execution_count": 14,
     "metadata": {},
     "output_type": "execute_result"
    }
   ],
   "source": [
    "inconsistent_pronacs = pd.to_numeric(df['PRONAC'], errors='coerce').isnull()\n",
    "df[ inconsistent_pronacs ]"
   ]
  },
  {
   "cell_type": "markdown",
   "metadata": {},
   "source": [
    "Antes de analisar as features textuais, analisou-se a coluna PRONAC (identificador único do projeto) e verificou-se a existência de um único PRONAC inválido (não numérico). Tal projeto será removido, pois é provavelmente um resquício do banco de dados de homologação e não tem informações válidas."
   ]
  },
  {
   "cell_type": "code",
   "execution_count": 15,
   "metadata": {},
   "outputs": [],
   "source": [
    "df = df[~inconsistent_pronacs]"
   ]
  },
  {
   "cell_type": "code",
   "execution_count": 16,
   "metadata": {},
   "outputs": [
    {
     "data": {
      "text/plain": [
       "count     210683\n",
       "unique    210683\n",
       "top       132172\n",
       "freq           1\n",
       "Name: PRONAC, dtype: object"
      ]
     },
     "execution_count": 16,
     "metadata": {},
     "output_type": "execute_result"
    }
   ],
   "source": [
    "df['PRONAC'].describe()"
   ]
  },
  {
   "cell_type": "markdown",
   "metadata": {},
   "source": [
    "#### Remoção de projetos ainda não executados\n",
    "\n",
    "O primeiro passo é a remoção de projetos sem data de fim de execução, então serão removidos os projetos com data de fim de execução após o ano de 2018 e, por fim, a coluna 'DtFimExecucao' será traduzida para o tipo 'datetime'."
   ]
  },
  {
   "cell_type": "code",
   "execution_count": 17,
   "metadata": {},
   "outputs": [
    {
     "data": {
      "text/plain": [
       "count                   76933\n",
       "unique                  13079\n",
       "top       2018-12-31 00:00:00\n",
       "freq                     4252\n",
       "Name: DtFimExecucao, dtype: object"
      ]
     },
     "execution_count": 17,
     "metadata": {},
     "output_type": "execute_result"
    }
   ],
   "source": [
    "df.dropna(subset=['DtFimExecucao'], inplace=True)\n",
    "df['DtFimExecucao'].describe()"
   ]
  },
  {
   "cell_type": "code",
   "execution_count": 18,
   "metadata": {},
   "outputs": [
    {
     "data": {
      "text/plain": [
       "count                   75237\n",
       "unique                  11500\n",
       "top       2018-12-31 00:00:00\n",
       "freq                     4252\n",
       "Name: DtFimExecucao, dtype: object"
      ]
     },
     "execution_count": 18,
     "metadata": {},
     "output_type": "execute_result"
    }
   ],
   "source": [
    "df = df[ df['DtFimExecucao'].apply(lambda x: int(x[0:4]) <= 2018) ]\n",
    "df['DtFimExecucao'].describe()"
   ]
  },
  {
   "cell_type": "code",
   "execution_count": 19,
   "metadata": {},
   "outputs": [
    {
     "data": {
      "text/plain": [
       "count                   75237\n",
       "unique                  11500\n",
       "top       2018-12-31 00:00:00\n",
       "freq                     4252\n",
       "first     1900-01-01 00:00:00\n",
       "last      2018-12-31 23:58:49\n",
       "Name: DtFimExecucao, dtype: object"
      ]
     },
     "execution_count": 19,
     "metadata": {},
     "output_type": "execute_result"
    }
   ],
   "source": [
    "df['DtFimExecucao'] = pd.to_datetime(df['DtFimExecucao'])\n",
    "df['DtFimExecucao'].describe()"
   ]
  },
  {
   "cell_type": "code",
   "execution_count": 20,
   "metadata": {},
   "outputs": [
    {
     "data": {
      "text/plain": [
       "count                   69578\n",
       "unique                  10265\n",
       "top       2013-12-31 00:00:00\n",
       "freq                     3673\n",
       "first     1900-01-01 00:00:00\n",
       "last      2018-09-30 23:47:43\n",
       "Name: DtFimExecucao, dtype: object"
      ]
     },
     "execution_count": 20,
     "metadata": {},
     "output_type": "execute_result"
    }
   ],
   "source": [
    "df = df[ df['DtFimExecucao'].apply(lambda x: x.year < 2018 or x.month < 10) ]\n",
    "df['DtFimExecucao'].describe()"
   ]
  },
  {
   "cell_type": "code",
   "execution_count": 21,
   "metadata": {},
   "outputs": [
    {
     "data": {
      "text/plain": [
       "count                   69569\n",
       "unique                  10259\n",
       "top       2013-12-31 00:00:00\n",
       "freq                     3673\n",
       "first     1994-09-15 00:00:00\n",
       "last      2018-09-30 23:47:43\n",
       "Name: DtFimExecucao, dtype: object"
      ]
     },
     "execution_count": 21,
     "metadata": {},
     "output_type": "execute_result"
    }
   ],
   "source": [
    "df = df[ df['DtFimExecucao'].apply(lambda x: x.year >= 1992) ]\n",
    "df['DtFimExecucao'].describe()"
   ]
  },
  {
   "cell_type": "markdown",
   "metadata": {},
   "source": [
    "#### Feature: UF dos projetos"
   ]
  },
  {
   "cell_type": "code",
   "execution_count": 22,
   "metadata": {},
   "outputs": [
    {
     "name": "stdout",
     "output_type": "stream",
     "text": [
      "27\n"
     ]
    },
    {
     "data": {
      "text/plain": [
       "SP    21088\n",
       "RJ    15267\n",
       "MG     7840\n",
       "RS     5169\n",
       "PR     4508\n",
       "SC     3034\n",
       "BA     2454\n",
       "DF     2082\n",
       "PE     1381\n",
       "CE     1359\n",
       "Name: UfProjeto, dtype: int64"
      ]
     },
     "execution_count": 22,
     "metadata": {},
     "output_type": "execute_result"
    }
   ],
   "source": [
    "serie = df['UfProjeto'].value_counts()\n",
    "print(len(serie))\n",
    "serie.head(10)"
   ]
  },
  {
   "cell_type": "markdown",
   "metadata": {},
   "source": [
    "#### Feature: nome dos projetos"
   ]
  },
  {
   "cell_type": "code",
   "execution_count": 23,
   "metadata": {
    "scrolled": false
   },
   "outputs": [
    {
     "name": "stdout",
     "output_type": "stream",
     "text": [
      "67122\n",
      "1587\n"
     ]
    },
    {
     "data": {
      "text/plain": [
       "Implantação de biblioteca pública       101\n",
       "Casa da Cultura                          58\n",
       "Modernização de Acervo Bibliográfico     46\n",
       "Implantaçào de Biblioteca Pública        46\n",
       "Bolsa Virtuose                           44\n",
       "CONSTRUÇÃO DE CENTRO CULTURAL            30\n",
       "Implantação de biblioteca pública.       26\n",
       "Implantação de Biblioteca Pública        23\n",
       "CASA DA CULTURA                          21\n",
       "Construção de Centro Cultural            16\n",
       "Name: NomeProjeto, dtype: int64"
      ]
     },
     "execution_count": 23,
     "metadata": {},
     "output_type": "execute_result"
    }
   ],
   "source": [
    "serie = df['NomeProjeto'].value_counts()\n",
    "print(len(serie))\n",
    "serie = serie[ serie > 1 ]\n",
    "print(len(serie))\n",
    "serie.head(10)"
   ]
  },
  {
   "cell_type": "markdown",
   "metadata": {},
   "source": [
    "Cerca de 3.5% dos projetos têm nomes que não são únicos, sendo \"Implantação de Biblioteca Pública\" o nome mais comum entre os projetos culturais.\n",
    "\n",
    "Abaixo é apresentada uma nuvem de palavras com as palavras e colocações (bigramas) mais frequentes nos nomes de projetos culturais. Em uma nuvem de palavras, quanto maiores as palavras, mais frequentes elas são."
   ]
  },
  {
   "cell_type": "code",
   "execution_count": 24,
   "metadata": {},
   "outputs": [
    {
     "data": {
      "image/png": "[encoded data removed]",
      "text/plain": [
       "<matplotlib.figure.Figure at 0x7f74066eceb8>"
      ]
     },
     "metadata": {},
     "output_type": "display_data"
    }
   ],
   "source": [
    "corpus = ' '.join(df['NomeProjeto'].astype('str').unique())\n",
    "\n",
    "img = WordCloud(\n",
    "    background_color='white',\n",
    "    stopwords=stopwords.words('portuguese'),\n",
    "    height=1000,\n",
    "    width=2000,\n",
    "    normalize_plurals=False\n",
    ").generate(corpus)\n",
    "\n",
    "plt.figure(figsize(16,8))\n",
    "plt.imshow(img)\n",
    "plt.axis('off');"
   ]
  },
  {
   "cell_type": "markdown",
   "metadata": {},
   "source": [
    "#### Feature: situação atual dos projetos"
   ]
  },
  {
   "cell_type": "code",
   "execution_count": 25,
   "metadata": {},
   "outputs": [
    {
     "name": "stdout",
     "output_type": "stream",
     "text": [
      "159\n"
     ]
    },
    {
     "data": {
      "text/plain": [
       "K00    13324\n",
       "E63    12637\n",
       "E24     8729\n",
       "E65     4755\n",
       "E19     3230\n",
       "E16     2946\n",
       "A17     2573\n",
       "E68     2441\n",
       "E36     2357\n",
       "A42     2050\n",
       "Name: Situacao, dtype: int64"
      ]
     },
     "execution_count": 25,
     "metadata": {},
     "output_type": "execute_result"
    }
   ],
   "source": [
    "serie = df['Situacao'].value_counts()\n",
    "print(len(serie))\n",
    "serie.head(10)"
   ]
  },
  {
   "cell_type": "markdown",
   "metadata": {},
   "source": [
    "#### Feature: unidade/local de análise dos projetos"
   ]
  },
  {
   "cell_type": "code",
   "execution_count": 26,
   "metadata": {},
   "outputs": [
    {
     "name": "stdout",
     "output_type": "stream",
     "text": [
      "36\n"
     ]
    },
    {
     "data": {
      "text/plain": [
       "               57630\n",
       "FUNARTE         3647\n",
       "SAC/Ad hoc      3314\n",
       "FBN             1491\n",
       "SDAV             821\n",
       "IPHAN            623\n",
       "SEXEC            316\n",
       "CAP              226\n",
       "FUNARTE/BSB      217\n",
       "COGMEC           168\n",
       "Name: UnidadeAnalise, dtype: int64"
      ]
     },
     "execution_count": 26,
     "metadata": {},
     "output_type": "execute_result"
    }
   ],
   "source": [
    "serie = df['UnidadeAnalise'].value_counts()\n",
    "print(len(serie))\n",
    "serie.head(10)"
   ]
  },
  {
   "cell_type": "markdown",
   "metadata": {},
   "source": [
    "#### Feature: analista responsável pelo projeto"
   ]
  },
  {
   "cell_type": "code",
   "execution_count": 27,
   "metadata": {},
   "outputs": [
    {
     "name": "stdout",
     "output_type": "stream",
     "text": [
      "447\n"
     ]
    },
    {
     "data": {
      "text/plain": [
       "                            50100\n",
       "Eunice Linhares Reis         2315\n",
       "Napoleão Alvarenga Filho     1534\n",
       "Napoleão                      882\n",
       "Edmo                          798\n",
       "Emília Gomes Fernandes        745\n",
       "Tânia Regina Boita            694\n",
       "Pablo Araújo Assunção         552\n",
       "Francisco Assis Coelho        552\n",
       "James                         442\n",
       "Name: Analista, dtype: int64"
      ]
     },
     "execution_count": 27,
     "metadata": {},
     "output_type": "execute_result"
    }
   ],
   "source": [
    "serie = df['Analista'].value_counts()\n",
    "print(len(serie))\n",
    "serie.head(10)"
   ]
  },
  {
   "cell_type": "markdown",
   "metadata": {},
   "source": [
    "#### Feature: resumo do projeto"
   ]
  },
  {
   "cell_type": "code",
   "execution_count": 28,
   "metadata": {
    "scrolled": false
   },
   "outputs": [
    {
     "name": "stdout",
     "output_type": "stream",
     "text": [
      "68680\n",
      "375\n"
     ]
    },
    {
     "data": {
      "text/plain": [
       "Acervo                                                                                                                                                    125\n",
       "Editar um livro                                                                                                                                            50\n",
       "Implantaçào de Biblioteca Pública                                                                                                                          35\n",
       "Projeto Aprovado em Concurso Roteiro/1999                                                                                                                  32\n",
       "Implantação de biblioteca pública                                                                                                                          29\n",
       "Implantação de biblioteca pública.                                                                                                                         27\n",
       "Construção de Centro Cultural                                                                                                                              26\n",
       "Projeto selecionado no Concurso de Apoio à Realização de Projetos Audivisuais Cinematográficos Inéditos de Curta Metragem, do gênero ficção e animação     18\n",
       "Construção de Centro Cultural.                                                                                                                             16\n",
       "Concurso de Apoio à Realização de Projetos de Obras Cinematográficas de Baixo Orçamento e de Telefilmes Inéditos                                           15\n",
       "Name: ResumoProjeto, dtype: int64"
      ]
     },
     "execution_count": 28,
     "metadata": {},
     "output_type": "execute_result"
    }
   ],
   "source": [
    "serie = df['ResumoProjeto'].value_counts()\n",
    "print(len(serie))\n",
    "serie = serie[ serie > 1 ]\n",
    "print(len(serie))\n",
    "serie.head(10)"
   ]
  },
  {
   "cell_type": "markdown",
   "metadata": {},
   "source": [
    "Alguns projetos têm resumos idênticos, cerca de 1.3% dos projetos têm resumos que não são únicos, sendo \"Acervo\" o resumo mais comum de projetos culturais, presente em 125 projetos distintos.\n",
    "\n",
    "Abaixo é apresentada uma nuvem de palavras com as palavras e colocações mais frequentes nos resumos de projetos culturais."
   ]
  },
  {
   "cell_type": "code",
   "execution_count": 29,
   "metadata": {},
   "outputs": [],
   "source": [
    "import html\n",
    "df['ResumoProjeto_utf-8'] = df['ResumoProjeto'].apply(lambda x: html.unescape(x))"
   ]
  },
  {
   "cell_type": "code",
   "execution_count": 30,
   "metadata": {},
   "outputs": [
    {
     "data": {
      "image/png": "[encoded data removed]",
      "text/plain": [
       "<matplotlib.figure.Figure at 0x7f7406e81978>"
      ]
     },
     "metadata": {},
     "output_type": "display_data"
    }
   ],
   "source": [
    "corpus = ' '.join(df['ResumoProjeto_utf-8'].astype('str').unique())\n",
    "\n",
    "img = WordCloud(\n",
    "    background_color='white',\n",
    "    stopwords=stopwords.words('portuguese'),\n",
    "    height=1000,\n",
    "    width=2000,\n",
    "    normalize_plurals=False\n",
    ").generate(corpus)\n",
    "\n",
    "plt.figure(figsize(16,8))\n",
    "plt.imshow(img)\n",
    "plt.axis('off');"
   ]
  },
  {
   "cell_type": "markdown",
   "metadata": {},
   "source": [
    "#### Feature: providência tomada"
   ]
  },
  {
   "cell_type": "code",
   "execution_count": 31,
   "metadata": {},
   "outputs": [
    {
     "name": "stdout",
     "output_type": "stream",
     "text": [
      "25251\n"
     ]
    },
    {
     "data": {
      "text/plain": [
       "Nada captou - projeto arquivado                                                                                                                                                                                                                                                                                                4625\n",
       "Projeto arquivado definitivamente, tendo  em vista encerramento do prazo de 24 meses sem captação.                                                                                                                                                                                                                             3455\n",
       "PRAZO DE CAPTAÇÃO DE RECURSOS ENCERRADO.                                                                                                                                                                                                                                                                                       2751\n",
       "Projeto ARQUIVADO, conforme solicitação do proponente constante nos autos.                                                                                                                                                                                                                                                     1681\n",
       "Impossibilidade de atendimento.                                                                                                                                                                                                                                                                                                 956\n",
       "Projeto arquivado em razão do descumprimento à diligência no prazo estabelecido no Art. 107 e Art. 108 da Instrução Normativa n° 01, de 24/06/2013. Para solicitação de desarquivamento, o proponente deverá observar o disposto no § 4º, § 5º e §6º do Art. 108 da citada Instrução.                                           768\n",
       "Comunicamos o arquivamento do projeto, tendo em vista que se encontra com prazo de captação total expirado desde 31/12/2011, conforme informação do SalicWeb nesta data, e o proponente não solicitou a prorrogação do período de captação conforme requisitos estabelecidos no Art. 55, inciso I e § 3º, da I.N nº 1/2012.     658\n",
       "PrestaÃ§Ã£o de Contas final apresentada, aguardando anÃ¡lise.                                                                                                                                                                                                                                                                   643\n",
       "Nada captou - Projeto arquivado                                                                                                                                                                                                                                                                                                 622\n",
       "Comunicamos o arquivamento do projeto, tendo em vista que completou 24 meses de aprovação em 31/12/2012, e não apresentou captação de recursos financeiros decorrente dos benefícios fiscais, conforme informações do SalicWeb nesta data. Tal decisão encontra amparado no art. 85 da I. N nº 1/2012.                          548\n",
       "Name: ProvidenciaTomada, dtype: int64"
      ]
     },
     "execution_count": 31,
     "metadata": {},
     "output_type": "execute_result"
    }
   ],
   "source": [
    "serie = df['ProvidenciaTomada'].value_counts()\n",
    "print(len(serie))\n",
    "serie.head(10)"
   ]
  },
  {
   "cell_type": "markdown",
   "metadata": {},
   "source": [
    "#### Feature: localização do projeto (entre os órgãos do governo)"
   ]
  },
  {
   "cell_type": "code",
   "execution_count": 32,
   "metadata": {},
   "outputs": [
    {
     "name": "stdout",
     "output_type": "stream",
     "text": [
      "4201\n"
     ]
    },
    {
     "data": {
      "text/plain": [
       "                 58353\n",
       "DCA               1038\n",
       "SAV/CEP            721\n",
       "SPOA/DCA           582\n",
       "SSD                358\n",
       "SEFIC/CGAA         335\n",
       "DCA/SPOA           235\n",
       "ARQUIVO GERAL      196\n",
       "SSD/SPOA           180\n",
       "SSD/ARQUIVO        131\n",
       "Name: Localizacao, dtype: int64"
      ]
     },
     "execution_count": 32,
     "metadata": {},
     "output_type": "execute_result"
    }
   ],
   "source": [
    "serie = df['Localizacao'].value_counts()\n",
    "print(len(serie))\n",
    "serie.head(10)"
   ]
  },
  {
   "cell_type": "markdown",
   "metadata": {},
   "source": [
    "Na análise das features textuais acima, foi possível identificar diversas características de projetos culturais, como:\n",
    "\n",
    "1. Todos os PRONACs são de fato únicos e númericos;\n",
    "1. Mais da metade dos projetos são iniciativas da região sudeste, sendo São Paulo o estado com a maior quantidade de projetos culturais;\n",
    "1. Muitos projetos têm nomes repetidos e as palavras Brasil, Projeto e Arte estão entre as mais utilizadas nos nomes de projetos;\n",
    "1. Mais da metade dos projetos estão em uma das quatro situações: K00, E63, E24 ou E65. Sendo K00 a situação na qual mais projetos se encontram;\n",
    "1. 81% dos projetos não estão vinculados a nenhuma unidade de análise, do restante, a unidade que mais têm projetos vinculados é a FUNARTE;\n",
    "1. Mais de 70% dos projetos não estão vinculados a nenhum analista. O restante está distribuído entre 446 analistas, contudo, parte desses analistas são fictícios, com nomes como \"q\", \"xx\", \"VAL\", \"Não Consta\" e etc;\n",
    "1. Alguns projeto têm também resumos repetidos. Dentre as palavras mais utilizadas em resumos estão nomes de capitais de estados brasileiros;\n",
    "1. A principals providência tomada, no conjunto de projetos cuja data de execução já finalizou, é a de arquivar o projeto por falta de captação, contudo, várias providências podem ser tomadas ao longo de um projeto, a apresentada deve ser apenas a última providência tomada no projeto;\n",
    "1. Quase 85% dos projetos não tem localização definida, tornando essa feature não muito útil. Do restante, as localizações mais frequentes são: DCA, SAV/CEP, SPOA/DCA, SSD e SEFIC/CGAA.\n",
    "\n",
    "Além disso, após a remoção de projetos ainda não finalizados ou sem data de finalização definida, o número de projetos caiu de 210 mil para 70 mil."
   ]
  },
  {
   "cell_type": "markdown",
   "metadata": {},
   "source": [
    "---\n",
    "## Desenvolvimento\n",
    "\n",
    "Nesta seção, serão apresentadas diversas estratégias para ranquear os projetos mais similares a um projeto cultural específico."
   ]
  },
  {
   "cell_type": "markdown",
   "metadata": {},
   "source": [
    "### Primeiro modelo: bag-of-words dos nomes dos projetos sem tratamento\n",
    "\n",
    "O primeiro modelo de identificação de projetos similares vai levar em consideração apenas o nome dos projetos, ou seja, dado um PRONAC específico, será gerado um rank dos projetos com os nomes mais parecidos com aquele.\n",
    "\n",
    "Será utilizada a técnica de BOW (_Bag of Words_), criando-se um vetor de frequências das palavras, onde as palavras mais frequentes serão selecionadas como features. Por fim, será criado, treinado e testado o modelo de detecção de similaridade, utilizando o algoritmo KNN (_K Nearest Neighbors_)."
   ]
  },
  {
   "cell_type": "markdown",
   "metadata": {},
   "source": [
    "#### Extração do nome dos projetos"
   ]
  },
  {
   "cell_type": "code",
   "execution_count": 33,
   "metadata": {},
   "outputs": [
    {
     "data": {
      "text/html": [
       "<div>\n",
       "<style scoped>\n",
       "    .dataframe tbody tr th:only-of-type {\n",
       "        vertical-align: middle;\n",
       "    }\n",
       "\n",
       "    .dataframe tbody tr th {\n",
       "        vertical-align: top;\n",
       "    }\n",
       "\n",
       "    .dataframe thead th {\n",
       "        text-align: right;\n",
       "    }\n",
       "</style>\n",
       "<table border=\"1\" class=\"dataframe\">\n",
       "  <thead>\n",
       "    <tr style=\"text-align: right;\">\n",
       "      <th></th>\n",
       "      <th>name</th>\n",
       "    </tr>\n",
       "    <tr>\n",
       "      <th>id</th>\n",
       "      <th></th>\n",
       "    </tr>\n",
       "  </thead>\n",
       "  <tbody>\n",
       "    <tr>\n",
       "      <th>087079</th>\n",
       "      <td>São Paulo; O que foi, O que era e o que é</td>\n",
       "    </tr>\n",
       "    <tr>\n",
       "      <th>087088</th>\n",
       "      <td>Espaço Cultural FGV</td>\n",
       "    </tr>\n",
       "    <tr>\n",
       "      <th>087413</th>\n",
       "      <td>Revitalização do Teatro Redenção</td>\n",
       "    </tr>\n",
       "    <tr>\n",
       "      <th>087262</th>\n",
       "      <td>Cinema Itinerante   Continuação</td>\n",
       "    </tr>\n",
       "    <tr>\n",
       "      <th>029740</th>\n",
       "      <td>Brasil Passado a Sujo</td>\n",
       "    </tr>\n",
       "  </tbody>\n",
       "</table>\n",
       "</div>"
      ],
      "text/plain": [
       "                                             name\n",
       "id                                               \n",
       "087079  São Paulo; O que foi, O que era e o que é\n",
       "087088                        Espaço Cultural FGV\n",
       "087413           Revitalização do Teatro Redenção\n",
       "087262            Cinema Itinerante   Continuação\n",
       "029740                      Brasil Passado a Sujo"
      ]
     },
     "execution_count": 33,
     "metadata": {},
     "output_type": "execute_result"
    }
   ],
   "source": [
    "projects = df[['PRONAC', 'NomeProjeto']].copy()\n",
    "projects.rename(inplace=True, columns={\n",
    "    'NomeProjeto': 'name',\n",
    "    'PRONAC': 'id'\n",
    "})\n",
    "projects.set_index('id', inplace=True)\n",
    "projects['name'] = projects['name'].astype('str')\n",
    "projects.head()"
   ]
  },
  {
   "cell_type": "markdown",
   "metadata": {},
   "source": [
    "#### Criação da \"Bag of Words\""
   ]
  },
  {
   "cell_type": "code",
   "execution_count": 34,
   "metadata": {},
   "outputs": [
    {
     "data": {
      "text/plain": [
       "array([[0, 0, 0, ..., 0, 0, 0],\n",
       "       [0, 0, 0, ..., 0, 0, 0],\n",
       "       [0, 0, 0, ..., 0, 0, 0],\n",
       "       ...,\n",
       "       [0, 0, 0, ..., 0, 0, 0],\n",
       "       [0, 0, 0, ..., 0, 0, 0],\n",
       "       [0, 0, 0, ..., 0, 0, 0]], dtype=int64)"
      ]
     },
     "execution_count": 34,
     "metadata": {},
     "output_type": "execute_result"
    }
   ],
   "source": [
    "data = projects['name'].values\n",
    "matrix = CountVectorizer(max_features=1000)\n",
    "X = matrix.fit_transform(data).toarray()\n",
    "X"
   ]
  },
  {
   "cell_type": "markdown",
   "metadata": {},
   "source": [
    "#### Utilizando o algoritmo KNN para encontrar os projetos mais similares a um projeto específico"
   ]
  },
  {
   "cell_type": "code",
   "execution_count": 35,
   "metadata": {},
   "outputs": [],
   "source": [
    "pronacs = projects.index.values\n",
    "def neighbors(pronac, n_neighbors=10):\n",
    "    i = 0\n",
    "    while pronacs[i] != pronac:\n",
    "        i += 1\n",
    "        if i == len(pronacs):\n",
    "            raise ValueError('PRONAC \"{}\" not found.'.format(pronac))\n",
    "    \n",
    "    print('Projeto base:')\n",
    "    display(df.iloc[i:i+1][['PRONAC', 'NomeProjeto']])\n",
    "    \n",
    "    print()\n",
    "    print('Top projetos similares:')\n",
    "    nbrs_bf = NearestNeighbors(n_neighbors=n_neighbors, algorithm='brute', metric='euclidean').fit(X)\n",
    "    d, indices = nbrs_bf.kneighbors([X[i]])\n",
    "    display(df.iloc[indices[0]][['PRONAC', 'NomeProjeto']])"
   ]
  },
  {
   "cell_type": "markdown",
   "metadata": {},
   "source": [
    "#### Testando o detector de similaridade"
   ]
  },
  {
   "cell_type": "code",
   "execution_count": 36,
   "metadata": {},
   "outputs": [
    {
     "name": "stdout",
     "output_type": "stream",
     "text": [
      "Projeto base:\n"
     ]
    },
    {
     "data": {
      "text/html": [
       "<div>\n",
       "<style scoped>\n",
       "    .dataframe tbody tr th:only-of-type {\n",
       "        vertical-align: middle;\n",
       "    }\n",
       "\n",
       "    .dataframe tbody tr th {\n",
       "        vertical-align: top;\n",
       "    }\n",
       "\n",
       "    .dataframe thead th {\n",
       "        text-align: right;\n",
       "    }\n",
       "</style>\n",
       "<table border=\"1\" class=\"dataframe\">\n",
       "  <thead>\n",
       "    <tr style=\"text-align: right;\">\n",
       "      <th></th>\n",
       "      <th>PRONAC</th>\n",
       "      <th>NomeProjeto</th>\n",
       "    </tr>\n",
       "  </thead>\n",
       "  <tbody>\n",
       "    <tr>\n",
       "      <th>156065</th>\n",
       "      <td>128276</td>\n",
       "      <td>Santander Cultural - 2013 - Plano Anual de Ati...</td>\n",
       "    </tr>\n",
       "  </tbody>\n",
       "</table>\n",
       "</div>"
      ],
      "text/plain": [
       "        PRONAC                                        NomeProjeto\n",
       "156065  128276  Santander Cultural - 2013 - Plano Anual de Ati..."
      ]
     },
     "metadata": {},
     "output_type": "display_data"
    },
    {
     "name": "stdout",
     "output_type": "stream",
     "text": [
      "\n",
      "Top projetos similares:\n"
     ]
    },
    {
     "data": {
      "text/html": [
       "<div>\n",
       "<style scoped>\n",
       "    .dataframe tbody tr th:only-of-type {\n",
       "        vertical-align: middle;\n",
       "    }\n",
       "\n",
       "    .dataframe tbody tr th {\n",
       "        vertical-align: top;\n",
       "    }\n",
       "\n",
       "    .dataframe thead th {\n",
       "        text-align: right;\n",
       "    }\n",
       "</style>\n",
       "<table border=\"1\" class=\"dataframe\">\n",
       "  <thead>\n",
       "    <tr style=\"text-align: right;\">\n",
       "      <th></th>\n",
       "      <th>PRONAC</th>\n",
       "      <th>NomeProjeto</th>\n",
       "    </tr>\n",
       "  </thead>\n",
       "  <tbody>\n",
       "    <tr>\n",
       "      <th>156065</th>\n",
       "      <td>128276</td>\n",
       "      <td>Santander Cultural - 2013 - Plano Anual de Ati...</td>\n",
       "    </tr>\n",
       "    <tr>\n",
       "      <th>156102</th>\n",
       "      <td>128313</td>\n",
       "      <td>Plano Anual de Atividades 2013 - Itaú Cultural</td>\n",
       "    </tr>\n",
       "    <tr>\n",
       "      <th>154625</th>\n",
       "      <td>126836</td>\n",
       "      <td>Plano Anual de Atividades Osesp 2013</td>\n",
       "    </tr>\n",
       "    <tr>\n",
       "      <th>156959</th>\n",
       "      <td>129170</td>\n",
       "      <td>Plano Anual de Atividades 2013</td>\n",
       "    </tr>\n",
       "    <tr>\n",
       "      <th>155881</th>\n",
       "      <td>128092</td>\n",
       "      <td>Plano Anual de Atividades 2013</td>\n",
       "    </tr>\n",
       "    <tr>\n",
       "      <th>156223</th>\n",
       "      <td>128434</td>\n",
       "      <td>Plano Anual de Atividades Poiesis 2013</td>\n",
       "    </tr>\n",
       "    <tr>\n",
       "      <th>156105</th>\n",
       "      <td>128316</td>\n",
       "      <td>Plano Anual de Atividades 2013</td>\n",
       "    </tr>\n",
       "    <tr>\n",
       "      <th>155143</th>\n",
       "      <td>127354</td>\n",
       "      <td>Plano Anual de Atividades 2013</td>\n",
       "    </tr>\n",
       "    <tr>\n",
       "      <th>156336</th>\n",
       "      <td>128547</td>\n",
       "      <td>Plano Anual de atividades Videobrasil (2013)</td>\n",
       "    </tr>\n",
       "    <tr>\n",
       "      <th>155858</th>\n",
       "      <td>128069</td>\n",
       "      <td>Plano Anual de Atividades 2013 - Fundação Cult...</td>\n",
       "    </tr>\n",
       "  </tbody>\n",
       "</table>\n",
       "</div>"
      ],
      "text/plain": [
       "        PRONAC                                        NomeProjeto\n",
       "156065  128276  Santander Cultural - 2013 - Plano Anual de Ati...\n",
       "156102  128313     Plano Anual de Atividades 2013 - Itaú Cultural\n",
       "154625  126836               Plano Anual de Atividades Osesp 2013\n",
       "156959  129170                     Plano Anual de Atividades 2013\n",
       "155881  128092                     Plano Anual de Atividades 2013\n",
       "156223  128434             Plano Anual de Atividades Poiesis 2013\n",
       "156105  128316                     Plano Anual de Atividades 2013\n",
       "155143  127354                     Plano Anual de Atividades 2013\n",
       "156336  128547       Plano Anual de atividades Videobrasil (2013)\n",
       "155858  128069  Plano Anual de Atividades 2013 - Fundação Cult..."
      ]
     },
     "metadata": {},
     "output_type": "display_data"
    }
   ],
   "source": [
    "neighbors('128276')"
   ]
  },
  {
   "cell_type": "code",
   "execution_count": 37,
   "metadata": {},
   "outputs": [
    {
     "name": "stdout",
     "output_type": "stream",
     "text": [
      "Projeto base:\n"
     ]
    },
    {
     "data": {
      "text/html": [
       "<div>\n",
       "<style scoped>\n",
       "    .dataframe tbody tr th:only-of-type {\n",
       "        vertical-align: middle;\n",
       "    }\n",
       "\n",
       "    .dataframe tbody tr th {\n",
       "        vertical-align: top;\n",
       "    }\n",
       "\n",
       "    .dataframe thead th {\n",
       "        text-align: right;\n",
       "    }\n",
       "</style>\n",
       "<table border=\"1\" class=\"dataframe\">\n",
       "  <thead>\n",
       "    <tr style=\"text-align: right;\">\n",
       "      <th></th>\n",
       "      <th>PRONAC</th>\n",
       "      <th>NomeProjeto</th>\n",
       "    </tr>\n",
       "  </thead>\n",
       "  <tbody>\n",
       "    <tr>\n",
       "      <th>0</th>\n",
       "      <td>087079</td>\n",
       "      <td>São Paulo; O que foi, O que era e o que é</td>\n",
       "    </tr>\n",
       "  </tbody>\n",
       "</table>\n",
       "</div>"
      ],
      "text/plain": [
       "   PRONAC                                NomeProjeto\n",
       "0  087079  São Paulo; O que foi, O que era e o que é"
      ]
     },
     "metadata": {},
     "output_type": "display_data"
    },
    {
     "name": "stdout",
     "output_type": "stream",
     "text": [
      "\n",
      "Top projetos similares:\n"
     ]
    },
    {
     "data": {
      "text/html": [
       "<div>\n",
       "<style scoped>\n",
       "    .dataframe tbody tr th:only-of-type {\n",
       "        vertical-align: middle;\n",
       "    }\n",
       "\n",
       "    .dataframe tbody tr th {\n",
       "        vertical-align: top;\n",
       "    }\n",
       "\n",
       "    .dataframe thead th {\n",
       "        text-align: right;\n",
       "    }\n",
       "</style>\n",
       "<table border=\"1\" class=\"dataframe\">\n",
       "  <thead>\n",
       "    <tr style=\"text-align: right;\">\n",
       "      <th></th>\n",
       "      <th>PRONAC</th>\n",
       "      <th>NomeProjeto</th>\n",
       "    </tr>\n",
       "  </thead>\n",
       "  <tbody>\n",
       "    <tr>\n",
       "      <th>0</th>\n",
       "      <td>087079</td>\n",
       "      <td>São Paulo; O que foi, O que era e o que é</td>\n",
       "    </tr>\n",
       "    <tr>\n",
       "      <th>178333</th>\n",
       "      <td>148617</td>\n",
       "      <td>O que seria que fosse?</td>\n",
       "    </tr>\n",
       "    <tr>\n",
       "      <th>134432</th>\n",
       "      <td>111595</td>\n",
       "      <td>O que será que virá?</td>\n",
       "    </tr>\n",
       "    <tr>\n",
       "      <th>11140</th>\n",
       "      <td>014727</td>\n",
       "      <td>Jean Que Ri &amp; Jean Que Chora</td>\n",
       "    </tr>\n",
       "    <tr>\n",
       "      <th>197677</th>\n",
       "      <td>162254</td>\n",
       "      <td>Documentários que informam, documentos que formam</td>\n",
       "    </tr>\n",
       "    <tr>\n",
       "      <th>132885</th>\n",
       "      <td>110048</td>\n",
       "      <td>Pet e Refri  Que maravilha que é o Mar</td>\n",
       "    </tr>\n",
       "    <tr>\n",
       "      <th>115582</th>\n",
       "      <td>094494</td>\n",
       "      <td>O MUNDO QUE VEMOS E QUE VIVEMOS</td>\n",
       "    </tr>\n",
       "    <tr>\n",
       "      <th>162702</th>\n",
       "      <td>134539</td>\n",
       "      <td>O que você gostaria que ficasse</td>\n",
       "    </tr>\n",
       "    <tr>\n",
       "      <th>16713</th>\n",
       "      <td>021231</td>\n",
       "      <td>Agora é que São Elas</td>\n",
       "    </tr>\n",
       "    <tr>\n",
       "      <th>161717</th>\n",
       "      <td>133554</td>\n",
       "      <td>POR QUE SERÁ QUE AS AMAMOS TANTO?</td>\n",
       "    </tr>\n",
       "  </tbody>\n",
       "</table>\n",
       "</div>"
      ],
      "text/plain": [
       "        PRONAC                                        NomeProjeto\n",
       "0       087079          São Paulo; O que foi, O que era e o que é\n",
       "178333  148617                             O que seria que fosse?\n",
       "134432  111595                               O que será que virá?\n",
       "11140   014727                       Jean Que Ri & Jean Que Chora\n",
       "197677  162254  Documentários que informam, documentos que formam\n",
       "132885  110048             Pet e Refri  Que maravilha que é o Mar\n",
       "115582  094494                    O MUNDO QUE VEMOS E QUE VIVEMOS\n",
       "162702  134539                    O que você gostaria que ficasse\n",
       "16713   021231                               Agora é que São Elas\n",
       "161717  133554                  POR QUE SERÁ QUE AS AMAMOS TANTO?"
      ]
     },
     "metadata": {},
     "output_type": "display_data"
    }
   ],
   "source": [
    "neighbors('087079')"
   ]
  },
  {
   "cell_type": "markdown",
   "metadata": {},
   "source": [
    "### Segundo modelo: bag-of-words dos nomes dos projetos com pré-processamento de dados\n",
    "\n",
    "O segundo modelo de identificação de projetos similares também vai levar em consideração apenas o nome dos projetos, ou seja, dado um PRONAC específico, será gerado um rank dos projetos com os nomes mais parecidos com aquele.\n",
    "\n",
    "Para começar, serão extraídos apenas o identificador (PRONAC) e o nome dos projetos culturais. Em seguida, serão realizadas as seguintes etapas de pré-processamento:\n",
    "\n",
    "1. Remoção de caracteres não alfanuméricos;\n",
    "1. Passagem de todos os nomes para minúsculos;\n",
    "1. Identificação de colocações (bigramas);\n",
    "1. Segmentação dos nomes (tokenize);\n",
    "1. Remoção de palavras vazias (stopwords);\n",
    "1. Redução das palavras flexionadas à sua base ou raiz (stemming).\n",
    "\n",
    "Após todas as etapas de pré-processamento, será utilizada a técnica de \"Bag of Words\" da mesma forma que o primeiro modelo."
   ]
  },
  {
   "cell_type": "markdown",
   "metadata": {},
   "source": [
    "#### Extração do nome dos projetos"
   ]
  },
  {
   "cell_type": "code",
   "execution_count": 38,
   "metadata": {},
   "outputs": [
    {
     "data": {
      "text/html": [
       "<div>\n",
       "<style scoped>\n",
       "    .dataframe tbody tr th:only-of-type {\n",
       "        vertical-align: middle;\n",
       "    }\n",
       "\n",
       "    .dataframe tbody tr th {\n",
       "        vertical-align: top;\n",
       "    }\n",
       "\n",
       "    .dataframe thead th {\n",
       "        text-align: right;\n",
       "    }\n",
       "</style>\n",
       "<table border=\"1\" class=\"dataframe\">\n",
       "  <thead>\n",
       "    <tr style=\"text-align: right;\">\n",
       "      <th></th>\n",
       "      <th>name</th>\n",
       "    </tr>\n",
       "    <tr>\n",
       "      <th>id</th>\n",
       "      <th></th>\n",
       "    </tr>\n",
       "  </thead>\n",
       "  <tbody>\n",
       "    <tr>\n",
       "      <th>087079</th>\n",
       "      <td>São Paulo; O que foi, O que era e o que é</td>\n",
       "    </tr>\n",
       "    <tr>\n",
       "      <th>087088</th>\n",
       "      <td>Espaço Cultural FGV</td>\n",
       "    </tr>\n",
       "    <tr>\n",
       "      <th>087413</th>\n",
       "      <td>Revitalização do Teatro Redenção</td>\n",
       "    </tr>\n",
       "    <tr>\n",
       "      <th>087262</th>\n",
       "      <td>Cinema Itinerante   Continuação</td>\n",
       "    </tr>\n",
       "    <tr>\n",
       "      <th>029740</th>\n",
       "      <td>Brasil Passado a Sujo</td>\n",
       "    </tr>\n",
       "  </tbody>\n",
       "</table>\n",
       "</div>"
      ],
      "text/plain": [
       "                                             name\n",
       "id                                               \n",
       "087079  São Paulo; O que foi, O que era e o que é\n",
       "087088                        Espaço Cultural FGV\n",
       "087413           Revitalização do Teatro Redenção\n",
       "087262            Cinema Itinerante   Continuação\n",
       "029740                      Brasil Passado a Sujo"
      ]
     },
     "execution_count": 38,
     "metadata": {},
     "output_type": "execute_result"
    }
   ],
   "source": [
    "projects = df[['PRONAC', 'NomeProjeto']].copy()\n",
    "projects.rename(inplace=True, columns={\n",
    "    'NomeProjeto': 'name',\n",
    "    'PRONAC': 'id'\n",
    "})\n",
    "projects.set_index('id', inplace=True)\n",
    "projects['name'] = projects['name'].astype('str')\n",
    "projects.head()"
   ]
  },
  {
   "cell_type": "markdown",
   "metadata": {},
   "source": [
    "#### Remoção de caracteres não-alfanuméricos"
   ]
  },
  {
   "cell_type": "code",
   "execution_count": 39,
   "metadata": {},
   "outputs": [
    {
     "data": {
      "text/html": [
       "<div>\n",
       "<style scoped>\n",
       "    .dataframe tbody tr th:only-of-type {\n",
       "        vertical-align: middle;\n",
       "    }\n",
       "\n",
       "    .dataframe tbody tr th {\n",
       "        vertical-align: top;\n",
       "    }\n",
       "\n",
       "    .dataframe thead th {\n",
       "        text-align: right;\n",
       "    }\n",
       "</style>\n",
       "<table border=\"1\" class=\"dataframe\">\n",
       "  <thead>\n",
       "    <tr style=\"text-align: right;\">\n",
       "      <th></th>\n",
       "      <th>name</th>\n",
       "    </tr>\n",
       "    <tr>\n",
       "      <th>id</th>\n",
       "      <th></th>\n",
       "    </tr>\n",
       "  </thead>\n",
       "  <tbody>\n",
       "    <tr>\n",
       "      <th>087079</th>\n",
       "      <td>São Paulo  O que foi  O que era e o que é</td>\n",
       "    </tr>\n",
       "    <tr>\n",
       "      <th>087088</th>\n",
       "      <td>Espaço Cultural FGV</td>\n",
       "    </tr>\n",
       "    <tr>\n",
       "      <th>087413</th>\n",
       "      <td>Revitalização do Teatro Redenção</td>\n",
       "    </tr>\n",
       "    <tr>\n",
       "      <th>087262</th>\n",
       "      <td>Cinema Itinerante   Continuação</td>\n",
       "    </tr>\n",
       "    <tr>\n",
       "      <th>029740</th>\n",
       "      <td>Brasil Passado a Sujo</td>\n",
       "    </tr>\n",
       "  </tbody>\n",
       "</table>\n",
       "</div>"
      ],
      "text/plain": [
       "                                             name\n",
       "id                                               \n",
       "087079  São Paulo  O que foi  O que era e o que é\n",
       "087088                        Espaço Cultural FGV\n",
       "087413           Revitalização do Teatro Redenção\n",
       "087262            Cinema Itinerante   Continuação\n",
       "029740                      Brasil Passado a Sujo"
      ]
     },
     "execution_count": 39,
     "metadata": {},
     "output_type": "execute_result"
    }
   ],
   "source": [
    "rm_special_chars = lambda x: re.sub('[^\\w]', ' ', x)\n",
    "\n",
    "projects['name'] = projects['name'].apply(rm_special_chars)\n",
    "projects.head()"
   ]
  },
  {
   "cell_type": "markdown",
   "metadata": {},
   "source": [
    "#### Tranformação de todos os caracteres para minúsculo"
   ]
  },
  {
   "cell_type": "code",
   "execution_count": 40,
   "metadata": {},
   "outputs": [
    {
     "data": {
      "text/html": [
       "<div>\n",
       "<style scoped>\n",
       "    .dataframe tbody tr th:only-of-type {\n",
       "        vertical-align: middle;\n",
       "    }\n",
       "\n",
       "    .dataframe tbody tr th {\n",
       "        vertical-align: top;\n",
       "    }\n",
       "\n",
       "    .dataframe thead th {\n",
       "        text-align: right;\n",
       "    }\n",
       "</style>\n",
       "<table border=\"1\" class=\"dataframe\">\n",
       "  <thead>\n",
       "    <tr style=\"text-align: right;\">\n",
       "      <th></th>\n",
       "      <th>name</th>\n",
       "    </tr>\n",
       "    <tr>\n",
       "      <th>id</th>\n",
       "      <th></th>\n",
       "    </tr>\n",
       "  </thead>\n",
       "  <tbody>\n",
       "    <tr>\n",
       "      <th>087079</th>\n",
       "      <td>são paulo  o que foi  o que era e o que é</td>\n",
       "    </tr>\n",
       "    <tr>\n",
       "      <th>087088</th>\n",
       "      <td>espaço cultural fgv</td>\n",
       "    </tr>\n",
       "    <tr>\n",
       "      <th>087413</th>\n",
       "      <td>revitalização do teatro redenção</td>\n",
       "    </tr>\n",
       "    <tr>\n",
       "      <th>087262</th>\n",
       "      <td>cinema itinerante   continuação</td>\n",
       "    </tr>\n",
       "    <tr>\n",
       "      <th>029740</th>\n",
       "      <td>brasil passado a sujo</td>\n",
       "    </tr>\n",
       "  </tbody>\n",
       "</table>\n",
       "</div>"
      ],
      "text/plain": [
       "                                             name\n",
       "id                                               \n",
       "087079  são paulo  o que foi  o que era e o que é\n",
       "087088                        espaço cultural fgv\n",
       "087413           revitalização do teatro redenção\n",
       "087262            cinema itinerante   continuação\n",
       "029740                      brasil passado a sujo"
      ]
     },
     "execution_count": 40,
     "metadata": {},
     "output_type": "execute_result"
    }
   ],
   "source": [
    "to_lower = lambda x: x.lower()\n",
    "\n",
    "projects['name'] = projects['name'].apply(to_lower)\n",
    "projects.head()"
   ]
  },
  {
   "cell_type": "markdown",
   "metadata": {},
   "source": [
    "#### Identificação de colocações\n",
    "\n",
    "Antes de realizar a segmentação do texto, encontrou-se as colocações mais comuns. Desta forma, ao segmentar o texto, colocações muito comuns são tratadas como uma única palavra."
   ]
  },
  {
   "cell_type": "code",
   "execution_count": 41,
   "metadata": {},
   "outputs": [
    {
     "data": {
      "text/plain": [
       "[('plano', 'anual'),\n",
       " ('festival', 'internacional'),\n",
       " ('são', 'paulo'),\n",
       " ('rio', 'janeiro'),\n",
       " ('gravação', 'cd'),\n",
       " ('passagem', 'aérea'),\n",
       " ('impl', 'bibl'),\n",
       " ('bibl', 'pm'),\n",
       " ('centro', 'cultural'),\n",
       " ('anual', 'atividades')]"
      ]
     },
     "execution_count": 41,
     "metadata": {},
     "output_type": "execute_result"
    }
   ],
   "source": [
    "def get_collocations(serie, n_collocations=500):\n",
    "    x = ' '.join(serie.values).split()\n",
    "\n",
    "    stop_words = stopwords.words('portuguese')\n",
    "    bigrams = nltk.bigrams([w for w in x if  w == 'são' or w not in stop_words])\n",
    "\n",
    "    collocations = nltk.FreqDist(bigrams).most_common(n_collocations)\n",
    "    return list(map(lambda x: x[0], collocations))\n",
    "\n",
    "collocations = get_collocations(projects['name'])\n",
    "collocations[:10]"
   ]
  },
  {
   "cell_type": "markdown",
   "metadata": {},
   "source": [
    "#### Segmentação dos nomes"
   ]
  },
  {
   "cell_type": "code",
   "execution_count": 42,
   "metadata": {},
   "outputs": [
    {
     "data": {
      "text/html": [
       "<div>\n",
       "<style scoped>\n",
       "    .dataframe tbody tr th:only-of-type {\n",
       "        vertical-align: middle;\n",
       "    }\n",
       "\n",
       "    .dataframe tbody tr th {\n",
       "        vertical-align: top;\n",
       "    }\n",
       "\n",
       "    .dataframe thead th {\n",
       "        text-align: right;\n",
       "    }\n",
       "</style>\n",
       "<table border=\"1\" class=\"dataframe\">\n",
       "  <thead>\n",
       "    <tr style=\"text-align: right;\">\n",
       "      <th></th>\n",
       "      <th>name</th>\n",
       "    </tr>\n",
       "    <tr>\n",
       "      <th>id</th>\n",
       "      <th></th>\n",
       "    </tr>\n",
       "  </thead>\n",
       "  <tbody>\n",
       "    <tr>\n",
       "      <th>087079</th>\n",
       "      <td>[são_paulo, o, que, foi, o, que, era, e, o, qu...</td>\n",
       "    </tr>\n",
       "    <tr>\n",
       "      <th>087088</th>\n",
       "      <td>[espaço_cultural, fgv]</td>\n",
       "    </tr>\n",
       "    <tr>\n",
       "      <th>087413</th>\n",
       "      <td>[revitalização, do, teatro, redenção]</td>\n",
       "    </tr>\n",
       "    <tr>\n",
       "      <th>087262</th>\n",
       "      <td>[cinema_itinerante, continuação]</td>\n",
       "    </tr>\n",
       "    <tr>\n",
       "      <th>029740</th>\n",
       "      <td>[brasil, passado, a, sujo]</td>\n",
       "    </tr>\n",
       "  </tbody>\n",
       "</table>\n",
       "</div>"
      ],
      "text/plain": [
       "                                                     name\n",
       "id                                                       \n",
       "087079  [são_paulo, o, que, foi, o, que, era, e, o, qu...\n",
       "087088                             [espaço_cultural, fgv]\n",
       "087413              [revitalização, do, teatro, redenção]\n",
       "087262                   [cinema_itinerante, continuação]\n",
       "029740                         [brasil, passado, a, sujo]"
      ]
     },
     "execution_count": 42,
     "metadata": {},
     "output_type": "execute_result"
    }
   ],
   "source": [
    "def tokenize(x):\n",
    "    words = x.split()\n",
    "    tokens = []\n",
    "    \n",
    "    is_token = False\n",
    "    for i in range(len(words)):\n",
    "        if is_token:\n",
    "            is_token = False\n",
    "        elif i+1 == len(words):\n",
    "            tokens.append(words[i])\n",
    "        elif (words[i], words[i+1]) in collocations:\n",
    "            tokens.append('{}_{}'.format(words[i], words[i+1]))\n",
    "            is_token = True\n",
    "        elif words[i] != 'são':\n",
    "            tokens.append(words[i])\n",
    "    \n",
    "    return tokens\n",
    "\n",
    "projects['name'] = projects['name'].apply(tokenize)\n",
    "projects.head()"
   ]
  },
  {
   "cell_type": "markdown",
   "metadata": {},
   "source": [
    "#### Remoção de palavras vazias"
   ]
  },
  {
   "cell_type": "code",
   "execution_count": 43,
   "metadata": {},
   "outputs": [
    {
     "data": {
      "text/html": [
       "<div>\n",
       "<style scoped>\n",
       "    .dataframe tbody tr th:only-of-type {\n",
       "        vertical-align: middle;\n",
       "    }\n",
       "\n",
       "    .dataframe tbody tr th {\n",
       "        vertical-align: top;\n",
       "    }\n",
       "\n",
       "    .dataframe thead th {\n",
       "        text-align: right;\n",
       "    }\n",
       "</style>\n",
       "<table border=\"1\" class=\"dataframe\">\n",
       "  <thead>\n",
       "    <tr style=\"text-align: right;\">\n",
       "      <th></th>\n",
       "      <th>name</th>\n",
       "    </tr>\n",
       "    <tr>\n",
       "      <th>id</th>\n",
       "      <th></th>\n",
       "    </tr>\n",
       "  </thead>\n",
       "  <tbody>\n",
       "    <tr>\n",
       "      <th>087079</th>\n",
       "      <td>[são_paulo, é]</td>\n",
       "    </tr>\n",
       "    <tr>\n",
       "      <th>087088</th>\n",
       "      <td>[espaço_cultural, fgv]</td>\n",
       "    </tr>\n",
       "    <tr>\n",
       "      <th>087413</th>\n",
       "      <td>[revitalização, teatro, redenção]</td>\n",
       "    </tr>\n",
       "    <tr>\n",
       "      <th>087262</th>\n",
       "      <td>[cinema_itinerante, continuação]</td>\n",
       "    </tr>\n",
       "    <tr>\n",
       "      <th>029740</th>\n",
       "      <td>[brasil, passado, sujo]</td>\n",
       "    </tr>\n",
       "  </tbody>\n",
       "</table>\n",
       "</div>"
      ],
      "text/plain": [
       "                                     name\n",
       "id                                       \n",
       "087079                     [são_paulo, é]\n",
       "087088             [espaço_cultural, fgv]\n",
       "087413  [revitalização, teatro, redenção]\n",
       "087262   [cinema_itinerante, continuação]\n",
       "029740            [brasil, passado, sujo]"
      ]
     },
     "execution_count": 43,
     "metadata": {},
     "output_type": "execute_result"
    }
   ],
   "source": [
    "stop_words = stopwords.words('portuguese')\n",
    "rm_stopwords = lambda x: [w for w in x if w not in stop_words]\n",
    "\n",
    "projects['name'] = projects['name'].apply(rm_stopwords)\n",
    "projects.head()"
   ]
  },
  {
   "cell_type": "markdown",
   "metadata": {},
   "source": [
    "#### Redução de palavras flexionadas"
   ]
  },
  {
   "cell_type": "code",
   "execution_count": 44,
   "metadata": {},
   "outputs": [
    {
     "data": {
      "text/html": [
       "<div>\n",
       "<style scoped>\n",
       "    .dataframe tbody tr th:only-of-type {\n",
       "        vertical-align: middle;\n",
       "    }\n",
       "\n",
       "    .dataframe tbody tr th {\n",
       "        vertical-align: top;\n",
       "    }\n",
       "\n",
       "    .dataframe thead th {\n",
       "        text-align: right;\n",
       "    }\n",
       "</style>\n",
       "<table border=\"1\" class=\"dataframe\">\n",
       "  <thead>\n",
       "    <tr style=\"text-align: right;\">\n",
       "      <th></th>\n",
       "      <th>name</th>\n",
       "    </tr>\n",
       "    <tr>\n",
       "      <th>id</th>\n",
       "      <th></th>\n",
       "    </tr>\n",
       "  </thead>\n",
       "  <tbody>\n",
       "    <tr>\n",
       "      <th>087079</th>\n",
       "      <td>[são_paul, é]</td>\n",
       "    </tr>\n",
       "    <tr>\n",
       "      <th>087088</th>\n",
       "      <td>[espaço_cult, fgv]</td>\n",
       "    </tr>\n",
       "    <tr>\n",
       "      <th>087413</th>\n",
       "      <td>[revit, teatr, redenç]</td>\n",
       "    </tr>\n",
       "    <tr>\n",
       "      <th>087262</th>\n",
       "      <td>[cinema_itiner, continu]</td>\n",
       "    </tr>\n",
       "    <tr>\n",
       "      <th>029740</th>\n",
       "      <td>[brasil, pass, suj]</td>\n",
       "    </tr>\n",
       "  </tbody>\n",
       "</table>\n",
       "</div>"
      ],
      "text/plain": [
       "                            name\n",
       "id                              \n",
       "087079             [são_paul, é]\n",
       "087088        [espaço_cult, fgv]\n",
       "087413    [revit, teatr, redenç]\n",
       "087262  [cinema_itiner, continu]\n",
       "029740       [brasil, pass, suj]"
      ]
     },
     "execution_count": 44,
     "metadata": {},
     "output_type": "execute_result"
    }
   ],
   "source": [
    "stemmer = RSLPStemmer()\n",
    "stem = lambda x: [stemmer.stem(w) for w in x]\n",
    "\n",
    "projects['name'] = projects['name'].apply(stem)\n",
    "projects.head()"
   ]
  },
  {
   "cell_type": "markdown",
   "metadata": {},
   "source": [
    "#### Criação da \"Bag of Words\""
   ]
  },
  {
   "cell_type": "code",
   "execution_count": 45,
   "metadata": {},
   "outputs": [
    {
     "data": {
      "text/plain": [
       "array([[0, 0, 0, ..., 0, 0, 0],\n",
       "       [0, 0, 0, ..., 0, 0, 0],\n",
       "       [0, 0, 0, ..., 0, 0, 0],\n",
       "       ...,\n",
       "       [0, 0, 0, ..., 0, 0, 0],\n",
       "       [0, 0, 0, ..., 0, 0, 0],\n",
       "       [0, 0, 0, ..., 0, 0, 0]], dtype=int64)"
      ]
     },
     "execution_count": 45,
     "metadata": {},
     "output_type": "execute_result"
    }
   ],
   "source": [
    "data = projects['name'].apply(lambda x: ' '.join(x)).values\n",
    "matrix = CountVectorizer(max_features=1000)\n",
    "X = matrix.fit_transform(data).toarray()\n",
    "X"
   ]
  },
  {
   "cell_type": "markdown",
   "metadata": {},
   "source": [
    "#### Testando o detector de similaridade"
   ]
  },
  {
   "cell_type": "code",
   "execution_count": 46,
   "metadata": {},
   "outputs": [
    {
     "name": "stdout",
     "output_type": "stream",
     "text": [
      "Projeto base:\n"
     ]
    },
    {
     "data": {
      "text/html": [
       "<div>\n",
       "<style scoped>\n",
       "    .dataframe tbody tr th:only-of-type {\n",
       "        vertical-align: middle;\n",
       "    }\n",
       "\n",
       "    .dataframe tbody tr th {\n",
       "        vertical-align: top;\n",
       "    }\n",
       "\n",
       "    .dataframe thead th {\n",
       "        text-align: right;\n",
       "    }\n",
       "</style>\n",
       "<table border=\"1\" class=\"dataframe\">\n",
       "  <thead>\n",
       "    <tr style=\"text-align: right;\">\n",
       "      <th></th>\n",
       "      <th>PRONAC</th>\n",
       "      <th>NomeProjeto</th>\n",
       "    </tr>\n",
       "  </thead>\n",
       "  <tbody>\n",
       "    <tr>\n",
       "      <th>156065</th>\n",
       "      <td>128276</td>\n",
       "      <td>Santander Cultural - 2013 - Plano Anual de Ati...</td>\n",
       "    </tr>\n",
       "  </tbody>\n",
       "</table>\n",
       "</div>"
      ],
      "text/plain": [
       "        PRONAC                                        NomeProjeto\n",
       "156065  128276  Santander Cultural - 2013 - Plano Anual de Ati..."
      ]
     },
     "metadata": {},
     "output_type": "display_data"
    },
    {
     "name": "stdout",
     "output_type": "stream",
     "text": [
      "\n",
      "Top projetos similares:\n"
     ]
    },
    {
     "data": {
      "text/html": [
       "<div>\n",
       "<style scoped>\n",
       "    .dataframe tbody tr th:only-of-type {\n",
       "        vertical-align: middle;\n",
       "    }\n",
       "\n",
       "    .dataframe tbody tr th {\n",
       "        vertical-align: top;\n",
       "    }\n",
       "\n",
       "    .dataframe thead th {\n",
       "        text-align: right;\n",
       "    }\n",
       "</style>\n",
       "<table border=\"1\" class=\"dataframe\">\n",
       "  <thead>\n",
       "    <tr style=\"text-align: right;\">\n",
       "      <th></th>\n",
       "      <th>PRONAC</th>\n",
       "      <th>NomeProjeto</th>\n",
       "    </tr>\n",
       "  </thead>\n",
       "  <tbody>\n",
       "    <tr>\n",
       "      <th>155915</th>\n",
       "      <td>128126</td>\n",
       "      <td>Plano Anual de Atividades Cultura 2013</td>\n",
       "    </tr>\n",
       "    <tr>\n",
       "      <th>156065</th>\n",
       "      <td>128276</td>\n",
       "      <td>Santander Cultural - 2013 - Plano Anual de Ati...</td>\n",
       "    </tr>\n",
       "    <tr>\n",
       "      <th>156102</th>\n",
       "      <td>128313</td>\n",
       "      <td>Plano Anual de Atividades 2013 - Itaú Cultural</td>\n",
       "    </tr>\n",
       "    <tr>\n",
       "      <th>156223</th>\n",
       "      <td>128434</td>\n",
       "      <td>Plano Anual de Atividades Poiesis 2013</td>\n",
       "    </tr>\n",
       "    <tr>\n",
       "      <th>120054</th>\n",
       "      <td>100077</td>\n",
       "      <td>Plano Anual de Atividades Cultura 2010-2011</td>\n",
       "    </tr>\n",
       "    <tr>\n",
       "      <th>154625</th>\n",
       "      <td>126836</td>\n",
       "      <td>Plano Anual de Atividades Osesp 2013</td>\n",
       "    </tr>\n",
       "    <tr>\n",
       "      <th>155652</th>\n",
       "      <td>127863</td>\n",
       "      <td>Plano Anual de Atividades Santa Marcelina Cult...</td>\n",
       "    </tr>\n",
       "    <tr>\n",
       "      <th>155143</th>\n",
       "      <td>127354</td>\n",
       "      <td>Plano Anual de Atividades 2013</td>\n",
       "    </tr>\n",
       "    <tr>\n",
       "      <th>156959</th>\n",
       "      <td>129170</td>\n",
       "      <td>Plano Anual de Atividades 2013</td>\n",
       "    </tr>\n",
       "    <tr>\n",
       "      <th>155881</th>\n",
       "      <td>128092</td>\n",
       "      <td>Plano Anual de Atividades 2013</td>\n",
       "    </tr>\n",
       "  </tbody>\n",
       "</table>\n",
       "</div>"
      ],
      "text/plain": [
       "        PRONAC                                        NomeProjeto\n",
       "155915  128126             Plano Anual de Atividades Cultura 2013\n",
       "156065  128276  Santander Cultural - 2013 - Plano Anual de Ati...\n",
       "156102  128313     Plano Anual de Atividades 2013 - Itaú Cultural\n",
       "156223  128434             Plano Anual de Atividades Poiesis 2013\n",
       "120054  100077        Plano Anual de Atividades Cultura 2010-2011\n",
       "154625  126836               Plano Anual de Atividades Osesp 2013\n",
       "155652  127863  Plano Anual de Atividades Santa Marcelina Cult...\n",
       "155143  127354                     Plano Anual de Atividades 2013\n",
       "156959  129170                     Plano Anual de Atividades 2013\n",
       "155881  128092                     Plano Anual de Atividades 2013"
      ]
     },
     "metadata": {},
     "output_type": "display_data"
    }
   ],
   "source": [
    "neighbors('128276')"
   ]
  },
  {
   "cell_type": "code",
   "execution_count": 47,
   "metadata": {},
   "outputs": [
    {
     "name": "stdout",
     "output_type": "stream",
     "text": [
      "Projeto base:\n"
     ]
    },
    {
     "data": {
      "text/html": [
       "<div>\n",
       "<style scoped>\n",
       "    .dataframe tbody tr th:only-of-type {\n",
       "        vertical-align: middle;\n",
       "    }\n",
       "\n",
       "    .dataframe tbody tr th {\n",
       "        vertical-align: top;\n",
       "    }\n",
       "\n",
       "    .dataframe thead th {\n",
       "        text-align: right;\n",
       "    }\n",
       "</style>\n",
       "<table border=\"1\" class=\"dataframe\">\n",
       "  <thead>\n",
       "    <tr style=\"text-align: right;\">\n",
       "      <th></th>\n",
       "      <th>PRONAC</th>\n",
       "      <th>NomeProjeto</th>\n",
       "    </tr>\n",
       "  </thead>\n",
       "  <tbody>\n",
       "    <tr>\n",
       "      <th>0</th>\n",
       "      <td>087079</td>\n",
       "      <td>São Paulo; O que foi, O que era e o que é</td>\n",
       "    </tr>\n",
       "  </tbody>\n",
       "</table>\n",
       "</div>"
      ],
      "text/plain": [
       "   PRONAC                                NomeProjeto\n",
       "0  087079  São Paulo; O que foi, O que era e o que é"
      ]
     },
     "metadata": {},
     "output_type": "display_data"
    },
    {
     "name": "stdout",
     "output_type": "stream",
     "text": [
      "\n",
      "Top projetos similares:\n"
     ]
    },
    {
     "data": {
      "text/html": [
       "<div>\n",
       "<style scoped>\n",
       "    .dataframe tbody tr th:only-of-type {\n",
       "        vertical-align: middle;\n",
       "    }\n",
       "\n",
       "    .dataframe tbody tr th {\n",
       "        vertical-align: top;\n",
       "    }\n",
       "\n",
       "    .dataframe thead th {\n",
       "        text-align: right;\n",
       "    }\n",
       "</style>\n",
       "<table border=\"1\" class=\"dataframe\">\n",
       "  <thead>\n",
       "    <tr style=\"text-align: right;\">\n",
       "      <th></th>\n",
       "      <th>PRONAC</th>\n",
       "      <th>NomeProjeto</th>\n",
       "    </tr>\n",
       "  </thead>\n",
       "  <tbody>\n",
       "    <tr>\n",
       "      <th>158547</th>\n",
       "      <td>130384</td>\n",
       "      <td>Guri de uruguaiana em São Paulo</td>\n",
       "    </tr>\n",
       "    <tr>\n",
       "      <th>155775</th>\n",
       "      <td>127986</td>\n",
       "      <td>Idea City São Paulo</td>\n",
       "    </tr>\n",
       "    <tr>\n",
       "      <th>186496</th>\n",
       "      <td>152350</td>\n",
       "      <td>Colecão São Paulo</td>\n",
       "    </tr>\n",
       "    <tr>\n",
       "      <th>158172</th>\n",
       "      <td>130009</td>\n",
       "      <td>Projeções Espetaculares Centro Histórico de Sã...</td>\n",
       "    </tr>\n",
       "    <tr>\n",
       "      <th>158608</th>\n",
       "      <td>130445</td>\n",
       "      <td>São Paulo - O que você enxerga, mas não vê.</td>\n",
       "    </tr>\n",
       "    <tr>\n",
       "      <th>142655</th>\n",
       "      <td>119825</td>\n",
       "      <td>SÃO PAULO - MOSTRA ARTE</td>\n",
       "    </tr>\n",
       "    <tr>\n",
       "      <th>113406</th>\n",
       "      <td>092318</td>\n",
       "      <td>IMPROVÁVEL EM SÃO PAULO</td>\n",
       "    </tr>\n",
       "    <tr>\n",
       "      <th>197514</th>\n",
       "      <td>162091</td>\n",
       "      <td>São Paulo Vertical</td>\n",
       "    </tr>\n",
       "    <tr>\n",
       "      <th>38638</th>\n",
       "      <td>046993</td>\n",
       "      <td>Bondes de São Paulo</td>\n",
       "    </tr>\n",
       "    <tr>\n",
       "      <th>112434</th>\n",
       "      <td>091346</td>\n",
       "      <td>ABOUT US - SÃO PAULO</td>\n",
       "    </tr>\n",
       "  </tbody>\n",
       "</table>\n",
       "</div>"
      ],
      "text/plain": [
       "        PRONAC                                        NomeProjeto\n",
       "158547  130384                    Guri de uruguaiana em São Paulo\n",
       "155775  127986                                Idea City São Paulo\n",
       "186496  152350                                  Colecão São Paulo\n",
       "158172  130009  Projeções Espetaculares Centro Histórico de Sã...\n",
       "158608  130445        São Paulo - O que você enxerga, mas não vê.\n",
       "142655  119825                            SÃO PAULO - MOSTRA ARTE\n",
       "113406  092318                            IMPROVÁVEL EM SÃO PAULO\n",
       "197514  162091                                 São Paulo Vertical\n",
       "38638   046993                                Bondes de São Paulo\n",
       "112434  091346                               ABOUT US - SÃO PAULO"
      ]
     },
     "metadata": {},
     "output_type": "display_data"
    }
   ],
   "source": [
    "neighbors('087079')"
   ]
  },
  {
   "cell_type": "markdown",
   "metadata": {},
   "source": [
    "### Terceiro modelo: bag-of-words dos nomes e resumos dos projetos\n",
    "\n",
    "O terceiro modelo de identificação de projetos similares vai levar em consideração o nome e o resumo de cada projeto. Após as etapas de pré-processamento, será utilizada a técnica de \"Bag of Words\" da mesma forma que os primeiro e segundo modelos."
   ]
  },
  {
   "cell_type": "markdown",
   "metadata": {},
   "source": [
    "#### Extração do nome e resumo dos projetos"
   ]
  },
  {
   "cell_type": "code",
   "execution_count": 48,
   "metadata": {},
   "outputs": [
    {
     "data": {
      "text/html": [
       "<div>\n",
       "<style scoped>\n",
       "    .dataframe tbody tr th:only-of-type {\n",
       "        vertical-align: middle;\n",
       "    }\n",
       "\n",
       "    .dataframe tbody tr th {\n",
       "        vertical-align: top;\n",
       "    }\n",
       "\n",
       "    .dataframe thead th {\n",
       "        text-align: right;\n",
       "    }\n",
       "</style>\n",
       "<table border=\"1\" class=\"dataframe\">\n",
       "  <thead>\n",
       "    <tr style=\"text-align: right;\">\n",
       "      <th></th>\n",
       "      <th>name</th>\n",
       "      <th>abstract</th>\n",
       "    </tr>\n",
       "    <tr>\n",
       "      <th>id</th>\n",
       "      <th></th>\n",
       "      <th></th>\n",
       "    </tr>\n",
       "  </thead>\n",
       "  <tbody>\n",
       "    <tr>\n",
       "      <th>087079</th>\n",
       "      <td>São Paulo; O que foi, O que era e o que é</td>\n",
       "      <td>Realização de exposição e de oficinas/debates,...</td>\n",
       "    </tr>\n",
       "    <tr>\n",
       "      <th>087088</th>\n",
       "      <td>Espaço Cultural FGV</td>\n",
       "      <td>Visa instalar um espaço cultural, afim de adeq...</td>\n",
       "    </tr>\n",
       "    <tr>\n",
       "      <th>087413</th>\n",
       "      <td>Revitalização do Teatro Redenção</td>\n",
       "      <td>Executar as obras de restauração e adaptação p...</td>\n",
       "    </tr>\n",
       "    <tr>\n",
       "      <th>087262</th>\n",
       "      <td>Cinema Itinerante   Continuação</td>\n",
       "      <td>Realização de exibição itinerante de filmes br...</td>\n",
       "    </tr>\n",
       "    <tr>\n",
       "      <th>029740</th>\n",
       "      <td>Brasil Passado a Sujo</td>\n",
       "      <td>Realizar na Praça do Espaço Cultural dos Corre...</td>\n",
       "    </tr>\n",
       "  </tbody>\n",
       "</table>\n",
       "</div>"
      ],
      "text/plain": [
       "                                             name  \\\n",
       "id                                                  \n",
       "087079  São Paulo; O que foi, O que era e o que é   \n",
       "087088                        Espaço Cultural FGV   \n",
       "087413           Revitalização do Teatro Redenção   \n",
       "087262            Cinema Itinerante   Continuação   \n",
       "029740                      Brasil Passado a Sujo   \n",
       "\n",
       "                                                 abstract  \n",
       "id                                                         \n",
       "087079  Realização de exposição e de oficinas/debates,...  \n",
       "087088  Visa instalar um espaço cultural, afim de adeq...  \n",
       "087413  Executar as obras de restauração e adaptação p...  \n",
       "087262  Realização de exibição itinerante de filmes br...  \n",
       "029740  Realizar na Praça do Espaço Cultural dos Corre...  "
      ]
     },
     "execution_count": 48,
     "metadata": {},
     "output_type": "execute_result"
    }
   ],
   "source": [
    "projects = df[['PRONAC', 'NomeProjeto', 'ResumoProjeto']].copy()\n",
    "projects.rename(inplace=True, columns={\n",
    "    'PRONAC': 'id',\n",
    "    'NomeProjeto': 'name',\n",
    "    'ResumoProjeto': 'abstract'\n",
    "})\n",
    "projects.set_index('id', inplace=True)\n",
    "projects['name'] = projects['name'].astype('str')\n",
    "projects['abstract'] = projects['abstract'].astype('str')\n",
    "projects.head()"
   ]
  },
  {
   "cell_type": "markdown",
   "metadata": {},
   "source": [
    "#### Criação da \"Bag of Words\""
   ]
  },
  {
   "cell_type": "code",
   "execution_count": 49,
   "metadata": {},
   "outputs": [
    {
     "name": "stdout",
     "output_type": "stream",
     "text": [
      "(69569, 1000)\n"
     ]
    },
    {
     "data": {
      "text/plain": [
       "array([[0, 0, 0, ..., 0, 0, 0],\n",
       "       [0, 0, 0, ..., 0, 1, 0],\n",
       "       [0, 0, 0, ..., 0, 0, 0],\n",
       "       ...,\n",
       "       [0, 0, 0, ..., 0, 0, 0],\n",
       "       [0, 0, 0, ..., 0, 0, 0],\n",
       "       [0, 0, 0, ..., 0, 0, 0]], dtype=int64)"
      ]
     },
     "execution_count": 49,
     "metadata": {},
     "output_type": "execute_result"
    }
   ],
   "source": [
    "data = projects['name'].values\n",
    "matrix_name = CountVectorizer(max_features=500)\n",
    "X_name = matrix_name.fit_transform(data).toarray()\n",
    "\n",
    "data = projects['abstract'].values\n",
    "matrix_abstract = CountVectorizer(max_features=500)\n",
    "X_abstract = matrix_abstract.fit_transform(data).toarray()\n",
    "\n",
    "X = np.hstack([X_name, X_abstract])\n",
    "print(X.shape)\n",
    "X"
   ]
  },
  {
   "cell_type": "markdown",
   "metadata": {},
   "source": [
    "#### Utilizando o algoritmo KNN para encontrar os projetos mais similares a um projeto específico"
   ]
  },
  {
   "cell_type": "code",
   "execution_count": 50,
   "metadata": {},
   "outputs": [],
   "source": [
    "pronacs = projects.index.values\n",
    "def neighbors(pronac, n_neighbors=10):\n",
    "    i = 0\n",
    "    while pronacs[i] != pronac:\n",
    "        i += 1\n",
    "        if i == len(pronacs):\n",
    "            raise ValueError('PRONAC \"{}\" not found.'.format(pronac))\n",
    "    \n",
    "    print('Projeto base:')\n",
    "    display(df.iloc[i:i+1][['PRONAC', 'NomeProjeto', 'ResumoProjeto']])\n",
    "    \n",
    "    print()\n",
    "    print('Top projetos similares:')\n",
    "    nbrs_bf = NearestNeighbors(n_neighbors=n_neighbors, algorithm='brute', metric='euclidean').fit(X)\n",
    "    d, indices = nbrs_bf.kneighbors([X[i]])\n",
    "    display(df.iloc[indices[0]][['PRONAC', 'NomeProjeto', 'ResumoProjeto']])"
   ]
  },
  {
   "cell_type": "markdown",
   "metadata": {},
   "source": [
    "#### Testando o detector de similaridade"
   ]
  },
  {
   "cell_type": "code",
   "execution_count": 51,
   "metadata": {},
   "outputs": [
    {
     "name": "stdout",
     "output_type": "stream",
     "text": [
      "Projeto base:\n"
     ]
    },
    {
     "data": {
      "text/html": [
       "<div>\n",
       "<style scoped>\n",
       "    .dataframe tbody tr th:only-of-type {\n",
       "        vertical-align: middle;\n",
       "    }\n",
       "\n",
       "    .dataframe tbody tr th {\n",
       "        vertical-align: top;\n",
       "    }\n",
       "\n",
       "    .dataframe thead th {\n",
       "        text-align: right;\n",
       "    }\n",
       "</style>\n",
       "<table border=\"1\" class=\"dataframe\">\n",
       "  <thead>\n",
       "    <tr style=\"text-align: right;\">\n",
       "      <th></th>\n",
       "      <th>PRONAC</th>\n",
       "      <th>NomeProjeto</th>\n",
       "      <th>ResumoProjeto</th>\n",
       "    </tr>\n",
       "  </thead>\n",
       "  <tbody>\n",
       "    <tr>\n",
       "      <th>156065</th>\n",
       "      <td>128276</td>\n",
       "      <td>Santander Cultural - 2013 - Plano Anual de Ati...</td>\n",
       "      <td>O projeto Santander Cultural - 2013 - Plano An...</td>\n",
       "    </tr>\n",
       "  </tbody>\n",
       "</table>\n",
       "</div>"
      ],
      "text/plain": [
       "        PRONAC                                        NomeProjeto  \\\n",
       "156065  128276  Santander Cultural - 2013 - Plano Anual de Ati...   \n",
       "\n",
       "                                            ResumoProjeto  \n",
       "156065  O projeto Santander Cultural - 2013 - Plano An...  "
      ]
     },
     "metadata": {},
     "output_type": "display_data"
    },
    {
     "name": "stdout",
     "output_type": "stream",
     "text": [
      "\n",
      "Top projetos similares:\n"
     ]
    },
    {
     "data": {
      "text/html": [
       "<div>\n",
       "<style scoped>\n",
       "    .dataframe tbody tr th:only-of-type {\n",
       "        vertical-align: middle;\n",
       "    }\n",
       "\n",
       "    .dataframe tbody tr th {\n",
       "        vertical-align: top;\n",
       "    }\n",
       "\n",
       "    .dataframe thead th {\n",
       "        text-align: right;\n",
       "    }\n",
       "</style>\n",
       "<table border=\"1\" class=\"dataframe\">\n",
       "  <thead>\n",
       "    <tr style=\"text-align: right;\">\n",
       "      <th></th>\n",
       "      <th>PRONAC</th>\n",
       "      <th>NomeProjeto</th>\n",
       "      <th>ResumoProjeto</th>\n",
       "    </tr>\n",
       "  </thead>\n",
       "  <tbody>\n",
       "    <tr>\n",
       "      <th>156065</th>\n",
       "      <td>128276</td>\n",
       "      <td>Santander Cultural - 2013 - Plano Anual de Ati...</td>\n",
       "      <td>O projeto Santander Cultural - 2013 - Plano An...</td>\n",
       "    </tr>\n",
       "    <tr>\n",
       "      <th>155143</th>\n",
       "      <td>127354</td>\n",
       "      <td>Plano Anual de Atividades 2013</td>\n",
       "      <td>O projeto visa à manutenção do Instituto Vladi...</td>\n",
       "    </tr>\n",
       "    <tr>\n",
       "      <th>169062</th>\n",
       "      <td>1310899</td>\n",
       "      <td>Plano Anual de Atividades 2014</td>\n",
       "      <td>Planejamento de custeio das atividades e insum...</td>\n",
       "    </tr>\n",
       "    <tr>\n",
       "      <th>180338</th>\n",
       "      <td>1410622</td>\n",
       "      <td>Plano Anual de Atividades e Manutenção 2015 - ...</td>\n",
       "      <td>Plano Anual de Atividades e Manutenção do NAC ...</td>\n",
       "    </tr>\n",
       "    <tr>\n",
       "      <th>167469</th>\n",
       "      <td>139306</td>\n",
       "      <td>Plano Anual de Atividades e Manutenção 2014 - ...</td>\n",
       "      <td>Plano Anual de Atividades e Manutenção do NAC ...</td>\n",
       "    </tr>\n",
       "    <tr>\n",
       "      <th>109289</th>\n",
       "      <td>089376</td>\n",
       "      <td>Centro Cultural De Nhumirim</td>\n",
       "      <td>O objetivo principal a restauração da antiga E...</td>\n",
       "    </tr>\n",
       "    <tr>\n",
       "      <th>156777</th>\n",
       "      <td>128988</td>\n",
       "      <td>Plano Anual de Atividades 2013 do Parque Histó...</td>\n",
       "      <td>Planejamento de custeio das atividades e insum...</td>\n",
       "    </tr>\n",
       "    <tr>\n",
       "      <th>160099</th>\n",
       "      <td>131936</td>\n",
       "      <td>DVD Francis Lopes</td>\n",
       "      <td>Vamos gravar um DVD de Forró e músicas de Embo...</td>\n",
       "    </tr>\n",
       "    <tr>\n",
       "      <th>166491</th>\n",
       "      <td>138328</td>\n",
       "      <td>Plano Anual de Atividades 2014 - Museu Lasar S...</td>\n",
       "      <td>O projeto tem o objetivo de contemplar a manut...</td>\n",
       "    </tr>\n",
       "    <tr>\n",
       "      <th>133374</th>\n",
       "      <td>110537</td>\n",
       "      <td>Teatro e Centro Cultural Águas de Lindóia</td>\n",
       "      <td>O projeto “Teatro e Centro Cultural Águas de L...</td>\n",
       "    </tr>\n",
       "  </tbody>\n",
       "</table>\n",
       "</div>"
      ],
      "text/plain": [
       "         PRONAC                                        NomeProjeto  \\\n",
       "156065   128276  Santander Cultural - 2013 - Plano Anual de Ati...   \n",
       "155143   127354                     Plano Anual de Atividades 2013   \n",
       "169062  1310899                     Plano Anual de Atividades 2014   \n",
       "180338  1410622  Plano Anual de Atividades e Manutenção 2015 - ...   \n",
       "167469   139306  Plano Anual de Atividades e Manutenção 2014 - ...   \n",
       "109289   089376                        Centro Cultural De Nhumirim   \n",
       "156777   128988  Plano Anual de Atividades 2013 do Parque Histó...   \n",
       "160099   131936                                  DVD Francis Lopes   \n",
       "166491   138328  Plano Anual de Atividades 2014 - Museu Lasar S...   \n",
       "133374   110537          Teatro e Centro Cultural Águas de Lindóia   \n",
       "\n",
       "                                            ResumoProjeto  \n",
       "156065  O projeto Santander Cultural - 2013 - Plano An...  \n",
       "155143  O projeto visa à manutenção do Instituto Vladi...  \n",
       "169062  Planejamento de custeio das atividades e insum...  \n",
       "180338  Plano Anual de Atividades e Manutenção do NAC ...  \n",
       "167469  Plano Anual de Atividades e Manutenção do NAC ...  \n",
       "109289  O objetivo principal a restauração da antiga E...  \n",
       "156777  Planejamento de custeio das atividades e insum...  \n",
       "160099  Vamos gravar um DVD de Forró e músicas de Embo...  \n",
       "166491  O projeto tem o objetivo de contemplar a manut...  \n",
       "133374  O projeto “Teatro e Centro Cultural Águas de L...  "
      ]
     },
     "metadata": {},
     "output_type": "display_data"
    }
   ],
   "source": [
    "neighbors('128276')"
   ]
  },
  {
   "cell_type": "code",
   "execution_count": 52,
   "metadata": {},
   "outputs": [
    {
     "name": "stdout",
     "output_type": "stream",
     "text": [
      "Projeto base:\n"
     ]
    },
    {
     "data": {
      "text/html": [
       "<div>\n",
       "<style scoped>\n",
       "    .dataframe tbody tr th:only-of-type {\n",
       "        vertical-align: middle;\n",
       "    }\n",
       "\n",
       "    .dataframe tbody tr th {\n",
       "        vertical-align: top;\n",
       "    }\n",
       "\n",
       "    .dataframe thead th {\n",
       "        text-align: right;\n",
       "    }\n",
       "</style>\n",
       "<table border=\"1\" class=\"dataframe\">\n",
       "  <thead>\n",
       "    <tr style=\"text-align: right;\">\n",
       "      <th></th>\n",
       "      <th>PRONAC</th>\n",
       "      <th>NomeProjeto</th>\n",
       "      <th>ResumoProjeto</th>\n",
       "    </tr>\n",
       "  </thead>\n",
       "  <tbody>\n",
       "    <tr>\n",
       "      <th>0</th>\n",
       "      <td>087079</td>\n",
       "      <td>São Paulo; O que foi, O que era e o que é</td>\n",
       "      <td>Realização de exposição e de oficinas/debates,...</td>\n",
       "    </tr>\n",
       "  </tbody>\n",
       "</table>\n",
       "</div>"
      ],
      "text/plain": [
       "   PRONAC                                NomeProjeto  \\\n",
       "0  087079  São Paulo; O que foi, O que era e o que é   \n",
       "\n",
       "                                       ResumoProjeto  \n",
       "0  Realização de exposição e de oficinas/debates,...  "
      ]
     },
     "metadata": {},
     "output_type": "display_data"
    },
    {
     "name": "stdout",
     "output_type": "stream",
     "text": [
      "\n",
      "Top projetos similares:\n"
     ]
    },
    {
     "data": {
      "text/html": [
       "<div>\n",
       "<style scoped>\n",
       "    .dataframe tbody tr th:only-of-type {\n",
       "        vertical-align: middle;\n",
       "    }\n",
       "\n",
       "    .dataframe tbody tr th {\n",
       "        vertical-align: top;\n",
       "    }\n",
       "\n",
       "    .dataframe thead th {\n",
       "        text-align: right;\n",
       "    }\n",
       "</style>\n",
       "<table border=\"1\" class=\"dataframe\">\n",
       "  <thead>\n",
       "    <tr style=\"text-align: right;\">\n",
       "      <th></th>\n",
       "      <th>PRONAC</th>\n",
       "      <th>NomeProjeto</th>\n",
       "      <th>ResumoProjeto</th>\n",
       "    </tr>\n",
       "  </thead>\n",
       "  <tbody>\n",
       "    <tr>\n",
       "      <th>0</th>\n",
       "      <td>087079</td>\n",
       "      <td>São Paulo; O que foi, O que era e o que é</td>\n",
       "      <td>Realização de exposição e de oficinas/debates,...</td>\n",
       "    </tr>\n",
       "    <tr>\n",
       "      <th>23860</th>\n",
       "      <td>029127</td>\n",
       "      <td>Bagagem A Estória Que Cada Um Guarda</td>\n",
       "      <td>Realização de uma série de 30 programas, com 2...</td>\n",
       "    </tr>\n",
       "    <tr>\n",
       "      <th>84739</th>\n",
       "      <td>971994</td>\n",
       "      <td>Mas Que Reino É Esse?</td>\n",
       "      <td>Realização de montagem de comédia político-sar...</td>\n",
       "    </tr>\n",
       "    <tr>\n",
       "      <th>182935</th>\n",
       "      <td>1413219</td>\n",
       "      <td>SOCIALITES</td>\n",
       "      <td>Produção, montagem e temporada inicial de doze...</td>\n",
       "    </tr>\n",
       "    <tr>\n",
       "      <th>77654</th>\n",
       "      <td>086993</td>\n",
       "      <td>Projeto Midiateca</td>\n",
       "      <td>Catalogação, indexação e disponibilização de l...</td>\n",
       "    </tr>\n",
       "    <tr>\n",
       "      <th>165743</th>\n",
       "      <td>137580</td>\n",
       "      <td>SOCIALITES</td>\n",
       "      <td>Produção, montagem e temporada inicial de doze...</td>\n",
       "    </tr>\n",
       "    <tr>\n",
       "      <th>92058</th>\n",
       "      <td>983003</td>\n",
       "      <td>Educação Patrimonial</td>\n",
       "      <td>Realização de um curso de Educação Patrimonial...</td>\n",
       "    </tr>\n",
       "    <tr>\n",
       "      <th>17194</th>\n",
       "      <td>021712</td>\n",
       "      <td>Preguiça</td>\n",
       "      <td>Montagem da peça teatral \"Preguiça\", de Rodrig...</td>\n",
       "    </tr>\n",
       "    <tr>\n",
       "      <th>106198</th>\n",
       "      <td>0610084</td>\n",
       "      <td>Música em Comunidades</td>\n",
       "      <td>Contribuir para a inclusão sócio-cultural de c...</td>\n",
       "    </tr>\n",
       "    <tr>\n",
       "      <th>131656</th>\n",
       "      <td>1011679</td>\n",
       "      <td>Epidemia Franciscana</td>\n",
       "      <td>Montagem e apresentação de espetáculo teatral ...</td>\n",
       "    </tr>\n",
       "  </tbody>\n",
       "</table>\n",
       "</div>"
      ],
      "text/plain": [
       "         PRONAC                                NomeProjeto  \\\n",
       "0        087079  São Paulo; O que foi, O que era e o que é   \n",
       "23860    029127       Bagagem A Estória Que Cada Um Guarda   \n",
       "84739    971994                      Mas Que Reino É Esse?   \n",
       "182935  1413219                                 SOCIALITES   \n",
       "77654    086993                          Projeto Midiateca   \n",
       "165743   137580                                 SOCIALITES   \n",
       "92058    983003                       Educação Patrimonial   \n",
       "17194    021712                                   Preguiça   \n",
       "106198  0610084                      Música em Comunidades   \n",
       "131656  1011679                       Epidemia Franciscana   \n",
       "\n",
       "                                            ResumoProjeto  \n",
       "0       Realização de exposição e de oficinas/debates,...  \n",
       "23860   Realização de uma série de 30 programas, com 2...  \n",
       "84739   Realização de montagem de comédia político-sar...  \n",
       "182935  Produção, montagem e temporada inicial de doze...  \n",
       "77654   Catalogação, indexação e disponibilização de l...  \n",
       "165743  Produção, montagem e temporada inicial de doze...  \n",
       "92058   Realização de um curso de Educação Patrimonial...  \n",
       "17194   Montagem da peça teatral \"Preguiça\", de Rodrig...  \n",
       "106198  Contribuir para a inclusão sócio-cultural de c...  \n",
       "131656  Montagem e apresentação de espetáculo teatral ...  "
      ]
     },
     "metadata": {},
     "output_type": "display_data"
    }
   ],
   "source": [
    "neighbors('087079')"
   ]
  },
  {
   "cell_type": "markdown",
   "metadata": {},
   "source": [
    "### Quarto modelo: nomes do projetos e TF-IDF dos resumos dos projetos\n",
    "\n",
    "O quarto modelo de identificação de projetos similares vai levar em consideração o nome e a descrição dos projetos. Após as etapas de pré-processamento, será utilizada a técnica BoW (_Bag of Words_) nos nomes e a TF-IDF (_Term Frequency - Inverse Document Frequency_) nos resumos dos projetos."
   ]
  },
  {
   "cell_type": "markdown",
   "metadata": {},
   "source": [
    "#### Extração do nome e resumo dos projetos"
   ]
  },
  {
   "cell_type": "code",
   "execution_count": 53,
   "metadata": {},
   "outputs": [
    {
     "data": {
      "text/html": [
       "<div>\n",
       "<style scoped>\n",
       "    .dataframe tbody tr th:only-of-type {\n",
       "        vertical-align: middle;\n",
       "    }\n",
       "\n",
       "    .dataframe tbody tr th {\n",
       "        vertical-align: top;\n",
       "    }\n",
       "\n",
       "    .dataframe thead th {\n",
       "        text-align: right;\n",
       "    }\n",
       "</style>\n",
       "<table border=\"1\" class=\"dataframe\">\n",
       "  <thead>\n",
       "    <tr style=\"text-align: right;\">\n",
       "      <th></th>\n",
       "      <th>name</th>\n",
       "      <th>abstract</th>\n",
       "    </tr>\n",
       "    <tr>\n",
       "      <th>id</th>\n",
       "      <th></th>\n",
       "      <th></th>\n",
       "    </tr>\n",
       "  </thead>\n",
       "  <tbody>\n",
       "    <tr>\n",
       "      <th>087079</th>\n",
       "      <td>São Paulo; O que foi, O que era e o que é</td>\n",
       "      <td>Realização de exposição e de oficinas/debates,...</td>\n",
       "    </tr>\n",
       "    <tr>\n",
       "      <th>087088</th>\n",
       "      <td>Espaço Cultural FGV</td>\n",
       "      <td>Visa instalar um espaço cultural, afim de adeq...</td>\n",
       "    </tr>\n",
       "    <tr>\n",
       "      <th>087413</th>\n",
       "      <td>Revitalização do Teatro Redenção</td>\n",
       "      <td>Executar as obras de restauração e adaptação p...</td>\n",
       "    </tr>\n",
       "    <tr>\n",
       "      <th>087262</th>\n",
       "      <td>Cinema Itinerante   Continuação</td>\n",
       "      <td>Realização de exibição itinerante de filmes br...</td>\n",
       "    </tr>\n",
       "    <tr>\n",
       "      <th>029740</th>\n",
       "      <td>Brasil Passado a Sujo</td>\n",
       "      <td>Realizar na Praça do Espaço Cultural dos Corre...</td>\n",
       "    </tr>\n",
       "  </tbody>\n",
       "</table>\n",
       "</div>"
      ],
      "text/plain": [
       "                                             name  \\\n",
       "id                                                  \n",
       "087079  São Paulo; O que foi, O que era e o que é   \n",
       "087088                        Espaço Cultural FGV   \n",
       "087413           Revitalização do Teatro Redenção   \n",
       "087262            Cinema Itinerante   Continuação   \n",
       "029740                      Brasil Passado a Sujo   \n",
       "\n",
       "                                                 abstract  \n",
       "id                                                         \n",
       "087079  Realização de exposição e de oficinas/debates,...  \n",
       "087088  Visa instalar um espaço cultural, afim de adeq...  \n",
       "087413  Executar as obras de restauração e adaptação p...  \n",
       "087262  Realização de exibição itinerante de filmes br...  \n",
       "029740  Realizar na Praça do Espaço Cultural dos Corre...  "
      ]
     },
     "execution_count": 53,
     "metadata": {},
     "output_type": "execute_result"
    }
   ],
   "source": [
    "projects = df[['PRONAC', 'NomeProjeto', 'ResumoProjeto']].copy()\n",
    "projects.rename(inplace=True, columns={\n",
    "    'PRONAC': 'id',\n",
    "    'NomeProjeto': 'name',\n",
    "    'ResumoProjeto': 'abstract'\n",
    "})\n",
    "projects.set_index('id', inplace=True)\n",
    "projects['name'] = projects['name'].astype('str')\n",
    "projects['abstract'] = projects['abstract'].astype('str')\n",
    "projects.head()"
   ]
  },
  {
   "cell_type": "markdown",
   "metadata": {},
   "source": [
    "#### Pré-processamento de texto"
   ]
  },
  {
   "cell_type": "code",
   "execution_count": 54,
   "metadata": {},
   "outputs": [
    {
     "name": "stdout",
     "output_type": "stream",
     "text": [
      "Column: name\n",
      "Removing special characters...\n",
      "Converting characters to lower...\n",
      "Getting collocations...\n",
      "Tokenizing text...\n",
      "Removing stopwords...\n",
      "Stemming...\n",
      "Done\n",
      "\n",
      "Column: abstract\n",
      "Removing special characters...\n",
      "Converting characters to lower...\n",
      "Getting collocations...\n",
      "Tokenizing text...\n",
      "Removing stopwords...\n",
      "Stemming...\n",
      "Done\n",
      "\n"
     ]
    },
    {
     "data": {
      "text/html": [
       "<div>\n",
       "<style scoped>\n",
       "    .dataframe tbody tr th:only-of-type {\n",
       "        vertical-align: middle;\n",
       "    }\n",
       "\n",
       "    .dataframe tbody tr th {\n",
       "        vertical-align: top;\n",
       "    }\n",
       "\n",
       "    .dataframe thead th {\n",
       "        text-align: right;\n",
       "    }\n",
       "</style>\n",
       "<table border=\"1\" class=\"dataframe\">\n",
       "  <thead>\n",
       "    <tr style=\"text-align: right;\">\n",
       "      <th></th>\n",
       "      <th>name</th>\n",
       "      <th>abstract</th>\n",
       "    </tr>\n",
       "    <tr>\n",
       "      <th>id</th>\n",
       "      <th></th>\n",
       "      <th></th>\n",
       "    </tr>\n",
       "  </thead>\n",
       "  <tbody>\n",
       "    <tr>\n",
       "      <th>087079</th>\n",
       "      <td>[são_paul, é]</td>\n",
       "      <td>[realiz, expos, oficin, debat, dur, mê, mus, e...</td>\n",
       "    </tr>\n",
       "    <tr>\n",
       "      <th>087088</th>\n",
       "      <td>[espaço_cult, fgv]</td>\n",
       "      <td>[vis, instal, espaço_cult, afim, adequ, instal...</td>\n",
       "    </tr>\n",
       "    <tr>\n",
       "      <th>087413</th>\n",
       "      <td>[revit, teatr, redenç]</td>\n",
       "      <td>[execut, obr, restaur, adapt, cri, espaç, mult...</td>\n",
       "    </tr>\n",
       "    <tr>\n",
       "      <th>087262</th>\n",
       "      <td>[cinema_itiner, continu]</td>\n",
       "      <td>[realiz, exib, itiner, film, brasil, 480, sess...</td>\n",
       "    </tr>\n",
       "    <tr>\n",
       "      <th>029740</th>\n",
       "      <td>[brasil, pass, suj]</td>\n",
       "      <td>[realiz, praç, espaço_cult, correi, rio, jan, ...</td>\n",
       "    </tr>\n",
       "  </tbody>\n",
       "</table>\n",
       "</div>"
      ],
      "text/plain": [
       "                            name  \\\n",
       "id                                 \n",
       "087079             [são_paul, é]   \n",
       "087088        [espaço_cult, fgv]   \n",
       "087413    [revit, teatr, redenç]   \n",
       "087262  [cinema_itiner, continu]   \n",
       "029740       [brasil, pass, suj]   \n",
       "\n",
       "                                                 abstract  \n",
       "id                                                         \n",
       "087079  [realiz, expos, oficin, debat, dur, mê, mus, e...  \n",
       "087088  [vis, instal, espaço_cult, afim, adequ, instal...  \n",
       "087413  [execut, obr, restaur, adapt, cri, espaç, mult...  \n",
       "087262  [realiz, exib, itiner, film, brasil, 480, sess...  \n",
       "029740  [realiz, praç, espaço_cult, correi, rio, jan, ...  "
      ]
     },
     "execution_count": 54,
     "metadata": {},
     "output_type": "execute_result"
    }
   ],
   "source": [
    "for col in ['name', 'abstract']:\n",
    "    print('Column: ' + col)\n",
    "    print('Removing special characters...')\n",
    "    projects[col] = projects[col].apply(rm_special_chars)\n",
    "    print('Converting characters to lower...')\n",
    "    projects[col] = projects[col].apply(to_lower)\n",
    "    print('Getting collocations...')\n",
    "    collocations = get_collocations(projects[col])\n",
    "    print('Tokenizing text...')\n",
    "    projects[col] = projects[col].apply(tokenize)\n",
    "    print('Removing stopwords...')\n",
    "    projects[col] = projects[col].apply(rm_stopwords)\n",
    "    print('Stemming...')\n",
    "    projects[col] = projects[col].apply(stem)\n",
    "    print('Done\\n')\n",
    "\n",
    "projects.head()"
   ]
  },
  {
   "cell_type": "markdown",
   "metadata": {},
   "source": [
    "#### Criação das features do detector de similaridade"
   ]
  },
  {
   "cell_type": "code",
   "execution_count": 55,
   "metadata": {},
   "outputs": [
    {
     "name": "stdout",
     "output_type": "stream",
     "text": [
      "(69569, 1000)\n"
     ]
    },
    {
     "data": {
      "text/plain": [
       "array([[0.        , 0.        , 0.        , ..., 0.        , 0.        ,\n",
       "        0.        ],\n",
       "       [0.        , 0.        , 0.        , ..., 0.        , 0.        ,\n",
       "        0.34120932],\n",
       "       [0.        , 0.        , 0.        , ..., 0.        , 0.        ,\n",
       "        0.        ],\n",
       "       ...,\n",
       "       [0.        , 0.        , 0.        , ..., 0.        , 0.        ,\n",
       "        0.        ],\n",
       "       [0.        , 0.        , 0.        , ..., 0.        , 0.        ,\n",
       "        0.        ],\n",
       "       [0.        , 0.        , 0.        , ..., 0.        , 0.        ,\n",
       "        0.        ]])"
      ]
     },
     "execution_count": 55,
     "metadata": {},
     "output_type": "execute_result"
    }
   ],
   "source": [
    "data = projects['name'].apply(lambda x: ' '.join(x)).values\n",
    "matrix_name = CountVectorizer(max_features=500)\n",
    "X_name = matrix_name.fit_transform(data).toarray()\n",
    "\n",
    "data = projects['abstract'].apply(lambda x: ' '.join(x)).values\n",
    "matrix_abstract = TfidfVectorizer(max_features=500)\n",
    "X_abstract = matrix_abstract.fit_transform(data).toarray()\n",
    "\n",
    "X = np.hstack([X_name, X_abstract])\n",
    "print(X.shape)\n",
    "X"
   ]
  },
  {
   "cell_type": "markdown",
   "metadata": {},
   "source": [
    "#### Testando o detector de similaridade"
   ]
  },
  {
   "cell_type": "code",
   "execution_count": 56,
   "metadata": {},
   "outputs": [
    {
     "name": "stdout",
     "output_type": "stream",
     "text": [
      "Projeto base:\n"
     ]
    },
    {
     "data": {
      "text/html": [
       "<div>\n",
       "<style scoped>\n",
       "    .dataframe tbody tr th:only-of-type {\n",
       "        vertical-align: middle;\n",
       "    }\n",
       "\n",
       "    .dataframe tbody tr th {\n",
       "        vertical-align: top;\n",
       "    }\n",
       "\n",
       "    .dataframe thead th {\n",
       "        text-align: right;\n",
       "    }\n",
       "</style>\n",
       "<table border=\"1\" class=\"dataframe\">\n",
       "  <thead>\n",
       "    <tr style=\"text-align: right;\">\n",
       "      <th></th>\n",
       "      <th>PRONAC</th>\n",
       "      <th>NomeProjeto</th>\n",
       "      <th>ResumoProjeto</th>\n",
       "    </tr>\n",
       "  </thead>\n",
       "  <tbody>\n",
       "    <tr>\n",
       "      <th>156065</th>\n",
       "      <td>128276</td>\n",
       "      <td>Santander Cultural - 2013 - Plano Anual de Ati...</td>\n",
       "      <td>O projeto Santander Cultural - 2013 - Plano An...</td>\n",
       "    </tr>\n",
       "  </tbody>\n",
       "</table>\n",
       "</div>"
      ],
      "text/plain": [
       "        PRONAC                                        NomeProjeto  \\\n",
       "156065  128276  Santander Cultural - 2013 - Plano Anual de Ati...   \n",
       "\n",
       "                                            ResumoProjeto  \n",
       "156065  O projeto Santander Cultural - 2013 - Plano An...  "
      ]
     },
     "metadata": {},
     "output_type": "display_data"
    },
    {
     "name": "stdout",
     "output_type": "stream",
     "text": [
      "\n",
      "Top projetos similares:\n"
     ]
    },
    {
     "data": {
      "text/html": [
       "<div>\n",
       "<style scoped>\n",
       "    .dataframe tbody tr th:only-of-type {\n",
       "        vertical-align: middle;\n",
       "    }\n",
       "\n",
       "    .dataframe tbody tr th {\n",
       "        vertical-align: top;\n",
       "    }\n",
       "\n",
       "    .dataframe thead th {\n",
       "        text-align: right;\n",
       "    }\n",
       "</style>\n",
       "<table border=\"1\" class=\"dataframe\">\n",
       "  <thead>\n",
       "    <tr style=\"text-align: right;\">\n",
       "      <th></th>\n",
       "      <th>PRONAC</th>\n",
       "      <th>NomeProjeto</th>\n",
       "      <th>ResumoProjeto</th>\n",
       "    </tr>\n",
       "  </thead>\n",
       "  <tbody>\n",
       "    <tr>\n",
       "      <th>156065</th>\n",
       "      <td>128276</td>\n",
       "      <td>Santander Cultural - 2013 - Plano Anual de Ati...</td>\n",
       "      <td>O projeto Santander Cultural - 2013 - Plano An...</td>\n",
       "    </tr>\n",
       "    <tr>\n",
       "      <th>155915</th>\n",
       "      <td>128126</td>\n",
       "      <td>Plano Anual de Atividades Cultura 2013</td>\n",
       "      <td>O projeto Plano Anual de Atividades Cultura 20...</td>\n",
       "    </tr>\n",
       "    <tr>\n",
       "      <th>156102</th>\n",
       "      <td>128313</td>\n",
       "      <td>Plano Anual de Atividades 2013 - Itaú Cultural</td>\n",
       "      <td>Dar continuidade com as atividades do Institut...</td>\n",
       "    </tr>\n",
       "    <tr>\n",
       "      <th>155143</th>\n",
       "      <td>127354</td>\n",
       "      <td>Plano Anual de Atividades 2013</td>\n",
       "      <td>O projeto visa à manutenção do Instituto Vladi...</td>\n",
       "    </tr>\n",
       "    <tr>\n",
       "      <th>156223</th>\n",
       "      <td>128434</td>\n",
       "      <td>Plano Anual de Atividades Poiesis 2013</td>\n",
       "      <td>O Plano Anual de Atividades Poiesis 2013 tem c...</td>\n",
       "    </tr>\n",
       "    <tr>\n",
       "      <th>154531</th>\n",
       "      <td>126742</td>\n",
       "      <td>Plano Anual de Atividades do Centro de Cultura...</td>\n",
       "      <td>O Plano Anual de Atividades do Centro de Cultu...</td>\n",
       "    </tr>\n",
       "    <tr>\n",
       "      <th>155652</th>\n",
       "      <td>127863</td>\n",
       "      <td>Plano Anual de Atividades Santa Marcelina Cult...</td>\n",
       "      <td>O projeto trata do \"Plano Anual de Atividades ...</td>\n",
       "    </tr>\n",
       "    <tr>\n",
       "      <th>156105</th>\n",
       "      <td>128316</td>\n",
       "      <td>Plano Anual de Atividades 2013</td>\n",
       "      <td>Trata-se do Plano Anual de Atividades do Centr...</td>\n",
       "    </tr>\n",
       "    <tr>\n",
       "      <th>156959</th>\n",
       "      <td>129170</td>\n",
       "      <td>Plano Anual de Atividades 2013</td>\n",
       "      <td>Projeto para manutenção da sede de atividades ...</td>\n",
       "    </tr>\n",
       "    <tr>\n",
       "      <th>154625</th>\n",
       "      <td>126836</td>\n",
       "      <td>Plano Anual de Atividades Osesp 2013</td>\n",
       "      <td>Dar continuidade às atividades regulares da Fu...</td>\n",
       "    </tr>\n",
       "  </tbody>\n",
       "</table>\n",
       "</div>"
      ],
      "text/plain": [
       "        PRONAC                                        NomeProjeto  \\\n",
       "156065  128276  Santander Cultural - 2013 - Plano Anual de Ati...   \n",
       "155915  128126             Plano Anual de Atividades Cultura 2013   \n",
       "156102  128313     Plano Anual de Atividades 2013 - Itaú Cultural   \n",
       "155143  127354                     Plano Anual de Atividades 2013   \n",
       "156223  128434             Plano Anual de Atividades Poiesis 2013   \n",
       "154531  126742  Plano Anual de Atividades do Centro de Cultura...   \n",
       "155652  127863  Plano Anual de Atividades Santa Marcelina Cult...   \n",
       "156105  128316                     Plano Anual de Atividades 2013   \n",
       "156959  129170                     Plano Anual de Atividades 2013   \n",
       "154625  126836               Plano Anual de Atividades Osesp 2013   \n",
       "\n",
       "                                            ResumoProjeto  \n",
       "156065  O projeto Santander Cultural - 2013 - Plano An...  \n",
       "155915  O projeto Plano Anual de Atividades Cultura 20...  \n",
       "156102  Dar continuidade com as atividades do Institut...  \n",
       "155143  O projeto visa à manutenção do Instituto Vladi...  \n",
       "156223  O Plano Anual de Atividades Poiesis 2013 tem c...  \n",
       "154531  O Plano Anual de Atividades do Centro de Cultu...  \n",
       "155652  O projeto trata do \"Plano Anual de Atividades ...  \n",
       "156105  Trata-se do Plano Anual de Atividades do Centr...  \n",
       "156959  Projeto para manutenção da sede de atividades ...  \n",
       "154625  Dar continuidade às atividades regulares da Fu...  "
      ]
     },
     "metadata": {},
     "output_type": "display_data"
    }
   ],
   "source": [
    "neighbors('128276')"
   ]
  },
  {
   "cell_type": "code",
   "execution_count": 57,
   "metadata": {},
   "outputs": [
    {
     "name": "stdout",
     "output_type": "stream",
     "text": [
      "Projeto base:\n"
     ]
    },
    {
     "data": {
      "text/html": [
       "<div>\n",
       "<style scoped>\n",
       "    .dataframe tbody tr th:only-of-type {\n",
       "        vertical-align: middle;\n",
       "    }\n",
       "\n",
       "    .dataframe tbody tr th {\n",
       "        vertical-align: top;\n",
       "    }\n",
       "\n",
       "    .dataframe thead th {\n",
       "        text-align: right;\n",
       "    }\n",
       "</style>\n",
       "<table border=\"1\" class=\"dataframe\">\n",
       "  <thead>\n",
       "    <tr style=\"text-align: right;\">\n",
       "      <th></th>\n",
       "      <th>PRONAC</th>\n",
       "      <th>NomeProjeto</th>\n",
       "      <th>ResumoProjeto</th>\n",
       "    </tr>\n",
       "  </thead>\n",
       "  <tbody>\n",
       "    <tr>\n",
       "      <th>0</th>\n",
       "      <td>087079</td>\n",
       "      <td>São Paulo; O que foi, O que era e o que é</td>\n",
       "      <td>Realização de exposição e de oficinas/debates,...</td>\n",
       "    </tr>\n",
       "  </tbody>\n",
       "</table>\n",
       "</div>"
      ],
      "text/plain": [
       "   PRONAC                                NomeProjeto  \\\n",
       "0  087079  São Paulo; O que foi, O que era e o que é   \n",
       "\n",
       "                                       ResumoProjeto  \n",
       "0  Realização de exposição e de oficinas/debates,...  "
      ]
     },
     "metadata": {},
     "output_type": "display_data"
    },
    {
     "name": "stdout",
     "output_type": "stream",
     "text": [
      "\n",
      "Top projetos similares:\n"
     ]
    },
    {
     "data": {
      "text/html": [
       "<div>\n",
       "<style scoped>\n",
       "    .dataframe tbody tr th:only-of-type {\n",
       "        vertical-align: middle;\n",
       "    }\n",
       "\n",
       "    .dataframe tbody tr th {\n",
       "        vertical-align: top;\n",
       "    }\n",
       "\n",
       "    .dataframe thead th {\n",
       "        text-align: right;\n",
       "    }\n",
       "</style>\n",
       "<table border=\"1\" class=\"dataframe\">\n",
       "  <thead>\n",
       "    <tr style=\"text-align: right;\">\n",
       "      <th></th>\n",
       "      <th>PRONAC</th>\n",
       "      <th>NomeProjeto</th>\n",
       "      <th>ResumoProjeto</th>\n",
       "    </tr>\n",
       "  </thead>\n",
       "  <tbody>\n",
       "    <tr>\n",
       "      <th>0</th>\n",
       "      <td>087079</td>\n",
       "      <td>São Paulo; O que foi, O que era e o que é</td>\n",
       "      <td>Realização de exposição e de oficinas/debates,...</td>\n",
       "    </tr>\n",
       "    <tr>\n",
       "      <th>152295</th>\n",
       "      <td>124506</td>\n",
       "      <td>ARTEANDO SÃO PAULO</td>\n",
       "      <td>O Projeto acontecerá durante 12 meses de ofici...</td>\n",
       "    </tr>\n",
       "    <tr>\n",
       "      <th>177277</th>\n",
       "      <td>147561</td>\n",
       "      <td>Exposição - Arte Ocupa Lisboa, Paris....e tamb...</td>\n",
       "      <td>O projeto “Arte Ocupa Lisboa, Paris ...e també...</td>\n",
       "    </tr>\n",
       "    <tr>\n",
       "      <th>33971</th>\n",
       "      <td>042326</td>\n",
       "      <td>São Paulo</td>\n",
       "      <td>Reedição (quarta edição) do livro lançado pela...</td>\n",
       "    </tr>\n",
       "    <tr>\n",
       "      <th>118546</th>\n",
       "      <td>097458</td>\n",
       "      <td>EXPERIMENTA, São Paulo</td>\n",
       "      <td>EXPERIMENTA, São Paulo é um festival internaci...</td>\n",
       "    </tr>\n",
       "    <tr>\n",
       "      <th>155775</th>\n",
       "      <td>127986</td>\n",
       "      <td>Idea City São Paulo</td>\n",
       "      <td>Idea City SP, propõe a realização de uma confe...</td>\n",
       "    </tr>\n",
       "    <tr>\n",
       "      <th>132727</th>\n",
       "      <td>1012750</td>\n",
       "      <td>Conheça a Itália sem sair de São Paulo</td>\n",
       "      <td>O projeto visa a elaboração de roteiros cultur...</td>\n",
       "    </tr>\n",
       "    <tr>\n",
       "      <th>165878</th>\n",
       "      <td>137715</td>\n",
       "      <td>Vitrinas: História, Arte e Consumo em São Paulo</td>\n",
       "      <td>O livro tem como proposta reconstituir uma par...</td>\n",
       "    </tr>\n",
       "    <tr>\n",
       "      <th>117476</th>\n",
       "      <td>096388</td>\n",
       "      <td>Despertar da Primavera em São Paulo</td>\n",
       "      <td>O presente projeto trata da produção da peça t...</td>\n",
       "    </tr>\n",
       "    <tr>\n",
       "      <th>92957</th>\n",
       "      <td>984748</td>\n",
       "      <td>São Paulo dos Demônios</td>\n",
       "      <td>Filme, média-metragem,que  mostra as relações ...</td>\n",
       "    </tr>\n",
       "  </tbody>\n",
       "</table>\n",
       "</div>"
      ],
      "text/plain": [
       "         PRONAC                                        NomeProjeto  \\\n",
       "0        087079          São Paulo; O que foi, O que era e o que é   \n",
       "152295   124506                                 ARTEANDO SÃO PAULO   \n",
       "177277   147561  Exposição - Arte Ocupa Lisboa, Paris....e tamb...   \n",
       "33971    042326                                          São Paulo   \n",
       "118546   097458                             EXPERIMENTA, São Paulo   \n",
       "155775   127986                                Idea City São Paulo   \n",
       "132727  1012750             Conheça a Itália sem sair de São Paulo   \n",
       "165878   137715    Vitrinas: História, Arte e Consumo em São Paulo   \n",
       "117476   096388                Despertar da Primavera em São Paulo   \n",
       "92957    984748                             São Paulo dos Demônios   \n",
       "\n",
       "                                            ResumoProjeto  \n",
       "0       Realização de exposição e de oficinas/debates,...  \n",
       "152295  O Projeto acontecerá durante 12 meses de ofici...  \n",
       "177277  O projeto “Arte Ocupa Lisboa, Paris ...e també...  \n",
       "33971   Reedição (quarta edição) do livro lançado pela...  \n",
       "118546  EXPERIMENTA, São Paulo é um festival internaci...  \n",
       "155775  Idea City SP, propõe a realização de uma confe...  \n",
       "132727  O projeto visa a elaboração de roteiros cultur...  \n",
       "165878  O livro tem como proposta reconstituir uma par...  \n",
       "117476  O presente projeto trata da produção da peça t...  \n",
       "92957   Filme, média-metragem,que  mostra as relações ...  "
      ]
     },
     "metadata": {},
     "output_type": "display_data"
    }
   ],
   "source": [
    "neighbors('087079')"
   ]
  },
  {
   "cell_type": "markdown",
   "metadata": {},
   "source": [
    "---\n",
    "## Resultados e Conclusões\n",
    "\n",
    "Foram analisados dois datasets: uma planilha de itens orçamentários e uma planilha de projetos culturais. Ambas as planilhas contém diversos dados numéricos, porém, não muitos textuais. Além disso, a maioria dos dados textuais são, na verdade, categóricos e, por isso, não foram utilizados, já que o notebook se trata de um estudo sobre as features textuais dos projeto culturais.\n",
    "\n",
    "A primeira planilha, itens orçamentários, não chegou a ser utilizada nos modelos de detecção de similaridade, contudo, várias de suas features foram analisadas e um resumo das features textuais do dataset foi colocado ao final da análise.\n",
    "\n",
    "A segunda planilha, projetos culturais, contém mais informações textuais, principalmente o nome e resumo dos projetos culturais, informações que foram amplamente analisadas e utilizadas neste notebook. Além dessas features, várias informações textuais foram analisadas e um resumo foi colocado ao final da análise, na etapa de preparação.\n",
    "\n",
    "Com relação aos modelos, é preferível a utilização dos modelos com pré-processamento de dados, uma vez que:\n",
    "\n",
    "1. Reduzem a quantidade de palavras distintas: o aumento da quantidade de palavras distintas torna o algoritmo proibitivo em questão de tempo e espaço;\n",
    "1. Padronizam as palavras: palavras parecidas/com o mesmo significado devem ser vistas como uma única feature, contudo, sem o pré-processamento, palavras como \"Brasil\" e \"brasileiro\" sào tratadas como totalmente distintas.\n",
    "\n",
    "Além disso, é preferível a utilização dos modelos que envolvem as features nome e resumo, pois, assim, os modelos têm mais informações para identificar similaridade entre os projetos.\n",
    "\n",
    "Por fim, o modelo mais robusto tende a ser o último, que realiza o pré-processamento em ambas as features de nome e resumo, e utiliza tanto o BoW quanto o TF-IDF para extrair as features que serão de fato utilizadas no detector. Contudo, não é possível medir a qualidade dos modelos implementados apenas com os testes realizados neste notebook."
   ]
  }
 ],
 "metadata": {
  "kernelspec": {
   "display_name": "Python 3",
   "language": "python",
   "name": "python3"
  },
  "language_info": {
   "codemirror_mode": {
    "name": "ipython",
    "version": 3
   },
   "file_extension": ".py",
   "mimetype": "text/x-python",
   "name": "python",
   "nbconvert_exporter": "python",
   "pygments_lexer": "ipython3",
   "version": "3.5.2"
  }
 },
 "nbformat": 4,
 "nbformat_minor": 2
}
